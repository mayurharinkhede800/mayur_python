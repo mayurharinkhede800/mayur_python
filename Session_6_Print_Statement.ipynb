{
 "cells": [
  {
   "cell_type": "code",
   "execution_count": 1,
   "id": "dee48f76-9c3a-4030-bf03-7722923e1b15",
   "metadata": {},
   "outputs": [
    {
     "data": {
      "text/plain": [
       "20"
      ]
     },
     "execution_count": 1,
     "metadata": {},
     "output_type": "execute_result"
    }
   ],
   "source": [
    "a = 10\n",
    "b = 20 \n",
    "a \n",
    "b"
   ]
  },
  {
   "cell_type": "code",
   "execution_count": 2,
   "id": "23b1b3ee-2bd9-4fd2-a6f8-d53869da6612",
   "metadata": {},
   "outputs": [
    {
     "name": "stdout",
     "output_type": "stream",
     "text": [
      "10\n",
      "20\n"
     ]
    }
   ],
   "source": [
    "a = 10\n",
    "b = 20 \n",
    "print(a)\n",
    "print(b)"
   ]
  },
  {
   "cell_type": "code",
   "execution_count": 3,
   "id": "ce2606de-c059-4566-ace7-1fd0da73df20",
   "metadata": {},
   "outputs": [
    {
     "name": "stdout",
     "output_type": "stream",
     "text": [
      "10\n",
      "20\n"
     ]
    }
   ],
   "source": [
    "print(10)\n",
    "print(20)"
   ]
  },
  {
   "cell_type": "code",
   "execution_count": 4,
   "id": "b089d718-6639-4eb6-b570-39d02aebac55",
   "metadata": {},
   "outputs": [
    {
     "name": "stdout",
     "output_type": "stream",
     "text": [
      "10\n",
      "20\n"
     ]
    },
    {
     "data": {
      "text/plain": [
       "(None, None)"
      ]
     },
     "execution_count": 4,
     "metadata": {},
     "output_type": "execute_result"
    }
   ],
   "source": [
    "print(10),print(20)"
   ]
  },
  {
   "cell_type": "code",
   "execution_count": 5,
   "id": "5062b929-98d5-4e68-a4f8-955a83a875e6",
   "metadata": {},
   "outputs": [
    {
     "data": {
      "text/plain": [
       "(10, 20)"
      ]
     },
     "execution_count": 5,
     "metadata": {},
     "output_type": "execute_result"
    }
   ],
   "source": [
    "10,20"
   ]
  },
  {
   "cell_type": "code",
   "execution_count": 6,
   "id": "50e00b4c-296c-4aa6-92a0-09ba8f8fa277",
   "metadata": {},
   "outputs": [
    {
     "name": "stdout",
     "output_type": "stream",
     "text": [
      "10 20\n"
     ]
    }
   ],
   "source": [
    "print(a,b)"
   ]
  },
  {
   "cell_type": "code",
   "execution_count": 7,
   "id": "ca46eb1c-d511-4f4f-ac8d-a95d2ea402ab",
   "metadata": {},
   "outputs": [
    {
     "name": "stdout",
     "output_type": "stream",
     "text": [
      "30 NareshIT hyd\n"
     ]
    }
   ],
   "source": [
    "print(30,'NareshIT','hyd')\n",
    "#three values "
   ]
  },
  {
   "cell_type": "code",
   "execution_count": 9,
   "id": "ae2a711a-f9b6-46dc-a010-e7db2b91822b",
   "metadata": {},
   "outputs": [
    {
     "name": "stdout",
     "output_type": "stream",
     "text": [
      "addition of 100 and 200 is 300\n",
      "addition of 100 and 200 is 300\n",
      "addition of  1000 and  200 is 1200\n"
     ]
    }
   ],
   "source": [
    "num1 = 1000\n",
    "num2=200\n",
    "add = num1 + num2\n",
    "#addition of 100 and 200 is 300\n",
    "print(\"addition of 100 and 200 is 300\")\n",
    "print(\"addition of 100 and 200 is 300\")\n",
    "print(\"addition of \",num1 ,\"and \",num2 ,\"is\",add)\n"
   ]
  },
  {
   "cell_type": "code",
   "execution_count": 22,
   "id": "35fb7397-311f-4ab8-a0bc-26cb04c84545",
   "metadata": {},
   "outputs": [
    {
     "name": "stdout",
     "output_type": "stream",
     "text": [
      "My name is  Python I'm  10 years old and came from city  hyd\n",
      "my name is Python im 10 years old and came from hyd\n"
     ]
    }
   ],
   "source": [
    "name = \"Python\"\n",
    "age = 10 \n",
    "city = \"hyd\"\n",
    "print(\"My name is \",name,\"I'm \",age,\"years old and came from city \",city) \n",
    "print(\"my name is {} im {} years old and came from {}\".format(name,age,city))\n"
   ]
  },
  {
   "cell_type": "code",
   "execution_count": 23,
   "id": "c728523c-faef-46a5-89d5-2b4bb7d5409c",
   "metadata": {},
   "outputs": [
    {
     "name": "stdout",
     "output_type": "stream",
     "text": [
      "The addition of 1000 and 200 is 1200 \n"
     ]
    }
   ],
   "source": [
    "num1 = 100\n",
    "num2=200\n",
    "add = num1 + num2\n",
    "print(\"The addition of {} and {} is {} \".format(num1,num2,add))"
   ]
  },
  {
   "cell_type": "code",
   "execution_count": 39,
   "id": "d0883836-ae86-4cc7-b75c-4636235925e8",
   "metadata": {},
   "outputs": [
    {
     "name": "stdout",
     "output_type": "stream",
     "text": [
      "===================Addition================\n",
      "addition of 1000 and 200 is 1200\n",
      "==========Substraction============\n",
      "The substraction of 100 and 200 is -100\n",
      "================Multiplication=============\n",
      "The multiplication of 100 and 200 is 20000\n",
      "====================division===============\n",
      "The division of 100 and 200 is 0.5\n",
      "================avg==============\n",
      "The average of a , b ,c  20.0\n",
      "The average of 10 20 30 is 20.0 \n"
     ]
    }
   ],
   "source": [
    "#wap take two numbers \n",
    "print(\"===================Addition================\")\n",
    "num1 = 1000\n",
    "num2=200\n",
    "add = num1 + num2\n",
    "#addition of 100 and 200 is 300\n",
    "print(f\"addition of {num1} and {num2} is {add}\")\n",
    "print(\"==========Substraction============\")\n",
    "num1 = 100\n",
    "num2 =200\n",
    "sub = num1 - num2\n",
    "print(\"The substraction of {} and {} is {}\".format(num1, num2 ,sub))\n",
    "print(\"================Multiplication=============\")\n",
    "num1 = 100\n",
    "num2 =200\n",
    "mul = num1 * num2 \n",
    "print(\"The multiplication of {} and {} is {}\".format(num1 ,num2,mul))\n",
    "print(\"====================division===============\")\n",
    "num1 = 100\n",
    "num2 =200\n",
    "div = num1 / num2\n",
    "print(\"The division of {} and {} is {}\".format(num1 ,num2,div))\n",
    "print(\"================avg==============\")\n",
    "a = 10 \n",
    "b = 20 \n",
    "c = 30\n",
    "avg = (a+b+c)/3\n",
    "print(\"The average of a , b ,c \",avg)\n",
    "print(\"The average of {} {} {} is {} \".format(a,b,c,avg))"
   ]
  },
  {
   "cell_type": "code",
   "execution_count": 34,
   "id": "e5119a8e-8e94-40ad-8100-99f865bf8577",
   "metadata": {},
   "outputs": [
    {
     "name": "stdout",
     "output_type": "stream",
     "text": [
      "The average of a , b ,c  20.0\n",
      "The average of 10 20 30 is 20.0 \n"
     ]
    }
   ],
   "source": [
    "#take three number and perform average \n",
    "a = 10 \n",
    "b = 20 \n",
    "c = 30\n",
    "avg = (a+b+c)/3\n",
    "print(\"The average of a , b ,c \",avg)\n",
    "print(\"The average of {} {} {} is {} \".format(a,b,c,avg))"
   ]
  },
  {
   "cell_type": "code",
   "execution_count": 37,
   "id": "77f6e1b9-3996-4e48-a304-9eebd56c6ac7",
   "metadata": {},
   "outputs": [
    {
     "name": "stdout",
     "output_type": "stream",
     "text": [
      "addition of 1000 and 200 is 1200\n"
     ]
    }
   ],
   "source": [
    "#f string method  Formating string method \n",
    "num1 = 1000\n",
    "num2=200\n",
    "add = num1 + num2\n",
    "#addition of 100 and 200 is 300\n",
    "print(f\"addition of {num1} and {num2} is {add}\")\n"
   ]
  },
  {
   "cell_type": "code",
   "execution_count": 38,
   "id": "c69e332e-2d44-4dad-9401-eb494d9a82bc",
   "metadata": {},
   "outputs": [
    {
     "name": "stdout",
     "output_type": "stream",
     "text": [
      "==========Addition============\n",
      "The substraction of 100 and 200 is -100\n",
      "================Multiplication=============\n",
      "The multiplication of 100 and 200 is 20000\n",
      "====================division===============\n",
      "The division of 100 and 200 is 0.5\n",
      "================avg==============\n",
      "The average of a , b ,c  20.0\n",
      "The average of 10 20 30 is 20.0 \n"
     ]
    }
   ],
   "source": [
    "#wap take two numbers \n",
    "\n",
    "print(\"==========Substraction============\")\n",
    "num1 = 100\n",
    "num2 =200\n",
    "sub = num1 - num2\n",
    "print(f\"The substraction of {num1} and {num2} is {sub}\")\n",
    "print(\"================Multiplication=============\")\n",
    "num1 = 100\n",
    "num2 =200\n",
    "mul = num1 * num2 \n",
    "print(f\"The multiplication of {num1} and {num2} is {mul}\")\n",
    "print(\"====================division===============\")\n",
    "num1 = 100\n",
    "num2 =200\n",
    "div = num1 / num2\n",
    "print(f\"The division of {num1} and {num2} is {div}\")\n",
    "print(\"================avg==============\")\n",
    "a = 10 \n",
    "b = 20 \n",
    "c = 30\n",
    "avg = (a+b+c)/3\n",
    "print(\"The average of a , b ,c \",avg)\n",
    "print(\"The average of {} {} {} is {} \".format(a,b,c,avg))"
   ]
  },
  {
   "cell_type": "code",
   "execution_count": 45,
   "id": "8747d90d-d012-4cb2-b115-5d4092ed622a",
   "metadata": {},
   "outputs": [
    {
     "name": "stdout",
     "output_type": "stream",
     "text": [
      "20.333333333333332\n"
     ]
    }
   ],
   "source": [
    "a = 11         #ctrl + a And ctrl +/ Comment \n",
    "b = 20 \n",
    "c = 30\n",
    "avg = (a+b+c)/3\n",
    "print(avg)"
   ]
  },
  {
   "cell_type": "code",
   "execution_count": 46,
   "id": "c2d639b0-a719-4d6d-902b-28a76477d960",
   "metadata": {},
   "outputs": [
    {
     "data": {
      "text/plain": [
       "11"
      ]
     },
     "execution_count": 46,
     "metadata": {},
     "output_type": "execute_result"
    }
   ],
   "source": [
    "print(round(10.77))"
   ]
  },
  {
   "cell_type": "code",
   "execution_count": 47,
   "id": "7ca6bba8-8548-4e0f-bba6-734362c5366d",
   "metadata": {},
   "outputs": [
    {
     "data": {
      "text/plain": [
       "10.78"
      ]
     },
     "execution_count": 47,
     "metadata": {},
     "output_type": "execute_result"
    }
   ],
   "source": [
    "print(round(10.7777,2))"
   ]
  },
  {
   "cell_type": "code",
   "execution_count": 48,
   "id": "2cc84efe-38d9-4846-b46b-92058950f05c",
   "metadata": {},
   "outputs": [
    {
     "name": "stdout",
     "output_type": "stream",
     "text": [
      "10.777\n"
     ]
    }
   ],
   "source": [
    "print(round(10.777,3))"
   ]
  },
  {
   "cell_type": "code",
   "execution_count": 49,
   "id": "893e4e8a-c513-41c7-a3d3-1f145929c9a5",
   "metadata": {},
   "outputs": [
    {
     "name": "stdout",
     "output_type": "stream",
     "text": [
      "11\n",
      "10.78\n",
      "10.778\n"
     ]
    }
   ],
   "source": [
    "print(round(10.7777))\n",
    "print(round(10.77777,2))\n",
    "print(round(10.77777,3))"
   ]
  },
  {
   "cell_type": "code",
   "execution_count": 54,
   "id": "6a19c578-1b34-4d40-9928-b69dbeeb9ae5",
   "metadata": {},
   "outputs": [
    {
     "name": "stdout",
     "output_type": "stream",
     "text": [
      "20.333333333333332\n",
      "20\n",
      "20.33\n"
     ]
    }
   ],
   "source": [
    "a = 11         #ctrl + a And ctrl +/ Comment \n",
    "b = 20 \n",
    "c = 30\n",
    "avg = (a+b+c)/3\n",
    "print(avg)\n",
    "print(round(avg))#simple\n",
    "\n",
    "avg1 = round(avg,2) #break the statement\n",
    "print(avg1)"
   ]
  },
  {
   "cell_type": "code",
   "execution_count": null,
   "id": "c5b1ce3f-a8fa-4579-9d0d-881c5a8e0419",
   "metadata": {},
   "outputs": [],
   "source": [
    "#i've multiple print statement but i want to show in one line\n",
    "\n",
    "#we've to use end operator\n",
    "print(10,end=\" \")\n",
    "print(20,end=\"=\")\n",
    "print(30)"
   ]
  },
  {
   "cell_type": "code",
   "execution_count": 58,
   "id": "a08b8ef5-c3be-4711-b2d8-6c18bdea4671",
   "metadata": {},
   "outputs": [
    {
     "name": "stdout",
     "output_type": "stream",
     "text": [
      "10 20\n"
     ]
    }
   ],
   "source": [
    "print(10 ,end=\" \")\n",
    "print(20)"
   ]
  },
  {
   "cell_type": "code",
   "execution_count": 61,
   "id": "c1eaa21c-6de2-40cc-ad58-21d8e23933da",
   "metadata": {},
   "outputs": [
    {
     "name": "stdout",
     "output_type": "stream",
     "text": [
      "hello how are you\n"
     ]
    }
   ],
   "source": [
    "print('hello',end=\" \")\n",
    "print('how',end=\" \")\n",
    "print('are',end=\" \")\n",
    "print('you')"
   ]
  },
  {
   "cell_type": "code",
   "execution_count": 62,
   "id": "5ed293aa-242a-41ea-a107-d4846e853e32",
   "metadata": {},
   "outputs": [
    {
     "name": "stdout",
     "output_type": "stream",
     "text": [
      "10 20 30\n"
     ]
    }
   ],
   "source": [
    "# i've multiple values in single statement i want print then some seperation\n",
    "print(10,20,30)\n",
    "# 10 ===> 20 ===> 30 \n"
   ]
  },
  {
   "cell_type": "code",
   "execution_count": 3,
   "id": "7596095b-335a-40f8-8012-ef709f25877d",
   "metadata": {},
   "outputs": [
    {
     "name": "stdout",
     "output_type": "stream",
     "text": [
      "10  20  30\n",
      "1020\n"
     ]
    }
   ],
   "source": [
    "#sep \n",
    "print(10,20,30,sep='  ')\n",
    "print(10,end='')\n",
    "print(20)"
   ]
  },
  {
   "cell_type": "code",
   "execution_count": null,
   "id": "abda33ce-818f-4085-a5b0-d46edd7719a8",
   "metadata": {},
   "outputs": [],
   "source": [
    "# basic print statemet \n",
    "# we learn format method \n",
    "# we learn f string method\n",
    "# we learn round\n",
    "# we learn end operator\n",
    "# we learn sep operator"
   ]
  },
  {
   "cell_type": "code",
   "execution_count": null,
   "id": "37b14d33-1ae3-433f-a574-983be2780003",
   "metadata": {},
   "outputs": [],
   "source": [
    "#wap take a redius of a circle calculate area of circcle \n",
    "# var : radius    var:pi = 3.14\n",
    "#formula = pi * radius * radius\n",
    "#print the ans using f string and format\n",
    "\n",
    "#wap take breath and height og a right angle triengle\n",
    "#calculate area\n",
    "# var1:breadth var2:height\n",
    "#formula :0.5 * breadth *height\n",
    "\n",
    "#wap take the bill amount and tip amount \n",
    "# calculate total bill \n",
    "# var billamount var2 : tip amount\n",
    "# formula \n",
    "\n",
    "# wap take a length and breadth of a rectangle calculate area\n",
    "# var length var2 bbreafth \n",
    "# formula : length * breadth\n",
    "\n",
    "#wap take the radidus of a circle calculate area of the circle\n",
    "# var: radidus var: pi=3.14\n",
    "# formuale: pi*radius*radius\n",
    "# print the answers using f string and format\n",
    "\n",
    "# wap take the breadth and height of a right angle triangle\n",
    "# calculate the area\n",
    "# var1: bredath var2: height\n",
    "# formuale : 0.5*breadth*heigh\n",
    "\n",
    "# wap take the bill amount and tip amount\n",
    "# calculate total bill\n",
    "# var1: bill amount var2: tip amount\n",
    "# formuale\n",
    "\n",
    "# wap take the length and breadth of a rectangle calculate area\n",
    "# var1: length var2: breadth\n",
    "# formulae: length * breadth\n"
   ]
  },
  {
   "cell_type": "code",
   "execution_count": 1,
   "id": "ddc8d826-ba67-4fde-b6a9-035004f2b662",
   "metadata": {},
   "outputs": [
    {
     "name": "stdout",
     "output_type": "stream",
     "text": [
      "radius of circle is 28.274309999999996\n",
      "Redius of circle is 28.274309999999996\n"
     ]
    }
   ],
   "source": [
    "radius = 3 \n",
    "pi = 3.14159\n",
    "area = pi * radius * radius \n",
    "print(f\"radius of circle is {area}\")\n",
    "print(\"Redius of circle is {}\".format(area))"
   ]
  },
  {
   "cell_type": "code",
   "execution_count": 7,
   "id": "48463867-b535-452d-95bb-763c71304a0e",
   "metadata": {},
   "outputs": [
    {
     "name": "stdout",
     "output_type": "stream",
     "text": [
      "area of right angle triange:100.0\n",
      "area of right angle triange :100.0\n"
     ]
    }
   ],
   "source": [
    "base = 10 \n",
    "height = 20 \n",
    "area_of_triangle = 0.5 * base * height\n",
    "print(f\"area of right angle triange:{area_of_triangle}\")\n",
    "print(\"area of right angle triange :{}\".format(area_of_triangle))"
   ]
  },
  {
   "cell_type": "code",
   "execution_count": 10,
   "id": "a531f10e-7fc0-424d-84e0-e261e19c9dcc",
   "metadata": {},
   "outputs": [
    {
     "name": "stdout",
     "output_type": "stream",
     "text": [
      "total bill amount is 1100\n",
      "total bill amount is 1100\n"
     ]
    }
   ],
   "source": [
    "bill_amount = 1000\n",
    "tip_amount = 100\n",
    "total_amount = bill_amount+tip_amount\n",
    "print(f\"total bill amount is {total_amount}\")\n",
    "print(\"total bill amount is {}\".format(total_amount))"
   ]
  },
  {
   "cell_type": "code",
   "execution_count": 17,
   "id": "cd345fc7-2273-4f3a-a5fd-90e365c67ca5",
   "metadata": {},
   "outputs": [
    {
     "name": "stdout",
     "output_type": "stream",
     "text": [
      "area of rectangle is:60\n",
      "area of rectangle is:60\n"
     ]
    }
   ],
   "source": [
    "breadth = 5 \n",
    "height = 6 \n",
    "\n",
    "area = base * height\n",
    "print(f\"area of rectangle is:{area}\")\n",
    "print(\"area of rectangle is:{}\".format(area))"
   ]
  },
  {
   "cell_type": "code",
   "execution_count": 7,
   "id": "41b4c9b8-97e1-43d4-a411-b359a8670e04",
   "metadata": {},
   "outputs": [
    {
     "name": "stdout",
     "output_type": "stream",
     "text": [
      "=============Redius Of Circle================= \n",
      "radius of circle is 314.159\n",
      "Redius of circle is 314.159\n",
      "================Area of Triagle===================\n",
      "area of right angle triange:100.0\n",
      "area of right angle triange :100.0\n",
      "================= Total Bill Amount===================\n",
      "total bill amount is 1100\n",
      "total bill amount is 1100\n",
      "===================Area of Rectangle==================\n",
      "area of rectangle is:60\n",
      "area of rectangle is:60\n"
     ]
    }
   ],
   "source": [
    "print(\"=============Redius Of Circle=================== \")\n",
    "radius = 10 \n",
    "pi = 3.14159\n",
    "area = pi * radius * radius \n",
    "print(f\"radius of circle is {area}\")\n",
    "print(\"Area of circle is {}\".format(area))\n",
    "\n",
    "print(\"================Area of Triagle===================\")\n",
    "base = 10 \n",
    "height = 20 \n",
    "area_of_triangle = 0.5 * base * height\n",
    "print(f\"area of right angle triange:{area_of_triangle}\")\n",
    "print(\"area of right angle triange :{}\".format(area_of_triangle))\n",
    "\n",
    "print(\"================= Total Bill Amount===================\")\n",
    "bill_amount = 1000\n",
    "tip_amount = 100\n",
    "total_amount = bill_amount+tip_amount\n",
    "print(f\"total bill amount is {total_amount}\")\n",
    "print(\"total bill amount is {}\".format(total_amount))\n",
    "\n",
    "print(\"===================Area of Rectangle==================\")\n",
    "\n",
    "breadth = 5 \n",
    "height = 6 \n",
    "area = base * height\n",
    "print(f\"area of rectangle is:{area}\")\n",
    "print(\"area of rectangle is:{}\".format(area))"
   ]
  },
  {
   "cell_type": "code",
   "execution_count": 21,
   "id": "d24dacb7-d38e-4e24-8981-ba2f8bf3fded",
   "metadata": {},
   "outputs": [
    {
     "ename": "TypeError",
     "evalue": "can only concatenate str (not \"int\") to str",
     "output_type": "error",
     "traceback": [
      "\u001b[1;31m---------------------------------------------------------------------------\u001b[0m",
      "\u001b[1;31mTypeError\u001b[0m                                 Traceback (most recent call last)",
      "Cell \u001b[1;32mIn[21], line 1\u001b[0m\n\u001b[1;32m----> 1\u001b[0m \u001b[38;5;28mprint\u001b[39m(\u001b[38;5;124m'\u001b[39m\u001b[38;5;124m2\u001b[39m\u001b[38;5;124m'\u001b[39m\u001b[38;5;241m+\u001b[39m\u001b[38;5;241m2\u001b[39m)\n",
      "\u001b[1;31mTypeError\u001b[0m: can only concatenate str (not \"int\") to str"
     ]
    }
   ],
   "source": [
    "print('2'+2)"
   ]
  },
  {
   "cell_type": "code",
   "execution_count": 5,
   "id": "775e161f-c4f7-4980-bd17-994341c97485",
   "metadata": {},
   "outputs": [
    {
     "ename": "SyntaxError",
     "evalue": "unterminated string literal (detected at line 1) (1679727560.py, line 1)",
     "output_type": "error",
     "traceback": [
      "\u001b[1;36m  Cell \u001b[1;32mIn[5], line 1\u001b[1;36m\u001b[0m\n\u001b[1;33m    name=input('enter your name)\u001b[0m\n\u001b[1;37m               ^\u001b[0m\n\u001b[1;31mSyntaxError\u001b[0m\u001b[1;31m:\u001b[0m unterminated string literal (detected at line 1)\n"
     ]
    }
   ],
   "source": [
    "name=input('enter your name)"
   ]
  },
  {
   "cell_type": "code",
   "execution_count": 23,
   "id": "7af7b929-5353-4d7a-b83f-0190d7f5dcdf",
   "metadata": {},
   "outputs": [
    {
     "ename": "NameError",
     "evalue": "name 'age' is not defined",
     "output_type": "error",
     "traceback": [
      "\u001b[1;31m---------------------------------------------------------------------------\u001b[0m",
      "\u001b[1;31mNameError\u001b[0m                                 Traceback (most recent call last)",
      "Cell \u001b[1;32mIn[23], line 1\u001b[0m\n\u001b[1;32m----> 1\u001b[0m age\n",
      "\u001b[1;31mNameError\u001b[0m: name 'age' is not defined"
     ]
    }
   ],
   "source": [
    "age"
   ]
  },
  {
   "cell_type": "code",
   "execution_count": 24,
   "id": "c1b751c3-5b33-4245-b119-f906b4e2fe3c",
   "metadata": {},
   "outputs": [
    {
     "ename": "ZeroDivisionError",
     "evalue": "division by zero",
     "output_type": "error",
     "traceback": [
      "\u001b[1;31m---------------------------------------------------------------------------\u001b[0m",
      "\u001b[1;31mZeroDivisionError\u001b[0m                         Traceback (most recent call last)",
      "Cell \u001b[1;32mIn[24], line 1\u001b[0m\n\u001b[1;32m----> 1\u001b[0m a\u001b[38;5;241m=\u001b[39m\u001b[38;5;241m10\u001b[39m\u001b[38;5;241m/\u001b[39m\u001b[38;5;241m0\u001b[39m\n",
      "\u001b[1;31mZeroDivisionError\u001b[0m: division by zero"
     ]
    }
   ],
   "source": [
    "a=10/0"
   ]
  },
  {
   "cell_type": "code",
   "execution_count": 5,
   "id": "eb56965d-540b-402d-8ed0-09552ed9a865",
   "metadata": {},
   "outputs": [
    {
     "name": "stdin",
     "output_type": "stream",
     "text": [
      "im python , who are you 55\n"
     ]
    }
   ],
   "source": [
    "user = input(\"im python , who are you\")"
   ]
  },
  {
   "cell_type": "markdown",
   "id": "07e3bcad-b618-47d5-8daf-1ae1c500bbf5",
   "metadata": {},
   "source": [
    "**Input**\n",
    "- in above we provide the value\n",
    "- input is the inbuilt function\n",
    "- using input the user can provide any value\n",
    "\n",
    "  "
   ]
  },
  {
   "cell_type": "code",
   "execution_count": 4,
   "id": "ff8ca4ad-7968-461f-afd1-02dcde78364b",
   "metadata": {},
   "outputs": [
    {
     "name": "stdin",
     "output_type": "stream",
     "text": [
      " 2\n"
     ]
    },
    {
     "data": {
      "text/plain": [
       "'2'"
      ]
     },
     "execution_count": 4,
     "metadata": {},
     "output_type": "execute_result"
    }
   ],
   "source": [
    "input()"
   ]
  },
  {
   "cell_type": "code",
   "execution_count": 4,
   "id": "76d2642a-36d5-4441-854f-246215b94087",
   "metadata": {},
   "outputs": [
    {
     "name": "stdout",
     "output_type": "stream",
     "text": [
      "addtion of  20 and 30 is 50\n",
      "addtion of 20 and 30 is 30 \n",
      "addition of 20 and 30 is 50\n"
     ]
    }
   ],
   "source": [
    "n1 = 20 \n",
    "n2 = 30 \n",
    "add = n1 + n2 \n",
    "print(\"addtion of \",n1,\"and\",n2,\"is\",add) #First way.\n",
    "print(\"addtion of {} and {} is {} \".format(n1,n2,n2)) # second way \n",
    "print(f\"addition of {n1} and {n2} is {add}\")"
   ]
  },
  {
   "cell_type": "code",
   "execution_count": 17,
   "id": "0b157e7d-1862-4fa5-9b08-9604f4e5337f",
   "metadata": {},
   "outputs": [
    {
     "name": "stdout",
     "output_type": "stream",
     "text": [
      "10  20\n"
     ]
    }
   ],
   "source": [
    "print(10,end='  ') # print next line element in same line\n",
    "print(20)"
   ]
  },
  {
   "cell_type": "code",
   "execution_count": 18,
   "id": "2e657dde-0b97-4784-bd1c-1a948490aa72",
   "metadata": {},
   "outputs": [
    {
     "name": "stdout",
     "output_type": "stream",
     "text": [
      "10 20 30\n"
     ]
    }
   ],
   "source": [
    "print(10,20,30,sep=\" \") # seperate the values"
   ]
  },
  {
   "cell_type": "code",
   "execution_count": null,
   "id": "7af8eced-b1c5-41af-af67-d747ff5e997a",
   "metadata": {},
   "outputs": [],
   "source": []
  }
 ],
 "metadata": {
  "kernelspec": {
   "display_name": "Python 3 (ipykernel)",
   "language": "python",
   "name": "python3"
  },
  "language_info": {
   "codemirror_mode": {
    "name": "ipython",
    "version": 3
   },
   "file_extension": ".py",
   "mimetype": "text/x-python",
   "name": "python",
   "nbconvert_exporter": "python",
   "pygments_lexer": "ipython3",
   "version": "3.12.7"
  }
 },
 "nbformat": 4,
 "nbformat_minor": 5
}
