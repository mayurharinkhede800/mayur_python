{
 "cells": [
  {
   "cell_type": "markdown",
   "id": "3f2720b2-d67c-44fa-8cca-3aae93a283e8",
   "metadata": {},
   "source": [
    "## Data types "
   ]
  },
  {
   "cell_type": "markdown",
   "id": "d2f6a9b6-d4b3-4875-a0f3-e781ed8c2e77",
   "metadata": {},
   "source": [
    "- interger : int \n",
    "- float\n",
    "- string :str\n",
    "- list \n",
    "- tupple\n",
    "- set \n",
    "- dictionary\n",
    "- boolean\n",
    "- complex\n",
    "- range\n",
    "- byte\n",
    "- frozen set\n",
    "- byte array \n",
    "- memory view\n",
    "- none type"
   ]
  },
  {
   "cell_type": "markdown",
   "id": "72bb92df-ea9d-4422-9a02-d1c0135740c0",
   "metadata": {},
   "source": [
    "$Integer$"
   ]
  },
  {
   "cell_type": "code",
   "execution_count": 2,
   "id": "8be8d615-621d-4c49-9b59-3c3e8aeb46ec",
   "metadata": {},
   "outputs": [
    {
     "data": {
      "text/plain": [
       "100"
      ]
     },
     "execution_count": 2,
     "metadata": {},
     "output_type": "execute_result"
    }
   ],
   "source": [
    "number = 100 \n",
    "number"
   ]
  },
  {
   "cell_type": "code",
   "execution_count": 1,
   "id": "68664be2-f831-4d3e-ae0e-bb1158bb9e0b",
   "metadata": {},
   "outputs": [
    {
     "data": {
      "text/plain": [
       "100"
      ]
     },
     "execution_count": 1,
     "metadata": {},
     "output_type": "execute_result"
    }
   ],
   "source": [
    "number = 100\n",
    "number"
   ]
  },
  {
   "cell_type": "code",
   "execution_count": 2,
   "id": "fd85060a-4cd1-4df7-b475-f373c7ae6a82",
   "metadata": {},
   "outputs": [
    {
     "data": {
      "text/plain": [
       "int"
      ]
     },
     "execution_count": 2,
     "metadata": {},
     "output_type": "execute_result"
    }
   ],
   "source": [
    "type(number)"
   ]
  },
  {
   "cell_type": "code",
   "execution_count": 3,
   "id": "6be3aeff-d0dc-4d8b-aef5-4193a0f64b75",
   "metadata": {},
   "outputs": [
    {
     "data": {
      "text/plain": [
       "int"
      ]
     },
     "execution_count": 3,
     "metadata": {},
     "output_type": "execute_result"
    }
   ],
   "source": [
    "type(number)"
   ]
  },
  {
   "cell_type": "markdown",
   "id": "5c33c025-8fac-457b-8dd9-3b3f3228b165",
   "metadata": {},
   "source": [
    "**number system**\n",
    "- binary number system\n",
    "- decimal number system\n",
    "- octa number system\n",
    "- hexa number system"
   ]
  },
  {
   "cell_type": "code",
   "execution_count": 5,
   "id": "09722d87-ee9c-473e-b037-32e641927dd4",
   "metadata": {},
   "outputs": [
    {
     "data": {
      "text/plain": [
       "2025"
      ]
     },
     "execution_count": 5,
     "metadata": {},
     "output_type": "execute_result"
    }
   ],
   "source": [
    "9*9 #81\n",
    "5*5 #25\n",
    "81*25"
   ]
  },
  {
   "cell_type": "markdown",
   "id": "5094cc68-f3fe-4a6b-912b-0b293d5aaf45",
   "metadata": {},
   "source": [
    "**binary number system**\n",
    "- its denoted with **0b** or **0B**\n",
    "- binary means two\n",
    "- we have generally 0 to 9 digits available\n",
    "- binary means two digit allowed : 0 - 9\n",
    "- ex : 0b101 0b111 0b000 0b001\n",
    "- not valid : 0b123 0b1000012"
   ]
  },
  {
   "cell_type": "code",
   "execution_count": 6,
   "id": "aa462e1f-3818-46e3-a619-928f5f845dc0",
   "metadata": {},
   "outputs": [
    {
     "data": {
      "text/plain": [
       "7"
      ]
     },
     "execution_count": 6,
     "metadata": {},
     "output_type": "execute_result"
    }
   ],
   "source": [
    "0b111"
   ]
  },
  {
   "cell_type": "code",
   "execution_count": 11,
   "id": "09e4b9b1-83e1-46ab-849e-3ede7b54f962",
   "metadata": {},
   "outputs": [
    {
     "data": {
      "text/plain": [
       "0"
      ]
     },
     "execution_count": 11,
     "metadata": {},
     "output_type": "execute_result"
    }
   ],
   "source": [
    "0b000"
   ]
  },
  {
   "cell_type": "code",
   "execution_count": 12,
   "id": "5b719f31-0c97-450d-847b-b055a86019d3",
   "metadata": {},
   "outputs": [
    {
     "data": {
      "text/plain": [
       "11"
      ]
     },
     "execution_count": 12,
     "metadata": {},
     "output_type": "execute_result"
    }
   ],
   "source": [
    "0b1011"
   ]
  },
  {
   "cell_type": "code",
   "execution_count": 13,
   "id": "a2e3ba3e-3c15-4195-9346-6bee0d568b0f",
   "metadata": {},
   "outputs": [
    {
     "data": {
      "text/plain": [
       "13"
      ]
     },
     "execution_count": 13,
     "metadata": {},
     "output_type": "execute_result"
    }
   ],
   "source": [
    "0b1101"
   ]
  },
  {
   "cell_type": "code",
   "execution_count": 19,
   "id": "8c7007d3-686e-4bee-b14b-39d165c6abe4",
   "metadata": {},
   "outputs": [
    {
     "data": {
      "text/plain": [
       "29"
      ]
     },
     "execution_count": 19,
     "metadata": {},
     "output_type": "execute_result"
    }
   ],
   "source": [
    "0b11101"
   ]
  },
  {
   "cell_type": "code",
   "execution_count": 20,
   "id": "d5924bf9-6593-4d00-ae2a-f7c57c3dfcaa",
   "metadata": {},
   "outputs": [
    {
     "data": {
      "text/plain": [
       "11"
      ]
     },
     "execution_count": 20,
     "metadata": {},
     "output_type": "execute_result"
    }
   ],
   "source": [
    "0b01011"
   ]
  },
  {
   "cell_type": "code",
   "execution_count": 21,
   "id": "6ff6cff7-c21b-4fe7-b881-c6c146860d0b",
   "metadata": {},
   "outputs": [
    {
     "data": {
      "text/plain": [
       "7"
      ]
     },
     "execution_count": 21,
     "metadata": {},
     "output_type": "execute_result"
    }
   ],
   "source": [
    "0b111"
   ]
  },
  {
   "cell_type": "code",
   "execution_count": 24,
   "id": "08be353a-203d-46e5-8345-e8c33300eb62",
   "metadata": {},
   "outputs": [
    {
     "data": {
      "text/plain": [
       "303"
      ]
     },
     "execution_count": 24,
     "metadata": {},
     "output_type": "execute_result"
    }
   ],
   "source": [
    "0o457"
   ]
  },
  {
   "cell_type": "code",
   "execution_count": 25,
   "id": "6b5c1041-955c-4e8a-b6ca-959323951f57",
   "metadata": {},
   "outputs": [
    {
     "data": {
      "text/plain": [
       "15"
      ]
     },
     "execution_count": 25,
     "metadata": {},
     "output_type": "execute_result"
    }
   ],
   "source": [
    "0b1111"
   ]
  },
  {
   "cell_type": "code",
   "execution_count": 26,
   "id": "919c4e09-0610-40f1-acde-d008bcecbbc7",
   "metadata": {},
   "outputs": [
    {
     "data": {
      "text/plain": [
       "375"
      ]
     },
     "execution_count": 26,
     "metadata": {},
     "output_type": "execute_result"
    }
   ],
   "source": [
    "0o567"
   ]
  },
  {
   "cell_type": "code",
   "execution_count": 28,
   "id": "6a639600-f3b5-4f53-a43c-d21ff7e5b607",
   "metadata": {},
   "outputs": [
    {
     "data": {
      "text/plain": [
       "447"
      ]
     },
     "execution_count": 28,
     "metadata": {},
     "output_type": "execute_result"
    }
   ],
   "source": [
    "0o677"
   ]
  },
  {
   "cell_type": "code",
   "execution_count": 31,
   "id": "2ca44e52-5ba4-437f-b70c-94509f768114",
   "metadata": {},
   "outputs": [
    {
     "data": {
      "text/plain": [
       "136"
      ]
     },
     "execution_count": 31,
     "metadata": {},
     "output_type": "execute_result"
    }
   ],
   "source": [
    "0x88"
   ]
  },
  {
   "cell_type": "code",
   "execution_count": 41,
   "id": "8ad78c45-1047-45e6-b03a-ef84616debf4",
   "metadata": {},
   "outputs": [
    {
     "data": {
      "text/plain": [
       "2021"
      ]
     },
     "execution_count": 41,
     "metadata": {},
     "output_type": "execute_result"
    }
   ],
   "source": [
    "0x7e5"
   ]
  },
  {
   "cell_type": "markdown",
   "id": "a3519434-74a4-494d-93db-6f0a0190d2cf",
   "metadata": {},
   "source": [
    "# float"
   ]
  },
  {
   "cell_type": "markdown",
   "id": "42feae5e-b576-4eb0-9d6c-86708352762f",
   "metadata": {},
   "source": [
    "*e presentation*"
   ]
  },
  {
   "cell_type": "code",
   "execution_count": 43,
   "id": "c3e5c0ee-da9b-440d-bfb6-e3b017a02a9e",
   "metadata": {},
   "outputs": [
    {
     "data": {
      "text/plain": [
       "10.0"
      ]
     },
     "execution_count": 43,
     "metadata": {},
     "output_type": "execute_result"
    }
   ],
   "source": [
    "1e1"
   ]
  },
  {
   "cell_type": "code",
   "execution_count": 4,
   "id": "fcac0046-87db-47d7-93e9-774ea943c4b1",
   "metadata": {},
   "outputs": [
    {
     "data": {
      "text/plain": [
       "1"
      ]
     },
     "execution_count": 4,
     "metadata": {},
     "output_type": "execute_result"
    }
   ],
   "source": [
    "0o0001"
   ]
  },
  {
   "cell_type": "code",
   "execution_count": 44,
   "id": "2763822e-40e2-4e9a-a721-26b64c00f4aa",
   "metadata": {},
   "outputs": [
    {
     "data": {
      "text/plain": [
       "100.0"
      ]
     },
     "execution_count": 44,
     "metadata": {},
     "output_type": "execute_result"
    }
   ],
   "source": [
    "1e2"
   ]
  },
  {
   "cell_type": "code",
   "execution_count": 9,
   "id": "75f6c55d-2b2d-4911-b6f4-b599b87fcc92",
   "metadata": {},
   "outputs": [
    {
     "data": {
      "text/plain": [
       "5"
      ]
     },
     "execution_count": 9,
     "metadata": {},
     "output_type": "execute_result"
    }
   ],
   "source": [
    "0o5"
   ]
  },
  {
   "cell_type": "code",
   "execution_count": null,
   "id": "01c13f94-cd8c-4cc1-8362-122912981c71",
   "metadata": {},
   "outputs": [],
   "source": []
  },
  {
   "cell_type": "code",
   "execution_count": null,
   "id": "13c68eb9-dc78-4e7f-8a07-16de53e6b936",
   "metadata": {},
   "outputs": [],
   "source": []
  },
  {
   "cell_type": "code",
   "execution_count": 45,
   "id": "8c6a1c9e-f369-4c35-b0d7-def4656ebfac",
   "metadata": {},
   "outputs": [
    {
     "data": {
      "text/plain": [
       "20000.0"
      ]
     },
     "execution_count": 45,
     "metadata": {},
     "output_type": "execute_result"
    }
   ],
   "source": [
    "2e4"
   ]
  },
  {
   "cell_type": "code",
   "execution_count": 46,
   "id": "e3a767a5-016b-4a96-99bf-1e831c0d439f",
   "metadata": {},
   "outputs": [
    {
     "data": {
      "text/plain": [
       "40000.0"
      ]
     },
     "execution_count": 46,
     "metadata": {},
     "output_type": "execute_result"
    }
   ],
   "source": [
    "1e1 #1 * 10 = 10\n",
    "1e2 #1 * 100 = 100\n",
    "2e3 #2 * 1000 = 1000\n",
    "4e4 #4 * 10000 = 40000"
   ]
  },
  {
   "cell_type": "code",
   "execution_count": 47,
   "id": "816745e9-dd12-43da-8fec-45c7efc48ac2",
   "metadata": {},
   "outputs": [
    {
     "name": "stdout",
     "output_type": "stream",
     "text": [
      "10.0\n",
      "100.0\n",
      "2000.0\n",
      "40000.0\n"
     ]
    }
   ],
   "source": [
    "print(1e1) #1 * 10 = 10\n",
    "print(1e2) #1 * 100 = 100\n",
    "print(2e3) #2 * 1000 = 1000\n",
    "print(4e4) #4 * 10000 = 40000"
   ]
  },
  {
   "cell_type": "code",
   "execution_count": 49,
   "id": "01cc74a7-3ba1-4f8f-b6de-b11299b74a4a",
   "metadata": {},
   "outputs": [
    {
     "name": "stdout",
     "output_type": "stream",
     "text": [
      "0.1\n",
      "0.01\n",
      "0.002\n",
      "0.0004\n"
     ]
    }
   ],
   "source": [
    "print(1e-1) #1 /10 = 0.1\n",
    "print(1e-2) #1 / 100 = 0.01\n",
    "print(2e-3) #2 / 1000 = 0.002\n",
    "print(4e-4) #4 / 10000 = 0.0004"
   ]
  },
  {
   "cell_type": "markdown",
   "id": "cce0edf2-0cb8-4e2e-8222-26f6355cc6d1",
   "metadata": {},
   "source": [
    "**boolean**"
   ]
  },
  {
   "cell_type": "code",
   "execution_count": 50,
   "id": "cd73f196-28f2-41cc-afa6-0d4359f447aa",
   "metadata": {},
   "outputs": [
    {
     "data": {
      "text/plain": [
       "True"
      ]
     },
     "execution_count": 50,
     "metadata": {},
     "output_type": "execute_result"
    }
   ],
   "source": [
    "val = True\n",
    "val\n"
   ]
  },
  {
   "cell_type": "code",
   "execution_count": 51,
   "id": "2fd086ee-a43c-4261-baa3-72aef9f588e5",
   "metadata": {},
   "outputs": [
    {
     "data": {
      "text/plain": [
       "bool"
      ]
     },
     "execution_count": 51,
     "metadata": {},
     "output_type": "execute_result"
    }
   ],
   "source": [
    "type(val)"
   ]
  },
  {
   "cell_type": "code",
   "execution_count": 52,
   "id": "23441b02-2c6d-4ff2-ae68-8b90eecc8c85",
   "metadata": {},
   "outputs": [
    {
     "data": {
      "text/plain": [
       "bool"
      ]
     },
     "execution_count": 52,
     "metadata": {},
     "output_type": "execute_result"
    }
   ],
   "source": [
    "val1 = False\n",
    "type(val1)"
   ]
  },
  {
   "cell_type": "markdown",
   "id": "619dc155-4406-4a55-ad65-12b1d31f2649",
   "metadata": {},
   "source": [
    "**Strings**"
   ]
  },
  {
   "cell_type": "markdown",
   "id": "0e416279-36ff-4e68-8c35-33b6eed602d1",
   "metadata": {},
   "source": [
    "- English Format Representation \n",
    "- string represent wih quotes\n",
    "- we can use single quote , double and triple quotes"
   ]
  },
  {
   "cell_type": "code",
   "execution_count": 53,
   "id": "6aa86996-1019-43ad-97e4-24d6fc4b70b6",
   "metadata": {},
   "outputs": [
    {
     "data": {
      "text/plain": [
       "'python'"
      ]
     },
     "execution_count": 53,
     "metadata": {},
     "output_type": "execute_result"
    }
   ],
   "source": [
    "name = 'python'\n",
    "name"
   ]
  },
  {
   "cell_type": "code",
   "execution_count": 54,
   "id": "63a9874c-4c48-4f08-b39b-239e646b127b",
   "metadata": {},
   "outputs": [
    {
     "data": {
      "text/plain": [
       "str"
      ]
     },
     "execution_count": 54,
     "metadata": {},
     "output_type": "execute_result"
    }
   ],
   "source": [
    "type(name)"
   ]
  },
  {
   "cell_type": "code",
   "execution_count": 56,
   "id": "722c88bb-e71c-41d8-bcce-b9ae841b486f",
   "metadata": {},
   "outputs": [
    {
     "name": "stdout",
     "output_type": "stream",
     "text": [
      "python\n"
     ]
    }
   ],
   "source": [
    "print(name)\n",
    "# when we print will not able to see the quotes"
   ]
  },
  {
   "cell_type": "code",
   "execution_count": 57,
   "id": "8e466687-d85e-4e64-b630-40651de7e500",
   "metadata": {},
   "outputs": [
    {
     "data": {
      "text/plain": [
       "str"
      ]
     },
     "execution_count": 57,
     "metadata": {},
     "output_type": "execute_result"
    }
   ],
   "source": [
    "val='10' \n",
    "type(val)"
   ]
  },
  {
   "cell_type": "code",
   "execution_count": 58,
   "id": "f5812536-6009-4334-b018-387880fd1f84",
   "metadata": {},
   "outputs": [
    {
     "data": {
      "text/plain": [
       "int"
      ]
     },
     "execution_count": 58,
     "metadata": {},
     "output_type": "execute_result"
    }
   ],
   "source": [
    "val1=10\n",
    "type(val1)"
   ]
  },
  {
   "cell_type": "code",
   "execution_count": 60,
   "id": "4be48041-74a9-4ac4-9379-bececd8d7fe2",
   "metadata": {},
   "outputs": [
    {
     "data": {
      "text/plain": [
       "'nareshIT'"
      ]
     },
     "execution_count": 60,
     "metadata": {},
     "output_type": "execute_result"
    }
   ],
   "source": [
    "name = \"nareshIT\"\n",
    "name\n",
    "#but the output displayed as single quotes only"
   ]
  },
  {
   "cell_type": "code",
   "execution_count": 61,
   "id": "4893ebd8-4689-4268-a8bc-14e883a1d002",
   "metadata": {},
   "outputs": [
    {
     "name": "stdout",
     "output_type": "stream",
     "text": [
      "nareshIT\n"
     ]
    }
   ],
   "source": [
    "print(name)"
   ]
  },
  {
   "cell_type": "code",
   "execution_count": 62,
   "id": "a2cd8dc7-1170-44bd-b135-302b1c44d615",
   "metadata": {},
   "outputs": [
    {
     "data": {
      "text/plain": [
       "\"i love 'python'\""
      ]
     },
     "execution_count": 62,
     "metadata": {},
     "output_type": "execute_result"
    }
   ],
   "source": [
    "str1 = \"i love 'python'\"\n",
    "str1"
   ]
  },
  {
   "cell_type": "code",
   "execution_count": 63,
   "id": "7aceaad4-bc8a-4bc5-ac4e-27412756233c",
   "metadata": {},
   "outputs": [
    {
     "name": "stdout",
     "output_type": "stream",
     "text": [
      "i love 'python'\n"
     ]
    }
   ],
   "source": [
    "print(str1)"
   ]
  },
  {
   "cell_type": "markdown",
   "id": "ee0e5a95-1c38-446b-9666-679405f2b421",
   "metadata": {},
   "source": [
    "**triple quotes**\n",
    "- triple quotes cant use in coding parts\n",
    "- means convying the information\n",
    "- this is process is call **doc String**\n"
   ]
  },
  {
   "cell_type": "code",
   "execution_count": null,
   "id": "bb07d72d-4575-4f51-841e-b103b5593efc",
   "metadata": {},
   "outputs": [],
   "source": [
    "\"\"\" hii\n",
    "    mayur is this side\n",
    "    \"\"\""
   ]
  },
  {
   "cell_type": "code",
   "execution_count": null,
   "id": "ef1c0b3c-81b1-4421-b5d4-12a2017f617e",
   "metadata": {},
   "outputs": [],
   "source": []
  }
 ],
 "metadata": {
  "kernelspec": {
   "display_name": "Python 3 (ipykernel)",
   "language": "python",
   "name": "python3"
  },
  "language_info": {
   "codemirror_mode": {
    "name": "ipython",
    "version": 3
   },
   "file_extension": ".py",
   "mimetype": "text/x-python",
   "name": "python",
   "nbconvert_exporter": "python",
   "pygments_lexer": "ipython3",
   "version": "3.12.7"
  }
 },
 "nbformat": 4,
 "nbformat_minor": 5
}
