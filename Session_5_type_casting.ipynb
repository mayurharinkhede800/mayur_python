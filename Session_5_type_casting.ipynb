{
 "cells": [
  {
   "cell_type": "markdown",
   "id": "c3222561-c2a1-4a94-8aac-0f39fd307883",
   "metadata": {},
   "source": [
    "## type casting \n",
    "- convert one data type to another data type \n",
    "- int\n",
    "- float\n",
    "- bool\n",
    "- str \n"
   ]
  },
  {
   "cell_type": "markdown",
   "id": "11a50b10-74c1-4cef-a597-aa0ed9d87aa8",
   "metadata": {},
   "source": [
    "**int to Other data types**"
   ]
  },
  {
   "cell_type": "code",
   "execution_count": 2,
   "id": "3ab4429d-0596-4bbe-9b61-566c093ee8a0",
   "metadata": {},
   "outputs": [
    {
     "data": {
      "text/plain": [
       "int"
      ]
     },
     "execution_count": 2,
     "metadata": {},
     "output_type": "execute_result"
    }
   ],
   "source": [
    "number = 100\n",
    "type(number)"
   ]
  },
  {
   "cell_type": "code",
   "execution_count": 3,
   "id": "34dca425-ef08-4d3b-83dd-a84d9948d77c",
   "metadata": {},
   "outputs": [
    {
     "data": {
      "text/plain": [
       "100.0"
      ]
     },
     "execution_count": 3,
     "metadata": {},
     "output_type": "execute_result"
    }
   ],
   "source": [
    "float(number)"
   ]
  },
  {
   "cell_type": "code",
   "execution_count": 4,
   "id": "7cd21252-c000-41af-b213-5d3107b62d7f",
   "metadata": {},
   "outputs": [
    {
     "data": {
      "text/plain": [
       "float"
      ]
     },
     "execution_count": 4,
     "metadata": {},
     "output_type": "execute_result"
    }
   ],
   "source": [
    "float_number = float(100)\n",
    "type(float_number)"
   ]
  },
  {
   "cell_type": "code",
   "execution_count": 5,
   "id": "fcdb1dee-9bee-460e-85c6-363bc2e0ab05",
   "metadata": {},
   "outputs": [
    {
     "data": {
      "text/plain": [
       "bool"
      ]
     },
     "execution_count": 5,
     "metadata": {},
     "output_type": "execute_result"
    }
   ],
   "source": [
    "bool_number = bool(number)\n",
    "type(bool_number)"
   ]
  },
  {
   "cell_type": "code",
   "execution_count": 6,
   "id": "1f193eb9-27c1-4bd4-9c7f-321c3720b653",
   "metadata": {},
   "outputs": [
    {
     "data": {
      "text/plain": [
       "(100.0, True, '100')"
      ]
     },
     "execution_count": 6,
     "metadata": {},
     "output_type": "execute_result"
    }
   ],
   "source": [
    "float(100) ,bool(100) ,str(100)"
   ]
  },
  {
   "cell_type": "code",
   "execution_count": 7,
   "id": "05864e55-eb11-4df4-9967-a09d60d121e0",
   "metadata": {},
   "outputs": [
    {
     "data": {
      "text/plain": [
       "'100'"
      ]
     },
     "execution_count": 7,
     "metadata": {},
     "output_type": "execute_result"
    }
   ],
   "source": [
    "float(100)\n",
    "bool(100) #always print last\n",
    "str(100)"
   ]
  },
  {
   "cell_type": "code",
   "execution_count": 9,
   "id": "2c1085d7-92b1-4862-91bc-1d3c3ce7ba04",
   "metadata": {},
   "outputs": [
    {
     "name": "stdout",
     "output_type": "stream",
     "text": [
      "100.0\n",
      "True\n",
      "100\n"
     ]
    }
   ],
   "source": [
    "print(float(100))\n",
    "print(bool(100))\n",
    "print(str(100))"
   ]
  },
  {
   "cell_type": "code",
   "execution_count": 12,
   "id": "a128f3e8-5e7c-468a-a91e-d78072aeb105",
   "metadata": {},
   "outputs": [
    {
     "name": "stdout",
     "output_type": "stream",
     "text": [
      "-100.0\n",
      "True\n",
      "-100\n"
     ]
    }
   ],
   "source": [
    "print(float(-100))\n",
    "print(bool(-100))\n",
    "print(str(-100))"
   ]
  },
  {
   "cell_type": "code",
   "execution_count": 14,
   "id": "6038038b-ad89-41b3-b275-9dbaa0e24008",
   "metadata": {},
   "outputs": [
    {
     "name": "stdout",
     "output_type": "stream",
     "text": [
      "0.0\n",
      "False\n",
      "0\n"
     ]
    }
   ],
   "source": [
    "print(float(0))\n",
    "print(bool(0))\n",
    "print(str(0))"
   ]
  },
  {
   "cell_type": "markdown",
   "id": "765f2ff1-eb06-4364-9c5f-1bb9e0b2ba35",
   "metadata": {},
   "source": [
    "- Zero means off \n",
    "- false means off"
   ]
  },
  {
   "cell_type": "markdown",
   "id": "db2ca8a1-aa1b-4001-9b77-0ac4c4ddf00b",
   "metadata": {},
   "source": [
    "**float to another Number**"
   ]
  },
  {
   "cell_type": "code",
   "execution_count": 15,
   "id": "403e9ed1-fc68-42f4-a6b6-58a1ea41ab56",
   "metadata": {},
   "outputs": [
    {
     "name": "stdout",
     "output_type": "stream",
     "text": [
      "10.5\n",
      "True\n",
      "10.5\n"
     ]
    }
   ],
   "source": [
    "print(float(10.50))\n",
    "print(bool(10.50))\n",
    "print(str(10.50))"
   ]
  },
  {
   "cell_type": "code",
   "execution_count": 16,
   "id": "37cc7400-97b6-4fb2-8ee6-db8bb29e2679",
   "metadata": {},
   "outputs": [
    {
     "data": {
      "text/plain": [
       "100"
      ]
     },
     "execution_count": 16,
     "metadata": {},
     "output_type": "execute_result"
    }
   ],
   "source": [
    "number= 100.5\n",
    "int(number)"
   ]
  },
  {
   "cell_type": "code",
   "execution_count": 19,
   "id": "19110df8-6abd-41c4-9893-3e11d4a64e60",
   "metadata": {},
   "outputs": [
    {
     "data": {
      "text/plain": [
       "True"
      ]
     },
     "execution_count": 19,
     "metadata": {},
     "output_type": "execute_result"
    }
   ],
   "source": [
    "bool(number)\n"
   ]
  },
  {
   "cell_type": "code",
   "execution_count": 18,
   "id": "7d4abee6-1ef6-44a2-9a9f-96b69866b9f2",
   "metadata": {},
   "outputs": [
    {
     "data": {
      "text/plain": [
       "'100.5'"
      ]
     },
     "execution_count": 18,
     "metadata": {},
     "output_type": "execute_result"
    }
   ],
   "source": [
    "str(number)"
   ]
  },
  {
   "cell_type": "code",
   "execution_count": 20,
   "id": "601d48b4-3b0f-44c1-bf0c-e3d2f05c8750",
   "metadata": {},
   "outputs": [
    {
     "data": {
      "text/plain": [
       "(100, True, '100.5')"
      ]
     },
     "execution_count": 20,
     "metadata": {},
     "output_type": "execute_result"
    }
   ],
   "source": [
    "int(100.5),bool(100.5),str(100.5)"
   ]
  },
  {
   "cell_type": "code",
   "execution_count": 21,
   "id": "4720fcaa-ba32-4a1b-99cd-05f5a829d87b",
   "metadata": {},
   "outputs": [
    {
     "name": "stdout",
     "output_type": "stream",
     "text": [
      "100\n",
      "True\n",
      "100.5\n"
     ]
    }
   ],
   "source": [
    "n1 = int(100.5)\n",
    "n2 = bool(100.5)\n",
    "n3 = str(100.5)\n",
    "print(n1)\n",
    "print(n2)\n",
    "print(n3)"
   ]
  },
  {
   "cell_type": "code",
   "execution_count": 23,
   "id": "d23e65e5-5018-4a06-a28c-5d48aebc9c2c",
   "metadata": {},
   "outputs": [
    {
     "name": "stdout",
     "output_type": "stream",
     "text": [
      "0\n",
      "False\n",
      "0.0\n"
     ]
    }
   ],
   "source": [
    "n1 = int(0.0)\n",
    "n2 = bool(0.0)\n",
    "n3 = str(0.0)\n",
    "print(n1)\n",
    "print(n2)\n",
    "print(n3)"
   ]
  },
  {
   "cell_type": "markdown",
   "id": "42339cc7-b5e9-49ae-a588-641a3396b719",
   "metadata": {},
   "source": [
    "**string to other data type**"
   ]
  },
  {
   "cell_type": "code",
   "execution_count": 32,
   "id": "1c4c5c56-f628-4a39-9223-5e33b15b8bb5",
   "metadata": {},
   "outputs": [],
   "source": [
    "# int('apple')\n",
    "# float('apple')\n",
    "# bool('apple')"
   ]
  },
  {
   "cell_type": "code",
   "execution_count": 26,
   "id": "cfe408e5-a57a-4a0f-9224-56607a272e90",
   "metadata": {},
   "outputs": [
    {
     "data": {
      "text/plain": [
       "True"
      ]
     },
     "execution_count": 26,
     "metadata": {},
     "output_type": "execute_result"
    }
   ],
   "source": [
    "bool('apple')"
   ]
  },
  {
   "cell_type": "markdown",
   "id": "489c72a1-a51f-458b-9e63-e28025de753d",
   "metadata": {},
   "source": [
    "**note**\n",
    "- True : ON \n",
    "- False : off "
   ]
  },
  {
   "cell_type": "code",
   "execution_count": 27,
   "id": "6a37b5dc-77e5-434a-9e86-7b54d913110b",
   "metadata": {},
   "outputs": [
    {
     "data": {
      "text/plain": [
       "5"
      ]
     },
     "execution_count": 27,
     "metadata": {},
     "output_type": "execute_result"
    }
   ],
   "source": [
    "len('apple')"
   ]
  },
  {
   "cell_type": "code",
   "execution_count": 31,
   "id": "18efc2ad-df5c-4f03-9c0d-8760a9df3995",
   "metadata": {},
   "outputs": [
    {
     "data": {
      "text/plain": [
       "False"
      ]
     },
     "execution_count": 31,
     "metadata": {},
     "output_type": "execute_result"
    }
   ],
   "source": [
    "bool('')"
   ]
  },
  {
   "cell_type": "code",
   "execution_count": 29,
   "id": "9d708bf9-99e6-45d2-b287-d58d449eb70a",
   "metadata": {},
   "outputs": [
    {
     "data": {
      "text/plain": [
       "1"
      ]
     },
     "execution_count": 29,
     "metadata": {},
     "output_type": "execute_result"
    }
   ],
   "source": [
    "len('0')"
   ]
  },
  {
   "cell_type": "markdown",
   "id": "194f5490-71a9-4707-b69b-e82149a82ea5",
   "metadata": {},
   "source": [
    "- for number 0 and 0.0 boolean convertion gives **false**\n",
    "- for string empty boolean convertion gives **false**"
   ]
  },
  {
   "cell_type": "code",
   "execution_count": 35,
   "id": "453734ae-ead2-4d1c-a46f-cff3f98ae874",
   "metadata": {},
   "outputs": [],
   "source": [
    "bool('10')\n",
    "float('10')\n",
    "int('10')"
   ]
  },
  {
   "cell_type": "code",
   "execution_count": null,
   "id": "438f160c-093d-407b-87d2-071e06845962",
   "metadata": {},
   "outputs": [],
   "source": [
    "float('apple') #fails\n",
    "float('10')\n"
   ]
  },
  {
   "cell_type": "markdown",
   "id": "d4f2ed4c-bf68-479e-bdae-dc431b0d687a",
   "metadata": {},
   "source": [
    "**str object not collable**\n",
    "- python magic\n",
    "- either you need to open new notebook\n",
    "- or goto kernal and restart it"
   ]
  },
  {
   "cell_type": "code",
   "execution_count": 38,
   "id": "48cdc9f6-61c0-4af3-b152-df91ef918d24",
   "metadata": {},
   "outputs": [
    {
     "data": {
      "text/plain": [
       "(10.0, True, 10)"
      ]
     },
     "execution_count": 38,
     "metadata": {},
     "output_type": "execute_result"
    }
   ],
   "source": [
    "float('10'),bool('10'),int('10')"
   ]
  },
  {
   "cell_type": "code",
   "execution_count": 37,
   "id": "dd742622-bf5f-4f8e-a734-960088ae884a",
   "metadata": {},
   "outputs": [],
   "source": [
    "float('10.5'),bool('10.5'),int('10.5')"
   ]
  },
  {
   "cell_type": "markdown",
   "id": "27162f5a-8c04-4329-98bb-bb60be9fcf88",
   "metadata": {},
   "source": [
    "**float is the boss**"
   ]
  },
  {
   "cell_type": "markdown",
   "id": "5530875f-7564-4fbe-a739-f967a82da365",
   "metadata": {},
   "source": [
    "**boolean to other**"
   ]
  },
  {
   "cell_type": "code",
   "execution_count": 44,
   "id": "6ac20c0f-fc36-4351-a8a5-8cfc6ebe17ae",
   "metadata": {},
   "outputs": [
    {
     "name": "stdout",
     "output_type": "stream",
     "text": [
      "1\n",
      "1.0\n",
      "True\n",
      "0\n",
      "0.0\n",
      "False\n"
     ]
    }
   ],
   "source": [
    "print(int(True))\n",
    "print(float(True))\n",
    "print(str(True))\n",
    "print(int(False))\n",
    "print(float(False))\n",
    "print(str(False))\n"
   ]
  },
  {
   "cell_type": "code",
   "execution_count": null,
   "id": "835e88d9-7035-4d56-94c7-a4e698281a31",
   "metadata": {},
   "outputs": [],
   "source": [
    "float(10)\n",
    "str(10)\n",
    "bool(10)\n",
    "int(10.5)\n",
    "str(10.5)\n",
    "bool(10.5)\n",
    "int('apple')\n",
    "str('apple')\n",
    "bool('apple')\n",
    "int('10')\n",
    "str('10')\n",
    "bool('10')"
   ]
  },
  {
   "cell_type": "code",
   "execution_count": 48,
   "id": "7b64e6d3-c354-4d22-83f1-83cd246e1fb7",
   "metadata": {},
   "outputs": [
    {
     "data": {
      "text/plain": [
       "10"
      ]
     },
     "execution_count": 48,
     "metadata": {},
     "output_type": "execute_result"
    }
   ],
   "source": [
    "int('10')"
   ]
  },
  {
   "cell_type": "code",
   "execution_count": null,
   "id": "4df9b5a0-f77c-4f81-9824-0249c0345388",
   "metadata": {},
   "outputs": [],
   "source": [
    "#no error and no outputfloat(10) # 10.0\n",
    "str(10) # '10'\n",
    "bool(10) # T\n",
    "int(10.5) # 10\n",
    "str(10.5) # '10.5'\n",
    "bool(10.5) # T\n",
    "int('apple') # Fail\n",
    "float('apple') # Fail\n",
    "bool('apple') # T\n",
    "int('10') # 10\n",
    "float('10') # 10.0\n",
    "bool('10') # T\n",
    "int('10.5') # F\n",
    "float('10.5') # 10.5\n",
    "bool('10.5') # T\n",
    "int(True) # 1\n",
    "int(False) # 0\n",
    "float(True) # 1.0\n",
    "float(False) # 0.0\n",
    "str(True) # 'True'\n",
    "str(False) # 'False'\n",
    "bool(0) # False\n",
    "bool(0.0) # False\n",
    "bool('') #False"
   ]
  }
 ],
 "metadata": {
  "kernelspec": {
   "display_name": "Python 3 (ipykernel)",
   "language": "python",
   "name": "python3"
  },
  "language_info": {
   "codemirror_mode": {
    "name": "ipython",
    "version": 3
   },
   "file_extension": ".py",
   "mimetype": "text/x-python",
   "name": "python",
   "nbconvert_exporter": "python",
   "pygments_lexer": "ipython3",
   "version": "3.12.7"
  }
 },
 "nbformat": 4,
 "nbformat_minor": 5
}
