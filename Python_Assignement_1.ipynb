{
 "cells": [
  {
   "cell_type": "code",
   "execution_count": 3,
   "id": "862538dd-90ae-4e35-b60c-e81775a86894",
   "metadata": {},
   "outputs": [
    {
     "name": "stdin",
     "output_type": "stream",
     "text": [
      "Enter First Number: 10\n",
      "Enter Second number: 20\n",
      "Enter Third number: 30\n"
     ]
    },
    {
     "name": "stdout",
     "output_type": "stream",
     "text": [
      "Average of Three Numbers 20.0:\n"
     ]
    }
   ],
   "source": [
    "# 1)wap ask the user enter 3 numbers n1,n2,n3 from ketboard\n",
    "# calculate averagen1 = eval(input(\"Enter First Number:\"))\n",
    "n1 = eval(input(\"Enter First Number:\"))\n",
    "n2 = eval(input(\"Enter Second number:\"))\n",
    "n3 = eval(input(\"Enter Third number:\"))\n",
    "avg = (n1+n2+n3)/3\n",
    "print(f\"Average of Three Numbers {avg}:\")"
   ]
  },
  {
   "cell_type": "code",
   "execution_count": 4,
   "id": "db724e9f-bbb0-4f6f-a7fc-ae34c6a4da81",
   "metadata": {},
   "outputs": [
    {
     "name": "stdin",
     "output_type": "stream",
     "text": [
      "what is your name: python\n",
      "What is your age : 10 \n",
      "where are you from: hyd\n"
     ]
    },
    {
     "name": "stdout",
     "output_type": "stream",
     "text": [
      "my name is python I'm 10  year old and came form hyd\n"
     ]
    }
   ],
   "source": [
    "# 2)wap ask the user enter name age city\n",
    "# print my name is python im 10 years old and came from hyd\n",
    "\n",
    "name = input(\"what is your name:\")\n",
    "age = input(\"What is your age :\")\n",
    "city = input(\"where are you from:\")\n",
    "print(f\"my name is {name} I'm {age} year old and came form {city}\") "
   ]
  },
  {
   "cell_type": "code",
   "execution_count": 5,
   "id": "866f8d59-c660-46fc-be53-d7ba257b09be",
   "metadata": {},
   "outputs": [
    {
     "name": "stdin",
     "output_type": "stream",
     "text": [
      "Enter Radius of Circle: 5\n"
     ]
    },
    {
     "name": "stdout",
     "output_type": "stream",
     "text": [
      "Area of Circle : 78.5\n"
     ]
    }
   ],
   "source": [
    "# 3)wap ask the user to enter radidus of a circle calculate area of the circle\n",
    "# var: radidus  var: pi=3.14\n",
    "# formuale: pi*radius*radius\n",
    "# print the answers using f string and format\n",
    "\n",
    "# pi = eval(input(\"Enter PI value:\"))\n",
    "pi = 3.14\n",
    "radius = eval(input(\"Enter Radius of Circle:\"))\n",
    "area = pi * radius * radius \n",
    "print(f\"Area of Circle : {area}\")"
   ]
  },
  {
   "cell_type": "code",
   "execution_count": 6,
   "id": "7eb6a255-a968-495a-b189-363caf0e9a60",
   "metadata": {},
   "outputs": [
    {
     "name": "stdin",
     "output_type": "stream",
     "text": [
      "Enter Breadth of Rectangle: 4\n",
      "Enter height of Triangle: 5\n"
     ]
    },
    {
     "name": "stdout",
     "output_type": "stream",
     "text": [
      "Area of Right angle Triangle is 10.0\n"
     ]
    }
   ],
   "source": [
    "# 4)wap ask the user enter breadth and height of a right angle triangle\n",
    "# calculate the area\n",
    "# var1: bredath  var2: height\n",
    "# formuale : 0.5*breadth*heigh\n",
    "\n",
    "breadth = eval(input(\"Enter Breadth of Rectangle:\"))\n",
    "height = eval(input(\"Enter height of Triangle:\"))\n",
    "area = 0.5 * breadth * height\n",
    "print(f\"Area of Right angle Triangle is {area}\")"
   ]
  },
  {
   "cell_type": "code",
   "execution_count": 8,
   "id": "69a563af-8cc7-46ec-92d1-23832a8b9e5c",
   "metadata": {},
   "outputs": [
    {
     "name": "stdin",
     "output_type": "stream",
     "text": [
      "Enter Bil Amount: 5000\n",
      "Tip Amount : 100\n"
     ]
    },
    {
     "name": "stdout",
     "output_type": "stream",
     "text": [
      "Total bill : 5100\n"
     ]
    }
   ],
   "source": [
    "#5)wap ask the user the bill amount and tip amount\n",
    "#   calculate total bill\n",
    "#   var1: bill amount var2: tip amount\n",
    "#   formuale\n",
    "bill_amount = eval(input(\"Enter Bil Amount:\"))\n",
    "tip_amount = eval(input(\"Tip Amount :\"))\n",
    "total_amount = bill_amount + tip_amount \n",
    "print(f\"Total bill : {total_amount}\")"
   ]
  },
  {
   "cell_type": "code",
   "execution_count": 1,
   "id": "d5558b04-82af-4711-bb5a-88bab8eeb025",
   "metadata": {},
   "outputs": [
    {
     "name": "stdin",
     "output_type": "stream",
     "text": [
      "Enter Bill Amount: 5000\n",
      "Enter tip amount 2\n"
     ]
    },
    {
     "name": "stdout",
     "output_type": "stream",
     "text": [
      "Total bill : 5100.0\n"
     ]
    }
   ],
   "source": [
    "# 6)wap ask the user the bill amount and tip percentage\n",
    "#    take tip percentage as 10\n",
    "#   calculate total bill= bill amount+ bill amount*tip per/100\n",
    "#   var1: bill amount var2: tip amount\n",
    "#    formuale\n",
    "bill_amount = eval(input(\"Enter Bill Amount:\"))\n",
    "tip_amount = eval(input(\"Enter tip amount\"))\n",
    "total_amount = bill_amount + bill_amount * tip_amount /100\n",
    "print(f\"Total bill : {total_amount}\")"
   ]
  },
  {
   "cell_type": "code",
   "execution_count": 11,
   "id": "3d727a9a-1f76-4793-9774-32fa1f6020cf",
   "metadata": {},
   "outputs": [
    {
     "name": "stdin",
     "output_type": "stream",
     "text": [
      "Length of Rectangle: 23\n",
      "Breadth of Rectangle: 20\n"
     ]
    },
    {
     "name": "stdout",
     "output_type": "stream",
     "text": [
      "Area Of Rectangle :460\n"
     ]
    }
   ],
   "source": [
    "# 7)wap ask the length and breadth of a rectangle calculate area\n",
    "#   var1: length  var2: breadth\n",
    "#   formulae: length * breadth\n",
    "length = eval(input(\"Length of Rectangle:\"))\n",
    "breadth = eval(input(\"Breadth of Rectangle:\"))\n",
    "area = length * breadth \n",
    "print(f\"Area Of Rectangle :{area}\")"
   ]
  },
  {
   "cell_type": "code",
   "execution_count": 12,
   "id": "8d7ae8ce-03ac-4fd5-9748-e4b1a3f3d949",
   "metadata": {},
   "outputs": [
    {
     "name": "stdin",
     "output_type": "stream",
     "text": [
      "Enter radius of sphere 45\n"
     ]
    },
    {
     "name": "stdout",
     "output_type": "stream",
     "text": [
      "Area of Sphere : 286132.50000000006\n"
     ]
    }
   ],
   "source": [
    "# 8) wap ask the user take the radius and calculate volume of sphere\n",
    "#   formulae: pi*r**3(pi*r*r*r)\n",
    "\n",
    "radius = eval(input(\"Enter radius of sphere\"))\n",
    "# pi = eval(input(\"Enter pi value\"))\n",
    "pi = 3.14\n",
    "area = pi * radius * radius * radius\n",
    "print(f\"Area of Sphere : {area}\")"
   ]
  },
  {
   "cell_type": "code",
   "execution_count": 13,
   "id": "8a2be105-bc42-4725-a95a-09925eddf022",
   "metadata": {},
   "outputs": [
    {
     "name": "stdin",
     "output_type": "stream",
     "text": [
      "Enter dollar: 10\n"
     ]
    },
    {
     "name": "stdout",
     "output_type": "stream",
     "text": [
      "Ampunt in indian rupees is :857.5\n"
     ]
    }
   ],
   "source": [
    "# 9) wap ask the user enter amount in dollars convert into rupees\n",
    "#     1$=85rs\n",
    "\n",
    "dollar = eval(input(\"Enter dollar:\"))\n",
    "ind_rupee = 85.75\n",
    "amount = dollar * ind_rupee\n",
    "print(f\"Ampunt in indian rupees is :{amount}\")"
   ]
  },
  {
   "cell_type": "code",
   "execution_count": 14,
   "id": "36035935-7ce6-403d-8c3b-a8e22bcf37ff",
   "metadata": {},
   "outputs": [
    {
     "name": "stdin",
     "output_type": "stream",
     "text": [
      "Enter Weight in kgs: 8\n"
     ]
    },
    {
     "name": "stdout",
     "output_type": "stream",
     "text": [
      "Weigth of 8 kg in pounds is 17.6\n"
     ]
    }
   ],
   "source": [
    "# 10)wap ask the user enter weight in kgs convert into pounds\n",
    "#    1kg= 2.2pounds\n",
    "kilo_grams = eval(input(\"Enter Weight in kgs:\"))\n",
    "pound = 2.2\n",
    "total = kilo_grams * pound \n",
    "print(f\"Weigth of {kilo_grams} kg in pounds is {total}\")"
   ]
  },
  {
   "cell_type": "code",
   "execution_count": null,
   "id": "cb1f1be3-7903-4aac-aa81-c4cbebc53021",
   "metadata": {},
   "outputs": [],
   "source": []
  }
 ],
 "metadata": {
  "kernelspec": {
   "display_name": "Python 3 (ipykernel)",
   "language": "python",
   "name": "python3"
  },
  "language_info": {
   "codemirror_mode": {
    "name": "ipython",
    "version": 3
   },
   "file_extension": ".py",
   "mimetype": "text/x-python",
   "name": "python",
   "nbconvert_exporter": "python",
   "pygments_lexer": "ipython3",
   "version": "3.12.7"
  }
 },
 "nbformat": 4,
 "nbformat_minor": 5
}
