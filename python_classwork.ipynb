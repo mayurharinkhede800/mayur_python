{
 "cells": [
  {
   "cell_type": "markdown",
   "id": "68b3a341-745b-408c-8641-1f077d9c52ad",
   "metadata": {},
   "source": []
  },
  {
   "cell_type": "code",
   "execution_count": 13,
   "id": "d40a2840-2478-4c28-9aa6-3b0ba1a12310",
   "metadata": {},
   "outputs": [
    {
     "data": {
      "text/plain": [
       "120"
      ]
     },
     "execution_count": 13,
     "metadata": {},
     "output_type": "execute_result"
    }
   ],
   "source": [
    "# Q1) Factorial recursion 5! = 5*4*3*2*1*\n",
    "def factorial(n):\n",
    "    if n == 0:\n",
    "        return(1)\n",
    "    else:\n",
    "        return n * factorial(n - 1)\n",
    "factorial(5)"
   ]
  },
  {
   "cell_type": "code",
   "execution_count": 26,
   "id": "564edb0d-b6dc-4fb2-a650-4b1ab3ddd88c",
   "metadata": {},
   "outputs": [
    {
     "name": "stdout",
     "output_type": "stream",
     "text": [
      "Enter 1 for addition , 2 for substraction , 3 for multiplication and 4 for division\n"
     ]
    },
    {
     "name": "stdin",
     "output_type": "stream",
     "text": [
      "enter 1 to 4 digits 3\n",
      "enter the number  5\n",
      "enter the number  6\n"
     ]
    },
    {
     "name": "stdout",
     "output_type": "stream",
     "text": [
      "result: 30\n"
     ]
    }
   ],
   "source": [
    "# Q2) calcultor\n",
    "def add(a,b):\n",
    "    return(a+b)\n",
    "def sub(a,b):\n",
    "    return(a-b)\n",
    "def mul(a,b):\n",
    "    return(a*b)\n",
    "def div(a,b):\n",
    "    return(a//b)\n",
    "\n",
    "print('Enter 1 for addition , 2 for substraction , 3 for multiplication and 4 for division')\n",
    "\n",
    "def main():\n",
    "    option=eval(input(\"enter 1 to 4 digits\"))\n",
    "    num1 = eval(input('enter the number '))\n",
    "    num2 = eval(input('enter the number '))\n",
    "    if option == 1:\n",
    "        return print('result:',add(num1,num2))\n",
    "    elif option ==2:\n",
    "        return print('result:',sub(num1,num2))\n",
    "    elif option ==3:\n",
    "        return print('result:',mul(num1,num2))\n",
    "    elif option ==4:\n",
    "        return print('result:',div(num1,num2))\n",
    "    else:\n",
    "        return print('enter valid number operations')\n",
    "main()"
   ]
  },
  {
   "cell_type": "code",
   "execution_count": null,
   "id": "dff0f362-b02e-4a41-9184-76bab6b009d8",
   "metadata": {},
   "outputs": [],
   "source": []
  },
  {
   "cell_type": "code",
   "execution_count": null,
   "id": "6ece7021-fb60-4f7a-bab5-7591788d10c7",
   "metadata": {},
   "outputs": [],
   "source": []
  },
  {
   "cell_type": "code",
   "execution_count": null,
   "id": "c5d52095-f9b0-4feb-a586-4189ac56f6fd",
   "metadata": {},
   "outputs": [],
   "source": []
  },
  {
   "cell_type": "code",
   "execution_count": null,
   "id": "2c2607d2-7e63-403d-a51d-65f750f9bfbc",
   "metadata": {},
   "outputs": [],
   "source": []
  },
  {
   "cell_type": "code",
   "execution_count": null,
   "id": "aa917270-b5aa-4b01-97e3-5bd49dd0a566",
   "metadata": {},
   "outputs": [],
   "source": []
  },
  {
   "cell_type": "code",
   "execution_count": null,
   "id": "0ce139fa-5e4f-4969-93a4-fa8bd3bb6a85",
   "metadata": {},
   "outputs": [],
   "source": []
  }
 ],
 "metadata": {
  "kernelspec": {
   "display_name": "Python 3 (ipykernel)",
   "language": "python",
   "name": "python3"
  },
  "language_info": {
   "codemirror_mode": {
    "name": "ipython",
    "version": 3
   },
   "file_extension": ".py",
   "mimetype": "text/x-python",
   "name": "python",
   "nbconvert_exporter": "python",
   "pygments_lexer": "ipython3",
   "version": "3.12.7"
  }
 },
 "nbformat": 4,
 "nbformat_minor": 5
}
