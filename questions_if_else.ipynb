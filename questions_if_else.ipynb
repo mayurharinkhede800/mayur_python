{
 "cells": [
  {
   "cell_type": "markdown",
   "id": "b6c79e58-c10d-49dd-a18d-29dfe5020f4d",
   "metadata": {},
   "source": []
  },
  {
   "cell_type": "code",
   "execution_count": 3,
   "id": "169bacba-003e-4a9d-803a-042c82f10a98",
   "metadata": {},
   "outputs": [
    {
     "name": "stdin",
     "output_type": "stream",
     "text": [
      "enter the number -8\n"
     ]
    },
    {
     "name": "stdout",
     "output_type": "stream",
     "text": [
      "-8 is negative number\n"
     ]
    }
   ],
   "source": [
    "number = eval(input('enter the number'))\n",
    "if number > 0:\n",
    "    print(f'{number} is positive number')\n",
    "elif number < 0:\n",
    "    print(f'{number} is negative number')\n",
    "else:\n",
    "    print(f'{number} is zero')"
   ]
  },
  {
   "cell_type": "code",
   "execution_count": 8,
   "id": "52a9869a-2fee-4989-94b9-4e8a89d795c1",
   "metadata": {},
   "outputs": [
    {
     "name": "stdin",
     "output_type": "stream",
     "text": [
      "enter the year 2303\n"
     ]
    },
    {
     "name": "stdout",
     "output_type": "stream",
     "text": [
      "2303 is not leap year\n"
     ]
    }
   ],
   "source": [
    "year = eval(input('enter the year'))\n",
    "if (year % 4 == 0 and year % 100 !=0) or (year %400==0):\n",
    "    print(f'{year} is leap year')\n",
    "else:\n",
    "    print(f'{year} is not leap year')"
   ]
  },
  {
   "cell_type": "code",
   "execution_count": 17,
   "id": "da41f44c-a943-4891-a38a-3db43d2a9b81",
   "metadata": {},
   "outputs": [
    {
     "name": "stdin",
     "output_type": "stream",
     "text": [
      "enter number 45\n",
      "enter number 1\n",
      "enter number 12\n"
     ]
    },
    {
     "name": "stdout",
     "output_type": "stream",
     "text": [
      "45\n"
     ]
    }
   ],
   "source": [
    "n1 = eval(input('enter number'))\n",
    "n2 = eval(input('enter number'))\n",
    "n3 = eval(input('enter number'))\n",
    "if n1 >= n2 and n1>=n3:\n",
    "    new = n1\n",
    "elif n2 >= n1 and n2 >= n3:\n",
    "    new = n2\n",
    "else:\n",
    "    new = n3\n",
    "print(new)"
   ]
  },
  {
   "cell_type": "code",
   "execution_count": 25,
   "id": "d4b2e669-f0e9-49d2-8054-722f49d8e0da",
   "metadata": {},
   "outputs": [
    {
     "name": "stdin",
     "output_type": "stream",
     "text": [
      "enter character p\n"
     ]
    },
    {
     "name": "stdout",
     "output_type": "stream",
     "text": [
      "a is consonet\n"
     ]
    }
   ],
   "source": [
    "s = input('enter character')\n",
    "if s == 'A' or s=='E' or s=='I' or s=='O' or s=='U' or s == 'a' or s=='e' or s=='i' or s=='o' or s=='u':\n",
    "    print(f'{str} is vowel')\n",
    "else:\n",
    "    print(f'{str} is consonet')\n"
   ]
  },
  {
   "cell_type": "code",
   "execution_count": 29,
   "id": "39ba883f-22e0-40ad-a8ce-251613f4e9cb",
   "metadata": {},
   "outputs": [
    {
     "name": "stdin",
     "output_type": "stream",
     "text": [
      "enter number 74\n"
     ]
    },
    {
     "name": "stdout",
     "output_type": "stream",
     "text": [
      "74 not is divisible by 3 and 5\n"
     ]
    }
   ],
   "source": [
    "num = eval(input('enter number'))\n",
    "if num % 3 ==0 or num % 5 ==0:\n",
    "    print(f'{num} is divisible by 3 and 5')\n",
    "else:\n",
    "    print(f'{num} not is divisible by 3 and 5')"
   ]
  },
  {
   "cell_type": "code",
   "execution_count": 44,
   "id": "e060885d-06e4-4e0f-8661-b2181784cbbd",
   "metadata": {},
   "outputs": [
    {
     "name": "stdin",
     "output_type": "stream",
     "text": [
      "enter marks between 1-100: 50\n"
     ]
    },
    {
     "name": "stdout",
     "output_type": "stream",
     "text": [
      "grade D\n"
     ]
    }
   ],
   "source": [
    "marks = eval(input('enter marks between 1-100:'))\n",
    "if marks >=90:\n",
    "    print('grade A')\n",
    "elif marks >= 80 and marks < 60:\n",
    "    print('grade B')\n",
    "elif marks >=60:\n",
    "    print('grade C')\n",
    "elif marks >= 50:\n",
    "    print('grade D')\n",
    "elif marks >= 35:\n",
    "    print('good')\n",
    "else:\n",
    "    print('fail')"
   ]
  },
  {
   "cell_type": "code",
   "execution_count": 47,
   "id": "e46566cc-d087-4349-b334-7ff46236af48",
   "metadata": {},
   "outputs": [
    {
     "name": "stdin",
     "output_type": "stream",
     "text": [
      "Enter a password:  Mayur@1234\n"
     ]
    },
    {
     "name": "stdout",
     "output_type": "stream",
     "text": [
      "Strong password.\n"
     ]
    }
   ],
   "source": [
    "password = input(\"Enter a password: \")\n",
    "\n",
    "if len(password) >= 8 and any(c.isupper() for c in password) and any(c.isdigit() for c in password):\n",
    "    print(\"Strong password.\")\n",
    "else:\n",
    "    print(\"Weak password. Ensure it's at least 8 characters long, has an uppercase letter, and contains a number.\")\n"
   ]
  },
  {
   "cell_type": "code",
   "execution_count": 50,
   "id": "68eda753-f747-4c65-b33c-dea512613875",
   "metadata": {},
   "outputs": [
    {
     "name": "stdin",
     "output_type": "stream",
     "text": [
      "enter a password mayur\n"
     ]
    },
    {
     "name": "stdout",
     "output_type": "stream",
     "text": [
      "not strong\n"
     ]
    }
   ],
   "source": [
    "password = input('enter a password')\n",
    "if len(password)>=8 and any(c.isupper() for c in password) and any(c.isdigit() for c in password):\n",
    "    print('strong password')\n",
    "else:\n",
    "    print('not strong')"
   ]
  },
  {
   "cell_type": "code",
   "execution_count": 55,
   "id": "f31c6545-ed21-4f76-a0d8-0440a75ce0d4",
   "metadata": {},
   "outputs": [
    {
     "name": "stdin",
     "output_type": "stream",
     "text": [
      "enter first side 1\n",
      "enter second side 2\n",
      "enter third side 3\n"
     ]
    },
    {
     "name": "stdout",
     "output_type": "stream",
     "text": [
      "scalene Triangle\n"
     ]
    }
   ],
   "source": [
    "side1 = eval(input('enter first side'))\n",
    "side2 = eval(input('enter second side'))\n",
    "side3 = eval(input('enter third side'))\n",
    "\n",
    "if side1 == side2 ==side3:\n",
    "    print(\"Equilateral triangle\")\n",
    "elif side1 == side2 and side2 == side3 and side3 == side1:\n",
    "    print(\"isosceles Triangle\")\n",
    "else:\n",
    "    print(\"scalene Triangle\")"
   ]
  },
  {
   "cell_type": "code",
   "execution_count": 57,
   "id": "c90c108f-5b57-4e79-9a81-97180e6dc686",
   "metadata": {},
   "outputs": [
    {
     "name": "stdin",
     "output_type": "stream",
     "text": [
      "enter number between 1-100 444\n"
     ]
    },
    {
     "name": "stdout",
     "output_type": "stream",
     "text": [
      "444 is not in range\n"
     ]
    }
   ],
   "source": [
    "numm = eval(input('enter number between 1-100'))\n",
    "if numm > 0 and numm <=100:\n",
    "    print(f'{numm} is in range')\n",
    "else:\n",
    "    print(f'{numm} is not in range')"
   ]
  },
  {
   "cell_type": "code",
   "execution_count": 59,
   "id": "4fbfc3a1-ce0c-4c35-bc56-a41cbc05d6bb",
   "metadata": {},
   "outputs": [
    {
     "name": "stdin",
     "output_type": "stream",
     "text": [
      "Enter a string:  12223\n"
     ]
    },
    {
     "name": "stdout",
     "output_type": "stream",
     "text": [
      "'12223' is not a palindrome.\n"
     ]
    }
   ],
   "source": [
    "text = input(\"Enter a string: \")\n",
    "\n",
    "if text == text[::-1]:\n",
    "    print(f\"'{text}' is a palindrome.\")\n",
    "else:\n",
    "    print(f\"'{text}' is not a palindrome.\")\n"
   ]
  },
  {
   "cell_type": "code",
   "execution_count": null,
   "id": "70c9648e-f787-4c64-b4c1-20bb53013a7c",
   "metadata": {},
   "outputs": [],
   "source": [
    "age = eval(input('enter your age:'))\n",
    "if age >= 18:\n",
    "    print(\"you are eligible to vote\")\n",
    "else:\n",
    "    print('you are not "
   ]
  },
  {
   "cell_type": "code",
   "execution_count": 9,
   "id": "28406bef-1a35-42a5-8ffb-558ffcdd5d6b",
   "metadata": {},
   "outputs": [
    {
     "name": "stdin",
     "output_type": "stream",
     "text": [
      "enter the text here masm\n"
     ]
    },
    {
     "name": "stdout",
     "output_type": "stream",
     "text": [
      "not\n"
     ]
    }
   ],
   "source": [
    "text = input('enter the text here')\n",
    "length = len(text)\n",
    "pallin = True\n",
    "for i in range(length//2):\n",
    "    if text[i] != text[length-i-1]:\n",
    "        pallin = False\n",
    "        break\n",
    "if pallin:\n",
    "    print('yes')\n",
    "else:\n",
    "    print('not')"
   ]
  },
  {
   "cell_type": "code",
   "execution_count": null,
   "id": "5111aa48-546b-42ca-a6c4-f31b460848b3",
   "metadata": {},
   "outputs": [],
   "source": []
  }
 ],
 "metadata": {
  "kernelspec": {
   "display_name": "Python 3 (ipykernel)",
   "language": "python",
   "name": "python3"
  },
  "language_info": {
   "codemirror_mode": {
    "name": "ipython",
    "version": 3
   },
   "file_extension": ".py",
   "mimetype": "text/x-python",
   "name": "python",
   "nbconvert_exporter": "python",
   "pygments_lexer": "ipython3",
   "version": "3.12.7"
  }
 },
 "nbformat": 4,
 "nbformat_minor": 5
}
