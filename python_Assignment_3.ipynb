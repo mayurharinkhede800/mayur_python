{
 "cells": [
  {
   "cell_type": "code",
   "execution_count": null,
   "id": "048a3f21-f242-4aa9-ab48-9d9a3d8458e3",
   "metadata": {},
   "outputs": [],
   "source": []
  },
  {
   "cell_type": "code",
   "execution_count": 41,
   "id": "bbb89f93-f3c8-4472-ae71-7e3c30aaba5d",
   "metadata": {},
   "outputs": [
    {
     "name": "stdout",
     "output_type": "stream",
     "text": [
      "16 41 42\n",
      "Average of three random Number is: 33\n"
     ]
    }
   ],
   "source": [
    "# 1)wap ask the user enter 3 random numbers n1,n2,n3 from ketboard\n",
    "# calculate average\n",
    "\n",
    "import random \n",
    "import time\n",
    "n1 = random.randint(1,50)\n",
    "n2 = random.randint(1,50)\n",
    "n3 = random.randint(1,50)\n",
    "print(n1,n2,n3)\n",
    "avg1 = (n1+n2+n3)/3\n",
    "avg = math.ceil(avg1)\n",
    "time.sleep(3)\n",
    "print(\"Average of three random Number is:\",avg)"
   ]
  },
  {
   "cell_type": "code",
   "execution_count": 7,
   "id": "6c08b74b-c619-4177-9c06-db69ee6889b9",
   "metadata": {},
   "outputs": [
    {
     "name": "stdin",
     "output_type": "stream",
     "text": [
      "Enter name : python \n",
      "Enter City : hyd\n"
     ]
    },
    {
     "name": "stdout",
     "output_type": "stream",
     "text": [
      "my name is python  im 4 year old and came from hyd\n"
     ]
    }
   ],
   "source": [
    "# 2)wap ask the user enter name \n",
    "#      random age  and  city using input\n",
    "# print my name is python im 10 years old and came from hyd\n",
    "\n",
    "name = input(\"Enter name :\")\n",
    "age = random.randint(1,11)\n",
    "city = input(\"Enter City :\")\n",
    "\n",
    "print(\"my name is {} im {} year old and came from {}\".format(name,age,city))"
   ]
  },
  {
   "cell_type": "code",
   "execution_count": 39,
   "id": "759c2023-4b62-4358-a23c-38f8a8ee3372",
   "metadata": {},
   "outputs": [
    {
     "name": "stdout",
     "output_type": "stream",
     "text": [
      "5\n",
      "Area of circle using random radius: 79\n"
     ]
    }
   ],
   "source": [
    "# 3)wap ask the user to enter random radidus of a circle calculate area of the circle\n",
    "# var: radidus  var: pi=3.14\n",
    "# formuale: pi*radius*radius\n",
    "# print the answers using f string and format\n",
    "\n",
    "radius = random.randint(5,10)\n",
    "pi = 3.14\n",
    "area1 = pi * radius * radius\n",
    "area = math.ceil(area1)\n",
    "print(radius)\n",
    "time.sleep(2)\n",
    "print(\"Area of circle using random radius:\",area)"
   ]
  },
  {
   "cell_type": "code",
   "execution_count": 38,
   "id": "79cc1514-5d7f-49f0-baae-962802a6feb0",
   "metadata": {},
   "outputs": [
    {
     "name": "stdout",
     "output_type": "stream",
     "text": [
      "15 14\n",
      "Area of right angle triangle is : 105\n"
     ]
    }
   ],
   "source": [
    "# 4)wap ask the user enter random breadth and height of a right angle triangle\n",
    "# calculate the area\n",
    "# var1: bredath  var2: height\n",
    "# formuale : 0.5*breadth*heigh\n",
    "\n",
    "breadth = random.randint(10,20)\n",
    "height = random.randint(10,20)\n",
    "area1 = 0.5 * breadth * height\n",
    "area = math.ceil(area1)\n",
    "print(breadth , height)\n",
    "time.sleep(2)\n",
    "print(\"Area of right angle triangle is :\",area)"
   ]
  },
  {
   "cell_type": "code",
   "execution_count": 13,
   "id": "bff46f5b-ea9f-4d3f-a740-7c3755d70199",
   "metadata": {},
   "outputs": [
    {
     "name": "stdout",
     "output_type": "stream",
     "text": [
      "2741 190\n",
      "Total Amount is : 2931\n"
     ]
    }
   ],
   "source": [
    "# 5)wap ask the user the random bill amount and tip amount\n",
    "#   calculate total bill\n",
    "#   var1: bill amount var2: tip amount\n",
    "#   formuale\n",
    "\n",
    "bill_amount = random.randint(1000,5000)\n",
    "tip_amount = random.randint(100,500)\n",
    "total_amount = bill_amount + tip_amount\n",
    "print(bill_amount , tip_amount)\n",
    "time.sleep(2)\n",
    "print(\"Total Amount is :\",total_amount)\n"
   ]
  },
  {
   "cell_type": "code",
   "execution_count": 37,
   "id": "ca9775f5-4aa8-4f6d-a9d6-d34858d4323c",
   "metadata": {},
   "outputs": [
    {
     "name": "stdout",
     "output_type": "stream",
     "text": [
      "2250 2\n",
      "Total bill amount : 2295\n"
     ]
    }
   ],
   "source": [
    "# 6)wap ask the user the random bill amount and tip percentage\n",
    "#    take tip percentage as 10\n",
    "#   calculate total bill= bill amount+ bill amount*tip per/100\n",
    "#   var1: bill amount var2: tip amount\n",
    "#    formuale\n",
    "bill_amount = random.randint(1000,5000)\n",
    "tip_amount = random.randint(1,10)\n",
    "total_amount1 = bill_amount + bill_amount * tip_amount / 100\n",
    "total_amount = math.ceil(total_amount1)\n",
    "print(bill_amount,tip_amount)\n",
    "time.sleep(2)\n",
    "print('Total bill amount :',total_amount)"
   ]
  },
  {
   "cell_type": "code",
   "execution_count": 17,
   "id": "b4ca4766-cfc3-4538-81dd-4a5298fceeb5",
   "metadata": {},
   "outputs": [
    {
     "name": "stdout",
     "output_type": "stream",
     "text": [
      "16 23\n",
      "area of rectangle : 368\n"
     ]
    }
   ],
   "source": [
    "# 7)wap ask the random length and breadth of a rectangle calculate area\n",
    "#   var1: length  var2: breadth\n",
    "#   formulae: length * breadth\n",
    "\n",
    "length = random.randint(10,50)\n",
    "breadth = random.randint(10,50)\n",
    "\n",
    "area = length * breadth\n",
    "print(length,breadth)\n",
    "time.sleep(2)\n",
    "print('area of rectangle :',area)"
   ]
  },
  {
   "cell_type": "code",
   "execution_count": 18,
   "id": "84a3fd91-30d4-4121-947a-c6eb239b171d",
   "metadata": {},
   "outputs": [
    {
     "name": "stdout",
     "output_type": "stream",
     "text": [
      "10\n",
      "Area of Sphere : 3140.0\n"
     ]
    }
   ],
   "source": [
    "# 8) wap ask the user take the random radius and calculate volume of sphere\n",
    "#   formulae: pi*r**3(pi*r*r*r)\n",
    "\n",
    "radius = random.randint(1,20)\n",
    "pi = 3.14\n",
    "area = pi * radius * radius * radius \n",
    "print(radius)\n",
    "time.sleep(2)\n",
    "print(\"Area of Sphere :\",area)"
   ]
  },
  {
   "cell_type": "code",
   "execution_count": 23,
   "id": "940fe8f2-9519-421a-8149-f170c34eb3ae",
   "metadata": {},
   "outputs": [
    {
     "name": "stdout",
     "output_type": "stream",
     "text": [
      "49\n",
      "49 dollars in rupees is : 4165\n"
     ]
    }
   ],
   "source": [
    "# 9) wap ask the user enter random  amount in dollars convert into rupees\n",
    "#     1$=85rs\n",
    "\n",
    "dollar = random.randint(1,100)\n",
    "ind_rupee = dollar * 85\n",
    "print(dollar)\n",
    "time.sleep(2)\n",
    "print(f\"{dollar} dollars in rupees is : {ind_rupee}\")"
   ]
  },
  {
   "cell_type": "code",
   "execution_count": 36,
   "id": "d3f91713-22f9-4f7d-9cea-c01f2ea12d78",
   "metadata": {},
   "outputs": [
    {
     "name": "stdout",
     "output_type": "stream",
     "text": [
      "75\n",
      "75 in pounds is 165\n"
     ]
    }
   ],
   "source": [
    "# 10)wap ask the user enter random weight in kgs convert into pounds\n",
    "#    1kg= 2.2pounds\n",
    "import math\n",
    "import random\n",
    "weight = random.randint(40,80)\n",
    "pounds = weight * 2.2\n",
    "print(weight)\n",
    "pound = math.ceil(pounds)\n",
    "time.sleep(2)\n",
    "print(f'{weight} in pounds is {pound}')"
   ]
  },
  {
   "cell_type": "code",
   "execution_count": null,
   "id": "ccc21123-c7d9-480c-9429-2edfbe1193cf",
   "metadata": {},
   "outputs": [],
   "source": []
  },
  {
   "cell_type": "code",
   "execution_count": null,
   "id": "9efbea2b-6744-4354-b796-f8c4e8ae02f4",
   "metadata": {},
   "outputs": [],
   "source": []
  }
 ],
 "metadata": {
  "kernelspec": {
   "display_name": "Python 3 (ipykernel)",
   "language": "python",
   "name": "python3"
  },
  "language_info": {
   "codemirror_mode": {
    "name": "ipython",
    "version": 3
   },
   "file_extension": ".py",
   "mimetype": "text/x-python",
   "name": "python",
   "nbconvert_exporter": "python",
   "pygments_lexer": "ipython3",
   "version": "3.12.7"
  }
 },
 "nbformat": 4,
 "nbformat_minor": 5
}
