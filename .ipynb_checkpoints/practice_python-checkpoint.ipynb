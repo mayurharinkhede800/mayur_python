{
 "cells": [
  {
   "cell_type": "markdown",
   "id": "5bd1eaae-9866-4c4c-9ea2-4a1e5da978aa",
   "metadata": {},
   "source": [
    "**variable**\n",
    "- hii "
   ]
  },
  {
   "cell_type": "code",
   "execution_count": 1,
   "id": "1a43ab47-4ab7-4d8c-8218-1d9277515093",
   "metadata": {},
   "outputs": [
    {
     "data": {
      "text/plain": [
       "10"
      ]
     },
     "execution_count": 1,
     "metadata": {},
     "output_type": "execute_result"
    }
   ],
   "source": [
    "var = 10\n",
    "var"
   ]
  },
  {
   "cell_type": "code",
   "execution_count": 12,
   "id": "751bb467-e087-4cd4-951b-2b65855c79eb",
   "metadata": {},
   "outputs": [
    {
     "name": "stdout",
     "output_type": "stream",
     "text": [
      "first name : mayur middle name :  rajkumar last name :  harinkhede\n",
      "first name : mayur  middle name : rajkumar last name: harinkhede\n",
      "first name : mayur middle name : rajkumar and last name : harinkhede\n"
     ]
    }
   ],
   "source": [
    "fname = \"mayur\"\n",
    "mname = \"rajkumar\"\n",
    "lname = \"harinkhede\"\n",
    "\n",
    "print(\"first name :\",fname,\"middle name : \",mname,\"last name : \",lname)\n",
    "print('first name : {}  middle name : {} last name: {}'.format(fname,mname,lname))\n",
    "print(f\"first name : {fname} middle name : {mname} and last name : {lname}\")"
   ]
  },
  {
   "cell_type": "code",
   "execution_count": 27,
   "id": "131cd1aa-f9ae-4824-9bad-34afc03a67df",
   "metadata": {},
   "outputs": [
    {
     "name": "stdout",
     "output_type": "stream",
     "text": [
      "mayur rajkumar harinkhede\n",
      "rajkumar\n",
      "harinkhede\n",
      "mayur rajkumar harinkhede\n",
      "mayur rajkumar harinkhede\n",
      "mayur rajkumar harinkhede "
     ]
    }
   ],
   "source": [
    "fname = \"mayur\"\n",
    "mname = \"rajkumar\"\n",
    "lname = \"harinkhede\"\n",
    "\n",
    "print(fname,mname,lname,sep=' ')\n",
    "print(mname,sep=' ')\n",
    "print(lname,sep=' ')\n",
    "print(fname,mname,lname,sep=' ')\n",
    "\n",
    "print(fname,end=' ')\n",
    "print(mname,end=' ')\n",
    "print(lname,sep=' ')\n",
    "print(fname,mname,lname,end=' ')"
   ]
  },
  {
   "cell_type": "code",
   "execution_count": 19,
   "id": "27573664-4d1f-464a-86fd-2331b064c381",
   "metadata": {},
   "outputs": [
    {
     "name": "stdout",
     "output_type": "stream",
     "text": [
      "Hello\n",
      "World!\n"
     ]
    }
   ],
   "source": [
    "print(\"Hello\", sep=\"\")\n",
    "print(\"World!\")"
   ]
  },
  {
   "cell_type": "code",
   "execution_count": 29,
   "id": "9bb99f71-5700-4b95-8dca-4260ae8d7f44",
   "metadata": {},
   "outputs": [
    {
     "name": "stdout",
     "output_type": "stream",
     "text": [
      "mayur rajkumar harinkhede mayur rajkumar harinkhede "
     ]
    }
   ],
   "source": [
    "print(fname,end=' ')\n",
    "print(mname,end=' ')\n",
    "print(lname,end='')\n",
    "print(fname,mname,lname,end=' ')"
   ]
  },
  {
   "cell_type": "code",
   "execution_count": 44,
   "id": "f262007a-1666-41fb-b732-a08916c5cde3",
   "metadata": {},
   "outputs": [
    {
     "name": "stdin",
     "output_type": "stream",
     "text": [
      " 2\n"
     ]
    },
    {
     "data": {
      "text/plain": [
       "2.0"
      ]
     },
     "execution_count": 44,
     "metadata": {},
     "output_type": "execute_result"
    }
   ],
   "source": [
    "float(input())"
   ]
  },
  {
   "cell_type": "code",
   "execution_count": 32,
   "id": "bbef27be-bab8-4ee9-8bd3-8cbce4f89780",
   "metadata": {},
   "outputs": [
    {
     "name": "stdin",
     "output_type": "stream",
     "text": [
      "enter the number : 5\n"
     ]
    },
    {
     "name": "stdout",
     "output_type": "stream",
     "text": [
      "5\n"
     ]
    }
   ],
   "source": [
    "age = eval(input(\"enter the number :\"))\n",
    "print(age)"
   ]
  },
  {
   "cell_type": "code",
   "execution_count": 34,
   "id": "1d2551b4-d893-4c1e-81a0-1a74fba8bcb7",
   "metadata": {},
   "outputs": [
    {
     "name": "stdin",
     "output_type": "stream",
     "text": [
      "enter the number : 5\n"
     ]
    },
    {
     "name": "stdout",
     "output_type": "stream",
     "text": [
      "5\n"
     ]
    }
   ],
   "source": [
    "age = int(input(\"enter the number :\"))\n",
    "print(age)"
   ]
  },
  {
   "cell_type": "code",
   "execution_count": 42,
   "id": "b469e970-2b0a-4ed8-9bc7-a54cb5ea229e",
   "metadata": {},
   "outputs": [
    {
     "name": "stdin",
     "output_type": "stream",
     "text": [
      "enter the number : 2\n"
     ]
    },
    {
     "name": "stdout",
     "output_type": "stream",
     "text": [
      "2\n"
     ]
    }
   ],
   "source": [
    "age = int(input(\"enter the number :\"))\n",
    "print(age)"
   ]
  },
  {
   "cell_type": "code",
   "execution_count": 51,
   "id": "e0389ca2-7418-4045-aa59-f18f2b460afa",
   "metadata": {},
   "outputs": [
    {
     "name": "stdin",
     "output_type": "stream",
     "text": [
      " '2'\n",
      " 2\n"
     ]
    },
    {
     "data": {
      "text/plain": [
       "4"
      ]
     },
     "execution_count": 51,
     "metadata": {},
     "output_type": "execute_result"
    }
   ],
   "source": [
    "a=eval(input())\n",
    "b=input()\n",
    "int(a)+int(b)"
   ]
  },
  {
   "cell_type": "code",
   "execution_count": 50,
   "id": "fc934592-bc64-4255-b642-af814abcfcbd",
   "metadata": {},
   "outputs": [
    {
     "name": "stdin",
     "output_type": "stream",
     "text": [
      " '2'\n",
      " '3'\n"
     ]
    },
    {
     "data": {
      "text/plain": [
       "\"'2''3'\""
      ]
     },
     "execution_count": 50,
     "metadata": {},
     "output_type": "execute_result"
    }
   ],
   "source": [
    "a = input()\n",
    "b = input()\n",
    "a+b"
   ]
  },
  {
   "cell_type": "code",
   "execution_count": 53,
   "id": "3017bab3-d908-4c18-aaf4-0882d1c73f77",
   "metadata": {},
   "outputs": [
    {
     "data": {
      "text/plain": [
       "<module 'random' from 'C:\\\\Users\\\\HP\\\\anaconda3\\\\Lib\\\\random.py'>"
      ]
     },
     "execution_count": 53,
     "metadata": {},
     "output_type": "execute_result"
    }
   ],
   "source": [
    "import random\n",
    "random"
   ]
  },
  {
   "cell_type": "code",
   "execution_count": 54,
   "id": "31bb7040-055e-4254-b33f-edb18e71f8c2",
   "metadata": {},
   "outputs": [
    {
     "data": {
      "text/plain": [
       "['BPF',\n",
       " 'LOG4',\n",
       " 'NV_MAGICCONST',\n",
       " 'RECIP_BPF',\n",
       " 'Random',\n",
       " 'SG_MAGICCONST',\n",
       " 'SystemRandom',\n",
       " 'TWOPI',\n",
       " '_ONE',\n",
       " '_Sequence',\n",
       " '__all__',\n",
       " '__builtins__',\n",
       " '__cached__',\n",
       " '__doc__',\n",
       " '__file__',\n",
       " '__loader__',\n",
       " '__name__',\n",
       " '__package__',\n",
       " '__spec__',\n",
       " '_accumulate',\n",
       " '_acos',\n",
       " '_bisect',\n",
       " '_ceil',\n",
       " '_cos',\n",
       " '_e',\n",
       " '_exp',\n",
       " '_fabs',\n",
       " '_floor',\n",
       " '_index',\n",
       " '_inst',\n",
       " '_isfinite',\n",
       " '_lgamma',\n",
       " '_log',\n",
       " '_log2',\n",
       " '_os',\n",
       " '_pi',\n",
       " '_random',\n",
       " '_repeat',\n",
       " '_sha512',\n",
       " '_sin',\n",
       " '_sqrt',\n",
       " '_test',\n",
       " '_test_generator',\n",
       " '_urandom',\n",
       " '_warn',\n",
       " 'betavariate',\n",
       " 'binomialvariate',\n",
       " 'choice',\n",
       " 'choices',\n",
       " 'expovariate',\n",
       " 'gammavariate',\n",
       " 'gauss',\n",
       " 'getrandbits',\n",
       " 'getstate',\n",
       " 'lognormvariate',\n",
       " 'normalvariate',\n",
       " 'paretovariate',\n",
       " 'randbytes',\n",
       " 'randint',\n",
       " 'random',\n",
       " 'randrange',\n",
       " 'sample',\n",
       " 'seed',\n",
       " 'setstate',\n",
       " 'shuffle',\n",
       " 'triangular',\n",
       " 'uniform',\n",
       " 'vonmisesvariate',\n",
       " 'weibullvariate']"
      ]
     },
     "execution_count": 54,
     "metadata": {},
     "output_type": "execute_result"
    }
   ],
   "source": [
    "dir(random)"
   ]
  },
  {
   "cell_type": "code",
   "execution_count": 57,
   "id": "3383fa50-b83d-4aea-963f-d86d35ad7c99",
   "metadata": {},
   "outputs": [
    {
     "ename": "NameError",
     "evalue": "name '__init__' is not defined",
     "output_type": "error",
     "traceback": [
      "\u001b[1;31m---------------------------------------------------------------------------\u001b[0m",
      "\u001b[1;31mNameError\u001b[0m                                 Traceback (most recent call last)",
      "Cell \u001b[1;32mIn[57], line 1\u001b[0m\n\u001b[1;32m----> 1\u001b[0m \u001b[38;5;21m__init__\u001b[39m\u001b[38;5;241m.\u001b[39mpy\n",
      "\u001b[1;31mNameError\u001b[0m: name '__init__' is not defined"
     ]
    }
   ],
   "source": [
    "__init__.py"
   ]
  },
  {
   "cell_type": "code",
   "execution_count": 60,
   "id": "9b3d426d-b04d-41ae-b3b9-f8e7be978007",
   "metadata": {},
   "outputs": [
    {
     "ename": "TypeError",
     "evalue": "list.append() takes exactly one argument (0 given)",
     "output_type": "error",
     "traceback": [
      "\u001b[1;31m---------------------------------------------------------------------------\u001b[0m",
      "\u001b[1;31mTypeError\u001b[0m                                 Traceback (most recent call last)",
      "Cell \u001b[1;32mIn[60], line 2\u001b[0m\n\u001b[0;32m      1\u001b[0m \u001b[38;5;28;01mimport\u001b[39;00m \u001b[38;5;21;01msys\u001b[39;00m\n\u001b[1;32m----> 2\u001b[0m sys\u001b[38;5;241m.\u001b[39mpath\u001b[38;5;241m.\u001b[39mappend()\n",
      "\u001b[1;31mTypeError\u001b[0m: list.append() takes exactly one argument (0 given)"
     ]
    }
   ],
   "source": []
  },
  {
   "cell_type": "code",
   "execution_count": 68,
   "id": "b1ce60b1-0c3d-4332-8d3f-867ff68df83b",
   "metadata": {},
   "outputs": [
    {
     "name": "stdout",
     "output_type": "stream",
     "text": [
      "fact(1)=1\n",
      "fact(2)=2\n",
      "fact(3)=6\n",
      "fact(4)=24\n",
      "fact(5)=120\n"
     ]
    }
   ],
   "source": [
    "def fact(n): \n",
    "    if(n<0): \n",
    "        print(\"{} Not posssible to calculate Factorial\".format(n)) \n",
    "    else:\n",
    "        f=1 \n",
    "        for i in range(1,n+1):\n",
    "            f=f*i\n",
    "            print(\"fact({})={}\".format(i,f))\n",
    "fact(5)"
   ]
  },
  {
   "cell_type": "code",
   "execution_count": 71,
   "id": "90b7ab41-c129-4908-87a1-448736bb5d85",
   "metadata": {},
   "outputs": [
    {
     "name": "stdout",
     "output_type": "stream",
     "text": [
      "1\n",
      "2\n",
      "6\n",
      "24\n",
      "120\n"
     ]
    }
   ],
   "source": [
    "n=5\n",
    "f = 1\n",
    "for i in range(1,n+1):\n",
    "    f = f*i\n",
    "    print(f)"
   ]
  },
  {
   "cell_type": "code",
   "execution_count": 72,
   "id": "79278a21-c1e0-4968-899e-be5ec2959f96",
   "metadata": {},
   "outputs": [
    {
     "data": {
      "text/plain": [
       "111110"
      ]
     },
     "execution_count": 72,
     "metadata": {},
     "output_type": "execute_result"
    }
   ],
   "source": [
    "111110"
   ]
  },
  {
   "cell_type": "code",
   "execution_count": 8,
   "id": "55e6581a-6700-4ae2-a262-dded74ae82a6",
   "metadata": {},
   "outputs": [
    {
     "name": "stdin",
     "output_type": "stream",
     "text": [
      "first number: 5\n",
      "second number: 6\n"
     ]
    },
    {
     "name": "stdout",
     "output_type": "stream",
     "text": [
      "11\n"
     ]
    }
   ],
   "source": [
    "def fun1():\n",
    "    a = eval(input('first number:'))\n",
    "    b = eval(input('second number:'))\n",
    "    c = a + b \n",
    "    print(c)\n",
    "fun1()"
   ]
  },
  {
   "cell_type": "code",
   "execution_count": 10,
   "id": "bb77e661-9399-4779-ba2f-a65249c465e0",
   "metadata": {},
   "outputs": [
    {
     "name": "stdout",
     "output_type": "stream",
     "text": [
      "30\n"
     ]
    }
   ],
   "source": [
    "def fun2(a,b):\n",
    "    a=10\n",
    "    b=20\n",
    "    c = a + b\n",
    "    print(c)\n",
    "fun2(10,50)"
   ]
  },
  {
   "cell_type": "code",
   "execution_count": 16,
   "id": "20075d76-d03c-453a-8f15-793f2529f60f",
   "metadata": {},
   "outputs": [
    {
     "name": "stdout",
     "output_type": "stream",
     "text": [
      "54.13\n"
     ]
    }
   ],
   "source": [
    "def fun3(a=33.333333,b=20.8):\n",
    "    c = a + b\n",
    "    c1=round(c,2)\n",
    "    print(c1)\n",
    "fun3()"
   ]
  },
  {
   "cell_type": "code",
   "execution_count": 20,
   "id": "3a0e9faf-92d0-41ce-82eb-6e003f622720",
   "metadata": {},
   "outputs": [
    {
     "name": "stdout",
     "output_type": "stream",
     "text": [
      "42.22\n"
     ]
    }
   ],
   "source": [
    "a ,b = 33.333,8.8822\n",
    "c = a + b\n",
    "c1 = round(c,2)\n",
    "print(c1)"
   ]
  },
  {
   "cell_type": "code",
   "execution_count": 21,
   "id": "ad66e8f0-50dd-4278-a61a-abb0940c430b",
   "metadata": {},
   "outputs": [
    {
     "name": "stdin",
     "output_type": "stream",
     "text": [
      "second 50\n"
     ]
    },
    {
     "name": "stdout",
     "output_type": "stream",
     "text": [
      "100\n"
     ]
    }
   ],
   "source": [
    "def fun4(a):\n",
    "    b = eval(input('second'))\n",
    "    c = a + b\n",
    "    print(c)\n",
    "fun4(50)"
   ]
  },
  {
   "cell_type": "code",
   "execution_count": 23,
   "id": "d9e22b2a-7385-423a-b00c-c3c3119b6216",
   "metadata": {},
   "outputs": [
    {
     "name": "stdin",
     "output_type": "stream",
     "text": [
      " 100\n"
     ]
    },
    {
     "name": "stdout",
     "output_type": "stream",
     "text": [
      "python 100 hyd\n"
     ]
    }
   ],
   "source": [
    "def fun5(name='python',city='hyd'):\n",
    "    age = int(input())\n",
    "    print(name,age,city)\n",
    "fun5()"
   ]
  },
  {
   "cell_type": "code",
   "execution_count": 30,
   "id": "c71062f1-a2b5-486f-b8b0-347b932a0c20",
   "metadata": {},
   "outputs": [
    {
     "name": "stdout",
     "output_type": "stream",
     "text": [
      "total bill is: 1500.0\n"
     ]
    }
   ],
   "source": [
    "tip_per=30\n",
    "def bill_amount1(bill,tip_per=20):\n",
    "    tip_per=50\n",
    "    tip_amount=bill*tip_per/100\n",
    "    total_bill=bill+tip_amount\n",
    "    print('total bill is:',total_bill)\n",
    "bill_amount1(1000,10)\n"
   ]
  },
  {
   "cell_type": "code",
   "execution_count": 33,
   "id": "549b9e92-57ea-45e4-a9e7-cfa2b2c682e9",
   "metadata": {},
   "outputs": [
    {
     "name": "stdout",
     "output_type": "stream",
     "text": [
      "total bill is: 1100.0\n"
     ]
    }
   ],
   "source": [
    "def bill_amount1(bill,tip_per):\n",
    "    tip_amount=bill*tip_per/100\n",
    "    total_bill=bill+tip_amount\n",
    "    print('total bill is:',total_bill)\n",
    "bill_amount1(1000,10)"
   ]
  },
  {
   "cell_type": "code",
   "execution_count": 37,
   "id": "b5c8d42a-9ef2-4e7c-9c4f-39637c63b73f",
   "metadata": {},
   "outputs": [
    {
     "name": "stdout",
     "output_type": "stream",
     "text": [
      "total bill is: 1100.0\n"
     ]
    }
   ],
   "source": [
    "tip_per = 20\n",
    "def bill_amount1(bill,tip_per=30):\n",
    "    tip_amount=bill*tip_per/100\n",
    "    total_bill=bill+tip_amount\n",
    "    print('total bill is:',total_bill)\n",
    "bill_amount1(1000,10)"
   ]
  },
  {
   "cell_type": "code",
   "execution_count": 51,
   "id": "2a78d9b4-0ead-49e6-bf77-610a179ec4aa",
   "metadata": {},
   "outputs": [
    {
     "name": "stdout",
     "output_type": "stream",
     "text": [
      "140\n"
     ]
    }
   ],
   "source": [
    "a = 10\n",
    "b = 20 \n",
    "def fun6(a = 30 , b = 40):\n",
    "    a = 50\n",
    "    # b = 60\n",
    "    c = a + b\n",
    "    print(c)\n",
    "fun6(80,90)"
   ]
  },
  {
   "cell_type": "code",
   "execution_count": 54,
   "id": "41fecdb2-a895-4e8e-a9c1-cd3597aed7ba",
   "metadata": {},
   "outputs": [
    {
     "name": "stdout",
     "output_type": "stream",
     "text": [
      "1020\n"
     ]
    }
   ],
   "source": [
    "a = '10'\n",
    "b = '20' \n",
    "def fun6(a, b):\n",
    "    c = a + b\n",
    "    print(c)\n",
    "fun6(a,b)"
   ]
  },
  {
   "cell_type": "code",
   "execution_count": 56,
   "id": "7a3e70ad-0e8d-4fcc-9edd-0c3844ea8fb0",
   "metadata": {},
   "outputs": [
    {
     "name": "stdout",
     "output_type": "stream",
     "text": [
      "70\n"
     ]
    }
   ],
   "source": [
    "a = 10 \n",
    "b = 20 \n",
    "if a < b:\n",
    "    a = 30\n",
    "    b=40\n",
    "    c = a + b\n",
    "    print(c)"
   ]
  },
  {
   "cell_type": "code",
   "execution_count": 7,
   "id": "4ef21002-9f5f-4df0-a2cb-c7266c2ca116",
   "metadata": {},
   "outputs": [
    {
     "name": "stdout",
     "output_type": "stream",
     "text": [
      "area:392.5\n"
     ]
    }
   ],
   "source": [
    "import random\n",
    "r = random.randint(1,10)\n",
    "pi=3.14\n",
    "area = pi * r * r * r\n",
    "print(f'area:{area}')"
   ]
  },
  {
   "cell_type": "markdown",
   "id": "4cfc6cc6-0b1f-4346-a283-373bd4c20e31",
   "metadata": {},
   "source": [
    "$ **strings** $"
   ]
  },
  {
   "cell_type": "code",
   "execution_count": 8,
   "id": "1ad573a4-7a4a-4089-a7d4-c520afb39310",
   "metadata": {},
   "outputs": [
    {
     "data": {
      "text/plain": [
       "'hello python'"
      ]
     },
     "execution_count": 8,
     "metadata": {},
     "output_type": "execute_result"
    }
   ],
   "source": [
    "str1 = 'hello python'\n",
    "str1"
   ]
  },
  {
   "cell_type": "code",
   "execution_count": 2,
   "id": "10ecc75b-b157-48ad-b0b5-a9848af0a066",
   "metadata": {},
   "outputs": [
    {
     "name": "stdout",
     "output_type": "stream",
     "text": [
      "hello python\n"
     ]
    }
   ],
   "source": [
    "print(str1)"
   ]
  },
  {
   "cell_type": "code",
   "execution_count": 3,
   "id": "0f99e366-e38a-4f41-838c-1144afa82363",
   "metadata": {},
   "outputs": [
    {
     "data": {
      "text/plain": [
       "str"
      ]
     },
     "execution_count": 3,
     "metadata": {},
     "output_type": "execute_result"
    }
   ],
   "source": [
    "type(str1)"
   ]
  },
  {
   "cell_type": "code",
   "execution_count": 4,
   "id": "5f95ca2e-3bcb-4fa1-b05f-d57c59ae5cd6",
   "metadata": {},
   "outputs": [
    {
     "data": {
      "text/plain": [
       "12"
      ]
     },
     "execution_count": 4,
     "metadata": {},
     "output_type": "execute_result"
    }
   ],
   "source": [
    "len(str1)"
   ]
  },
  {
   "cell_type": "code",
   "execution_count": 11,
   "id": "4c666798-5c79-44fa-b381-766fb7cc4171",
   "metadata": {},
   "outputs": [
    {
     "data": {
      "text/plain": [
       "'a'"
      ]
     },
     "execution_count": 11,
     "metadata": {},
     "output_type": "execute_result"
    }
   ],
   "source": [
    "str1='abcdz'\n",
    "min(str1)"
   ]
  },
  {
   "cell_type": "code",
   "execution_count": null,
   "id": "1d12e609-4e89-4518-ab08-7c4f440a3df5",
   "metadata": {},
   "outputs": [],
   "source": []
  },
  {
   "cell_type": "code",
   "execution_count": 12,
   "id": "afd0dfd4-cefd-4b17-829f-c71173a3685f",
   "metadata": {},
   "outputs": [
    {
     "data": {
      "text/plain": [
       "'z'"
      ]
     },
     "execution_count": 12,
     "metadata": {},
     "output_type": "execute_result"
    }
   ],
   "source": [
    "max(str1)"
   ]
  },
  {
   "cell_type": "code",
   "execution_count": 23,
   "id": "34df6b3f-e139-4282-aac9-be79bcf5627b",
   "metadata": {},
   "outputs": [
    {
     "data": {
      "text/plain": [
       "['h', 'n', 'o', 'p', 't', 'y']"
      ]
     },
     "execution_count": 23,
     "metadata": {},
     "output_type": "execute_result"
    }
   ],
   "source": [
    "sorted('python')"
   ]
  },
  {
   "cell_type": "code",
   "execution_count": 24,
   "id": "ff2bc6bf-cc7d-48ff-8c49-e4685796f3ea",
   "metadata": {},
   "outputs": [
    {
     "data": {
      "text/plain": [
       "['y', 't', 'p', 'o', 'n', 'h']"
      ]
     },
     "execution_count": 24,
     "metadata": {},
     "output_type": "execute_result"
    }
   ],
   "source": [
    "sorted('python',reverse=True)"
   ]
  },
  {
   "cell_type": "code",
   "execution_count": 26,
   "id": "701ef17b-3d68-449e-9c5f-44729c9a620d",
   "metadata": {},
   "outputs": [
    {
     "data": {
      "text/plain": [
       "['y', 'y', 't', 's', 's', 'p', 'o', 'n', 'i', 'h', 'e', 'a', ' ', ' ']"
      ]
     },
     "execution_count": 26,
     "metadata": {},
     "output_type": "execute_result"
    }
   ],
   "source": [
    "str1 = 'pyhton is easy'\n",
    "sorted(str1,reverse=True)"
   ]
  },
  {
   "cell_type": "code",
   "execution_count": 27,
   "id": "a8122917-ce6a-4ea1-a335-dec86f8b53cd",
   "metadata": {},
   "outputs": [
    {
     "data": {
      "text/plain": [
       "[' ', ' ', 'a', 'e', 'h', 'i', 'n', 'o', 'p', 's', 's', 't', 'y', 'y']"
      ]
     },
     "execution_count": 27,
     "metadata": {},
     "output_type": "execute_result"
    }
   ],
   "source": [
    "str1 = 'pyhton is easy'\n",
    "sorted(str1)"
   ]
  },
  {
   "cell_type": "code",
   "execution_count": 28,
   "id": "71a49844-830f-481e-a9a4-8ce9dae019fb",
   "metadata": {},
   "outputs": [
    {
     "data": {
      "text/plain": [
       "str"
      ]
     },
     "execution_count": 28,
     "metadata": {},
     "output_type": "execute_result"
    }
   ],
   "source": [
    "str1 = ('pthon')\n",
    "type(str1)"
   ]
  },
  {
   "cell_type": "code",
   "execution_count": 29,
   "id": "950bbb35-c28e-43e6-bbae-df05c95f4e76",
   "metadata": {},
   "outputs": [
    {
     "data": {
      "text/plain": [
       "tuple"
      ]
     },
     "execution_count": 29,
     "metadata": {},
     "output_type": "execute_result"
    }
   ],
   "source": [
    "str1=('hii im mayur','hello')\n",
    "type(str1)"
   ]
  },
  {
   "cell_type": "code",
   "execution_count": 31,
   "id": "04d2167a-d4bd-4f70-aee0-bf220303702d",
   "metadata": {},
   "outputs": [
    {
     "name": "stdout",
     "output_type": "stream",
     "text": [
      "1842087093536\n",
      "1842087123376\n",
      "Hallo\n"
     ]
    }
   ],
   "source": [
    "text = \"Hello\"\n",
    "print(id(text))  # Print memory address of original string\n",
    "\n",
    "text = text.replace(\"e\", \"a\")\n",
    "print(id(text))  # Print memory address of new string\n",
    "print(text)"
   ]
  },
  {
   "cell_type": "code",
   "execution_count": 32,
   "id": "6085dc55-ff9d-40ce-a4d2-794ba78d9f17",
   "metadata": {},
   "outputs": [
    {
     "name": "stdout",
     "output_type": "stream",
     "text": [
      "Hallo\n"
     ]
    }
   ],
   "source": [
    "print(text)"
   ]
  },
  {
   "cell_type": "code",
   "execution_count": 33,
   "id": "ffb8a0f1-5f00-4d61-8af0-3d5f79b086cf",
   "metadata": {},
   "outputs": [
    {
     "data": {
      "text/plain": [
       "<reversed at 0x1ace4c17670>"
      ]
     },
     "execution_count": 33,
     "metadata": {},
     "output_type": "execute_result"
    }
   ],
   "source": [
    "name = 'mayur'\n",
    "reversed(name)"
   ]
  },
  {
   "cell_type": "code",
   "execution_count": 40,
   "id": "39ad32a7-3e40-4bbf-a575-8bbe97baccfe",
   "metadata": {},
   "outputs": [
    {
     "name": "stdout",
     "output_type": "stream",
     "text": [
      "<reversed object at 0x000001ACE4F263E0>\n",
      "m\n",
      "a\n",
      "y\n",
      "u\n",
      "r\n"
     ]
    }
   ],
   "source": [
    "print(reversed(name))\n",
    "for i in name:\n",
    "    print(i,)"
   ]
  },
  {
   "cell_type": "code",
   "execution_count": 43,
   "id": "f9b72aec-6abd-48b5-acf4-c95de9d037d6",
   "metadata": {},
   "outputs": [
    {
     "name": "stdout",
     "output_type": "stream",
     "text": [
      "python python python \n"
     ]
    }
   ],
   "source": [
    "s1='python '*3\n",
    "print(s1)"
   ]
  },
  {
   "cell_type": "code",
   "execution_count": 46,
   "id": "8ad03573-9ca2-4c86-b88f-694f2557c868",
   "metadata": {},
   "outputs": [
    {
     "name": "stdout",
     "output_type": "stream",
     "text": [
      "p\n",
      "y\n",
      "t\n",
      "h\n",
      "o\n",
      "n\n"
     ]
    }
   ],
   "source": [
    "str1='python'\n",
    "n=len(str1)\n",
    "for i in range(0,n):\n",
    "    print(str1[i])"
   ]
  },
  {
   "cell_type": "code",
   "execution_count": 56,
   "id": "88e3320a-b1a9-4d7f-b053-b9aa697b7a15",
   "metadata": {},
   "outputs": [
    {
     "name": "stdout",
     "output_type": "stream",
     "text": [
      "p -6\n",
      "y -5\n",
      "t -4\n",
      "h -3\n",
      "o -2\n",
      "n -1\n"
     ]
    }
   ],
   "source": [
    "str1='python'\n",
    "for i in range(0,6):\n",
    "    print(str1[i],i-6)"
   ]
  },
  {
   "cell_type": "code",
   "execution_count": 51,
   "id": "a6274ff8-be21-4d7f-95af-8e29b2ece066",
   "metadata": {},
   "outputs": [
    {
     "name": "stdout",
     "output_type": "stream",
     "text": [
      "p 0 -6\n",
      "y 1 -5\n",
      "t 2 -4\n",
      "h 3 -3\n",
      "o 4 -2\n",
      "n 5 -1\n"
     ]
    }
   ],
   "source": [
    "for i in range(0,6):\n",
    "    print(str1[i],i,i-6)"
   ]
  },
  {
   "cell_type": "code",
   "execution_count": 59,
   "id": "de83ceda-9bd0-406c-bfa8-0767c6ae712e",
   "metadata": {},
   "outputs": [
    {
     "name": "stdout",
     "output_type": "stream",
     "text": [
      "3\n"
     ]
    }
   ],
   "source": [
    "str1 = 'ola ola ola'\n",
    "c = 0\n",
    "for i in str1:\n",
    "    if i == 'a':\n",
    "        c = c + 1\n",
    "print(c)"
   ]
  },
  {
   "cell_type": "code",
   "execution_count": 63,
   "id": "0857b93a-259a-4a6c-9679-34908e8095af",
   "metadata": {},
   "outputs": [
    {
     "name": "stdout",
     "output_type": "stream",
     "text": [
      "18 3\n"
     ]
    }
   ],
   "source": [
    "str1 = 'ola ola ola'\n",
    "c = 0\n",
    "s = 0\n",
    "for i in range(len(str1)):\n",
    "    if str1[i] == 'a':\n",
    "        c = c + 1\n",
    "        s = s + i\n",
    "print(s,c)"
   ]
  },
  {
   "cell_type": "code",
   "execution_count": 70,
   "id": "f5f68038-a7ac-40ef-af49-f826016ef486",
   "metadata": {},
   "outputs": [
    {
     "name": "stdout",
     "output_type": "stream",
     "text": [
      "e\n",
      "o\n",
      "a\n",
      "u\n"
     ]
    }
   ],
   "source": [
    "str1 = 'hello how are you'\n",
    "s1 = ''\n",
    "c = 0\n",
    "for i in str1:\n",
    "    if i in 'aeiou' and i not in s1:\n",
    "        print(i)\n",
    "        s1 = s1 + i"
   ]
  },
  {
   "cell_type": "code",
   "execution_count": 95,
   "id": "7056787d-7b23-4cee-a70a-3d4a178a0db7",
   "metadata": {},
   "outputs": [
    {
     "data": {
      "text/plain": [
       "' o'"
      ]
     },
     "execution_count": 95,
     "metadata": {},
     "output_type": "execute_result"
    }
   ],
   "source": [
    "str1 = 'hello how are you mayur'\n",
    "str1[5:9:2]"
   ]
  },
  {
   "cell_type": "code",
   "execution_count": 84,
   "id": "d285ccb4-812b-46cc-ba11-b053d1d91a62",
   "metadata": {},
   "outputs": [
    {
     "data": {
      "text/plain": [
       "'re y'"
      ]
     },
     "execution_count": 84,
     "metadata": {},
     "output_type": "execute_result"
    }
   ],
   "source": [
    "str1[-6:-2]"
   ]
  },
  {
   "cell_type": "code",
   "execution_count": 89,
   "id": "61c99fc4-1086-4f1d-a54f-30afcf4826f5",
   "metadata": {},
   "outputs": [
    {
     "data": {
      "text/plain": [
       "'ello'"
      ]
     },
     "execution_count": 89,
     "metadata": {},
     "output_type": "execute_result"
    }
   ],
   "source": [
    "str1[1:5:1]"
   ]
  },
  {
   "cell_type": "code",
   "execution_count": 107,
   "id": "6345a8cc-e7b4-4aef-a9df-4d5caade7484",
   "metadata": {},
   "outputs": [
    {
     "data": {
      "text/plain": [
       "'u mayu'"
      ]
     },
     "execution_count": 107,
     "metadata": {},
     "output_type": "execute_result"
    }
   ],
   "source": [
    "str1[-7:-1:]"
   ]
  },
  {
   "cell_type": "code",
   "execution_count": 108,
   "id": "bd42b8ef-d006-413b-9cb1-2ef81ca876fe",
   "metadata": {},
   "outputs": [
    {
     "data": {
      "text/plain": [
       "'HOW ARE YOU MAN'"
      ]
     },
     "execution_count": 108,
     "metadata": {},
     "output_type": "execute_result"
    }
   ],
   "source": [
    "str1 = 'how are you man'\n",
    "str1.upper()"
   ]
  },
  {
   "cell_type": "code",
   "execution_count": 109,
   "id": "5b3b45a8-eb25-45fa-b38c-31f611ac1dcb",
   "metadata": {},
   "outputs": [
    {
     "data": {
      "text/plain": [
       "'how are you man'"
      ]
     },
     "execution_count": 109,
     "metadata": {},
     "output_type": "execute_result"
    }
   ],
   "source": [
    "str1.lower()"
   ]
  },
  {
   "cell_type": "code",
   "execution_count": 110,
   "id": "d494eff1-f1fe-422e-b5f1-162581d7524b",
   "metadata": {},
   "outputs": [
    {
     "data": {
      "text/plain": [
       "'How are you man'"
      ]
     },
     "execution_count": 110,
     "metadata": {},
     "output_type": "execute_result"
    }
   ],
   "source": [
    "str1.capitalize()"
   ]
  },
  {
   "cell_type": "code",
   "execution_count": 111,
   "id": "4c1bea8d-6e7b-474d-a92c-7cf13741bbd3",
   "metadata": {},
   "outputs": [
    {
     "data": {
      "text/plain": [
       "'How Are You Man'"
      ]
     },
     "execution_count": 111,
     "metadata": {},
     "output_type": "execute_result"
    }
   ],
   "source": [
    "str1.title()"
   ]
  },
  {
   "cell_type": "code",
   "execution_count": 112,
   "id": "669738a3-6755-4ea2-a084-29cf045f22bd",
   "metadata": {},
   "outputs": [
    {
     "data": {
      "text/plain": [
       "'how are you man'"
      ]
     },
     "execution_count": 112,
     "metadata": {},
     "output_type": "execute_result"
    }
   ],
   "source": [
    "str1.casefold()"
   ]
  },
  {
   "cell_type": "code",
   "execution_count": 115,
   "id": "f72dbd10-5982-4a2c-abef-73c3fda2025a",
   "metadata": {},
   "outputs": [
    {
     "data": {
      "text/plain": [
       "'  how are you man   '"
      ]
     },
     "execution_count": 115,
     "metadata": {},
     "output_type": "execute_result"
    }
   ],
   "source": [
    "str1.center(20)"
   ]
  },
  {
   "cell_type": "code",
   "execution_count": 116,
   "id": "a07b4519-1ead-4073-8ad1-b96ea24e4a1c",
   "metadata": {},
   "outputs": [
    {
     "data": {
      "text/plain": [
       "'python'"
      ]
     },
     "execution_count": 116,
     "metadata": {},
     "output_type": "execute_result"
    }
   ],
   "source": [
    "str1 = '    python    '\n",
    "str1.strip()"
   ]
  },
  {
   "cell_type": "code",
   "execution_count": 117,
   "id": "c214b39e-cfff-44d7-8fb8-42d7b6270cd5",
   "metadata": {},
   "outputs": [
    {
     "data": {
      "text/plain": [
       "'    python'"
      ]
     },
     "execution_count": 117,
     "metadata": {},
     "output_type": "execute_result"
    }
   ],
   "source": [
    "str1.rstrip()"
   ]
  },
  {
   "cell_type": "code",
   "execution_count": 118,
   "id": "adf952e1-c608-4140-b572-e8a965e552cc",
   "metadata": {},
   "outputs": [
    {
     "data": {
      "text/plain": [
       "'python    '"
      ]
     },
     "execution_count": 118,
     "metadata": {},
     "output_type": "execute_result"
    }
   ],
   "source": [
    "str1.lstrip()"
   ]
  },
  {
   "cell_type": "code",
   "execution_count": 123,
   "id": "073b60ec-2696-4717-8184-3ecb5362167e",
   "metadata": {},
   "outputs": [
    {
     "data": {
      "text/plain": [
       "'python'"
      ]
     },
     "execution_count": 123,
     "metadata": {},
     "output_type": "execute_result"
    }
   ],
   "source": [
    "str1='****python****'\n",
    "str1.strip('*')"
   ]
  },
  {
   "cell_type": "code",
   "execution_count": 124,
   "id": "0c66e997-cfcb-468c-aa9d-15cf30be26b2",
   "metadata": {},
   "outputs": [
    {
     "data": {
      "text/plain": [
       "'****python****'"
      ]
     },
     "execution_count": 124,
     "metadata": {},
     "output_type": "execute_result"
    }
   ],
   "source": [
    "str1.rstrip()"
   ]
  },
  {
   "cell_type": "code",
   "execution_count": 125,
   "id": "35183995-d0bf-47ce-b12d-7656ab09b388",
   "metadata": {},
   "outputs": [
    {
     "data": {
      "text/plain": [
       "'python'"
      ]
     },
     "execution_count": 125,
     "metadata": {},
     "output_type": "execute_result"
    }
   ],
   "source": [
    "str1.rstrip('*').lstrip('*')"
   ]
  },
  {
   "cell_type": "code",
   "execution_count": 137,
   "id": "41509a4f-a9bd-4487-a6c6-1947cb4d6922",
   "metadata": {},
   "outputs": [
    {
     "data": {
      "text/plain": [
       "False"
      ]
     },
     "execution_count": 137,
     "metadata": {},
     "output_type": "execute_result"
    }
   ],
   "source": [
    "str1='i love python'\n",
    "str1.startswith('love',3,8)"
   ]
  },
  {
   "cell_type": "code",
   "execution_count": 139,
   "id": "ba7c5792-0d74-4cd2-a305-5cdf57635325",
   "metadata": {},
   "outputs": [
    {
     "data": {
      "text/plain": [
       "2"
      ]
     },
     "execution_count": 139,
     "metadata": {},
     "output_type": "execute_result"
    }
   ],
   "source": [
    "str1 = 'hii python users how are you hii'\n",
    "str1.count('e')"
   ]
  },
  {
   "cell_type": "code",
   "execution_count": 140,
   "id": "76611847-5f87-463f-92e2-284f8788fc39",
   "metadata": {},
   "outputs": [
    {
     "data": {
      "text/plain": [
       "2"
      ]
     },
     "execution_count": 140,
     "metadata": {},
     "output_type": "execute_result"
    }
   ],
   "source": [
    "str1.count('hi')"
   ]
  },
  {
   "cell_type": "code",
   "execution_count": 142,
   "id": "8b04da49-322a-4118-a07b-0082712b8078",
   "metadata": {},
   "outputs": [
    {
     "data": {
      "text/plain": [
       "0"
      ]
     },
     "execution_count": 142,
     "metadata": {},
     "output_type": "execute_result"
    }
   ],
   "source": [
    "s"
   ]
  },
  {
   "cell_type": "code",
   "execution_count": 2,
   "id": "169b97f0-b359-45db-a246-f7abdc17b308",
   "metadata": {},
   "outputs": [
    {
     "name": "stdin",
     "output_type": "stream",
     "text": [
      " 5\n"
     ]
    },
    {
     "name": "stdout",
     "output_type": "stream",
     "text": [
      "120\n"
     ]
    }
   ],
   "source": [
    "n = eval(input())\n",
    "f = 1\n",
    "i = 1\n",
    "while i<=n:\n",
    "    f = f*i\n",
    "    i = i + 1\n",
    "print(f)\n",
    "    "
   ]
  },
  {
   "cell_type": "code",
   "execution_count": 4,
   "id": "0237af96-689a-4764-9353-9ae064720fbb",
   "metadata": {},
   "outputs": [
    {
     "name": "stdin",
     "output_type": "stream",
     "text": [
      " 5\n"
     ]
    },
    {
     "name": "stdout",
     "output_type": "stream",
     "text": [
      "5\n",
      "10\n",
      "15\n",
      "20\n",
      "25\n",
      "30\n",
      "35\n",
      "40\n",
      "45\n",
      "50\n"
     ]
    }
   ],
   "source": [
    "n = eval(input())\n",
    "for i in range(1,11):\n",
    "    print(i*n)"
   ]
  },
  {
   "cell_type": "code",
   "execution_count": 53,
   "id": "fb4a36db-7536-4b35-bf89-5db0cb632ee8",
   "metadata": {},
   "outputs": [
    {
     "name": "stdin",
     "output_type": "stream",
     "text": [
      " 5\n"
     ]
    },
    {
     "name": "stdout",
     "output_type": "stream",
     "text": [
      "\n",
      "1\n",
      "22\n",
      "333\n",
      "4444\n",
      "55555\n"
     ]
    }
   ],
   "source": [
    "n =eval(input())\n",
    "for i in range(n+1):\n",
    "    for j in range(i):\n",
    "        print(i,end='')\n",
    "    print()"
   ]
  },
  {
   "cell_type": "code",
   "execution_count": 52,
   "id": "33825c4e-95d2-4bed-a363-b327a064ecaf",
   "metadata": {},
   "outputs": [
    {
     "name": "stdout",
     "output_type": "stream",
     "text": [
      "\n",
      "*\n",
      "**\n",
      "***\n",
      "****\n",
      "*****\n"
     ]
    }
   ],
   "source": [
    "n=5\n",
    "for i in range(n+1):\n",
    "    for j in range(i):\n",
    "        print('*',end='')\n",
    "    print()\n",
    "\n",
    "    "
   ]
  },
  {
   "cell_type": "code",
   "execution_count": 11,
   "id": "712df2b7-bad7-438b-b9b4-4bda4538814f",
   "metadata": {},
   "outputs": [
    {
     "name": "stdout",
     "output_type": "stream",
     "text": [
      "['this', 'string', 'for', 'appending', 'the', 'string', 'in', 'the', 'list']\n"
     ]
    }
   ],
   "source": [
    "str1='this is string for appending the string in the list'\n",
    "st3=['is']\n",
    "st=[]\n",
    "# l=str1.split()\n",
    "for i in str1.split():\n",
    "    if i not in st3:\n",
    "        st.append(i)\n",
    "print(st)"
   ]
  },
  {
   "cell_type": "code",
   "execution_count": 12,
   "id": "3d0962f0-640b-4ded-89f2-3909022c736a",
   "metadata": {},
   "outputs": [
    {
     "data": {
      "text/plain": [
       "['__add__',\n",
       " '__class__',\n",
       " '__contains__',\n",
       " '__delattr__',\n",
       " '__dir__',\n",
       " '__doc__',\n",
       " '__eq__',\n",
       " '__format__',\n",
       " '__ge__',\n",
       " '__getattribute__',\n",
       " '__getitem__',\n",
       " '__getnewargs__',\n",
       " '__getstate__',\n",
       " '__gt__',\n",
       " '__hash__',\n",
       " '__init__',\n",
       " '__init_subclass__',\n",
       " '__iter__',\n",
       " '__le__',\n",
       " '__len__',\n",
       " '__lt__',\n",
       " '__mod__',\n",
       " '__mul__',\n",
       " '__ne__',\n",
       " '__new__',\n",
       " '__reduce__',\n",
       " '__reduce_ex__',\n",
       " '__repr__',\n",
       " '__rmod__',\n",
       " '__rmul__',\n",
       " '__setattr__',\n",
       " '__sizeof__',\n",
       " '__str__',\n",
       " '__subclasshook__',\n",
       " 'capitalize',\n",
       " 'casefold',\n",
       " 'center',\n",
       " 'count',\n",
       " 'encode',\n",
       " 'endswith',\n",
       " 'expandtabs',\n",
       " 'find',\n",
       " 'format',\n",
       " 'format_map',\n",
       " 'index',\n",
       " 'isalnum',\n",
       " 'isalpha',\n",
       " 'isascii',\n",
       " 'isdecimal',\n",
       " 'isdigit',\n",
       " 'isidentifier',\n",
       " 'islower',\n",
       " 'isnumeric',\n",
       " 'isprintable',\n",
       " 'isspace',\n",
       " 'istitle',\n",
       " 'isupper',\n",
       " 'join',\n",
       " 'ljust',\n",
       " 'lower',\n",
       " 'lstrip',\n",
       " 'maketrans',\n",
       " 'partition',\n",
       " 'removeprefix',\n",
       " 'removesuffix',\n",
       " 'replace',\n",
       " 'rfind',\n",
       " 'rindex',\n",
       " 'rjust',\n",
       " 'rpartition',\n",
       " 'rsplit',\n",
       " 'rstrip',\n",
       " 'split',\n",
       " 'splitlines',\n",
       " 'startswith',\n",
       " 'strip',\n",
       " 'swapcase',\n",
       " 'title',\n",
       " 'translate',\n",
       " 'upper',\n",
       " 'zfill']"
      ]
     },
     "execution_count": 12,
     "metadata": {},
     "output_type": "execute_result"
    }
   ],
   "source": [
    "dir('')"
   ]
  },
  {
   "cell_type": "code",
   "execution_count": 13,
   "id": "0f6061f5-12e0-4734-b503-260116de1465",
   "metadata": {},
   "outputs": [
    {
     "data": {
      "text/plain": [
       "['__add__',\n",
       " '__class__',\n",
       " '__class_getitem__',\n",
       " '__contains__',\n",
       " '__delattr__',\n",
       " '__delitem__',\n",
       " '__dir__',\n",
       " '__doc__',\n",
       " '__eq__',\n",
       " '__format__',\n",
       " '__ge__',\n",
       " '__getattribute__',\n",
       " '__getitem__',\n",
       " '__getstate__',\n",
       " '__gt__',\n",
       " '__hash__',\n",
       " '__iadd__',\n",
       " '__imul__',\n",
       " '__init__',\n",
       " '__init_subclass__',\n",
       " '__iter__',\n",
       " '__le__',\n",
       " '__len__',\n",
       " '__lt__',\n",
       " '__mul__',\n",
       " '__ne__',\n",
       " '__new__',\n",
       " '__reduce__',\n",
       " '__reduce_ex__',\n",
       " '__repr__',\n",
       " '__reversed__',\n",
       " '__rmul__',\n",
       " '__setattr__',\n",
       " '__setitem__',\n",
       " '__sizeof__',\n",
       " '__str__',\n",
       " '__subclasshook__',\n",
       " 'append',\n",
       " 'clear',\n",
       " 'copy',\n",
       " 'count',\n",
       " 'extend',\n",
       " 'index',\n",
       " 'insert',\n",
       " 'pop',\n",
       " 'remove',\n",
       " 'reverse',\n",
       " 'sort']"
      ]
     },
     "execution_count": 13,
     "metadata": {},
     "output_type": "execute_result"
    }
   ],
   "source": [
    "dir([])"
   ]
  },
  {
   "cell_type": "code",
   "execution_count": 1,
   "id": "fb04b46b-7226-4c3d-a76e-85cd69257df0",
   "metadata": {},
   "outputs": [
    {
     "data": {
      "text/plain": [
       "'mayur harinkhede full stack data scientist'"
      ]
     },
     "execution_count": 1,
     "metadata": {},
     "output_type": "execute_result"
    }
   ],
   "source": [
    "str1 = 'mayur harinkhede full stack data scientist'\n",
    "str1"
   ]
  },
  {
   "cell_type": "markdown",
   "id": "62e6af82-4a43-48b8-8f8b-9fe3a0fce17c",
   "metadata": {},
   "source": [
    "- basic representation"
   ]
  },
  {
   "cell_type": "code",
   "execution_count": 3,
   "id": "af79746e-2330-44ec-8baa-023383199092",
   "metadata": {},
   "outputs": [
    {
     "data": {
      "text/plain": [
       "'python programmung'"
      ]
     },
     "execution_count": 3,
     "metadata": {},
     "output_type": "execute_result"
    }
   ],
   "source": [
    "str1='python programmung'\n",
    "str1"
   ]
  },
  {
   "cell_type": "code",
   "execution_count": 4,
   "id": "189404ea-3932-4833-924f-0be5ca8df12c",
   "metadata": {},
   "outputs": [
    {
     "name": "stdout",
     "output_type": "stream",
     "text": [
      "python programmung\n"
     ]
    }
   ],
   "source": [
    "print(str1)"
   ]
  },
  {
   "cell_type": "code",
   "execution_count": 5,
   "id": "f8e170ef-acf5-4ca2-8767-2fb03921cf9d",
   "metadata": {},
   "outputs": [
    {
     "data": {
      "text/plain": [
       "18"
      ]
     },
     "execution_count": 5,
     "metadata": {},
     "output_type": "execute_result"
    }
   ],
   "source": [
    "len(str1)"
   ]
  },
  {
   "cell_type": "code",
   "execution_count": 6,
   "id": "0cc02981-b592-44e7-aa97-9fea5b046f44",
   "metadata": {},
   "outputs": [
    {
     "data": {
      "text/plain": [
       "str"
      ]
     },
     "execution_count": 6,
     "metadata": {},
     "output_type": "execute_result"
    }
   ],
   "source": [
    "type(str1)"
   ]
  },
  {
   "cell_type": "code",
   "execution_count": 7,
   "id": "ca651105-73bd-4bb8-b27b-f4e4bd96657a",
   "metadata": {},
   "outputs": [
    {
     "data": {
      "text/plain": [
       "' '"
      ]
     },
     "execution_count": 7,
     "metadata": {},
     "output_type": "execute_result"
    }
   ],
   "source": [
    "min(str1)"
   ]
  },
  {
   "cell_type": "code",
   "execution_count": 8,
   "id": "d08b900f-1055-46e9-935d-c555fc059ec6",
   "metadata": {},
   "outputs": [
    {
     "data": {
      "text/plain": [
       "'y'"
      ]
     },
     "execution_count": 8,
     "metadata": {},
     "output_type": "execute_result"
    }
   ],
   "source": [
    "max(str1)"
   ]
  },
  {
   "cell_type": "code",
   "execution_count": 12,
   "id": "5ead3d8a-d516-44e4-b00a-fbc38ec1c01a",
   "metadata": {},
   "outputs": [
    {
     "data": {
      "text/plain": [
       "['y',\n",
       " 'u',\n",
       " 't',\n",
       " 'r',\n",
       " 'r',\n",
       " 'p',\n",
       " 'p',\n",
       " 'o',\n",
       " 'o',\n",
       " 'n',\n",
       " 'n',\n",
       " 'm',\n",
       " 'm',\n",
       " 'h',\n",
       " 'g',\n",
       " 'g',\n",
       " 'a',\n",
       " ' ']"
      ]
     },
     "execution_count": 12,
     "metadata": {},
     "output_type": "execute_result"
    }
   ],
   "source": [
    "sorted(str1,reverse=True)"
   ]
  },
  {
   "cell_type": "code",
   "execution_count": 26,
   "id": "0a1155d1-2525-4add-a5e0-b3688d493b74",
   "metadata": {},
   "outputs": [
    {
     "data": {
      "text/plain": [
       "['r', 'u', 'y', 'a', 'm']"
      ]
     },
     "execution_count": 26,
     "metadata": {},
     "output_type": "execute_result"
    }
   ],
   "source": [
    "sorted('mayur')\n",
    "l=reversed('mayur')\n",
    "list(l)"
   ]
  },
  {
   "cell_type": "code",
   "execution_count": 16,
   "id": "5734a9a3-2d4f-49df-bbc1-eea61a86df78",
   "metadata": {},
   "outputs": [
    {
     "data": {
      "text/plain": [
       "['p',\n",
       " 'y',\n",
       " 't',\n",
       " 'h',\n",
       " 'o',\n",
       " 'n',\n",
       " ' ',\n",
       " 'p',\n",
       " 'r',\n",
       " 'o',\n",
       " 'g',\n",
       " 'r',\n",
       " 'a',\n",
       " 'm',\n",
       " 'm',\n",
       " 'u',\n",
       " 'n',\n",
       " 'g']"
      ]
     },
     "execution_count": 16,
     "metadata": {},
     "output_type": "execute_result"
    }
   ],
   "source": [
    "reversed(str1)\n",
    "list(str1)"
   ]
  },
  {
   "cell_type": "code",
   "execution_count": 28,
   "id": "da87eacc-4309-46d3-a27a-8bd3627e9b76",
   "metadata": {},
   "outputs": [
    {
     "data": {
      "text/plain": [
       "'mayurmayur'"
      ]
     },
     "execution_count": 28,
     "metadata": {},
     "output_type": "execute_result"
    }
   ],
   "source": [
    "'mayur'*2  # concatination"
   ]
  },
  {
   "cell_type": "code",
   "execution_count": 33,
   "id": "28504834-2b11-4e10-9c43-fb71d208e129",
   "metadata": {},
   "outputs": [
    {
     "data": {
      "text/plain": [
       "'python prgramming #python prgramming #python prgramming #python prgramming #'"
      ]
     },
     "execution_count": 33,
     "metadata": {},
     "output_type": "execute_result"
    }
   ],
   "source": [
    "str1='python prgramming #'\n",
    "str1*4"
   ]
  },
  {
   "cell_type": "code",
   "execution_count": 63,
   "id": "72ad22b6-794c-4182-8324-8afdc9b40962",
   "metadata": {},
   "outputs": [
    {
     "name": "stdout",
     "output_type": "stream",
     "text": [
      "18\n",
      "python programmingpython programming"
     ]
    }
   ],
   "source": [
    "str1='python programming'\n",
    "print(len(str1))\n",
    "for i in range(0,18):\n",
    "    print(str1[i],end='')\n",
    "\n",
    "for i in str1:\n",
    "    print(i,end='')"
   ]
  },
  {
   "cell_type": "code",
   "execution_count": 70,
   "id": "49d62e18-dd5b-4f1c-9a2a-13121aadca96",
   "metadata": {},
   "outputs": [
    {
     "name": "stdout",
     "output_type": "stream",
     "text": [
      "True\n"
     ]
    }
   ],
   "source": [
    "st1 = '10,20,30,40,50'\n",
    "if '20' in st1:\n",
    "    print('True')"
   ]
  },
  {
   "cell_type": "code",
   "execution_count": 71,
   "id": "50477201-a621-4a43-bc48-6a94f08b5539",
   "metadata": {},
   "outputs": [
    {
     "name": "stdout",
     "output_type": "stream",
     "text": [
      "1\n",
      "0\n",
      ",\n",
      "2\n",
      "0\n",
      ",\n",
      "3\n",
      "0\n",
      ",\n",
      "4\n",
      "0\n",
      ",\n",
      "5\n",
      "0\n"
     ]
    }
   ],
   "source": [
    "for i in st1:\n",
    "    print(i)"
   ]
  },
  {
   "cell_type": "code",
   "execution_count": 76,
   "id": "a8ec48a1-5b5c-4fbe-81e7-b710c259ef30",
   "metadata": {},
   "outputs": [
    {
     "data": {
      "text/plain": [
       "True"
      ]
     },
     "execution_count": 76,
     "metadata": {},
     "output_type": "execute_result"
    }
   ],
   "source": [
    "lt = [10,30,20,40,50,60]\n",
    "10 in lt"
   ]
  },
  {
   "cell_type": "code",
   "execution_count": 90,
   "id": "d73002e4-fba2-4340-9be6-559437e0f9f5",
   "metadata": {},
   "outputs": [
    {
     "data": {
      "text/plain": [
       "'n'"
      ]
     },
     "execution_count": 90,
     "metadata": {},
     "output_type": "execute_result"
    }
   ],
   "source": [
    "# the postive index of p is 0\n",
    "# # the postive index of y is 1\n",
    "# # the postive index of n is 2\n",
    "# # Q2)\n",
    "# # the negative index of p is -6\n",
    "# # the negative index of y is -5\n",
    "# # the negative index of n is -4 and so on\n",
    "# # Q3)\n",
    "# # The postvive index is 0 and negtaive index is -6 for p"
   ]
  },
  {
   "cell_type": "code",
   "execution_count": 101,
   "id": "f97d6482-9709-41dd-a17b-c2e75b203c5e",
   "metadata": {},
   "outputs": [
    {
     "name": "stdout",
     "output_type": "stream",
     "text": [
      "the positive index of p is 0 and index negative is -6\n",
      "the positive index of y is 1 and index negative is -5\n",
      "the positive index of t is 2 and index negative is -4\n",
      "the positive index of h is 3 and index negative is -3\n",
      "the positive index of o is 4 and index negative is -2\n",
      "the positive index of n is 5 and index negative is -1\n"
     ]
    }
   ],
   "source": [
    "str1 = 'python'\n",
    "for i in range(len(str1)):\n",
    "    print(f'the positive index of {str1[i]} is {i} and index negative is {i-len(str1)}')"
   ]
  },
  {
   "cell_type": "code",
   "execution_count": 104,
   "id": "7230ba3c-6f20-443e-b3a3-a07f274cf057",
   "metadata": {},
   "outputs": [
    {
     "ename": "TypeError",
     "evalue": "'str' object cannot be interpreted as an integer",
     "output_type": "error",
     "traceback": [
      "\u001b[1;31m---------------------------------------------------------------------------\u001b[0m",
      "\u001b[1;31mTypeError\u001b[0m                                 Traceback (most recent call last)",
      "Cell \u001b[1;32mIn[104], line 2\u001b[0m\n\u001b[0;32m      1\u001b[0m \u001b[38;5;28;01mfor\u001b[39;00m i \u001b[38;5;129;01min\u001b[39;00m str1:\n\u001b[1;32m----> 2\u001b[0m     \u001b[38;5;28mprint\u001b[39m(i,\u001b[38;5;28mchr\u001b[39m(i))\n",
      "\u001b[1;31mTypeError\u001b[0m: 'str' object cannot be interpreted as an integer"
     ]
    }
   ],
   "source": [
    "for i in str1:\n",
    "    print(i,chr(i))"
   ]
  },
  {
   "cell_type": "code",
   "execution_count": 126,
   "id": "c5baa731-ed22-45e3-ad95-7508ad4d33d6",
   "metadata": {},
   "outputs": [
    {
     "data": {
      "text/plain": [
       "''"
      ]
     },
     "execution_count": 126,
     "metadata": {},
     "output_type": "execute_result"
    }
   ],
   "source": [
    "str1 ='123456789'\n",
    "str1[16:1:-1]\n",
    "str1[1:16:-1]\n",
    "str1[16::]"
   ]
  },
  {
   "cell_type": "code",
   "execution_count": 131,
   "id": "b13bc450-e3af-40ab-9a15-8d143c0efc38",
   "metadata": {},
   "outputs": [
    {
     "data": {
      "text/plain": [
       "'123456'"
      ]
     },
     "execution_count": 131,
     "metadata": {},
     "output_type": "execute_result"
    }
   ],
   "source": [
    "str1[0:-3:]\n",
    "# str1[-1:5:-1]"
   ]
  },
  {
   "cell_type": "code",
   "execution_count": 134,
   "id": "d07231ed-02dd-448f-b567-601607270165",
   "metadata": {},
   "outputs": [
    {
     "data": {
      "text/plain": [
       "'87654'"
      ]
     },
     "execution_count": 134,
     "metadata": {},
     "output_type": "execute_result"
    }
   ],
   "source": [
    "str1[-2:2:-1]"
   ]
  },
  {
   "cell_type": "code",
   "execution_count": 136,
   "id": "0c60b928-7d8a-41cf-8bbe-8bf2845f8da8",
   "metadata": {},
   "outputs": [
    {
     "data": {
      "text/plain": [
       "['__add__',\n",
       " '__class__',\n",
       " '__contains__',\n",
       " '__delattr__',\n",
       " '__dir__',\n",
       " '__doc__',\n",
       " '__eq__',\n",
       " '__format__',\n",
       " '__ge__',\n",
       " '__getattribute__',\n",
       " '__getitem__',\n",
       " '__getnewargs__',\n",
       " '__getstate__',\n",
       " '__gt__',\n",
       " '__hash__',\n",
       " '__init__',\n",
       " '__init_subclass__',\n",
       " '__iter__',\n",
       " '__le__',\n",
       " '__len__',\n",
       " '__lt__',\n",
       " '__mod__',\n",
       " '__mul__',\n",
       " '__ne__',\n",
       " '__new__',\n",
       " '__reduce__',\n",
       " '__reduce_ex__',\n",
       " '__repr__',\n",
       " '__rmod__',\n",
       " '__rmul__',\n",
       " '__setattr__',\n",
       " '__sizeof__',\n",
       " '__str__',\n",
       " '__subclasshook__',\n",
       " 'capitalize',\n",
       " 'casefold',\n",
       " 'center',\n",
       " 'count',\n",
       " 'encode',\n",
       " 'endswith',\n",
       " 'expandtabs',\n",
       " 'find',\n",
       " 'format',\n",
       " 'format_map',\n",
       " 'index',\n",
       " 'isalnum',\n",
       " 'isalpha',\n",
       " 'isascii',\n",
       " 'isdecimal',\n",
       " 'isdigit',\n",
       " 'isidentifier',\n",
       " 'islower',\n",
       " 'isnumeric',\n",
       " 'isprintable',\n",
       " 'isspace',\n",
       " 'istitle',\n",
       " 'isupper',\n",
       " 'join',\n",
       " 'ljust',\n",
       " 'lower',\n",
       " 'lstrip',\n",
       " 'maketrans',\n",
       " 'partition',\n",
       " 'removeprefix',\n",
       " 'removesuffix',\n",
       " 'replace',\n",
       " 'rfind',\n",
       " 'rindex',\n",
       " 'rjust',\n",
       " 'rpartition',\n",
       " 'rsplit',\n",
       " 'rstrip',\n",
       " 'split',\n",
       " 'splitlines',\n",
       " 'startswith',\n",
       " 'strip',\n",
       " 'swapcase',\n",
       " 'title',\n",
       " 'translate',\n",
       " 'upper',\n",
       " 'zfill']"
      ]
     },
     "execution_count": 136,
     "metadata": {},
     "output_type": "execute_result"
    }
   ],
   "source": [
    "dir('st')"
   ]
  },
  {
   "cell_type": "code",
   "execution_count": 140,
   "id": "25749900-6099-4579-b9fc-f0ee37248296",
   "metadata": {},
   "outputs": [
    {
     "name": "stdout",
     "output_type": "stream",
     "text": [
      "I love python\n"
     ]
    }
   ],
   "source": [
    "str1='i love python'\n",
    "print(str1.capitalize())"
   ]
  },
  {
   "cell_type": "code",
   "execution_count": 142,
   "id": "f6f5e064-97e1-44ec-9b5c-99e825a6f379",
   "metadata": {},
   "outputs": [
    {
     "name": "stdout",
     "output_type": "stream",
     "text": [
      "this is casefold\n"
     ]
    }
   ],
   "source": [
    "st='This is casefold'\n",
    "print(st.casefold())"
   ]
  },
  {
   "cell_type": "code",
   "execution_count": 149,
   "id": "b4a46109-81e8-4a47-92b8-a329d4e54549",
   "metadata": {},
   "outputs": [
    {
     "name": "stdout",
     "output_type": "stream",
     "text": [
      "##### this is center #####\n"
     ]
    }
   ],
   "source": [
    "s = ' this is center '\n",
    "print(s.center(26,'#'))"
   ]
  },
  {
   "cell_type": "code",
   "execution_count": 154,
   "id": "027ccbed-e14e-47ce-a22e-e9883fa1615b",
   "metadata": {},
   "outputs": [
    {
     "name": "stdout",
     "output_type": "stream",
     "text": [
      "1\n"
     ]
    }
   ],
   "source": [
    "s = 'this is count'\n",
    "print(s.count('cou'))  # count how many time word is repeating"
   ]
  },
  {
   "cell_type": "code",
   "execution_count": 1,
   "id": "f4dfbc36-b9fc-421d-9750-0fedfb8a7123",
   "metadata": {},
   "outputs": [
    {
     "data": {
      "text/plain": [
       "b'this is encode'"
      ]
     },
     "execution_count": 1,
     "metadata": {},
     "output_type": "execute_result"
    }
   ],
   "source": [
    "s = 'this is encode'\n",
    "s.encode()"
   ]
  },
  {
   "cell_type": "code",
   "execution_count": 5,
   "id": "372b1de1-8851-49a6-b254-59a12813e904",
   "metadata": {},
   "outputs": [
    {
     "data": {
      "text/plain": [
       "True"
      ]
     },
     "execution_count": 5,
     "metadata": {},
     "output_type": "execute_result"
    }
   ],
   "source": [
    "s ='endswith'\n",
    "s.endswith('h')"
   ]
  },
  {
   "cell_type": "markdown",
   "id": "34ea01ed-ec42-4687-8a1d-4d29b7b6d9c1",
   "metadata": {},
   "source": [
    "'capitalize',\n",
    " 'casefold',\n",
    " 'center',\n",
    " 'count',\n",
    " 'encode',\n",
    " 'endswith',\n",
    " 'expandtabs',\n",
    " 'find',\n",
    " 'format',\n",
    " 'format_map',\n",
    " 'index',\n",
    " 'isalnum',\n",
    " 'isalpha',\n",
    " 'isascii',\n",
    " 'isdecimal',\n",
    " 'isdigit',\n",
    " 'isidentifier',\n",
    " 'islower',\n",
    " 'isnumeric',\n",
    " 'isprintable',\n",
    " 'isspace',\n",
    " 'istitle',\n",
    " 'isupper',\n",
    " 'join',\n",
    " 'ljust',\n",
    " 'lower',\n",
    " 'lstrip',\n",
    " 'maketrans',\n",
    " 'partition',\n",
    " 'removeprefix',\n",
    " 'removesuffix',\n",
    " 'replace',\n",
    " 'rfind',\n",
    " 'rindex',\n",
    " 'rjust',\n",
    " 'rpartition',\n",
    " 'rsplit',\n",
    " 'rstrip',\n",
    " 'split',\n",
    " 'splitlines',\n",
    " 'startswith',\n",
    " 'strip',\n",
    " 'swapcase',\n",
    " 'title',\n",
    " 'translate',\n",
    " 'upper',\n",
    " 'zfill']"
   ]
  },
  {
   "cell_type": "code",
   "execution_count": 10,
   "id": "cfc182bf-92e1-4fec-a067-c9a418fd88aa",
   "metadata": {},
   "outputs": [
    {
     "data": {
      "text/plain": [
       "'python programming'"
      ]
     },
     "execution_count": 10,
     "metadata": {},
     "output_type": "execute_result"
    }
   ],
   "source": [
    "s = 'python programming'\n",
    "s.expandtabs()"
   ]
  },
  {
   "cell_type": "code",
   "execution_count": 14,
   "id": "fb29ad14-8387-4fab-8363-44da88e95edb",
   "metadata": {},
   "outputs": [
    {
     "data": {
      "text/plain": [
       "7"
      ]
     },
     "execution_count": 14,
     "metadata": {},
     "output_type": "execute_result"
    }
   ],
   "source": [
    "l1=s.find('p')\n",
    "s.find('p',l1+1)"
   ]
  },
  {
   "cell_type": "code",
   "execution_count": 22,
   "id": "6afa4b3f-69f2-4d4e-bc62-e8465290c5ed",
   "metadata": {},
   "outputs": [
    {
     "data": {
      "text/plain": [
       "'if we won'"
      ]
     },
     "execution_count": 22,
     "metadata": {},
     "output_type": "execute_result"
    }
   ],
   "source": [
    "s='if we won'\n",
    "s.format()"
   ]
  },
  {
   "cell_type": "code",
   "execution_count": 26,
   "id": "2ad3bfbe-4b0b-45f8-bc7f-ebd833f3ff22",
   "metadata": {},
   "outputs": [
    {
     "data": {
      "text/plain": [
       "4"
      ]
     },
     "execution_count": 26,
     "metadata": {},
     "output_type": "execute_result"
    }
   ],
   "source": [
    "s='python'\n",
    "s.index('o')"
   ]
  },
  {
   "cell_type": "code",
   "execution_count": 28,
   "id": "83347dab-0be2-4bf8-9a9e-a2b0e4caba0d",
   "metadata": {},
   "outputs": [
    {
     "data": {
      "text/plain": [
       "'p*y*t*h*o*n'"
      ]
     },
     "execution_count": 28,
     "metadata": {},
     "output_type": "execute_result"
    }
   ],
   "source": [
    "\"*\".join(s)"
   ]
  },
  {
   "cell_type": "code",
   "execution_count": 34,
   "id": "98e12605-8ad2-408b-8da8-d5d2686c9ddd",
   "metadata": {},
   "outputs": [
    {
     "data": {
      "text/plain": [
       "'*******************python'"
      ]
     },
     "execution_count": 34,
     "metadata": {},
     "output_type": "execute_result"
    }
   ],
   "source": [
    "s.rjust(25,'*')"
   ]
  },
  {
   "cell_type": "code",
   "execution_count": 35,
   "id": "229e1025-9350-42ff-b610-3fb3d573cc65",
   "metadata": {},
   "outputs": [
    {
     "data": {
      "text/plain": [
       "'python'"
      ]
     },
     "execution_count": 35,
     "metadata": {},
     "output_type": "execute_result"
    }
   ],
   "source": [
    "s.lower()"
   ]
  },
  {
   "cell_type": "code",
   "execution_count": 42,
   "id": "4ed43667-a629-4ed1-b778-e069cc49e9d2",
   "metadata": {},
   "outputs": [
    {
     "data": {
      "text/plain": [
       "'python is very imp in ds'"
      ]
     },
     "execution_count": 42,
     "metadata": {},
     "output_type": "execute_result"
    }
   ],
   "source": [
    "s='     python is very imp in ds     '\n",
    "s.strip()"
   ]
  },
  {
   "cell_type": "code",
   "execution_count": 43,
   "id": "2518596d-abf7-4d05-beb7-344af69e673e",
   "metadata": {},
   "outputs": [
    {
     "data": {
      "text/plain": [
       "'     python is very imp in ds'"
      ]
     },
     "execution_count": 43,
     "metadata": {},
     "output_type": "execute_result"
    }
   ],
   "source": [
    "s.rstrip()"
   ]
  },
  {
   "cell_type": "code",
   "execution_count": 44,
   "id": "3d2eef43-49b5-44b2-9b04-a781ddc13e78",
   "metadata": {},
   "outputs": [
    {
     "data": {
      "text/plain": [
       "'python is very imp in ds     '"
      ]
     },
     "execution_count": 44,
     "metadata": {},
     "output_type": "execute_result"
    }
   ],
   "source": [
    "s.lstrip()"
   ]
  },
  {
   "cell_type": "code",
   "execution_count": 46,
   "id": "2c06a2d1-50c4-4b88-833b-2a9a3e88429a",
   "metadata": {},
   "outputs": [
    {
     "data": {
      "text/plain": [
       "'python is very imp in ds'"
      ]
     },
     "execution_count": 46,
     "metadata": {},
     "output_type": "execute_result"
    }
   ],
   "source": [
    "s='#######python is very imp in ds################'\n",
    "s.strip('#')"
   ]
  },
  {
   "cell_type": "code",
   "execution_count": 47,
   "id": "a7cbfad8-1b7b-496a-9a25-c200dc0c1868",
   "metadata": {},
   "outputs": [
    {
     "data": {
      "text/plain": [
       "'#######python is very imp in ds'"
      ]
     },
     "execution_count": 47,
     "metadata": {},
     "output_type": "execute_result"
    }
   ],
   "source": [
    "s.rstrip('#')"
   ]
  },
  {
   "cell_type": "code",
   "execution_count": 48,
   "id": "e31c5f42-f968-4ac0-b0df-defad47a058f",
   "metadata": {},
   "outputs": [
    {
     "data": {
      "text/plain": [
       "'python is very imp in ds################'"
      ]
     },
     "execution_count": 48,
     "metadata": {},
     "output_type": "execute_result"
    }
   ],
   "source": [
    "s.lstrip('#')"
   ]
  },
  {
   "cell_type": "code",
   "execution_count": 49,
   "id": "f183afda-d770-4a04-88fb-fe7225ab9715",
   "metadata": {},
   "outputs": [
    {
     "data": {
      "text/plain": [
       "('#######', 'p', 'ython is very imp in ds################')"
      ]
     },
     "execution_count": 49,
     "metadata": {},
     "output_type": "execute_result"
    }
   ],
   "source": [
    "s.partition('p')"
   ]
  },
  {
   "cell_type": "code",
   "execution_count": 55,
   "id": "aaecdf4f-f04f-4959-b9e3-a9ef3bbb4088",
   "metadata": {},
   "outputs": [
    {
     "data": {
      "text/plain": [
       "'ython'"
      ]
     },
     "execution_count": 55,
     "metadata": {},
     "output_type": "execute_result"
    }
   ],
   "source": [
    "s='python'\n",
    "s.removeprefix('p')"
   ]
  },
  {
   "cell_type": "code",
   "execution_count": 58,
   "id": "2239c675-760e-4167-846b-32563db758c0",
   "metadata": {},
   "outputs": [
    {
     "data": {
      "text/plain": [
       "'pytho'"
      ]
     },
     "execution_count": 58,
     "metadata": {},
     "output_type": "execute_result"
    }
   ],
   "source": [
    "s.removesuffix('n')"
   ]
  },
  {
   "cell_type": "code",
   "execution_count": 59,
   "id": "4a393bde-876c-4d4b-82e5-6a70638be0e3",
   "metadata": {},
   "outputs": [
    {
     "data": {
      "text/plain": [
       "'Python'"
      ]
     },
     "execution_count": 59,
     "metadata": {},
     "output_type": "execute_result"
    }
   ],
   "source": [
    "s.replace('p','P')"
   ]
  },
  {
   "cell_type": "code",
   "execution_count": 61,
   "id": "d06f6a0b-50d3-4847-8019-af0046273482",
   "metadata": {},
   "outputs": [
    {
     "data": {
      "text/plain": [
       "'programming in python'"
      ]
     },
     "execution_count": 61,
     "metadata": {},
     "output_type": "execute_result"
    }
   ],
   "source": [
    "s='Python'\n",
    "s.replace('Python','programming in python')"
   ]
  },
  {
   "cell_type": "code",
   "execution_count": 66,
   "id": "575fb7d4-b7a0-4f65-b641-8f06fdbebfbe",
   "metadata": {},
   "outputs": [
    {
     "data": {
      "text/plain": [
       "20"
      ]
     },
     "execution_count": 66,
     "metadata": {},
     "output_type": "execute_result"
    }
   ],
   "source": [
    "s='programming in python'\n",
    "s.rfind('n')"
   ]
  },
  {
   "cell_type": "code",
   "execution_count": 70,
   "id": "169ff525-7ecb-4d40-9d1c-e2d05482b13b",
   "metadata": {},
   "outputs": [
    {
     "data": {
      "text/plain": [
       "7"
      ]
     },
     "execution_count": 70,
     "metadata": {},
     "output_type": "execute_result"
    }
   ],
   "source": [
    "s.rindex('m')"
   ]
  },
  {
   "cell_type": "code",
   "execution_count": 74,
   "id": "ae6241d5-e1f5-469f-835c-3588fa8f0d0b",
   "metadata": {},
   "outputs": [
    {
     "data": {
      "text/plain": [
       "('programming ', 'i', 'n python')"
      ]
     },
     "execution_count": 74,
     "metadata": {},
     "output_type": "execute_result"
    }
   ],
   "source": [
    "s.rpartition('i')"
   ]
  },
  {
   "cell_type": "code",
   "execution_count": 82,
   "id": "d7d15c20-572e-4cff-9d5a-603bb26c9b56",
   "metadata": {},
   "outputs": [
    {
     "data": {
      "text/plain": [
       "['k', 'rm', ' is b', 'ck']"
      ]
     },
     "execution_count": 82,
     "metadata": {},
     "output_type": "execute_result"
    }
   ],
   "source": [
    "s='karma is back'\n",
    "s.split('a')"
   ]
  },
  {
   "cell_type": "code",
   "execution_count": 88,
   "id": "4627dfa2-6d44-4f5d-9358-786dce3c46ce",
   "metadata": {},
   "outputs": [
    {
     "data": {
      "text/plain": [
       "'0000000karma is back'"
      ]
     },
     "execution_count": 88,
     "metadata": {},
     "output_type": "execute_result"
    }
   ],
   "source": [
    "s.zfill(20)"
   ]
  },
  {
   "cell_type": "code",
   "execution_count": 89,
   "id": "8a9e89b7-c61c-4b93-a5da-b693f0b3a7e4",
   "metadata": {},
   "outputs": [
    {
     "data": {
      "text/plain": [
       "['karma', 'is', 'back']"
      ]
     },
     "execution_count": 89,
     "metadata": {},
     "output_type": "execute_result"
    }
   ],
   "source": [
    "s.split()"
   ]
  },
  {
   "cell_type": "code",
   "execution_count": 91,
   "id": "a7bb5007-695f-4a3c-b54c-90ea2deb30b0",
   "metadata": {},
   "outputs": [
    {
     "data": {
      "text/plain": [
       "'maYUR'"
      ]
     },
     "execution_count": 91,
     "metadata": {},
     "output_type": "execute_result"
    }
   ],
   "source": [
    "s.swapcase()\n",
    "s=\"MAyur\"\n",
    "s.swapcase()"
   ]
  },
  {
   "cell_type": "markdown",
   "id": "3cfc53c5-278c-4ae0-9815-7d109566dd2f",
   "metadata": {},
   "source": [
    "# **list**"
   ]
  },
  {
   "cell_type": "markdown",
   "id": "664bb8e0-a4a2-4977-b643-739f9e319dec",
   "metadata": {},
   "source": [
    "'append',\n",
    " 'clear',\n",
    " 'copy',\n",
    " 'count',\n",
    " 'extend',\n",
    " 'index',\n",
    " 'insert',\n",
    " 'pop',\n",
    " 'remove',\n",
    " 'reverse',\n",
    " 'sort']"
   ]
  },
  {
   "cell_type": "code",
   "execution_count": 43,
   "id": "1af274e9-d399-403e-8adc-105a9a95da54",
   "metadata": {},
   "outputs": [
    {
     "data": {
      "text/plain": [
       "[10, 20, 30, 40, 50, 'Apple', 'banana', 'cherry']"
      ]
     },
     "execution_count": 43,
     "metadata": {},
     "output_type": "execute_result"
    }
   ],
   "source": [
    "l1 = [10,20,30,40,50,'Apple','banana','cherry']\n",
    "l1"
   ]
  },
  {
   "cell_type": "code",
   "execution_count": 19,
   "id": "46226da4-04e5-46f7-a406-14b008ae47fc",
   "metadata": {},
   "outputs": [
    {
     "data": {
      "text/plain": [
       "[10, 20, 30, 40, 50, 'Apple', 'banana', 'cherry', 'nagpur']"
      ]
     },
     "execution_count": 19,
     "metadata": {},
     "output_type": "execute_result"
    }
   ],
   "source": [
    "l1.append('nagpur')\n",
    "l1"
   ]
  },
  {
   "cell_type": "code",
   "execution_count": 42,
   "id": "7f27313c-63ef-4286-b076-a290e4a2eb1d",
   "metadata": {},
   "outputs": [
    {
     "data": {
      "text/plain": [
       "['nagpur']"
      ]
     },
     "execution_count": 42,
     "metadata": {},
     "output_type": "execute_result"
    }
   ],
   "source": [
    "l2 = l1.copy()\n",
    "l2\n",
    "l2.append('nagpur')\n",
    "l2"
   ]
  },
  {
   "cell_type": "code",
   "execution_count": 26,
   "id": "f5303cc4-01fe-45b8-a5a0-a9f97001fa59",
   "metadata": {},
   "outputs": [
    {
     "data": {
      "text/plain": [
       "2"
      ]
     },
     "execution_count": 26,
     "metadata": {},
     "output_type": "execute_result"
    }
   ],
   "source": [
    "l2.count('nagpur')"
   ]
  },
  {
   "cell_type": "code",
   "execution_count": 44,
   "id": "a1f59704-92dc-4848-abb7-e6b038c466cd",
   "metadata": {},
   "outputs": [
    {
     "data": {
      "text/plain": [
       "[10, 20, 30, 40, 50, 'Apple', 'banana', 'cherry']"
      ]
     },
     "execution_count": 44,
     "metadata": {},
     "output_type": "execute_result"
    }
   ],
   "source": [
    "l1"
   ]
  },
  {
   "cell_type": "code",
   "execution_count": 52,
   "id": "e4bd4178-ee0d-4fc0-9951-c582d759aee0",
   "metadata": {},
   "outputs": [
    {
     "data": {
      "text/plain": [
       "[10, 20, 30, 40, 50, 'Apple', 'banana', 'cherry']"
      ]
     },
     "execution_count": 52,
     "metadata": {},
     "output_type": "execute_result"
    }
   ],
   "source": [
    "l2.clear()\n",
    "l2 = l1.copy()\n",
    "l2"
   ]
  },
  {
   "cell_type": "code",
   "execution_count": 55,
   "id": "6208482f-a712-4233-ac1d-c36b745a96f2",
   "metadata": {},
   "outputs": [
    {
     "data": {
      "text/plain": [
       "3"
      ]
     },
     "execution_count": 55,
     "metadata": {},
     "output_type": "execute_result"
    }
   ],
   "source": [
    "l1.index(40)"
   ]
  },
  {
   "cell_type": "code",
   "execution_count": 76,
   "id": "25002944-a0d5-494e-810b-c8666d24bd00",
   "metadata": {},
   "outputs": [
    {
     "data": {
      "text/plain": [
       "[10, 40, 50]"
      ]
     },
     "execution_count": 76,
     "metadata": {},
     "output_type": "execute_result"
    }
   ],
   "source": [
    "# l1.insert()\n",
    "l1.pop()\n",
    "l1"
   ]
  },
  {
   "cell_type": "code",
   "execution_count": 102,
   "id": "1ed4e024-a3b6-4a54-b4f7-0f07ad878d8f",
   "metadata": {},
   "outputs": [
    {
     "data": {
      "text/plain": [
       "[10, 'maharashtra', 'maha', 'maha', 'maha', 'maha']"
      ]
     },
     "execution_count": 102,
     "metadata": {},
     "output_type": "execute_result"
    }
   ],
   "source": [
    "l1.append('maha')\n",
    "l1.pop(1)\n",
    "# l1.remove()\n",
    "l1"
   ]
  },
  {
   "cell_type": "code",
   "execution_count": 103,
   "id": "53287128-f91a-43e1-b901-5d20274239a7",
   "metadata": {},
   "outputs": [
    {
     "data": {
      "text/plain": [
       "[10, 20, 30, 40, 50, 60, 'maharashtra', 'telangana', 'pune', 'hyderabad']"
      ]
     },
     "execution_count": 103,
     "metadata": {},
     "output_type": "execute_result"
    }
   ],
   "source": [
    "l1=[10,20,30,40,50,60,'maharashtra','telangana','pune','hyderabad']\n",
    "l1"
   ]
  },
  {
   "cell_type": "code",
   "execution_count": 109,
   "id": "dbc73863-5e48-47bf-b856-32c3d3281f32",
   "metadata": {},
   "outputs": [
    {
     "data": {
      "text/plain": [
       "['hyderabad', 'pune', 'telangana', 'maharashtra', 60, 50, 40, 30, 20, 10]"
      ]
     },
     "execution_count": 109,
     "metadata": {},
     "output_type": "execute_result"
    }
   ],
   "source": [
    "l1.reverse()\n",
    "l1"
   ]
  },
  {
   "cell_type": "code",
   "execution_count": 111,
   "id": "3d90d246-5b3b-4628-b192-b0d50eb7d527",
   "metadata": {},
   "outputs": [
    {
     "data": {
      "text/plain": [
       "['hyderabad', 'pune', 'telangana', 'maharashtra', 60, 50, 40, 30, 20, 10]"
      ]
     },
     "execution_count": 111,
     "metadata": {},
     "output_type": "execute_result"
    }
   ],
   "source": [
    "reversed(l1)\n",
    "list(l1)"
   ]
  },
  {
   "cell_type": "code",
   "execution_count": 112,
   "id": "9f70685a-30e9-468a-8fc2-b77fb15605d8",
   "metadata": {},
   "outputs": [
    {
     "data": {
      "text/plain": [
       "['hyderabad', 'pune', 'telangana', 'maharashtra', 60, 50, 40, 30, 20, 10]"
      ]
     },
     "execution_count": 112,
     "metadata": {},
     "output_type": "execute_result"
    }
   ],
   "source": [
    "l1"
   ]
  },
  {
   "cell_type": "code",
   "execution_count": 118,
   "id": "1d42173e-bf84-4ebc-b1cf-f33b1007bcdc",
   "metadata": {},
   "outputs": [
    {
     "data": {
      "text/plain": [
       "[10, 20, 30, 40, 50]"
      ]
     },
     "execution_count": 118,
     "metadata": {},
     "output_type": "execute_result"
    }
   ],
   "source": [
    "l1=[10,20,30,40,50]\n",
    "sorted(l1)"
   ]
  },
  {
   "cell_type": "code",
   "execution_count": 119,
   "id": "e20ed68d-ebe0-4501-b2d2-318cba6ffc45",
   "metadata": {},
   "outputs": [
    {
     "data": {
      "text/plain": [
       "['__add__',\n",
       " '__class__',\n",
       " '__class_getitem__',\n",
       " '__contains__',\n",
       " '__delattr__',\n",
       " '__dir__',\n",
       " '__doc__',\n",
       " '__eq__',\n",
       " '__format__',\n",
       " '__ge__',\n",
       " '__getattribute__',\n",
       " '__getitem__',\n",
       " '__getnewargs__',\n",
       " '__getstate__',\n",
       " '__gt__',\n",
       " '__hash__',\n",
       " '__init__',\n",
       " '__init_subclass__',\n",
       " '__iter__',\n",
       " '__le__',\n",
       " '__len__',\n",
       " '__lt__',\n",
       " '__mul__',\n",
       " '__ne__',\n",
       " '__new__',\n",
       " '__reduce__',\n",
       " '__reduce_ex__',\n",
       " '__repr__',\n",
       " '__rmul__',\n",
       " '__setattr__',\n",
       " '__sizeof__',\n",
       " '__str__',\n",
       " '__subclasshook__',\n",
       " 'count',\n",
       " 'index']"
      ]
     },
     "execution_count": 119,
     "metadata": {},
     "output_type": "execute_result"
    }
   ],
   "source": [
    "dir(())"
   ]
  },
  {
   "cell_type": "code",
   "execution_count": 127,
   "id": "70d03c74-885d-4233-973c-8cd4c312ac12",
   "metadata": {},
   "outputs": [
    {
     "data": {
      "text/plain": [
       "3"
      ]
     },
     "execution_count": 127,
     "metadata": {},
     "output_type": "execute_result"
    }
   ],
   "source": [
    "tpl = ('mayur',10,50,10)\n",
    "tpl.count(10)\n",
    "t1=tpl.index(10)\n",
    "tpl.index(10,t1+1)"
   ]
  },
  {
   "cell_type": "code",
   "execution_count": 128,
   "id": "22023452-e398-4dfd-80ea-1be5a23dd433",
   "metadata": {},
   "outputs": [
    {
     "data": {
      "text/plain": [
       "('pune', 'mumbai', 'nagpur', 'dhule')"
      ]
     },
     "execution_count": 128,
     "metadata": {},
     "output_type": "execute_result"
    }
   ],
   "source": [
    "tpl = ('pune','mumbai','nagpur','dhule')\n",
    "tpl"
   ]
  },
  {
   "cell_type": "code",
   "execution_count": 129,
   "id": "4cb598a7-35e8-41d2-beb8-e19b69555977",
   "metadata": {},
   "outputs": [
    {
     "data": {
      "text/plain": [
       "tuple"
      ]
     },
     "execution_count": 129,
     "metadata": {},
     "output_type": "execute_result"
    }
   ],
   "source": [
    "type(tpl)"
   ]
  },
  {
   "cell_type": "code",
   "execution_count": 130,
   "id": "15e6a95b-bbb5-4c8f-b6c9-cc9df6f8e80b",
   "metadata": {},
   "outputs": [
    {
     "name": "stdout",
     "output_type": "stream",
     "text": [
      "('pune', 'mumbai', 'nagpur', 'dhule')\n"
     ]
    }
   ],
   "source": [
    "print(tpl)"
   ]
  },
  {
   "cell_type": "code",
   "execution_count": 131,
   "id": "68d4d077-2e68-46a9-8fe9-ff7c7cbebf3e",
   "metadata": {},
   "outputs": [
    {
     "data": {
      "text/plain": [
       "'dhule'"
      ]
     },
     "execution_count": 131,
     "metadata": {},
     "output_type": "execute_result"
    }
   ],
   "source": [
    "min(tpl)"
   ]
  },
  {
   "cell_type": "code",
   "execution_count": 132,
   "id": "f5c88f09-9007-439a-9152-ed13ace5c4e2",
   "metadata": {},
   "outputs": [
    {
     "data": {
      "text/plain": [
       "'pune'"
      ]
     },
     "execution_count": 132,
     "metadata": {},
     "output_type": "execute_result"
    }
   ],
   "source": [
    "max(tpl)"
   ]
  },
  {
   "cell_type": "code",
   "execution_count": 136,
   "id": "03f9014a-3e88-4b94-ac9c-043ce6ec4e46",
   "metadata": {},
   "outputs": [
    {
     "data": {
      "text/plain": [
       "['dhule', 'mumbai', 'nagpur', 'pune']"
      ]
     },
     "execution_count": 136,
     "metadata": {},
     "output_type": "execute_result"
    }
   ],
   "source": [
    "sorted(tpl)"
   ]
  },
  {
   "cell_type": "code",
   "execution_count": 143,
   "id": "4306ad91-3e82-43d7-8b47-9d69cfa9a1c3",
   "metadata": {},
   "outputs": [
    {
     "data": {
      "text/plain": [
       "112"
      ]
     },
     "execution_count": 143,
     "metadata": {},
     "output_type": "execute_result"
    }
   ],
   "source": [
    "ord('d')\n",
    "ord('p')"
   ]
  },
  {
   "cell_type": "code",
   "execution_count": 152,
   "id": "6a0c9b6b-30b8-4268-8961-c05e16ab7528",
   "metadata": {},
   "outputs": [
    {
     "name": "stdout",
     "output_type": "stream",
     "text": [
      "pune\n",
      "mumbai\n",
      "nagpur\n",
      "dhule\n"
     ]
    }
   ],
   "source": [
    "reversed(tpl)\n",
    "for i in tpl:\n",
    "    print(i)"
   ]
  },
  {
   "cell_type": "code",
   "execution_count": 153,
   "id": "51b05a42-57bb-4b3f-a0a6-355374085880",
   "metadata": {},
   "outputs": [
    {
     "data": {
      "text/plain": [
       "(10, 20, 30)"
      ]
     },
     "execution_count": 153,
     "metadata": {},
     "output_type": "execute_result"
    }
   ],
   "source": [
    "list1 = [10,20,30]\n",
    "my_tpl=tuple(list1)\n",
    "my_tpl"
   ]
  },
  {
   "cell_type": "code",
   "execution_count": 165,
   "id": "0702b9a6-e8d1-4e51-8a32-f1ccb5240066",
   "metadata": {},
   "outputs": [
    {
     "data": {
      "text/plain": [
       "('this', 'is', 'string')"
      ]
     },
     "execution_count": 165,
     "metadata": {},
     "output_type": "execute_result"
    }
   ],
   "source": [
    "str1 = 'this is string' # string \n",
    "l = str1.split() # list \n",
    "my_tpl = tuple(l) # tuple\n",
    "my_tpl\n",
    "my_tpl"
   ]
  },
  {
   "cell_type": "code",
   "execution_count": 158,
   "id": "b38bfb0e-0b41-4c52-8f46-c940e11edf8a",
   "metadata": {},
   "outputs": [
    {
     "data": {
      "text/plain": [
       "tuple"
      ]
     },
     "execution_count": 158,
     "metadata": {},
     "output_type": "execute_result"
    }
   ],
   "source": [
    "type(str1)\n",
    "type(l)\n",
    "type(my_tpl)"
   ]
  },
  {
   "cell_type": "code",
   "execution_count": 176,
   "id": "0b471844-bb46-4d0c-acfd-9253cf05c419",
   "metadata": {},
   "outputs": [
    {
     "name": "stdout",
     "output_type": "stream",
     "text": [
      "('modi', 'delhi', 'modi', 'delhi', 'modi', 'delhi', 'modi', 'delhi', 'modi', 'delhi')\n"
     ]
    }
   ],
   "source": [
    "tp1=('modi','delhi')\n",
    "tp2=('mayur','rohit')\n",
    "print(tp1*5)\n"
   ]
  },
  {
   "cell_type": "code",
   "execution_count": 277,
   "id": "2275aa59-271e-4f7b-aee2-b1c36dfc1c59",
   "metadata": {},
   "outputs": [
    {
     "name": "stdin",
     "output_type": "stream",
     "text": [
      " 9\n"
     ]
    },
    {
     "name": "stdout",
     "output_type": "stream",
     "text": [
      "9 is not prime\n"
     ]
    }
   ],
   "source": [
    "num = eval(input())\n",
    "if num < 2:\n",
    "    print(num ,' is not prime')\n",
    "else:\n",
    "    for i in range(2,num):\n",
    "        if num % i ==0:\n",
    "            print(num,'is not prime')\n",
    "            break\n",
    "    else:\n",
    "        print(num,'is prime')"
   ]
  },
  {
   "cell_type": "code",
   "execution_count": null,
   "id": "b1dd31a8-fce2-4b51-ba66-0f1fdbd800eb",
   "metadata": {},
   "outputs": [],
   "source": []
  },
  {
   "cell_type": "code",
   "execution_count": null,
   "id": "9e88a51e-dd4f-4aa1-83bb-6525d690726a",
   "metadata": {},
   "outputs": [],
   "source": []
  },
  {
   "cell_type": "code",
   "execution_count": null,
   "id": "cba1b7f8-8401-40fe-a064-602596203082",
   "metadata": {},
   "outputs": [],
   "source": []
  },
  {
   "cell_type": "code",
   "execution_count": 294,
   "id": "ad3ccb49-0966-4e4a-8a36-f8330b724f95",
   "metadata": {},
   "outputs": [
    {
     "name": "stdin",
     "output_type": "stream",
     "text": [
      " 2\n"
     ]
    },
    {
     "name": "stdout",
     "output_type": "stream",
     "text": [
      "prime number\n"
     ]
    }
   ],
   "source": [
    "n=eval(input())\n",
    "if n < 2:\n",
    "    print('not prime')\n",
    "else:\n",
    "    for i in range(2,n):\n",
    "        if n % i ==0:\n",
    "            print('not prime')\n",
    "            break\n",
    "    else:\n",
    "        print('prime number')"
   ]
  },
  {
   "cell_type": "code",
   "execution_count": 316,
   "id": "5e34c484-bdc2-4b0a-bb25-035252cb8ee7",
   "metadata": {},
   "outputs": [
    {
     "name": "stdin",
     "output_type": "stream",
     "text": [
      " 10\n"
     ]
    },
    {
     "name": "stdout",
     "output_type": "stream",
     "text": [
      "2\n",
      "3\n",
      "5\n",
      "7\n"
     ]
    }
   ],
   "source": [
    "n = eval(input())\n",
    "for num in range(1,n):\n",
    "    if num > 1:\n",
    "        for i in range(2,num):\n",
    "            if num % i ==0:\n",
    "                break\n",
    "        else:\n",
    "            # c = c+1\n",
    "            print(num)"
   ]
  },
  {
   "cell_type": "code",
   "execution_count": 337,
   "id": "5823b5bf-b26e-4986-bddd-cf7298f5a23c",
   "metadata": {},
   "outputs": [
    {
     "name": "stdin",
     "output_type": "stream",
     "text": [
      " 5\n"
     ]
    },
    {
     "name": "stdout",
     "output_type": "stream",
     "text": [
      "120\n"
     ]
    }
   ],
   "source": [
    "n = eval(input())\n",
    "f=1\n",
    "# for i in range(1,n+1):\n",
    "#     f = f * i\n",
    "# print(f)\n",
    "i = 1\n",
    "while i <=n:\n",
    "    f = f * i\n",
    "    i = i + 1\n",
    "print(f)"
   ]
  },
  {
   "cell_type": "code",
   "execution_count": null,
   "id": "de2ee919-7844-4a3b-957e-2ce1877bd444",
   "metadata": {},
   "outputs": [],
   "source": [
    "# Q3) input=['hyd','bengaluru','pune','mumbai']\n",
    "#     output=['Hyd','Bengaluru','Pune','Mumbai']\n",
    "\n",
    "# Q4) input=['hyd','bengaluru','pune','mumbai']\n",
    "#     output=['HYD','BENGALURU','PUNE','MUMBAI']\n",
    "\n",
    "# Q5) input=['hyd','ben#galuru','pune','mu#mbai']\n",
    "#     output=[ben#galuru',mu#mbai']\n",
    "\n",
    "# Q6) input=['hyd','ben#galuru','pune','mu#mbai']\n",
    "#     output=[hyd,pune]\n",
    "\n",
    "# Q7) input = 'hai how are you'\n",
    "#     output=['HAI','HOW','ARE','YOU']\n",
    "\n",
    "# Q8) input='virat.kohli@rcb.com;rohit.sharma@mi.com;ms.dhoni@csk.com'\n",
    "#     fname=['virat','rohit'.'ms']\n",
    "#     sname=['kohli','sharma','dhoni']\n",
    "#     cname=['rcb','mi','csk']\n",
    "\n",
    "# Q9) input='can canner can you can not canner with you but you can the canner'\n",
    "#     output=['can'-4,'canner'-3,'you'-3,'not'-1,'with'-1,'but'-1,'the'-1]\n",
    "\n",
    "# Q10) input = 'can canner can you can not canner with you but you can the canner'\n",
    "#      stopwords=['not','you','but','with']\n",
    "#      using stopwords remove those words from input\n",
    "#     output='can canner can can canner can canner'\n",
    "\n",
    "# Q11) take a string find the most repeated word from string\n",
    "\n",
    "# Q12) take a string find the longest length of the word from string\n",
    "\n",
    "# Q13) take a string find the lowest length of the word from string\n",
    "\n",
    "# Q14) you have some qns list is there\n",
    "#      also you have answers list also there\n",
    "#     qns=['who is PM of india',\n",
    "#       'what is the capital of india', who is ICT MENS captain]\n",
    "#    ans=['Modi','Delhi','Rohit']\n",
    "#    whenerver correct answer marks +10\n",
    "#    print you got total"
   ]
  },
  {
   "cell_type": "code",
   "execution_count": 341,
   "id": "74e1a88c-f273-49fa-99c8-b58a85f72374",
   "metadata": {},
   "outputs": [
    {
     "data": {
      "text/plain": [
       "['Hyd', 'Bengaluru', 'Pune', 'Mumbai']"
      ]
     },
     "execution_count": 341,
     "metadata": {},
     "output_type": "execute_result"
    }
   ],
   "source": [
    "# Q3) input=['hyd','bengaluru','pune','mumbai']\n",
    "#     output=['Hyd','Bengaluru','Pune','Mumbai']\n",
    "input=['hyd','bengaluru','pune','mumbai']\n",
    "output=[]\n",
    "for i in input:\n",
    "    output.append(i.capitalize())\n",
    "output"
   ]
  },
  {
   "cell_type": "code",
   "execution_count": 348,
   "id": "c164086a-269e-4be3-a3a5-2a75cd5e7052",
   "metadata": {},
   "outputs": [
    {
     "data": {
      "text/plain": [
       "['HYD', 'BENGALURU', 'PUNE', 'MUMBAI']"
      ]
     },
     "execution_count": 348,
     "metadata": {},
     "output_type": "execute_result"
    }
   ],
   "source": [
    "# Q4) input=['hyd','bengaluru','pune','mumbai']\n",
    "#     output=['HYD','BENGALURU','PUNE','MUMBAI']\n",
    "input=['hyd','bengaluru','pune','mumbai']\n",
    "output1=[]\n",
    "for i in input:\n",
    "    output1.append(i.upper())\n",
    "output1"
   ]
  },
  {
   "cell_type": "code",
   "execution_count": 362,
   "id": "fdca553d-a71f-4888-afb9-a271a4fa3ccd",
   "metadata": {},
   "outputs": [
    {
     "data": {
      "text/plain": [
       "['ben#galuru', 'mu#mbai']"
      ]
     },
     "execution_count": 362,
     "metadata": {},
     "output_type": "execute_result"
    }
   ],
   "source": [
    "# Q5) input=['hyd','ben#galuru','pune','mu#mbai']\n",
    "#     output=[ben#galuru',mu#mbai']\n",
    "input=['hyd','ben#galuru','pune','mu#mbai']\n",
    "output = []\n",
    "for i in input:\n",
    "    if '#' in i:\n",
    "        output.append(i)\n",
    "output"
   ]
  },
  {
   "cell_type": "code",
   "execution_count": 365,
   "id": "9c254e03-d3bc-40f5-a12e-db84ffdd8c4b",
   "metadata": {},
   "outputs": [
    {
     "data": {
      "text/plain": [
       "['hyd', 'pune']"
      ]
     },
     "execution_count": 365,
     "metadata": {},
     "output_type": "execute_result"
    }
   ],
   "source": [
    "# Q6) input=['hyd','ben#galuru','pune','mu#mbai']\n",
    "#     output=[hyd,pune]\n",
    "input=['hyd','ben#galuru','pune','mu#mbai']\n",
    "output=[]\n",
    "for i in input:\n",
    "    if '#' not in i:\n",
    "        output.append(i)\n",
    "output"
   ]
  },
  {
   "cell_type": "code",
   "execution_count": 2,
   "id": "55e3f438-25bb-4af1-a0af-229c0130f46a",
   "metadata": {},
   "outputs": [
    {
     "name": "stdout",
     "output_type": "stream",
     "text": [
      "['virat', 'rohit', 'ms', 'mayur'] ['kohli', 'sharma', 'dhoni', 'hairinkhede'] ['rcb', 'mi', 'csk', 'mh']\n"
     ]
    }
   ],
   "source": [
    "# Q8) input='virat.kohli@rcb.com;rohit.sharma@mi.com;ms.dhoni@csk.com'\n",
    "#     fname=['virat','rohit'.'ms']\n",
    "#     sname=['kohli','sharma','dhoni']\n",
    "#     cname=['rcb','mi','csk']\n",
    "\n",
    "input='virat.kohli@rcb.com;rohit.sharma@mi.com;ms.dhoni@csk.com;mayur.hairinkhede@mh.com'\n",
    "l = input.split(';')\n",
    "\n",
    "fname=[]\n",
    "lname=[]\n",
    "cname=[]\n",
    "for i in l:\n",
    "    n1=i.find('.')\n",
    "    n2 = i.find('@')\n",
    "    n3=i.find('.',n1+1)\n",
    "    fname.append(i[0:n1])\n",
    "    lname.append(i[n1+1:n2])\n",
    "    cname.append(i[n2+1:n3])\n",
    "print(fname,lname,cname,)"
   ]
  },
  {
   "cell_type": "code",
   "execution_count": 17,
   "id": "39b71347-96a7-4f3f-811c-2ef45d9b412a",
   "metadata": {},
   "outputs": [
    {
     "name": "stdout",
     "output_type": "stream",
     "text": [
      "['virat', 'rohit', 'ms', 'mayur'] ['kohli', 'sharma', 'dhoni', 'hairinkhede'] ['rcb', 'mi', 'csk', 'mh'] ['cricket', 'football', 'hockey', 'badminton']\n"
     ]
    }
   ],
   "source": [
    "# Q8) input='virat.kohli@rcb.com;rohit.sharma@mi.com;ms.dhoni@csk.com'\n",
    "#     fname=['virat','rohit'.'ms']\n",
    "#     sname=['kohli','sharma','dhoni']\n",
    "#     cname=['rcb','mi','csk']\n",
    "\n",
    "input='virat.kohli@rcb.com.cricket;rohit.sharma@mi.com.football;ms.dhoni@csk.com.hockey;mayur.hairinkhede@mh.com.badminton'\n",
    "l = input.split(';')\n",
    "fname=[]\n",
    "lname=[]\n",
    "cname=[]\n",
    "pname=[]\n",
    "for i in l:\n",
    "    n1=i.find('.')\n",
    "    n2 = i.find('@')\n",
    "    n3=i.find('.',n1+1)\n",
    "    # n4 = i.find('.',n3+1)\n",
    "    fname.append(i[0:n1])\n",
    "    lname.append(i[n1+1:n2])\n",
    "    cname.append(i[n2+1:n3])\n",
    "    pname.append(i[n3+5:])\n",
    "print(fname,lname,cname,pname)"
   ]
  },
  {
   "cell_type": "code",
   "execution_count": null,
   "id": "c0e9f3b1-a6d3-4376-b542-1f15a6b9be2f",
   "metadata": {},
   "outputs": [],
   "source": []
  },
  {
   "cell_type": "code",
   "execution_count": 52,
   "id": "3af12d93-e2fc-45e8-8fb7-cc039de2b7eb",
   "metadata": {},
   "outputs": [
    {
     "data": {
      "text/plain": [
       "['can : 4',\n",
       " 'canner : 3',\n",
       " 'can : 4',\n",
       " 'you : 3',\n",
       " 'can : 4',\n",
       " 'not : 1',\n",
       " 'canner : 3',\n",
       " 'with : 1',\n",
       " 'you : 3',\n",
       " 'but : 1',\n",
       " 'you : 3',\n",
       " 'can : 4',\n",
       " 'the : 1',\n",
       " 'canner : 3']"
      ]
     },
     "execution_count": 52,
     "metadata": {},
     "output_type": "execute_result"
    }
   ],
   "source": [
    "# Q9) input='can canner can you can not canner with you but you can the canner'\n",
    "#     output=['can'-4,'canner'-3,'you'-3,'not'-1,'with'-1,'but'-1,'the'-1]\n",
    "\n",
    "input='can canner can you can not canner with you but you can the canner'\n",
    "l=input.split()\n",
    "list1=['can canner can you can not canner with you but you can the canner']\n",
    "n1=[]\n",
    "c1=[]\n",
    "c=0\n",
    "l.count('can')\n",
    "for i in l:\n",
    "    if i not in n1:\n",
    "        # i=l.count(n1)\n",
    "        n1.append(f'{i} : {l.count(i)}')\n",
    "        c1.append(i)\n",
    "n1"
   ]
  },
  {
   "cell_type": "code",
   "execution_count": 495,
   "id": "766d0854-aecc-408e-abbf-f027b54a86f3",
   "metadata": {},
   "outputs": [
    {
     "data": {
      "text/plain": [
       "['can', 'canner', 'can', 'can', 'canner', 'can', 'the', 'canner']"
      ]
     },
     "execution_count": 495,
     "metadata": {},
     "output_type": "execute_result"
    }
   ],
   "source": [
    "# Q10) input = 'can canner can you can not canner with you but you can the canner'\n",
    "#      stopwords=['not','you','but','with']\n",
    "#      using stopwords remove those words from input\n",
    "#     output='can canner can can canner can canner'\n",
    "input='can canner can you can not canner with you but you can the canner'\n",
    "l=input.split()\n",
    "list1=['can canner can you can not canner with you but you can the canner']\n",
    "n1=['not','you','but','with']\n",
    "c1=[]\n",
    "c=0\n",
    "l.count('can')\n",
    "for i in l:\n",
    "    if i not in n1:\n",
    "        c1.append(f'{i}')\n",
    "c1"
   ]
  },
  {
   "cell_type": "code",
   "execution_count": null,
   "id": "b2805a99-93dc-49f4-8057-ec702357485c",
   "metadata": {},
   "outputs": [],
   "source": [
    "# Q11) take a string find the most repeated word from string\n"
   ]
  },
  {
   "cell_type": "code",
   "execution_count": 7,
   "id": "1f8dffb5-1969-47fc-9564-470128f90cc4",
   "metadata": {},
   "outputs": [
    {
     "name": "stdout",
     "output_type": "stream",
     "text": [
      "['virat', 'rohit', 'ms', 'mayur'] ['kohli', 'sharma', 'dhoni', 'hairinkhede'] ['rcb', 'mi', 'csk', 'mh']\n"
     ]
    }
   ],
   "source": [
    "input='virat.kohli@rcb.com;rohit.sharma@mi.com;ms.dhoni@csk.com;mayur.hairinkhede@mh.com'\n",
    "l = input.split(';')\n",
    "\n",
    "fname=[]\n",
    "lname=[]\n",
    "cname=[]\n",
    "for i in l:\n",
    "    n1=i.index('.')\n",
    "    n2 = i.index('@')\n",
    "    n3=i.index('.',n1+1)\n",
    "    fname.append(i[0:n1])\n",
    "    lname.append(i[n1+1:n2])\n",
    "    cname.append(i[n2+1:n3])\n",
    "print(fname,lname,cname,)"
   ]
  },
  {
   "cell_type": "code",
   "execution_count": 33,
   "id": "0ee6e2cd-b1d9-49e0-9670-3d58e132f02f",
   "metadata": {},
   "outputs": [
    {
     "name": "stdout",
     "output_type": "stream",
     "text": [
      "['virat', 'rohit', 'ms', 'mayur'] ['kohli', 'sharma', 'dhoni', 'hairinkhede'] ['kohli@rcb', 'sharma@mi', 'dhoni@csk', 'hairinkhede@mh']\n"
     ]
    }
   ],
   "source": [
    "input='virat.kohli@rcb.com;rohit.sharma@mi.com;ms.dhoni@csk.com;mayur.hairinkhede@mh.com'\n",
    "l=input.split(';')\n",
    "fn=[]\n",
    "ln=[]\n",
    "cn=[]\n",
    "for i in l:\n",
    "    n1 = i.index('.')\n",
    "    n2 = i.index('@')\n",
    "    n3 = i.index('.',n1+1)\n",
    "    fn.append(i[:n1])\n",
    "    ln.append(i[n1+1:n2])\n",
    "    cn.append(i[n1+1:n3])\n",
    "print(fn,ln,cn)"
   ]
  },
  {
   "cell_type": "code",
   "execution_count": 35,
   "id": "ef3111ff-6538-4811-8432-5fb170bcda8d",
   "metadata": {},
   "outputs": [
    {
     "data": {
      "text/plain": [
       "5"
      ]
     },
     "execution_count": 35,
     "metadata": {},
     "output_type": "execute_result"
    }
   ],
   "source": [
    "input='virat.kohli@rcb.com;rohit.sharma@mi.com;ms.dhoni@csk.com;mayur.hairinkhede@mh.com'\n",
    "l=input.split(';')\n",
    "for i in l:\n",
    "    l1 = i.find('.')\n",
    "l1"
   ]
  },
  {
   "cell_type": "code",
   "execution_count": 60,
   "id": "8590f022-a01f-402f-a122-31067a9c5b80",
   "metadata": {},
   "outputs": [
    {
     "name": "stdout",
     "output_type": "stream",
     "text": [
      "['can:4', 'canner:3', 'you:3', 'not:1', 'with:1', 'but:1', 'the:1']\n"
     ]
    }
   ],
   "source": [
    "# Q9) input='can canner can you can not canner with you but you can the canner'\n",
    "#     output=['can'-4,'canner'-3,'you'-3,'not'-1,'with'-1,'but'-1,'the'-1]\n",
    "\n",
    "input='can canner can you can not canner with you but you can the canner'\n",
    "l=input.split()\n",
    "l1=[]\n",
    "l2=[]\n",
    "c=0\n",
    "for i in l:\n",
    "    if i not in l1:\n",
    "        l2.append(f'{i}:{l.count(i)}')\n",
    "        l1.append(i)\n",
    "print(l2)"
   ]
  },
  {
   "cell_type": "code",
   "execution_count": 65,
   "id": "21f61ad5-4835-4159-bbaf-13b7c74e45f3",
   "metadata": {},
   "outputs": [
    {
     "data": {
      "text/plain": [
       "['can', 'canner', 'can', 'can', 'canner', 'can', 'the', 'canner']"
      ]
     },
     "execution_count": 65,
     "metadata": {},
     "output_type": "execute_result"
    }
   ],
   "source": [
    "# Q10) input = 'can canner can you can not canner with you but you can the canner'\n",
    "#      stopwords=['not','you','but','with']\n",
    "#      using stopwords remove those words from input\n",
    "#     output='can canner can can canner can canner'\n",
    "input = 'can canner can you can not canner with you but you can the canner'\n",
    "l=input.split()\n",
    "stopwords=['not','you','but','with']\n",
    "output=[]\n",
    "for i in l:\n",
    "    if i not in stopwords:\n",
    "        output.append(i)\n",
    "output"
   ]
  },
  {
   "cell_type": "code",
   "execution_count": 96,
   "id": "49cbdb5e-3a88-4c11-b075-902ede92fdc5",
   "metadata": {},
   "outputs": [
    {
     "name": "stdout",
     "output_type": "stream",
     "text": [
      "can 4\n"
     ]
    }
   ],
   "source": [
    "# Q11) take a string find the most repeated word from string\n",
    "input = 'can canner can you can not canner me me me me me me with you but you can the canner'\n",
    "l=input.split()\n",
    "count =0\n",
    "for i in l:\n",
    "    if count < l.count(i):\n",
    "        count = l.count(i)\n",
    "        elements = i\n",
    "print(elements,count)"
   ]
  },
  {
   "cell_type": "code",
   "execution_count": 113,
   "id": "7038ac54-391a-4d4b-ae2f-f94b9f1ba16b",
   "metadata": {},
   "outputs": [
    {
     "data": {
      "text/plain": [
       "'longest'"
      ]
     },
     "execution_count": 113,
     "metadata": {},
     "output_type": "execute_result"
    }
   ],
   "source": [
    "input='take a string find the longest length of the word from string'\n",
    "l = input.split()\n",
    "long_len=l[0]\n",
    "for i in l:\n",
    "    if len(i)>len(long_len):\n",
    "        long_len=i\n",
    "long_len\n",
    "\n",
    "long=max(l,key=len)\n",
    "long"
   ]
  },
  {
   "cell_type": "code",
   "execution_count": 114,
   "id": "d03744d3-5a84-487f-9d1a-3f2514836b83",
   "metadata": {},
   "outputs": [
    {
     "data": {
      "text/plain": [
       "'a'"
      ]
     },
     "execution_count": 114,
     "metadata": {},
     "output_type": "execute_result"
    }
   ],
   "source": [
    "long=min(l,key=len)\n",
    "long"
   ]
  },
  {
   "cell_type": "code",
   "execution_count": 31,
   "id": "a152abeb-2d78-4572-b6b1-495194b88f15",
   "metadata": {},
   "outputs": [
    {
     "name": "stdin",
     "output_type": "stream",
     "text": [
      " modi\n"
     ]
    },
    {
     "name": "stdout",
     "output_type": "stream",
     "text": [
      "10\n"
     ]
    },
    {
     "name": "stdin",
     "output_type": "stream",
     "text": [
      " delhi\n"
     ]
    },
    {
     "name": "stdout",
     "output_type": "stream",
     "text": [
      "20\n"
     ]
    },
    {
     "name": "stdin",
     "output_type": "stream",
     "text": [
      " rohit\n"
     ]
    },
    {
     "name": "stdout",
     "output_type": "stream",
     "text": [
      "30\n"
     ]
    },
    {
     "data": {
      "text/plain": [
       "30"
      ]
     },
     "execution_count": 31,
     "metadata": {},
     "output_type": "execute_result"
    }
   ],
   "source": [
    "qns=['who is PM of india','what is the capital of india', 'who is ICT MENS captain']\n",
    "ans=['Modi','Delhi','Rohit']\n",
    "# ans1=ans.upper()\n",
    "marks=0\n",
    "for i in range(len(qns)):\n",
    "    myout=input()\n",
    "    myout.split()\n",
    "    if ans[i].upper() == myout.upper():\n",
    "        marks += 10\n",
    "        print(marks)\n",
    "marks"
   ]
  },
  {
   "cell_type": "code",
   "execution_count": 1,
   "id": "c9da7826-349f-4264-b70b-56c12d506817",
   "metadata": {},
   "outputs": [
    {
     "data": {
      "text/plain": [
       "[1, 2, 3, 4, 5, 6, 7, 8, 9, 10]"
      ]
     },
     "execution_count": 1,
     "metadata": {},
     "output_type": "execute_result"
    }
   ],
   "source": [
    "l=[]\n",
    "for i in range(1,11):\n",
    "    l.append(i)\n",
    "l"
   ]
  },
  {
   "cell_type": "code",
   "execution_count": 2,
   "id": "39b34e34-fa54-40e2-a2bd-f21a2693a2c7",
   "metadata": {},
   "outputs": [
    {
     "data": {
      "text/plain": [
       "[1, 2, 3, 4, 5, 6, 7, 8, 9, 10]"
      ]
     },
     "execution_count": 2,
     "metadata": {},
     "output_type": "execute_result"
    }
   ],
   "source": [
    "[i for i in range(1,11)]"
   ]
  },
  {
   "cell_type": "code",
   "execution_count": 6,
   "id": "17d6e223-93f1-4300-913e-d9fd1dd71487",
   "metadata": {},
   "outputs": [
    {
     "data": {
      "text/plain": [
       "['#kokan', '#delhi']"
      ]
     },
     "execution_count": 6,
     "metadata": {},
     "output_type": "execute_result"
    }
   ],
   "source": [
    "l = ['mumbai','#kokan','#delhi','nagpur']\n",
    "[i  for i in l if '#' in i]"
   ]
  },
  {
   "cell_type": "code",
   "execution_count": 25,
   "id": "2a9c9e10-5d64-4eed-bd6c-1025b66be64a",
   "metadata": {},
   "outputs": [
    {
     "name": "stdout",
     "output_type": "stream",
     "text": [
      "['10:positive', '-20:negative', '50:positive', '-60:negative', '80:positive', '70:positive', '-80:negative', '0 is zero']\n"
     ]
    }
   ],
   "source": [
    "l=[10,-20,50,-60,80,70,-80,0]\n",
    "l1=[ f'{i}:positive' if i>0 else f'{i}:negative' if i< 0 else f'{i} is zero'  for i in l  ]\n",
    "print(l1)"
   ]
  },
  {
   "cell_type": "code",
   "execution_count": 32,
   "id": "4a558b2a-6abb-49d9-8b20-29dfcd19cc0c",
   "metadata": {},
   "outputs": [
    {
     "data": {
      "text/plain": [
       "['Hyd', 'Ben#galuru', 'Pune', 'Mu#mbai']"
      ]
     },
     "execution_count": 32,
     "metadata": {},
     "output_type": "execute_result"
    }
   ],
   "source": [
    "# Q1) input=['hyd','bengaluru','pune','mumbai']\n",
    "#     output=['Hyd','Bengaluru','Pune','Mumbai']\n",
    "# Q2) input=['hyd','bengaluru','pune','mumbai']\n",
    "#     output=['HYD','BENGALURU','PUNE','MUMBAI']\n",
    "# Q5) input=['hyd','ben#galuru','pune','mu#mbai']\n",
    "#     output=[ben#galuru',mu#mbai']\n",
    "\n",
    "# Q6) input=['hyd','ben#galuru','pune','mu#mbai']\n",
    "#     output=[hyd,pune]\n",
    "\n",
    "input=['hyd','ben#galuru','pune','mu#mbai']\n",
    "l2=[]\n",
    "for i in input:\n",
    "    # print(i.capitalize())\n",
    "    l2.append(i.capitalize())\n",
    "l2\n",
    "[i.capitalize() for i in l2]"
   ]
  },
  {
   "cell_type": "code",
   "execution_count": 38,
   "id": "dacffe42-8674-4c90-95c9-974599e08c71",
   "metadata": {},
   "outputs": [
    {
     "data": {
      "text/plain": [
       "['HYD', 'BENGALURU', 'PUNE', 'MUMBAI']"
      ]
     },
     "execution_count": 38,
     "metadata": {},
     "output_type": "execute_result"
    }
   ],
   "source": [
    "# Q1) input=['hyd','bengaluru','pune','mumbai']\n",
    "#     output=['Hyd','Bengaluru','Pune','Mumbai']\n",
    "\n",
    "input=['hyd','bengaluru','pune','mumbai']\n",
    "[i.upper() for i in input]\n",
    "l3=[]\n",
    "for i in input:\n",
    "    l3.append(i.upper())\n",
    "l3"
   ]
  },
  {
   "cell_type": "code",
   "execution_count": 47,
   "id": "1bb6cfac-242b-4fba-ab66-3387999687a5",
   "metadata": {},
   "outputs": [
    {
     "data": {
      "text/plain": [
       "['ben#galuru', 'mu#mbai']"
      ]
     },
     "execution_count": 47,
     "metadata": {},
     "output_type": "execute_result"
    }
   ],
   "source": [
    "input=['hyd','ben#galuru','pune','mu#mbai']\n",
    "l4=[]\n",
    "for i in input:\n",
    "    if '#' in i:\n",
    "        l4.append(i)\n",
    "l4\n",
    "[i for i in input if \"#\" in i]"
   ]
  },
  {
   "cell_type": "code",
   "execution_count": 48,
   "id": "ecce8fe1-13f8-4a27-add9-74bd31e83dcd",
   "metadata": {},
   "outputs": [
    {
     "data": {
      "text/plain": [
       "['hyd', 'pune']"
      ]
     },
     "execution_count": 48,
     "metadata": {},
     "output_type": "execute_result"
    }
   ],
   "source": [
    "input=['hyd','ben#galuru','pune','mu#mbai']\n",
    "l5=[]\n",
    "for i in input:\n",
    "    if '#' not in i:\n",
    "        l5.append(i)\n",
    "l5\n",
    "[i for i in input if '#' not in i]"
   ]
  },
  {
   "cell_type": "code",
   "execution_count": 52,
   "id": "f167ef74-8f65-4028-9f11-2152e1c96126",
   "metadata": {},
   "outputs": [
    {
     "name": "stdout",
     "output_type": "stream",
     "text": [
      "['1:Odd', '2:Even', '3:Odd', '4:Even', '5:Odd', '6:Even', '7:Odd', '8:Even', '9:Odd', '10:Even']\n"
     ]
    }
   ],
   "source": [
    "l=[f'{i}:Even' if i%2==0 else f'{i}:Odd' for i in range(1,11)]\n",
    "print(l)"
   ]
  },
  {
   "cell_type": "code",
   "execution_count": 11,
   "id": "9225fa13-93eb-46a2-be8f-05f5c2a3dbe3",
   "metadata": {},
   "outputs": [
    {
     "name": "stdin",
     "output_type": "stream",
     "text": [
      " 2024\n"
     ]
    },
    {
     "name": "stdout",
     "output_type": "stream",
     "text": [
      "2024 is leap year\n"
     ]
    }
   ],
   "source": [
    "year = eval(input())\n",
    "if year % 4 ==0 and year % 100 != 0 or year % 400 ==0:\n",
    "    print(f'{year} is leap year')\n",
    "else:\n",
    "    print(f'{year} is not leap year')"
   ]
  },
  {
   "cell_type": "code",
   "execution_count": 12,
   "id": "33eb7e1e-5d7c-4a6c-95f4-9ca7ea80c916",
   "metadata": {},
   "outputs": [
    {
     "name": "stdout",
     "output_type": "stream",
     "text": [
      "120\n"
     ]
    }
   ],
   "source": [
    "f =1\n",
    "for i in range(1,6):\n",
    "    f=f*i\n",
    "print(f)"
   ]
  },
  {
   "cell_type": "code",
   "execution_count": 16,
   "id": "d8a9f5a7-39d4-45e9-bf62-1fe6f82cfed6",
   "metadata": {},
   "outputs": [
    {
     "name": "stdout",
     "output_type": "stream",
     "text": [
      "5, is a prime number\n"
     ]
    }
   ],
   "source": [
    "flag=False\n",
    "num=5\n",
    "if flag:\n",
    " print(f\"{num}, is not a prime number\")\n",
    "else:\n",
    " print(f\"{num}, is a prime number\")"
   ]
  },
  {
   "cell_type": "code",
   "execution_count": 47,
   "id": "a08cb888-6623-4cd4-8925-f05bdc201592",
   "metadata": {},
   "outputs": [
    {
     "name": "stdin",
     "output_type": "stream",
     "text": [
      " 1\n",
      " 10\n"
     ]
    },
    {
     "name": "stdout",
     "output_type": "stream",
     "text": [
      "2\n",
      "3\n",
      "5\n",
      "7\n"
     ]
    }
   ],
   "source": [
    "lower =eval(input())\n",
    "upper=eval(input())\n",
    "for num in range(lower , upper + 1):\n",
    "    if num > 1:\n",
    "        for i in range(2, num):\n",
    "            if (num%i) == 0:\n",
    "                break\n",
    "        else:\n",
    "            print(num)"
   ]
  },
  {
   "cell_type": "code",
   "execution_count": 48,
   "id": "a4dc9334-ce41-41b9-b0d2-b5dc89ade966",
   "metadata": {},
   "outputs": [
    {
     "name": "stdout",
     "output_type": "stream",
     "text": [
      "2\n",
      "3\n",
      "5\n",
      "7\n"
     ]
    }
   ],
   "source": [
    "l=1\n",
    "u=10\n",
    "for num in range(l,u+1):\n",
    "    if num>1:\n",
    "        for i in range(2,num):\n",
    "            if num%i==0:\n",
    "                break\n",
    "        else:\n",
    "            print(num)"
   ]
  },
  {
   "cell_type": "code",
   "execution_count": null,
   "id": "797e5763-a91f-47ba-af4c-0845d29cb238",
   "metadata": {},
   "outputs": [],
   "source": [
    "# 1)wap ask the user enter 3 numbers n1,n2,n3 from ketboard\n",
    "# calculate average\n",
    "\n",
    "# 2)wap ask the user enter name age city\n",
    "# print my name is python im 10 years old and came from hyd\n",
    "\n",
    "# 3)wap ask the user to enter radidus of a circle calculate area of the circle\n",
    "# var: radidus  var: pi=3.14\n",
    "# formuale: pi*radius*radius\n",
    "# print the answers using f string and format\n",
    "\n",
    "# 4)wap ask the user enter breadth and height of a right angle triangle\n",
    "# calculate the area\n",
    "# var1: bredath  var2: height\n",
    "# formuale : 0.5*breadth*heigh\n",
    "\n",
    "# 5)wap ask the user the bill amount and tip amount\n",
    "#   calculate total bill\n",
    "#   var1: bill amount var2: tip amount\n",
    "#   formuale\n",
    "\n",
    "# 6)wap ask the user the bill amount and tip percentage\n",
    "#    take tip percentage as 10\n",
    "#   calculate total bill= bill amount+ bill amount*tip per/100\n",
    "#   var1: bill amount var2: tip amount\n",
    "#    formuale\n",
    "\n",
    "# 7)wap ask the length and breadth of a rectangle calculate area\n",
    "#   var1: length  var2: breadth\n",
    "#   formulae: length * breadth\n",
    "\n",
    "# 8) wap ask the user take the radius and calculate volume of sphere\n",
    "#   formulae: pi*r**3(pi*r*r*r)\n",
    "\n",
    "# 9) wap ask the user enter amount in dollars convert into rupees\n",
    "#     1$=85rs\n",
    "\n",
    "# 10)wap ask the user enter weight in kgs convert into pounds\n",
    "#    1kg= 2.2pounds"
   ]
  },
  {
   "cell_type": "code",
   "execution_count": 1,
   "id": "500ea20d-3221-40cb-b539-50769e31d204",
   "metadata": {},
   "outputs": [
    {
     "name": "stdin",
     "output_type": "stream",
     "text": [
      " 10\n",
      " 20\n",
      " 30\n"
     ]
    },
    {
     "name": "stdout",
     "output_type": "stream",
     "text": [
      "The average of 10 , 20 and 30 is 20.0\n"
     ]
    }
   ],
   "source": [
    "n1 = eval(input())\n",
    "n2 = eval(input())\n",
    "n3 = eval(input())\n",
    "avg = (n1+n2+n3)/3\n",
    "print(f'The average of {n1} , {n2} and {n3} is {avg}')"
   ]
  },
  {
   "cell_type": "code",
   "execution_count": 3,
   "id": "7b303878-ea2d-4b75-818f-01c73b989d22",
   "metadata": {},
   "outputs": [
    {
     "name": "stdin",
     "output_type": "stream",
     "text": [
      " python\n",
      " 10\n",
      " hyd\n"
     ]
    },
    {
     "name": "stdout",
     "output_type": "stream",
     "text": [
      "my name is python im 10 year old and came fro hyd\n"
     ]
    }
   ],
   "source": [
    "name = input()\n",
    "age = eval(input())\n",
    "city = input()\n",
    "print(f'my name is {name} im {age} year old and came fro {city}')"
   ]
  },
  {
   "cell_type": "code",
   "execution_count": 6,
   "id": "279552b6-4190-47bb-b9ab-28917eef3c25",
   "metadata": {},
   "outputs": [
    {
     "name": "stdin",
     "output_type": "stream",
     "text": [
      " 5\n"
     ]
    },
    {
     "name": "stdout",
     "output_type": "stream",
     "text": [
      "area of circle is 78.5\n"
     ]
    }
   ],
   "source": [
    "radius = eval(input())\n",
    "area= 3.14 * radius * radius \n",
    "print(f'area of circle is {area}')"
   ]
  },
  {
   "cell_type": "code",
   "execution_count": 7,
   "id": "358c6992-f05e-427f-b344-9067e1593414",
   "metadata": {},
   "outputs": [
    {
     "name": "stdin",
     "output_type": "stream",
     "text": [
      " 5\n",
      " 6\n"
     ]
    },
    {
     "name": "stdout",
     "output_type": "stream",
     "text": [
      "15.0\n"
     ]
    }
   ],
   "source": [
    "base = eval(input())\n",
    "height = eval(input())\n",
    "area=0.5 * base * height\n",
    "print(area)"
   ]
  },
  {
   "cell_type": "code",
   "execution_count": 8,
   "id": "7355aafb-0808-4686-a1f2-ac251fc02848",
   "metadata": {},
   "outputs": [
    {
     "name": "stdin",
     "output_type": "stream",
     "text": [
      " 1000\n",
      " 10\n"
     ]
    },
    {
     "name": "stdout",
     "output_type": "stream",
     "text": [
      "1010\n"
     ]
    }
   ],
   "source": [
    "ba = eval(input())\n",
    "ta = eval(input())\n",
    "tb = ba + ta\n",
    "print(tb)"
   ]
  },
  {
   "cell_type": "code",
   "execution_count": 11,
   "id": "906b971e-e1ed-4e36-b94b-88d65a6cd03d",
   "metadata": {},
   "outputs": [
    {
     "name": "stdin",
     "output_type": "stream",
     "text": [
      " 1000\n",
      " 10\n"
     ]
    },
    {
     "name": "stdout",
     "output_type": "stream",
     "text": [
      "1100.0\n"
     ]
    }
   ],
   "source": [
    "ba = eval(input())\n",
    "bp = eval(input())\n",
    "tb = ba + ba * bp/100\n",
    "print(tb)"
   ]
  },
  {
   "cell_type": "code",
   "execution_count": 13,
   "id": "f23c2f75-0627-47e3-9d43-8d6b1de6cb24",
   "metadata": {},
   "outputs": [
    {
     "name": "stdin",
     "output_type": "stream",
     "text": [
      " 5\n",
      " 6\n"
     ]
    },
    {
     "name": "stdout",
     "output_type": "stream",
     "text": [
      "30\n"
     ]
    }
   ],
   "source": [
    "length = eval(input())\n",
    "breadth = eval(input())\n",
    "area = length * breadth\n",
    "print(area)"
   ]
  },
  {
   "cell_type": "code",
   "execution_count": 14,
   "id": "446b50a7-4868-4fb4-8f2c-8f6b715e5ada",
   "metadata": {},
   "outputs": [
    {
     "name": "stdin",
     "output_type": "stream",
     "text": [
      " 5\n"
     ]
    },
    {
     "name": "stdout",
     "output_type": "stream",
     "text": [
      "392.5\n"
     ]
    }
   ],
   "source": [
    "radius = eval(input())\n",
    "area = 3.14 * radius * radius * radius\n",
    "print(area)"
   ]
  },
  {
   "cell_type": "code",
   "execution_count": 20,
   "id": "fc881006-9f71-4535-b1c2-d1eacdbe81c0",
   "metadata": {},
   "outputs": [
    {
     "name": "stdin",
     "output_type": "stream",
     "text": [
      " 5\n"
     ]
    },
    {
     "name": "stdout",
     "output_type": "stream",
     "text": [
      "427.29999999999995\n"
     ]
    }
   ],
   "source": [
    "dollar = eval(input())\n",
    "indrs = dollar * 85.46\n",
    "print(f'{indrs}')"
   ]
  },
  {
   "cell_type": "code",
   "execution_count": 21,
   "id": "2d18f0a1-030a-4d90-babf-c0dd7d7a61b4",
   "metadata": {},
   "outputs": [
    {
     "name": "stdin",
     "output_type": "stream",
     "text": [
      " 5\n"
     ]
    },
    {
     "name": "stdout",
     "output_type": "stream",
     "text": [
      "11.0\n"
     ]
    }
   ],
   "source": [
    "kg = eval(input())\n",
    "pound = kg * 2.2\n",
    "print(pound)"
   ]
  },
  {
   "cell_type": "code",
   "execution_count": 4,
   "id": "e26244f5-d290-4dd2-8a19-f20ddca864cc",
   "metadata": {},
   "outputs": [
    {
     "name": "stdin",
     "output_type": "stream",
     "text": [
      " 10000\n"
     ]
    },
    {
     "data": {
      "text/plain": [
       "16000.0"
      ]
     },
     "execution_count": 4,
     "metadata": {},
     "output_type": "execute_result"
    }
   ],
   "source": [
    "# Ramesh’s basic salary is input through the keyboard. His dearness allowance is 40% of basic salary, and\n",
    "# house rent allowance is 20% of basic salary. Write a program to calculate his gross salary.\n",
    "\n",
    "basic_sal = eval(input())\n",
    "da = basic_sal * 0.4\n",
    "hra = basic_sal * 0.2\n",
    "total = basic_sal + da + hra\n",
    "total"
   ]
  },
  {
   "cell_type": "code",
   "execution_count": 9,
   "id": "2e993589-eb3e-4e25-8689-59db34c21c89",
   "metadata": {},
   "outputs": [
    {
     "name": "stdin",
     "output_type": "stream",
     "text": [
      " 8\n",
      " 5\n"
     ]
    },
    {
     "name": "stdout",
     "output_type": "stream",
     "text": [
      "number 1 : 8 is greater\n"
     ]
    }
   ],
   "source": [
    "num1 = eval(input())\n",
    "num2 = eval(input())\n",
    "if num1 > num2 :\n",
    "    print(f'number 1 : {num1} is greater')\n",
    "else:\n",
    "    print(f'number 2 : {num2} is greater')"
   ]
  },
  {
   "cell_type": "code",
   "execution_count": 13,
   "id": "4cf79b33-b5ae-47bc-bfe5-caf696268464",
   "metadata": {},
   "outputs": [
    {
     "name": "stdin",
     "output_type": "stream",
     "text": [
      " 65\n",
      " 25\n"
     ]
    },
    {
     "name": "stdout",
     "output_type": "stream",
     "text": [
      "total charges :1625\n"
     ]
    }
   ],
   "source": [
    "distance = eval(input())\n",
    "if distance > 25 :\n",
    "    user = eval(input())\n",
    "    total = distance * user\n",
    "    print(f'total charges :{total}')\n",
    "else:\n",
    "    print(f'free ride')"
   ]
  },
  {
   "cell_type": "code",
   "execution_count": 19,
   "id": "b584cc7f-3f53-4335-8a8a-a90d6639be64",
   "metadata": {},
   "outputs": [
    {
     "name": "stdin",
     "output_type": "stream",
     "text": [
      " 50\n",
      " 25\n"
     ]
    },
    {
     "name": "stdout",
     "output_type": "stream",
     "text": [
      "25\n",
      "total charges :625\n"
     ]
    }
   ],
   "source": [
    "distance = eval(input())\n",
    "free_dis = 25\n",
    "if distance > free_dis :\n",
    "    user = eval(input())\n",
    "    distance_new = distance-free_dis\n",
    "    print(distance_new)\n",
    "    total = distance_new * user\n",
    "    print(f'total charges :{total}')\n",
    "else:\n",
    "    print(f'free ride')"
   ]
  },
  {
   "cell_type": "code",
   "execution_count": 1,
   "id": "31270b01-2a94-423b-901c-70d450243957",
   "metadata": {},
   "outputs": [
    {
     "data": {
      "text/plain": [
       "[10, 20, 30, 40, 50]"
      ]
     },
     "execution_count": 1,
     "metadata": {},
     "output_type": "execute_result"
    }
   ],
   "source": [
    "list1=[10,20,30,40,50]\n",
    "list1"
   ]
  },
  {
   "cell_type": "code",
   "execution_count": 2,
   "id": "9f22fb18-6510-48e2-9718-6303a47facf2",
   "metadata": {},
   "outputs": [
    {
     "data": {
      "text/plain": [
       "list"
      ]
     },
     "execution_count": 2,
     "metadata": {},
     "output_type": "execute_result"
    }
   ],
   "source": [
    "type(list1)"
   ]
  },
  {
   "cell_type": "code",
   "execution_count": 3,
   "id": "34e89ee5-780b-41da-8dad-45abe9c944ee",
   "metadata": {},
   "outputs": [
    {
     "name": "stdout",
     "output_type": "stream",
     "text": [
      "[10, 20, 30, 40, 50]\n"
     ]
    }
   ],
   "source": [
    "print(list1)"
   ]
  },
  {
   "cell_type": "code",
   "execution_count": 4,
   "id": "da05f2c9-e8e3-42ac-ae88-c465c0c4552c",
   "metadata": {},
   "outputs": [
    {
     "data": {
      "text/plain": [
       "5"
      ]
     },
     "execution_count": 4,
     "metadata": {},
     "output_type": "execute_result"
    }
   ],
   "source": [
    "len(list1)"
   ]
  },
  {
   "cell_type": "code",
   "execution_count": 5,
   "id": "6edee476-bfd9-4015-8570-b03d41e1582b",
   "metadata": {},
   "outputs": [
    {
     "data": {
      "text/plain": [
       "10"
      ]
     },
     "execution_count": 5,
     "metadata": {},
     "output_type": "execute_result"
    }
   ],
   "source": [
    "min(list1)"
   ]
  },
  {
   "cell_type": "code",
   "execution_count": 6,
   "id": "e24d5016-30ee-44bb-aee7-93c0385de64f",
   "metadata": {},
   "outputs": [
    {
     "data": {
      "text/plain": [
       "50"
      ]
     },
     "execution_count": 6,
     "metadata": {},
     "output_type": "execute_result"
    }
   ],
   "source": [
    "max(list1)"
   ]
  },
  {
   "cell_type": "code",
   "execution_count": 8,
   "id": "d6d15d90-507a-40b9-a73f-e9e233c91018",
   "metadata": {},
   "outputs": [
    {
     "data": {
      "text/plain": [
       "[50, 40, 30, 20, 10]"
      ]
     },
     "execution_count": 8,
     "metadata": {},
     "output_type": "execute_result"
    }
   ],
   "source": [
    "sorted(list1,reverse=True)"
   ]
  },
  {
   "cell_type": "code",
   "execution_count": 10,
   "id": "6b2ab73e-d01d-4e32-b438-1a785e622829",
   "metadata": {},
   "outputs": [
    {
     "name": "stdout",
     "output_type": "stream",
     "text": [
      "10\n",
      "20\n",
      "30\n",
      "40\n",
      "50\n"
     ]
    }
   ],
   "source": [
    "reversed(list1)\n",
    "for i in list1:\n",
    "    print(i)"
   ]
  },
  {
   "cell_type": "code",
   "execution_count": 11,
   "id": "a1cc42e9-dfdc-4a8e-bcd2-253edd6163a0",
   "metadata": {},
   "outputs": [
    {
     "data": {
      "text/plain": [
       "[50, 40, 30, 20, 10]"
      ]
     },
     "execution_count": 11,
     "metadata": {},
     "output_type": "execute_result"
    }
   ],
   "source": [
    "list(reversed(list1))"
   ]
  },
  {
   "cell_type": "code",
   "execution_count": 12,
   "id": "20428f5d-d0f9-4f38-8636-14db91ffad73",
   "metadata": {},
   "outputs": [
    {
     "data": {
      "text/plain": [
       "150"
      ]
     },
     "execution_count": 12,
     "metadata": {},
     "output_type": "execute_result"
    }
   ],
   "source": [
    "sum(list1)"
   ]
  },
  {
   "cell_type": "code",
   "execution_count": 15,
   "id": "828368ad-cc25-4158-8a43-19eed373c840",
   "metadata": {},
   "outputs": [],
   "source": [
    "# 'append',\n",
    "#  'clear',\n",
    "#  'copy',\n",
    "#  'count',\n",
    "#  'extend',\n",
    "#  'index',\n",
    "#  'insert',\n",
    "#  'pop',\n",
    "#  'remove',\n",
    "#  'reverse',\n",
    "#  'sort']"
   ]
  },
  {
   "cell_type": "code",
   "execution_count": 21,
   "id": "7ebca088-3eed-40a2-ba12-1a2520a22a90",
   "metadata": {},
   "outputs": [
    {
     "data": {
      "text/plain": [
       "[10, 20, 30, 40, 50, 60, 60]"
      ]
     },
     "execution_count": 21,
     "metadata": {},
     "output_type": "execute_result"
    }
   ],
   "source": [
    "list1.append(60)\n",
    "list1"
   ]
  },
  {
   "cell_type": "code",
   "execution_count": 22,
   "id": "d30b828d-73ba-46e5-8bef-d733cab22bc9",
   "metadata": {},
   "outputs": [
    {
     "data": {
      "text/plain": [
       "[10, 20, 30, 40, 50, 60, 60]"
      ]
     },
     "execution_count": 22,
     "metadata": {},
     "output_type": "execute_result"
    }
   ],
   "source": [
    "list2=list1.copy()\n",
    "list2"
   ]
  },
  {
   "cell_type": "code",
   "execution_count": 23,
   "id": "c467a74e-7be2-45c2-8055-bf137eb289c5",
   "metadata": {},
   "outputs": [
    {
     "data": {
      "text/plain": [
       "1"
      ]
     },
     "execution_count": 23,
     "metadata": {},
     "output_type": "execute_result"
    }
   ],
   "source": [
    "list1.count(20)"
   ]
  },
  {
   "cell_type": "code",
   "execution_count": 32,
   "id": "713e7fd0-daf6-408a-9d67-e45ceaf61d3d",
   "metadata": {},
   "outputs": [
    {
     "data": {
      "text/plain": [
       "[]"
      ]
     },
     "execution_count": 32,
     "metadata": {},
     "output_type": "execute_result"
    }
   ],
   "source": [
    "list2.clear()\n",
    "list2"
   ]
  },
  {
   "cell_type": "code",
   "execution_count": 43,
   "id": "62060bf9-8e78-4d78-8a33-a0f06f854af0",
   "metadata": {},
   "outputs": [
    {
     "data": {
      "text/plain": [
       "['python']"
      ]
     },
     "execution_count": 43,
     "metadata": {},
     "output_type": "execute_result"
    }
   ],
   "source": [
    "lis2=[]\n",
    "list1=['python']\n",
    "lis2.extend(list1)\n",
    "lis2"
   ]
  },
  {
   "cell_type": "code",
   "execution_count": 46,
   "id": "ed09d89c-65d0-440e-b8a6-8ef976ddfc2b",
   "metadata": {},
   "outputs": [
    {
     "data": {
      "text/plain": [
       "4"
      ]
     },
     "execution_count": 46,
     "metadata": {},
     "output_type": "execute_result"
    }
   ],
   "source": [
    "list1=[10,20,30,40,50]\n",
    "list1.index(50)"
   ]
  },
  {
   "cell_type": "code",
   "execution_count": 62,
   "id": "3b90e071-2421-4f6d-83fc-2d049731efab",
   "metadata": {},
   "outputs": [
    {
     "data": {
      "text/plain": [
       "[10, 20, 30, 40, 50, 60, 'python', 60]"
      ]
     },
     "execution_count": 62,
     "metadata": {},
     "output_type": "execute_result"
    }
   ],
   "source": [
    "list1.insert(5,60)\n",
    "list1.insert(6,'python')\n",
    "list1"
   ]
  },
  {
   "cell_type": "code",
   "execution_count": 58,
   "id": "37dc8a62-3101-490a-8112-fb7b36def195",
   "metadata": {},
   "outputs": [
    {
     "data": {
      "text/plain": [
       "60"
      ]
     },
     "execution_count": 58,
     "metadata": {},
     "output_type": "execute_result"
    }
   ],
   "source": [
    "list1.pop()"
   ]
  },
  {
   "cell_type": "code",
   "execution_count": 59,
   "id": "62ce345f-73f7-47cd-8663-b1fdaf1f37d0",
   "metadata": {},
   "outputs": [
    {
     "data": {
      "text/plain": [
       "[10, 20, 30, 40, 50, 60, 'python']"
      ]
     },
     "execution_count": 59,
     "metadata": {},
     "output_type": "execute_result"
    }
   ],
   "source": [
    "list1"
   ]
  },
  {
   "cell_type": "code",
   "execution_count": 63,
   "id": "74308862-6756-4533-8643-37d2f49c087a",
   "metadata": {},
   "outputs": [
    {
     "data": {
      "text/plain": [
       "[10, 20, 30, 40, 50, 60, 60]"
      ]
     },
     "execution_count": 63,
     "metadata": {},
     "output_type": "execute_result"
    }
   ],
   "source": [
    "list1.remove('python')\n",
    "list1"
   ]
  },
  {
   "cell_type": "code",
   "execution_count": 83,
   "id": "57ce79ed-0ca8-4170-a157-8aafc8918c1d",
   "metadata": {},
   "outputs": [
    {
     "data": {
      "text/plain": [
       "[10, 20, 30, 40, 50, 60, 60]"
      ]
     },
     "execution_count": 83,
     "metadata": {},
     "output_type": "execute_result"
    }
   ],
   "source": [
    "list1.reverse()\n",
    "list1"
   ]
  },
  {
   "cell_type": "code",
   "execution_count": 80,
   "id": "67eea2fb-27d1-45aa-804d-27ed4801a0ce",
   "metadata": {},
   "outputs": [
    {
     "data": {
      "text/plain": [
       "[60, 60, 50, 40, 30, 20, 10]"
      ]
     },
     "execution_count": 80,
     "metadata": {},
     "output_type": "execute_result"
    }
   ],
   "source": [
    "list1.sort(reverse=True)\n",
    "list1"
   ]
  },
  {
   "cell_type": "code",
   "execution_count": 86,
   "id": "27eedd40-8cfe-4873-9841-e6dbae4c15bc",
   "metadata": {},
   "outputs": [],
   "source": [
    "list1=[10, 20, 30, 40, 50, 60]"
   ]
  },
  {
   "cell_type": "code",
   "execution_count": 97,
   "id": "0a9414e7-bdaa-453d-a9b6-a491137f7985",
   "metadata": {},
   "outputs": [
    {
     "data": {
      "text/plain": [
       "4"
      ]
     },
     "execution_count": 97,
     "metadata": {},
     "output_type": "execute_result"
    }
   ],
   "source": [
    "list1=[50,[{'set':50}],('hyd'),'mumbai']\n",
    "len(list1)"
   ]
  },
  {
   "cell_type": "code",
   "execution_count": 102,
   "id": "7675d3c8-2396-42cd-9f66-0ce105d2a800",
   "metadata": {},
   "outputs": [
    {
     "data": {
      "text/plain": [
       "{'set': 50}"
      ]
     },
     "execution_count": 102,
     "metadata": {},
     "output_type": "execute_result"
    }
   ],
   "source": [
    "list1[1][0]"
   ]
  },
  {
   "cell_type": "code",
   "execution_count": 107,
   "id": "94873814-bfd3-4d64-8e6b-378d7af97c9b",
   "metadata": {},
   "outputs": [
    {
     "data": {
      "text/plain": [
       "20"
      ]
     },
     "execution_count": 107,
     "metadata": {},
     "output_type": "execute_result"
    }
   ],
   "source": [
    "list1=[50,60]\n",
    "list2=[10,20]\n",
    "list1=list2+list2\n",
    "list1[3]"
   ]
  },
  {
   "cell_type": "code",
   "execution_count": 111,
   "id": "2b21237d-5de5-46c6-8986-47d9821e9068",
   "metadata": {},
   "outputs": [
    {
     "name": "stdout",
     "output_type": "stream",
     "text": [
      "10\n",
      "20\n",
      "30\n",
      "40\n",
      "50\n"
     ]
    }
   ],
   "source": [
    "list1=[10,20,30,40,50]\n",
    "for i in list1:\n",
    "    print(i)"
   ]
  },
  {
   "cell_type": "code",
   "execution_count": 112,
   "id": "096166a9-eaac-4c3a-b0c5-93ea21378378",
   "metadata": {},
   "outputs": [
    {
     "data": {
      "text/plain": [
       "True"
      ]
     },
     "execution_count": 112,
     "metadata": {},
     "output_type": "execute_result"
    }
   ],
   "source": [
    "50 in list1"
   ]
  },
  {
   "cell_type": "code",
   "execution_count": 138,
   "id": "9c6142e3-7734-44d0-afdb-fca403f3b27f",
   "metadata": {},
   "outputs": [
    {
     "data": {
      "text/plain": [
       "'tamilnadu'"
      ]
     },
     "execution_count": 138,
     "metadata": {},
     "output_type": "execute_result"
    }
   ],
   "source": [
    "list1=['city',['mubai',['hyd'],[50,'tamilnadu']],'delhi']\n",
    "list1[1][2][1]"
   ]
  },
  {
   "cell_type": "code",
   "execution_count": 147,
   "id": "0b972b57-e6d4-4908-bde0-592abdb12763",
   "metadata": {},
   "outputs": [
    {
     "name": "stdout",
     "output_type": "stream",
     "text": [
      "['n', 'o', 'h', 't', 'y', 'p']\n"
     ]
    }
   ],
   "source": [
    "list1='python'\n",
    "print(list(reversed(list1)))"
   ]
  },
  {
   "cell_type": "code",
   "execution_count": 160,
   "id": "cb84d4d1-13f9-4705-acd6-6d8c7d0eb0b0",
   "metadata": {},
   "outputs": [
    {
     "name": "stdout",
     "output_type": "stream",
     "text": [
      "None\n"
     ]
    }
   ],
   "source": [
    "list1=[10,20,30]\n",
    "print(list1.sort())"
   ]
  },
  {
   "cell_type": "code",
   "execution_count": 165,
   "id": "55169b83-0eaa-4d59-8bba-b95de41ae9ec",
   "metadata": {},
   "outputs": [
    {
     "data": {
      "text/plain": [
       "['data', 'science']"
      ]
     },
     "execution_count": 165,
     "metadata": {},
     "output_type": "execute_result"
    }
   ],
   "source": [
    "list1=['science','data']\n",
    "list1.sort()\n",
    "list1"
   ]
  },
  {
   "cell_type": "code",
   "execution_count": 166,
   "id": "964b0c92-9b41-4a91-bfa0-9e378d529782",
   "metadata": {},
   "outputs": [
    {
     "data": {
      "text/plain": [
       "['science', 'data']"
      ]
     },
     "execution_count": 166,
     "metadata": {},
     "output_type": "execute_result"
    }
   ],
   "source": [
    "list1=['data','science']\n",
    "list1.reverse()\n",
    "list1"
   ]
  },
  {
   "cell_type": "code",
   "execution_count": 219,
   "id": "9fccf1ad-a887-46ac-a7c2-b32094f2160e",
   "metadata": {},
   "outputs": [
    {
     "data": {
      "text/plain": [
       "(['mayur', 'virat'],\n",
       " ['harinkhede', 'kolhi'],\n",
       " ['gmail', 'gmail'],\n",
       " ['com', 'com'],\n",
       " ['org', 'puma'])"
      ]
     },
     "execution_count": 219,
     "metadata": {},
     "output_type": "execute_result"
    }
   ],
   "source": [
    "lis='mayur#harinkhede@gmail.com.org;virat#kolhi@gmail.com.puma'\n",
    "list1=lis.split(';')\n",
    "l2=[]\n",
    "l3=[]\n",
    "l4=[]\n",
    "l5=[]\n",
    "l6=[]\n",
    "for i in list1:\n",
    "    n1=i.index('#')\n",
    "    n2=i.index('@')\n",
    "    n3=i.index('.')\n",
    "    n4=i.index('.',n3+1)\n",
    "    # l1.append(n1,n2,n3,n4)\n",
    "    l2.append(i[:n1])\n",
    "    l3.append(i[n1+1:n2])\n",
    "    l4.append(i[n2+1:n3])\n",
    "    l5.append(i[n3+1:n4])\n",
    "    l6.append(i[n4+1:])\n",
    "l2,l3,l4,l5,l6"
   ]
  },
  {
   "cell_type": "code",
   "execution_count": 189,
   "id": "a17fbaa9-4d23-440c-a471-09c6d9716073",
   "metadata": {},
   "outputs": [
    {
     "data": {
      "text/plain": [
       "['mayur#harinkhede@gmail.com.org', 'pankaj#harinkhede@gmail.com.org']"
      ]
     },
     "execution_count": 189,
     "metadata": {},
     "output_type": "execute_result"
    }
   ],
   "source": [
    "list1=lis.split(';')\n",
    "list1"
   ]
  },
  {
   "cell_type": "code",
   "execution_count": 217,
   "id": "d9f74674-f558-4087-be12-464813a98575",
   "metadata": {},
   "outputs": [
    {
     "data": {
      "text/plain": [
       "['mayur', 'virat']"
      ]
     },
     "execution_count": 217,
     "metadata": {},
     "output_type": "execute_result"
    }
   ],
   "source": [
    "l1=['mayur']\n",
    "l2=['virat']\n",
    "l3=l1+l2\n",
    "l3"
   ]
  },
  {
   "cell_type": "code",
   "execution_count": 297,
   "id": "1572dfa8-bd54-4d12-b896-30c51613fbd5",
   "metadata": {},
   "outputs": [
    {
     "name": "stdout",
     "output_type": "stream",
     "text": [
      "[['mayur', 'harinkhede'], ['virat', 'kolhi']]\n"
     ]
    }
   ],
   "source": [
    "li1=['mayur', 'virat']\n",
    "li2=['harinkhede','kolhi']\n",
    "for i in range(2):\n",
    "    if i not in l1:\n",
    "        l1.append([li1[i],li2[i]])\n",
    "        # l1.append(f'{li2[0]}')\n",
    "        # l2.append(f'{li1[0]}')\n",
    "        # l2.append(f'{li2[0]}')\n",
    "print(l1)\n",
    "# print(l2)\n",
    "l1.clear()\n",
    "l2.clear()"
   ]
  },
  {
   "cell_type": "code",
   "execution_count": 329,
   "id": "7d12c958-48f0-475e-ac1a-be9236d97ad0",
   "metadata": {},
   "outputs": [
    {
     "data": {
      "text/plain": [
       "'m'"
      ]
     },
     "execution_count": 329,
     "metadata": {},
     "output_type": "execute_result"
    }
   ],
   "source": [
    "list1='python'\n",
    "list1=[10,20]\n",
    "tu=('mayur')\n",
    "tu[0]"
   ]
  },
  {
   "cell_type": "code",
   "execution_count": null,
   "id": "ab9c6a9c-887d-4682-b07c-84fd739a7095",
   "metadata": {},
   "outputs": [],
   "source": []
  },
  {
   "cell_type": "code",
   "execution_count": null,
   "id": "c10fea16-cb1f-46b2-97d7-15c64fea8794",
   "metadata": {},
   "outputs": [],
   "source": []
  }
 ],
 "metadata": {
  "kernelspec": {
   "display_name": "Python 3 (ipykernel)",
   "language": "python",
   "name": "python3"
  },
  "language_info": {
   "codemirror_mode": {
    "name": "ipython",
    "version": 3
   },
   "file_extension": ".py",
   "mimetype": "text/x-python",
   "name": "python",
   "nbconvert_exporter": "python",
   "pygments_lexer": "ipython3",
   "version": "3.12.7"
  }
 },
 "nbformat": 4,
 "nbformat_minor": 5
}
