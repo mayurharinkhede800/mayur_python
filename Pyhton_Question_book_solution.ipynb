{
 "cells": [
  {
   "cell_type": "markdown",
   "id": "c2de4820-4dc2-4b54-8b15-876d871f0d03",
   "metadata": {},
   "source": [
    "## Program 1: **Write a Python program to print \"Hello Python\".**"
   ]
  },
  {
   "cell_type": "code",
   "execution_count": 1,
   "id": "0f99d0e1-dfaa-4a42-89e1-1fd7b73214e0",
   "metadata": {},
   "outputs": [
    {
     "name": "stdout",
     "output_type": "stream",
     "text": [
      "Hello Python\n"
     ]
    }
   ],
   "source": [
    "print(\"Hello Python\")"
   ]
  },
  {
   "cell_type": "markdown",
   "id": "51611715-f302-468e-8c1e-1f91f49625a1",
   "metadata": {},
   "source": [
    "## Program 2: Write a Python program to do arithmetical operations addition and division."
   ]
  },
  {
   "cell_type": "code",
   "execution_count": 6,
   "id": "bebe385a-d74b-4639-bf79-313a5eb557aa",
   "metadata": {},
   "outputs": [
    {
     "name": "stdin",
     "output_type": "stream",
     "text": [
      "enter first number: 50\n",
      "enter second number: 60\n"
     ]
    },
    {
     "name": "stdout",
     "output_type": "stream",
     "text": [
      "addition of 50 and 60 number :110\n"
     ]
    }
   ],
   "source": [
    "n1 = eval(input('enter first number:'))\n",
    "n2 = eval(input('enter second number:'))\n",
    "add = n1 + n2 \n",
    "print(f'addition of {n1} and {n2} number :{add}')"
   ]
  },
  {
   "cell_type": "code",
   "execution_count": 5,
   "id": "d6cabb2c-6cd0-4516-94e1-07f213f5d5d6",
   "metadata": {},
   "outputs": [
    {
     "name": "stdin",
     "output_type": "stream",
     "text": [
      "enter first number: 20\n",
      "enter second number: 5\n"
     ]
    },
    {
     "name": "stdout",
     "output_type": "stream",
     "text": [
      "division of 20 / 5 number :4.0\n"
     ]
    }
   ],
   "source": [
    "n1 = eval(input('enter first number:'))\n",
    "n2 = eval(input('enter second number:'))\n",
    "div = n1 / n2 \n",
    "print(f'division of {n1} / {n2} number :{div}')"
   ]
  },
  {
   "cell_type": "markdown",
   "id": "f566c02b-1fdb-4985-bb11-b7d47f54c13b",
   "metadata": {},
   "source": [
    "## Program 3:Write a Python program to find the area of a triangle."
   ]
  },
  {
   "cell_type": "code",
   "execution_count": 7,
   "id": "afc5e51b-b30b-48de-9411-6f4d6569bfd6",
   "metadata": {},
   "outputs": [
    {
     "name": "stdin",
     "output_type": "stream",
     "text": [
      "enter the base 5\n",
      "enter height 2\n"
     ]
    },
    {
     "name": "stdout",
     "output_type": "stream",
     "text": [
      "area of triangle : 5.0\n"
     ]
    }
   ],
   "source": [
    "base = eval(input('enter the base'))\n",
    "height = eval(input('enter height'))\n",
    "area = 0.5 * base * height\n",
    "print(f'area of triangle : {area}')"
   ]
  },
  {
   "cell_type": "markdown",
   "id": "1967d517-8609-41f1-9c74-b93e1d1aa566",
   "metadata": {},
   "source": [
    "## Program 4: Write a Python program to swap two variables."
   ]
  },
  {
   "cell_type": "code",
   "execution_count": 9,
   "id": "2d3cad3a-fa7b-443c-906b-5df4fb2575bb",
   "metadata": {},
   "outputs": [
    {
     "name": "stdin",
     "output_type": "stream",
     "text": [
      "enter number 5\n",
      "enter number 6\n"
     ]
    },
    {
     "name": "stdout",
     "output_type": "stream",
     "text": [
      "original numbers n1:5 and n2:6\n",
      "after swaping n1:6 and n2:5\n"
     ]
    }
   ],
   "source": [
    "n1 = eval(input('enter number'))\n",
    "n2 = eval(input('enter number'))\n",
    "print(f'original numbers n1:{n1} and n2:{n2}')\n",
    "swap = n1\n",
    "n1 = n2\n",
    "n2 = swap\n",
    "print(f'after swaping n1:{n1} and n2:{n2}')\n"
   ]
  },
  {
   "cell_type": "markdown",
   "id": "1b9b0d1c-c60c-45d9-8d98-935def6aa273",
   "metadata": {},
   "source": [
    "## Program 5:Write a Python program to generate a random number."
   ]
  },
  {
   "cell_type": "code",
   "execution_count": 11,
   "id": "f0347fc1-78a2-41f5-8433-4027aa9dd75b",
   "metadata": {},
   "outputs": [
    {
     "name": "stdout",
     "output_type": "stream",
     "text": [
      "36\n"
     ]
    }
   ],
   "source": [
    "import random\n",
    "rand_num = random.randint(1,200)\n",
    "print(rand_num)"
   ]
  },
  {
   "cell_type": "markdown",
   "id": "53424edc-7e29-4597-8d52-2d5a90aec5a4",
   "metadata": {},
   "source": [
    "## Program 6:Write a Python program to convert kilometers to miles."
   ]
  },
  {
   "cell_type": "code",
   "execution_count": 14,
   "id": "4f3ea2c1-543b-498a-ba69-29522a5ea301",
   "metadata": {},
   "outputs": [
    {
     "name": "stdin",
     "output_type": "stream",
     "text": [
      "enter kilometer 100\n"
     ]
    },
    {
     "name": "stdout",
     "output_type": "stream",
     "text": [
      "100 equals to miles 62.137100000000004\n"
     ]
    }
   ],
   "source": [
    "kilometer = eval(input('enter kilometer'))\n",
    "mile = 0.621371\n",
    "converted_km = kilometer * mile \n",
    "print(f'{kilometer} equals to miles {converted_km}')"
   ]
  },
  {
   "cell_type": "markdown",
   "id": "ffb6c78f-9a17-4467-93f0-04547a7a0701",
   "metadata": {},
   "source": [
    "## Program 7:Write a Python program to convert Celsius to Fahrenheit."
   ]
  },
  {
   "cell_type": "code",
   "execution_count": 17,
   "id": "b08799cc-0a64-488a-9d67-713cc5512539",
   "metadata": {},
   "outputs": [
    {
     "name": "stdin",
     "output_type": "stream",
     "text": [
      "enter celcius  0\n"
     ]
    },
    {
     "name": "stdout",
     "output_type": "stream",
     "text": [
      "0 in ffehrenheit 32.0\n"
     ]
    }
   ],
   "source": [
    "celcius = eval(input('enter celcius '))\n",
    "fehrenheit = (celcius * 9/5) + 32\n",
    "\n",
    "print(f'{celcius} in ffehrenheit {fehrenheit}')"
   ]
  },
  {
   "cell_type": "markdown",
   "id": "f64d5831-690b-4f2f-a465-a3c1089f1ae9",
   "metadata": {},
   "source": [
    "## Program 8:Write a Python program to display calendar."
   ]
  },
  {
   "cell_type": "code",
   "execution_count": 22,
   "id": "3ca0f83a-5633-4129-8183-8d312602f010",
   "metadata": {},
   "outputs": [
    {
     "name": "stdin",
     "output_type": "stream",
     "text": [
      "enter the year 2003\n",
      "enter the month 3\n"
     ]
    },
    {
     "name": "stdout",
     "output_type": "stream",
     "text": [
      "     March 2003\n",
      "Mo Tu We Th Fr Sa Su\n",
      "                1  2\n",
      " 3  4  5  6  7  8  9\n",
      "10 11 12 13 14 15 16\n",
      "17 18 19 20 21 22 23\n",
      "24 25 26 27 28 29 30\n",
      "31\n",
      "\n"
     ]
    }
   ],
   "source": [
    "import calendar\n",
    "\n",
    "year = eval(input('enter the year'))\n",
    "month = eval(input('enter the month'))\n",
    "\n",
    "calendar1 = calendar.month(year,month)\n",
    "print(calendar1)"
   ]
  },
  {
   "cell_type": "markdown",
   "id": "6812d671-770a-4cf5-acb9-8bc6d0b4dc36",
   "metadata": {},
   "source": [
    "## Program 10:Write a Python program to swap two variables without temp variable."
   ]
  },
  {
   "cell_type": "code",
   "execution_count": 2,
   "id": "c34c612a-704b-4d49-af81-b694d58a37f8",
   "metadata": {},
   "outputs": [
    {
     "name": "stdin",
     "output_type": "stream",
     "text": [
      "enter number: 50\n",
      "enter number: 60\n"
     ]
    },
    {
     "name": "stdout",
     "output_type": "stream",
     "text": [
      "after swapping value of a = 60 and b = 50\n"
     ]
    }
   ],
   "source": [
    "a = eval(input('enter number:'))\n",
    "b = eval(input('enter number:'))\n",
    "\n",
    "a , b = b , a\n",
    "\n",
    "print(f'after swapping value of a = {a} and b = {b}')"
   ]
  },
  {
   "cell_type": "markdown",
   "id": "d2320197-853d-49a0-84db-94e65b081c17",
   "metadata": {},
   "source": [
    "## Program 11:Write a Python Program to Check if a Number is Positive, Negative or Zero."
   ]
  },
  {
   "cell_type": "code",
   "execution_count": 9,
   "id": "b67b4e0b-8aae-4c98-912b-f9ec243f6fc6",
   "metadata": {},
   "outputs": [
    {
     "name": "stdin",
     "output_type": "stream",
     "text": [
      "enter the number : 0\n"
     ]
    },
    {
     "name": "stdout",
     "output_type": "stream",
     "text": [
      "0 is zero\n"
     ]
    }
   ],
   "source": [
    "number = eval(input('enter the number :'))\n",
    "\n",
    "if number > 0:\n",
    "    print('{} positive number '.format(number))\n",
    "elif number < 0:\n",
    "    print(number ,'negative number')\n",
    "else:\n",
    "    print(f'{number} is zero')"
   ]
  },
  {
   "cell_type": "markdown",
   "id": "af80d289-d2ef-424f-8147-b05a9d2ed166",
   "metadata": {},
   "source": [
    "## Program 12:Write a Python Program to Check if a Number is Odd or Even."
   ]
  },
  {
   "cell_type": "code",
   "execution_count": 11,
   "id": "e1a19964-433c-4029-9ec1-ce4d7bc67ab6",
   "metadata": {},
   "outputs": [
    {
     "name": "stdin",
     "output_type": "stream",
     "text": [
      "enter the number 13\n"
     ]
    },
    {
     "name": "stdout",
     "output_type": "stream",
     "text": [
      "13 is odd number\n"
     ]
    }
   ],
   "source": [
    "number = eval(input('enter the number'))\n",
    "if number % 2 ==0:\n",
    "    print(f'{number} is even number')\n",
    "else:\n",
    "    print(number,'is odd number')"
   ]
  },
  {
   "cell_type": "markdown",
   "id": "5fe941e1-4c8e-4fad-8ac6-19e94e9b7f3f",
   "metadata": {},
   "source": [
    "## Program 13:Write a Python Program to Check Leap Year."
   ]
  },
  {
   "cell_type": "code",
   "execution_count": 17,
   "id": "c6d7442b-002c-438b-a1f3-b4f9102fc0be",
   "metadata": {},
   "outputs": [
    {
     "name": "stdin",
     "output_type": "stream",
     "text": [
      "enter the number 2024\n"
     ]
    },
    {
     "name": "stdout",
     "output_type": "stream",
     "text": [
      "2024 is leap year\n"
     ]
    }
   ],
   "source": [
    "year = eval(input('enter the number'))\n",
    "\n",
    "if year % 4 == 0 and year % 100 !=0:\n",
    "    print(year ,'is leap year')\n",
    "elif year % 400 ==0 and year % 100 ==0:\n",
    "    print(year ,'is leap year')\n",
    "else:\n",
    "    print(f'{year} is not leap year')"
   ]
  },
  {
   "cell_type": "markdown",
   "id": "0c31547c-d6ad-4afa-a92f-2daa91068f5f",
   "metadata": {},
   "source": [
    "## Program 14:Write a Python Program to Check Prime Number."
   ]
  },
  {
   "cell_type": "code",
   "execution_count": 19,
   "id": "1045e673-5c91-40c4-8ef9-4c0751343aa1",
   "metadata": {},
   "outputs": [
    {
     "name": "stdin",
     "output_type": "stream",
     "text": [
      "enter the number 2\n"
     ]
    },
    {
     "name": "stdout",
     "output_type": "stream",
     "text": [
      "2 is prime\n"
     ]
    }
   ],
   "source": [
    "num = eval(input('enter the number'))\n",
    "if num<2:\n",
    "    print(num,' is not prime')\n",
    "else:\n",
    "    for i in range(2,num):\n",
    "        if num % i ==0:\n",
    "            print(num,'is not prime')\n",
    "            break\n",
    "    else:\n",
    "        print(num,'is prime')"
   ]
  },
  {
   "cell_type": "markdown",
   "id": "d9f97405-ddae-4f72-86f1-6600f683ad0e",
   "metadata": {},
   "source": [
    "## Program 15 :Write a Python Program to Print all Prime Numbers in an Interval of 1-10."
   ]
  },
  {
   "cell_type": "code",
   "execution_count": 26,
   "id": "fc9a7f11-cae9-4557-bfb7-11cac8b0b278",
   "metadata": {},
   "outputs": [
    {
     "name": "stdin",
     "output_type": "stream",
     "text": [
      "enter the number 10\n"
     ]
    },
    {
     "name": "stdout",
     "output_type": "stream",
     "text": [
      "2\n",
      "3\n",
      "5\n",
      "7\n"
     ]
    }
   ],
   "source": [
    "num = eval(input('enter the number'))\n",
    "c = 0\n",
    "for num in range(1,num):\n",
    "    if num > 1:\n",
    "        for i in range(2,num):\n",
    "            if num % i ==0:\n",
    "                break\n",
    "        else:\n",
    "            c = c + 1\n",
    "            print(num)\n",
    "# print('total prime number :',c)"
   ]
  },
  {
   "cell_type": "markdown",
   "id": "2ee7186b-1347-46b0-8915-55d7653ec361",
   "metadata": {},
   "source": [
    "## Program 16:Write a Python Program to Find the Factorial of a Number."
   ]
  },
  {
   "cell_type": "code",
   "execution_count": 61,
   "id": "c102d6e1-2a4f-4d84-9939-93c976b93ad0",
   "metadata": {},
   "outputs": [
    {
     "name": "stdin",
     "output_type": "stream",
     "text": [
      "enter the number 5\n"
     ]
    },
    {
     "name": "stdout",
     "output_type": "stream",
     "text": [
      "120\n"
     ]
    }
   ],
   "source": [
    "number = eval(input('enter the number'))\n",
    "f = 1\n",
    "i = 1\n",
    "while i <= number:\n",
    "    f = f * i\n",
    "    i = i + 1\n",
    "print(f)"
   ]
  },
  {
   "cell_type": "markdown",
   "id": "2e87efc5-8725-4397-9b08-cc9c8cde710e",
   "metadata": {},
   "source": [
    "## Program 17:Write a Python Program to Display the multiplication Table."
   ]
  },
  {
   "cell_type": "code",
   "execution_count": 71,
   "id": "cebead2e-05b0-49a7-a895-48da3c284670",
   "metadata": {},
   "outputs": [
    {
     "name": "stdin",
     "output_type": "stream",
     "text": [
      "enter the number 5\n"
     ]
    },
    {
     "name": "stdout",
     "output_type": "stream",
     "text": [
      "5X1 = 5\n",
      "5X2 = 10\n",
      "5X3 = 15\n",
      "5X4 = 20\n",
      "5X5 = 25\n",
      "5X6 = 30\n",
      "5X7 = 35\n",
      "5X8 = 40\n",
      "5X9 = 45\n",
      "5X10 = 50\n"
     ]
    }
   ],
   "source": [
    "number = eval(input('enter the number'))\n",
    "for i in range(1,11):\n",
    "    print(f'{number}X{i } = {number*i}')"
   ]
  },
  {
   "cell_type": "markdown",
   "id": "841a095c-337a-49b9-8ebc-313175620703",
   "metadata": {},
   "source": [
    "## Program 18:Write a Python Program to Print the Fibonacci sequence.m"
   ]
  },
  {
   "cell_type": "code",
   "execution_count": 29,
   "id": "a6bb14e7-f9ec-4a52-b005-3d43c6485b05",
   "metadata": {},
   "outputs": [
    {
     "name": "stdin",
     "output_type": "stream",
     "text": [
      "enter the number 11\n"
     ]
    },
    {
     "name": "stdout",
     "output_type": "stream",
     "text": [
      "0\n",
      "1\n",
      "1\n",
      "2\n",
      "3\n",
      "5\n",
      "8\n",
      "13\n",
      "21\n",
      "34\n",
      "55\n"
     ]
    }
   ],
   "source": [
    "number1 = eval(input('enter the number'))\n",
    "\n",
    "a ,b= 0,1\n",
    "for i in range(number1):\n",
    "    print(a)\n",
    "    a , b = b , a + b"
   ]
  },
  {
   "cell_type": "markdown",
   "id": "51061f88-633a-43f2-ae78-97c4ef75aa86",
   "metadata": {},
   "source": [
    "## Program 19:Write a Python Program to Check Armstrong Number?"
   ]
  },
  {
   "cell_type": "code",
   "execution_count": 18,
   "id": "d8c70d9d-bb1b-41fb-8658-623f9bfb9b85",
   "metadata": {},
   "outputs": [
    {
     "name": "stdin",
     "output_type": "stream",
     "text": [
      "enter the number  153\n"
     ]
    },
    {
     "name": "stdout",
     "output_type": "stream",
     "text": [
      "153 is Armstrong\n"
     ]
    }
   ],
   "source": [
    "num = eval(input('enter the number '))\n",
    "num_str = str(num)\n",
    "digit_num = len(num_str)\n",
    "power_sum = 0\n",
    "for digit in num_str:\n",
    "    power_sum = power_sum +int(digit) ** digit_num\n",
    "\n",
    "if power_sum == num:\n",
    "    print(num,'is Armstrong')\n",
    "else:\n",
    "    print(num,'is not Armstrong')\n",
    "    "
   ]
  },
  {
   "cell_type": "markdown",
   "id": "2b418dc5-9557-48fb-83ee-89dec25792a2",
   "metadata": {},
   "source": [
    "## Program 20:Write a Python Program to Find Armstrong Number in an Interval."
   ]
  },
  {
   "cell_type": "code",
   "execution_count": 5,
   "id": "a4b50d94-fc1e-4808-bac3-8851d0b55624",
   "metadata": {},
   "outputs": [
    {
     "name": "stdin",
     "output_type": "stream",
     "text": [
      "enter the number  100\n",
      "enter the number  500\n"
     ]
    },
    {
     "name": "stdout",
     "output_type": "stream",
     "text": [
      "153\n",
      "370\n",
      "371\n",
      "407\n"
     ]
    }
   ],
   "source": [
    "lower = eval(input('enter the number '))\n",
    "upper = eval(input('enter the number '))\n",
    "for num in range(lower,upper+1):\n",
    "    num_str = str(num)\n",
    "    digit_num = len(num_str)\n",
    "    power_sum = 0\n",
    "    for digit in num_str:\n",
    "        power_sum = power_sum +int(digit) ** digit_num\n",
    "    \n",
    "    if power_sum == num:\n",
    "        print(num)"
   ]
  },
  {
   "cell_type": "markdown",
   "id": "bc1c0de8-2af4-404b-8572-c51578557b5e",
   "metadata": {},
   "source": [
    "## Program 21:Write a Python Program to Find the Sum of Natural Numbers."
   ]
  },
  {
   "cell_type": "code",
   "execution_count": 7,
   "id": "0c460d21-26c9-4e26-996b-1b922c26c54c",
   "metadata": {},
   "outputs": [
    {
     "name": "stdin",
     "output_type": "stream",
     "text": [
      "enter number 10\n"
     ]
    },
    {
     "name": "stdout",
     "output_type": "stream",
     "text": [
      "55\n"
     ]
    }
   ],
   "source": [
    "num = eval(input('enter number'))\n",
    "summ = 0\n",
    "for i in range(1,num+1):\n",
    "    summ = summ + i\n",
    "print(summ)"
   ]
  },
  {
   "cell_type": "markdown",
   "id": "4f7992e6-59fd-4299-8e20-1a9a5bb1dff4",
   "metadata": {},
   "source": [
    "## Program 22:Write a Python Program to Find LCM."
   ]
  },
  {
   "cell_type": "code",
   "execution_count": 3,
   "id": "76a475d0-59e4-487a-9015-997eed207c56",
   "metadata": {},
   "outputs": [
    {
     "name": "stdin",
     "output_type": "stream",
     "text": [
      "enter number 12\n",
      "enter number 18\n"
     ]
    },
    {
     "name": "stdout",
     "output_type": "stream",
     "text": [
      "6\n"
     ]
    }
   ],
   "source": [
    "num1 = eval(input('enter number'))\n",
    "num2 = eval(input('enter number'))\n",
    "if num1 > num2:\n",
    "    smaller = num1\n",
    "else:\n",
    "    smaller = num2\n",
    "while True:\n",
    "    if ((num1 % smaller ==0) and (num2 % smaller ==0)):\n",
    "        break\n",
    "    smaller -=1\n",
    "print(smaller)"
   ]
  },
  {
   "cell_type": "markdown",
   "id": "e1037b3c-b389-41e6-8ca9-ee28c44b9ac2",
   "metadata": {},
   "source": [
    "## Program 24:Write a Python Program to Convert Decimal to Binary, Octal and Hexadecimal."
   ]
  },
  {
   "cell_type": "code",
   "execution_count": 8,
   "id": "2750f595-b9fa-400d-b52b-8a45e99a23c0",
   "metadata": {},
   "outputs": [
    {
     "name": "stdin",
     "output_type": "stream",
     "text": [
      "enter number 27\n"
     ]
    },
    {
     "name": "stdout",
     "output_type": "stream",
     "text": [
      "0b11011\n",
      "0o33\n",
      "0x1b\n"
     ]
    }
   ],
   "source": [
    "number = eval(input('enter number'))\n",
    "\n",
    "binary = bin(number)\n",
    "octal = oct(number)\n",
    "hexadec = hex(number)\n",
    "\n",
    "\n",
    "print(binary)\n",
    "print(octal)\n",
    "print(hexadec)"
   ]
  },
  {
   "cell_type": "markdown",
   "id": "05b62cc3-64af-4f1a-a534-a95d07f632bf",
   "metadata": {},
   "source": [
    "## Program 25:Write a Python Program To Find ASCII value of a character."
   ]
  },
  {
   "cell_type": "code",
   "execution_count": 10,
   "id": "b702f239-57fa-4ced-a741-c163691e883f",
   "metadata": {},
   "outputs": [
    {
     "name": "stdin",
     "output_type": "stream",
     "text": [
      "enter character A\n"
     ]
    },
    {
     "name": "stdout",
     "output_type": "stream",
     "text": [
      "A in ASCII is 65\n"
     ]
    }
   ],
   "source": [
    "char = input('enter character')\n",
    "print(f'{char} in ASCII is {ord(char)}')"
   ]
  },
  {
   "cell_type": "markdown",
   "id": "de5e7a38-210c-4e85-85d9-f72989c5df35",
   "metadata": {},
   "source": [
    "## Program 26:Write a Python Program to Make a Simple Calculator with 4 basic mathematical operations."
   ]
  },
  {
   "cell_type": "code",
   "execution_count": 7,
   "id": "4377ef23-2aad-4aa3-a07a-0d241997588e",
   "metadata": {},
   "outputs": [
    {
     "name": "stdout",
     "output_type": "stream",
     "text": [
      "1 for + ,2 for - , 3 for * and 4 for /\n"
     ]
    },
    {
     "name": "stdin",
     "output_type": "stream",
     "text": [
      "choose 1 for add ,2 for sub , 3 for mul and 4 for div 4\n",
      "enter first number 1\n",
      "enter second number 2\n"
     ]
    },
    {
     "name": "stdout",
     "output_type": "stream",
     "text": [
      "sub of 1 / 2 = 0.5\n"
     ]
    }
   ],
   "source": [
    "def add(a,b):\n",
    "    return a+b\n",
    "def subb(a,b):\n",
    "    return a-b\n",
    "def mull(a,b):\n",
    "    return a*b\n",
    "def divv(a,b):\n",
    "    return a/b\n",
    "\n",
    "print('1 for + ,2 for - , 3 for * and 4 for /')\n",
    "choose = eval(input('choose 1 for add ,2 for sub , 3 for mul and 4 for div'))\n",
    "n1 = eval(input('enter first number'))\n",
    "n2 = eval(input('enter second number'))\n",
    "if choose == 1:\n",
    "    print(f'add of {n1} + {n2} = {add(n1,n2)}')\n",
    "elif choose ==2:\n",
    "    print(f'sub of {n1} - {n2} = {subb(n1,n2)}')\n",
    "elif choose ==3:\n",
    "    print(f'sub of {n1} * {n2} = {mull(n1,n2)}')\n",
    "elif choose ==4:\n",
    "    print(f'sub of {n1} / {n2} = {divv(n1,n2)}')\n",
    "else:\n",
    "    print('please select valid number')"
   ]
  },
  {
   "cell_type": "code",
   "execution_count": null,
   "id": "1b0ad664-00da-448d-9cc0-9f88074f596f",
   "metadata": {},
   "outputs": [],
   "source": []
  },
  {
   "cell_type": "code",
   "execution_count": null,
   "id": "d703bc6f-f927-4360-bcb8-651565057b44",
   "metadata": {},
   "outputs": [],
   "source": []
  }
 ],
 "metadata": {
  "kernelspec": {
   "display_name": "Python 3 (ipykernel)",
   "language": "python",
   "name": "python3"
  },
  "language_info": {
   "codemirror_mode": {
    "name": "ipython",
    "version": 3
   },
   "file_extension": ".py",
   "mimetype": "text/x-python",
   "name": "python",
   "nbconvert_exporter": "python",
   "pygments_lexer": "ipython3",
   "version": "3.12.7"
  }
 },
 "nbformat": 4,
 "nbformat_minor": 5
}
