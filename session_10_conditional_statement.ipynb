{
 "cells": [
  {
   "cell_type": "markdown",
   "id": "e5287d4e-730a-485a-992a-34ce6186f43f",
   "metadata": {},
   "source": [
    "## conditon statement\n",
    "- condition statement are used to execute the code based in some condition\n",
    "- assume that\n",
    "    -if rain comes i will stay at hostel\n",
    "    - if rains comes i will stay at hotel otherwise i will go to pay cricket\n",
    "    - if rains come i ll stay at hostel otherwise i will go to ground but if omkar sir call i will go to naresh IT\n",
    "\n",
    "- if rains comes i will stay at hotel else i will go to pay cricket\n",
    "- if\n",
    "- if - else\n",
    "- if - elif - else"
   ]
  },
  {
   "cell_type": "markdown",
   "id": "ca835456-65a2-408d-9737-40b75bbf0895",
   "metadata": {},
   "source": [
    "**case-1**"
   ]
  },
  {
   "cell_type": "markdown",
   "id": "1dbf666e-5554-4301-811d-5b16ab43910c",
   "metadata": {},
   "source": [
    "**if <condition>:**\n",
    "    # write your code here\n",
    "\n",
    "# whenever condition is true\n",
    "# then python will go inside the if area then lines will be executes"
   ]
  },
  {
   "cell_type": "code",
   "execution_count": 1,
   "id": "52d47fcb-93ab-433f-8ddb-a38ef83e6266",
   "metadata": {},
   "outputs": [
    {
     "name": "stdout",
     "output_type": "stream",
     "text": [
      "False\n",
      "True\n",
      "False\n",
      "False\n",
      "True\n",
      "True\n"
     ]
    }
   ],
   "source": [
    "num=10 #assignment\n",
    "num==100 # condition\n",
    "print(num==100) #f\n",
    "print(num==10) # true\n",
    "print(num>10) #f\n",
    "print(num<10) #f\n",
    "print(num>=10) #t\n",
    "print(num<=10)#ft"
   ]
  },
  {
   "cell_type": "code",
   "execution_count": 2,
   "id": "d96826d3-8583-46df-8d4b-f612c84f32f0",
   "metadata": {},
   "outputs": [
    {
     "name": "stdout",
     "output_type": "stream",
     "text": [
      "hello\n"
     ]
    }
   ],
   "source": [
    "if 100>10:\n",
    "    print(\"hello\")"
   ]
  },
  {
   "cell_type": "markdown",
   "id": "da5a43e1-0fef-4a00-b455-4720e75cf540",
   "metadata": {},
   "source": [
    "**mistake-1**\n",
    "\n",
    "**indentation error**\n",
    "\n",
    "- whenever a line start with keyword at least : will be there\n",
    "- whenever : there then we have indentation"
   ]
  },
  {
   "cell_type": "code",
   "execution_count": 3,
   "id": "d60bd780-f7bc-4209-8725-9b34c4c3bb95",
   "metadata": {},
   "outputs": [
    {
     "name": "stdout",
     "output_type": "stream",
     "text": [
      "hello\n"
     ]
    }
   ],
   "source": [
    "if 100>10:\n",
    "    print(\"hello\")"
   ]
  },
  {
   "cell_type": "markdown",
   "id": "202b3a47-d3e4-4e09-9f8f-2850957bef05",
   "metadata": {},
   "source": [
    "**mistake-2**"
   ]
  },
  {
   "cell_type": "code",
   "execution_count": null,
   "id": "16918aa8-e636-4a0e-b37f-f1939e0ed316",
   "metadata": {},
   "outputs": [],
   "source": [
    "if 100>10 # forget to give\n",
    "    print(\"hello\")"
   ]
  },
  {
   "cell_type": "code",
   "execution_count": 5,
   "id": "ffc1bdd4-027e-4f6f-8f5d-b40ba4836a92",
   "metadata": {},
   "outputs": [],
   "source": [
    "if 100<10: # false\n",
    "    print(\"hello\")\n",
    "#no error and no output"
   ]
  },
  {
   "cell_type": "code",
   "execution_count": 6,
   "id": "1ee098c5-7cb2-4789-a7fa-8b833a893a64",
   "metadata": {},
   "outputs": [
    {
     "name": "stdout",
     "output_type": "stream",
     "text": [
      "hello\n"
     ]
    }
   ],
   "source": [
    "if True:\n",
    "    print(\"hello\")"
   ]
  },
  {
   "cell_type": "code",
   "execution_count": 8,
   "id": "aced6f75-6eed-477b-af2d-7bcb10a7c3d9",
   "metadata": {},
   "outputs": [],
   "source": [
    "if False:\n",
    "    print(\"hello\")\n",
    "#no error and no output"
   ]
  },
  {
   "cell_type": "code",
   "execution_count": 10,
   "id": "cef6ea58-16fa-44f9-9c7a-658be8460ca6",
   "metadata": {},
   "outputs": [
    {
     "name": "stdout",
     "output_type": "stream",
     "text": [
      "hello\n"
     ]
    }
   ],
   "source": [
    "if bool(100): # Also a True statement \n",
    "    print(\"hello\")"
   ]
  },
  {
   "cell_type": "code",
   "execution_count": 11,
   "id": "ff19352a-353e-4426-93bd-f50141e29647",
   "metadata": {},
   "outputs": [
    {
     "name": "stdout",
     "output_type": "stream",
     "text": [
      "hello\n",
      "Haiii\n"
     ]
    }
   ],
   "source": [
    "if 100>10:\n",
    "    print(\"hello\")\n",
    "    print(\"Haiii\")"
   ]
  },
  {
   "cell_type": "code",
   "execution_count": 13,
   "id": "18cd29bb-85e8-47ae-b5e0-7f1cfeb60f56",
   "metadata": {},
   "outputs": [
    {
     "name": "stdout",
     "output_type": "stream",
     "text": [
      "hello\n",
      "haiii\n",
      "byee\n"
     ]
    }
   ],
   "source": [
    "if 100>10:\n",
    "    print('hello')\n",
    "    print('haiii')\n",
    "print('byee')"
   ]
  },
  {
   "cell_type": "code",
   "execution_count": 15,
   "id": "fd1f3135-49a9-41de-862e-08396e6cb313",
   "metadata": {},
   "outputs": [
    {
     "name": "stdout",
     "output_type": "stream",
     "text": [
      "hello\n",
      "im with condition Bye\n",
      "im without condition Bye\n"
     ]
    }
   ],
   "source": [
    "if 100>10:\n",
    "    print('hello')\n",
    "    print(\"im with condition Bye\")\n",
    "print(\"im without condition Bye\")"
   ]
  },
  {
   "cell_type": "code",
   "execution_count": 3,
   "id": "50a79555-8a93-4fda-8c1c-3bd9f5f96696",
   "metadata": {},
   "outputs": [
    {
     "name": "stdout",
     "output_type": "stream",
     "text": [
      "1\n",
      "2\n",
      "im with out condition bye\n"
     ]
    }
   ],
   "source": [
    "print(1)\n",
    "print(2)\n",
    "if 100<10:\n",
    "    print('hello')\n",
    "    print('hai')\n",
    "    print('im with condition bye')\n",
    "##########################\n",
    "print('im with out condition bye')"
   ]
  },
  {
   "cell_type": "code",
   "execution_count": null,
   "id": "9026eba6-4183-4725-b7f8-67ceea342ed9",
   "metadata": {},
   "outputs": [],
   "source": []
  },
  {
   "cell_type": "code",
   "execution_count": null,
   "id": "39052192-72a4-4b8f-9366-5f0e57fbbc3f",
   "metadata": {},
   "outputs": [],
   "source": []
  },
  {
   "cell_type": "code",
   "execution_count": null,
   "id": "1ec0151c-eb9b-4786-b009-0d07ad86dd89",
   "metadata": {},
   "outputs": [],
   "source": []
  },
  {
   "cell_type": "code",
   "execution_count": null,
   "id": "8f0380da-5589-45ee-8105-688df39fbafb",
   "metadata": {},
   "outputs": [],
   "source": []
  },
  {
   "cell_type": "code",
   "execution_count": null,
   "id": "df9c9619-ddb1-462d-ba26-3e3516ee07b0",
   "metadata": {},
   "outputs": [],
   "source": []
  },
  {
   "cell_type": "code",
   "execution_count": null,
   "id": "750574ce-72fd-4b2d-af7e-b8ab220a6fe7",
   "metadata": {},
   "outputs": [],
   "source": []
  },
  {
   "cell_type": "code",
   "execution_count": 7,
   "id": "0a765d34-6933-4a2f-9606-9788a658b726",
   "metadata": {},
   "outputs": [
    {
     "ename": "SyntaxError",
     "evalue": "expected ':' (1694349398.py, line 1)",
     "output_type": "error",
     "traceback": [
      "\u001b[1;36m  Cell \u001b[1;32mIn[7], line 1\u001b[1;36m\u001b[0m\n\u001b[1;33m    if True\u001b[0m\n\u001b[1;37m           ^\u001b[0m\n\u001b[1;31mSyntaxError\u001b[0m\u001b[1;31m:\u001b[0m expected ':'\n"
     ]
    }
   ],
   "source": [
    "if True\n",
    "    print(\"Hello\")"
   ]
  },
  {
   "cell_type": "code",
   "execution_count": 8,
   "id": "79a70008-9a08-46e2-b51b-c427064ac2fc",
   "metadata": {},
   "outputs": [
    {
     "ename": "TypeError",
     "evalue": "can only concatenate str (not \"int\") to str",
     "output_type": "error",
     "traceback": [
      "\u001b[1;31m---------------------------------------------------------------------------\u001b[0m",
      "\u001b[1;31mTypeError\u001b[0m                                 Traceback (most recent call last)",
      "Cell \u001b[1;32mIn[8], line 1\u001b[0m\n\u001b[1;32m----> 1\u001b[0m \u001b[38;5;28mprint\u001b[39m(\u001b[38;5;124m\"\u001b[39m\u001b[38;5;124mAge: \u001b[39m\u001b[38;5;124m\"\u001b[39m \u001b[38;5;241m+\u001b[39m \u001b[38;5;241m25\u001b[39m)\n",
      "\u001b[1;31mTypeError\u001b[0m: can only concatenate str (not \"int\") to str"
     ]
    }
   ],
   "source": [
    "print(\"Age: \" + 25)"
   ]
  },
  {
   "cell_type": "code",
   "execution_count": 9,
   "id": "6f629c4d-2ef2-4746-af83-bf2481bccab7",
   "metadata": {},
   "outputs": [
    {
     "ename": "TypeError",
     "evalue": "can only concatenate str (not \"int\") to str",
     "output_type": "error",
     "traceback": [
      "\u001b[1;31m---------------------------------------------------------------------------\u001b[0m",
      "\u001b[1;31mTypeError\u001b[0m                                 Traceback (most recent call last)",
      "Cell \u001b[1;32mIn[9], line 2\u001b[0m\n\u001b[0;32m      1\u001b[0m int_variable \u001b[38;5;241m=\u001b[39m \u001b[38;5;124m\"\u001b[39m\u001b[38;5;124m10\u001b[39m\u001b[38;5;124m\"\u001b[39m\n\u001b[1;32m----> 2\u001b[0m \u001b[38;5;28mprint\u001b[39m(int_variable \u001b[38;5;241m+\u001b[39m \u001b[38;5;241m5\u001b[39m)\n",
      "\u001b[1;31mTypeError\u001b[0m: can only concatenate str (not \"int\") to str"
     ]
    }
   ],
   "source": [
    "int_variable = \"10\"\n",
    "print(int_variable + 5)"
   ]
  },
  {
   "cell_type": "code",
   "execution_count": 10,
   "id": "65f2fa9e-9091-46de-a6f5-010407a935cb",
   "metadata": {},
   "outputs": [
    {
     "ename": "ValueError",
     "evalue": "invalid literal for int() with base 10: '5.5'",
     "output_type": "error",
     "traceback": [
      "\u001b[1;31m---------------------------------------------------------------------------\u001b[0m",
      "\u001b[1;31mValueError\u001b[0m                                Traceback (most recent call last)",
      "Cell \u001b[1;32mIn[10], line 1\u001b[0m\n\u001b[1;32m----> 1\u001b[0m x \u001b[38;5;241m=\u001b[39m \u001b[38;5;28mint\u001b[39m(\u001b[38;5;124m\"\u001b[39m\u001b[38;5;124m5.5\u001b[39m\u001b[38;5;124m\"\u001b[39m)\n",
      "\u001b[1;31mValueError\u001b[0m: invalid literal for int() with base 10: '5.5'"
     ]
    }
   ],
   "source": [
    "x = int(\"5.5\")"
   ]
  },
  {
   "cell_type": "code",
   "execution_count": 12,
   "id": "08b0614a-7a8b-4d75-ab1d-cfd1e79264be",
   "metadata": {},
   "outputs": [
    {
     "ename": "IndentationError",
     "evalue": "expected an indented block after 'else' statement on line 6 (505800563.py, line 7)",
     "output_type": "error",
     "traceback": [
      "\u001b[1;36m  Cell \u001b[1;32mIn[12], line 7\u001b[1;36m\u001b[0m\n\u001b[1;33m    print(\"x is 15 or greater\")\u001b[0m\n\u001b[1;37m                               ^\u001b[0m\n\u001b[1;31mIndentationError\u001b[0m\u001b[1;31m:\u001b[0m expected an indented block after 'else' statement on line 6\n"
     ]
    }
   ],
   "source": [
    "x = 10\n",
    "if x > 5:\n",
    "    print(\"x is greater than 5\")\n",
    "    if x < 15:\n",
    "        print(\"x is less than 15\")\n",
    "    else:\n",
    "print(\"x is 15 or greater\")"
   ]
  },
  {
   "cell_type": "code",
   "execution_count": 13,
   "id": "9b460594-995e-47a8-9f63-b29ee4431f55",
   "metadata": {},
   "outputs": [
    {
     "name": "stdout",
     "output_type": "stream",
     "text": [
      "x is greater than 5\n"
     ]
    }
   ],
   "source": [
    "x = 8\n",
    "if x > 10:\n",
    "    print(\"x is greater than 10\")\n",
    "elif x > 5:\n",
    "    print(\"x is greater than 5\")\n",
    "else:\n",
    "    print(\"x is 5 or less\")"
   ]
  },
  {
   "cell_type": "code",
   "execution_count": 14,
   "id": "30887ed5-5ecf-4ac5-98cb-5454763346aa",
   "metadata": {},
   "outputs": [
    {
     "name": "stdout",
     "output_type": "stream",
     "text": [
      "5\n"
     ]
    }
   ],
   "source": [
    "x = eval(\"2 + 3\")\n",
    "print(x)"
   ]
  },
  {
   "cell_type": "code",
   "execution_count": 17,
   "id": "952cd3e3-4eb5-4167-b752-f68e568824ac",
   "metadata": {},
   "outputs": [
    {
     "name": "stdin",
     "output_type": "stream",
     "text": [
      "Enter a number:  3\n"
     ]
    },
    {
     "ename": "TypeError",
     "evalue": "'>' not supported between instances of 'str' and 'int'",
     "output_type": "error",
     "traceback": [
      "\u001b[1;31m---------------------------------------------------------------------------\u001b[0m",
      "\u001b[1;31mTypeError\u001b[0m                                 Traceback (most recent call last)",
      "Cell \u001b[1;32mIn[17], line 2\u001b[0m\n\u001b[0;32m      1\u001b[0m x \u001b[38;5;241m=\u001b[39m \u001b[38;5;28minput\u001b[39m(\u001b[38;5;124m\"\u001b[39m\u001b[38;5;124mEnter a number: \u001b[39m\u001b[38;5;124m\"\u001b[39m)\n\u001b[1;32m----> 2\u001b[0m \u001b[38;5;28;01mif\u001b[39;00m x \u001b[38;5;241m>\u001b[39m \u001b[38;5;241m5\u001b[39m:\n\u001b[0;32m      3\u001b[0m     \u001b[38;5;28mprint\u001b[39m(\u001b[38;5;124m\"\u001b[39m\u001b[38;5;124mGreater than 5\u001b[39m\u001b[38;5;124m\"\u001b[39m)\n\u001b[0;32m      4\u001b[0m \u001b[38;5;28;01melse\u001b[39;00m:\n",
      "\u001b[1;31mTypeError\u001b[0m: '>' not supported between instances of 'str' and 'int'"
     ]
    }
   ],
   "source": [
    "x = input(\"Enter a number: \")\n",
    "if x > 5:\n",
    "    print(\"Greater than 5\")\n",
    "else:\n",
    "    print(\"Not greater than 5\")"
   ]
  },
  {
   "cell_type": "code",
   "execution_count": 18,
   "id": "b079bab4-3762-4ffc-88ce-c55efd8b50c3",
   "metadata": {},
   "outputs": [
    {
     "name": "stdout",
     "output_type": "stream",
     "text": [
      "10\n"
     ]
    }
   ],
   "source": [
    "x = eval(\"2 * 3 + 4\")\n",
    "print(x)"
   ]
  },
  {
   "cell_type": "code",
   "execution_count": 20,
   "id": "bfcb6fb5-63c6-4fd1-8b98-0b9bf5472f89",
   "metadata": {},
   "outputs": [
    {
     "name": "stdin",
     "output_type": "stream",
     "text": [
      "Enter a number:  9\n"
     ]
    },
    {
     "name": "stdout",
     "output_type": "stream",
     "text": [
      "Divisible by 3 and Odd\n"
     ]
    }
   ],
   "source": [
    "x = int(input(\"Enter a number: \"))\n",
    "if x % 3 == 0 and x % 2 != 0:\n",
    "    print(\"Divisible by 3 and Odd\")\n",
    "else:\n",
    "    print(\"Does not meet criteria\")"
   ]
  },
  {
   "cell_type": "code",
   "execution_count": 21,
   "id": "b7759de8-29c4-44c6-bb26-d920f13cbd06",
   "metadata": {},
   "outputs": [
    {
     "ename": "SyntaxError",
     "evalue": "invalid syntax (263540645.py, line 2)",
     "output_type": "error",
     "traceback": [
      "\u001b[1;36m  Cell \u001b[1;32mIn[21], line 2\u001b[1;36m\u001b[0m\n\u001b[1;33m    print('200 is greater':)\u001b[0m\n\u001b[1;37m                          ^\u001b[0m\n\u001b[1;31mSyntaxError\u001b[0m\u001b[1;31m:\u001b[0m invalid syntax\n"
     ]
    }
   ],
   "source": [
    "if 100<200:\n",
    "    print('200 is greater':)\n",
    "print('Hello')\n",
    "else:\n",
    "    print('100 is greater')"
   ]
  },
  {
   "cell_type": "code",
   "execution_count": 22,
   "id": "b4fef6f7-d4d7-4fe5-a398-7437afc596f9",
   "metadata": {},
   "outputs": [
    {
     "name": "stdout",
     "output_type": "stream",
     "text": [
      "50\n",
      "None\n"
     ]
    }
   ],
   "source": [
    "a=10\n",
    "b=70\n",
    "def sub(a,b):\n",
    "    a=20\n",
    "    b=30\n",
    "    print(a+b)\n",
    "print(sub(100,200))"
   ]
  },
  {
   "cell_type": "code",
   "execution_count": 23,
   "id": "24b57459-42c3-4e16-9617-0f6a50b233ad",
   "metadata": {},
   "outputs": [
    {
     "name": "stdout",
     "output_type": "stream",
     "text": [
      "Hello\n",
      "World!\n"
     ]
    }
   ],
   "source": [
    "print(\"Hello\", sep=\" \")\n",
    "print(\"World!\")"
   ]
  },
  {
   "cell_type": "code",
   "execution_count": 26,
   "id": "48dd64f2-06af-4147-8f1d-c5d7f7359358",
   "metadata": {},
   "outputs": [
    {
     "name": "stdout",
     "output_type": "stream",
     "text": [
      "Even and greater than 10\n"
     ]
    }
   ],
   "source": [
    "x = 20\n",
    "if x > 10:\n",
    "    if x % 2 == 0:\n",
    "        print(\"Even and greater than 10\")\n",
    "    else:\n",
    "        print(\"Odd and greater than 10\")\n",
    "else:\n",
    "    print(\"10 or less\")"
   ]
  },
  {
   "cell_type": "code",
   "execution_count": null,
   "id": "bac27493-2a0d-4cbf-bee1-889c6d51baf3",
   "metadata": {},
   "outputs": [],
   "source": []
  }
 ],
 "metadata": {
  "kernelspec": {
   "display_name": "Python 3 (ipykernel)",
   "language": "python",
   "name": "python3"
  },
  "language_info": {
   "codemirror_mode": {
    "name": "ipython",
    "version": 3
   },
   "file_extension": ".py",
   "mimetype": "text/x-python",
   "name": "python",
   "nbconvert_exporter": "python",
   "pygments_lexer": "ipython3",
   "version": "3.12.7"
  }
 },
 "nbformat": 4,
 "nbformat_minor": 5
}
