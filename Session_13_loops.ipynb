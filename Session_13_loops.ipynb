{
 "cells": [
  {
   "cell_type": "code",
   "execution_count": 42,
   "id": "d78d8f72-fcd0-4f8b-8f0c-58d7d5429163",
   "metadata": {},
   "outputs": [
    {
     "name": "stdin",
     "output_type": "stream",
     "text": [
      "enter the salary 100000\n",
      "enter the percentage 10\n"
     ]
    },
    {
     "name": "stdout",
     "output_type": "stream",
     "text": [
      "10000.0\n"
     ]
    }
   ],
   "source": [
    "salary = eval(input('enter the salary'))\n",
    "tax_per = eval(input('enter the percentage'))\n",
    "tax_pay = salary * tax_per /100\n",
    "print(tax_pay)"
   ]
  },
  {
   "cell_type": "markdown",
   "id": "1b87e814-33da-4e29-ab21-6bc2806f8be4",
   "metadata": {},
   "source": [
    "**Loops**\n",
    "- loops are used to iterate the code multiple time\n",
    "- function are used to reuse the code block\n",
    "- that code block can be repeted multiple times\n",
    "- whenever you are going same task multiple time then think about loop\n",
    "- we have two loops\n",
    "    - for loop\n",
    "    - while loop\n",
    "\n",
    "- any loop we need three things\n",
    "\n",
    "    - Initialization(start point)\n",
    "    - increment and decrement\n",
    "    - condition to stop"
   ]
  },
  {
   "cell_type": "markdown",
   "id": "10dbff7f-fa14-4cae-b1b5-8837a5cdd2c6",
   "metadata": {},
   "source": [
    "**for loop**"
   ]
  },
  {
   "cell_type": "code",
   "execution_count": null,
   "id": "f7721b99-2f7a-495b-a345-f8275d911530",
   "metadata": {},
   "outputs": [],
   "source": [
    "for <variable> in range(<any_Number>):\n",
    "    <write your code here>"
   ]
  },
  {
   "cell_type": "code",
   "execution_count": 2,
   "id": "cd1b4837-3438-4249-a242-df65ebbf4132",
   "metadata": {},
   "outputs": [
    {
     "name": "stdout",
     "output_type": "stream",
     "text": [
      "0\n",
      "1\n",
      "2\n",
      "3\n",
      "4\n"
     ]
    }
   ],
   "source": [
    "for i in range(5):\n",
    "    print(i)"
   ]
  },
  {
   "cell_type": "code",
   "execution_count": 4,
   "id": "88f26f53-c4f0-431d-90ff-7c47483bfbf0",
   "metadata": {},
   "outputs": [
    {
     "name": "stdout",
     "output_type": "stream",
     "text": [
      "0\n",
      "1\n",
      "2\n",
      "0\n",
      "1\n",
      "2\n"
     ]
    }
   ],
   "source": [
    "print(0)\n",
    "print(1)\n",
    "print(2)\n",
    "for i in range(3):\n",
    "    print(i)"
   ]
  },
  {
   "cell_type": "code",
   "execution_count": 5,
   "id": "78c5f91b-7396-43eb-af74-3d8abb20d819",
   "metadata": {},
   "outputs": [
    {
     "name": "stdout",
     "output_type": "stream",
     "text": [
      "0\n",
      "1\n",
      "2\n",
      "0 1 2 "
     ]
    }
   ],
   "source": [
    "print(0)\n",
    "print(1)\n",
    "print(2)\n",
    "for i in range(3):\n",
    "    print(i,end=' ')"
   ]
  },
  {
   "cell_type": "markdown",
   "id": "597a5714-44e1-47f6-bc38-3a77de2a6fce",
   "metadata": {},
   "source": [
    "**case-1:range(stop_value)**\n",
    "- start value is always zero : **python index aways start with zero**\n",
    "- by de fault its **increment by 1**\n",
    "- last value means **stop-1**"
   ]
  },
  {
   "cell_type": "code",
   "execution_count": 6,
   "id": "b51989e9-b7ab-4ebe-bfe3-e5785803ab4d",
   "metadata": {},
   "outputs": [
    {
     "name": "stdout",
     "output_type": "stream",
     "text": [
      "0 1 2 3 4 5 6 7 8 9 "
     ]
    }
   ],
   "source": [
    "for i in range(10):\n",
    "    print(i,end=' ')"
   ]
  },
  {
   "cell_type": "code",
   "execution_count": 7,
   "id": "d5070cf6-25d7-482f-afba-7580034b8d45",
   "metadata": {},
   "outputs": [
    {
     "name": "stdout",
     "output_type": "stream",
     "text": [
      "good night\n",
      "good night\n",
      "good night\n"
     ]
    }
   ],
   "source": [
    "print('good night')\n",
    "print('good night')\n",
    "print('good night')"
   ]
  },
  {
   "cell_type": "code",
   "execution_count": 9,
   "id": "903d4015-d129-49a7-803e-7f78c887eb20",
   "metadata": {},
   "outputs": [
    {
     "name": "stdout",
     "output_type": "stream",
     "text": [
      "good night\n",
      "good night\n",
      "good night\n"
     ]
    }
   ],
   "source": [
    "for i in range(3):\n",
    "    print('good night')"
   ]
  },
  {
   "cell_type": "markdown",
   "id": "e1ad6eb0-4148-4017-9040-6ebfc3c1b9e0",
   "metadata": {},
   "source": [
    "**case-2:range(start,stop)**\n",
    "- sippose i want to start my loop with perticular number\n",
    "- then add start also inside range\n",
    "- start = start\n",
    "- increment by 1\n",
    "- last=stop-1\n",
    "- range(10,20)"
   ]
  },
  {
   "cell_type": "code",
   "execution_count": 11,
   "id": "d3e086cc-90b5-4741-84ed-5d37ecb2f0a0",
   "metadata": {},
   "outputs": [
    {
     "name": "stdout",
     "output_type": "stream",
     "text": [
      "10 11 12 13 14 15 16 17 18 19 "
     ]
    }
   ],
   "source": [
    "for i in range(10,20):\n",
    "    print(i,end=' ')"
   ]
  },
  {
   "cell_type": "code",
   "execution_count": null,
   "id": "f4cceb25-5ca0-4808-a98f-35580ae2dc2a",
   "metadata": {},
   "outputs": [],
   "source": [
    "#wap ask the print the square of first five number\n",
    "#square of 1 is 1 \n",
    "#square of 2 is 4"
   ]
  },
  {
   "cell_type": "code",
   "execution_count": 16,
   "id": "f5488202-cd2b-4054-aeba-c04fa3db6af1",
   "metadata": {},
   "outputs": [
    {
     "name": "stdout",
     "output_type": "stream",
     "text": [
      "1 4 9 16 25 "
     ]
    }
   ],
   "source": [
    "for i in range(1,6):\n",
    "    print(i*i,end=' ')"
   ]
  },
  {
   "cell_type": "code",
   "execution_count": 21,
   "id": "28baabf3-f6ae-4466-aa9c-41ab14cd133c",
   "metadata": {},
   "outputs": [
    {
     "name": "stdin",
     "output_type": "stream",
     "text": [
      "enter the number 1\n"
     ]
    },
    {
     "name": "stdout",
     "output_type": "stream",
     "text": [
      "1 "
     ]
    },
    {
     "name": "stdin",
     "output_type": "stream",
     "text": [
      "enter the number 2\n"
     ]
    },
    {
     "name": "stdout",
     "output_type": "stream",
     "text": [
      "4 "
     ]
    },
    {
     "name": "stdin",
     "output_type": "stream",
     "text": [
      "enter the number 4\n"
     ]
    },
    {
     "name": "stdout",
     "output_type": "stream",
     "text": [
      "16 "
     ]
    },
    {
     "name": "stdin",
     "output_type": "stream",
     "text": [
      "enter the number 3\n"
     ]
    },
    {
     "name": "stdout",
     "output_type": "stream",
     "text": [
      "9 "
     ]
    },
    {
     "name": "stdin",
     "output_type": "stream",
     "text": [
      "enter the number 5\n"
     ]
    },
    {
     "name": "stdout",
     "output_type": "stream",
     "text": [
      "25 "
     ]
    }
   ],
   "source": [
    "# wap ask the user enter a number so promt happens 5 time\n",
    "# print square the number \n",
    "for i in range(1,6):\n",
    "    a = eval(input('enter the number'))\n",
    "    print(a*a,end=' ')"
   ]
  },
  {
   "cell_type": "code",
   "execution_count": 23,
   "id": "a43794de-3ed0-431f-a2d6-2a6e64fbd1d9",
   "metadata": {},
   "outputs": [
    {
     "name": "stdin",
     "output_type": "stream",
     "text": [
      "enter the number 1\n"
     ]
    },
    {
     "name": "stdout",
     "output_type": "stream",
     "text": [
      "the square of 1 is 1\n"
     ]
    },
    {
     "name": "stdin",
     "output_type": "stream",
     "text": [
      "enter the number 2\n"
     ]
    },
    {
     "name": "stdout",
     "output_type": "stream",
     "text": [
      "the square of 2 is 4\n"
     ]
    },
    {
     "name": "stdin",
     "output_type": "stream",
     "text": [
      "enter the number 3\n"
     ]
    },
    {
     "name": "stdout",
     "output_type": "stream",
     "text": [
      "the square of 3 is 9\n"
     ]
    },
    {
     "name": "stdin",
     "output_type": "stream",
     "text": [
      "enter the number 4\n"
     ]
    },
    {
     "name": "stdout",
     "output_type": "stream",
     "text": [
      "the square of 4 is 16\n"
     ]
    },
    {
     "name": "stdin",
     "output_type": "stream",
     "text": [
      "enter the number 5\n"
     ]
    },
    {
     "name": "stdout",
     "output_type": "stream",
     "text": [
      "the square of 5 is 25\n"
     ]
    }
   ],
   "source": [
    "def square():\n",
    "    a = eval(input('enter the number'))\n",
    "    print(f\"the square of {a} is {a*a}\")\n",
    "for i in range(1,6):\n",
    "     square()"
   ]
  },
  {
   "cell_type": "markdown",
   "id": "52c8abfe-2b7b-4ed2-b647-0acf5dfe1615",
   "metadata": {},
   "source": [
    "**case-3range(start,stop,step)**\n",
    "- start = start only\n",
    "- step\n",
    "    - loop about step sign/value is positive or negative sign\n",
    "    - positive increment \n",
    "        - last value : stop-1\n",
    "    - negative decrement\n",
    "        - last value : stop+1"
   ]
  },
  {
   "cell_type": "markdown",
   "id": "915384d6-7ec6-42f4-8a27-99707529a1ee",
   "metadata": {},
   "source": [
    "**example No.**"
   ]
  },
  {
   "cell_type": "code",
   "execution_count": 26,
   "id": "b7c42c62-7c44-41aa-99ca-c19f1dea6642",
   "metadata": {},
   "outputs": [
    {
     "name": "stdout",
     "output_type": "stream",
     "text": [
      "3 5 7 9 11 13 15 17 19 "
     ]
    }
   ],
   "source": [
    "#start range(3,20,2)\n",
    "# start = 3\n",
    "# step = + 2 direction \n",
    "# last = 19-1=18\n",
    "\n",
    "for i in range(3,20,2):\n",
    "    print(i,end=' ')"
   ]
  },
  {
   "cell_type": "markdown",
   "id": "09fe515c-2ac4-4e4e-bc8e-1019db7d0ea3",
   "metadata": {},
   "source": [
    "**example-2**"
   ]
  },
  {
   "cell_type": "code",
   "execution_count": 28,
   "id": "e60e4656-74a2-48ba-aebf-928c864d4ddc",
   "metadata": {},
   "outputs": [],
   "source": [
    "#start range(3,20,-2)\n",
    "# start = 3\n",
    "# step = - 2 direction \n",
    "# last = 19+1=20\n",
    "for i in range(3,19,-2):\n",
    "    print(i,end=' ')"
   ]
  },
  {
   "cell_type": "code",
   "execution_count": 29,
   "id": "5c91a024-8b88-465c-bd8f-acc03ae8e53a",
   "metadata": {},
   "outputs": [
    {
     "name": "stdout",
     "output_type": "stream",
     "text": [
      "3 1 -1 -3 -5 -7 -9 -11 -13 -15 -17 "
     ]
    }
   ],
   "source": [
    "for i in range(3,-19,-2):\n",
    "    print(i,end=' ')"
   ]
  },
  {
   "cell_type": "code",
   "execution_count": 38,
   "id": "be83ee34-6cf3-498a-8692-52745e19bcde",
   "metadata": {},
   "outputs": [],
   "source": [
    "for i in range(3,-19,2):\n",
    "    print(i,end=' ')"
   ]
  },
  {
   "cell_type": "code",
   "execution_count": 41,
   "id": "3cfffc7f-f8cb-4b91-8d85-80797c7d6b8e",
   "metadata": {},
   "outputs": [],
   "source": [
    "for i in range(3,19,-2):\n",
    "    print(i,end=' ') #no output no ans"
   ]
  },
  {
   "cell_type": "code",
   "execution_count": 43,
   "id": "f40ff5bd-c6d5-4d10-8f65-389d1503f3b4",
   "metadata": {},
   "outputs": [
    {
     "name": "stdout",
     "output_type": "stream",
     "text": [
      "0\n",
      "1\n",
      "2\n",
      "3\n",
      "4\n"
     ]
    }
   ],
   "source": [
    "for i in range(5):\n",
    "    print(i)"
   ]
  },
  {
   "cell_type": "code",
   "execution_count": 54,
   "id": "ee098ad1-2956-46b9-adf7-ac40009cd2a1",
   "metadata": {},
   "outputs": [
    {
     "name": "stdout",
     "output_type": "stream",
     "text": [
      "0\n",
      "5\n",
      "10\n",
      "15\n",
      "20\n",
      "25\n",
      "30\n",
      "35\n",
      "40\n",
      "45\n",
      "50\n"
     ]
    }
   ],
   "source": [
    "for i in range(0,55,5):\n",
    "    print(i)"
   ]
  },
  {
   "cell_type": "code",
   "execution_count": 75,
   "id": "861a42e2-7b6f-491e-bf40-93919533cce8",
   "metadata": {},
   "outputs": [
    {
     "name": "stdout",
     "output_type": "stream",
     "text": [
      "0 \n",
      "1 1 \n",
      "2 2 2 \n",
      "3 3 3 3 \n",
      "4 4 4 4 4 \n"
     ]
    }
   ],
   "source": [
    "n=5\n",
    "for i in range(0,n):\n",
    "    for j in range(0,i+1):\n",
    "        print(i ,end=\" \")\n",
    "    print()"
   ]
  },
  {
   "cell_type": "code",
   "execution_count": 2,
   "id": "60d28d52-c836-48c9-b619-edd4f0d10e8b",
   "metadata": {},
   "outputs": [
    {
     "name": "stdout",
     "output_type": "stream",
     "text": [
      "20\n",
      "10\n",
      "0\n",
      "-10\n"
     ]
    }
   ],
   "source": [
    "for i in range(20,-20,-10):\n",
    "    print(i)"
   ]
  },
  {
   "cell_type": "code",
   "execution_count": 8,
   "id": "7619100e-2819-49a2-b2fa-0fbc42ea1aa5",
   "metadata": {},
   "outputs": [
    {
     "name": "stdout",
     "output_type": "stream",
     "text": [
      "7\n",
      "14\n",
      "21\n",
      "28\n",
      "35\n",
      "42\n",
      "49\n",
      "56\n",
      "63\n",
      "70\n"
     ]
    }
   ],
   "source": [
    "#question \n",
    "for i in range(7,77,7):\n",
    "    print(i)"
   ]
  },
  {
   "cell_type": "code",
   "execution_count": 14,
   "id": "4519ebc5-1389-41a7-9692-d33d109bf257",
   "metadata": {},
   "outputs": [
    {
     "name": "stdin",
     "output_type": "stream",
     "text": [
      "enter the number: 14\n"
     ]
    },
    {
     "name": "stdout",
     "output_type": "stream",
     "text": [
      "14*1=14\n",
      "14*2=28\n",
      "14*3=42\n",
      "14*4=56\n",
      "14*5=70\n",
      "14*6=84\n",
      "14*7=98\n",
      "14*8=112\n",
      "14*9=126\n",
      "14*10=140\n"
     ]
    }
   ],
   "source": [
    "num1 = eval(input(\"enter the number:\"))\n",
    "for i in range(1,11):\n",
    "    num2 = num1 * i\n",
    "    print(f'{num1}*{i}={num2}')"
   ]
  },
  {
   "cell_type": "code",
   "execution_count": 19,
   "id": "74634914-e927-4428-ae5a-e44c74b5fed6",
   "metadata": {},
   "outputs": [
    {
     "name": "stdin",
     "output_type": "stream",
     "text": [
      "enter the numbe 75\n"
     ]
    },
    {
     "name": "stdout",
     "output_type": "stream",
     "text": [
      "1 is divisor of 75\n",
      "3 is divisor of 75\n",
      "5 is divisor of 75\n",
      "15 is divisor of 75\n",
      "25 is divisor of 75\n",
      "75 is divisor of 75\n"
     ]
    }
   ],
   "source": [
    "#find the number of divisiors of 75\n",
    "#if you divide 75 with any number the reminder shold be zero\n",
    "num = eval(input('enter the numbe'))\n",
    "for i in range(1,num+1):\n",
    "    if num % i == 0:\n",
    "        print(f'{i} is divisor of {num}')"
   ]
  },
  {
   "cell_type": "code",
   "execution_count": 25,
   "id": "dbf21ba2-a302-42ba-b1c9-83160bfbe588",
   "metadata": {},
   "outputs": [
    {
     "name": "stdout",
     "output_type": "stream",
     "text": [
      "the sum is 1\n",
      "the sum is 3\n",
      "the sum is 6\n",
      "the sum is 10\n",
      "the sum is 15\n",
      "the sum is 21\n",
      "the sum is 28\n",
      "the sum is 36\n",
      "the sum is 45\n",
      "the sum is 55\n",
      "the sum is 55\n"
     ]
    }
   ],
   "source": [
    "# Q6) sum of first natural numbers\n",
    "summ = 0 \n",
    "for i in range(1,11):\n",
    "    summ = summ + i\n",
    "    print(f\"the sum is {summ}\")\n",
    "print(f\"the sum is {summ}\")"
   ]
  },
  {
   "cell_type": "markdown",
   "id": "532699be-43e7-41c2-8633-0b58e865958b",
   "metadata": {},
   "source": [
    "**summation wrapper**\n",
    "- starting we initialise the sum value is summ= 0\n",
    "- inside loop we will add a simple line : summ = summ + i"
   ]
  },
  {
   "cell_type": "code",
   "execution_count": 28,
   "id": "705a2f0f-a1e3-408f-8543-393c9180ef9d",
   "metadata": {},
   "outputs": [
    {
     "name": "stdout",
     "output_type": "stream",
     "text": [
      "0\n",
      "1\n",
      "2\n",
      "3\n",
      "4\n"
     ]
    }
   ],
   "source": [
    "for value in range(4):\n",
    "    print(value)\n",
    "print(value+1)"
   ]
  },
  {
   "cell_type": "code",
   "execution_count": 42,
   "id": "3716836d-68b8-43e3-91c5-ca7faf41015f",
   "metadata": {},
   "outputs": [
    {
     "name": "stdin",
     "output_type": "stream",
     "text": [
      "enter the numbe 75\n"
     ]
    },
    {
     "name": "stdout",
     "output_type": "stream",
     "text": [
      "summ of divisor of 75 is 124\n"
     ]
    }
   ],
   "source": [
    "#Q7) find the summ of divisors of 75\n",
    "summ= 0\n",
    "num = eval(input('enter the number'))\n",
    "for i in range(1,num+1):\n",
    "    if num % i == 0:\n",
    "        summ = summ + i\n",
    "print(f\"summ of divisor of {num} is {summ}\")"
   ]
  },
  {
   "cell_type": "markdown",
   "id": "209b2fea-6a35-4291-8f20-ef63bdf1eb20",
   "metadata": {},
   "source": [
    "**Counter wrapper**\n",
    "- counter means counting the success ones\n",
    "- count = 0\n",
    "- inside for loop\n",
    "  - count = count + 1\n"
   ]
  },
  {
   "cell_type": "code",
   "execution_count": 48,
   "id": "bc3004f0-aa3e-489a-a838-4356ca7b1909",
   "metadata": {},
   "outputs": [
    {
     "name": "stdin",
     "output_type": "stream",
     "text": [
      "enter the numbe 75\n"
     ]
    },
    {
     "name": "stdout",
     "output_type": "stream",
     "text": [
      "number of divisor of 6\n"
     ]
    }
   ],
   "source": [
    "# Q8) find the number of divisor \n",
    "count = 0\n",
    "num = eval(input('enter the numbe'))\n",
    "for i in range(1,num+1):\n",
    "    if num % i == 0:\n",
    "        count = count + 1\n",
    "print(f\"number of divisor of {count}\")"
   ]
  },
  {
   "cell_type": "code",
   "execution_count": 50,
   "id": "1a2d4a19-ed0f-45a1-9709-83f061930fa6",
   "metadata": {},
   "outputs": [],
   "source": [
    "#Q8) \n",
    "# ask the user get 5 random number \n",
    "# means you need a get random number inside for loop\n",
    "# the loop should run 5 time\n",
    "# now perform the even odd operation\n",
    "# 1) even 2) summ of even number 3) odd count 4 ) summ of odd number"
   ]
  },
  {
   "cell_type": "code",
   "execution_count": 21,
   "id": "b65e11c4-8918-43e5-b167-97e4b8c6c9cd",
   "metadata": {},
   "outputs": [
    {
     "name": "stdout",
     "output_type": "stream",
     "text": [
      "54 is even\n",
      "27 is odd\n",
      "14 is even\n",
      "86 is even\n",
      "57 is odd\n",
      "count of even 3\n",
      "count of odd 2\n",
      "sum of even sum 154\n",
      "sum of odd sum 84\n"
     ]
    }
   ],
   "source": [
    "import random\n",
    "even_count = 0\n",
    "odd_count =0\n",
    "even_summ = 0\n",
    "odd_summ = 0\n",
    "for i in range(5):\n",
    "    number1 = random.randint(10,100)\n",
    "    if number1%2==0:\n",
    "        print(f'{number1} is even')\n",
    "        even_count = even_count + 1\n",
    "        even_summ = even_summ + number1\n",
    "    else:\n",
    "        print(f'{number1} is odd')\n",
    "        odd_count = odd_count + 1\n",
    "        odd_summ = odd_summ + number1\n",
    "print(f'count of even {even_count}')\n",
    "print(f'count of odd {odd_count}')\n",
    "print(f'sum of even sum {even_summ}')\n",
    "print(f'sum of odd sum {odd_summ}')"
   ]
  },
  {
   "cell_type": "markdown",
   "id": "ff907749-a6aa-4ac9-93fa-7f7d6932a9c3",
   "metadata": {},
   "source": [
    "**game program**"
   ]
  },
  {
   "cell_type": "code",
   "execution_count": 22,
   "id": "9b3ba4ff-55ef-4262-b4d9-0858dd324e13",
   "metadata": {},
   "outputs": [
    {
     "name": "stdin",
     "output_type": "stream",
     "text": [
      "enter the number : 5\n"
     ]
    },
    {
     "name": "stdout",
     "output_type": "stream",
     "text": [
      "opps you lose\n"
     ]
    },
    {
     "name": "stdin",
     "output_type": "stream",
     "text": [
      "enter the number : 2\n"
     ]
    },
    {
     "name": "stdout",
     "output_type": "stream",
     "text": [
      "opps you lose\n"
     ]
    },
    {
     "name": "stdin",
     "output_type": "stream",
     "text": [
      "enter the number : 2\n"
     ]
    },
    {
     "name": "stdout",
     "output_type": "stream",
     "text": [
      "opps you lose\n"
     ]
    }
   ],
   "source": [
    "## user enter one num\n",
    "# another number will generated randomly\n",
    "# if both numbers are equal then you won \n",
    "# otherwise you lost\n",
    "# three chances \n",
    "for i in range(3):\n",
    "    nummm = eval(input(\"enter the number :\"))\n",
    "    nummm2 = random.randint(1,10)\n",
    "    if nummm == nummm2:\n",
    "        print(\"yeah you won\")\n",
    "        break \n",
    "    else:\n",
    "        print(\"opps you lose\")\n"
   ]
  },
  {
   "cell_type": "code",
   "execution_count": null,
   "id": "9e655da2-3790-4793-b8a7-093d62386020",
   "metadata": {},
   "outputs": [],
   "source": [
    "**case-1**\n",
    "**case-2** "
   ]
  },
  {
   "cell_type": "code",
   "execution_count": 77,
   "id": "ed6d9952-a448-4aeb-926f-c8c4802b615e",
   "metadata": {},
   "outputs": [
    {
     "name": "stdin",
     "output_type": "stream",
     "text": [
      "enter the number : 2\n"
     ]
    },
    {
     "name": "stdout",
     "output_type": "stream",
     "text": [
      "better luck next time\n",
      "2 attempt is left\n"
     ]
    },
    {
     "name": "stdin",
     "output_type": "stream",
     "text": [
      "enter the number : 1\n"
     ]
    },
    {
     "name": "stdout",
     "output_type": "stream",
     "text": [
      "better luck next time\n",
      "1 attempt is left\n"
     ]
    },
    {
     "name": "stdin",
     "output_type": "stream",
     "text": [
      "enter the number : 3\n"
     ]
    },
    {
     "name": "stdout",
     "output_type": "stream",
     "text": [
      "better luck next time\n",
      "0 attempt is left\n",
      "try after 24hours time\n"
     ]
    }
   ],
   "source": [
    "## case-1: we apply the break === Completed\n",
    "# case-2: whenever the user enter the wronh answer\n",
    "# better luck next time\n",
    "# how many chances you are left\n",
    "# case-3: if you lost all the chances\n",
    "# print try after 24hours time\n",
    "# dont give time.sleep 24hours katam your zindagi\n",
    "# whatsapp group online and offline\n",
    "count = 0\n",
    "for i in range(3):\n",
    "    nummm = eval(input(\"enter the number :\"))\n",
    "    nummm2 = random.randint(1,10)\n",
    "    \n",
    "    if nummm == nummm2:\n",
    "        print(\"yeah you won\")\n",
    "        break \n",
    "    else:\n",
    "        count = count + 1\n",
    "        print(\"better luck next time\")\n",
    "        print(f'{3-count} attempt is left')\n",
    "    if count == 3:\n",
    "        print('try after 24hours time')"
   ]
  },
  {
   "cell_type": "code",
   "execution_count": 83,
   "id": "94884342-e41a-4347-b07a-edf1846c19b6",
   "metadata": {},
   "outputs": [
    {
     "name": "stdout",
     "output_type": "stream",
     "text": [
      "odd number\n",
      "odd number\n",
      "even number\n"
     ]
    }
   ],
   "source": [
    "for i in range(3):\n",
    "    random_num = random.randint(1,10)\n",
    "    if random_num % 2 == 0:\n",
    "        print(\"even number\")\n",
    "    else:\n",
    "        print(\"odd number\")    "
   ]
  },
  {
   "cell_type": "markdown",
   "id": "4afaabf5-25bd-4ec1-a24c-04b096c4cdc3",
   "metadata": {},
   "source": [
    "**in operator**"
   ]
  },
  {
   "cell_type": "markdown",
   "id": "d059ba24-1ae7-4883-a535-9400407eb939",
   "metadata": {},
   "source": [
    "- for loop we have range and in operator\n",
    "- range is a math related word,whenever we use range it expect a number inside range\n",
    "- in operator expects a string / english "
   ]
  },
  {
   "cell_type": "code",
   "execution_count": 4,
   "id": "40d03a76-9755-4ba1-8f35-b8ca7f4bfbce",
   "metadata": {},
   "outputs": [
    {
     "name": "stdout",
     "output_type": "stream",
     "text": [
      "p y t h o n "
     ]
    }
   ],
   "source": [
    "for i in range('python'):\n",
    "    print(i,end=' ')"
   ]
  },
  {
   "cell_type": "code",
   "execution_count": 6,
   "id": "e4ba89a2-50e8-4c42-b74e-3e5a94866eb8",
   "metadata": {},
   "outputs": [
    {
     "name": "stdout",
     "output_type": "stream",
     "text": [
      "p y t h o n "
     ]
    }
   ],
   "source": [
    "for i in('python'):\n",
    "    print(i,end=' ')"
   ]
  },
  {
   "cell_type": "code",
   "execution_count": 11,
   "id": "40f3c021-d20a-485d-9693-35659058deab",
   "metadata": {},
   "outputs": [
    {
     "data": {
      "text/plain": [
       "True"
      ]
     },
     "execution_count": 11,
     "metadata": {},
     "output_type": "execute_result"
    }
   ],
   "source": [
    "'p' in 'python'\n",
    "'y' in 'python'\n",
    "'t' in 'python'\n",
    "'h' in 'python'\n",
    "'o' in 'python'\n",
    "'n' in 'python'\n",
    "i in 'python'"
   ]
  },
  {
   "cell_type": "code",
   "execution_count": 12,
   "id": "206f6eca-7832-44a7-b2b7-8e6de6067ff9",
   "metadata": {},
   "outputs": [
    {
     "data": {
      "text/plain": [
       "False"
      ]
     },
     "execution_count": 12,
     "metadata": {},
     "output_type": "execute_result"
    }
   ],
   "source": [
    "'A'>'a'"
   ]
  },
  {
   "cell_type": "markdown",
   "id": "30da4018-5275-4607-a8b2-a965202c7e20",
   "metadata": {},
   "source": [
    "**ASCII = american standard code for information interchange...**"
   ]
  },
  {
   "cell_type": "markdown",
   "id": "39fb2f79-672c-443b-9e41-c24071a6868a",
   "metadata": {},
   "source": [
    "- how to convert char to number\n",
    "- how to conver number to char\n",
    "- **chr-ord**"
   ]
  },
  {
   "cell_type": "code",
   "execution_count": 20,
   "id": "3ebe1fc1-9b66-4eab-82b5-08881b057313",
   "metadata": {},
   "outputs": [
    {
     "data": {
      "text/plain": [
       "65"
      ]
     },
     "execution_count": 20,
     "metadata": {},
     "output_type": "execute_result"
    }
   ],
   "source": [
    "ord('A') # convert char to integer"
   ]
  },
  {
   "cell_type": "code",
   "execution_count": 22,
   "id": "ec2bb359-fe54-443a-931d-a6bbb2dcd525",
   "metadata": {},
   "outputs": [
    {
     "data": {
      "text/plain": [
       "'A'"
      ]
     },
     "execution_count": 22,
     "metadata": {},
     "output_type": "execute_result"
    }
   ],
   "source": [
    "chr(65) # conver integer to char "
   ]
  },
  {
   "cell_type": "code",
   "execution_count": 24,
   "id": "9948759b-97dd-4cbb-b6ad-31ca19f7f299",
   "metadata": {},
   "outputs": [
    {
     "data": {
      "text/plain": [
       "'A'"
      ]
     },
     "execution_count": 24,
     "metadata": {},
     "output_type": "execute_result"
    }
   ],
   "source": [
    "chr(65)"
   ]
  },
  {
   "cell_type": "markdown",
   "id": "bebd5ef2-5d89-4ec8-8421-1fe836ab7ed1",
   "metadata": {},
   "source": [
    "- **ord** convert char to number\n",
    "- **chr** convert number to char"
   ]
  },
  {
   "cell_type": "code",
   "execution_count": 31,
   "id": "8676ec0a-84f6-4dcb-a304-233136268b48",
   "metadata": {},
   "outputs": [
    {
     "data": {
      "text/plain": [
       "65"
      ]
     },
     "execution_count": 31,
     "metadata": {},
     "output_type": "execute_result"
    }
   ],
   "source": [
    "ord('A')"
   ]
  },
  {
   "cell_type": "code",
   "execution_count": 30,
   "id": "71891185-44a1-4930-b35a-77a9117e48cc",
   "metadata": {},
   "outputs": [
    {
     "data": {
      "text/plain": [
       "'Z'"
      ]
     },
     "execution_count": 30,
     "metadata": {},
     "output_type": "execute_result"
    }
   ],
   "source": [
    "chr(90)"
   ]
  },
  {
   "cell_type": "code",
   "execution_count": 35,
   "id": "c3817300-8eb0-4f40-9b1d-e480e69dec54",
   "metadata": {},
   "outputs": [
    {
     "name": "stdout",
     "output_type": "stream",
     "text": [
      "65 66 67 68 69 70 71 72 73 74 75 76 77 78 79 80 81 82 83 84 85 86 87 88 89 90 "
     ]
    }
   ],
   "source": [
    "# wap ask the user get the ascii from a - z\n",
    "\n",
    "ord('A')\n",
    "\n",
    "for i in range(65,91):\n",
    "    ord('i')\n",
    "    print(i,end=' ')"
   ]
  },
  {
   "cell_type": "code",
   "execution_count": 44,
   "id": "b8126cc8-23a9-49b0-9932-0d362c77fc29",
   "metadata": {},
   "outputs": [
    {
     "name": "stdout",
     "output_type": "stream",
     "text": [
      "A:65 B:66 C:67 D:68 E:69 F:70 G:71 H:72 I:73 J:74 K:75 L:76 M:77 N:78 O:79 P:80 Q:81 R:82 S:83 T:84 U:85 V:86 W:87 X:88 Y:89 Z:90 "
     ]
    }
   ],
   "source": [
    "for i in 'ABCDEFGHIJKLMNOPQRSTUVWXYZ':\n",
    "    print(f'{i}:{ord(i)}',end=' ')"
   ]
  },
  {
   "cell_type": "code",
   "execution_count": null,
   "id": "aa171800-23cb-4d9c-acf7-b8b03bc1bbc8",
   "metadata": {},
   "outputs": [],
   "source": []
  },
  {
   "cell_type": "markdown",
   "id": "34396ef5-bae4-45b9-a04a-635e3cbd495e",
   "metadata": {},
   "source": [
    "**package:string**"
   ]
  },
  {
   "cell_type": "code",
   "execution_count": null,
   "id": "f10ed330-75d0-456e-a926-3139f9cc0bdf",
   "metadata": {},
   "outputs": [],
   "source": [
    "import <packagename>\n",
    "dir<packagename>\n",
    "in that A to Z will goven by one method...\n"
   ]
  },
  {
   "cell_type": "code",
   "execution_count": 45,
   "id": "45505142-0d65-417a-bd65-72cb6a349626",
   "metadata": {},
   "outputs": [
    {
     "data": {
      "text/plain": [
       "['Formatter',\n",
       " 'Template',\n",
       " '_ChainMap',\n",
       " '__all__',\n",
       " '__builtins__',\n",
       " '__cached__',\n",
       " '__doc__',\n",
       " '__file__',\n",
       " '__loader__',\n",
       " '__name__',\n",
       " '__package__',\n",
       " '__spec__',\n",
       " '_re',\n",
       " '_sentinel_dict',\n",
       " '_string',\n",
       " 'ascii_letters',\n",
       " 'ascii_lowercase',\n",
       " 'ascii_uppercase',\n",
       " 'capwords',\n",
       " 'digits',\n",
       " 'hexdigits',\n",
       " 'octdigits',\n",
       " 'printable',\n",
       " 'punctuation',\n",
       " 'whitespace']"
      ]
     },
     "execution_count": 45,
     "metadata": {},
     "output_type": "execute_result"
    }
   ],
   "source": [
    "import string\n",
    "dir(string)"
   ]
  },
  {
   "cell_type": "code",
   "execution_count": null,
   "id": "c8bd8318-dc2b-488b-a5b8-f9754311c4e4",
   "metadata": {},
   "outputs": [],
   "source": []
  },
  {
   "cell_type": "code",
   "execution_count": null,
   "id": "9baa4481-9358-475b-8689-27f14da91485",
   "metadata": {},
   "outputs": [],
   "source": []
  },
  {
   "cell_type": "code",
   "execution_count": null,
   "id": "9feb7cf0-957a-45b3-be93-8655002bc722",
   "metadata": {},
   "outputs": [],
   "source": []
  },
  {
   "cell_type": "code",
   "execution_count": null,
   "id": "60c375fa-7b16-40af-ba3e-966b205e6911",
   "metadata": {},
   "outputs": [],
   "source": []
  },
  {
   "cell_type": "code",
   "execution_count": null,
   "id": "f575b1c8-8cf2-4eb8-9747-99016b2a06bf",
   "metadata": {},
   "outputs": [],
   "source": []
  },
  {
   "cell_type": "code",
   "execution_count": 49,
   "id": "02326a8e-e19c-434c-98a5-00e8016e6035",
   "metadata": {},
   "outputs": [
    {
     "data": {
      "text/plain": [
       "'ABCDEFGHIJKLMNOPQRSTUVWXYZ'"
      ]
     },
     "execution_count": 49,
     "metadata": {},
     "output_type": "execute_result"
    }
   ],
   "source": [
    "string.ascii_uppercase"
   ]
  },
  {
   "cell_type": "code",
   "execution_count": 50,
   "id": "1395df8e-2f00-4861-8ab9-6ffe991ab507",
   "metadata": {},
   "outputs": [
    {
     "data": {
      "text/plain": [
       "'abcdefghijklmnopqrstuvwxyz'"
      ]
     },
     "execution_count": 50,
     "metadata": {},
     "output_type": "execute_result"
    }
   ],
   "source": [
    "string.ascii_lowercase"
   ]
  },
  {
   "cell_type": "code",
   "execution_count": 51,
   "id": "f32abb68-39b5-4d02-a338-ff2138bec4d1",
   "metadata": {},
   "outputs": [
    {
     "data": {
      "text/plain": [
       "'abcdefghijklmnopqrstuvwxyzABCDEFGHIJKLMNOPQRSTUVWXYZ'"
      ]
     },
     "execution_count": 51,
     "metadata": {},
     "output_type": "execute_result"
    }
   ],
   "source": [
    "string.ascii_letters"
   ]
  },
  {
   "cell_type": "code",
   "execution_count": 52,
   "id": "0f46a613-c75f-411b-99e0-b44c32c3dcaa",
   "metadata": {},
   "outputs": [
    {
     "name": "stdout",
     "output_type": "stream",
     "text": [
      "A:65 B:66 C:67 D:68 E:69 F:70 G:71 H:72 I:73 J:74 K:75 L:76 M:77 N:78 O:79 P:80 Q:81 R:82 S:83 T:84 U:85 V:86 W:87 X:88 Y:89 Z:90 "
     ]
    }
   ],
   "source": [
    "for i in string.ascii_uppercase :\n",
    "    print(f'{i}:{ord(i)}',end=' ')"
   ]
  },
  {
   "cell_type": "code",
   "execution_count": 54,
   "id": "97c62d8f-7666-47a6-b0ce-87adb6d6c69c",
   "metadata": {},
   "outputs": [
    {
     "name": "stdout",
     "output_type": "stream",
     "text": [
      "65 66 67 68 69 70 71 72 73 74 75 76 77 78 79 80 81 82 83 84 85 86 87 88 89 90 "
     ]
    }
   ],
   "source": [
    "for i in 'ABCDEFGHIJKLMNOPQRSTUVWXYZ':\n",
    "    print(f'{ord(i)}',end=' ')"
   ]
  },
  {
   "cell_type": "code",
   "execution_count": 55,
   "id": "32788134-493b-4d9e-84fa-c3a2b5fa8cd9",
   "metadata": {},
   "outputs": [
    {
     "name": "stdout",
     "output_type": "stream",
     "text": [
      "a:97 b:98 c:99 d:100 e:101 f:102 g:103 h:104 i:105 j:106 k:107 l:108 m:109 n:110 o:111 p:112 q:113 r:114 s:115 t:116 u:117 v:118 w:119 x:120 y:121 z:122 "
     ]
    }
   ],
   "source": [
    "for i in string.ascii_lowercase :\n",
    "    print(f'{i}:{ord(i)}',end=' ')"
   ]
  },
  {
   "cell_type": "code",
   "execution_count": 56,
   "id": "1f439276-5b5e-4db1-9436-978798e00b4f",
   "metadata": {},
   "outputs": [
    {
     "data": {
      "text/plain": [
       "' \\t\\n\\r\\x0b\\x0c'"
      ]
     },
     "execution_count": 56,
     "metadata": {},
     "output_type": "execute_result"
    }
   ],
   "source": [
    "string.whitespace"
   ]
  },
  {
   "cell_type": "code",
   "execution_count": 57,
   "id": "49f3967f-854a-490a-b351-7315275d74aa",
   "metadata": {},
   "outputs": [
    {
     "name": "stdout",
     "output_type": "stream",
     "text": [
      " :32 \t:9 \n",
      ":13 \u000b",
      ":11 \f",
      ":12 "
     ]
    }
   ],
   "source": [
    "for i in string.whitespace :\n",
    "    print(f'{i}:{ord(i)}',end=' ')"
   ]
  },
  {
   "cell_type": "code",
   "execution_count": 62,
   "id": "e860e0f3-1109-40a7-91d5-85a9e9390a92",
   "metadata": {},
   "outputs": [
    {
     "name": "stdout",
     "output_type": "stream",
     "text": [
      "33:! 34:\" 35:# 36:$ 37:% 38:& 39:' 40:( 41:) 42:* 43:+ 44:, 45:- 46:. 47:/ 48:0 49:1 50:2 51:3 52:4 53:5 54:6 55:7 56:8 57:9 58:: 59:; 60:< 61:= 62:> 63:? 64:@ 65:A 66:B 67:C 68:D 69:E 70:F 71:G 72:H 73:I 74:J 75:K 76:L 77:M 78:N 79:O 80:P 81:Q 82:R 83:S 84:T 85:U 86:V 87:W 88:X 89:Y 90:Z 91:[ 92:\\ 93:] 94:^ 95:_ 96:` 97:a 98:b 99:c 100:d 101:e 102:f 103:g 104:h 105:i 106:j 107:k 108:l 109:m 110:n 111:o 112:p 113:q 114:r 115:s 116:t 117:u 118:v 119:w 120:x 121:y 122:z 123:{ 124:| 125:} 126:~ "
     ]
    }
   ],
   "source": [
    "for i in range(33,127):\n",
    "    print(f'{i}:{chr(i)}',end=' ')\n",
    "    "
   ]
  },
  {
   "cell_type": "code",
   "execution_count": 3,
   "id": "36b48a5b-1a46-4f09-afce-c2017b1d0e00",
   "metadata": {},
   "outputs": [],
   "source": [
    "for i in range(1632,1000):\n",
    "    print(f'{i}:{chr(i)}',end=' ')"
   ]
  },
  {
   "cell_type": "code",
   "execution_count": 7,
   "id": "dc5b55d0-8b2c-4c7b-bb16-e54232632aa6",
   "metadata": {},
   "outputs": [
    {
     "name": "stdout",
     "output_type": "stream",
     "text": [
      "1:\u0001 2:\u0002 3:\u0003 4:\u0004 5:\u0005 6:\u0006 7:\u0007 8 9:\t 10:\n",
      " 14:\u000e 15:\u000f 16:\u0010 17:\u0011 18:\u0012 19:\u0013 20:\u0014 21:\u0015 22:\u0016 23:\u0017 24:\u0018 25:\u0019 26:\u001a 27:\u001b 28:\u001c",
      " 29:\u001d",
      " 30:\u001e",
      " 31:\u001f 32:  33:! 34:\" 35:# 36:$ 37:% 38:& 39:' 40:( 41:) 42:* 43:+ 44:, 45:- 46:. 47:/ 48:0 49:1 50:2 51:3 52:4 53:5 54:6 55:7 56:8 57:9 58:: 59:; 60:< 61:= 62:> 63:? 64:@ 65:A 66:B 67:C 68:D 69:E 70:F 71:G 72:H 73:I 74:J 75:K 76:L 77:M 78:N 79:O 80:P 81:Q 82:R 83:S 84:T 85:U 86:V 87:W 88:X 89:Y 90:Z 91:[ 92:\\ 93:] 94:^ 95:_ 96:` 97:a 98:b 99:c 100:d 101:e 102:f 103:g 104:h 105:i 106:j 107:k 108:l 109:m 110:n 111:o 112:p 113:q 114:r 115:s 116:t 117:u 118:v 119:w 120:x 121:y 122:z 123:{ 124:| 125:} 126:~ 127: 128: 129: 130: 131: 132: 133:",
      " 134: 135: 136: 137: 138: 139: 140: 141: 142: 143: 144: 145: 146: 147: 148: 149: "
     ]
    }
   ],
   "source": [
    "for i in range(1,150):\n",
    "    print(f'{i}:{chr(i)}',end=' ')"
   ]
  },
  {
   "cell_type": "code",
   "execution_count": null,
   "id": "5d680f71-20e0-4f61-ab0e-e81ba72cc788",
   "metadata": {},
   "outputs": [],
   "source": []
  }
 ],
 "metadata": {
  "kernelspec": {
   "display_name": "Python 3 (ipykernel)",
   "language": "python",
   "name": "python3"
  },
  "language_info": {
   "codemirror_mode": {
    "name": "ipython",
    "version": 3
   },
   "file_extension": ".py",
   "mimetype": "text/x-python",
   "name": "python",
   "nbconvert_exporter": "python",
   "pygments_lexer": "ipython3",
   "version": "3.12.7"
  }
 },
 "nbformat": 4,
 "nbformat_minor": 5
}
