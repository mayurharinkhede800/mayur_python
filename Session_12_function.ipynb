{
 "cells": [
  {
   "cell_type": "markdown",
   "id": "ffdee64b-4216-4e11-9d0e-c1389c2c1ac2",
   "metadata": {},
   "source": [
    "- **function with orgument**\n",
    "- **funtion without argument**"
   ]
  },
  {
   "cell_type": "code",
   "execution_count": 9,
   "id": "114879b0-74e9-4ce9-aa0a-b4ffaaa0fd75",
   "metadata": {},
   "outputs": [
    {
     "name": "stdout",
     "output_type": "stream",
     "text": [
      "function with out orgument\n"
     ]
    },
    {
     "name": "stdin",
     "output_type": "stream",
     "text": [
      "enter the salary: 10000\n",
      "Enter the tax: 10\n"
     ]
    },
    {
     "name": "stdout",
     "output_type": "stream",
     "text": [
      "1000.0\n",
      "function with orgument\n",
      "20000.0\n",
      "function with default orgument\n",
      "10000.0\n"
     ]
    }
   ],
   "source": [
    "print(\"function with out orgument\")\n",
    "def tax_call():\n",
    "    salary = eval(input(\"enter the salary:\"))\n",
    "    tax_per = eval(input(\"Enter the tax:\"))\n",
    "    tax_per = salary * tax_per /100\n",
    "    print(f\"{tax_per}\")\n",
    "tax_call()\n",
    "\n",
    "print(\"function with orgument\")\n",
    "def tax_call1(salary,tax_per):\n",
    "    tax_per = salary * tax_per /100\n",
    "    print(f\"{tax_per}\")\n",
    "tax_call1(100000,20)\n",
    "\n",
    "print(\"function with default orgument\")\n",
    "def tax_call2(salary=100000,tax_per =10):\n",
    "    tax_per = salary * tax_per /100\n",
    "    print(f\"{tax_per}\")\n",
    "tax_call2()"
   ]
  },
  {
   "cell_type": "code",
   "execution_count": 6,
   "id": "b9ed6ea0-8505-4198-a7bb-fd90e9647178",
   "metadata": {},
   "outputs": [
    {
     "data": {
      "text/plain": [
       "(3+4j)"
      ]
     },
     "execution_count": 6,
     "metadata": {},
     "output_type": "execute_result"
    }
   ],
   "source": [
    "complex(3,4) # real = 3   imag= 4   3+4j"
   ]
  },
  {
   "cell_type": "code",
   "execution_count": 7,
   "id": "56289a83-dcf1-4fd5-90e5-a1889a0f4339",
   "metadata": {},
   "outputs": [
    {
     "data": {
      "text/plain": [
       "(3+0j)"
      ]
     },
     "execution_count": 7,
     "metadata": {},
     "output_type": "execute_result"
    }
   ],
   "source": [
    "complex(3)"
   ]
  },
  {
   "cell_type": "code",
   "execution_count": 8,
   "id": "0909c4f5-7325-459d-aade-7158279d1070",
   "metadata": {},
   "outputs": [
    {
     "data": {
      "text/plain": [
       "0j"
      ]
     },
     "execution_count": 8,
     "metadata": {},
     "output_type": "execute_result"
    }
   ],
   "source": [
    "complex()"
   ]
  },
  {
   "cell_type": "markdown",
   "id": "5135e25b-5b5f-4e6d-9b92-31e4733280ee",
   "metadata": {},
   "source": [
    "- now onward whenever you see any package always shift tab inside the bracket and observe with orgument or without orgument or default orgument"
   ]
  },
  {
   "cell_type": "code",
   "execution_count": 11,
   "id": "3068b12f-aace-4961-a3f6-6a4301ac1d8b",
   "metadata": {},
   "outputs": [
    {
     "name": "stdout",
     "output_type": "stream",
     "text": [
      "a 100\n",
      "b 200\n",
      "c 300\n",
      "the summation of 100 , 200,300 is sum : 600\n"
     ]
    }
   ],
   "source": [
    "def add(a,b,c):\n",
    "    print(\"a\",a)\n",
    "    print(\"b\",b)\n",
    "    print(\"c\",c)\n",
    "    summ = a+b+c\n",
    "    print(f\"the summation of {a} , {b},{c} is sum : {summ}\")\n",
    "add(100,200,300)"
   ]
  },
  {
   "cell_type": "markdown",
   "id": "dd5ad49e-180a-45cf-bcb9-d7404adc6736",
   "metadata": {},
   "source": [
    "**case1-1**"
   ]
  },
  {
   "cell_type": "code",
   "execution_count": 1,
   "id": "273ce01b-3f1f-446b-be46-17bd9497bfb0",
   "metadata": {},
   "outputs": [
    {
     "name": "stdout",
     "output_type": "stream",
     "text": [
      "a 100\n",
      "b 200\n",
      "c 400\n",
      "the summation of 100 , 200,400 is sum : 700\n"
     ]
    }
   ],
   "source": [
    "def add(a,b,c=400):\n",
    "    print(\"a\",a)\n",
    "    print(\"b\",b)\n",
    "    print(\"c\",c)\n",
    "    summ = a+b+c\n",
    "    print(f\"the summation of {a} , {b},{c} is sum : {summ}\")\n",
    "add(100,200)"
   ]
  },
  {
   "cell_type": "markdown",
   "id": "68aac8a2-264d-40ce-b7dc-1bc342f679ad",
   "metadata": {},
   "source": [
    "**case-2**"
   ]
  },
  {
   "cell_type": "code",
   "execution_count": 13,
   "id": "e946ebb5-49cf-4fad-9e4a-5ab8df3c88b6",
   "metadata": {},
   "outputs": [
    {
     "name": "stdout",
     "output_type": "stream",
     "text": [
      "a 100\n",
      "b 200\n",
      "c 600\n",
      "the summation of 100 , 200,600 is sum : 900\n"
     ]
    }
   ],
   "source": [
    "def add(a,b,c=400):\n",
    "    print(\"a\",a)\n",
    "    print(\"b\",b)\n",
    "    print(\"c\",c)\n",
    "    summ = a+b+c\n",
    "    print(f\"the summation of {a} , {b},{c} is sum : {summ}\")\n",
    "add(100,200,600)"
   ]
  },
  {
   "cell_type": "markdown",
   "id": "6c317bf2-299e-4dd3-bb7c-332c46ba7685",
   "metadata": {},
   "source": [
    "- in above case we already provide default value c = 400 \n",
    "- we call the function c value become c= 600\n",
    "- step -1 : define the function : while define ehat is the value :400\n",
    "- step -2 : call the finction : while call the function what is the value:600\n",
    "- step -3 : runnimg the function : while running what is the value : 600"
   ]
  },
  {
   "cell_type": "code",
   "execution_count": 14,
   "id": "86c960f3-df9a-40c9-9baa-daa73f1c1644",
   "metadata": {},
   "outputs": [
    {
     "name": "stdout",
     "output_type": "stream",
     "text": [
      "a 100\n",
      "b 200\n",
      "c 600\n",
      "the summation of 100 , 200,600 is sum : 900\n"
     ]
    }
   ],
   "source": [
    "def add1(a,b,c=400):\n",
    "    print(\"a\",a)\n",
    "    print(\"b\",b)\n",
    "    print(\"c\",c)\n",
    "    summ = a+b+c\n",
    "    print(f\"the summation of {a} , {b},{c} is sum : {summ}\")\n",
    "add1(100,200,600)"
   ]
  },
  {
   "cell_type": "markdown",
   "id": "0a74d252-ae5f-4323-b7b6-0fe031a899e2",
   "metadata": {},
   "source": [
    "**cas-3**"
   ]
  },
  {
   "cell_type": "code",
   "execution_count": 17,
   "id": "adf7f6ad-eba4-404d-946c-a3136557b132",
   "metadata": {},
   "outputs": [
    {
     "name": "stdout",
     "output_type": "stream",
     "text": [
      "a 100\n",
      "b 200\n",
      "c 1000\n",
      "the summation of 100 , 200,1000 is sum : 1300\n"
     ]
    }
   ],
   "source": [
    "def add1(a,b,c=400): # Defining \n",
    "    c=1000\n",
    "    print(\"a\",a)\n",
    "    print(\"b\",b)\n",
    "    print(\"c\",c)\n",
    "    summ = a+b+c # running \n",
    "    print(f\"the summation of {a} , {b},{c} is sum : {summ}\")\n",
    "add1(100,200,600) # calling\n",
    "# while defining c = 400\n",
    "# while calling c = 600\n",
    "#while running c = 1000"
   ]
  },
  {
   "cell_type": "code",
   "execution_count": 18,
   "id": "6592e2ed-8174-4fdd-8dae-dcd9f49b8f9e",
   "metadata": {},
   "outputs": [
    {
     "name": "stdout",
     "output_type": "stream",
     "text": [
      "a 100\n",
      "b 200\n",
      "c 1000\n",
      "the summation of 100 , 200,1000 is sum : 1300\n"
     ]
    }
   ],
   "source": [
    "def add1(a,b,c=600): # Defining \n",
    "    print(\"a\",a)\n",
    "    print(\"b\",b)\n",
    "    print(\"c\",c)\n",
    "    summ = a+b+c # running \n",
    "    print(f\"the summation of {a} , {b},{c} is sum : {summ}\")\n",
    " c=1000\n",
    "add1(100,200,1000) # calling"
   ]
  },
  {
   "cell_type": "code",
   "execution_count": 19,
   "id": "d6555fd2-3f58-45be-baed-c6c3572b4e70",
   "metadata": {},
   "outputs": [
    {
     "name": "stdout",
     "output_type": "stream",
     "text": [
      "a 100\n",
      "b 200\n",
      "c 3000\n",
      "the summation of 100 , 200,3000 is sum : 3300\n"
     ]
    }
   ],
   "source": [
    "c =3000\n",
    "def add1(a,b): # Defining \n",
    "    print(\"a\",a)\n",
    "    print(\"b\",b)\n",
    "    print(\"c\",c)\n",
    "    summ = a+b+c # running \n",
    "    print(f\"the summation of {a} , {b},{c} is sum : {summ}\")\n",
    "add1(100,200)"
   ]
  },
  {
   "cell_type": "markdown",
   "id": "30d37f5f-5c48-402c-8fca-bd37cc224e04",
   "metadata": {},
   "source": [
    "- global variable and local variable\n",
    "- **the variable out side the function is call **global variable****\n",
    "- **global variables** can use anywhere\n",
    "-  we can use inside or outside the function\n",
    "- **the variable inside the function is called **local variable****\n",
    "- **local variable** can be use only inside the function , local variable cannt be use outside the function"
   ]
  },
  {
   "cell_type": "code",
   "execution_count": 22,
   "id": "32304f1d-cb6a-468d-b1f1-342e104fde7f",
   "metadata": {},
   "outputs": [
    {
     "name": "stdout",
     "output_type": "stream",
     "text": [
      "300\n"
     ]
    }
   ],
   "source": [
    "def addition():\n",
    "    n1 = 100\n",
    "    n2 = 200  # local variable\n",
    "    summ =n1+n2\n",
    "    print(f\"the addition of {n1} and {n2} is :{summ}\")\n",
    "addition()"
   ]
  },
  {
   "cell_type": "code",
   "execution_count": 26,
   "id": "7db61000-ca76-4e85-8156-e5cbe65acd5d",
   "metadata": {},
   "outputs": [
    {
     "name": "stdout",
     "output_type": "stream",
     "text": [
      "the addition of 100 and 200 is :300\n"
     ]
    }
   ],
   "source": [
    "n1 = 100 # global variable \n",
    "n2 = 200\n",
    "def addition():\n",
    "    summ =n1+n2\n",
    "    print(f\"the addition of {n1} and {n2} is :{summ}\")\n",
    "addition()"
   ]
  },
  {
   "cell_type": "markdown",
   "id": "cfc4a963-750a-44db-82fe-eb05e97fa446",
   "metadata": {},
   "source": [
    "**global variable inside the function**"
   ]
  },
  {
   "cell_type": "code",
   "execution_count": 32,
   "id": "0ad39971-6ca7-4f41-808f-6b06ad4f7657",
   "metadata": {},
   "outputs": [
    {
     "name": "stdout",
     "output_type": "stream",
     "text": [
      "the addition of 100 and 2000 is :2100\n"
     ]
    }
   ],
   "source": [
    "n1 = 100 # global variable \n",
    "n2 = 2000\n",
    "def addition():\n",
    "    global summ  # delcare global variable inside the finction \n",
    "    summ =n1+n2\n",
    "    print(f\"the addition of {n1} and {n2} is :{summ}\")\n",
    "addition()"
   ]
  },
  {
   "cell_type": "markdown",
   "id": "85fe51fe-b901-41fc-9649-f423f3d26dbe",
   "metadata": {},
   "source": [
    "**how to convert local variable to global variable**\n",
    "- if we want to use summ variable outside the finction\n",
    "- then initialize summ as global using **global** Kayword"
   ]
  },
  {
   "cell_type": "code",
   "execution_count": 33,
   "id": "95f75b94-cc00-4854-b342-692c5398dc4a",
   "metadata": {},
   "outputs": [
    {
     "data": {
      "text/plain": [
       "2100"
      ]
     },
     "execution_count": 33,
     "metadata": {},
     "output_type": "execute_result"
    }
   ],
   "source": [
    "summ"
   ]
  },
  {
   "cell_type": "code",
   "execution_count": 35,
   "id": "fb01ca7c-9f01-4d37-b6aa-1272c5f0962b",
   "metadata": {},
   "outputs": [
    {
     "name": "stdout",
     "output_type": "stream",
     "text": [
      "100\n"
     ]
    }
   ],
   "source": [
    "s = 0\n",
    "def add():\n",
    "    global s1\n",
    "    n1 = 100\n",
    "    s1 = s+n1\n",
    "    print(s1)\n",
    "add()"
   ]
  },
  {
   "cell_type": "code",
   "execution_count": 39,
   "id": "f6e11cb8-e614-4b1f-9c60-0949b1e2cac0",
   "metadata": {},
   "outputs": [
    {
     "ename": "UnboundLocalError",
     "evalue": "cannot access local variable 's' where it is not associated with a value",
     "output_type": "error",
     "traceback": [
      "\u001b[1;31m---------------------------------------------------------------------------\u001b[0m",
      "\u001b[1;31mUnboundLocalError\u001b[0m                         Traceback (most recent call last)",
      "Cell \u001b[1;32mIn[39], line 5\u001b[0m\n\u001b[0;32m      3\u001b[0m     s\u001b[38;5;241m=\u001b[39m s\u001b[38;5;241m+\u001b[39mn1\n\u001b[0;32m      4\u001b[0m     \u001b[38;5;28mprint\u001b[39m(s)\n\u001b[1;32m----> 5\u001b[0m add()\n",
      "Cell \u001b[1;32mIn[39], line 3\u001b[0m, in \u001b[0;36madd\u001b[1;34m()\u001b[0m\n\u001b[0;32m      1\u001b[0m \u001b[38;5;28;01mdef\u001b[39;00m \u001b[38;5;21madd\u001b[39m():\n\u001b[0;32m      2\u001b[0m     n1 \u001b[38;5;241m=\u001b[39m \u001b[38;5;241m100\u001b[39m\n\u001b[1;32m----> 3\u001b[0m     s\u001b[38;5;241m=\u001b[39m s\u001b[38;5;241m+\u001b[39mn1\n\u001b[0;32m      4\u001b[0m     \u001b[38;5;28mprint\u001b[39m(s)\n",
      "\u001b[1;31mUnboundLocalError\u001b[0m: cannot access local variable 's' where it is not associated with a value"
     ]
    }
   ],
   "source": [
    "def add():\n",
    "    n1 = 100\n",
    "    s= s+n1\n",
    "    print(s)\n",
    "add()"
   ]
  },
  {
   "cell_type": "markdown",
   "id": "58655a9f-d979-42e5-b335-2848b7925f95",
   "metadata": {},
   "source": [
    "**unboundedError**\n",
    "- in below example s is not initialized\n",
    "- we might think name error will come\n",
    "- but inside finction  "
   ]
  },
  {
   "cell_type": "code",
   "execution_count": 41,
   "id": "6b8e112b-6483-4358-ab7b-50e3a7780388",
   "metadata": {},
   "outputs": [
    {
     "ename": "UnboundLocalError",
     "evalue": "cannot access local variable 'summ1' where it is not associated with a value",
     "output_type": "error",
     "traceback": [
      "\u001b[1;31m---------------------------------------------------------------------------\u001b[0m",
      "\u001b[1;31mUnboundLocalError\u001b[0m                         Traceback (most recent call last)",
      "Cell \u001b[1;32mIn[41], line 5\u001b[0m\n\u001b[0;32m      3\u001b[0m     summ1\u001b[38;5;241m=\u001b[39m summ1\u001b[38;5;241m+\u001b[39mn1\n\u001b[0;32m      4\u001b[0m     \u001b[38;5;28mprint\u001b[39m(s)\n\u001b[1;32m----> 5\u001b[0m add()\n",
      "Cell \u001b[1;32mIn[41], line 3\u001b[0m, in \u001b[0;36madd\u001b[1;34m()\u001b[0m\n\u001b[0;32m      1\u001b[0m \u001b[38;5;28;01mdef\u001b[39;00m \u001b[38;5;21madd\u001b[39m():\n\u001b[0;32m      2\u001b[0m     n1 \u001b[38;5;241m=\u001b[39m \u001b[38;5;241m100\u001b[39m\n\u001b[1;32m----> 3\u001b[0m     summ1\u001b[38;5;241m=\u001b[39m summ1\u001b[38;5;241m+\u001b[39mn1\n\u001b[0;32m      4\u001b[0m     \u001b[38;5;28mprint\u001b[39m(s)\n",
      "\u001b[1;31mUnboundLocalError\u001b[0m: cannot access local variable 'summ1' where it is not associated with a value"
     ]
    }
   ],
   "source": [
    "def add():\n",
    "    n1 = 100\n",
    "    summ1= summ1+n1\n",
    "    print(s)\n",
    "add()"
   ]
  },
  {
   "cell_type": "code",
   "execution_count": 42,
   "id": "f8bf3c6b-2722-4a1e-9c1f-959a8634d45c",
   "metadata": {},
   "outputs": [
    {
     "ename": "NameError",
     "evalue": "name 'summ1' is not defined",
     "output_type": "error",
     "traceback": [
      "\u001b[1;31m---------------------------------------------------------------------------\u001b[0m",
      "\u001b[1;31mNameError\u001b[0m                                 Traceback (most recent call last)",
      "Cell \u001b[1;32mIn[42], line 5\u001b[0m\n\u001b[0;32m      3\u001b[0m     s\u001b[38;5;241m=\u001b[39m summ1\u001b[38;5;241m+\u001b[39mn1\n\u001b[0;32m      4\u001b[0m     \u001b[38;5;28mprint\u001b[39m(s)\n\u001b[1;32m----> 5\u001b[0m add()\n",
      "Cell \u001b[1;32mIn[42], line 3\u001b[0m, in \u001b[0;36madd\u001b[1;34m()\u001b[0m\n\u001b[0;32m      1\u001b[0m \u001b[38;5;28;01mdef\u001b[39;00m \u001b[38;5;21madd\u001b[39m():\n\u001b[0;32m      2\u001b[0m     n1 \u001b[38;5;241m=\u001b[39m \u001b[38;5;241m100\u001b[39m\n\u001b[1;32m----> 3\u001b[0m     s\u001b[38;5;241m=\u001b[39m summ1\u001b[38;5;241m+\u001b[39mn1\n\u001b[0;32m      4\u001b[0m     \u001b[38;5;28mprint\u001b[39m(s)\n",
      "\u001b[1;31mNameError\u001b[0m: name 'summ1' is not defined"
     ]
    }
   ],
   "source": [
    "def add():\n",
    "    n1 = 100\n",
    "    s= summ1+n1\n",
    "    print(s)\n",
    "add()"
   ]
  },
  {
   "cell_type": "code",
   "execution_count": 43,
   "id": "ef4be137-63a9-412d-bd50-d15a758ae152",
   "metadata": {},
   "outputs": [
    {
     "ename": "UnboundLocalError",
     "evalue": "cannot access local variable 'summ1' where it is not associated with a value",
     "output_type": "error",
     "traceback": [
      "\u001b[1;31m---------------------------------------------------------------------------\u001b[0m",
      "\u001b[1;31mUnboundLocalError\u001b[0m                         Traceback (most recent call last)",
      "Cell \u001b[1;32mIn[43], line 5\u001b[0m\n\u001b[0;32m      3\u001b[0m     summ1\u001b[38;5;241m=\u001b[39m summ1\u001b[38;5;241m+\u001b[39mn1\n\u001b[0;32m      4\u001b[0m     \u001b[38;5;28mprint\u001b[39m(s)\n\u001b[1;32m----> 5\u001b[0m add()\n",
      "Cell \u001b[1;32mIn[43], line 3\u001b[0m, in \u001b[0;36madd\u001b[1;34m()\u001b[0m\n\u001b[0;32m      1\u001b[0m \u001b[38;5;28;01mdef\u001b[39;00m \u001b[38;5;21madd\u001b[39m():\n\u001b[0;32m      2\u001b[0m     n1 \u001b[38;5;241m=\u001b[39m \u001b[38;5;241m100\u001b[39m\n\u001b[1;32m----> 3\u001b[0m     summ1\u001b[38;5;241m=\u001b[39m summ1\u001b[38;5;241m+\u001b[39mn1\n\u001b[0;32m      4\u001b[0m     \u001b[38;5;28mprint\u001b[39m(s)\n",
      "\u001b[1;31mUnboundLocalError\u001b[0m: cannot access local variable 'summ1' where it is not associated with a value"
     ]
    }
   ],
   "source": [
    "def add():\n",
    "    n1 = 100\n",
    "    summ1= summ1+n1\n",
    "    print(s)\n",
    "add()"
   ]
  },
  {
   "cell_type": "code",
   "execution_count": null,
   "id": "33f44910-158c-4d62-83d1-fa6ba2cb6c84",
   "metadata": {},
   "outputs": [],
   "source": [
    "def add():\n",
    "    n1 = 100\n",
    "    s= summ1+n1\n",
    "    print(s)\n",
    "add()\n",
    "###########################\n",
    "def add():\n",
    "    n1 = 100\n",
    "    summ1= summ1+n1\n",
    "    print(s)\n",
    "add()\n",
    "##########################################"
   ]
  },
  {
   "cell_type": "code",
   "execution_count": 44,
   "id": "cb78a8c1-7d8d-4f54-911b-17b7c258d605",
   "metadata": {},
   "outputs": [
    {
     "name": "stdout",
     "output_type": "stream",
     "text": [
      "200\n"
     ]
    }
   ],
   "source": [
    "def add():\n",
    "    n1 = 100\n",
    "    summ2 = 100\n",
    "    summ2= summ2+n1\n",
    "    print(summ2)\n",
    "add()"
   ]
  },
  {
   "cell_type": "code",
   "execution_count": 45,
   "id": "73f1dc45-e5f0-49b3-b259-649ba6c64d66",
   "metadata": {},
   "outputs": [
    {
     "name": "stdout",
     "output_type": "stream",
     "text": [
      "60 20.0\n"
     ]
    }
   ],
   "source": [
    "def avg(a,b,c):\n",
    "    add = a+b+c\n",
    "    avg1 = add/3\n",
    "    print(add,avg1)\n",
    "avg(10,20,30)"
   ]
  },
  {
   "cell_type": "code",
   "execution_count": 46,
   "id": "4495ab4f-9671-412b-a3bb-36a6e053dfec",
   "metadata": {},
   "outputs": [
    {
     "name": "stdout",
     "output_type": "stream",
     "text": [
      "60 20.0\n"
     ]
    }
   ],
   "source": [
    "def avg(a,b,c):\n",
    "    global add , avg1\n",
    "    add = a+b+c\n",
    "    avg1 = add/3\n",
    "    print(add,avg1)\n",
    "avg(10,20,30)"
   ]
  },
  {
   "cell_type": "code",
   "execution_count": 47,
   "id": "4cdf012f-faf4-417e-9b55-e6d0d72780b5",
   "metadata": {},
   "outputs": [
    {
     "data": {
      "text/plain": [
       "(60, 20.0)"
      ]
     },
     "execution_count": 47,
     "metadata": {},
     "output_type": "execute_result"
    }
   ],
   "source": [
    "add,avg1"
   ]
  },
  {
   "cell_type": "code",
   "execution_count": 5,
   "id": "1861a574-dca2-46be-a376-2710049ffc3e",
   "metadata": {},
   "outputs": [
    {
     "name": "stdin",
     "output_type": "stream",
     "text": [
      "enter the number : 2\n"
     ]
    },
    {
     "name": "stdout",
     "output_type": "stream",
     "text": [
      "even number\n"
     ]
    }
   ],
   "source": [
    "# wap ask the user enter a number \n",
    "# print it is an even or odd \n",
    "# a) function with out orgument with orgument with default \n",
    "\n",
    "def evenOdd():\n",
    "    number = eval(input(\"enter the number :\"))\n",
    "    if number % 2 ==0:\n",
    "        print(\"even number\")\n",
    "    else:\n",
    "        print(\"odd number\")\n",
    "evenOdd()"
   ]
  },
  {
   "cell_type": "code",
   "execution_count": 8,
   "id": "e92711a1-a37d-4259-9244-62838e4dece8",
   "metadata": {},
   "outputs": [
    {
     "name": "stdout",
     "output_type": "stream",
     "text": [
      "odd number\n"
     ]
    }
   ],
   "source": [
    "def evenOdd(number):\n",
    "    if number % 2 ==0:\n",
    "        print(\"even number\")\n",
    "    else:\n",
    "        print(\"odd number\")\n",
    "evenOdd(45)"
   ]
  },
  {
   "cell_type": "code",
   "execution_count": 9,
   "id": "54dfc105-5844-4017-ae8b-3da00dc7b963",
   "metadata": {},
   "outputs": [
    {
     "name": "stdout",
     "output_type": "stream",
     "text": [
      "odd number\n"
     ]
    }
   ],
   "source": [
    "def evenOdd(number =5 ):\n",
    "    if number % 2 ==0:\n",
    "        print(\"even number\")\n",
    "    else:\n",
    "        print(\"odd number\")\n",
    "evenOdd()"
   ]
  },
  {
   "cell_type": "code",
   "execution_count": null,
   "id": "04e20e4f-ead7-4050-8246-3c12a8f85288",
   "metadata": {},
   "outputs": [],
   "source": [
    "def evenOdd(number =5 ):\n",
    "    global number\n",
    "    if number % 2 ==0:\n",
    "        print(\"even number\")\n",
    "    else:\n",
    "        print(\"odd number\")\n",
    "evenOdd()"
   ]
  },
  {
   "cell_type": "markdown",
   "id": "af91c78f-7e60-49c7-803e-66694df1d3d0",
   "metadata": {},
   "source": [
    "**prameter vs variable**"
   ]
  },
  {
   "cell_type": "markdown",
   "id": "d4484364-ffa4-4f01-a478-99b117cb93da",
   "metadata": {},
   "source": [
    "- parameter also called as argumument\n",
    "    - this always inside the function bracket\n",
    "- variable either outside the function or inside the function\n",
    "\n"
   ]
  },
  {
   "cell_type": "markdown",
   "id": "b33b9b79-4cbe-4dbd-a3f5-0995636eb8c1",
   "metadata": {},
   "source": [
    "**return keyword**\n",
    "- return means function is giving something\n",
    "- we knows that local variable cant use outside the finction\n",
    "- in order to use local variable outside the function we have two methods\n",
    "    - using **global**\n",
    "    - using **return**"
   ]
  },
  {
   "cell_type": "code",
   "execution_count": 13,
   "id": "ff0e8f36-9e49-4d69-882e-f2fe4f9ba47a",
   "metadata": {},
   "outputs": [
    {
     "name": "stdout",
     "output_type": "stream",
     "text": [
      "30\n"
     ]
    }
   ],
   "source": [
    "def add():\n",
    "    a = 10\n",
    "    b = 20 \n",
    "    c = a + b\n",
    "    print(c)\n",
    "add()"
   ]
  },
  {
   "cell_type": "code",
   "execution_count": 14,
   "id": "a76543c5-5468-4dd3-b281-4db5aef128f0",
   "metadata": {},
   "outputs": [],
   "source": [
    "def add():\n",
    "    a = 10\n",
    "    b = 20 \n",
    "    c = a + b\n",
    "    return(c)\n",
    "value = add()"
   ]
  },
  {
   "cell_type": "code",
   "execution_count": 17,
   "id": "07c0238b-8142-4677-ba31-aacfaedaea13",
   "metadata": {},
   "outputs": [
    {
     "data": {
      "text/plain": [
       "(10, 20)"
      ]
     },
     "execution_count": 17,
     "metadata": {},
     "output_type": "execute_result"
    }
   ],
   "source": [
    "value = 10 ,20 \n",
    "value"
   ]
  },
  {
   "cell_type": "code",
   "execution_count": 18,
   "id": "865195a0-0a7b-4197-bcca-f012eb83f681",
   "metadata": {},
   "outputs": [
    {
     "data": {
      "text/plain": [
       "10"
      ]
     },
     "execution_count": 18,
     "metadata": {},
     "output_type": "execute_result"
    }
   ],
   "source": [
    "val1,val2 = 10,20\n",
    "val1"
   ]
  },
  {
   "cell_type": "code",
   "execution_count": 19,
   "id": "baebd427-1f41-4f89-b2f7-7d05b9265061",
   "metadata": {},
   "outputs": [
    {
     "data": {
      "text/plain": [
       "20"
      ]
     },
     "execution_count": 19,
     "metadata": {},
     "output_type": "execute_result"
    }
   ],
   "source": [
    "val2"
   ]
  },
  {
   "cell_type": "code",
   "execution_count": 21,
   "id": "90fbfb35-a32a-442f-bf42-0d997b55943e",
   "metadata": {},
   "outputs": [
    {
     "ename": "TypeError",
     "evalue": "cannot unpack non-iterable int object",
     "output_type": "error",
     "traceback": [
      "\u001b[1;31m---------------------------------------------------------------------------\u001b[0m",
      "\u001b[1;31mTypeError\u001b[0m                                 Traceback (most recent call last)",
      "Cell \u001b[1;32mIn[21], line 1\u001b[0m\n\u001b[1;32m----> 1\u001b[0m val1,val2\u001b[38;5;241m=\u001b[39m\u001b[38;5;241m10\u001b[39m\n\u001b[0;32m      2\u001b[0m val1\n",
      "\u001b[1;31mTypeError\u001b[0m: cannot unpack non-iterable int object"
     ]
    }
   ],
   "source": [
    "val1,val2=10\n",
    "val1"
   ]
  },
  {
   "cell_type": "code",
   "execution_count": 2,
   "id": "3fef76ca-643b-4252-ba31-050897287315",
   "metadata": {},
   "outputs": [
    {
     "name": "stdout",
     "output_type": "stream",
     "text": [
      "10\n",
      "30\n"
     ]
    }
   ],
   "source": [
    "def add():\n",
    "    a = 10\n",
    "    b = 20\n",
    "    c = a + b\n",
    "    return(a,c)\n",
    "a,c = add()\n",
    "print(a)\n",
    "print(c)"
   ]
  },
  {
   "cell_type": "code",
   "execution_count": 37,
   "id": "d3988034-06ea-44f8-976a-d2d9796d250e",
   "metadata": {},
   "outputs": [
    {
     "name": "stdout",
     "output_type": "stream",
     "text": [
      "60\n",
      "20.0\n"
     ]
    }
   ],
   "source": [
    "def avg(a,b,c):\n",
    "    summ=a+b+c\n",
    "    avg1=summ/3\n",
    "    return(summ,avg1)\n",
    "s,av=avg(10,20,30)\n",
    "print(s)\n",
    "print(av)"
   ]
  },
  {
   "cell_type": "code",
   "execution_count": 41,
   "id": "342b8cc9-4b0f-4383-a6d6-c4532524673e",
   "metadata": {},
   "outputs": [
    {
     "name": "stdin",
     "output_type": "stream",
     "text": [
      "enter a num 5\n"
     ]
    },
    {
     "name": "stdout",
     "output_type": "stream",
     "text": [
      "5 is odd\n"
     ]
    }
   ],
   "source": [
    "def even_odd():\n",
    "    num2 = eval(input(\"enter a num\"))\n",
    "    if num2 % 2 ==0:\n",
    "        print(f\"{num2} is even\")\n",
    "        return(num2)\n",
    "    else:\n",
    "        print(f\"{num2} is odd\")\n",
    "        return(num2)\n",
    "   \n",
    "num=even_odd()"
   ]
  },
  {
   "cell_type": "code",
   "execution_count": 42,
   "id": "7c8b562a-767b-4ec2-9848-da842e79fe9e",
   "metadata": {},
   "outputs": [
    {
     "name": "stdin",
     "output_type": "stream",
     "text": [
      "enter a num 520\n"
     ]
    },
    {
     "name": "stdout",
     "output_type": "stream",
     "text": [
      "520 is even\n",
      "530\n"
     ]
    }
   ],
   "source": [
    "def even_odd():\n",
    "    num2 = eval(input(\"enter a num\"))\n",
    "    if num2 % 2 ==0:\n",
    "        val=10\n",
    "        print(f\"{num2} is even\")\n",
    "        return(num2+10)\n",
    "    else:\n",
    "        val=20\n",
    "        print(f\"{num2} is odd\")\n",
    "        return(num2+20)\n",
    "   \n",
    "num=even_odd()\n",
    "print(num)"
   ]
  },
  {
   "cell_type": "markdown",
   "id": "cfe67f1f-507b-4392-afb6-d5e26d22a614",
   "metadata": {},
   "source": [
    "**recursive program/function in function**"
   ]
  },
  {
   "cell_type": "code",
   "execution_count": 43,
   "id": "d0a414b5-73ac-408c-9507-6bbe7bcf256f",
   "metadata": {},
   "outputs": [
    {
     "name": "stdout",
     "output_type": "stream",
     "text": [
      "hello good mornng\n",
      "hello good night\n"
     ]
    }
   ],
   "source": [
    "def greet1():\n",
    "    print(\"hello good mornng\")\n",
    "\n",
    "def greet2():\n",
    "    print(\"hello good night\")\n",
    "greet1()\n",
    "greet2()"
   ]
  },
  {
   "cell_type": "code",
   "execution_count": 44,
   "id": "3a2bca5d-803f-4549-b727-5eba3b377b8a",
   "metadata": {},
   "outputs": [
    {
     "name": "stdout",
     "output_type": "stream",
     "text": [
      "hello good night\n",
      "hello good mornng\n"
     ]
    }
   ],
   "source": [
    "def greet1():\n",
    "    print(\"hello good mornng\")\n",
    "def greet2():\n",
    "    print(\"hello good night\")\n",
    "    greet1()\n",
    "greet2()"
   ]
  },
  {
   "cell_type": "code",
   "execution_count": 54,
   "id": "9fc42e60-7a03-4f33-be8e-3c584055d62d",
   "metadata": {},
   "outputs": [
    {
     "name": "stdout",
     "output_type": "stream",
     "text": [
      "hello good mornng\n",
      "hello good night\n",
      "hello good night\n"
     ]
    }
   ],
   "source": [
    "def greet11():\n",
    "    print(\"hello good mornng\")\n",
    "    greet22()\n",
    "def greet22():\n",
    "    print(\"hello good night\")\n",
    "    # greet1() # go to infinit loop\n",
    "greet11()\n",
    "greet22()"
   ]
  },
  {
   "cell_type": "code",
   "execution_count": 59,
   "id": "193c7504-d601-46a4-9252-d0048ef1cf4f",
   "metadata": {},
   "outputs": [
    {
     "ename": "NameError",
     "evalue": "name 'greet' is not defined",
     "output_type": "error",
     "traceback": [
      "\u001b[1;31m---------------------------------------------------------------------------\u001b[0m",
      "\u001b[1;31mNameError\u001b[0m                                 Traceback (most recent call last)",
      "Cell \u001b[1;32mIn[59], line 4\u001b[0m\n\u001b[0;32m      2\u001b[0m     \u001b[38;5;28mprint\u001b[39m(\u001b[38;5;124m\"\u001b[39m\u001b[38;5;124mi dont know what im doing\u001b[39m\u001b[38;5;124m\"\u001b[39m)\n\u001b[0;32m      3\u001b[0m     greet3()\n\u001b[1;32m----> 4\u001b[0m greet\n",
      "\u001b[1;31mNameError\u001b[0m: name 'greet' is not defined"
     ]
    }
   ],
   "source": [
    "def greet3():\n",
    "    print(\"i dont know what im doing\")\n",
    "    greet3()\n",
    "greet()"
   ]
  },
  {
   "cell_type": "code",
   "execution_count": null,
   "id": "c67aed97-6a80-4b3a-b7e0-ade6677d965a",
   "metadata": {},
   "outputs": [],
   "source": [
    "print"
   ]
  },
  {
   "cell_type": "code",
   "execution_count": 64,
   "id": "336911bd-8f2a-412e-948f-977b9b74d076",
   "metadata": {},
   "outputs": [
    {
     "data": {
      "text/plain": [
       "15"
      ]
     },
     "execution_count": 64,
     "metadata": {},
     "output_type": "execute_result"
    }
   ],
   "source": [
    "def add(n):\n",
    "    if n==0 :\n",
    "        return 0\n",
    "    else:\n",
    "        return (n+add(n-1))\n",
    "add(5)"
   ]
  },
  {
   "cell_type": "code",
   "execution_count": 4,
   "id": "fc8e0eba-3df1-4591-aca6-7ad0a1f0088d",
   "metadata": {},
   "outputs": [
    {
     "name": "stdout",
     "output_type": "stream",
     "text": [
      "60\n"
     ]
    }
   ],
   "source": [
    "def calc_sum(a,b):\n",
    "    summ = a + b \n",
    "    print(summ)\n",
    "calc_sum(10,50)"
   ]
  },
  {
   "cell_type": "code",
   "execution_count": null,
   "id": "f69da0b6-7414-4639-90ca-08f22ecb4961",
   "metadata": {},
   "outputs": [],
   "source": []
  },
  {
   "cell_type": "code",
   "execution_count": null,
   "id": "9b370fde-bd2d-4ebb-b207-49a9bc582446",
   "metadata": {},
   "outputs": [],
   "source": []
  },
  {
   "cell_type": "code",
   "execution_count": null,
   "id": "0edb0516-df90-4cd8-81c8-620bca120992",
   "metadata": {},
   "outputs": [],
   "source": []
  },
  {
   "cell_type": "code",
   "execution_count": null,
   "id": "834bcbc1-b3f8-4bcb-ae00-a9e24516414c",
   "metadata": {},
   "outputs": [],
   "source": []
  },
  {
   "cell_type": "code",
   "execution_count": null,
   "id": "f1ff2a17-c6ab-4e8e-877a-a1aa0f9d57ef",
   "metadata": {},
   "outputs": [],
   "source": []
  }
 ],
 "metadata": {
  "kernelspec": {
   "display_name": "Python 3 (ipykernel)",
   "language": "python",
   "name": "python3"
  },
  "language_info": {
   "codemirror_mode": {
    "name": "ipython",
    "version": 3
   },
   "file_extension": ".py",
   "mimetype": "text/x-python",
   "name": "python",
   "nbconvert_exporter": "python",
   "pygments_lexer": "ipython3",
   "version": "3.12.7"
  }
 },
 "nbformat": 4,
 "nbformat_minor": 5
}
