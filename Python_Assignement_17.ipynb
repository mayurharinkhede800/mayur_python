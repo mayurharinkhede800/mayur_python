{
 "cells": [
  {
   "cell_type": "code",
   "execution_count": null,
   "id": "e926e0f6-d83b-4416-9f81-ef51268c5c8b",
   "metadata": {},
   "outputs": [],
   "source": []
  },
  {
   "cell_type": "code",
   "execution_count": 17,
   "id": "2f5aac37-74bd-4bea-a3b2-24b0eda65353",
   "metadata": {},
   "outputs": [
    {
     "name": "stdout",
     "output_type": "stream",
     "text": [
      "[1, 4, 5, 5, 8, 9, 10, 20, 30, 50, 60, 70]\n"
     ]
    }
   ],
   "source": [
    "# how to sort the list\n",
    "list1=[50,60,10,30,20,1,4,5,9,8,70,5]\n",
    "for i in range(len(list1)):\n",
    "    for j in range(len(list1)-1-i):\n",
    "        if list1[j]>list1[j+1]:\n",
    "            list1[j],list1[j+1]=list1[j+1],list1[j]\n",
    "print(list1)        "
   ]
  },
  {
   "cell_type": "code",
   "execution_count": 20,
   "id": "05e4871f-c4ea-4e52-91a3-b11eb71aa68b",
   "metadata": {},
   "outputs": [
    {
     "data": {
      "text/plain": [
       "99"
      ]
     },
     "execution_count": 20,
     "metadata": {},
     "output_type": "execute_result"
    }
   ],
   "source": [
    "# how to find the maximum value of the list\n",
    "list1=[55,2,3,6,9,7,44,5,88,66,8,6,99]\n",
    "maxx_num=list1[0]\n",
    "for i in list1:\n",
    "    if i> maxx_num:\n",
    "        maxx_num=i\n",
    "maxx_num"
   ]
  },
  {
   "cell_type": "code",
   "execution_count": 23,
   "id": "1499e072-a43a-47c6-8f1c-c416ec3fb95c",
   "metadata": {},
   "outputs": [
    {
     "data": {
      "text/plain": [
       "1"
      ]
     },
     "execution_count": 23,
     "metadata": {},
     "output_type": "execute_result"
    }
   ],
   "source": [
    "# how to find the minimum value of the list\n",
    "list1=[55,2,1,3,6,9,7,44,5,88,66,8,6,99]\n",
    "minn_num=list1[0]\n",
    "for i in list1:\n",
    "    if i < minn_num :\n",
    "        minn_num=i\n",
    "minn_num"
   ]
  },
  {
   "cell_type": "code",
   "execution_count": 75,
   "id": "b1e68d63-066c-4f66-96b8-994a375f9965",
   "metadata": {},
   "outputs": [
    {
     "data": {
      "text/plain": [
       "98"
      ]
     },
     "execution_count": 75,
     "metadata": {},
     "output_type": "execute_result"
    }
   ],
   "source": [
    "# how to find the second maximum value of the list\n",
    "list1=[55,2,3,6,9,7,44,5,88,66,8,6,98,99]\n",
    "smax = list1[0]\n",
    "maxx=list1[0]\n",
    "\n",
    "for i in range(len(list1)):\n",
    "    if list1[i]>maxx:\n",
    "        smax,maxx=maxx,list1[i]\n",
    "    elif list1[i]>maxx:\n",
    "        smax=maxx\n",
    "smax"
   ]
  },
  {
   "cell_type": "code",
   "execution_count": 78,
   "id": "9111b123-6e26-4979-98bd-0a3fe68550fe",
   "metadata": {},
   "outputs": [
    {
     "data": {
      "text/plain": [
       "2"
      ]
     },
     "execution_count": 78,
     "metadata": {},
     "output_type": "execute_result"
    }
   ],
   "source": [
    "# how to find the second minimum value of the list\n",
    "list1=[55,2,1,3,6,9,7,44,5,88,66,8,6,98,99]\n",
    "smin=list1[0]\n",
    "minn=list1[0]\n",
    "for i in list1:\n",
    "    if i < minn:\n",
    "        smin=minn\n",
    "        minn=i\n",
    "    elif i <smin:\n",
    "        smin=i\n",
    "smin"
   ]
  },
  {
   "cell_type": "code",
   "execution_count": 76,
   "id": "bb7aa89e-1052-44ff-a6ca-c4d89ebcd210",
   "metadata": {},
   "outputs": [
    {
     "data": {
      "text/plain": [
       "'programming'"
      ]
     },
     "execution_count": 76,
     "metadata": {},
     "output_type": "execute_result"
    }
   ],
   "source": [
    "# how to find the longest word of a string\n",
    "string1='this is python programming'\n",
    "s=string1.split()\n",
    "maxx=0\n",
    "for i in s:\n",
    "    for c in i:\n",
    "        count =count+1  \n",
    "    if count>maxx:\n",
    "        maxx=count\n",
    "        maxx_word = i\n",
    "maxx_word"
   ]
  },
  {
   "cell_type": "code",
   "execution_count": 77,
   "id": "21bb438e-7c92-4009-9473-7c541ea508f2",
   "metadata": {},
   "outputs": [
    {
     "name": "stdout",
     "output_type": "stream",
     "text": [
      "max repetating char is can:4\n"
     ]
    }
   ],
   "source": [
    "# how to find the most repeated word of a string\n",
    "text1='can canner can you can not canner with you but you can the canner'\n",
    "str1=text1.split()\n",
    "max_char=\"\"\n",
    "max_count=0\n",
    "for i in str1:\n",
    "    if i not in ch:\n",
    "        count =0\n",
    "        for j in str1:\n",
    "            if j == i:\n",
    "                count = count + 1\n",
    "        if count>max_count:\n",
    "            max_count = count\n",
    "            max_char = i        \n",
    "print(f'max repetating char is {max_char}:{max_count}')\n"
   ]
  },
  {
   "cell_type": "code",
   "execution_count": null,
   "id": "a86ef606-20a9-4b7b-853d-5d979327c9f7",
   "metadata": {},
   "outputs": [],
   "source": []
  }
 ],
 "metadata": {
  "kernelspec": {
   "display_name": "Python 3 (ipykernel)",
   "language": "python",
   "name": "python3"
  },
  "language_info": {
   "codemirror_mode": {
    "name": "ipython",
    "version": 3
   },
   "file_extension": ".py",
   "mimetype": "text/x-python",
   "name": "python",
   "nbconvert_exporter": "python",
   "pygments_lexer": "ipython3",
   "version": "3.12.7"
  }
 },
 "nbformat": 4,
 "nbformat_minor": 5
}
