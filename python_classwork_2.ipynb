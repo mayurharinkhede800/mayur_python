{
 "cells": [
  {
   "cell_type": "code",
   "execution_count": 2,
   "id": "a885efd2-360e-4e1d-a9dd-06a377f5b0b8",
   "metadata": {},
   "outputs": [
    {
     "data": {
      "text/plain": [
       "'i love python'"
      ]
     },
     "execution_count": 2,
     "metadata": {},
     "output_type": "execute_result"
    }
   ],
   "source": [
    "str = 'i love python'\n",
    "str"
   ]
  },
  {
   "cell_type": "code",
   "execution_count": 3,
   "id": "8b7de25d-10e6-4663-8664-e941bdc653ca",
   "metadata": {},
   "outputs": [
    {
     "name": "stdout",
     "output_type": "stream",
     "text": [
      "i love python\n"
     ]
    }
   ],
   "source": [
    "print(str)"
   ]
  },
  {
   "cell_type": "code",
   "execution_count": 4,
   "id": "554d0f33-9b31-463f-ba88-3967b3f3e808",
   "metadata": {},
   "outputs": [
    {
     "data": {
      "text/plain": [
       "'i love \"python\"'"
      ]
     },
     "execution_count": 4,
     "metadata": {},
     "output_type": "execute_result"
    }
   ],
   "source": [
    "str1 = 'i love \"python\"'\n",
    "str1"
   ]
  },
  {
   "cell_type": "code",
   "execution_count": 5,
   "id": "c584740d-f273-4b44-8891-5f5481f49892",
   "metadata": {},
   "outputs": [
    {
     "data": {
      "text/plain": [
       "\"i love 'pyhton'\""
      ]
     },
     "execution_count": 5,
     "metadata": {},
     "output_type": "execute_result"
    }
   ],
   "source": [
    "str2 = \"i love 'pyhton'\"\n",
    "str2"
   ]
  },
  {
   "cell_type": "code",
   "execution_count": 6,
   "id": "5365bb68-3af3-4128-9272-2877437006ba",
   "metadata": {},
   "outputs": [
    {
     "name": "stdout",
     "output_type": "stream",
     "text": [
      "i love 'pyhton'\n"
     ]
    }
   ],
   "source": [
    "print(str2)"
   ]
  },
  {
   "cell_type": "code",
   "execution_count": null,
   "id": "d20084a3-4e0a-4ac1-9fec-9daacfdf3be5",
   "metadata": {},
   "outputs": [],
   "source": [
    "''' python is good language\n",
    "easy to code'''"
   ]
  },
  {
   "cell_type": "code",
   "execution_count": 7,
   "id": "72ef4593-a1a4-45b0-96b4-e84d7ed193fd",
   "metadata": {},
   "outputs": [
    {
     "data": {
      "text/plain": [
       "str"
      ]
     },
     "execution_count": 7,
     "metadata": {},
     "output_type": "execute_result"
    }
   ],
   "source": [
    "str3 = 'python'\n",
    "type(str3)"
   ]
  },
  {
   "cell_type": "code",
   "execution_count": 8,
   "id": "95d045e2-39c9-4136-9480-3334df86cc28",
   "metadata": {},
   "outputs": [
    {
     "data": {
      "text/plain": [
       "6"
      ]
     },
     "execution_count": 8,
     "metadata": {},
     "output_type": "execute_result"
    }
   ],
   "source": [
    "len(str3)"
   ]
  },
  {
   "cell_type": "code",
   "execution_count": 9,
   "id": "44e1e5f7-4ae7-4e02-b184-f6dc1be16d27",
   "metadata": {},
   "outputs": [
    {
     "data": {
      "text/plain": [
       "'h'"
      ]
     },
     "execution_count": 9,
     "metadata": {},
     "output_type": "execute_result"
    }
   ],
   "source": [
    "min(str3)"
   ]
  },
  {
   "cell_type": "code",
   "execution_count": 10,
   "id": "360e4c22-408c-4f5b-9148-4f5b253856a4",
   "metadata": {},
   "outputs": [
    {
     "data": {
      "text/plain": [
       "'y'"
      ]
     },
     "execution_count": 10,
     "metadata": {},
     "output_type": "execute_result"
    }
   ],
   "source": [
    "max(str3)"
   ]
  },
  {
   "cell_type": "code",
   "execution_count": 11,
   "id": "fc4955d4-5940-47b1-a13e-d2f7740fb14e",
   "metadata": {},
   "outputs": [
    {
     "data": {
      "text/plain": [
       "['h', 'n', 'o', 'p', 't', 'y']"
      ]
     },
     "execution_count": 11,
     "metadata": {},
     "output_type": "execute_result"
    }
   ],
   "source": [
    "sorted(str3)"
   ]
  },
  {
   "cell_type": "code",
   "execution_count": null,
   "id": "811e5c03-7a78-4ba3-a10c-3f196feab4d1",
   "metadata": {},
   "outputs": [],
   "source": []
  },
  {
   "cell_type": "code",
   "execution_count": 16,
   "id": "d792579d-928d-4eff-a7e9-3f306cb465ab",
   "metadata": {},
   "outputs": [
    {
     "data": {
      "text/plain": [
       "['y', 't', 'p', 'o', 'n', 'h']"
      ]
     },
     "execution_count": 16,
     "metadata": {},
     "output_type": "execute_result"
    }
   ],
   "source": [
    "str5 = sorted('pyhton',reverse=True)\n",
    "str5"
   ]
  },
  {
   "cell_type": "code",
   "execution_count": 21,
   "id": "58a7ccd6-f737-4b17-8e71-80e1a8eed85a",
   "metadata": {},
   "outputs": [
    {
     "name": "stdout",
     "output_type": "stream",
     "text": [
      "n o h t y p "
     ]
    }
   ],
   "source": [
    "ans = reversed('python')\n",
    "for i in ans:\n",
    "    print(i,end=' ')"
   ]
  },
  {
   "cell_type": "code",
   "execution_count": 23,
   "id": "3c11d248-792d-453e-8f09-7c7a29aa142f",
   "metadata": {},
   "outputs": [
    {
     "data": {
      "text/plain": [
       "'i love python'"
      ]
     },
     "execution_count": 23,
     "metadata": {},
     "output_type": "execute_result"
    }
   ],
   "source": [
    "str6='i love '\n",
    "str7='python'\n",
    "str6+str7"
   ]
  },
  {
   "cell_type": "code",
   "execution_count": 28,
   "id": "07fa5826-9dd4-4e4f-b88f-3550ec954256",
   "metadata": {},
   "outputs": [
    {
     "data": {
      "text/plain": [
       "'i lovei love'"
      ]
     },
     "execution_count": 28,
     "metadata": {},
     "output_type": "execute_result"
    }
   ],
   "source": [
    "str6* 2"
   ]
  },
  {
   "cell_type": "code",
   "execution_count": null,
   "id": "3987c4e4-a7f2-4c3e-865d-32275a9debd1",
   "metadata": {},
   "outputs": [],
   "source": []
  }
 ],
 "metadata": {
  "kernelspec": {
   "display_name": "Python 3 (ipykernel)",
   "language": "python",
   "name": "python3"
  },
  "language_info": {
   "codemirror_mode": {
    "name": "ipython",
    "version": 3
   },
   "file_extension": ".py",
   "mimetype": "text/x-python",
   "name": "python",
   "nbconvert_exporter": "python",
   "pygments_lexer": "ipython3",
   "version": "3.12.7"
  }
 },
 "nbformat": 4,
 "nbformat_minor": 5
}
