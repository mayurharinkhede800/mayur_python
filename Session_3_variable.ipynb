{
 "cells": [
  {
   "cell_type": "markdown",
   "id": "bc676809-edae-4ffd-8860-c37d740a6e50",
   "metadata": {},
   "source": [
    "# Variable"
   ]
  },
  {
   "cell_type": "markdown",
   "id": "3e7ee886-443f-48c7-8e04-3d6313553958",
   "metadata": {},
   "source": [
    "- variable is used to store the data\n",
    "- the data can be changed\n",
    "- the variable is used to manupulate in python"
   ]
  },
  {
   "cell_type": "markdown",
   "id": "0ebce3bf-bc1b-4f19-94dc-03d977593b37",
   "metadata": {},
   "source": [
    "**note**\n",
    "\n",
    "- variable generally in black color\n",
    "- green color should not a variabel\n",
    "- numbers as a suffix its work\n",
    "- but numbers as a prefix not work"
   ]
  },
  {
   "cell_type": "code",
   "execution_count": null,
   "id": "9d145b06-a46c-4f3d-afc7-fb2a9efba6a0",
   "metadata": {},
   "outputs": [],
   "source": [
    "number = 100\n",
    "NUMBER = 100\n",
    "12number=200 #n/w\n",
    "numBer = 100 #n/w\n",
    "$number = 100 \n",
    "_= 100"
   ]
  },
  {
   "cell_type": "code",
   "execution_count": 2,
   "id": "4ba87a95-7785-4693-bf99-9d2a02fe683c",
   "metadata": {},
   "outputs": [
    {
     "data": {
      "text/plain": [
       "1400"
      ]
     },
     "execution_count": 2,
     "metadata": {},
     "output_type": "execute_result"
    }
   ],
   "source": [
    "number = 1400\n",
    "number"
   ]
  },
  {
   "cell_type": "code",
   "execution_count": 3,
   "id": "aada8d8e-440c-49a6-946a-2f2bb76593b4",
   "metadata": {},
   "outputs": [
    {
     "data": {
      "text/plain": [
       "100"
      ]
     },
     "execution_count": 3,
     "metadata": {},
     "output_type": "execute_result"
    }
   ],
   "source": [
    "Number=100\n",
    "Number"
   ]
  },
  {
   "cell_type": "code",
   "execution_count": 9,
   "id": "c6af69b3-e2bf-455e-af67-ec0d17dcb6c7",
   "metadata": {},
   "outputs": [
    {
     "data": {
      "text/plain": [
       "'jj'"
      ]
     },
     "execution_count": 9,
     "metadata": {},
     "output_type": "execute_result"
    }
   ],
   "source": []
  },
  {
   "cell_type": "code",
   "execution_count": null,
   "id": "2f4658de-75bc-4dc3-9258-d4162aee2a67",
   "metadata": {},
   "outputs": [],
   "source": []
  }
 ],
 "metadata": {
  "kernelspec": {
   "display_name": "Python 3 (ipykernel)",
   "language": "python",
   "name": "python3"
  },
  "language_info": {
   "codemirror_mode": {
    "name": "ipython",
    "version": 3
   },
   "file_extension": ".py",
   "mimetype": "text/x-python",
   "name": "python",
   "nbconvert_exporter": "python",
   "pygments_lexer": "ipython3",
   "version": "3.12.7"
  }
 },
 "nbformat": 4,
 "nbformat_minor": 5
}
