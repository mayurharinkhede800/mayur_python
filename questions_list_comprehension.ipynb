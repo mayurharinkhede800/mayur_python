{
 "cells": [
  {
   "cell_type": "code",
   "execution_count": null,
   "id": "0da09383-363f-4027-bc03-694a642a6c1c",
   "metadata": {},
   "outputs": [],
   "source": [
    "list of student marks in python , marks =[45,76,89,53,67,90,82,49,33,99] solve the below problem by list comprehension topic \n",
    "1 filter student who passwd marks(marks >-50)\n",
    "2 calculate grade for student \n",
    "\n",
    "                 "
   ]
  },
  {
   "cell_type": "code",
   "execution_count": 40,
   "id": "bc725b37-3f70-46c6-a0b2-6a1f73a6145c",
   "metadata": {},
   "outputs": [
    {
     "data": {
      "text/plain": [
       "['76', '89', '53', '67', '90', '82', '99']"
      ]
     },
     "execution_count": 40,
     "metadata": {},
     "output_type": "execute_result"
    }
   ],
   "source": [
    "marks =[45,76,89,53,67,90,82,49,33,99]\n",
    "l1 = [f'{i}'  for i in marks if i >= 50]\n",
    "l1"
   ]
  },
  {
   "cell_type": "code",
   "execution_count": 51,
   "id": "d954abdf-11fc-4d38-b7e2-56689a985e7e",
   "metadata": {},
   "outputs": [
    {
     "name": "stdout",
     "output_type": "stream",
     "text": [
      "['fail', 'fail', '89:A', 'fail', 'fail', '90:A', 'fail', 'fail', 'fail', '99:A']\n"
     ]
    }
   ],
   "source": [
    "marks =[45,76,89,53,67,90,82,49,33,99]\n",
    "l2 = [f'{i}:A' if i > 85 else f'{i}:B' if i <= 70 and i >= 84 else f'grade C' if i < 50 and i >= 69 else f'fail' for i in marks]\n",
    "# for i in marks:\n",
    "#     if i > 85:\n",
    "#         print(f'Grade A')\n",
    "#     elif i < 70 and i >= 84:\n",
    "#         print(f'grade B')\n",
    "#     elif i < 50 and i >= 69 :\n",
    "#         print(f'grade C')\n",
    "#     elif \n",
    "#         i = i + 5\n",
    "#         print(f'{i}fail')\n",
    "print(l2)"
   ]
  },
  {
   "cell_type": "code",
   "execution_count": 50,
   "id": "a7a89f14-d0e8-401e-91f1-ad10a383fe00",
   "metadata": {},
   "outputs": [
    {
     "data": {
      "text/plain": [
       "['50', '54', '38']"
      ]
     },
     "execution_count": 50,
     "metadata": {},
     "output_type": "execute_result"
    }
   ],
   "source": [
    "l3 = [f'{i+5}'  for i in marks  if i < 50]\n",
    "l3"
   ]
  },
  {
   "cell_type": "code",
   "execution_count": 54,
   "id": "f99b3cb4-59a8-4fa5-8b86-6d25c8b07d2b",
   "metadata": {},
   "outputs": [
    {
     "name": "stdout",
     "output_type": "stream",
     "text": [
      "99\n",
      "90\n",
      "89\n"
     ]
    }
   ],
   "source": [
    "marks =[45,76,89,53,67,90,82,49,33,99]\n",
    "max_val=max(marks)\n",
    "for i in range(3):\n",
    "    max_val = max(marks)\n",
    "    print(max_val)\n",
    "    marks.remove(max_val)"
   ]
  },
  {
   "cell_type": "code",
   "execution_count": 55,
   "id": "27fed8f9-1404-45e3-b1c1-2202c34935ce",
   "metadata": {},
   "outputs": [
    {
     "data": {
      "text/plain": [
       "68.3"
      ]
     },
     "execution_count": 55,
     "metadata": {},
     "output_type": "execute_result"
    }
   ],
   "source": [
    "marks =[45,76,89,53,67,90,82,49,33,99]\n",
    "avg=sum(marks)/len(marks)\n",
    "avg"
   ]
  },
  {
   "cell_type": "code",
   "execution_count": null,
   "id": "5a347795-1f14-447c-a967-663ae891f8d1",
   "metadata": {},
   "outputs": [],
   "source": [
    "# distance between two points\n",
    "l1=[[1,2],[4,5],[7,9]]\n",
    "l2=[10,20]\n",
    "\n",
    "find the distance l2 with all other from l1\n",
    "which is the maximum distance."
   ]
  },
  {
   "cell_type": "code",
   "execution_count": 66,
   "id": "45f7ad40-4f2a-4114-b66c-38556b915467",
   "metadata": {},
   "outputs": [
    {
     "data": {
      "text/plain": [
       "22.360679774997898"
      ]
     },
     "execution_count": 66,
     "metadata": {},
     "output_type": "execute_result"
    }
   ],
   "source": [
    "import math\n",
    "l1=[10,20]\n",
    "l2=[20,40]\n",
    "\n",
    "first =l2[0]-l1[0]\n",
    "second =l2[1]-l1[1]\n",
    "square1=first**2\n",
    "square2=second**2\n",
    "summ = square1+square2\n",
    "math.sqrt(summ)"
   ]
  },
  {
   "cell_type": "code",
   "execution_count": null,
   "id": "26cda16a-6282-421b-8036-eed4b36d10df",
   "metadata": {},
   "outputs": [],
   "source": [
    "# how to sort the list \n",
    "# how to find the maximun value of the list \n",
    "# how to find the manimum\n",
    "# how to find second minimun and second maximum\n",
    "# how to find longest word of string\n",
    "# how to find most repeted word in string`"
   ]
  }
 ],
 "metadata": {
  "kernelspec": {
   "display_name": "Python 3 (ipykernel)",
   "language": "python",
   "name": "python3"
  },
  "language_info": {
   "codemirror_mode": {
    "name": "ipython",
    "version": 3
   },
   "file_extension": ".py",
   "mimetype": "text/x-python",
   "name": "python",
   "nbconvert_exporter": "python",
   "pygments_lexer": "ipython3",
   "version": "3.12.7"
  }
 },
 "nbformat": 4,
 "nbformat_minor": 5
}
