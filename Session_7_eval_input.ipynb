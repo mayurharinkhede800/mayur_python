{
 "cells": [
  {
   "cell_type": "code",
   "execution_count": 1,
   "id": "2ef63a73-2fd8-488c-8e07-2cef746e080a",
   "metadata": {},
   "outputs": [
    {
     "name": "stdout",
     "output_type": "stream",
     "text": [
      "=============Redius Of Circle=================== \n",
      "radius of circle is 314.159\n",
      "Area of circle is 314.159\n",
      "================Area of Triagle===================\n",
      "area of right angle triange:100.0\n",
      "area of right angle triange :100.0\n",
      "================= Total Bill Amount===================\n",
      "total bill amount is 1100\n",
      "total bill amount is 1100\n",
      "===================Area of Rectangle==================\n",
      "area of rectangle is:60\n",
      "area of rectangle is:60\n"
     ]
    }
   ],
   "source": [
    "print(\"=============Redius Of Circle=================== \")\n",
    "radius = 10 \n",
    "pi = 3.14159\n",
    "area = pi * radius * radius \n",
    "print(f\"radius of circle is {area}\")\n",
    "print(\"Area of circle is {}\".format(area))\n",
    "\n",
    "print(\"================Area of Triagle===================\")\n",
    "base = 10 \n",
    "height = 20 \n",
    "area_of_triangle = 0.5 * base * height\n",
    "print(f\"area of right angle triange:{area_of_triangle}\")\n",
    "print(\"area of right angle triange :{}\".format(area_of_triangle))\n",
    "\n",
    "print(\"================= Total Bill Amount===================\")\n",
    "bill_amount = 1000\n",
    "tip_amount = 100\n",
    "total_amount = bill_amount+tip_amount\n",
    "print(f\"total bill amount is {total_amount}\")\n",
    "print(\"total bill amount is {}\".format(total_amount))\n",
    "\n",
    "print(\"===================Area of Rectangle==================\")\n",
    "\n",
    "breadth = 5 \n",
    "height = 6 \n",
    "area = base * height\n",
    "print(f\"area of rectangle is:{area}\")\n",
    "print(\"area of rectangle is:{}\".format(area))"
   ]
  },
  {
   "cell_type": "markdown",
   "id": "7b6e488f-f6aa-490a-b6bb-2d5f6109c111",
   "metadata": {},
   "source": [
    "**Input**\n",
    "- in above we provide the value\n",
    "- input is the inbuilt function\n",
    "- using input the user can provide any value\n",
    "\n",
    "  "
   ]
  },
  {
   "cell_type": "markdown",
   "id": "d95074c1-ce61-4f6b-9ab5-917eac135841",
   "metadata": {},
   "source": [
    "**Note\n",
    "whatever if we see bound method which indicates we forget the bracket**"
   ]
  },
  {
   "cell_type": "code",
   "execution_count": 4,
   "id": "d1b3e612-898f-4ee5-ab8d-39b3eaab5964",
   "metadata": {},
   "outputs": [
    {
     "name": "stdin",
     "output_type": "stream",
     "text": [
      " 100\n"
     ]
    },
    {
     "data": {
      "text/plain": [
       "'100'"
      ]
     },
     "execution_count": 4,
     "metadata": {},
     "output_type": "execute_result"
    }
   ],
   "source": [
    "input()"
   ]
  },
  {
   "cell_type": "code",
   "execution_count": 5,
   "id": "bff6a5cf-5279-4534-a69a-42d9e5a10c0c",
   "metadata": {},
   "outputs": [
    {
     "name": "stdin",
     "output_type": "stream",
     "text": [
      " python\n"
     ]
    },
    {
     "data": {
      "text/plain": [
       "'python'"
      ]
     },
     "execution_count": 5,
     "metadata": {},
     "output_type": "execute_result"
    }
   ],
   "source": [
    "input()"
   ]
  },
  {
   "cell_type": "code",
   "execution_count": 6,
   "id": "eba298da-ac42-439f-80ff-82e25aad06aa",
   "metadata": {},
   "outputs": [
    {
     "data": {
      "text/plain": [
       "int"
      ]
     },
     "execution_count": 6,
     "metadata": {},
     "output_type": "execute_result"
    }
   ],
   "source": [
    "a = 100\n",
    "type(a)"
   ]
  },
  {
   "cell_type": "code",
   "execution_count": 7,
   "id": "3b534d1d-09fc-4d87-9663-2db9bee6e937",
   "metadata": {},
   "outputs": [
    {
     "name": "stdin",
     "output_type": "stream",
     "text": [
      " 100\n"
     ]
    }
   ],
   "source": [
    "b = input()"
   ]
  },
  {
   "cell_type": "code",
   "execution_count": 9,
   "id": "76bf359e-3445-41dc-9a2c-09b65dfd150d",
   "metadata": {},
   "outputs": [
    {
     "data": {
      "text/plain": [
       "str"
      ]
     },
     "execution_count": 9,
     "metadata": {},
     "output_type": "execute_result"
    }
   ],
   "source": [
    "type(b)"
   ]
  },
  {
   "cell_type": "code",
   "execution_count": 10,
   "id": "6fc38a99-c3bb-42f5-a540-64c0fc240b3d",
   "metadata": {},
   "outputs": [
    {
     "name": "stdin",
     "output_type": "stream",
     "text": [
      " nareshIT\n"
     ]
    }
   ],
   "source": [
    "name = input()\n"
   ]
  },
  {
   "cell_type": "code",
   "execution_count": 11,
   "id": "58406339-fdb3-4fc2-81a9-2e5ec22de65f",
   "metadata": {},
   "outputs": [
    {
     "data": {
      "text/plain": [
       "'nareshIT'"
      ]
     },
     "execution_count": 11,
     "metadata": {},
     "output_type": "execute_result"
    }
   ],
   "source": [
    "name"
   ]
  },
  {
   "cell_type": "code",
   "execution_count": 12,
   "id": "534241a1-7d47-41da-a7c8-b7e1ba7643c0",
   "metadata": {},
   "outputs": [
    {
     "name": "stdin",
     "output_type": "stream",
     "text": [
      " 100\n",
      " 200\n",
      " 300\n"
     ]
    }
   ],
   "source": [
    "n1 = input() #n1 = 100\n",
    "n2 = input() #n2 = 200\n",
    "n3 = input() #n3 = 300\n"
   ]
  },
  {
   "cell_type": "code",
   "execution_count": 13,
   "id": "0ac024cd-e6e5-4258-9af3-a5e3c44de825",
   "metadata": {},
   "outputs": [
    {
     "data": {
      "text/plain": [
       "('100', '200', '300')"
      ]
     },
     "execution_count": 13,
     "metadata": {},
     "output_type": "execute_result"
    }
   ],
   "source": [
    "n1 , n2 , n3"
   ]
  },
  {
   "cell_type": "code",
   "execution_count": 20,
   "id": "f754a729-85d6-4223-bc14-f76b29682c21",
   "metadata": {},
   "outputs": [
    {
     "name": "stdin",
     "output_type": "stream",
     "text": [
      "Enter the Number1 : 100\n",
      "Enter the Number2 : 200\n"
     ]
    }
   ],
   "source": [
    "n1 = input(\"Enter the Number1 :\") #n1 = '100'\n",
    "n2 = input(\"Enter the Number2 :\") #n2 = '200'\n"
   ]
  },
  {
   "cell_type": "markdown",
   "id": "46b3ae84-6f08-47a2-a8a4-d16ed52314dd",
   "metadata": {},
   "source": [
    "**input type by default string**"
   ]
  },
  {
   "cell_type": "code",
   "execution_count": 1,
   "id": "3e4ffc9a-e12d-4f03-bc4a-517ed6b84b75",
   "metadata": {},
   "outputs": [
    {
     "name": "stdin",
     "output_type": "stream",
     "text": [
      "Enter the Number1 : 100\n",
      "Enter the Number2 : 200\n"
     ]
    },
    {
     "data": {
      "text/plain": [
       "'100200'"
      ]
     },
     "execution_count": 1,
     "metadata": {},
     "output_type": "execute_result"
    }
   ],
   "source": [
    "n1 = input(\"Enter the Number1 :\") #n1 = '500'\n",
    "n2 = input(\"Enter the Number2 :\") #n2 = '600'\n",
    "n1+n2 #'500'+'600' = '500'"
   ]
  },
  {
   "cell_type": "code",
   "execution_count": 2,
   "id": "1243fab0-f14c-4ee3-9bdd-b44f270a7f4c",
   "metadata": {},
   "outputs": [
    {
     "name": "stdin",
     "output_type": "stream",
     "text": [
      "Enter the Number1 : 500\n",
      "Enter the Number2 : 600\n"
     ]
    },
    {
     "data": {
      "text/plain": [
       "1100"
      ]
     },
     "execution_count": 2,
     "metadata": {},
     "output_type": "execute_result"
    }
   ],
   "source": [
    "n1 = int(input(\"Enter the Number1 :\")) #n1 = '500'\n",
    "n2 = int(input(\"Enter the Number2 :\")) #n2 = '600'\n",
    "n1+n2 #500+600=1100\n"
   ]
  },
  {
   "cell_type": "code",
   "execution_count": null,
   "id": "1de4118b-61c1-41d0-b31e-d6edd579ee8f",
   "metadata": {},
   "outputs": [],
   "source": [
    "**int of "
   ]
  },
  {
   "cell_type": "code",
   "execution_count": null,
   "id": "2fd5212a-3e9c-4ed5-84d9-844a9794a53b",
   "metadata": {},
   "outputs": [],
   "source": [
    "# str1 = 'apple'\n",
    "# str2 = 'is'\n",
    "# str3 = 'fruit'"
   ]
  },
  {
   "cell_type": "code",
   "execution_count": 23,
   "id": "aa72b987-7f55-4ba5-b22f-5781dc35b069",
   "metadata": {},
   "outputs": [
    {
     "name": "stdin",
     "output_type": "stream",
     "text": [
      "Enter String1 apple \n",
      "Enter String2 is \n",
      "Enter String3 fruit\n"
     ]
    },
    {
     "data": {
      "text/plain": [
       "'apple is fruit'"
      ]
     },
     "execution_count": 23,
     "metadata": {},
     "output_type": "execute_result"
    }
   ],
   "source": [
    "str1 = input(\"Enter String1\")\n",
    "str2 = input(\"Enter String2\")\n",
    "str3 = input(\"Enter String3\")\n",
    "str1 + str2 + str3"
   ]
  },
  {
   "cell_type": "code",
   "execution_count": 28,
   "id": "c2736058-2809-440d-92d0-b5a2e6501723",
   "metadata": {},
   "outputs": [
    {
     "name": "stdin",
     "output_type": "stream",
     "text": [
      "Enter the Number1 : 500\n",
      "Enter the Number2 : 600\n"
     ]
    },
    {
     "data": {
      "text/plain": [
       "1100"
      ]
     },
     "execution_count": 28,
     "metadata": {},
     "output_type": "execute_result"
    }
   ],
   "source": [
    "n1 = int(input(\"Enter the Number1 :\")) #n1 = '500'  \n",
    "n2 = int(input(\"Enter the Number2 :\")) #n2 = '600'\n",
    "n1+n2 #500+600=1100\n",
    "\n",
    "n1 = input(\"Enter the Number1 :\") #n1 = '500'\n",
    "n2 = input(\"Enter the Number2 :\") #n2 = '600'\n",
    "int(n1)+int(n2) #500+600=1100                 convert variables \n"
   ]
  },
  {
   "cell_type": "code",
   "execution_count": null,
   "id": "ee773522-5084-4a57-ae42-18f12f42ce60",
   "metadata": {},
   "outputs": [],
   "source": [
    "n1 = float(input(\"Enter the Number1 :\"))\n",
    "n2 = float(input(\"Enter the Number2 :\"))\n",
    "int(n1)+int(n2) "
   ]
  },
  {
   "cell_type": "markdown",
   "id": "8efbbee3-ad32-4fa0-aed5-b570748f1b73",
   "metadata": {},
   "source": [
    "**eval**\n",
    "- eval means evaluate\n",
    "- its related to math family\n",
    "- which means it works only number present as a string\n",
    "- it will not work on english latters\n",
    "- eval will convert the resoective data type is user enter\n",
    "- if user enter 10 in quote it will convert into 10\n",
    "- if user enter 10.5 in quotes it will convert into 10.5"
   ]
  },
  {
   "cell_type": "code",
   "execution_count": null,
   "id": "228a8cb5-455b-4915-84a9-6b84e5b5e5de",
   "metadata": {},
   "outputs": [],
   "source": [
    "int('10')\n",
    "int('10.5')\n",
    "float('10')\n",
    "float('10.5')"
   ]
  },
  {
   "cell_type": "code",
   "execution_count": 30,
   "id": "b568c3e4-a178-4f38-aa5c-b72cc811235f",
   "metadata": {},
   "outputs": [
    {
     "data": {
      "text/plain": [
       "(10, 10.5)"
      ]
     },
     "execution_count": 30,
     "metadata": {},
     "output_type": "execute_result"
    }
   ],
   "source": [
    "eval('10'),eval('10.5')"
   ]
  },
  {
   "cell_type": "code",
   "execution_count": 32,
   "id": "ce5ee81d-ce47-4f25-bfda-2ed4a0164b78",
   "metadata": {},
   "outputs": [
    {
     "name": "stdin",
     "output_type": "stream",
     "text": [
      "Enter the Number1 : 10.5\n",
      "Enter the Number2 : 5\n"
     ]
    },
    {
     "data": {
      "text/plain": [
       "15.5"
      ]
     },
     "execution_count": 32,
     "metadata": {},
     "output_type": "execute_result"
    }
   ],
   "source": [
    "n1 = eval(input(\"Enter the Number1 :\")) \n",
    "n2 = eval(input(\"Enter the Number2 :\")) \n",
    "n1+n2"
   ]
  },
  {
   "cell_type": "code",
   "execution_count": null,
   "id": "a61acd56-9dbb-43fc-90e0-975dbcc45af9",
   "metadata": {},
   "outputs": [],
   "source": [
    "# 1)wap ask the user enter 3 numbers n1,n2,n3 from ketboard\n",
    "# calculate average\n",
    "\n",
    "# 2)wap ask the user enter name age city\n",
    "# print my name is python im 10 years old and came from hyd\n",
    "\n",
    "# 3)wap ask the user to enter radidus of a circle calculate area of the circle\n",
    "# var: radidus  var: pi=3.14\n",
    "# formuale: pi*radius*radius\n",
    "# print the answers using f string and format\n",
    "\n",
    "# 4)wap ask the user enter breadth and height of a right angle triangle\n",
    "# calculate the area\n",
    "# var1: bredath  var2: height\n",
    "# formuale : 0.5*breadth*heigh\n",
    "\n",
    "# 5)wap ask the user the bill amount and tip amount\n",
    "#   calculate total bill\n",
    "#   var1: bill amount var2: tip amount\n",
    "#   formuale\n",
    "\n",
    "# 6)wap ask the user the bill amount and tip percentage\n",
    "#    take tip percentage as 10\n",
    "#   calculate total bill= bill amount+ bill amount*tip per/100\n",
    "#   var1: bill amount var2: tip amount\n",
    "#    formuale\n",
    "\n",
    "# 7)wap ask the length and breadth of a rectangle calculate area\n",
    "#   var1: length  var2: breadth\n",
    "#   formulae: length * breadth\n",
    "\n",
    "# 8) wap ask the user take the radius and calculate volume of sphere\n",
    "#   formulae: pi*r**3(pi*r*r*r)\n",
    "\n",
    "# 9) wap ask the user enter amount in dollars convert into rupees\n",
    "#     1$=85rs\n",
    "\n",
    "# 10)wap ask the user enter weight in kgs convert into pounds\n",
    "#    1kg= 2.2pounds"
   ]
  },
  {
   "cell_type": "code",
   "execution_count": 3,
   "id": "f82d8fb4-ed2f-455e-92c0-ca6d9bddba2b",
   "metadata": {},
   "outputs": [
    {
     "name": "stdin",
     "output_type": "stream",
     "text": [
      "Enter First Number: 5\n",
      "Enter Second number: 6\n",
      "Enter Third number: 6\n"
     ]
    },
    {
     "name": "stdout",
     "output_type": "stream",
     "text": [
      "Average of Three Numbers 5.666666666666667:\n"
     ]
    }
   ],
   "source": [
    "# 1)wap ask the user enter 3 numbers n1,n2,n3 from ketboard\n",
    "# calculate averagen1 = eval(input(\"Enter First Number:\"))\n",
    "n1 = eval(input(\"Enter First Number:\"))\n",
    "n2 = eval(input(\"Enter Second number:\"))\n",
    "n3 = eval(input(\"Enter Third number:\"))\n",
    "avg = (n1+n2+n3)/3\n",
    "print(f\"Average of Three Numbers {avg}:\")"
   ]
  },
  {
   "cell_type": "code",
   "execution_count": 43,
   "id": "5f160fd5-3abe-4261-a507-ff2473342467",
   "metadata": {},
   "outputs": [
    {
     "name": "stdin",
     "output_type": "stream",
     "text": [
      "what is your name: python\n",
      "What is your age : 10\n",
      "where are you from: hyd\n"
     ]
    },
    {
     "name": "stdout",
     "output_type": "stream",
     "text": [
      "my name is python I'm 10 year old and came form hyd\n"
     ]
    }
   ],
   "source": [
    "# 2)wap ask the user enter name age city\n",
    "# print my name is python im 10 years old and came from hyd\n",
    "\n",
    "name = input(\"what is your name:\")\n",
    "age = input(\"What is your age :\")\n",
    "city = input(\"where are you from:\")\n",
    "print(f\"my name is {name} I'm {age} year old and came form {city}\") "
   ]
  },
  {
   "cell_type": "code",
   "execution_count": 45,
   "id": "489c739e-d903-4b10-b69a-49869ecd1721",
   "metadata": {},
   "outputs": [
    {
     "name": "stdin",
     "output_type": "stream",
     "text": [
      "Enter Radius of Circle: 5\n"
     ]
    },
    {
     "name": "stdout",
     "output_type": "stream",
     "text": [
      "Area of Circle : 78.5\n"
     ]
    }
   ],
   "source": [
    "# 3)wap ask the user to enter radidus of a circle calculate area of the circle\n",
    "# var: radidus  var: pi=3.14\n",
    "# formuale: pi*radius*radius\n",
    "# print the answers using f string and format\n",
    "\n",
    "# pi = eval(input(\"Enter PI value:\"))\n",
    "pi = 3.14\n",
    "radius = eval(input(\"Enter Radius of Circle:\"))\n",
    "area = pi * radius * radius \n",
    "print(f\"Area of Circle : {area}\")"
   ]
  },
  {
   "cell_type": "code",
   "execution_count": 46,
   "id": "d02d0f51-a1e4-457e-8b17-8f8f57407647",
   "metadata": {},
   "outputs": [
    {
     "name": "stdin",
     "output_type": "stream",
     "text": [
      "Enter Breadth of Rectangle: 5\n",
      "Enter height of Triangle: 5\n"
     ]
    },
    {
     "name": "stdout",
     "output_type": "stream",
     "text": [
      "Area of Right angle Triangle is 12.5\n"
     ]
    }
   ],
   "source": [
    "# 4)wap ask the user enter breadth and height of a right angle triangle\n",
    "# calculate the area\n",
    "# var1: bredath  var2: height\n",
    "# formuale : 0.5*breadth*heigh\n",
    "\n",
    "breadth = eval(input(\"Enter Breadth of Rectangle:\"))\n",
    "height = eval(input(\"Enter height of Triangle:\"))\n",
    "area = 0.5 * breadth * height\n",
    "print(f\"Area of Right angle Triangle is {area}\")"
   ]
  },
  {
   "cell_type": "code",
   "execution_count": 47,
   "id": "23e3a321-4d0c-4e35-bff2-8b4b8d72e1db",
   "metadata": {},
   "outputs": [
    {
     "name": "stdin",
     "output_type": "stream",
     "text": [
      "Enter Bil Amount: 500\n",
      "Tip Amount : 2\n"
     ]
    },
    {
     "name": "stdout",
     "output_type": "stream",
     "text": [
      "Total bill : 502\n"
     ]
    }
   ],
   "source": [
    "#5)wap ask the user the bill amount and tip amount\n",
    "#   calculate total bill\n",
    "#   var1: bill amount var2: tip amount\n",
    "#   formuale\n",
    "bill_amount = eval(input(\"Enter Bil Amount:\"))\n",
    "tip_amount = eval(input(\"Tip Amount :\"))\n",
    "total_amount = bill_amount + tip_amount \n",
    "print(f\"Total bill : {total_amount}\")"
   ]
  },
  {
   "cell_type": "code",
   "execution_count": 68,
   "id": "7d454bb9-a46d-4a21-8c1c-afb559969a26",
   "metadata": {},
   "outputs": [
    {
     "name": "stdin",
     "output_type": "stream",
     "text": [
      "Enter Bill Amount: 1000\n",
      "Enter tip amount 50\n"
     ]
    },
    {
     "name": "stdout",
     "output_type": "stream",
     "text": [
      "Total bill : 1500.0\n"
     ]
    }
   ],
   "source": [
    "# 6)wap ask the user the bill amount and tip percentage\n",
    "#    take tip percentage as 10\n",
    "#   calculate total bill= bill amount+ bill amount*tip per/100\n",
    "#   var1: bill amount var2: tip amount\n",
    "#    formuale\n",
    "bill_amount = eval(input(\"Enter Bill Amount:\"))\n",
    "tip_amount = eval(input(\"Enter tip amount\"))\n",
    "total_amount = bill_amount + bill_amount * tip_amount /100\n",
    "print(f\"Total bill : {total_amount}\")"
   ]
  },
  {
   "cell_type": "code",
   "execution_count": 71,
   "id": "f479e6d9-1c8c-4737-8206-401bd506f7ab",
   "metadata": {},
   "outputs": [
    {
     "name": "stdin",
     "output_type": "stream",
     "text": [
      "Length of Rectangle: 5\n",
      "Breadth of Rectangle: 5\n"
     ]
    },
    {
     "name": "stdout",
     "output_type": "stream",
     "text": [
      "Area Of Rectangle :25\n"
     ]
    }
   ],
   "source": [
    "# 7)wap ask the length and breadth of a rectangle calculate area\n",
    "#   var1: length  var2: breadth\n",
    "#   formulae: length * breadth\n",
    "length = eval(input(\"Length of Rectangle:\"))\n",
    "breadth = eval(input(\"Breadth of Rectangle:\"))\n",
    "area = length * breadth \n",
    "print(f\"Area Of Rectangle :{area}\")"
   ]
  },
  {
   "cell_type": "code",
   "execution_count": 76,
   "id": "707b55da-92e0-424e-ad98-6fe850da0249",
   "metadata": {},
   "outputs": [
    {
     "name": "stdin",
     "output_type": "stream",
     "text": [
      "Enter radius of sphere 5\n"
     ]
    },
    {
     "name": "stdout",
     "output_type": "stream",
     "text": [
      "Area of Sphere : 392.5\n"
     ]
    }
   ],
   "source": [
    "# 8) wap ask the user take the radius and calculate volume of sphere\n",
    "#   formulae: pi*r**3(pi*r*r*r)\n",
    "\n",
    "radius = eval(input(\"Enter radius of sphere\"))\n",
    "# pi = eval(input(\"Enter pi value\"))\n",
    "pi = 3.14\n",
    "area = pi * radius * radius * radius\n",
    "print(f\"Area of Sphere : {area}\")"
   ]
  },
  {
   "cell_type": "code",
   "execution_count": 88,
   "id": "675f8365-eb74-436a-87c4-dfc502996f98",
   "metadata": {},
   "outputs": [
    {
     "name": "stdin",
     "output_type": "stream",
     "text": [
      "Enter dollar: 5\n"
     ]
    },
    {
     "name": "stdout",
     "output_type": "stream",
     "text": [
      "Ampunt in indian rupees is :428.75\n"
     ]
    }
   ],
   "source": [
    "# 9) wap ask the user enter amount in dollars convert into rupees\n",
    "#     1$=85rs\n",
    "\n",
    "dollar = eval(input(\"Enter dollar:\"))\n",
    "ind_rupee = 85.75\n",
    "amount = dollar * ind_rupee\n",
    "print(f\"Ampunt in indian rupees is :{amount}\")"
   ]
  },
  {
   "cell_type": "code",
   "execution_count": 92,
   "id": "bd31b558-db35-4ba3-856e-89ce1857c8b3",
   "metadata": {},
   "outputs": [
    {
     "name": "stdin",
     "output_type": "stream",
     "text": [
      "Enter Weight in kgs: 6\n"
     ]
    },
    {
     "name": "stdout",
     "output_type": "stream",
     "text": [
      "Weigth of 6 kg in pounds is 13.200000000000001\n"
     ]
    }
   ],
   "source": [
    "# 10)wap ask the user enter weight in kgs convert into pounds\n",
    "#    1kg= 2.2pounds\n",
    "kilo_grams = eval(input(\"Enter Weight in kgs:\"))\n",
    "pound = 2.2\n",
    "total = kilo_grams * pound \n",
    "print(f\"Weigth of {kilo_grams} kg in pounds is {total}\")"
   ]
  },
  {
   "cell_type": "code",
   "execution_count": 2,
   "id": "f311e2d4-1fec-4c84-8a43-47146f575a46",
   "metadata": {},
   "outputs": [
    {
     "data": {
      "text/plain": [
       "1.2"
      ]
     },
     "execution_count": 2,
     "metadata": {},
     "output_type": "execute_result"
    }
   ],
   "source": [
    "eval('1.2')"
   ]
  },
  {
   "cell_type": "code",
   "execution_count": null,
   "id": "391f43e0-5507-4798-8a22-36a3dcab421e",
   "metadata": {},
   "outputs": [],
   "source": []
  }
 ],
 "metadata": {
  "kernelspec": {
   "display_name": "Python 3 (ipykernel)",
   "language": "python",
   "name": "python3"
  },
  "language_info": {
   "codemirror_mode": {
    "name": "ipython",
    "version": 3
   },
   "file_extension": ".py",
   "mimetype": "text/x-python",
   "name": "python",
   "nbconvert_exporter": "python",
   "pygments_lexer": "ipython3",
   "version": "3.12.7"
  }
 },
 "nbformat": 4,
 "nbformat_minor": 5
}
