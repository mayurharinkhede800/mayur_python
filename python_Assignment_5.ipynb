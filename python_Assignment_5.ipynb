{
 "cells": [
  {
   "cell_type": "code",
   "execution_count": 4,
   "id": "574bbc32-e748-48a3-a12e-f6ce13a042a4",
   "metadata": {},
   "outputs": [
    {
     "name": "stdin",
     "output_type": "stream",
     "text": [
      "enter the salary 10000\n"
     ]
    },
    {
     "name": "stdout",
     "output_type": "stream",
     "text": [
      "gross salary  16000.0\n"
     ]
    }
   ],
   "source": [
    "'''Ramesh’s basic salary is input through the keyboard. His dearness allowance is 40% of basic salary, and\n",
    "house rent allowance is 20% of basic salary. Write a program to calculate his gross salary.'''\n",
    "basic_salary = eval(input(\"enter the salary\"))\n",
    "dr = 0.40 * basic_salary\n",
    "hra =  0.20 *basic_salary \n",
    "\n",
    "gross_salary = basic_salary + dr + hra \n",
    "print(\"gross salary \",gross_salary)"
   ]
  },
  {
   "cell_type": "code",
   "execution_count": 6,
   "id": "0a6abdbe-a87a-42e1-83a3-f26703d4b32f",
   "metadata": {},
   "outputs": [
    {
     "name": "stdin",
     "output_type": "stream",
     "text": [
      "Enter the km  5\n"
     ]
    },
    {
     "name": "stdout",
     "output_type": "stream",
     "text": [
      "distance in meters is : 5000\n",
      "distance in feet is : 16404.2\n",
      "distance in inches is : 196850.5\n",
      "distance in centimeter is : 500000\n"
     ]
    }
   ],
   "source": [
    "'''The distance between two cities (in km.) is input through the keyboard. Write a program to convert and\n",
    "print this distance in meters, feet, inches and centimeters.'''\n",
    "\n",
    "distance_km = eval(input(\"Enter the km \"))\n",
    "\n",
    "distance_meter = distance_km * 1000\n",
    "distance_feet = distance_km * 3280.84\n",
    "distance_inches = distance_km * 39370.1\n",
    "distance_centimeter = distance_km * 100000\n",
    "print(f\"distance in meters is : {distance_meter}\")\n",
    "print(f\"distance in feet is : {distance_feet}\")\n",
    "print(f\"distance in inches is : {distance_inches}\")\n",
    "print(f\"distance in centimeter is : {distance_centimeter}\")\n"
   ]
  },
  {
   "cell_type": "code",
   "execution_count": 8,
   "id": "7b22441c-d07c-4d04-b1a4-9c2106d1b7f9",
   "metadata": {},
   "outputs": [
    {
     "name": "stdin",
     "output_type": "stream",
     "text": [
      "enter marks in maths  55\n",
      "enter marks in physics  66\n",
      "enter marks in chemistry 77\n",
      "enter marks in biology 88\n",
      "enter marks in english 66\n"
     ]
    },
    {
     "name": "stdout",
     "output_type": "stream",
     "text": [
      "total marks  352\n",
      "Percentage  70.4\n"
     ]
    }
   ],
   "source": [
    "'''If the marks obtained by a student in five different subjects are input through the keyboard, find out the\n",
    "aggregate marks and percentage marks obtained by the student. Assume that the maximum marks that\n",
    "can be obtained by a student in each subject is 100.'''\n",
    "\n",
    "math = eval(input(\"enter marks in maths \"))\n",
    "physics = eval(input(\"enter marks in physics \"))\n",
    "chemistry = eval(input(\"enter marks in chemistry\"))\n",
    "biology = eval(input(\"enter marks in biology\"))\n",
    "english = eval(input(\"enter marks in english\"))\n",
    "\n",
    "total_marks = math + physics + chemistry + biology + english\n",
    "total_per = total_marks / 5\n",
    "print(\"total marks \",total_marks)\n",
    "print(\"Percentage \",total_per)"
   ]
  },
  {
   "cell_type": "code",
   "execution_count": 16,
   "id": "2bf0d199-d76e-462e-bf14-66e3cd26f90a",
   "metadata": {},
   "outputs": [
    {
     "name": "stdin",
     "output_type": "stream",
     "text": [
      "enter temprature in fahrenheit 98.4\n"
     ]
    },
    {
     "name": "stdout",
     "output_type": "stream",
     "text": [
      "temprature in centigrade is 36.88888888888889°C\n"
     ]
    }
   ],
   "source": [
    "''' Temperature of a city in Fahrenheit degrees is input through the keyboard. Write a program to convert this\n",
    "temperature into Centigrade degrees.'''\n",
    "\n",
    "temperature_fahrenheit = eval(input(\"enter temprature in fahrenheit\"))\n",
    "temperature_centigrade = (5 / 9) * (temperature_fahrenheit - 32)\n",
    "print(f\"temprature in centigrade is {temperature_centigrade}°C\")"
   ]
  },
  {
   "cell_type": "code",
   "execution_count": 25,
   "id": "f2cd1c3b-e02a-47bc-950a-c611c42520d0",
   "metadata": {},
   "outputs": [
    {
     "name": "stdin",
     "output_type": "stream",
     "text": [
      "enter length of rectangle 4\n",
      "enter breadth of rectangle 5\n",
      "enter radius of circle  4\n"
     ]
    },
    {
     "name": "stdout",
     "output_type": "stream",
     "text": [
      "Area of the rectangle: 20\n",
      "Perimeter of the rectangle: 40\n",
      "Area of the circle: 50.24\n",
      "Circumference of the circle: 25.12\n"
     ]
    }
   ],
   "source": [
    "'''The length & breadth of a rectangle and radius of a circle are input through the keyboard. Write a program\n",
    "to calculate the area & perimeter of the rectangle, and the area & circumference of the circle.'''\n",
    "\n",
    "length = eval(input(\"enter length of rectangle\"))\n",
    "breadth = eval(input(\"enter breadth of rectangle\"))\n",
    "radius = eval(input(\"enter radius of circle \"))\n",
    "\n",
    "area = length * breadth\n",
    "perimeter = 2 *( length * breadth)\n",
    "\n",
    "area_circle = 3.14 * radius * radius \n",
    "circumference = 2 * 3.14 * radius\n",
    "\n",
    "print(f\"Area of the rectangle: {area}\")\n",
    "print(f\"Perimeter of the rectangle: {perimeter}\")\n",
    "print(f\"Area of the circle: {area_circle}\")\n",
    "print(f\"Circumference of the circle: {circumference}\")"
   ]
  },
  {
   "cell_type": "code",
   "execution_count": 30,
   "id": "0c53eaa4-36bd-4ebc-b102-c280cc7b87d4",
   "metadata": {},
   "outputs": [
    {
     "name": "stdin",
     "output_type": "stream",
     "text": [
      "enter value of C: 5\n",
      "enter value of D : 6\n"
     ]
    },
    {
     "name": "stdout",
     "output_type": "stream",
     "text": [
      "interchanged value of C :6 and d : 5\n"
     ]
    }
   ],
   "source": [
    "'''6. Two numbers are input through the keyboard into two locations C and D. Write a program to interchange\n",
    "the contents of C and D.'''\n",
    "\n",
    "c = eval(input(\"enter value of C:\"))\n",
    "d = eval(input(\"enter value of D :\"))\n",
    "\n",
    "c,d = d , c \n",
    "print(f\"interchanged value of C :{c} and d : {d}\")"
   ]
  },
  {
   "cell_type": "code",
   "execution_count": 32,
   "id": "53de5c6f-595e-4c26-8a9a-2805cdf71528",
   "metadata": {},
   "outputs": [
    {
     "name": "stdin",
     "output_type": "stream",
     "text": [
      "enter the five digit number  12345\n"
     ]
    },
    {
     "name": "stdout",
     "output_type": "stream",
     "text": [
      "reverse number : 54321\n"
     ]
    }
   ],
   "source": [
    "'''If a five-digit number is input through the keyboard, write a program to reverse the number.'''\n",
    "\n",
    "number = eval(input(\"enter the five digit number \"))\n",
    "reverse_number = 0\n",
    "while number > 0:\n",
    "    digit = number % 10\n",
    "    reverse_number = reverse_number * 10 + digit\n",
    "    number = number // 10 \n",
    "print(f\"reverse number : {reverse_number}\")"
   ]
  },
  {
   "cell_type": "code",
   "execution_count": 48,
   "id": "0463ea48-7efa-425c-a588-453e28d3a0b1",
   "metadata": {},
   "outputs": [
    {
     "name": "stdin",
     "output_type": "stream",
     "text": [
      "enter the four digit number : 1234\n"
     ]
    },
    {
     "name": "stdout",
     "output_type": "stream",
     "text": [
      "5\n"
     ]
    }
   ],
   "source": [
    "''' If a four-digit number is input through the keyboard, write a program to obtain the sum of the first and last\n",
    "digit of this number.'''\n",
    "number = eval(input(\"enter the four digit number :\"))\n",
    "\n",
    "last_digit = number % 10\n",
    "first_digit = number // 1000\n",
    "\n",
    "summ = first_digit + last_digit\n",
    "print(summ)"
   ]
  },
  {
   "cell_type": "code",
   "execution_count": 50,
   "id": "298bbc79-90c8-4cfc-a25c-99a789fb53ae",
   "metadata": {},
   "outputs": [
    {
     "name": "stdout",
     "output_type": "stream",
     "text": [
      "Illiterate men: 13600\n",
      "Illiterate women: 28000\n"
     ]
    }
   ],
   "source": [
    "''' In a town, the percentage of men is 52. The percentage of total literacy is 48. If total percentage of literate\n",
    "men is 35 of the total population, write a program to find the total number of illiterate men and women if\n",
    "the population of the town is 80,000.'''\n",
    "\n",
    "# Given data\n",
    "total_population = 80000\n",
    "percentage_men = 52 / 100\n",
    "percentage_literacy = 48 / 100\n",
    "percentage_literate_men = 35 / 100\n",
    "\n",
    "total_men = total_population * percentage_men\n",
    "literate_men = total_population * percentage_literate_men\n",
    "illiterate_men = total_men - literate_men\n",
    "total_women = total_population - total_men\n",
    "total_literate_people = total_population * percentage_literacy\n",
    "literate_women = total_literate_people - literate_men\n",
    "illiterate_women = total_women - literate_women\n",
    "print(f\"Illiterate men: {int(illiterate_men)}\")\n",
    "print(f\"Illiterate women: {int(illiterate_women)}\")\n"
   ]
  },
  {
   "cell_type": "code",
   "execution_count": 57,
   "id": "de218939-5e1f-4346-b642-ebdcf82872e3",
   "metadata": {},
   "outputs": [
    {
     "name": "stdin",
     "output_type": "stream",
     "text": [
      "Enter the amount to be withdrawn in hundreds:  520\n"
     ]
    },
    {
     "name": "stdout",
     "output_type": "stream",
     "text": [
      "Number of 100-denomination notes: 520\n",
      "Number of 50-denomination notes: 0\n",
      "Number of 10-denomination notes: 0\n"
     ]
    }
   ],
   "source": [
    "'''A cashier has currency notes of denominations 10, 50 and 100. If the amount to be withdrawn is input\n",
    "through the keyboard in hundreds, find the total number of currency notes of each denomination the\n",
    "cashier will have to give to the withdrawer.'''\n",
    "\n",
    "amount_in_hundreds = eval(input(\"Enter the amount to be withdrawn in hundreds: \"))\n",
    "total_amount = amount_in_hundreds * 100\n",
    "hundred_notes = total_amount // 100\n",
    "remaining_amount = total_amount % 100\n",
    "fifty_notes = remaining_amount // 50\n",
    "remaining_amount = remaining_amount % 50\n",
    "ten_notes = remaining_amount // 10\n",
    "print(f\"Number of 100-denomination notes: {hundred_notes}\")\n",
    "print(f\"Number of 50-denomination notes: {fifty_notes}\")\n",
    "print(f\"Number of 10-denomination notes: {ten_notes}\")\n"
   ]
  },
  {
   "cell_type": "code",
   "execution_count": null,
   "id": "88f4ea0f-8256-44ba-98e4-3ec5447d4d2f",
   "metadata": {},
   "outputs": [],
   "source": []
  }
 ],
 "metadata": {
  "kernelspec": {
   "display_name": "Python 3 (ipykernel)",
   "language": "python",
   "name": "python3"
  },
  "language_info": {
   "codemirror_mode": {
    "name": "ipython",
    "version": 3
   },
   "file_extension": ".py",
   "mimetype": "text/x-python",
   "name": "python",
   "nbconvert_exporter": "python",
   "pygments_lexer": "ipython3",
   "version": "3.12.7"
  }
 },
 "nbformat": 4,
 "nbformat_minor": 5
}
