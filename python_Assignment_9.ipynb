{
 "cells": [
  {
   "cell_type": "code",
   "execution_count": 1,
   "id": "ee765f4f-ddf1-4b37-b3d5-8473d1430335",
   "metadata": {},
   "outputs": [
    {
     "name": "stdout",
     "output_type": "stream",
     "text": [
      "1\n",
      "4\n",
      "9\n",
      "16\n",
      "25\n"
     ]
    }
   ],
   "source": [
    "# Que1\n",
    "i = 1\n",
    "while i <= 5:\n",
    "    print(i*i)\n",
    "    i = i + 1"
   ]
  },
  {
   "cell_type": "code",
   "execution_count": 3,
   "id": "7d7e919d-f448-4615-92aa-52570d9f1590",
   "metadata": {},
   "outputs": [
    {
     "name": "stdin",
     "output_type": "stream",
     "text": [
      "Enter the Number: 1\n"
     ]
    },
    {
     "name": "stdout",
     "output_type": "stream",
     "text": [
      "1\n"
     ]
    },
    {
     "name": "stdin",
     "output_type": "stream",
     "text": [
      "Enter the Number: 2\n"
     ]
    },
    {
     "name": "stdout",
     "output_type": "stream",
     "text": [
      "4\n"
     ]
    },
    {
     "name": "stdin",
     "output_type": "stream",
     "text": [
      "Enter the Number: 3\n"
     ]
    },
    {
     "name": "stdout",
     "output_type": "stream",
     "text": [
      "9\n"
     ]
    },
    {
     "name": "stdin",
     "output_type": "stream",
     "text": [
      "Enter the Number: 4\n"
     ]
    },
    {
     "name": "stdout",
     "output_type": "stream",
     "text": [
      "16\n"
     ]
    },
    {
     "name": "stdin",
     "output_type": "stream",
     "text": [
      "Enter the Number: 5\n"
     ]
    },
    {
     "name": "stdout",
     "output_type": "stream",
     "text": [
      "25\n"
     ]
    }
   ],
   "source": [
    "#Q2\n",
    "i = 1\n",
    "while i <= 5:\n",
    "    n1 = eval(input(\"Enter the Number:\"))\n",
    "    print(n1*n1)\n",
    "    i = i + 1"
   ]
  },
  {
   "cell_type": "code",
   "execution_count": 4,
   "id": "ad7fa5a7-8c8a-4d36-a567-73c03bb86c60",
   "metadata": {},
   "outputs": [
    {
     "name": "stdout",
     "output_type": "stream",
     "text": [
      "7\n",
      "14\n",
      "21\n",
      "28\n",
      "35\n",
      "42\n",
      "49\n",
      "56\n",
      "63\n",
      "70\n"
     ]
    }
   ],
   "source": [
    "#Q3\n",
    "i = 1\n",
    "\n",
    "while i <=10:\n",
    "    num =7\n",
    "    print(i*num)\n",
    "    i = i + 1"
   ]
  },
  {
   "cell_type": "code",
   "execution_count": 5,
   "id": "ca1f3c76-5762-4f76-8c70-18363f389efb",
   "metadata": {},
   "outputs": [
    {
     "name": "stdin",
     "output_type": "stream",
     "text": [
      "Enter the table which you want 5\n"
     ]
    },
    {
     "name": "stdout",
     "output_type": "stream",
     "text": [
      "5\n",
      "10\n",
      "15\n",
      "20\n",
      "25\n",
      "30\n",
      "35\n",
      "40\n",
      "45\n",
      "50\n"
     ]
    }
   ],
   "source": [
    "#Q4\n",
    "i = 1\n",
    "numm = eval(input(\"Enter the table which you want\"))\n",
    "while i <=10:\n",
    "    print(i*numm)\n",
    "    i +=1"
   ]
  },
  {
   "cell_type": "code",
   "execution_count": 6,
   "id": "a28869ff-6a67-4501-bce7-4bd27e6f7bf8",
   "metadata": {},
   "outputs": [
    {
     "name": "stdout",
     "output_type": "stream",
     "text": [
      "1 is divisor of 75\n",
      "3 is divisor of 75\n",
      "5 is divisor of 75\n",
      "15 is divisor of 75\n",
      "25 is divisor of 75\n",
      "75 is divisor of 75\n"
     ]
    }
   ],
   "source": [
    "#Q5\n",
    "i = 1\n",
    "num = 75\n",
    "while i < num + 1:\n",
    "    if num % i == 0:\n",
    "        print(f'{i} is divisor of {num}')\n",
    "    i = i + 1"
   ]
  },
  {
   "cell_type": "code",
   "execution_count": 7,
   "id": "dede3e86-4c15-40a7-bf37-3d3b3a98a137",
   "metadata": {},
   "outputs": [
    {
     "name": "stdout",
     "output_type": "stream",
     "text": [
      "55\n"
     ]
    }
   ],
   "source": [
    "#Q6\n",
    "i = 1\n",
    "summ = 0\n",
    "while i < 11:\n",
    "    summ = summ + i\n",
    "    i = i + 1\n",
    "print(summ)\n",
    "    "
   ]
  },
  {
   "cell_type": "code",
   "execution_count": 8,
   "id": "6d16cc77-0ffc-4043-a2cd-7af99130dbd4",
   "metadata": {},
   "outputs": [
    {
     "name": "stdout",
     "output_type": "stream",
     "text": [
      "summ of divisor of 75 is 124\n"
     ]
    }
   ],
   "source": [
    "#Q7\n",
    "i = 1\n",
    "summ = 0\n",
    "numm = 75\n",
    "while i < num + 1:\n",
    "    if numm % i == 0:\n",
    "        summ = summ + i\n",
    "    i = i + 1\n",
    "print(f\"summ of divisor of {num} is {summ}\") "
   ]
  },
  {
   "cell_type": "code",
   "execution_count": 9,
   "id": "9f817422-faee-479a-bbd2-714246f42e65",
   "metadata": {},
   "outputs": [
    {
     "name": "stdout",
     "output_type": "stream",
     "text": [
      "number of divisor of 75 is 6\n"
     ]
    }
   ],
   "source": [
    "#Q8\n",
    "i = 1\n",
    "summ = 0\n",
    "numm = 75\n",
    "while i < num + 1:\n",
    "    if numm % i == 0:\n",
    "        summ = summ + 1\n",
    "    i = i + 1\n",
    "print(f\"number of divisor of {num} is {summ}\") "
   ]
  },
  {
   "cell_type": "code",
   "execution_count": 10,
   "id": "6ea39562-067d-447b-a70e-7a85225c0506",
   "metadata": {},
   "outputs": [
    {
     "name": "stdout",
     "output_type": "stream",
     "text": [
      "28 is even\n",
      "10 is even\n",
      "9 is odd\n",
      "4 is even\n",
      "count of even 3\n",
      "count of odd 1\n",
      "sum of even sum 42\n",
      "sum of odd sum 9\n"
     ]
    }
   ],
   "source": [
    "#Q9\n",
    "import random\n",
    "even_count = 0\n",
    "odd_count =0\n",
    "even_summ = 0\n",
    "odd_summ = 0\n",
    "i = 1\n",
    "\n",
    "while i<5:\n",
    "    number1 = random.randint(1,50)\n",
    "    if number1%2==0:\n",
    "        print(f'{number1} is even')\n",
    "        even_count = even_count + 1\n",
    "        even_summ = even_summ + number1\n",
    "    else:\n",
    "        print(f'{number1} is odd')\n",
    "        odd_count = odd_count + 1\n",
    "        odd_summ = odd_summ + number1\n",
    "    i = i + 1\n",
    "print(f'count of even {even_count}')\n",
    "print(f'count of odd {odd_count}')\n",
    "print(f'sum of even sum {even_summ}')\n",
    "print(f'sum of odd sum {odd_summ}')\n",
    "   "
   ]
  },
  {
   "cell_type": "code",
   "execution_count": null,
   "id": "067994e4-e41c-42f8-9ba0-82740a678ab8",
   "metadata": {},
   "outputs": [],
   "source": []
  }
 ],
 "metadata": {
  "kernelspec": {
   "display_name": "Python 3 (ipykernel)",
   "language": "python",
   "name": "python3"
  },
  "language_info": {
   "codemirror_mode": {
    "name": "ipython",
    "version": 3
   },
   "file_extension": ".py",
   "mimetype": "text/x-python",
   "name": "python",
   "nbconvert_exporter": "python",
   "pygments_lexer": "ipython3",
   "version": "3.12.7"
  }
 },
 "nbformat": 4,
 "nbformat_minor": 5
}
