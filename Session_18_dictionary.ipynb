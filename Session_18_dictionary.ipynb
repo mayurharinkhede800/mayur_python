{
 "cells": [
  {
   "cell_type": "code",
   "execution_count": 3,
   "id": "34e20816-97b7-4a51-b418-72516febe88a",
   "metadata": {},
   "outputs": [
    {
     "name": "stdout",
     "output_type": "stream",
     "text": [
      "ramesh age is 20\n",
      "suresh age is 25\n",
      "satish age is 30\n"
     ]
    }
   ],
   "source": [
    "names=['ramesh','suresh','satish']\n",
    "age=[20,25,30]\n",
    "print(f'{names[0]} age is {age[0]}')\n",
    "print(f'{names[1]} age is {age[1]}')\n",
    "print(f'{names[2]} age is {age[2]}')"
   ]
  },
  {
   "cell_type": "code",
   "execution_count": 6,
   "id": "3c2587dd-e61e-4c81-84b5-0c455c82021b",
   "metadata": {},
   "outputs": [
    {
     "name": "stdout",
     "output_type": "stream",
     "text": [
      "ramesh age is 20\n",
      "suresh age is 25\n",
      "satish age is 30\n"
     ]
    }
   ],
   "source": [
    "for i in range(3):\n",
    "    print(f'{names[i]} age is {age[i]}')"
   ]
  },
  {
   "cell_type": "markdown",
   "id": "184603b1-3732-4a0d-9963-dc722c247ce8",
   "metadata": {},
   "source": [
    "**Zip**"
   ]
  },
  {
   "cell_type": "code",
   "execution_count": 10,
   "id": "951c93db-a074-4cb9-acf7-bf93564509f1",
   "metadata": {},
   "outputs": [
    {
     "name": "stdout",
     "output_type": "stream",
     "text": [
      "('ramesh', 20)\n",
      "('suresh', 25)\n",
      "('satish', 30)\n"
     ]
    }
   ],
   "source": [
    "names=['ramesh','suresh','satish']\n",
    "age=[20,25,30]\n",
    "for i in zip(names,age):\n",
    "    print(i)"
   ]
  },
  {
   "cell_type": "code",
   "execution_count": 12,
   "id": "996f1ebb-0654-4115-80ec-90ca0a5cf8fb",
   "metadata": {},
   "outputs": [
    {
     "name": "stdout",
     "output_type": "stream",
     "text": [
      "('ramesh', 20)\n",
      "('suresh', 25)\n",
      "('satish', 30)\n"
     ]
    }
   ],
   "source": [
    "names=['ramesh','suresh','satish']\n",
    "age=[20,25,30]\n",
    "for i,j in zip(names,age):\n",
    "    print(i)"
   ]
  },
  {
   "cell_type": "code",
   "execution_count": 14,
   "id": "68c5aaf1-8a45-4989-bdd2-3ef2ac95c905",
   "metadata": {},
   "outputs": [
    {
     "name": "stdout",
     "output_type": "stream",
     "text": [
      "ramesh 20\n",
      "suresh 25\n",
      "satish 30\n"
     ]
    }
   ],
   "source": [
    "names=['ramesh','suresh','satish']\n",
    "age=[20,25,30]\n",
    "for i,j in zip(names,age):  # names and age is zipped\n",
    "    print(i,j)"
   ]
  },
  {
   "cell_type": "markdown",
   "id": "3e31519f-0c6c-4655-8714-e321b75c0850",
   "metadata": {},
   "source": [
    "## **dictionaries**"
   ]
  },
  {
   "cell_type": "markdown",
   "id": "33783921-c21b-416d-8ae9-ef7efc9bfdcd",
   "metadata": {},
   "source": [
    "- in above example names and age both are together \n",
    "\n",
    "- when both are together we can pair them\n",
    "\n",
    "- this can happen using dictionary\n",
    "\n",
    "- dictionary is called **key-value** pair \n",
    "\n",
    "- it represent with curly braces:**{key:value}**\n",
    "\n",
    "- ramesh and 20 year both are pair : **{'ramesh':20}**"
   ]
  },
  {
   "cell_type": "code",
   "execution_count": 17,
   "id": "e777cc11-cc56-4fa5-b6c1-30fe5404679c",
   "metadata": {},
   "outputs": [
    {
     "data": {
      "text/plain": [
       "{'ramesh': 20, 'suresh': 25, 'satish': 30}"
      ]
     },
     "execution_count": 17,
     "metadata": {},
     "output_type": "execute_result"
    }
   ],
   "source": [
    "d1={'ramesh':20,'suresh':25,'satish':30}\n",
    "d1"
   ]
  },
  {
   "cell_type": "code",
   "execution_count": 20,
   "id": "4b88d39e-55ef-43a2-b1d9-4dba034bbb27",
   "metadata": {},
   "outputs": [
    {
     "data": {
      "text/plain": [
       "{20: 'ramesh', 'suresh': 25, 'satish': 30}"
      ]
     },
     "execution_count": 20,
     "metadata": {},
     "output_type": "execute_result"
    }
   ],
   "source": [
    "d1={20:'ramesh','suresh':25,'satish':30}\n",
    "d1"
   ]
  },
  {
   "cell_type": "code",
   "execution_count": 25,
   "id": "fa8aef6e-737e-4abb-82d7-7c2f2fb12bd6",
   "metadata": {},
   "outputs": [
    {
     "data": {
      "text/plain": [
       "{'price': 50, 'suresh': 25, 'satish': 30, 20: 20}"
      ]
     },
     "execution_count": 25,
     "metadata": {},
     "output_type": "execute_result"
    }
   ],
   "source": [
    "d1={'price':50,'suresh':25,'satish':30,20:20}\n",
    "d1"
   ]
  },
  {
   "cell_type": "code",
   "execution_count": 42,
   "id": "92ced009-5a55-4265-9f56-843b4234d896",
   "metadata": {},
   "outputs": [
    {
     "data": {
      "text/plain": [
       "{'ramesh': 30}"
      ]
     },
     "execution_count": 42,
     "metadata": {},
     "output_type": "execute_result"
    }
   ],
   "source": [
    "d2 = {'ramesh':20,'ramesh':30}\n",
    "d2  # bothh are same its takes new vale"
   ]
  },
  {
   "cell_type": "code",
   "execution_count": 27,
   "id": "fc3fe43c-8595-4b2d-92ab-6fca59c9a960",
   "metadata": {},
   "outputs": [
    {
     "data": {
      "text/plain": [
       "{20: 50}"
      ]
     },
     "execution_count": 27,
     "metadata": {},
     "output_type": "execute_result"
    }
   ],
   "source": [
    "{(20):(50)}"
   ]
  },
  {
   "cell_type": "code",
   "execution_count": 30,
   "id": "f654e3d2-76a9-405c-ad08-86f071505446",
   "metadata": {},
   "outputs": [
    {
     "name": "stdout",
     "output_type": "stream",
     "text": [
      "{\"'aksah':'ballu'\"}\n"
     ]
    }
   ],
   "source": [
    "print({\"'aksah':'ballu'\"})"
   ]
  },
  {
   "cell_type": "code",
   "execution_count": 31,
   "id": "bc908c72-805c-4e80-9ff0-a5ffa4a4758e",
   "metadata": {},
   "outputs": [
    {
     "data": {
      "text/plain": [
       "{True: False}"
      ]
     },
     "execution_count": 31,
     "metadata": {},
     "output_type": "execute_result"
    }
   ],
   "source": [
    "{True:False}"
   ]
  },
  {
   "cell_type": "code",
   "execution_count": 32,
   "id": "b4643ba0-46f8-451d-bdec-01219e2254b0",
   "metadata": {},
   "outputs": [
    {
     "data": {
      "text/plain": [
       "{50: 52.3}"
      ]
     },
     "execution_count": 32,
     "metadata": {},
     "output_type": "execute_result"
    }
   ],
   "source": [
    "{50:52.3}"
   ]
  },
  {
   "cell_type": "code",
   "execution_count": 34,
   "id": "b05379fa-d1bd-4ff4-9bae-37e56fca1f75",
   "metadata": {},
   "outputs": [
    {
     "ename": "TypeError",
     "evalue": "unhashable type: 'list'",
     "output_type": "error",
     "traceback": [
      "\u001b[1;31m---------------------------------------------------------------------------\u001b[0m",
      "\u001b[1;31mTypeError\u001b[0m                                 Traceback (most recent call last)",
      "Cell \u001b[1;32mIn[34], line 1\u001b[0m\n\u001b[1;32m----> 1\u001b[0m {[\u001b[38;5;241m20\u001b[39m,\u001b[38;5;241m50\u001b[39m]:[\u001b[38;5;241m40\u001b[39m,\u001b[38;5;241m60\u001b[39m]}\n",
      "\u001b[1;31mTypeError\u001b[0m: unhashable type: 'list'"
     ]
    }
   ],
   "source": [
    "{[20,50]:[40,60]}"
   ]
  },
  {
   "cell_type": "code",
   "execution_count": 35,
   "id": "d2926945-3312-46ee-8d96-ae5193744610",
   "metadata": {},
   "outputs": [
    {
     "data": {
      "text/plain": [
       "{(): ()}"
      ]
     },
     "execution_count": 35,
     "metadata": {},
     "output_type": "execute_result"
    }
   ],
   "source": [
    "{():()}"
   ]
  },
  {
   "cell_type": "code",
   "execution_count": 36,
   "id": "1444494b-163c-485d-9d37-ef560a61c992",
   "metadata": {},
   "outputs": [
    {
     "data": {
      "text/plain": [
       "{'': ''}"
      ]
     },
     "execution_count": 36,
     "metadata": {},
     "output_type": "execute_result"
    }
   ],
   "source": [
    "{'':''}"
   ]
  },
  {
   "cell_type": "code",
   "execution_count": 44,
   "id": "7e797276-5fc8-452b-99a1-84da9eae2433",
   "metadata": {},
   "outputs": [
    {
     "data": {
      "text/plain": [
       "{'ramesh': 20, 'suresh': 30, 'satish': 50}"
      ]
     },
     "execution_count": 44,
     "metadata": {},
     "output_type": "execute_result"
    }
   ],
   "source": [
    "{'ramesh':20,'suresh':30,'satish':50}\n"
   ]
  },
  {
   "cell_type": "markdown",
   "id": "bd249623-a893-456c-a34d-e4cf9eeceee2",
   "metadata": {},
   "source": [
    "- dictionaries does not allow duplicates\n",
    "- in dictionaries keys pay vital rols \n",
    "- keys can not be duplicates but values can be duplicate"
   ]
  },
  {
   "cell_type": "code",
   "execution_count": 45,
   "id": "638988d8-838e-4197-ad02-a448e95a27b0",
   "metadata": {},
   "outputs": [
    {
     "data": {
      "text/plain": [
       "{True: True}"
      ]
     },
     "execution_count": 45,
     "metadata": {},
     "output_type": "execute_result"
    }
   ],
   "source": [
    "{True:True}"
   ]
  },
  {
   "cell_type": "markdown",
   "id": "74e43c9d-69d9-4b0e-8f00-086ce805af24",
   "metadata": {},
   "source": [
    "- **list as key fails because list as a behavior as a mutable behavior**\n",
    "\n",
    "- **tupple as key work because tuple has immutable behaviour**\n",
    "\n",
    "- **in dictionaries key are very very inportant**\n",
    "\n",
    "- **keys does not change so when we apply list is failin**"
   ]
  },
  {
   "cell_type": "code",
   "execution_count": null,
   "id": "91536bd3-fad0-4800-9462-0e02d97c3aef",
   "metadata": {},
   "outputs": [],
   "source": [
    "if both keys are same it will takes latest value\n",
    "dictionary does not allow duplicates \n"
   ]
  },
  {
   "cell_type": "code",
   "execution_count": 3,
   "id": "51d65fe0-ba4c-4834-aaf4-0bba35532905",
   "metadata": {},
   "outputs": [
    {
     "data": {
      "text/plain": [
       "{'frutes': {'apple': 20}}"
      ]
     },
     "execution_count": 3,
     "metadata": {},
     "output_type": "execute_result"
    }
   ],
   "source": [
    "d14 = {'frutes':{'apple':20}}\n",
    "d14"
   ]
  },
  {
   "cell_type": "code",
   "execution_count": 5,
   "id": "7b4d0edc-99db-4ebb-9aa6-1af9be9d2898",
   "metadata": {},
   "outputs": [
    {
     "ename": "TypeError",
     "evalue": "unhashable type: 'dict'",
     "output_type": "error",
     "traceback": [
      "\u001b[1;31m---------------------------------------------------------------------------\u001b[0m",
      "\u001b[1;31mTypeError\u001b[0m                                 Traceback (most recent call last)",
      "Cell \u001b[1;32mIn[5], line 1\u001b[0m\n\u001b[1;32m----> 1\u001b[0m d15\u001b[38;5;241m=\u001b[39m{{\u001b[38;5;124m'\u001b[39m\u001b[38;5;124mapple\u001b[39m\u001b[38;5;124m'\u001b[39m:\u001b[38;5;241m20\u001b[39m}:\u001b[38;5;124m'\u001b[39m\u001b[38;5;124mfruites\u001b[39m\u001b[38;5;124m'\u001b[39m}\n\u001b[0;32m      2\u001b[0m d15\n",
      "\u001b[1;31mTypeError\u001b[0m: unhashable type: 'dict'"
     ]
    }
   ],
   "source": [
    "d15={{'apple':20}:'fruites'}\n"
   ]
  },
  {
   "cell_type": "code",
   "execution_count": 10,
   "id": "de6165c3-df42-4d7c-937c-b849d55051d5",
   "metadata": {},
   "outputs": [],
   "source": [
    "dict1={'Apple':20,'banana':20,'cherry':50}\n",
    "dict2={'apple':20,'apple':30}\n",
    "dict3={20:'Apple',30:'banana',50:'cherry'}"
   ]
  },
  {
   "cell_type": "code",
   "execution_count": 11,
   "id": "9ff86c71-d21b-4dc5-9b69-9899b93ec629",
   "metadata": {},
   "outputs": [
    {
     "data": {
      "text/plain": [
       "dict"
      ]
     },
     "execution_count": 11,
     "metadata": {},
     "output_type": "execute_result"
    }
   ],
   "source": [
    "type(dict1)\n",
    "type(dict2)\n",
    "type(dict3)"
   ]
  },
  {
   "cell_type": "code",
   "execution_count": 14,
   "id": "a22124f4-e73e-49af-8a55-b2c0725d1d55",
   "metadata": {},
   "outputs": [
    {
     "data": {
      "text/plain": [
       "3"
      ]
     },
     "execution_count": 14,
     "metadata": {},
     "output_type": "execute_result"
    }
   ],
   "source": [
    "len(dict1)\n",
    "len(dict2)\n",
    "len(dict3)"
   ]
  },
  {
   "cell_type": "code",
   "execution_count": 18,
   "id": "5b6f216d-49f2-4089-961d-0b1c5076e1f0",
   "metadata": {},
   "outputs": [
    {
     "name": "stdout",
     "output_type": "stream",
     "text": [
      "Apple\n",
      "apple\n",
      "20\n"
     ]
    }
   ],
   "source": [
    "print(min(dict1))\n",
    "print(min(dict2))\n",
    "print(min(dict3))"
   ]
  },
  {
   "cell_type": "code",
   "execution_count": 19,
   "id": "b8cbed98-44e2-405b-9f69-ca62a9ab9696",
   "metadata": {},
   "outputs": [
    {
     "name": "stdout",
     "output_type": "stream",
     "text": [
      "cherry\n",
      "apple\n",
      "50\n"
     ]
    }
   ],
   "source": [
    "print(max(dict1))\n",
    "print(max(dict2))\n",
    "print(max(dict3))"
   ]
  },
  {
   "cell_type": "code",
   "execution_count": 39,
   "id": "e10d0642-632b-479c-ac62-37b2184e503b",
   "metadata": {},
   "outputs": [
    {
     "name": "stdout",
     "output_type": "stream",
     "text": [
      "['Apple', 'banana', 'cherry']\n",
      "['apple']\n",
      "[20, 30, 50]\n"
     ]
    }
   ],
   "source": [
    "print(sorted(dict1))\n",
    "print(sorted(dict2))\n",
    "print(sorted(dict3))"
   ]
  },
  {
   "cell_type": "code",
   "execution_count": 38,
   "id": "087efbfc-2a33-40dd-a0b3-d60508528330",
   "metadata": {},
   "outputs": [
    {
     "name": "stdout",
     "output_type": "stream",
     "text": [
      "['cherry', 'banana', 'Apple']\n",
      "['apple']\n",
      "[50, 30, 20]\n"
     ]
    }
   ],
   "source": [
    "print(list(reversed(dict1)))\n",
    "print(list(reversed(dict2)))\n",
    "print(list(reversed(dict3)))"
   ]
  },
  {
   "cell_type": "code",
   "execution_count": 37,
   "id": "16714396-3e41-46ef-b82c-ac3eb1d8bb15",
   "metadata": {},
   "outputs": [
    {
     "data": {
      "text/plain": [
       "100"
      ]
     },
     "execution_count": 37,
     "metadata": {},
     "output_type": "execute_result"
    }
   ],
   "source": [
    "# sum(dict1)\n",
    "# print(sum(dict2))\n",
    "sum(dict3)"
   ]
  },
  {
   "cell_type": "code",
   "execution_count": 50,
   "id": "d7e5d565-fec8-4035-85e8-6c4fcc632428",
   "metadata": {},
   "outputs": [],
   "source": [
    "dict1={'Apple':20,'Banana':20,'Cherry':50}\n",
    "dict2={'Apple':20,'Apple':30}\n",
    "dict3={20:'Apple',30:'Banana',50:'Cherry'}\n",
    "# 'Apple' in dict1\n",
    "# 20 in dict1\n",
    "# 'Apple':20 in dict1"
   ]
  },
  {
   "cell_type": "code",
   "execution_count": 51,
   "id": "a45437b5-a2ad-437d-8466-e1a9d1af535a",
   "metadata": {},
   "outputs": [
    {
     "name": "stdout",
     "output_type": "stream",
     "text": [
      "Apple\n",
      "Banana\n",
      "Cherry\n"
     ]
    }
   ],
   "source": [
    "for i in dict1:\n",
    "    print(i)"
   ]
  },
  {
   "cell_type": "code",
   "execution_count": 59,
   "id": "297aaafc-a26f-40f6-8eb2-afbf7ed5bfda",
   "metadata": {},
   "outputs": [],
   "source": [
    "# for i in range(len(dict1)):\n",
    "#     dict1.index()"
   ]
  },
  {
   "cell_type": "code",
   "execution_count": 61,
   "id": "9a078c24-3490-41b5-b545-186de3d0ceda",
   "metadata": {},
   "outputs": [
    {
     "data": {
      "text/plain": [
       "10"
      ]
     },
     "execution_count": 61,
     "metadata": {},
     "output_type": "execute_result"
    }
   ],
   "source": [
    "l1=[10,20,30]\n",
    "l1[0]"
   ]
  },
  {
   "cell_type": "code",
   "execution_count": 63,
   "id": "c577cda3-c9e1-4f5a-8f3a-81735be759e6",
   "metadata": {},
   "outputs": [
    {
     "ename": "KeyError",
     "evalue": "0",
     "output_type": "error",
     "traceback": [
      "\u001b[1;31m---------------------------------------------------------------------------\u001b[0m",
      "\u001b[1;31mKeyError\u001b[0m                                  Traceback (most recent call last)",
      "Cell \u001b[1;32mIn[63], line 4\u001b[0m\n\u001b[0;32m      2\u001b[0m dict2\u001b[38;5;241m=\u001b[39m{\u001b[38;5;124m'\u001b[39m\u001b[38;5;124mapple\u001b[39m\u001b[38;5;124m'\u001b[39m:\u001b[38;5;241m20\u001b[39m,\u001b[38;5;124m'\u001b[39m\u001b[38;5;124mapple\u001b[39m\u001b[38;5;124m'\u001b[39m:\u001b[38;5;241m30\u001b[39m}\n\u001b[0;32m      3\u001b[0m dict3\u001b[38;5;241m=\u001b[39m{\u001b[38;5;241m20\u001b[39m:\u001b[38;5;124m'\u001b[39m\u001b[38;5;124mApple\u001b[39m\u001b[38;5;124m'\u001b[39m,\u001b[38;5;241m30\u001b[39m:\u001b[38;5;124m'\u001b[39m\u001b[38;5;124mbanana\u001b[39m\u001b[38;5;124m'\u001b[39m,\u001b[38;5;241m50\u001b[39m:\u001b[38;5;124m'\u001b[39m\u001b[38;5;124mcherry\u001b[39m\u001b[38;5;124m'\u001b[39m}\n\u001b[1;32m----> 4\u001b[0m dict1[\u001b[38;5;241m0\u001b[39m]\n",
      "\u001b[1;31mKeyError\u001b[0m: 0"
     ]
    }
   ],
   "source": [
    "dict1={'Apple':20,'banana':20,'cherry':50}\n",
    "dict2={'apple':20,'apple':30}\n",
    "dict3={20:'Apple',30:'banana',50:'cherry'}\n",
    "dict1[0]"
   ]
  },
  {
   "cell_type": "markdown",
   "id": "ff7abcd7-cb05-4755-8a50-167a933976c4",
   "metadata": {},
   "source": [
    "**keyError**\n",
    "\n"
   ]
  },
  {
   "cell_type": "markdown",
   "id": "e2f1bd21-7934-4ae6-b9d7-5ec6c2cea6d6",
   "metadata": {},
   "source": [
    "**how to extract the values**\n",
    "\n",
    "- in dictionaries we have a concept key:value pair\n",
    "\n",
    "- key are very inportant\n",
    "\n",
    "- in order to get the values we need to take keys help"
   ]
  },
  {
   "cell_type": "code",
   "execution_count": 3,
   "id": "676177a4-14c5-4453-ae49-2807f6992238",
   "metadata": {},
   "outputs": [
    {
     "data": {
      "text/plain": [
       "20"
      ]
     },
     "execution_count": 3,
     "metadata": {},
     "output_type": "execute_result"
    }
   ],
   "source": [
    "dict1={'Apple':20,'Banana':20,'Cherry':50}\n",
    "dict1['Apple']"
   ]
  },
  {
   "cell_type": "code",
   "execution_count": 69,
   "id": "98584c10-5592-4e1e-8c50-2582ffeca9a2",
   "metadata": {},
   "outputs": [
    {
     "data": {
      "text/plain": [
       "20"
      ]
     },
     "execution_count": 69,
     "metadata": {},
     "output_type": "execute_result"
    }
   ],
   "source": [
    "dict1['Banana']"
   ]
  },
  {
   "cell_type": "code",
   "execution_count": 4,
   "id": "f08c4b80-58ca-47e1-818b-d80c6ec8eb99",
   "metadata": {},
   "outputs": [
    {
     "data": {
      "text/plain": [
       "50"
      ]
     },
     "execution_count": 4,
     "metadata": {},
     "output_type": "execute_result"
    }
   ],
   "source": [
    "dict1['Cherry']"
   ]
  },
  {
   "cell_type": "code",
   "execution_count": 7,
   "id": "4f0b2634-d4da-4abf-ae7c-661b33fd33b0",
   "metadata": {},
   "outputs": [
    {
     "name": "stdout",
     "output_type": "stream",
     "text": [
      "Apple\n",
      "-----------\n",
      "20\n",
      "Banana\n",
      "-----------\n",
      "20\n",
      "Cherry\n",
      "-----------\n",
      "50\n"
     ]
    }
   ],
   "source": [
    "for i in dict1:\n",
    "    print(i) #key\n",
    "    print('-----------')\n",
    "    print(dict1[i]) #value"
   ]
  },
  {
   "cell_type": "code",
   "execution_count": 84,
   "id": "fcb6d41c-3b86-4992-a94e-89b551c8f249",
   "metadata": {},
   "outputs": [
    {
     "name": "stdout",
     "output_type": "stream",
     "text": [
      "ramesh age is  : 20\n",
      "suresh age is  : 25\n",
      "satish age is  : 30\n"
     ]
    }
   ],
   "source": [
    "# names=['ramesh','suresh','satish']\n",
    "# age=[20,25,30]\n",
    "names={'ramesh':20,'suresh':25,'satish':30}\n",
    "for i in names:\n",
    "    print(f'{i} age is  : {names[i]}')"
   ]
  },
  {
   "cell_type": "code",
   "execution_count": 88,
   "id": "8fcf2ecb-d9df-4ef3-8941-938a35dd2634",
   "metadata": {},
   "outputs": [
    {
     "data": {
      "text/plain": [
       "'cherry'"
      ]
     },
     "execution_count": 88,
     "metadata": {},
     "output_type": "execute_result"
    }
   ],
   "source": [
    "d={'Fruites':['Apple','banana','cherry']}\n",
    "d['Fruites'][2]"
   ]
  },
  {
   "cell_type": "code",
   "execution_count": 97,
   "id": "6a3661aa-1e7e-421b-bba4-883475522d3d",
   "metadata": {},
   "outputs": [
    {
     "data": {
      "text/plain": [
       "'green'"
      ]
     },
     "execution_count": 97,
     "metadata": {},
     "output_type": "execute_result"
    }
   ],
   "source": [
    "d={'Fruites':{'Apple':['sweet','sour','green']}}\n",
    "d['Fruites']['Apple'][2]"
   ]
  },
  {
   "cell_type": "code",
   "execution_count": 102,
   "id": "54ea855a-b39e-4cf4-92c6-410bf1010b37",
   "metadata": {},
   "outputs": [],
   "source": [
    "d={'fruites':[{'cost':[50]}]}"
   ]
  },
  {
   "cell_type": "code",
   "execution_count": 115,
   "id": "1624f0d0-9318-4df7-a05e-43dca9d90158",
   "metadata": {},
   "outputs": [
    {
     "data": {
      "text/plain": [
       "50"
      ]
     },
     "execution_count": 115,
     "metadata": {},
     "output_type": "execute_result"
    }
   ],
   "source": [
    "d['fruites'][0]['cost'][0]"
   ]
  },
  {
   "cell_type": "code",
   "execution_count": 122,
   "id": "a4259e22-4237-4aaf-b02d-49409e40c331",
   "metadata": {},
   "outputs": [],
   "source": [
    "d={'Fruites':['Apple'],'Cost':[{'1kg':[20,30,40],'2kg':None}]}"
   ]
  },
  {
   "cell_type": "code",
   "execution_count": 128,
   "id": "d9aafa8e-6ed7-48a6-a7a7-a350820f0dde",
   "metadata": {},
   "outputs": [
    {
     "data": {
      "text/plain": [
       "40"
      ]
     },
     "execution_count": 128,
     "metadata": {},
     "output_type": "execute_result"
    }
   ],
   "source": [
    "d['Cost'][0]['1kg'][2]"
   ]
  },
  {
   "cell_type": "code",
   "execution_count": 138,
   "id": "c809eb3a-ab6f-4d3c-b7ab-cf8c74e55429",
   "metadata": {},
   "outputs": [
    {
     "name": "stdout",
     "output_type": "stream",
     "text": [
      "40\n",
      "none:None\n"
     ]
    }
   ],
   "source": [
    "print(f\"{d['Cost'][0]['1kg'][2]}\")\n",
    "print(f\"none:{d['Cost'][0]['2kg']}\")"
   ]
  },
  {
   "cell_type": "code",
   "execution_count": 260,
   "id": "135ba723-3f79-4328-8de7-b628fe04f1a5",
   "metadata": {},
   "outputs": [
    {
     "data": {
      "text/plain": [
       "'shambhaji'"
      ]
     },
     "execution_count": 260,
     "metadata": {},
     "output_type": "execute_result"
    }
   ],
   "source": [
    "d={'Fruites':{'Orange':{'Nagpur':{'MH':{'King':{'Shivaji':{'shambhaji'}}}}}}}\n",
    "d['Fruites']['Orange']['Nagpur']['MH']['King']['Shivaji']\n",
    "list(d['Fruites']['Orange']['Nagpur']['MH']['King']['Shivaji'])[0]"
   ]
  },
  {
   "cell_type": "markdown",
   "id": "cc060b68-48d9-4f48-a198-0cc81bed05d8",
   "metadata": {},
   "source": [
    "**how to create an empty dictionary**\n",
    "\n",
    "- Now onward focus on creation of empty list , string and dictionary\n",
    "\n",
    "- we will take empty list will use to **append operation**\n",
    "\n",
    "- we will taek empty string will use **concationation**\n",
    "\n",
    "- how will take empty dictionary will use **key:value pair concept**"
   ]
  },
  {
   "cell_type": "code",
   "execution_count": 187,
   "id": "6c6b48d0-68eb-4b5e-8374-b868d19e981b",
   "metadata": {},
   "outputs": [
    {
     "data": {
      "text/plain": [
       "({'Ramesh': 20, 'Suresh': 25, 'Sathish': 30},\n",
       " {20: 'Ramesh', 25: 'Suresh', 30: 'Sathish'},\n",
       " {'Ramesh': '20', 'Suresh': '25', 'Sathish': 30},\n",
       " {'20': 'Ramesh', '25': 'Suresh', 30: 'Sathish'},\n",
       " {'Ramesh': 30},\n",
       " {'Ramesh': 20},\n",
       " {'Ramesh': 20, 'Suresh': 20},\n",
       " {20: 'Suresh'},\n",
       " {True: 'true'},\n",
       " {'fruites': ['Apple', 'Banana']},\n",
       " {'fruites': ('Apple', 'Banana')},\n",
       " {('Apple', 'Banana'): 'fruites'},\n",
       " {'Fruites': {'Apple': 20}})"
      ]
     },
     "execution_count": 187,
     "metadata": {},
     "output_type": "execute_result"
    }
   ],
   "source": [
    "# start your imaginzation make a dictionary with many ways\n",
    "d1={'Ramesh':20,'Suresh':25,'Sathish':30}\n",
    "d2={20:'Ramesh',25:'Suresh',30:'Sathish'}\n",
    "d3={'Ramesh':'20','Suresh':'25','Sathish':30}\n",
    "d4={'20':'Ramesh','25':'Suresh',30:'Sathish'}\n",
    "d5={'Ramesh':20,'Ramesh':30}\n",
    "# If both keys are same it will take the latest value\n",
    "# Dictionarys kind database\n",
    "d6={'Ramesh':20,'Ramesh':20}\n",
    "# Dictionarys does not allow duplicates\n",
    "d7={'Ramesh':20,'Suresh':20}\n",
    "# In dictionary keys pays vital rols\n",
    "# keys can not be duplicate but values can be duplicate\n",
    "d8={20:'Ramesh',20:'Suresh'}\n",
    "d9={True:'true'}\n",
    "d10={'fruites':['Apple','Banana']} # list is value\n",
    "#d11={['Apple','Banana']:'fruites'} # list is key\n",
    "d12={'fruites':('Apple','Banana')} # list is value\n",
    "d13={('Apple','Banana'):'fruites'} # list is key\n",
    "d14={'Fruites':{'Apple':20}}\n",
    "d1,d2,d3,d4,d5,d6,d7,d8,d9,d10,d12,d13,d14"
   ]
  },
  {
   "cell_type": "code",
   "execution_count": 151,
   "id": "aece6968-8b3a-4982-9ef6-cce5b1f3593e",
   "metadata": {},
   "outputs": [
    {
     "data": {
      "text/plain": [
       "[10, 20]"
      ]
     },
     "execution_count": 151,
     "metadata": {},
     "output_type": "execute_result"
    }
   ],
   "source": [
    "l=[]\n",
    "l.append(10)\n",
    "l.append(20)\n",
    "l"
   ]
  },
  {
   "cell_type": "code",
   "execution_count": 153,
   "id": "321e5abd-d0d0-43a0-bdf0-cc026c34d563",
   "metadata": {},
   "outputs": [
    {
     "data": {
      "text/plain": [
       "'python'"
      ]
     },
     "execution_count": 153,
     "metadata": {},
     "output_type": "execute_result"
    }
   ],
   "source": [
    "# strings\n",
    "s=''\n",
    "s=s+'p'\n",
    "s=s+'y'\n",
    "s=s+'t'\n",
    "s=s+'h'\n",
    "s=s+'o'\n",
    "s=s+'n'\n",
    "s"
   ]
  },
  {
   "cell_type": "code",
   "execution_count": 161,
   "id": "49be4f69-91a4-4070-8d04-ba631f64fe9e",
   "metadata": {},
   "outputs": [
    {
     "data": {
      "text/plain": [
       "{'Ramesh': 20, 'Suresh': 25, 'Satish': 30}"
      ]
     },
     "execution_count": 161,
     "metadata": {},
     "output_type": "execute_result"
    }
   ],
   "source": [
    "d={}\n",
    "d['Ramesh']=20\n",
    "d['Suresh']=25\n",
    "d['Satish']=30\n",
    "d"
   ]
  },
  {
   "cell_type": "code",
   "execution_count": 163,
   "id": "3b1a1f36-9358-4de0-af04-b4fbb343b88e",
   "metadata": {},
   "outputs": [
    {
     "name": "stdout",
     "output_type": "stream",
     "text": [
      "{'ramesh': 25, 'satish': 20, 'suresh': 30}\n"
     ]
    }
   ],
   "source": [
    "names={'ramesh','suresh','satish'}\n",
    "age={20,25,30}\n",
    "d={}\n",
    "for i,j in zip(names,age):\n",
    "    d[i]=j\n",
    "print(d)"
   ]
  },
  {
   "cell_type": "code",
   "execution_count": 166,
   "id": "ef8c6c81-6b37-4868-91c8-36ab99f1478d",
   "metadata": {},
   "outputs": [
    {
     "data": {
      "text/plain": [
       "{'mayur': 25, 'raju': 20, 'omya': 30}"
      ]
     },
     "execution_count": 166,
     "metadata": {},
     "output_type": "execute_result"
    }
   ],
   "source": [
    "names={'mayur','omya','raju'}\n",
    "age={20,25,30}\n",
    "d={}\n",
    "for i ,j in zip(names,age):\n",
    "    d[i]=j\n",
    "d"
   ]
  },
  {
   "cell_type": "markdown",
   "id": "651a6ee4-da1b-435b-87ae-b576322c0a75",
   "metadata": {},
   "source": [
    "**dictionary comprehension**"
   ]
  },
  {
   "cell_type": "markdown",
   "id": "ae530864-66eb-46b4-99a9-fed067b7127f",
   "metadata": {},
   "source": [
    "- for list comprehension we written eveything inside list\n",
    "\n",
    "- for dictionary comprehension we should write everything inside dictionary\n",
    "\n",
    "- list comprehension: [<output_for loop> <for loop> ]\n",
    "\n",
    "- dictionary comprehension : {<key:vlaue><for loop>}"
   ]
  },
  {
   "cell_type": "code",
   "execution_count": 177,
   "id": "457cbbce-1f6c-4368-a2b9-df2fc57974d0",
   "metadata": {},
   "outputs": [
    {
     "data": {
      "text/plain": [
       "{'mayur': 25, 'raju': 20, 'omya': 30}"
      ]
     },
     "execution_count": 177,
     "metadata": {},
     "output_type": "execute_result"
    }
   ],
   "source": [
    "names={'mayur','omya','raju'}\n",
    "age={20,25,30}\n",
    "d={}\n",
    "d1={i:j for i , j in zip(names,age)}  # dict comprehension\n",
    "d1"
   ]
  },
  {
   "cell_type": "markdown",
   "id": "d3de461f-8f74-4ae4-bcdb-c22da8b23072",
   "metadata": {},
   "source": [
    "**mutable-immutable**\n",
    "\n",
    "- lists are mutable\n",
    "\n",
    "- dictionaries are mutable\n",
    "\n",
    "- string are immutable\n",
    "\n",
    "- tuples are immutable\n",
    "\n",
    "- in dictionaries we can change the values using keys "
   ]
  },
  {
   "cell_type": "code",
   "execution_count": 180,
   "id": "d8564649-17f0-4e7b-83d9-b759f9c53bca",
   "metadata": {},
   "outputs": [
    {
     "data": {
      "text/plain": [
       "{'ramesh': 30, 'satish': 20, 'suresh': 30}"
      ]
     },
     "execution_count": 180,
     "metadata": {},
     "output_type": "execute_result"
    }
   ],
   "source": [
    "dict1={'ramesh': 25, 'satish': 20, 'suresh': 30}\n",
    "dict1['ramesh']=30   # mutable means we can change the values of dictionaries like list \n",
    "dict1 "
   ]
  },
  {
   "cell_type": "markdown",
   "id": "0b0f6b1b-c16c-42c8-bf85-9f01bf9777a8",
   "metadata": {},
   "source": [
    "**methods**"
   ]
  },
  {
   "cell_type": "code",
   "execution_count": 182,
   "id": "05fe07a1-d02f-4ec7-94a6-863c798f408a",
   "metadata": {},
   "outputs": [],
   "source": [
    "# 'clear',\n",
    "#  'copy',\n",
    "#  'fromkeys',\n",
    "#  'get',\n",
    "#  'items',\n",
    "#  'keys',\n",
    "#  'pop',\n",
    "#  'popitem',\n",
    "#  'setdefault',\n",
    "#  'update',\n",
    "#  'values'"
   ]
  },
  {
   "cell_type": "code",
   "execution_count": 194,
   "id": "971af20e-67d6-4599-be8c-ca51d8545ca4",
   "metadata": {},
   "outputs": [
    {
     "data": {
      "text/plain": [
       "{'banana': 30, 'apple': 30}"
      ]
     },
     "execution_count": 194,
     "metadata": {},
     "output_type": "execute_result"
    }
   ],
   "source": [
    "d={'banana':30,'apple':30}\n",
    "d"
   ]
  },
  {
   "cell_type": "code",
   "execution_count": 201,
   "id": "dd5cf51a-5af2-4ad5-a42b-b07bd2db7d35",
   "metadata": {},
   "outputs": [
    {
     "data": {
      "text/plain": [
       "{'mayur': 'cricket', 'chiku': 'football', 'virat': 'cricket'}"
      ]
     },
     "execution_count": 201,
     "metadata": {},
     "output_type": "execute_result"
    }
   ],
   "source": [
    "l1=['mayur','chiku','virat']\n",
    "hobby = ['cricket','football','cricket']\n",
    "d = {}\n",
    "for i,j in zip(l1,hobby):\n",
    "    d[i]=j\n",
    "d"
   ]
  },
  {
   "cell_type": "code",
   "execution_count": 210,
   "id": "70070066-65a4-4d85-b6b0-b489292a67eb",
   "metadata": {},
   "outputs": [
    {
     "data": {
      "text/plain": [
       "{'mayur': 'cricket'}"
      ]
     },
     "execution_count": 210,
     "metadata": {},
     "output_type": "execute_result"
    }
   ],
   "source": [
    "l1=['mayur','chiku','virat']\n",
    "hobby = ['cricket','football','cricket']\n",
    "di1={}\n",
    "di1[l1[0]]=hobby[0]\n",
    "di1"
   ]
  },
  {
   "cell_type": "code",
   "execution_count": 206,
   "id": "9857e37f-ead0-472a-adc3-8bc4651291db",
   "metadata": {},
   "outputs": [
    {
     "data": {
      "text/plain": [
       "{'mayur': 'cricket', 'chiku': 'football', 'virat': 'cricket'}"
      ]
     },
     "execution_count": 206,
     "metadata": {},
     "output_type": "execute_result"
    }
   ],
   "source": []
  },
  {
   "cell_type": "code",
   "execution_count": null,
   "id": "af66d7b0-e6f7-458b-99f3-eba55e2c67b3",
   "metadata": {},
   "outputs": [],
   "source": [
    "# 'clear',\n",
    "#  'copy',\n",
    "#  'fromkeys',\n",
    "#  'get',\n",
    "#  'items',\n",
    "#  'keys',\n",
    "#  'pop',\n",
    "#  'popitem',\n",
    "#  'setdefault',\n",
    "#  'update',\n",
    "#  'values'"
   ]
  },
  {
   "cell_type": "code",
   "execution_count": 238,
   "id": "6fb01cc6-e69e-498a-8642-724c5eede206",
   "metadata": {},
   "outputs": [
    {
     "data": {
      "text/plain": [
       "dict_items([('mayur', 20), ('chiku', 50), ('virat', 100)])"
      ]
     },
     "execution_count": 238,
     "metadata": {},
     "output_type": "execute_result"
    }
   ],
   "source": [
    "d={'mayur':20, 'chiku': 50, 'virat': 100}\n",
    "d1=d.copy()\n",
    "d1.get('virat')\n",
    "d1.items()"
   ]
  },
  {
   "cell_type": "code",
   "execution_count": 239,
   "id": "50e4e518-5787-4110-bbc6-3226972211e3",
   "metadata": {},
   "outputs": [
    {
     "data": {
      "text/plain": [
       "dict_keys(['mayur', 'chiku', 'virat'])"
      ]
     },
     "execution_count": 239,
     "metadata": {},
     "output_type": "execute_result"
    }
   ],
   "source": [
    "d1.keys()"
   ]
  },
  {
   "cell_type": "code",
   "execution_count": 245,
   "id": "64dad92c-1f9c-4d4f-b7f6-9bf0d0f8ebff",
   "metadata": {},
   "outputs": [
    {
     "data": {
      "text/plain": [
       "{'mayur': 20, 'chiku': 50}"
      ]
     },
     "execution_count": 245,
     "metadata": {},
     "output_type": "execute_result"
    }
   ],
   "source": [
    "d1"
   ]
  },
  {
   "cell_type": "code",
   "execution_count": 254,
   "id": "3dcb17e0-c08e-4e46-9021-9806643653c8",
   "metadata": {},
   "outputs": [
    {
     "name": "stdout",
     "output_type": "stream",
     "text": [
      "{'gill': 105, 'rohit': 97, 'virat': 103}\n",
      "{'gill': 105, 'rohit': 97, 'virat': 103}\n"
     ]
    }
   ],
   "source": [
    "d={'virat':103,'rohit':105,'gill':87}  # i want this output\n",
    "dict1={'virat','rohit','gill'}\n",
    "dict2={103,105,97}\n",
    "d={}\n",
    "for i , j in zip(dict1,dict2):\n",
    "    d[i]=j\n",
    "print(d)\n",
    "d={i:j for i,j in zip(dict1,dict2)}\n",
    "print(d)"
   ]
  },
  {
   "cell_type": "code",
   "execution_count": 3,
   "id": "123f2226-4ac6-4ee0-85f0-1aa188e41f74",
   "metadata": {},
   "outputs": [
    {
     "data": {
      "text/plain": [
       "dict_keys"
      ]
     },
     "execution_count": 3,
     "metadata": {},
     "output_type": "execute_result"
    }
   ],
   "source": [
    "d={'ramesh': 25, 'satish': 20, 'suresh': 30}\n",
    "keys=d.keys()\n",
    "type(keys)"
   ]
  },
  {
   "cell_type": "code",
   "execution_count": 4,
   "id": "6269b27a-7773-4c3c-bc35-ea0faa65de4e",
   "metadata": {},
   "outputs": [
    {
     "data": {
      "text/plain": [
       "dict_keys"
      ]
     },
     "execution_count": 4,
     "metadata": {},
     "output_type": "execute_result"
    }
   ],
   "source": [
    "type(keys)"
   ]
  },
  {
   "cell_type": "code",
   "execution_count": 5,
   "id": "68c99c72-2d88-458c-a58e-dc39cc274ca6",
   "metadata": {},
   "outputs": [
    {
     "ename": "AttributeError",
     "evalue": "'dict_keys' object has no attribute 'count'",
     "output_type": "error",
     "traceback": [
      "\u001b[1;31m---------------------------------------------------------------------------\u001b[0m",
      "\u001b[1;31mAttributeError\u001b[0m                            Traceback (most recent call last)",
      "Cell \u001b[1;32mIn[5], line 1\u001b[0m\n\u001b[1;32m----> 1\u001b[0m keys\u001b[38;5;241m.\u001b[39mcount(\u001b[38;5;124m'\u001b[39m\u001b[38;5;124mRamesh\u001b[39m\u001b[38;5;124m'\u001b[39m)\n",
      "\u001b[1;31mAttributeError\u001b[0m: 'dict_keys' object has no attribute 'count'"
     ]
    }
   ],
   "source": [
    "keys.count('Ramesh') #dict_keys' object has no attribute 'count'\n"
   ]
  },
  {
   "cell_type": "markdown",
   "id": "ded4b310-763b-4d14-bbd4-363ef35f5000",
   "metadata": {},
   "source": [
    "**convert dictionary to list**\n",
    "\n",
    "- in order to convert dictionary to list\n",
    "\n",
    "- first we need to seperate keys and values\n",
    "\n",
    "- then apply apply list type casting"
   ]
  },
  {
   "cell_type": "code",
   "execution_count": 17,
   "id": "7c4db5d4-d468-437e-895e-7b2c236dd7e3",
   "metadata": {},
   "outputs": [
    {
     "data": {
      "text/plain": [
       "['ramesh', 'satish', 'suresh']"
      ]
     },
     "execution_count": 17,
     "metadata": {},
     "output_type": "execute_result"
    }
   ],
   "source": [
    "d={'ramesh': 20, 'satish': 25, 'suresh': 30}\n",
    "keys=d.keys()\n",
    "keys_list=list(keys_list)\n",
    "keys_list"
   ]
  },
  {
   "cell_type": "code",
   "execution_count": 12,
   "id": "465d4d58-569a-4ece-be49-2714aa620bc1",
   "metadata": {},
   "outputs": [
    {
     "data": {
      "text/plain": [
       "[20, 25, 30]"
      ]
     },
     "execution_count": 12,
     "metadata": {},
     "output_type": "execute_result"
    }
   ],
   "source": [
    "d={'ramesh': 20, 'satish': 25, 'suresh': 30}\n",
    "values=d.values()\n",
    "values_list=list(values)\n",
    "values_list"
   ]
  },
  {
   "cell_type": "code",
   "execution_count": 14,
   "id": "109eeffc-9fce-4e06-9589-07ebed6c0d32",
   "metadata": {},
   "outputs": [
    {
     "data": {
      "text/plain": [
       "dict_items([('ramesh', 20), ('satish', 25), ('suresh', 30)])"
      ]
     },
     "execution_count": 14,
     "metadata": {},
     "output_type": "execute_result"
    }
   ],
   "source": [
    "d.items()"
   ]
  },
  {
   "cell_type": "code",
   "execution_count": null,
   "id": "b5c0aea7-abe3-4503-93bc-de0b967ef69a",
   "metadata": {},
   "outputs": [],
   "source": [
    "1.list === string    #join\n",
    "2.string === list    #using split\n",
    "3.list === dict      #zip\n",
    "4.dict === list      #typecasting"
   ]
  },
  {
   "cell_type": "code",
   "execution_count": 18,
   "id": "02840ca5-3123-41f4-b4a5-71064e745e78",
   "metadata": {},
   "outputs": [
    {
     "data": {
      "text/plain": [
       "(list, dict_keys)"
      ]
     },
     "execution_count": 18,
     "metadata": {},
     "output_type": "execute_result"
    }
   ],
   "source": [
    "type(keys_list),type(keys)"
   ]
  },
  {
   "cell_type": "code",
   "execution_count": 20,
   "id": "4d70dccf-3716-4fb9-b551-f7ff82495a93",
   "metadata": {},
   "outputs": [
    {
     "data": {
      "text/plain": [
       "1"
      ]
     },
     "execution_count": 20,
     "metadata": {},
     "output_type": "execute_result"
    }
   ],
   "source": [
    "keys_list.count('ramesh')"
   ]
  },
  {
   "cell_type": "code",
   "execution_count": null,
   "id": "1070b252-5948-46a0-a923-e07ceced7380",
   "metadata": {},
   "outputs": [],
   "source": [
    "d={'ramesh': 20, 'satish': 25, 'suresh': 30}\n",
    "keys=d.keys()\n",
    "keys_list=list(keys_list)\n",
    "keys_list"
   ]
  },
  {
   "cell_type": "code",
   "execution_count": null,
   "id": "3fb20fac-da64-4f9a-879c-b9c71dccc05c",
   "metadata": {},
   "outputs": [],
   "source": [
    "d={'ramesh': 20, 'satish': 25, 'suresh': 30}\n",
    "values=d.values()\n",
    "values_list=list(values)\n",
    "values_list"
   ]
  },
  {
   "cell_type": "code",
   "execution_count": 23,
   "id": "c90752f6-87c6-4020-a1c9-5a61c9c71a5a",
   "metadata": {},
   "outputs": [
    {
     "data": {
      "text/plain": [
       "dict_items([('ramesh', 20), ('satish', 25), ('suresh', 30)])"
      ]
     },
     "execution_count": 23,
     "metadata": {},
     "output_type": "execute_result"
    }
   ],
   "source": [
    "d.items()"
   ]
  },
  {
   "cell_type": "code",
   "execution_count": 22,
   "id": "24d4b2a1-d508-47b8-be28-3dc0a172eac2",
   "metadata": {},
   "outputs": [
    {
     "data": {
      "text/plain": [
       "(list, dict_keys)"
      ]
     },
     "execution_count": 22,
     "metadata": {},
     "output_type": "execute_result"
    }
   ],
   "source": [
    "type(keys_list),type(keys)"
   ]
  },
  {
   "cell_type": "code",
   "execution_count": 21,
   "id": "61140ea9-89fb-4e64-a728-c84683b47797",
   "metadata": {},
   "outputs": [
    {
     "data": {
      "text/plain": [
       "1"
      ]
     },
     "execution_count": 21,
     "metadata": {},
     "output_type": "execute_result"
    }
   ],
   "source": [
    "keys_list.count('ramesh')"
   ]
  },
  {
   "cell_type": "code",
   "execution_count": 45,
   "id": "5ef43ba1-7af9-4355-96e4-dd89c8d5e5e7",
   "metadata": {},
   "outputs": [
    {
     "data": {
      "text/plain": [
       "{'fname': ['virat', 'rohit', 'ms'],\n",
       " 'secondname': ['kohli', 'sharma', 'dhoni'],\n",
       " 'cname': ['rcb', 'mi', 'csk']}"
      ]
     },
     "execution_count": 45,
     "metadata": {},
     "output_type": "execute_result"
    }
   ],
   "source": [
    "input='virat.kohli@rcb.com;rohit.sharma@mi.com;ms.dhoni@csk.com'\n",
    "list1=input.split(';')\n",
    "firstname=[]\n",
    "secondname=[]\n",
    "cname=[]\n",
    "dict1={}\n",
    "for i in list1:\n",
    "    first_name=i.index('.')\n",
    "    second_name=i.index('@')\n",
    "    c_name=i.index('.',first_name+1)\n",
    "    firstname.append(i[:first_name])\n",
    "    secondname.append(i[first_name+1:second_name])\n",
    "    cname.append(i[second_name+1:c_name])\n",
    "dict1['fname']=firstname\n",
    "dict1['secondname']=secondname\n",
    "dict1['cname']=cname\n",
    "dict1"
   ]
  },
  {
   "cell_type": "markdown",
   "id": "272a7968-d208-4191-9c90-758d9738aafe",
   "metadata": {},
   "source": [
    "# list to dictionay"
   ]
  },
  {
   "cell_type": "code",
   "execution_count": 46,
   "id": "16a18412-34ae-4249-8db2-1c244ef0e262",
   "metadata": {},
   "outputs": [
    {
     "data": {
      "text/plain": [
       "{'fname': ['virat', 'rohit', 'ms'],\n",
       " 'secondname': ['kohli', 'sharma', 'dhoni'],\n",
       " 'company': ['rcb', 'mi', 'csk']}"
      ]
     },
     "execution_count": 46,
     "metadata": {},
     "output_type": "execute_result"
    }
   ],
   "source": [
    "d={}                      \n",
    "d['fname']=firstname\n",
    "d['secondname']=secondname\n",
    "d['company']=cname\n",
    "d"
   ]
  },
  {
   "cell_type": "code",
   "execution_count": 57,
   "id": "08512504-616b-4898-8d05-50390c79eb1a",
   "metadata": {},
   "outputs": [
    {
     "name": "stdout",
     "output_type": "stream",
     "text": [
      "50\n"
     ]
    },
    {
     "data": {
      "text/plain": [
       "{'ramesh': 20, 'satish': 60}"
      ]
     },
     "execution_count": 57,
     "metadata": {},
     "output_type": "execute_result"
    }
   ],
   "source": [
    "d={'ramesh':20,'suresh':50,'satish':60}\n",
    "print(d.pop('suresh'))\n",
    "d"
   ]
  },
  {
   "cell_type": "code",
   "execution_count": 59,
   "id": "cb2a0c4d-b28e-4ea6-a259-b0181ab6dfa6",
   "metadata": {},
   "outputs": [
    {
     "data": {
      "text/plain": [
       "{'ramesh': 20, 'suresh': 50}"
      ]
     },
     "execution_count": 59,
     "metadata": {},
     "output_type": "execute_result"
    }
   ],
   "source": [
    "d={'ramesh':20,'suresh':50,'satish':60}\n",
    "d.popitem()\n",
    "d"
   ]
  },
  {
   "cell_type": "code",
   "execution_count": 60,
   "id": "e4eb8f5a-fc9d-4423-b6b0-c63d0c85a66a",
   "metadata": {},
   "outputs": [
    {
     "data": {
      "text/plain": [
       "[20, 50, 60]"
      ]
     },
     "execution_count": 60,
     "metadata": {},
     "output_type": "execute_result"
    }
   ],
   "source": [
    "l=[20,50,60,40]\n",
    "l.pop()\n",
    "l"
   ]
  },
  {
   "cell_type": "code",
   "execution_count": null,
   "id": "5e2a60ba-0d1f-48a1-92a0-ab2a7c326bc0",
   "metadata": {},
   "outputs": [],
   "source": [
    "l.remove()"
   ]
  },
  {
   "cell_type": "markdown",
   "id": "168843b0-5e03-4e06-8cdf-7e1d5d88c69d",
   "metadata": {},
   "source": [
    "**'pop' in dictionary ,same analogy 'remove' in list**\n",
    "\n",
    "**popitem in dictionary , similar analogy pop in list**\n"
   ]
  },
  {
   "cell_type": "markdown",
   "id": "eea6ab22-e946-4391-8e0b-a2bd7db6e0f5",
   "metadata": {},
   "source": [
    "**get**"
   ]
  },
  {
   "cell_type": "code",
   "execution_count": 68,
   "id": "12d88443-815d-4ecf-9ceb-71b39ffba337",
   "metadata": {},
   "outputs": [
    {
     "data": {
      "text/plain": [
       "20"
      ]
     },
     "execution_count": 68,
     "metadata": {},
     "output_type": "execute_result"
    }
   ],
   "source": [
    "d={'ramesh': 20, 'suresh': 50}\n",
    "d.get('ramesh')      # same thing do with index\n"
   ]
  },
  {
   "cell_type": "code",
   "execution_count": 67,
   "id": "58e5723a-d2e7-4ad3-82e3-2302bf9d35bc",
   "metadata": {},
   "outputs": [
    {
     "data": {
      "text/plain": [
       "20"
      ]
     },
     "execution_count": 67,
     "metadata": {},
     "output_type": "execute_result"
    }
   ],
   "source": [
    "d['ramesh']     # key as an index   "
   ]
  },
  {
   "cell_type": "markdown",
   "id": "a7e82ef9-2585-4759-92a3-13bb0c4a77e0",
   "metadata": {},
   "source": [
    "**update**"
   ]
  },
  {
   "cell_type": "code",
   "execution_count": 76,
   "id": "538c6cc9-0061-414c-b1c6-b1866ca8f490",
   "metadata": {},
   "outputs": [
    {
     "data": {
      "text/plain": [
       "{'ramesh': 20, 'suresh': 50, 'satish': 30, 'saresh': 90}"
      ]
     },
     "execution_count": 76,
     "metadata": {},
     "output_type": "execute_result"
    }
   ],
   "source": [
    "d1={'ramesh': 20, 'suresh': 50}\n",
    "d2={'satish':30,'saresh':90}\n",
    "d1.update(d2)\n",
    "d1"
   ]
  },
  {
   "cell_type": "code",
   "execution_count": 77,
   "id": "86899542-bb31-4a8e-9762-2b02fa599007",
   "metadata": {},
   "outputs": [
    {
     "data": {
      "text/plain": [
       "[50, 20, 30, 60, 'mayur', 'virat']"
      ]
     },
     "execution_count": 77,
     "metadata": {},
     "output_type": "execute_result"
    }
   ],
   "source": [
    "l1=[50,20,30,60]\n",
    "l2=['mayur','virat']\n",
    "l1.extend(l2)\n",
    "l1"
   ]
  },
  {
   "cell_type": "markdown",
   "id": "5a2925ca-5de2-4207-94d5-2ffb7fed385c",
   "metadata": {},
   "source": [
    "**update** in dictionary is same analogy in **extend** in list"
   ]
  },
  {
   "cell_type": "markdown",
   "id": "eb432d64-ba86-4878-914f-8c1157014902",
   "metadata": {},
   "source": [
    "**setdefault**\n",
    "\n",
    "- suppose a already existed dictionary available\n",
    "\n",
    "- we can update the dictionary with new key value pair"
   ]
  },
  {
   "cell_type": "code",
   "execution_count": 84,
   "id": "170fb221-44b7-48df-a62b-ce6037408d64",
   "metadata": {},
   "outputs": [
    {
     "data": {
      "text/plain": [
       "{'ramesh': 20, 'suresh': 50, 'manish': None, 'mahesh': 35}"
      ]
     },
     "execution_count": 84,
     "metadata": {},
     "output_type": "execute_result"
    }
   ],
   "source": [
    "d1={'ramesh': 20, 'suresh': 50}\n",
    "\n",
    "d1.setdefault('manish')\n",
    "d1.setdefault('mahesh',35)\n",
    "d1"
   ]
  },
  {
   "cell_type": "markdown",
   "id": "3cc7e364-fc03-4870-9734-07caf5e9b313",
   "metadata": {},
   "source": [
    "**setdefault in dictionary** , same analogy **list append**\n",
    "\n",
    "- always remember dictionary is a **key:value** pair concept\n",
    "\n",
    "- it never involves index operations\n",
    "\n",
    "- thats why we dont have any index or find methods\n",
    "\n",
    "- we have get method to extract the values using key"
   ]
  },
  {
   "cell_type": "markdown",
   "id": "ff02d810-4387-421f-96e4-6b4212ec3e45",
   "metadata": {},
   "source": [
    "**fromkeys**\n",
    "\n",
    "- create a dictionary with different keys but same value\n",
    "\n",
    "- fromkeys will take an argument **iterable**\n",
    "\n",
    "- try to provide an interator i.e string ,list,tuple"
   ]
  },
  {
   "cell_type": "code",
   "execution_count": 90,
   "id": "9fcb1a5b-a144-4f73-9bfb-db99dbb31d85",
   "metadata": {},
   "outputs": [
    {
     "data": {
      "text/plain": [
       "{'p': 'nareshIt',\n",
       " 'y': 'nareshIt',\n",
       " 't': 'nareshIt',\n",
       " 'h': 'nareshIt',\n",
       " 'o': 'nareshIt',\n",
       " 'n': 'nareshIt',\n",
       " ' ': 'nareshIt',\n",
       " 'i': 'nareshIt',\n",
       " 's': 'nareshIt',\n",
       " 'g': 'nareshIt',\n",
       " 'd': 'nareshIt'}"
      ]
     },
     "execution_count": 90,
     "metadata": {},
     "output_type": "execute_result"
    }
   ],
   "source": [
    "d1={}\n",
    "names='python is good'\n",
    "d1.fromkeys(names,'nareshIt')"
   ]
  },
  {
   "cell_type": "code",
   "execution_count": 92,
   "id": "926bf010-37c5-405b-8e00-423bb5688bfd",
   "metadata": {},
   "outputs": [
    {
     "data": {
      "text/plain": [
       "{'p': 'nit', 'y': 'nit', 't': 'nit', 'h': 'nit', 'o': 'nit', 'n': 'nit'}"
      ]
     },
     "execution_count": 92,
     "metadata": {},
     "output_type": "execute_result"
    }
   ],
   "source": [
    "d={}\n",
    "d.fromkeys('python','nit')"
   ]
  },
  {
   "cell_type": "markdown",
   "id": "ac98ccf7-97be-4d79-be78-33affdd73ace",
   "metadata": {},
   "source": [
    "-**pop in dictionary** ,same analogy **remove' in list**\n",
    "\n",
    "- **pop item** in dictionary , similar analogy pop in list\n",
    "\n",
    "- list has count ,string has count and tuple also count\n",
    "\n",
    "- but dictionary does not have **count** \n",
    "\n",
    "- because dictionary does not allow **duplicate**\n",
    "\n",
    "- string have find but list does not have\n"
   ]
  },
  {
   "cell_type": "code",
   "execution_count": null,
   "id": "cf90f44a-7be3-4e05-978b-2bd311a1c8ac",
   "metadata": {},
   "outputs": [],
   "source": []
  }
 ],
 "metadata": {
  "kernelspec": {
   "display_name": "Python 3 (ipykernel)",
   "language": "python",
   "name": "python3"
  },
  "language_info": {
   "codemirror_mode": {
    "name": "ipython",
    "version": 3
   },
   "file_extension": ".py",
   "mimetype": "text/x-python",
   "name": "python",
   "nbconvert_exporter": "python",
   "pygments_lexer": "ipython3",
   "version": "3.12.7"
  }
 },
 "nbformat": 4,
 "nbformat_minor": 5
}
