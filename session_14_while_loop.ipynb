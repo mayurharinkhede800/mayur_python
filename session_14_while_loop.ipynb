{
 "cells": [
  {
   "cell_type": "markdown",
   "id": "35825840-3ef0-4735-9362-310d85b36273",
   "metadata": {},
   "source": [
    "**While Loop**\n",
    "- initialize to start\n",
    "- increment or decrement\n",
    "- condition to stop"
   ]
  },
  {
   "cell_type": "code",
   "execution_count": 1,
   "id": "aa1892d6-241c-4546-9a82-ea09633a608a",
   "metadata": {},
   "outputs": [
    {
     "name": "stdout",
     "output_type": "stream",
     "text": [
      "1 2 3 4 5 6 7 8 9 "
     ]
    }
   ],
   "source": [
    "for i in range(1,10):\n",
    "    print(i,end=' ')"
   ]
  },
  {
   "cell_type": "code",
   "execution_count": null,
   "id": "271b7b62-8ccc-4d8b-93b4-49d744d3d3bc",
   "metadata": {},
   "outputs": [],
   "source": [
    "<initialization>\n",
    "while <condition>:\n",
    "    # code\n",
    "    <increment> or <decrement>"
   ]
  },
  {
   "cell_type": "code",
   "execution_count": 5,
   "id": "41cc081f-13f8-4aa9-b841-dc676ae7117d",
   "metadata": {},
   "outputs": [
    {
     "name": "stdout",
     "output_type": "stream",
     "text": [
      "1 2 3 4 5 6 7 8 9 "
     ]
    }
   ],
   "source": [
    "i = 1\n",
    "while i < 10:\n",
    "    print(i,end=\" \")\n",
    "    i +=1"
   ]
  },
  {
   "cell_type": "code",
   "execution_count": 7,
   "id": "aebd6d0b-1341-4b3e-b0c0-22ffb2015271",
   "metadata": {},
   "outputs": [
    {
     "name": "stdout",
     "output_type": "stream",
     "text": [
      "1 2 "
     ]
    }
   ],
   "source": [
    "i = 1 \n",
    "while i < 3:\n",
    "    print(i,end=' ')\n",
    "    i = i + 1\n",
    "\n",
    "# step 1 : i = 1 while 1<3 true print(1) i = 1 + 1 = 2 \n",
    "# step 2 : i = 2 while 2<3 true print(2) i = 2 + 1 = 3\n",
    "# step 3 : i = 3 while 1<3 false"
   ]
  },
  {
   "cell_type": "code",
   "execution_count": null,
   "id": "4890faf0-e79c-4cba-8aae-a85cf8e939cf",
   "metadata": {},
   "outputs": [],
   "source": [
    "# Q1) print -1 to -10 \n",
    "# q2) 10 - 1 \n",
    "# -1 - -10\n",
    "-10 - -1\n"
   ]
  },
  {
   "cell_type": "code",
   "execution_count": 8,
   "id": "3f482cc0-a3e5-49fc-a397-869e4853289e",
   "metadata": {},
   "outputs": [
    {
     "name": "stdout",
     "output_type": "stream",
     "text": [
      "1 2 3 4 5 6 7 8 9 10 "
     ]
    }
   ],
   "source": [
    "i = 1\n",
    "while i <=10:\n",
    "    print(i,end=\" \")\n",
    "    i +=1"
   ]
  },
  {
   "cell_type": "code",
   "execution_count": 1,
   "id": "f058f8b6-ade2-4270-aa39-dd12350668f3",
   "metadata": {},
   "outputs": [
    {
     "name": "stdout",
     "output_type": "stream",
     "text": [
      "10 9 8 7 6 5 4 3 2 1 "
     ]
    }
   ],
   "source": [
    "i = 10\n",
    "while True:\n",
    "    print(i,end=\" \")\n",
    "    i -=1\n",
    "    if i == 0:\n",
    "        break"
   ]
  },
  {
   "cell_type": "code",
   "execution_count": 1,
   "id": "70494a24-23b7-4d58-beb4-91271b4031e6",
   "metadata": {},
   "outputs": [
    {
     "name": "stdout",
     "output_type": "stream",
     "text": [
      "10 9 8 7 6 5 4 3 2 1 "
     ]
    }
   ],
   "source": [
    "i = 10\n",
    "while i > 0:\n",
    "    print(i,end=\" \")\n",
    "    i = i - 1"
   ]
  },
  {
   "cell_type": "code",
   "execution_count": 2,
   "id": "924c314e-f8d8-4cb7-83c5-3560de49dbf3",
   "metadata": {},
   "outputs": [
    {
     "name": "stdout",
     "output_type": "stream",
     "text": [
      "-1 -2 -3 -4 -5 -6 -7 -8 -9 -10 "
     ]
    }
   ],
   "source": [
    "i = -1\n",
    "while i >=-10:\n",
    "    print(i,end=\" \")\n",
    "    i = i - 1"
   ]
  },
  {
   "cell_type": "code",
   "execution_count": 2,
   "id": "0753f3c8-4e2e-4981-97bf-5f602629c064",
   "metadata": {},
   "outputs": [
    {
     "name": "stdout",
     "output_type": "stream",
     "text": [
      "-10 -9 -8 -7 -6 -5 -4 -3 -2 -1 "
     ]
    }
   ],
   "source": [
    "i = -10\n",
    "while i <=-1:\n",
    "    print(i,end=\" \")\n",
    "    i = i + 1"
   ]
  },
  {
   "cell_type": "code",
   "execution_count": null,
   "id": "4b44e7a3-fcd9-446e-b9a2-6755f8fb51bd",
   "metadata": {},
   "outputs": [],
   "source": [
    "import random\n",
    "while True:\n",
    "    num1 = random.randint(1,10)\n",
    "    num2 = eval(input())\n",
    "    if num1==num2:\n",
    "        print('Won')\n",
    "    else:\n",
    "        print('loss')"
   ]
  },
  {
   "cell_type": "code",
   "execution_count": 3,
   "id": "7407fa28-fba5-457d-aba3-f999e90a0475",
   "metadata": {},
   "outputs": [
    {
     "name": "stdout",
     "output_type": "stream",
     "text": [
      "1\n",
      "4\n",
      "9\n",
      "16\n",
      "25\n"
     ]
    }
   ],
   "source": [
    "# Que1\n",
    "i = 1\n",
    "while i <= 5:\n",
    "    print(i*i)\n",
    "    i = i + 1"
   ]
  },
  {
   "cell_type": "code",
   "execution_count": 5,
   "id": "75212664-cb2c-4977-b5f3-97203a78d4d0",
   "metadata": {},
   "outputs": [
    {
     "name": "stdin",
     "output_type": "stream",
     "text": [
      "Enter the Number: 2\n"
     ]
    },
    {
     "name": "stdout",
     "output_type": "stream",
     "text": [
      "4\n"
     ]
    },
    {
     "name": "stdin",
     "output_type": "stream",
     "text": [
      "Enter the Number: 3\n"
     ]
    },
    {
     "name": "stdout",
     "output_type": "stream",
     "text": [
      "9\n"
     ]
    },
    {
     "name": "stdin",
     "output_type": "stream",
     "text": [
      "Enter the Number: 4\n"
     ]
    },
    {
     "name": "stdout",
     "output_type": "stream",
     "text": [
      "16\n"
     ]
    },
    {
     "name": "stdin",
     "output_type": "stream",
     "text": [
      "Enter the Number: 5\n"
     ]
    },
    {
     "name": "stdout",
     "output_type": "stream",
     "text": [
      "25\n"
     ]
    },
    {
     "name": "stdin",
     "output_type": "stream",
     "text": [
      "Enter the Number: 6\n"
     ]
    },
    {
     "name": "stdout",
     "output_type": "stream",
     "text": [
      "36\n"
     ]
    }
   ],
   "source": [
    "i = 1\n",
    "while i <= 5:\n",
    "    n1 = eval(input(\"Enter the Number:\"))\n",
    "    print(n1*n1)\n",
    "    i = i + 1"
   ]
  },
  {
   "cell_type": "code",
   "execution_count": 5,
   "id": "6e963461-29e7-4ed2-bfa0-ee02ae4decac",
   "metadata": {},
   "outputs": [
    {
     "name": "stdout",
     "output_type": "stream",
     "text": [
      "7\n",
      "14\n",
      "21\n",
      "28\n",
      "35\n",
      "42\n",
      "49\n",
      "56\n",
      "63\n",
      "70\n"
     ]
    }
   ],
   "source": [
    "i = 1\n",
    "\n",
    "while i <=10:\n",
    "    num =7\n",
    "    print(i*num)\n",
    "    i = i + 1"
   ]
  },
  {
   "cell_type": "code",
   "execution_count": 8,
   "id": "7cd6481c-d216-48dc-abb2-2fbcccb6ce22",
   "metadata": {},
   "outputs": [
    {
     "name": "stdin",
     "output_type": "stream",
     "text": [
      "Enter the table which you want 8\n"
     ]
    },
    {
     "name": "stdout",
     "output_type": "stream",
     "text": [
      "8\n",
      "16\n",
      "24\n",
      "32\n",
      "40\n",
      "48\n",
      "56\n",
      "64\n",
      "72\n",
      "80\n"
     ]
    }
   ],
   "source": [
    "i = 1\n",
    "numm = eval(input(\"Enter the table which you want\"))\n",
    "while i <=10:\n",
    "    print(i*numm)\n",
    "    i +=1"
   ]
  },
  {
   "cell_type": "code",
   "execution_count": 3,
   "id": "ad590d15-19ee-4755-9fbf-a10b39ed527e",
   "metadata": {},
   "outputs": [
    {
     "name": "stdout",
     "output_type": "stream",
     "text": [
      "1 is divisor of 75\n",
      "3 is divisor of 75\n",
      "5 is divisor of 75\n",
      "15 is divisor of 75\n",
      "25 is divisor of 75\n",
      "75 is divisor of 75\n"
     ]
    }
   ],
   "source": [
    "i = 1\n",
    "num = 75\n",
    "while i < num + 1:\n",
    "    if num % i == 0:\n",
    "        print(f'{i} is divisor of {num}')\n",
    "    i = i + 1"
   ]
  },
  {
   "cell_type": "code",
   "execution_count": 7,
   "id": "563fdd02-4f8b-443b-a8f7-17f5386413f6",
   "metadata": {},
   "outputs": [
    {
     "name": "stdout",
     "output_type": "stream",
     "text": [
      "55\n"
     ]
    }
   ],
   "source": [
    "i = 1\n",
    "summ = 0\n",
    "while i < 11:\n",
    "    summ = summ + i\n",
    "    i = i + 1\n",
    "print(summ)\n",
    "    "
   ]
  },
  {
   "cell_type": "code",
   "execution_count": 12,
   "id": "01ace849-e1c6-43c7-9471-faf9b970286f",
   "metadata": {},
   "outputs": [
    {
     "name": "stdout",
     "output_type": "stream",
     "text": [
      "summ of divisor of 75 is 124\n"
     ]
    }
   ],
   "source": [
    "i = 1\n",
    "summ = 0\n",
    "numm = 75\n",
    "while i < num + 1:\n",
    "    if numm % i == 0:\n",
    "        summ = summ + i\n",
    "    i = i + 1\n",
    "print(f\"summ of divisor of {num} is {summ}\") "
   ]
  },
  {
   "cell_type": "code",
   "execution_count": 13,
   "id": "ff0b760d-4d10-4219-a6c0-4567e11b6dd5",
   "metadata": {},
   "outputs": [
    {
     "name": "stdout",
     "output_type": "stream",
     "text": [
      "number of divisor of 75 is 6\n"
     ]
    }
   ],
   "source": [
    "i = 1\n",
    "summ = 0\n",
    "numm = 75\n",
    "while i < num + 1:\n",
    "    if numm % i == 0:\n",
    "        summ = summ + 1\n",
    "    i = i + 1\n",
    "print(f\"number of divisor of {num} is {summ}\") "
   ]
  },
  {
   "cell_type": "code",
   "execution_count": 28,
   "id": "3d929907-0c54-4506-84fc-574058fa8d18",
   "metadata": {},
   "outputs": [
    {
     "name": "stdout",
     "output_type": "stream",
     "text": [
      "32 is even\n",
      "33 is odd\n",
      "7 is odd\n",
      "18 is even\n",
      "count of even 2\n",
      "count of odd 2\n",
      "sum of even sum 50\n",
      "sum of odd sum 40\n"
     ]
    }
   ],
   "source": [
    "import random\n",
    "even_count = 0\n",
    "odd_count =0\n",
    "even_summ = 0\n",
    "odd_summ = 0\n",
    "i = 1\n",
    "\n",
    "while i<5:\n",
    "    number1 = random.randint(1,50)\n",
    "    if number1%2==0:\n",
    "        print(f'{number1} is even')\n",
    "        even_count = even_count + 1\n",
    "        even_summ = even_summ + number1\n",
    "    else:\n",
    "        print(f'{number1} is odd')\n",
    "        odd_count = odd_count + 1\n",
    "        odd_summ = odd_summ + number1\n",
    "    i = i + 1\n",
    "print(f'count of even {even_count}')\n",
    "print(f'count of odd {odd_count}')\n",
    "print(f'sum of even sum {even_summ}')\n",
    "print(f'sum of odd sum {odd_summ}')\n",
    "   "
   ]
  },
  {
   "cell_type": "code",
   "execution_count": 34,
   "id": "07307d4d-7593-4900-a4ff-cd6e21c9d23a",
   "metadata": {},
   "outputs": [
    {
     "name": "stdin",
     "output_type": "stream",
     "text": [
      " 2\n"
     ]
    },
    {
     "name": "stdout",
     "output_type": "stream",
     "text": [
      "yeah you won\n"
     ]
    }
   ],
   "source": [
    "import random\n",
    "i = 1\n",
    "\n",
    "while i <=3:\n",
    "    nummm = random.randint(1,5)\n",
    "    nummm2 = eval(input())\n",
    "    if nummm == nummm2:\n",
    "        print(\"yeah you won\")\n",
    "        break \n",
    "    else:\n",
    "        print(\"opps you lose\")\n",
    "    i = i + 1"
   ]
  },
  {
   "cell_type": "code",
   "execution_count": 36,
   "id": "7f63f26d-4b35-4f5b-92f6-dacb25f33575",
   "metadata": {},
   "outputs": [
    {
     "name": "stdin",
     "output_type": "stream",
     "text": [
      "enter the number : 1\n"
     ]
    },
    {
     "name": "stdout",
     "output_type": "stream",
     "text": [
      "better luck next time\n",
      "2 attempt is left\n"
     ]
    },
    {
     "name": "stdin",
     "output_type": "stream",
     "text": [
      "enter the number : 2\n"
     ]
    },
    {
     "name": "stdout",
     "output_type": "stream",
     "text": [
      "better luck next time\n",
      "1 attempt is left\n"
     ]
    },
    {
     "name": "stdin",
     "output_type": "stream",
     "text": [
      "enter the number : 2\n"
     ]
    },
    {
     "name": "stdout",
     "output_type": "stream",
     "text": [
      "better luck next time\n",
      "0 attempt is left\n",
      "try after 24hours time\n"
     ]
    }
   ],
   "source": [
    "i = 1\n",
    "count =0\n",
    "while i <= 3:\n",
    "    nummm = eval(input(\"enter the number :\"))\n",
    "    nummm2 = random.randint(1,10) \n",
    "    if nummm == nummm2:\n",
    "        print(\"yeah you won\")\n",
    "        break \n",
    "    else:\n",
    "        count = count + 1\n",
    "        print(\"better luck next time\")\n",
    "        print(f'{3-count} attempt is left')\n",
    "    if count == 3:\n",
    "        print('try after 24hours time')\n",
    "    i = i + 1"
   ]
  },
  {
   "cell_type": "code",
   "execution_count": null,
   "id": "81f5a7e2-02b0-43b9-9489-8c6dee2ba05e",
   "metadata": {},
   "outputs": [],
   "source": []
  },
  {
   "cell_type": "code",
   "execution_count": null,
   "id": "7b94cd94-09f7-421e-8485-080a3e50e40b",
   "metadata": {},
   "outputs": [],
   "source": []
  },
  {
   "cell_type": "code",
   "execution_count": null,
   "id": "8259b415-5cb8-4d37-b81e-ee4025e6e87f",
   "metadata": {},
   "outputs": [],
   "source": []
  },
  {
   "cell_type": "code",
   "execution_count": null,
   "id": "5aa74095-c5b7-4687-949c-9ef38ef36d7f",
   "metadata": {},
   "outputs": [],
   "source": []
  },
  {
   "cell_type": "code",
   "execution_count": null,
   "id": "2f826f07-741e-4281-ac45-fbbaba2b3bb6",
   "metadata": {},
   "outputs": [],
   "source": []
  },
  {
   "cell_type": "code",
   "execution_count": null,
   "id": "99bb676e-6737-4475-b6ef-5287e3b45235",
   "metadata": {},
   "outputs": [],
   "source": []
  }
 ],
 "metadata": {
  "kernelspec": {
   "display_name": "Python 3 (ipykernel)",
   "language": "python",
   "name": "python3"
  },
  "language_info": {
   "codemirror_mode": {
    "name": "ipython",
    "version": 3
   },
   "file_extension": ".py",
   "mimetype": "text/x-python",
   "name": "python",
   "nbconvert_exporter": "python",
   "pygments_lexer": "ipython3",
   "version": "3.12.7"
  }
 },
 "nbformat": 4,
 "nbformat_minor": 5
}
