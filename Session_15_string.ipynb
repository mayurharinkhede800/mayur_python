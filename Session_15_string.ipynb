{
 "cells": [
  {
   "cell_type": "code",
   "execution_count": null,
   "id": "e77d5fc5-b6ad-46ca-ad8f-4f064feb41ed",
   "metadata": {},
   "outputs": [],
   "source": [
    "============================== basic python ================================\n",
    "- variable\n",
    "- data type\n",
    "- type conversion\n",
    "- eval and in\n",
    "put\n",
    "- basic codes\n",
    "- packages\n",
    "- conditional statemment\n",
    "- try and exceptions\n",
    "- functions\n",
    "- for loop\n",
    "- while loop\n",
    "- =======================================Intermidiate python=================\n",
    "- string\n",
    "- list\n",
    "- list conprehension\n",
    "- tuple\n",
    "- sets\n",
    "- dictionary\n",
    "- lambda function\n",
    "- file handling\n",
    "- ====================================OOPS concept=======================(ML)"
   ]
  },
  {
   "cell_type": "markdown",
   "id": "5e4cd8aa-6a2e-4295-a7eb-f674d7327059",
   "metadata": {},
   "source": [
    "- basic representation\n",
    "- inbuild function\n",
    "    - print\n",
    "    - type\n",
    "    - len\n",
    "    - sum\n",
    "    - min\n",
    "    - max\n",
    "    - sorted\n",
    "    - reversed\n",
    "- contatination\n",
    "- indexing\n",
    "- mutable or immutable \n",
    "- slice\n",
    "- methods"
   ]
  },
  {
   "cell_type": "markdown",
   "id": "63e2fce6-c3cf-4d58-986b-8c668f002b1d",
   "metadata": {},
   "source": [
    "**basic representation**"
   ]
  },
  {
   "cell_type": "code",
   "execution_count": 3,
   "id": "dfb877d3-1618-4430-99fa-f0cbdffadc67",
   "metadata": {},
   "outputs": [
    {
     "data": {
      "text/plain": [
       "'python'"
      ]
     },
     "execution_count": 3,
     "metadata": {},
     "output_type": "execute_result"
    }
   ],
   "source": [
    "name = 'python'\n",
    "name\n"
   ]
  },
  {
   "cell_type": "code",
   "execution_count": 2,
   "id": "a4920827-dbb4-42a9-8551-fe36063818d4",
   "metadata": {},
   "outputs": [
    {
     "name": "stdout",
     "output_type": "stream",
     "text": [
      "python\n"
     ]
    }
   ],
   "source": [
    "print(name)"
   ]
  },
  {
   "cell_type": "code",
   "execution_count": 3,
   "id": "29ae16bd-fa13-4729-9d2e-16ae9b20bf74",
   "metadata": {},
   "outputs": [
    {
     "data": {
      "text/plain": [
       "'python'"
      ]
     },
     "execution_count": 3,
     "metadata": {},
     "output_type": "execute_result"
    }
   ],
   "source": [
    "name = \"python\"\n",
    "name"
   ]
  },
  {
   "cell_type": "markdown",
   "id": "cdc71c58-d4f0-442a-936c-f32bcd2c1e45",
   "metadata": {},
   "source": [
    "- python by default gives output in **' ' quotes**\n",
    "- when we print output display without quotes"
   ]
  },
  {
   "cell_type": "code",
   "execution_count": 5,
   "id": "6d778a51-28fd-43d8-9d87-2a800177cb9d",
   "metadata": {},
   "outputs": [
    {
     "name": "stdout",
     "output_type": "stream",
     "text": [
      "i love 'python'\n"
     ]
    },
    {
     "data": {
      "text/plain": [
       "\"i love 'python'\""
      ]
     },
     "execution_count": 5,
     "metadata": {},
     "output_type": "execute_result"
    }
   ],
   "source": [
    "str1 = \"i love 'python'\"\n",
    "print(str1)\n",
    "str1"
   ]
  },
  {
   "cell_type": "code",
   "execution_count": 8,
   "id": "a80e9b84-6b41-4c8c-bcbb-48095f566d27",
   "metadata": {},
   "outputs": [
    {
     "name": "stdout",
     "output_type": "stream",
     "text": [
      "i love \"python\"\n"
     ]
    },
    {
     "data": {
      "text/plain": [
       "'i love \"python\"'"
      ]
     },
     "execution_count": 8,
     "metadata": {},
     "output_type": "execute_result"
    }
   ],
   "source": [
    "str2 = 'i love \"python\"'\n",
    "print(str2)\n",
    "str2"
   ]
  },
  {
   "cell_type": "markdown",
   "id": "2bf469fd-a9b0-41a2-a687-90f4b2967279",
   "metadata": {},
   "source": [
    "**doc string**\n",
    "- triple qoutes called as doc string\n",
    "- triple quotes means user try to convey some information"
   ]
  },
  {
   "cell_type": "code",
   "execution_count": 9,
   "id": "35f2e192-ade7-4e2a-af9c-b255f4dff43a",
   "metadata": {},
   "outputs": [
    {
     "data": {
      "text/plain": [
       "str"
      ]
     },
     "execution_count": 9,
     "metadata": {},
     "output_type": "execute_result"
    }
   ],
   "source": [
    "name='python'\n",
    "type(name)"
   ]
  },
  {
   "cell_type": "code",
   "execution_count": 29,
   "id": "0c40b878-d4c3-40e4-814e-2bcc0486cb69",
   "metadata": {},
   "outputs": [
    {
     "data": {
      "text/plain": [
       "5"
      ]
     },
     "execution_count": 29,
     "metadata": {},
     "output_type": "execute_result"
    }
   ],
   "source": [
    "len('mayur')"
   ]
  },
  {
   "cell_type": "code",
   "execution_count": 27,
   "id": "111b081c-8926-4aae-8e96-b3b316243ffb",
   "metadata": {},
   "outputs": [
    {
     "data": {
      "text/plain": [
       "'h'"
      ]
     },
     "execution_count": 27,
     "metadata": {},
     "output_type": "execute_result"
    }
   ],
   "source": [
    "min('python')"
   ]
  },
  {
   "cell_type": "code",
   "execution_count": 20,
   "id": "0d7dd357-5ce8-4a7e-85ee-c2dc7336bbc2",
   "metadata": {},
   "outputs": [
    {
     "data": {
      "text/plain": [
       "'y'"
      ]
     },
     "execution_count": 20,
     "metadata": {},
     "output_type": "execute_result"
    }
   ],
   "source": [
    "max('python')"
   ]
  },
  {
   "cell_type": "code",
   "execution_count": 21,
   "id": "2975312a-ba8e-461f-92af-558406aa370e",
   "metadata": {},
   "outputs": [
    {
     "data": {
      "text/plain": [
       "['h', 'n', 'o', 'p', 't', 'y']"
      ]
     },
     "execution_count": 21,
     "metadata": {},
     "output_type": "execute_result"
    }
   ],
   "source": [
    "sorted('python')"
   ]
  },
  {
   "cell_type": "code",
   "execution_count": 23,
   "id": "57fd3b59-7837-4c54-96c9-148d35770a82",
   "metadata": {},
   "outputs": [
    {
     "data": {
      "text/plain": [
       "<reversed at 0x1209c9ff7c0>"
      ]
     },
     "execution_count": 23,
     "metadata": {},
     "output_type": "execute_result"
    }
   ],
   "source": [
    "reversed('python')"
   ]
  },
  {
   "cell_type": "code",
   "execution_count": 35,
   "id": "aee4aeff-d384-4344-a39c-fc2e24d97047",
   "metadata": {},
   "outputs": [
    {
     "name": "stdout",
     "output_type": "stream",
     "text": [
      "112 p\n",
      "121 y\n",
      "116 t\n",
      "104 h\n",
      "111 o\n",
      "110 n\n"
     ]
    }
   ],
   "source": [
    "for i in 'python':\n",
    "    print(ord(i),i)"
   ]
  },
  {
   "cell_type": "markdown",
   "id": "ffa39c22-5a09-447b-87f0-45b33ed24fa7",
   "metadata": {},
   "source": [
    "**min**"
   ]
  },
  {
   "cell_type": "code",
   "execution_count": 36,
   "id": "001648f2-fbca-403c-87d7-263abe2d5753",
   "metadata": {},
   "outputs": [
    {
     "data": {
      "text/plain": [
       "'h'"
      ]
     },
     "execution_count": 36,
     "metadata": {},
     "output_type": "execute_result"
    }
   ],
   "source": [
    "min('python')"
   ]
  },
  {
   "cell_type": "markdown",
   "id": "873903cb-647e-41d1-b789-3906523044f2",
   "metadata": {},
   "source": [
    "**sorted**\n",
    "- eigther ascending order or descennding order\n",
    "- ascending : small to big\n",
    "- descending : big to small\n"
   ]
  },
  {
   "cell_type": "code",
   "execution_count": 37,
   "id": "7fd5eee4-5a69-4e6b-8acc-c9f32af50b24",
   "metadata": {},
   "outputs": [
    {
     "data": {
      "text/plain": [
       "['h', 'n', 'o', 'p', 't', 'y']"
      ]
     },
     "execution_count": 37,
     "metadata": {},
     "output_type": "execute_result"
    }
   ],
   "source": [
    "sorted('python') #ascending order by default"
   ]
  },
  {
   "cell_type": "code",
   "execution_count": null,
   "id": "c8b326f9-8494-4639-923a-c28aae0b3135",
   "metadata": {},
   "outputs": [],
   "source": [
    "sorted()"
   ]
  },
  {
   "cell_type": "markdown",
   "id": "42b6f681-a807-407a-9e7a-a5538081b2b3",
   "metadata": {},
   "source": [
    "**iterator**:anything that print using the loop"
   ]
  },
  {
   "cell_type": "code",
   "execution_count": 38,
   "id": "519782fd-63e1-4e0a-9471-bef493c98eb4",
   "metadata": {},
   "outputs": [
    {
     "name": "stdout",
     "output_type": "stream",
     "text": [
      "30\n"
     ]
    }
   ],
   "source": [
    "def add(a,b):\n",
    "    print(a+b)\n",
    "add(10,20)"
   ]
  },
  {
   "cell_type": "code",
   "execution_count": 39,
   "id": "fb930db4-bfb1-48e2-9240-ba1dde5e2338",
   "metadata": {},
   "outputs": [
    {
     "name": "stdout",
     "output_type": "stream",
     "text": [
      "30\n"
     ]
    }
   ],
   "source": [
    "def add(a,b):\n",
    "    print(a+b)\n",
    "add(a=10,b=20)"
   ]
  },
  {
   "cell_type": "code",
   "execution_count": null,
   "id": "399f9e4f-7e3d-4fbd-ac73-ea75679b00fd",
   "metadata": {},
   "outputs": [],
   "source": [
    "def add(a,/,b):\n",
    "    print(a+b)\n",
    "add(a=10,20)"
   ]
  },
  {
   "cell_type": "code",
   "execution_count": null,
   "id": "c95e627f-ffcf-4a8a-a9b8-024f572feb9c",
   "metadata": {},
   "outputs": [],
   "source": [
    "def add(a,/,b):\n",
    "    print(a+b)\n",
    "add(10,b=20)"
   ]
  },
  {
   "cell_type": "markdown",
   "id": "10d215e1-c2bf-485d-8b89-aacdd669da8a",
   "metadata": {},
   "source": [
    "**note**\n",
    "- / before not use argument name\n",
    "- / after you can use argument name,that is our wish\n",
    "- *indicate no need to maintain the order of the orgument"
   ]
  },
  {
   "cell_type": "markdown",
   "id": "8f6b8dad-8adc-4eb3-8bb3-476736d5b47b",
   "metadata": {},
   "source": [
    "slash before not use argument name"
   ]
  },
  {
   "cell_type": "code",
   "execution_count": 40,
   "id": "3b3663e2-7b6b-47e8-9af4-67dc1e075503",
   "metadata": {},
   "outputs": [
    {
     "name": "stdout",
     "output_type": "stream",
     "text": [
      "60\n"
     ]
    }
   ],
   "source": [
    "def add(a,/,b,c):\n",
    "    print(a+b+c)\n",
    "add(10,c=20,b=30)"
   ]
  },
  {
   "cell_type": "code",
   "execution_count": 41,
   "id": "c5c7f6eb-6143-4691-844b-49cfac36136a",
   "metadata": {},
   "outputs": [
    {
     "ename": "TypeError",
     "evalue": "add() missing 1 required positional argument: 'b'",
     "output_type": "error",
     "traceback": [
      "\u001b[1;31m---------------------------------------------------------------------------\u001b[0m",
      "\u001b[1;31mTypeError\u001b[0m                                 Traceback (most recent call last)",
      "Cell \u001b[1;32mIn[41], line 1\u001b[0m\n\u001b[1;32m----> 1\u001b[0m add(\u001b[38;5;241m10\u001b[39m,c\u001b[38;5;241m=\u001b[39m\u001b[38;5;241m20\u001b[39m)\n",
      "\u001b[1;31mTypeError\u001b[0m: add() missing 1 required positional argument: 'b'"
     ]
    }
   ],
   "source": [
    "add(10,c=20)"
   ]
  },
  {
   "cell_type": "code",
   "execution_count": null,
   "id": "944e302f-0ebf-45ff-98a6-9f68ce9159ae",
   "metadata": {},
   "outputs": [],
   "source": [
    "def add(a,/,b,c):\n",
    "    print(a+b+c)\n",
    "add(10,c=20,b=30)"
   ]
  },
  {
   "cell_type": "markdown",
   "id": "b3a9f7c5-b57d-431a-bb58-abadc32e6297",
   "metadata": {},
   "source": [
    "**note**\n",
    "- (*) indicates provide the orgument name"
   ]
  },
  {
   "cell_type": "code",
   "execution_count": 50,
   "id": "bec4e96e-a6c5-4d04-9d72-04e82106c4e8",
   "metadata": {},
   "outputs": [
    {
     "data": {
      "text/plain": [
       "['y', 't', 'p', 'o', 'n', 'h']"
      ]
     },
     "execution_count": 50,
     "metadata": {},
     "output_type": "execute_result"
    }
   ],
   "source": [
    "sorted('python') # w by default   reversed=False\n",
    "sorted(iterable='python')  #f\n",
    "sorted(iterable='python',reverse=True)  #f\n",
    "sorted('python',True)"
   ]
  },
  {
   "cell_type": "markdown",
   "id": "4552912e-9747-43b3-882e-bf9f0b0f1af8",
   "metadata": {},
   "source": [
    "**reversed**"
   ]
  },
  {
   "cell_type": "code",
   "execution_count": 54,
   "id": "544f9a11-e339-4f3d-b73e-2961ed789740",
   "metadata": {},
   "outputs": [
    {
     "data": {
      "text/plain": [
       "<reversed at 0x1209de97a60>"
      ]
     },
     "execution_count": 54,
     "metadata": {},
     "output_type": "execute_result"
    }
   ],
   "source": [
    "ans=reversed('prashant')\n",
    "ans"
   ]
  },
  {
   "cell_type": "markdown",
   "id": "9446cb5e-56b0-4cd6-9c20-0ef821894788",
   "metadata": {},
   "source": [
    "- adress saved at memory location \n",
    "- we can see the ans by using for loop or list\n",
    "- whenever we see less than greater than symbol answer\n",
    "- try to use for loop or list"
   ]
  },
  {
   "cell_type": "code",
   "execution_count": 29,
   "id": "0b14740b-a7b6-4bc3-acab-b7f95a53e01c",
   "metadata": {},
   "outputs": [],
   "source": [
    "for i in ans:\n",
    "    print(i)"
   ]
  },
  {
   "cell_type": "code",
   "execution_count": 27,
   "id": "401b7dfa-ed12-4595-8968-e3a96a8afdf9",
   "metadata": {},
   "outputs": [
    {
     "data": {
      "text/plain": [
       "['r', 'u', 'y', 'a', 'm']"
      ]
     },
     "execution_count": 27,
     "metadata": {},
     "output_type": "execute_result"
    }
   ],
   "source": [
    "ans = reversed('mayur')\n",
    "list(ans)"
   ]
  },
  {
   "cell_type": "markdown",
   "id": "6c3a68fe-ad75-46f3-9fe6-e57d2fd25a88",
   "metadata": {},
   "source": [
    "**contatination**"
   ]
  },
  {
   "cell_type": "code",
   "execution_count": 58,
   "id": "c1b1f122-33a1-4b9e-97be-faaf1ed043c7",
   "metadata": {},
   "outputs": [
    {
     "ename": "TypeError",
     "evalue": "unsupported operand type(s) for -: 'str' and 'str'",
     "output_type": "error",
     "traceback": [
      "\u001b[1;31m---------------------------------------------------------------------------\u001b[0m",
      "\u001b[1;31mTypeError\u001b[0m                                 Traceback (most recent call last)",
      "Cell \u001b[1;32mIn[58], line 4\u001b[0m\n\u001b[0;32m      2\u001b[0m str2 \u001b[38;5;241m=\u001b[39m \u001b[38;5;124m'\u001b[39m\u001b[38;5;124mpython\u001b[39m\u001b[38;5;124m'\u001b[39m\n\u001b[0;32m      3\u001b[0m str1\u001b[38;5;241m+\u001b[39mstr2\n\u001b[1;32m----> 4\u001b[0m str1\u001b[38;5;241m-\u001b[39mstr2\n\u001b[0;32m      5\u001b[0m str1\u001b[38;5;241m*\u001b[39mstr2\n\u001b[0;32m      6\u001b[0m str1\u001b[38;5;241m/\u001b[39mstr2\n",
      "\u001b[1;31mTypeError\u001b[0m: unsupported operand type(s) for -: 'str' and 'str'"
     ]
    }
   ],
   "source": [
    "str1 = 'hello'\n",
    "str2 = 'python'\n",
    "str1+str2\n",
    "str1-str2\n",
    "str1*str2\n",
    "str1/str2"
   ]
  },
  {
   "cell_type": "code",
   "execution_count": 64,
   "id": "740e92e6-1b91-4e30-badd-b3b5ab9a46d5",
   "metadata": {},
   "outputs": [
    {
     "ename": "TypeError",
     "evalue": "unsupported operand type(s) for -: 'str' and 'str'",
     "output_type": "error",
     "traceback": [
      "\u001b[1;31m---------------------------------------------------------------------------\u001b[0m",
      "\u001b[1;31mTypeError\u001b[0m                                 Traceback (most recent call last)",
      "Cell \u001b[1;32mIn[64], line 1\u001b[0m\n\u001b[1;32m----> 1\u001b[0m str1\u001b[38;5;241m-\u001b[39mstr2\n",
      "\u001b[1;31mTypeError\u001b[0m: unsupported operand type(s) for -: 'str' and 'str'"
     ]
    }
   ],
   "source": [
    "str1-str2"
   ]
  },
  {
   "cell_type": "code",
   "execution_count": 65,
   "id": "f1a1e28d-f501-4f59-ad39-0b74111fb689",
   "metadata": {},
   "outputs": [
    {
     "ename": "TypeError",
     "evalue": "can't multiply sequence by non-int of type 'str'",
     "output_type": "error",
     "traceback": [
      "\u001b[1;31m---------------------------------------------------------------------------\u001b[0m",
      "\u001b[1;31mTypeError\u001b[0m                                 Traceback (most recent call last)",
      "Cell \u001b[1;32mIn[65], line 1\u001b[0m\n\u001b[1;32m----> 1\u001b[0m str1\u001b[38;5;241m*\u001b[39mstr2\n",
      "\u001b[1;31mTypeError\u001b[0m: can't multiply sequence by non-int of type 'str'"
     ]
    }
   ],
   "source": [
    "str1*str2"
   ]
  },
  {
   "cell_type": "code",
   "execution_count": 68,
   "id": "75769b99-f91d-4702-b968-fbdbf22c116e",
   "metadata": {},
   "outputs": [
    {
     "data": {
      "text/plain": [
       "'pyhtonpyhtonpyhton'"
      ]
     },
     "execution_count": 68,
     "metadata": {},
     "output_type": "execute_result"
    }
   ],
   "source": [
    "'pyhton'*3"
   ]
  },
  {
   "cell_type": "code",
   "execution_count": 70,
   "id": "ac8f954b-93b2-408e-b115-4e32a19392e9",
   "metadata": {},
   "outputs": [
    {
     "data": {
      "text/plain": [
       "'hello  python'"
      ]
     },
     "execution_count": 70,
     "metadata": {},
     "output_type": "execute_result"
    }
   ],
   "source": [
    "str1 = 'hello'\n",
    "str2 = 'python'\n",
    "str1+' '+str2 #space"
   ]
  },
  {
   "cell_type": "code",
   "execution_count": 71,
   "id": "36d32a3a-fb5b-42ac-9ef4-b13f33c6391a",
   "metadata": {},
   "outputs": [
    {
     "data": {
      "text/plain": [
       "'hello python'"
      ]
     },
     "execution_count": 71,
     "metadata": {},
     "output_type": "execute_result"
    }
   ],
   "source": [
    "str1 = 'hello '  #space\n",
    "str2 = 'python'\n",
    "str1+str2"
   ]
  },
  {
   "cell_type": "code",
   "execution_count": 73,
   "id": "9b9fcfd6-7b6d-49c6-89c3-3443bf7ce919",
   "metadata": {},
   "outputs": [
    {
     "data": {
      "text/plain": [
       "'hello python'"
      ]
     },
     "execution_count": 73,
     "metadata": {},
     "output_type": "execute_result"
    }
   ],
   "source": [
    "str1 = 'hello'\n",
    "str2 = ' python'  #space\n",
    "str1+str2"
   ]
  },
  {
   "cell_type": "code",
   "execution_count": null,
   "id": "210c8f76-273f-4b9a-b293-d373f6587e7d",
   "metadata": {},
   "outputs": [],
   "source": [
    "- basic representation\n",
    "- min max len\n",
    "- sorted ,reversed "
   ]
  },
  {
   "cell_type": "markdown",
   "id": "eac1b8d7-c4db-4a06-8cc2-5678edbc247d",
   "metadata": {},
   "source": [
    "**index**"
   ]
  },
  {
   "cell_type": "code",
   "execution_count": 1,
   "id": "0c6cfb55-cf18-4fa3-b897-fb44f1fd54e9",
   "metadata": {},
   "outputs": [
    {
     "data": {
      "text/plain": [
       "'python'"
      ]
     },
     "execution_count": 1,
     "metadata": {},
     "output_type": "execute_result"
    }
   ],
   "source": [
    "str1 = 'python'\n",
    "str1"
   ]
  },
  {
   "cell_type": "code",
   "execution_count": null,
   "id": "3c882c5a-c7e2-4cff-b994-4b0aba48b267",
   "metadata": {},
   "outputs": [],
   "source": [
    "-6 -5 -4 -3 -2 -1\n",
    "p   y  t  h  o  n\n",
    "0   1  2  3  4  5"
   ]
  },
  {
   "cell_type": "markdown",
   "id": "6d9ad841-3a35-4752-a388-1932fa1ec695",
   "metadata": {},
   "source": [
    "- access the element use square bracker"
   ]
  },
  {
   "cell_type": "code",
   "execution_count": 15,
   "id": "b762c6bd-870b-4ee3-ae8d-f8d42b850842",
   "metadata": {},
   "outputs": [
    {
     "name": "stdout",
     "output_type": "stream",
     "text": [
      "y\n",
      "t\n",
      "h\n",
      "o\n",
      "n\n"
     ]
    }
   ],
   "source": [
    "str1[0],str1[-6]\n",
    "str1[1],str1[-5]\n",
    "str1[2],str1[-4]\n",
    "str1[3],str1[-3]\n",
    "str1[4],str1[-2]\n",
    "str1[5],str1[-1]\n",
    "\n",
    "for i in range(1,6):\n",
    "    print(str1[i])"
   ]
  },
  {
   "cell_type": "code",
   "execution_count": 18,
   "id": "2601a82b-3d21-4d6e-bb2d-eee3651d68a8",
   "metadata": {},
   "outputs": [
    {
     "name": "stdout",
     "output_type": "stream",
     "text": [
      "hello how are you"
     ]
    }
   ],
   "source": [
    "str1 = 'hello how are you'\n",
    "n = len(str1)\n",
    "for i in range(0,n):\n",
    "    print(str1[i],end='')"
   ]
  },
  {
   "cell_type": "code",
   "execution_count": 27,
   "id": "1f6f4132-6532-4a03-9341-7b8504596fe6",
   "metadata": {},
   "outputs": [
    {
     "name": "stdout",
     "output_type": "stream",
     "text": [
      "the positive index of p is 0 \n",
      "the positive index of y is 1 \n",
      "the positive index of t is 2 \n",
      "the positive index of h is 3 \n",
      "the positive index of o is 4 \n",
      "the positive index of n is 5 \n"
     ]
    }
   ],
   "source": [
    "str2 = 'python'\n",
    "n1 = len(str2)\n",
    "for i in range(0,n1):\n",
    "    print(f'the positive index of {str2[i]} is {i} ')"
   ]
  },
  {
   "cell_type": "code",
   "execution_count": 40,
   "id": "5018efd4-2ec1-4421-9195-ff22a163b31a",
   "metadata": {},
   "outputs": [
    {
     "name": "stdout",
     "output_type": "stream",
     "text": [
      "the negative index of p is -6 \n",
      "the negative index of y is -5 \n",
      "the negative index of t is -4 \n",
      "the negative index of h is -3 \n",
      "the negative index of o is -2 \n",
      "the negative index of n is -1 \n"
     ]
    }
   ],
   "source": [
    "str2 = 'python'\n",
    "n1 = len(str2)\n",
    "for i in range(0,n1):\n",
    "    print(f'the negative index of {str2[i]} is {i-6} ')"
   ]
  },
  {
   "cell_type": "code",
   "execution_count": 41,
   "id": "3077e95a-59c0-4cb2-8a06-f6de908c7683",
   "metadata": {},
   "outputs": [
    {
     "name": "stdout",
     "output_type": "stream",
     "text": [
      "the positive index is 0 and negative is -6 of p\n",
      "the positive index of p is 0 \n",
      "the negative index of p is -6 \n",
      "the positive index is 1 and negative is -5 of y\n",
      "the positive index of y is 1 \n",
      "the negative index of y is -5 \n",
      "the positive index is 2 and negative is -4 of t\n",
      "the positive index of t is 2 \n",
      "the negative index of t is -4 \n",
      "the positive index is 3 and negative is -3 of h\n",
      "the positive index of h is 3 \n",
      "the negative index of h is -3 \n",
      "the positive index is 4 and negative is -2 of o\n",
      "the positive index of o is 4 \n",
      "the negative index of o is -2 \n",
      "the positive index is 5 and negative is -1 of n\n",
      "the positive index of n is 5 \n",
      "the negative index of n is -1 \n"
     ]
    }
   ],
   "source": [
    "str2 = 'python'\n",
    "n1 = len(str2)\n",
    "for i in range(0,n1):\n",
    "    print(f'the positive index is {i} and negative is {i-6} of {str2[i]}')\n",
    "    print(f'the positive index of {str2[i]} is {i} ')\n",
    "    print(f'the negative index of {str2[i]} is {i-6} ')"
   ]
  },
  {
   "cell_type": "markdown",
   "id": "f4d3cb29-13bc-491d-b9b1-a745bb99c686",
   "metadata": {},
   "source": [
    "**when to use **in** vs when to use range**"
   ]
  },
  {
   "cell_type": "markdown",
   "id": "8f01f35e-1a48-40c4-acb5-00dffa32f569",
   "metadata": {},
   "source": [
    "- **in** operator directly access the element\n",
    "- **range** operator access the element using index or numbers\n",
    "- any problem statement if you need number then go for **range**\n",
    "- otherwise go for **in** operator direcly"
   ]
  },
  {
   "cell_type": "code",
   "execution_count": 44,
   "id": "9ad043a3-f6c0-4abb-97c2-c90d2ed0a9cd",
   "metadata": {},
   "outputs": [
    {
     "name": "stdout",
     "output_type": "stream",
     "text": [
      "p\n",
      "y\n",
      "t\n",
      "h\n",
      "o\n",
      "n\n"
     ]
    }
   ],
   "source": [
    "str1 = 'python'\n",
    "for i in str1:\n",
    "    print(i)"
   ]
  },
  {
   "cell_type": "code",
   "execution_count": 46,
   "id": "6b0ca33a-73e8-48fd-807e-a722839d4c91",
   "metadata": {},
   "outputs": [
    {
     "name": "stdout",
     "output_type": "stream",
     "text": [
      "0 p\n",
      "1 y\n",
      "2 t\n",
      "3 h\n",
      "4 o\n",
      "5 n\n"
     ]
    }
   ],
   "source": [
    "for i in range(0,6):\n",
    "    print(i,str1[i])"
   ]
  },
  {
   "cell_type": "raw",
   "id": "e8bc7646-dd18-4e99-9c6f-ff98352bd514",
   "metadata": {},
   "source": []
  },
  {
   "cell_type": "code",
   "execution_count": null,
   "id": "b5e9a34c-e741-4196-a702-d4e1b4d29da5",
   "metadata": {},
   "outputs": [],
   "source": [
    "#wap to find the indexes of 'a' in given string\n",
    "# str1='ola ola ola'\n",
    "\n",
    "# sum of all indexes"
   ]
  },
  {
   "cell_type": "code",
   "execution_count": 62,
   "id": "2a3f10d2-6ba7-4da6-8df5-0b7bd9bb5751",
   "metadata": {},
   "outputs": [
    {
     "name": "stdout",
     "output_type": "stream",
     "text": [
      "a 2\n",
      "a 6\n",
      "a 10\n"
     ]
    }
   ],
   "source": [
    "str1='ola ola ola'\n",
    "n1 = len(str1)\n",
    "for i in range(0,n1):\n",
    "    # print(str1[i],i)\n",
    "    if str1[i] == 'a':\n",
    "        print(str1[i],i)"
   ]
  },
  {
   "cell_type": "code",
   "execution_count": 72,
   "id": "ae062eea-6973-4efe-a65c-96a9d22ba554",
   "metadata": {},
   "outputs": [
    {
     "name": "stdout",
     "output_type": "stream",
     "text": [
      "a 2\n",
      "a 6\n",
      "a 10\n",
      "sum of all index of a = 18\n"
     ]
    }
   ],
   "source": [
    "str1='ola ola ola'\n",
    "n1 = len(str1)\n",
    "summ = 0\n",
    "for i in range(0,n1):\n",
    "    # print(str1[i],i)\n",
    "    if str1[i] == 'a':\n",
    "        print(str1[i],i)\n",
    "        summ = summ + i\n",
    "print(f'sum of all index of a = {summ}')"
   ]
  },
  {
   "cell_type": "code",
   "execution_count": 80,
   "id": "f3c0099c-aed3-434b-9547-bf9fee10113f",
   "metadata": {},
   "outputs": [
    {
     "name": "stdout",
     "output_type": "stream",
     "text": [
      "2\n",
      "6\n",
      "10\n",
      "number of a in given string is 3\n"
     ]
    }
   ],
   "source": [
    "str1='ola ola ola'\n",
    "n1 = len(str1)\n",
    "c = 0\n",
    "for i in range(0,n1):\n",
    "    if str1[i] == 'a':\n",
    "        print(i)\n",
    "        c = c+1\n",
    "print(f'number of a in given string is {c}')"
   ]
  },
  {
   "cell_type": "code",
   "execution_count": 95,
   "id": "5f439696-81fa-432d-a3f0-c91c910749a8",
   "metadata": {},
   "outputs": [
    {
     "name": "stdout",
     "output_type": "stream",
     "text": [
      "vowels o\n",
      "vowels a\n",
      "vowels o\n",
      "vowels a\n",
      "vowels o\n",
      "vowels a\n",
      "count is 6\n"
     ]
    }
   ],
   "source": [
    "str1='ola ola ola'\n",
    "n1 = len(str1)\n",
    "c = 0\n",
    "for i in range(0,n1):\n",
    "    if str1[i] == 'a' or str1[i]=='o':\n",
    "        print(f'vowels {str1[i]}')\n",
    "        c = c + 1\n",
    "print(f'count is {c}')"
   ]
  },
  {
   "cell_type": "code",
   "execution_count": 6,
   "id": "ebf53add-226f-45a7-8bbd-df92eef80583",
   "metadata": {},
   "outputs": [
    {
     "name": "stdout",
     "output_type": "stream",
     "text": [
      "vowels o\n",
      "vowels a\n",
      "vowels o\n",
      "vowels a\n",
      "vowels o\n",
      "vowels a\n",
      "count is 6\n"
     ]
    }
   ],
   "source": [
    "str1='ola ola ola'\n",
    "n1 = len(str1)\n",
    "s1 = 'aeiou'\n",
    "c = 0\n",
    "for i in str1:\n",
    "    if i in s1:\n",
    "        print(f'vowels {i}')\n",
    "        c = c + 1\n",
    "print(f'count is {c}')"
   ]
  },
  {
   "cell_type": "code",
   "execution_count": 98,
   "id": "009563c5-bdaa-401a-aa14-2f94185d9f7b",
   "metadata": {},
   "outputs": [
    {
     "name": "stdout",
     "output_type": "stream",
     "text": [
      "repeated o\n",
      "repeated l\n",
      "repeated a\n",
      "repeated o\n",
      "repeated l\n",
      "repeated a\n",
      "repeated o\n",
      "repeated l\n",
      "repeated a\n"
     ]
    }
   ],
   "source": [
    "str1='ola ola ola'\n",
    "n1 = len(str1)\n",
    "c = 0\n",
    "for i in range(0,n1):\n",
    "    if str1[i] == 'a' or str1[i]=='o' or str1[i]=='l':\n",
    "        print(f'repeated {str1[i]}')"
   ]
  },
  {
   "cell_type": "code",
   "execution_count": 26,
   "id": "09f4d25b-1f09-4fd1-8f68-b5b474db3405",
   "metadata": {},
   "outputs": [
    {
     "name": "stdout",
     "output_type": "stream",
     "text": [
      "a\n",
      "i\n",
      "o\n",
      "e\n",
      "u\n"
     ]
    }
   ],
   "source": [
    "str2 = 'hai how are you'\n",
    "s1=''\n",
    "n2 = len(str2)\n",
    "for i in str2:\n",
    "    if i in 'aeiou'and i not in s1:\n",
    "        print(i)\n",
    "        s1 = s1 + i"
   ]
  },
  {
   "cell_type": "markdown",
   "id": "49481178-ff9e-4ce0-9cb8-5c18d81d6f9a",
   "metadata": {},
   "source": [
    "**mutable-immutable**\n",
    "- mutable means change\n",
    "- immutable means cannt change\n",
    "    - we cannt change the elements using index operation"
   ]
  },
  {
   "cell_type": "markdown",
   "id": "3a67a21e-1fdc-4ba1-9218-0551c51bc72b",
   "metadata": {},
   "source": [
    "- **strings** are immutable\n",
    "- **list** are mutable"
   ]
  },
  {
   "cell_type": "code",
   "execution_count": 109,
   "id": "eb7c35fa-1a21-47f1-99f0-691e19621ece",
   "metadata": {},
   "outputs": [
    {
     "ename": "TypeError",
     "evalue": "'type' object does not support item assignment",
     "output_type": "error",
     "traceback": [
      "\u001b[1;31m---------------------------------------------------------------------------\u001b[0m",
      "\u001b[1;31mTypeError\u001b[0m                                 Traceback (most recent call last)",
      "Cell \u001b[1;32mIn[109], line 2\u001b[0m\n\u001b[0;32m      1\u001b[0m str1 \u001b[38;5;241m=\u001b[39m \u001b[38;5;124m'\u001b[39m\u001b[38;5;124mhello\u001b[39m\u001b[38;5;124m'\u001b[39m\n\u001b[1;32m----> 2\u001b[0m \u001b[38;5;28mstr\u001b[39m[\u001b[38;5;241m2\u001b[39m]\u001b[38;5;241m=\u001b[39m\u001b[38;5;124m'\u001b[39m\u001b[38;5;124mL\u001b[39m\u001b[38;5;124m'\u001b[39m\n",
      "\u001b[1;31mTypeError\u001b[0m: 'type' object does not support item assignment"
     ]
    }
   ],
   "source": [
    "str1 = 'hello'\n",
    "str[2]='L'"
   ]
  },
  {
   "cell_type": "code",
   "execution_count": 116,
   "id": "40f78125-3b1b-4eda-baca-f3ac841465dd",
   "metadata": {},
   "outputs": [
    {
     "data": {
      "text/plain": [
       "20"
      ]
     },
     "execution_count": 116,
     "metadata": {},
     "output_type": "execute_result"
    }
   ],
   "source": [
    "l = [10,20,30]\n",
    "l[1]\n"
   ]
  },
  {
   "cell_type": "code",
   "execution_count": 1,
   "id": "688941b1-2ead-43b2-a5a6-644d5a815837",
   "metadata": {},
   "outputs": [
    {
     "name": "stdout",
     "output_type": "stream",
     "text": [
      "  4\n",
      "  12\n",
      "sum of all indices of vowels = 16\n"
     ]
    }
   ],
   "source": [
    "str1 = 'data science rocks'\n",
    "n1 = len(str1)\n",
    "summ = 0\n",
    "vowels = ' '  # Vowels in both lower and uppercase\n",
    "\n",
    "for i in range(0, n1):\n",
    "    if str1[i] in vowels:\n",
    "        print(str1[i], i)\n",
    "        summ = summ + i\n",
    "        \n",
    "print(f'sum of all indices of vowels = {summ}')\n"
   ]
  },
  {
   "cell_type": "code",
   "execution_count": 25,
   "id": "992d1a43-d718-4929-b12f-0dfbf08f24ea",
   "metadata": {},
   "outputs": [
    {
     "name": "stdout",
     "output_type": "stream",
     "text": [
      "7\n"
     ]
    }
   ],
   "source": [
    "str3 = 'open 9is awesome'\n",
    "s1='aeiou'\n",
    "c = 0\n",
    "for i in str3:\n",
    "    if i in s1:\n",
    "        c = c + 1\n",
    "print(c)"
   ]
  },
  {
   "cell_type": "markdown",
   "id": "41be82b6-1386-4299-bc7d-c3ec06568efd",
   "metadata": {},
   "source": [
    "**slicing**\n",
    "- slice means cut into peaces\n",
    "- it is similar analogy with for loop range\n",
    "- in the for loop range we have start ,stop ,step\n",
    "- **range(start,stop,step)**\n",
    "- **str[strart:stop:step]**"
   ]
  },
  {
   "cell_type": "code",
   "execution_count": null,
   "id": "7e8df3b9-a321-40de-aae2-25732ec77f0b",
   "metadata": {},
   "outputs": [],
   "source": [
    "h e l l o   h o w    a   r   e   y  o  u\n",
    "1 2 3 4 5 6 7 8 9 10 11  12  13 14 15  16\n",
    "\n",
    "-17 -16 -15 -14 -13 -12 -11 -10 -9 -8 -7 -6 -5 -4 -3 -2 -1\n",
    " h   e   l   l   o       h  o  w      a  r  e      y  o  u\n",
    "1    2   3   4   5       6  7  8      9 10  11 12 13 14 15  16"
   ]
  },
  {
   "cell_type": "markdown",
   "id": "ed570b06-ccae-4a25-afb6-513e55201540",
   "metadata": {},
   "source": [
    "$case-1$\n",
    "- by default start = 0\n",
    "- by default step=positive direction 1\n",
    "- last = step - 1"
   ]
  },
  {
   "cell_type": "code",
   "execution_count": 30,
   "id": "4033c661-d8e2-4ace-adb5-b3b675a670b6",
   "metadata": {},
   "outputs": [
    {
     "data": {
      "text/plain": [
       "'hello'"
      ]
     },
     "execution_count": 30,
     "metadata": {},
     "output_type": "execute_result"
    }
   ],
   "source": [
    "str1='hello how are you'\n",
    "str1[:5]"
   ]
  },
  {
   "cell_type": "code",
   "execution_count": 31,
   "id": "75d956af-1b69-4027-b539-25a9c51403cb",
   "metadata": {},
   "outputs": [
    {
     "data": {
      "text/plain": [
       "'hello how '"
      ]
     },
     "execution_count": 31,
     "metadata": {},
     "output_type": "execute_result"
    }
   ],
   "source": [
    "str1[:10]"
   ]
  },
  {
   "cell_type": "markdown",
   "id": "d55fc65f-a360-42c6-8e84-96fce8fec5a7",
   "metadata": {},
   "source": [
    "$case-2$\n",
    "- str[start:]\n",
    "- by default start = start value\n",
    "- default step = positive dir 1\n",
    "- last = last index"
   ]
  },
  {
   "cell_type": "code",
   "execution_count": 34,
   "id": "cd4d64ce-95c0-4226-a439-344c992ef069",
   "metadata": {},
   "outputs": [
    {
     "data": {
      "text/plain": [
       "' how are you'"
      ]
     },
     "execution_count": 34,
     "metadata": {},
     "output_type": "execute_result"
    }
   ],
   "source": [
    "str1[5:]"
   ]
  },
  {
   "cell_type": "code",
   "execution_count": 36,
   "id": "99bfcf3a-2583-4834-b21a-afad8d7460e6",
   "metadata": {},
   "outputs": [
    {
     "data": {
      "text/plain": [
       "'you'"
      ]
     },
     "execution_count": 36,
     "metadata": {},
     "output_type": "execute_result"
    }
   ],
   "source": [
    "str1[-3:]"
   ]
  },
  {
   "cell_type": "markdown",
   "id": "2c15c003-4b9f-473a-a64f-2f81e8f2c957",
   "metadata": {},
   "source": [
    "$case-3$\n",
    "- **str[start:stop]**\n",
    "- by default start = start value\n",
    "- by default step=positive direction 1\n",
    "- last = step - 1"
   ]
  },
  {
   "cell_type": "code",
   "execution_count": 38,
   "id": "6db97a18-e2d6-4064-8aad-c2240bdd7d72",
   "metadata": {},
   "outputs": [
    {
     "data": {
      "text/plain": [
       "'are y'"
      ]
     },
     "execution_count": 38,
     "metadata": {},
     "output_type": "execute_result"
    }
   ],
   "source": [
    "str1[10:15]"
   ]
  },
  {
   "cell_type": "code",
   "execution_count": 39,
   "id": "001b785e-dfe0-4349-afb7-a95a20df0030",
   "metadata": {},
   "outputs": [
    {
     "data": {
      "text/plain": [
       "'llo how '"
      ]
     },
     "execution_count": 39,
     "metadata": {},
     "output_type": "execute_result"
    }
   ],
   "source": [
    "str1[-15:10]"
   ]
  },
  {
   "cell_type": "code",
   "execution_count": 40,
   "id": "4af03d80-26bc-4caa-86f3-8df58d862483",
   "metadata": {},
   "outputs": [
    {
     "data": {
      "text/plain": [
       "''"
      ]
     },
     "execution_count": 40,
     "metadata": {},
     "output_type": "execute_result"
    }
   ],
   "source": [
    "str1[-15:2]"
   ]
  },
  {
   "cell_type": "code",
   "execution_count": 41,
   "id": "8c3cc760-8d49-491b-a12c-529bba7c105f",
   "metadata": {},
   "outputs": [
    {
     "data": {
      "text/plain": [
       "'llo how are y'"
      ]
     },
     "execution_count": 41,
     "metadata": {},
     "output_type": "execute_result"
    }
   ],
   "source": [
    "str1[2:-2]"
   ]
  },
  {
   "cell_type": "code",
   "execution_count": 43,
   "id": "a171c5b9-4583-49ae-8934-a570c4d85bba",
   "metadata": {},
   "outputs": [],
   "source": [
    "for i in range(2,-2):\n",
    "    print(i) # in for loop not works "
   ]
  },
  {
   "cell_type": "code",
   "execution_count": null,
   "id": "93bb126a-e774-4f6e-8704-69ddfc66d40a",
   "metadata": {},
   "outputs": [],
   "source": [
    "str1[2:-2] # but in strings it is works because it always in farward "
   ]
  },
  {
   "cell_type": "markdown",
   "id": "fc1295d9-9654-4254-8756-7717e83ada4d",
   "metadata": {},
   "source": [
    "$case-4$\n",
    "- **str[start:stop:step]**"
   ]
  },
  {
   "cell_type": "code",
   "execution_count": 45,
   "id": "054572a6-4c45-451f-939e-147384170db0",
   "metadata": {},
   "outputs": [
    {
     "data": {
      "text/plain": [
       "'lohwaey'"
      ]
     },
     "execution_count": 45,
     "metadata": {},
     "output_type": "execute_result"
    }
   ],
   "source": [
    "str1[2:15:2]"
   ]
  },
  {
   "cell_type": "code",
   "execution_count": 47,
   "id": "de8e7aa9-f4f6-4135-9e4d-fa830decd54c",
   "metadata": {},
   "outputs": [
    {
     "data": {
      "text/plain": [
       "'lohwa'"
      ]
     },
     "execution_count": 47,
     "metadata": {},
     "output_type": "execute_result"
    }
   ],
   "source": [
    "str1[2:-5:2]"
   ]
  },
  {
   "cell_type": "code",
   "execution_count": 60,
   "id": "cf8bcc88-d7be-43c1-b2ca-8e8fc175b6be",
   "metadata": {},
   "outputs": [
    {
     "data": {
      "text/plain": [
       "'lohwaey'"
      ]
     },
     "execution_count": 60,
     "metadata": {},
     "output_type": "execute_result"
    }
   ],
   "source": [
    "str1[-15:-2:2]"
   ]
  },
  {
   "cell_type": "code",
   "execution_count": 61,
   "id": "edc0d080-705e-49b7-941b-645aeb5fab7e",
   "metadata": {},
   "outputs": [
    {
     "data": {
      "text/plain": [
       "'llo how are you'"
      ]
     },
     "execution_count": 61,
     "metadata": {},
     "output_type": "execute_result"
    }
   ],
   "source": [
    "str1[2:150]"
   ]
  },
  {
   "cell_type": "code",
   "execution_count": 62,
   "id": "9b27c326-54ea-4489-b1d8-d460ebd4f287",
   "metadata": {},
   "outputs": [
    {
     "data": {
      "text/plain": [
       "'uoy era woh olleh'"
      ]
     },
     "execution_count": 62,
     "metadata": {},
     "output_type": "execute_result"
    }
   ],
   "source": [
    "str1[::-1]"
   ]
  },
  {
   "cell_type": "code",
   "execution_count": 67,
   "id": "f8c8b0bc-3544-45ea-8e22-ee96793733a8",
   "metadata": {},
   "outputs": [
    {
     "data": {
      "text/plain": [
       "54321"
      ]
     },
     "execution_count": 67,
     "metadata": {},
     "output_type": "execute_result"
    }
   ],
   "source": [
    "num=12345\n",
    "int(str(num)[::-1])"
   ]
  },
  {
   "cell_type": "code",
   "execution_count": null,
   "id": "6868ceab-fb52-4447-9065-b4b79a9c4c12",
   "metadata": {},
   "outputs": [],
   "source": [
    "- basic representation\n",
    "- inbuilt function"
   ]
  },
  {
   "cell_type": "markdown",
   "id": "76d80c0c-aca3-497d-a038-a1f50d53d0c7",
   "metadata": {},
   "source": [
    "# **methods**"
   ]
  },
  {
   "cell_type": "code",
   "execution_count": null,
   "id": "640a4f20-6180-4bc5-9fa3-481e6df6a004",
   "metadata": {},
   "outputs": [],
   "source": [
    "random=====randint"
   ]
  },
  {
   "cell_type": "code",
   "execution_count": 69,
   "id": "98542017-3c74-4131-aaf2-5ee84f5d4f33",
   "metadata": {},
   "outputs": [
    {
     "data": {
      "text/plain": [
       "['__add__',\n",
       " '__class__',\n",
       " '__contains__',\n",
       " '__delattr__',\n",
       " '__dir__',\n",
       " '__doc__',\n",
       " '__eq__',\n",
       " '__format__',\n",
       " '__ge__',\n",
       " '__getattribute__',\n",
       " '__getitem__',\n",
       " '__getnewargs__',\n",
       " '__getstate__',\n",
       " '__gt__',\n",
       " '__hash__',\n",
       " '__init__',\n",
       " '__init_subclass__',\n",
       " '__iter__',\n",
       " '__le__',\n",
       " '__len__',\n",
       " '__lt__',\n",
       " '__mod__',\n",
       " '__mul__',\n",
       " '__ne__',\n",
       " '__new__',\n",
       " '__reduce__',\n",
       " '__reduce_ex__',\n",
       " '__repr__',\n",
       " '__rmod__',\n",
       " '__rmul__',\n",
       " '__setattr__',\n",
       " '__sizeof__',\n",
       " '__str__',\n",
       " '__subclasshook__',\n",
       " 'capitalize',\n",
       " 'casefold',\n",
       " 'center',\n",
       " 'count',\n",
       " 'encode',\n",
       " 'endswith',\n",
       " 'expandtabs',\n",
       " 'find',\n",
       " 'format',\n",
       " 'format_map',\n",
       " 'index',\n",
       " 'isalnum',\n",
       " 'isalpha',\n",
       " 'isascii',\n",
       " 'isdecimal',\n",
       " 'isdigit',\n",
       " 'isidentifier',\n",
       " 'islower',\n",
       " 'isnumeric',\n",
       " 'isprintable',\n",
       " 'isspace',\n",
       " 'istitle',\n",
       " 'isupper',\n",
       " 'join',\n",
       " 'ljust',\n",
       " 'lower',\n",
       " 'lstrip',\n",
       " 'maketrans',\n",
       " 'partition',\n",
       " 'removeprefix',\n",
       " 'removesuffix',\n",
       " 'replace',\n",
       " 'rfind',\n",
       " 'rindex',\n",
       " 'rjust',\n",
       " 'rpartition',\n",
       " 'rsplit',\n",
       " 'rstrip',\n",
       " 'split',\n",
       " 'splitlines',\n",
       " 'startswith',\n",
       " 'strip',\n",
       " 'swapcase',\n",
       " 'title',\n",
       " 'translate',\n",
       " 'upper',\n",
       " 'zfill']"
      ]
     },
     "execution_count": 69,
     "metadata": {},
     "output_type": "execute_result"
    }
   ],
   "source": [
    "dir('python')"
   ]
  },
  {
   "cell_type": "code",
   "execution_count": null,
   "id": "2bfe2e14-200a-4233-a2ea-bb68b5747802",
   "metadata": {},
   "outputs": [],
   "source": []
  },
  {
   "cell_type": "code",
   "execution_count": 70,
   "id": "97be861f-3daa-4681-9fc7-c2362d5dd0e1",
   "metadata": {},
   "outputs": [
    {
     "data": {
      "text/plain": [
       "['__add__',\n",
       " '__class__',\n",
       " '__contains__',\n",
       " '__delattr__',\n",
       " '__dir__',\n",
       " '__doc__',\n",
       " '__eq__',\n",
       " '__format__',\n",
       " '__ge__',\n",
       " '__getattribute__',\n",
       " '__getitem__',\n",
       " '__getnewargs__',\n",
       " '__getstate__',\n",
       " '__gt__',\n",
       " '__hash__',\n",
       " '__init__',\n",
       " '__init_subclass__',\n",
       " '__iter__',\n",
       " '__le__',\n",
       " '__len__',\n",
       " '__lt__',\n",
       " '__mod__',\n",
       " '__mul__',\n",
       " '__ne__',\n",
       " '__new__',\n",
       " '__reduce__',\n",
       " '__reduce_ex__',\n",
       " '__repr__',\n",
       " '__rmod__',\n",
       " '__rmul__',\n",
       " '__setattr__',\n",
       " '__sizeof__',\n",
       " '__str__',\n",
       " '__subclasshook__',\n",
       " 'capitalize',\n",
       " 'casefold',\n",
       " 'center',\n",
       " 'count',\n",
       " 'encode',\n",
       " 'endswith',\n",
       " 'expandtabs',\n",
       " 'find',\n",
       " 'format',\n",
       " 'format_map',\n",
       " 'index',\n",
       " 'isalnum',\n",
       " 'isalpha',\n",
       " 'isascii',\n",
       " 'isdecimal',\n",
       " 'isdigit',\n",
       " 'isidentifier',\n",
       " 'islower',\n",
       " 'isnumeric',\n",
       " 'isprintable',\n",
       " 'isspace',\n",
       " 'istitle',\n",
       " 'isupper',\n",
       " 'join',\n",
       " 'ljust',\n",
       " 'lower',\n",
       " 'lstrip',\n",
       " 'maketrans',\n",
       " 'partition',\n",
       " 'removeprefix',\n",
       " 'removesuffix',\n",
       " 'replace',\n",
       " 'rfind',\n",
       " 'rindex',\n",
       " 'rjust',\n",
       " 'rpartition',\n",
       " 'rsplit',\n",
       " 'rstrip',\n",
       " 'split',\n",
       " 'splitlines',\n",
       " 'startswith',\n",
       " 'strip',\n",
       " 'swapcase',\n",
       " 'title',\n",
       " 'translate',\n",
       " 'upper',\n",
       " 'zfill']"
      ]
     },
     "execution_count": 70,
     "metadata": {},
     "output_type": "execute_result"
    }
   ],
   "source": [
    "name = 'pyhton'\n",
    "dir(name)"
   ]
  },
  {
   "cell_type": "code",
   "execution_count": 71,
   "id": "aadd7906-9faa-4d76-b040-c3b14c8a1c2e",
   "metadata": {},
   "outputs": [
    {
     "data": {
      "text/plain": [
       "['__add__',\n",
       " '__class__',\n",
       " '__class_getitem__',\n",
       " '__contains__',\n",
       " '__delattr__',\n",
       " '__dir__',\n",
       " '__doc__',\n",
       " '__eq__',\n",
       " '__format__',\n",
       " '__ge__',\n",
       " '__getattribute__',\n",
       " '__getitem__',\n",
       " '__getnewargs__',\n",
       " '__getstate__',\n",
       " '__gt__',\n",
       " '__hash__',\n",
       " '__init__',\n",
       " '__init_subclass__',\n",
       " '__iter__',\n",
       " '__le__',\n",
       " '__len__',\n",
       " '__lt__',\n",
       " '__mul__',\n",
       " '__ne__',\n",
       " '__new__',\n",
       " '__reduce__',\n",
       " '__reduce_ex__',\n",
       " '__repr__',\n",
       " '__rmul__',\n",
       " '__setattr__',\n",
       " '__sizeof__',\n",
       " '__str__',\n",
       " '__subclasshook__',\n",
       " 'count',\n",
       " 'index']"
      ]
     },
     "execution_count": 71,
     "metadata": {},
     "output_type": "execute_result"
    }
   ],
   "source": [
    "dir(())"
   ]
  },
  {
   "cell_type": "markdown",
   "id": "5a3d2aab-169e-407b-8d55-f6e2f17b0daa",
   "metadata": {},
   "source": [
    "**upperCase**"
   ]
  },
  {
   "cell_type": "code",
   "execution_count": 74,
   "id": "3b444cae-52f7-4884-a31a-be1500d3c2cb",
   "metadata": {},
   "outputs": [
    {
     "data": {
      "text/plain": [
       "'WELCOME'"
      ]
     },
     "execution_count": 74,
     "metadata": {},
     "output_type": "execute_result"
    }
   ],
   "source": [
    "str1 = 'welcome'\n",
    "str1.upper()\n"
   ]
  },
  {
   "cell_type": "code",
   "execution_count": 84,
   "id": "bc83ad6f-a35f-4474-88ae-0b03db09cead",
   "metadata": {},
   "outputs": [
    {
     "data": {
      "text/plain": [
       "'welcome to python'"
      ]
     },
     "execution_count": 84,
     "metadata": {},
     "output_type": "execute_result"
    }
   ],
   "source": [
    "str1 = 'Welcome to Python'\n",
    "str1.lower()\n"
   ]
  },
  {
   "cell_type": "code",
   "execution_count": 85,
   "id": "8f8c08f9-c73f-4c9d-b30b-39364e00bb90",
   "metadata": {},
   "outputs": [
    {
     "data": {
      "text/plain": [
       "'Welcome To Python'"
      ]
     },
     "execution_count": 85,
     "metadata": {},
     "output_type": "execute_result"
    }
   ],
   "source": [
    "str1.title()"
   ]
  },
  {
   "cell_type": "code",
   "execution_count": 86,
   "id": "34bffbb1-4df3-4be6-a565-294b3546095c",
   "metadata": {},
   "outputs": [
    {
     "data": {
      "text/plain": [
       "'Welcome to python'"
      ]
     },
     "execution_count": 86,
     "metadata": {},
     "output_type": "execute_result"
    }
   ],
   "source": [
    "str1.capitalize()"
   ]
  },
  {
   "cell_type": "code",
   "execution_count": 87,
   "id": "63c0eef1-2b93-4a5c-ae42-ac945c64ba96",
   "metadata": {},
   "outputs": [
    {
     "data": {
      "text/plain": [
       "'welcome to python'"
      ]
     },
     "execution_count": 87,
     "metadata": {},
     "output_type": "execute_result"
    }
   ],
   "source": [
    "str1.casefold()"
   ]
  },
  {
   "cell_type": "markdown",
   "id": "a526e951-9085-445d-92fa-2b0ffbecf89d",
   "metadata": {},
   "source": [
    "**difference between methods and inbuilt function**"
   ]
  },
  {
   "cell_type": "code",
   "execution_count": null,
   "id": "cad0e414-ef3a-4120-b267-7bff7dae713a",
   "metadata": {},
   "outputs": [],
   "source": [
    "======= inbuilt function==============\n",
    "len('python')  \n",
    "max()\n",
    "min()\n",
    "max()\n",
    "print()\n",
    "sum()\n",
    "============methods===============================\n",
    "str1.upper()\n",
    "str1.lower()\n",
    "str1.capitalize()\n",
    "str1.casefold()\n",
    "str1.title()"
   ]
  },
  {
   "cell_type": "markdown",
   "id": "e5dea89a-ad69-4471-b5ab-7944428aa20d",
   "metadata": {},
   "source": [
    "**center**"
   ]
  },
  {
   "cell_type": "code",
   "execution_count": 100,
   "id": "22494a83-5daf-47d6-9504-15559041fad4",
   "metadata": {},
   "outputs": [
    {
     "data": {
      "text/plain": [
       "'       hai how are you        '"
      ]
     },
     "execution_count": 100,
     "metadata": {},
     "output_type": "execute_result"
    }
   ],
   "source": [
    "str1='hai how are you'\n",
    "str1.center(30)"
   ]
  },
  {
   "cell_type": "code",
   "execution_count": 98,
   "id": "a2797029-010d-49d2-a833-95b9fdf6e292",
   "metadata": {},
   "outputs": [
    {
     "data": {
      "text/plain": [
       "'*******hai how are you********'"
      ]
     },
     "execution_count": 98,
     "metadata": {},
     "output_type": "execute_result"
    }
   ],
   "source": [
    "str1.center(30,'*')"
   ]
  },
  {
   "cell_type": "code",
   "execution_count": 99,
   "id": "9cef9d2f-46c8-4eae-b103-846c3e10be71",
   "metadata": {},
   "outputs": [
    {
     "data": {
      "text/plain": [
       "'**pythonn***'"
      ]
     },
     "execution_count": 99,
     "metadata": {},
     "output_type": "execute_result"
    }
   ],
   "source": [
    "str1='pythonn'\n",
    "str1.center(12,'*')"
   ]
  },
  {
   "cell_type": "markdown",
   "id": "7469a339-319f-4d4c-a70a-958255df581a",
   "metadata": {},
   "source": [
    "**strip-lstrip-rstrip**\n",
    "- strip will remove the character both left and right\n",
    "- lstrip will remove the character on left side\n",
    "- rstrip will remove the character on right side"
   ]
  },
  {
   "cell_type": "code",
   "execution_count": 101,
   "id": "e51c696c-debb-400c-88ce-854a3b68b240",
   "metadata": {},
   "outputs": [
    {
     "data": {
      "text/plain": [
       "'python'"
      ]
     },
     "execution_count": 101,
     "metadata": {},
     "output_type": "execute_result"
    }
   ],
   "source": [
    "str1='  python  '\n",
    "str1.strip()"
   ]
  },
  {
   "cell_type": "code",
   "execution_count": 102,
   "id": "e01e19bc-de76-48e5-9bbc-c8b0c6b8c948",
   "metadata": {},
   "outputs": [
    {
     "data": {
      "text/plain": [
       "'python  '"
      ]
     },
     "execution_count": 102,
     "metadata": {},
     "output_type": "execute_result"
    }
   ],
   "source": [
    "str1.lstrip()"
   ]
  },
  {
   "cell_type": "code",
   "execution_count": 103,
   "id": "cbdb6e73-d0cd-437b-943a-308c5c18913a",
   "metadata": {},
   "outputs": [
    {
     "data": {
      "text/plain": [
       "'  python'"
      ]
     },
     "execution_count": 103,
     "metadata": {},
     "output_type": "execute_result"
    }
   ],
   "source": [
    "str1.rstrip()"
   ]
  },
  {
   "cell_type": "code",
   "execution_count": 110,
   "id": "28ecece4-07a9-4121-b20a-af8af6772476",
   "metadata": {},
   "outputs": [
    {
     "data": {
      "text/plain": [
       "'python'"
      ]
     },
     "execution_count": 110,
     "metadata": {},
     "output_type": "execute_result"
    }
   ],
   "source": [
    "str2='***python***'\n",
    "str2.strip('*')"
   ]
  },
  {
   "cell_type": "code",
   "execution_count": 111,
   "id": "644f4692-4102-4743-bb73-6ca8f413d74e",
   "metadata": {},
   "outputs": [
    {
     "data": {
      "text/plain": [
       "'python***'"
      ]
     },
     "execution_count": 111,
     "metadata": {},
     "output_type": "execute_result"
    }
   ],
   "source": [
    "str2.lstrip('*')"
   ]
  },
  {
   "cell_type": "code",
   "execution_count": 112,
   "id": "f236e194-559b-45b2-8937-8f8fa523782d",
   "metadata": {},
   "outputs": [
    {
     "data": {
      "text/plain": [
       "'***python'"
      ]
     },
     "execution_count": 112,
     "metadata": {},
     "output_type": "execute_result"
    }
   ],
   "source": [
    "str2.rstrip('*')"
   ]
  },
  {
   "cell_type": "code",
   "execution_count": 113,
   "id": "28415129-74cf-4eda-87b4-df100364a733",
   "metadata": {},
   "outputs": [
    {
     "data": {
      "text/plain": [
       "'python'"
      ]
     },
     "execution_count": 113,
     "metadata": {},
     "output_type": "execute_result"
    }
   ],
   "source": [
    "str3='    python***'\n",
    "str3.strip().strip('*')  # both in one"
   ]
  },
  {
   "cell_type": "code",
   "execution_count": 117,
   "id": "89f4a504-aa1c-45b6-9597-35ae270883ba",
   "metadata": {},
   "outputs": [
    {
     "data": {
      "text/plain": [
       "'python'"
      ]
     },
     "execution_count": 117,
     "metadata": {},
     "output_type": "execute_result"
    }
   ],
   "source": [
    "str4 = str3.strip()\n",
    "str4 = str4.strip('*')  # two way\n",
    "str4"
   ]
  },
  {
   "cell_type": "code",
   "execution_count": 5,
   "id": "58c16bd5-80d6-43c5-935e-1d3dca4b14e2",
   "metadata": {},
   "outputs": [
    {
     "data": {
      "text/plain": [
       "True"
      ]
     },
     "execution_count": 5,
     "metadata": {},
     "output_type": "execute_result"
    }
   ],
   "source": [
    "str1 = 'hello how are you'\n",
    "str1.startswith('hello how')"
   ]
  },
  {
   "cell_type": "code",
   "execution_count": 8,
   "id": "acfb9216-531b-4639-9b36-a07cce9363a6",
   "metadata": {},
   "outputs": [
    {
     "data": {
      "text/plain": [
       "True"
      ]
     },
     "execution_count": 8,
     "metadata": {},
     "output_type": "execute_result"
    }
   ],
   "source": [
    "str1.endswith('ou')"
   ]
  },
  {
   "cell_type": "markdown",
   "id": "a1389536-caba-4fee-ab01-aa9b626f6828",
   "metadata": {},
   "source": [
    "# **count**"
   ]
  },
  {
   "cell_type": "code",
   "execution_count": 16,
   "id": "63b6b177-c959-4d81-aab9-be870ec49680",
   "metadata": {},
   "outputs": [
    {
     "name": "stdout",
     "output_type": "stream",
     "text": [
      "3\n"
     ]
    }
   ],
   "source": [
    "str1='ola ola ola'\n",
    "# how many a are available\n",
    "c = 0\n",
    "for i in str1:\n",
    "    if i =='a':\n",
    "        c = c + 1\n",
    "print(c)"
   ]
  },
  {
   "cell_type": "code",
   "execution_count": 18,
   "id": "657bfc1a-8baa-4d1a-b261-e2cb64f6a5c7",
   "metadata": {},
   "outputs": [
    {
     "data": {
      "text/plain": [
       "3"
      ]
     },
     "execution_count": 18,
     "metadata": {},
     "output_type": "execute_result"
    }
   ],
   "source": [
    "str1.count('a')"
   ]
  },
  {
   "cell_type": "code",
   "execution_count": 19,
   "id": "7bc36bec-15e8-4d2e-9925-d19e519a62da",
   "metadata": {},
   "outputs": [
    {
     "data": {
      "text/plain": [
       "3"
      ]
     },
     "execution_count": 19,
     "metadata": {},
     "output_type": "execute_result"
    }
   ],
   "source": [
    "str1='ola ola ola'\n",
    "str1.count('ola')"
   ]
  },
  {
   "cell_type": "code",
   "execution_count": 20,
   "id": "f8e290cc-ccf1-40b4-8ea5-7b4b31eadf55",
   "metadata": {},
   "outputs": [
    {
     "data": {
      "text/plain": [
       "3"
      ]
     },
     "execution_count": 20,
     "metadata": {},
     "output_type": "execute_result"
    }
   ],
   "source": [
    "str1.count('la')"
   ]
  },
  {
   "cell_type": "markdown",
   "id": "7a87c669-ddd8-4ac3-9852-371f56939cf7",
   "metadata": {},
   "source": [
    "$case-2$"
   ]
  },
  {
   "cell_type": "code",
   "execution_count": 21,
   "id": "fc75a4cd-bfc9-4ec7-a6cb-49ca09c808ef",
   "metadata": {},
   "outputs": [
    {
     "data": {
      "text/plain": [
       "1"
      ]
     },
     "execution_count": 21,
     "metadata": {},
     "output_type": "execute_result"
    }
   ],
   "source": [
    "# o   l    a   o   l   a     o   l   a\n",
    "# 0   1 2  3   4   5   6  7  8   9   10\n",
    "\n",
    "str1.count('a',5,8)"
   ]
  },
  {
   "cell_type": "code",
   "execution_count": 43,
   "id": "5fb47fba-22a2-43c7-8e30-38fbe21fce66",
   "metadata": {},
   "outputs": [
    {
     "data": {
      "text/plain": [
       "2"
      ]
     },
     "execution_count": 43,
     "metadata": {},
     "output_type": "execute_result"
    }
   ],
   "source": [
    "str1.count('a',-10,-1)"
   ]
  },
  {
   "cell_type": "code",
   "execution_count": 45,
   "id": "c2311314-a7d8-4531-b54a-87f2a21c3eb0",
   "metadata": {},
   "outputs": [
    {
     "data": {
      "text/plain": [
       "0"
      ]
     },
     "execution_count": 45,
     "metadata": {},
     "output_type": "execute_result"
    }
   ],
   "source": [
    "str1.count('z')   # if words is not in string its return 0"
   ]
  },
  {
   "cell_type": "code",
   "execution_count": null,
   "id": "8a3c6659-859b-4d3d-9339-a0ec11a09111",
   "metadata": {},
   "outputs": [],
   "source": [
    "str1='ola ola ola'\n",
    "count the number of "
   ]
  },
  {
   "cell_type": "markdown",
   "id": "66c04957-bbd9-49b1-844a-40fb0b8c5795",
   "metadata": {},
   "source": [
    "**sliding window aroach**\n",
    "- fix the slice value first\n",
    "- increase slice by 1\n",
    "- whenever equal to substring is equal to substring\n",
    "- "
   ]
  },
  {
   "cell_type": "code",
   "execution_count": 67,
   "id": "5604a2d1-5e55-4c4a-94ed-3963b87881ba",
   "metadata": {},
   "outputs": [
    {
     "name": "stdout",
     "output_type": "stream",
     "text": [
      "4\n"
     ]
    }
   ],
   "source": [
    "str1='ola ola ola ola'\n",
    "# how many a are available\n",
    "c = 0\n",
    "# str1 = str1[i:i+3]\n",
    "for i in range(len(str1)):\n",
    "    if str1[i:i+3]=='ola':\n",
    "        c = c + 1\n",
    "print(c)"
   ]
  },
  {
   "cell_type": "code",
   "execution_count": 68,
   "id": "deb82420-b4c4-4ee8-978b-24874a112ea9",
   "metadata": {},
   "outputs": [
    {
     "data": {
      "text/plain": [
       "4"
      ]
     },
     "execution_count": 68,
     "metadata": {},
     "output_type": "execute_result"
    }
   ],
   "source": [
    "str1.count('ola')"
   ]
  },
  {
   "cell_type": "markdown",
   "id": "02e96e2e-6350-4a4c-b154-2250670265e7",
   "metadata": {},
   "source": [
    "# **replace**"
   ]
  },
  {
   "cell_type": "code",
   "execution_count": 81,
   "id": "10375c5a-6a6d-4f0a-a4f4-74ac8e2351c0",
   "metadata": {},
   "outputs": [],
   "source": [
    "str1 = 'wellllcome'"
   ]
  },
  {
   "cell_type": "code",
   "execution_count": 80,
   "id": "f388b8ba-2b8f-4db8-bf89-1c5d271ea394",
   "metadata": {},
   "outputs": [
    {
     "data": {
      "text/plain": [
       "'weLLLLcome'"
      ]
     },
     "execution_count": 80,
     "metadata": {},
     "output_type": "execute_result"
    }
   ],
   "source": [
    "str1.replace('l','L')"
   ]
  },
  {
   "cell_type": "code",
   "execution_count": null,
   "id": "2ae1265c-5310-4492-af97-f812923eb755",
   "metadata": {},
   "outputs": [],
   "source": []
  },
  {
   "cell_type": "code",
   "execution_count": 82,
   "id": "588a2855-fd54-445a-801e-a3a7ee731bc9",
   "metadata": {},
   "outputs": [
    {
     "data": {
      "text/plain": [
       "'weLLllcome'"
      ]
     },
     "execution_count": 82,
     "metadata": {},
     "output_type": "execute_result"
    }
   ],
   "source": [
    "str1 = 'wellllcome'\n",
    "str1.replace('l','L',2) # here count=1 which indicates replace only one word or value"
   ]
  },
  {
   "cell_type": "markdown",
   "id": "31d8512b-b4f0-4df1-8959-52f8bbfed36e",
   "metadata": {},
   "source": [
    "- by default it will replace all the occurance\n",
    "- the user can provide count which indicates how many latters can replace\n",
    "- if the substring not found will return original string itself"
   ]
  },
  {
   "cell_type": "code",
   "execution_count": 85,
   "id": "b1ee3740-c935-47f1-b7c1-14581c138d76",
   "metadata": {},
   "outputs": [
    {
     "data": {
      "text/plain": [
       "'weLLLLcome'"
      ]
     },
     "execution_count": 85,
     "metadata": {},
     "output_type": "execute_result"
    }
   ],
   "source": [
    "str1 = 'wellllcome'\n",
    "str1.replace('l','L',2)"
   ]
  },
  {
   "cell_type": "code",
   "execution_count": 93,
   "id": "c639a210-b47b-4948-aa42-dc438d45e167",
   "metadata": {},
   "outputs": [
    {
     "name": "stdout",
     "output_type": "stream",
     "text": [
      "$esta$t\n"
     ]
    }
   ],
   "source": [
    "str1 = 'restart'\n",
    "str2=str1.replace('r','$')\n",
    "print(str2)"
   ]
  },
  {
   "cell_type": "code",
   "execution_count": 95,
   "id": "acd48797-0b52-4593-81ce-d7e9c89825a9",
   "metadata": {},
   "outputs": [
    {
     "name": "stdout",
     "output_type": "stream",
     "text": [
      "resta$t\n"
     ]
    }
   ],
   "source": [
    "str3 = str2.replace('$','r',1)\n",
    "print(str3)"
   ]
  },
  {
   "cell_type": "code",
   "execution_count": 97,
   "id": "8829f4bf-04fd-4b60-8b79-ee78a6e6f7cc",
   "metadata": {},
   "outputs": [
    {
     "data": {
      "text/plain": [
       "'resta$t'"
      ]
     },
     "execution_count": 97,
     "metadata": {},
     "output_type": "execute_result"
    }
   ],
   "source": [
    "str1 = 'restart'\n",
    "s1=str1[0:5]\n",
    "s2=str1[5:]\n",
    "s3 = s2.replace('r','$')\n",
    "s1+s3"
   ]
  },
  {
   "cell_type": "markdown",
   "id": "bc501cbf-8a88-4ff8-86b5-3bb4110e2f2d",
   "metadata": {},
   "source": [
    "# **index method**"
   ]
  },
  {
   "cell_type": "code",
   "execution_count": 98,
   "id": "4f98535a-d630-4aa1-9fb7-969df7fa3552",
   "metadata": {},
   "outputs": [
    {
     "data": {
      "text/plain": [
       "3"
      ]
     },
     "execution_count": 98,
     "metadata": {},
     "output_type": "execute_result"
    }
   ],
   "source": [
    "str1 = 'restart restart'\n",
    "str1.index('t')"
   ]
  },
  {
   "cell_type": "code",
   "execution_count": 99,
   "id": "3038ba06-4293-485c-9f21-3ec0f5b63157",
   "metadata": {},
   "outputs": [
    {
     "data": {
      "text/plain": [
       "0"
      ]
     },
     "execution_count": 99,
     "metadata": {},
     "output_type": "execute_result"
    }
   ],
   "source": [
    "str1.index('r') # by default fisrt string index will come"
   ]
  },
  {
   "cell_type": "code",
   "execution_count": 100,
   "id": "c47dfc33-91dc-49de-80d8-2248b9d6055e",
   "metadata": {},
   "outputs": [
    {
     "ename": "ValueError",
     "evalue": "substring not found",
     "output_type": "error",
     "traceback": [
      "\u001b[1;31m---------------------------------------------------------------------------\u001b[0m",
      "\u001b[1;31mValueError\u001b[0m                                Traceback (most recent call last)",
      "Cell \u001b[1;32mIn[100], line 1\u001b[0m\n\u001b[1;32m----> 1\u001b[0m str1\u001b[38;5;241m.\u001b[39mindex(\u001b[38;5;124m'\u001b[39m\u001b[38;5;124mz\u001b[39m\u001b[38;5;124m'\u001b[39m)\n",
      "\u001b[1;31mValueError\u001b[0m: substring not found"
     ]
    }
   ],
   "source": [
    "str1.index('z')"
   ]
  },
  {
   "cell_type": "code",
   "execution_count": 114,
   "id": "e9e050f2-8c47-459e-98bb-7382b5458045",
   "metadata": {},
   "outputs": [
    {
     "name": "stdout",
     "output_type": "stream",
     "text": [
      "0 5 8 13\n"
     ]
    }
   ],
   "source": [
    "str1 = 'restart restart'\n",
    "i1 = str1.index('r')\n",
    "# i2 = str1.index('r',1)\n",
    "i2 = str1.index('r',i1+1) # also we can write\n",
    "i3 = str1.index('r',6)\n",
    "i4 = str1.index('r',9)\n",
    "print(i1,i2,i3,i4)"
   ]
  },
  {
   "cell_type": "code",
   "execution_count": 116,
   "id": "1a935bd3-52aa-4c1e-af9a-ecb181d78125",
   "metadata": {},
   "outputs": [
    {
     "data": {
      "text/plain": [
       "-1"
      ]
     },
     "execution_count": 116,
     "metadata": {},
     "output_type": "execute_result"
    }
   ],
   "source": [
    "str1='restart'\n",
    "str1.find('z')"
   ]
  },
  {
   "cell_type": "code",
   "execution_count": 11,
   "id": "b5a0bee3-3b4c-4c24-959f-34ddc9c3086d",
   "metadata": {},
   "outputs": [
    {
     "name": "stdout",
     "output_type": "stream",
     "text": [
      "virat\n",
      "kolhi\n",
      "rcb\n",
      "virat\n"
     ]
    }
   ],
   "source": [
    "str1='virat.kolhi@rcb.com'\n",
    "str2='rohit.sharma@mi.com'\n",
    "str3='ms.dhoni@csk.com'\n",
    "#extract-firstName from str1:virat\n",
    "#lastName name from str1:kolhi\n",
    "#companyName from str1:rcb\n",
    "str4='a.b@c.com'\n",
    "\n",
    "first_dot = str1.index('.')\n",
    "print(str1[:first_dot])\n",
    "second_dot = str1.index('@')\n",
    "print(str1[6:second_dot])\n",
    "company_dot = str1.index('.',11)\n",
    "print(str1[12:company_dot])\n",
    "\n",
    "first_dot = str1.index('.')\n",
    "first_name = str1[:first_dot]\n",
    "second_dot = str1.index('@')\n",
    "second_name = str1[6:second_dot]\n",
    "company_dot = str1.index('.',11)\n",
    "company_name  str1[12:company_dot]\n"
   ]
  },
  {
   "cell_type": "code",
   "execution_count": 32,
   "id": "d0236bdb-a0cb-4831-8c02-a87767b9563c",
   "metadata": {},
   "outputs": [
    {
     "ename": "UnboundLocalError",
     "evalue": "cannot access local variable 'company_dot' where it is not associated with a value",
     "output_type": "error",
     "traceback": [
      "\u001b[1;31m---------------------------------------------------------------------------\u001b[0m",
      "\u001b[1;31mUnboundLocalError\u001b[0m                         Traceback (most recent call last)",
      "Cell \u001b[1;32mIn[32], line 12\u001b[0m\n\u001b[0;32m      9\u001b[0m str1\u001b[38;5;241m=\u001b[39m\u001b[38;5;124m'\u001b[39m\u001b[38;5;124mvirat.kolhi@rcb.com\u001b[39m\u001b[38;5;124m'\u001b[39m\n\u001b[0;32m     10\u001b[0m \u001b[38;5;66;03m# str2='rohit.sharma@mi.com'\u001b[39;00m\n\u001b[0;32m     11\u001b[0m \u001b[38;5;66;03m# str3='ms.dhoni@csk.com'\u001b[39;00m\n\u001b[1;32m---> 12\u001b[0m fun2(str1)\n",
      "Cell \u001b[1;32mIn[32], line 5\u001b[0m, in \u001b[0;36mfun2\u001b[1;34m(str1)\u001b[0m\n\u001b[0;32m      3\u001b[0m first_name \u001b[38;5;241m=\u001b[39m str1[:first_dot]\n\u001b[0;32m      4\u001b[0m second_dot \u001b[38;5;241m=\u001b[39m str1\u001b[38;5;241m.\u001b[39mindex(\u001b[38;5;124m'\u001b[39m\u001b[38;5;124m@\u001b[39m\u001b[38;5;124m'\u001b[39m,first_dot \u001b[38;5;241m+\u001b[39m\u001b[38;5;241m1\u001b[39m)\n\u001b[1;32m----> 5\u001b[0m second_name \u001b[38;5;241m=\u001b[39m str1[first_dot:company_dot]\n\u001b[0;32m      6\u001b[0m company_dot \u001b[38;5;241m=\u001b[39m str1\u001b[38;5;241m.\u001b[39mindex(\u001b[38;5;124m'\u001b[39m\u001b[38;5;124m.\u001b[39m\u001b[38;5;124m'\u001b[39m,second_dot\u001b[38;5;241m+\u001b[39m\u001b[38;5;241m1\u001b[39m)\n\u001b[0;32m      7\u001b[0m company_name \u001b[38;5;241m=\u001b[39m str1[company_dot\u001b[38;5;241m+\u001b[39m\u001b[38;5;241m1\u001b[39m:second_dot]\n",
      "\u001b[1;31mUnboundLocalError\u001b[0m: cannot access local variable 'company_dot' where it is not associated with a value"
     ]
    }
   ],
   "source": [
    "def fun2(str1):\n",
    "    first_dot = str1.index('.')\n",
    "    first_name = str1[:first_dot]\n",
    "    second_dot = str1.index('@',first_dot +1)\n",
    "    second_name = str1[first_dot:company_dot]\n",
    "    company_dot = str1.index('.',second_dot+1)\n",
    "    company_name = str1[company_dot+1:second_dot]\n",
    "    print(first_name,second_name,company_name)\n",
    "str1='virat.kolhi@rcb.com'\n",
    "# str2='rohit.sharma@mi.com'\n",
    "# str3='ms.dhoni@csk.com'\n",
    "fun2(str1)\n",
    "# fun2(str2)\n",
    "# fun2(str3)"
   ]
  },
  {
   "cell_type": "code",
   "execution_count": 36,
   "id": "9b2d3637-ef24-45f8-92c1-783235a5c2b8",
   "metadata": {},
   "outputs": [
    {
     "name": "stdout",
     "output_type": "stream",
     "text": [
      "virat .kolhi@rcb\n"
     ]
    }
   ],
   "source": [
    "str1='virat.kolhi@rcb.com'\n",
    "first_dot = str1.index('.')\n",
    "first_name = str1[:first_dot]\n",
    "second_dot = str1.index('@',first_dot +1)\n",
    "second_name = str1[first_dot:company_dot]\n",
    "company_dot = str1.index('.',second_dot+1)\n",
    "company_name = str1[company_dot+1:second_dot]\n",
    "print(first_name,second_name)"
   ]
  },
  {
   "cell_type": "code",
   "execution_count": 39,
   "id": "096eaafc-f043-4166-979b-27c59a2a8575",
   "metadata": {},
   "outputs": [
    {
     "name": "stdout",
     "output_type": "stream",
     "text": [
      "a .b@c \n"
     ]
    }
   ],
   "source": [
    "def extract(str1):\n",
    "    first_dot = str1.index('.')\n",
    "    second_dot = str1.index('@',first_dot +1)\n",
    "    company_dot = str1.index('.',second_dot+1)\n",
    "    first_name = str1[:first_dot]\n",
    "    second_name = str1[first_dot:company_dot]\n",
    "    company_name = str1[company_dot+1:second_dot]\n",
    "    print(first_name,second_name,company_name)\n",
    "extract('a.b@c.com')"
   ]
  },
  {
   "cell_type": "markdown",
   "id": "92d186e0-8017-4683-a848-52e93724edb8",
   "metadata": {},
   "source": [
    "- split is used to convert a string to list of elements\n",
    "- by default it will split based on space"
   ]
  },
  {
   "cell_type": "code",
   "execution_count": 44,
   "id": "859df3e9-d50a-4d7e-b1f5-9dc9cd726d9b",
   "metadata": {},
   "outputs": [
    {
     "data": {
      "text/plain": [
       "['hii', 'how', 'are', 'you']"
      ]
     },
     "execution_count": 44,
     "metadata": {},
     "output_type": "execute_result"
    }
   ],
   "source": [
    "str1='hii how are you'\n",
    "str1.split()"
   ]
  },
  {
   "cell_type": "code",
   "execution_count": 45,
   "id": "af9d4384-638e-40a3-a0ef-7bdefc4f53d4",
   "metadata": {},
   "outputs": [
    {
     "data": {
      "text/plain": [
       "['hii how ', ' are you']"
      ]
     },
     "execution_count": 45,
     "metadata": {},
     "output_type": "execute_result"
    }
   ],
   "source": [
    "str1='hii how , are you'\n",
    "str1.split(',')"
   ]
  },
  {
   "cell_type": "code",
   "execution_count": 46,
   "id": "754ef8b5-2ba0-4548-b765-187693d1e379",
   "metadata": {},
   "outputs": [
    {
     "data": {
      "text/plain": [
       "['hii', 'how,are', 'you']"
      ]
     },
     "execution_count": 46,
     "metadata": {},
     "output_type": "execute_result"
    }
   ],
   "source": [
    "str1='hii how,are you'\n",
    "str1.split()"
   ]
  },
  {
   "cell_type": "code",
   "execution_count": 47,
   "id": "9c43ccca-4821-4734-ba73-d29794d1a0d6",
   "metadata": {},
   "outputs": [
    {
     "data": {
      "text/plain": [
       "['hell', ' hii h', 'w are y', 'u']"
      ]
     },
     "execution_count": 47,
     "metadata": {},
     "output_type": "execute_result"
    }
   ],
   "source": [
    "str1='hello hii how are you'\n",
    "str1.split('o')"
   ]
  },
  {
   "cell_type": "markdown",
   "id": "572f10d8-c71b-45f2-b6c5-e14be51cd3dd",
   "metadata": {},
   "source": [
    "**join**"
   ]
  },
  {
   "cell_type": "code",
   "execution_count": 57,
   "id": "e77372fc-dfcb-41fd-9e4c-ab90f50532dc",
   "metadata": {},
   "outputs": [
    {
     "data": {
      "text/plain": [
       "['hell', ' hii h', 'w are y', 'u']"
      ]
     },
     "execution_count": 57,
     "metadata": {},
     "output_type": "execute_result"
    }
   ],
   "source": [
    "str1='hello hii how are you'\n",
    "str1.split('o')\n"
   ]
  },
  {
   "cell_type": "code",
   "execution_count": 56,
   "id": "b40b6b22-6aa5-48f9-9672-8222fe5c7cf9",
   "metadata": {},
   "outputs": [
    {
     "data": {
      "text/plain": [
       "'hello hii how are you'"
      ]
     },
     "execution_count": 56,
     "metadata": {},
     "output_type": "execute_result"
    }
   ],
   "source": [
    "' '.join(l)"
   ]
  },
  {
   "cell_type": "code",
   "execution_count": 59,
   "id": "887f52fd-2381-495f-b0fa-27ca1ee7b3df",
   "metadata": {},
   "outputs": [
    {
     "data": {
      "text/plain": [
       "'helloohiiohowoareoyou'"
      ]
     },
     "execution_count": 59,
     "metadata": {},
     "output_type": "execute_result"
    }
   ],
   "source": [
    "'o'.join(l)"
   ]
  },
  {
   "cell_type": "code",
   "execution_count": 60,
   "id": "55f0cef3-7544-4771-897a-d3c16f9a3e5d",
   "metadata": {},
   "outputs": [
    {
     "data": {
      "text/plain": [
       "'hii how , are you'"
      ]
     },
     "execution_count": 60,
     "metadata": {},
     "output_type": "execute_result"
    }
   ],
   "source": [
    "str1='hii how , are you'\n",
    "l=str1.split(',')\n",
    "','.join(l)"
   ]
  },
  {
   "cell_type": "code",
   "execution_count": 65,
   "id": "8e7af7f9-ae93-4028-aa80-a2b7c7e28853",
   "metadata": {},
   "outputs": [],
   "source": [
    "str1='hello hii how are you'\n",
    "l=str1.split('o')"
   ]
  },
  {
   "cell_type": "code",
   "execution_count": 67,
   "id": "490e0d17-1eb7-4607-84d9-babbdc2a01ae",
   "metadata": {},
   "outputs": [
    {
     "data": {
      "text/plain": [
       "'hello hii how are you'"
      ]
     },
     "execution_count": 67,
     "metadata": {},
     "output_type": "execute_result"
    }
   ],
   "source": [
    "'o'.join(l)"
   ]
  },
  {
   "cell_type": "code",
   "execution_count": 68,
   "id": "e7fb1a34-9253-4266-bf24-1706ca1aba31",
   "metadata": {},
   "outputs": [
    {
     "data": {
      "text/plain": [
       "['__add__',\n",
       " '__class__',\n",
       " '__contains__',\n",
       " '__delattr__',\n",
       " '__dir__',\n",
       " '__doc__',\n",
       " '__eq__',\n",
       " '__format__',\n",
       " '__ge__',\n",
       " '__getattribute__',\n",
       " '__getitem__',\n",
       " '__getnewargs__',\n",
       " '__getstate__',\n",
       " '__gt__',\n",
       " '__hash__',\n",
       " '__init__',\n",
       " '__init_subclass__',\n",
       " '__iter__',\n",
       " '__le__',\n",
       " '__len__',\n",
       " '__lt__',\n",
       " '__mod__',\n",
       " '__mul__',\n",
       " '__ne__',\n",
       " '__new__',\n",
       " '__reduce__',\n",
       " '__reduce_ex__',\n",
       " '__repr__',\n",
       " '__rmod__',\n",
       " '__rmul__',\n",
       " '__setattr__',\n",
       " '__sizeof__',\n",
       " '__str__',\n",
       " '__subclasshook__',\n",
       " 'capitalize',\n",
       " 'casefold',\n",
       " 'center',\n",
       " 'count',\n",
       " 'encode',\n",
       " 'endswith',\n",
       " 'expandtabs',\n",
       " 'find',\n",
       " 'format',\n",
       " 'format_map',\n",
       " 'index',\n",
       " 'isalnum',\n",
       " 'isalpha',\n",
       " 'isascii',\n",
       " 'isdecimal',\n",
       " 'isdigit',\n",
       " 'isidentifier',\n",
       " 'islower',\n",
       " 'isnumeric',\n",
       " 'isprintable',\n",
       " 'isspace',\n",
       " 'istitle',\n",
       " 'isupper',\n",
       " 'join',\n",
       " 'ljust',\n",
       " 'lower',\n",
       " 'lstrip',\n",
       " 'maketrans',\n",
       " 'partition',\n",
       " 'removeprefix',\n",
       " 'removesuffix',\n",
       " 'replace',\n",
       " 'rfind',\n",
       " 'rindex',\n",
       " 'rjust',\n",
       " 'rpartition',\n",
       " 'rsplit',\n",
       " 'rstrip',\n",
       " 'split',\n",
       " 'splitlines',\n",
       " 'startswith',\n",
       " 'strip',\n",
       " 'swapcase',\n",
       " 'title',\n",
       " 'translate',\n",
       " 'upper',\n",
       " 'zfill']"
      ]
     },
     "execution_count": 68,
     "metadata": {},
     "output_type": "execute_result"
    }
   ],
   "source": [
    "dir('')"
   ]
  },
  {
   "cell_type": "code",
   "execution_count": null,
   "id": "0d0540b5-9b2f-4078-8909-e5e51ea9f130",
   "metadata": {},
   "outputs": [],
   "source": []
  },
  {
   "cell_type": "code",
   "execution_count": 5,
   "id": "64badf7f-79f0-42aa-ad86-894be4479445",
   "metadata": {},
   "outputs": [
    {
     "data": {
      "text/plain": [
       "'12345'"
      ]
     },
     "execution_count": 5,
     "metadata": {},
     "output_type": "execute_result"
    }
   ],
   "source": [
    "str1 = 'the tel 12345'\n",
    "str1[8:15]"
   ]
  },
  {
   "cell_type": "code",
   "execution_count": 22,
   "id": "cf7be0e7-e24e-422d-b440-e5e9296ee59f",
   "metadata": {},
   "outputs": [
    {
     "name": "stdout",
     "output_type": "stream",
     "text": [
      "12345\n"
     ]
    }
   ],
   "source": [
    "str2 =''\n",
    "for i in str1:\n",
    "    if i.isdigit():\n",
    "        str2 =str2 + i\n",
    "print(str2)"
   ]
  },
  {
   "cell_type": "code",
   "execution_count": 24,
   "id": "63358ffd-2270-4b51-bd9d-1d81bdbebae6",
   "metadata": {},
   "outputs": [
    {
     "name": "stdout",
     "output_type": "stream",
     "text": [
      "12345"
     ]
    }
   ],
   "source": [
    "for i in str2:\n",
    "    if i.isdigit():\n",
    "        print(i,end='')"
   ]
  },
  {
   "cell_type": "code",
   "execution_count": 33,
   "id": "369b26c9-a7aa-4af5-a753-340e9f807519",
   "metadata": {},
   "outputs": [
    {
     "name": "stdout",
     "output_type": "stream",
     "text": [
      "n\n",
      "o\n",
      "h\n",
      "t\n",
      "y\n",
      "p\n"
     ]
    }
   ],
   "source": [
    "str1 = 'python'\n",
    "for i in reversed(str1):\n",
    "    print(i)"
   ]
  },
  {
   "cell_type": "code",
   "execution_count": 43,
   "id": "06daa69f-f432-4d9d-a2e1-a4c78bda49da",
   "metadata": {},
   "outputs": [
    {
     "name": "stdout",
     "output_type": "stream",
     "text": [
      "p -6\n",
      "y -5\n",
      "t -4\n",
      "h -3\n",
      "o -2\n",
      "n -1\n"
     ]
    }
   ],
   "source": [
    "length =len(str1)\n",
    "for i in range(length):\n",
    "    print(str1[i],i-length)"
   ]
  },
  {
   "cell_type": "code",
   "execution_count": null,
   "id": "c34dbd59-9087-43ad-b96f-c36b6c99f078",
   "metadata": {},
   "outputs": [],
   "source": [
    " 'index',\n",
    " 'isalnum',\n",
    " 'isalpha',\n",
    " 'isascii',\n",
    " 'isdecimal',\n",
    " 'isdigit',\n",
    " 'isidentifier',\n",
    " 'islower',\n",
    " 'isnumeric',\n",
    " 'isprintable',\n",
    " 'isspace',\n",
    " 'istitle',\n",
    " 'isupper"
   ]
  },
  {
   "cell_type": "code",
   "execution_count": 53,
   "id": "53ae8cfc-7272-437a-b9a9-3b442a193bcd",
   "metadata": {},
   "outputs": [
    {
     "data": {
      "text/plain": [
       "False"
      ]
     },
     "execution_count": 53,
     "metadata": {},
     "output_type": "execute_result"
    }
   ],
   "source": []
  },
  {
   "cell_type": "raw",
   "id": "6fca2cb7-82f3-4866-b9ee-df0f9ed531c0",
   "metadata": {},
   "source": []
  },
  {
   "cell_type": "code",
   "execution_count": 1,
   "id": "0db36722-709e-4197-b042-80a24503bde4",
   "metadata": {},
   "outputs": [
    {
     "data": {
      "text/plain": [
       "['__add__',\n",
       " '__class__',\n",
       " '__contains__',\n",
       " '__delattr__',\n",
       " '__dir__',\n",
       " '__doc__',\n",
       " '__eq__',\n",
       " '__format__',\n",
       " '__ge__',\n",
       " '__getattribute__',\n",
       " '__getitem__',\n",
       " '__getnewargs__',\n",
       " '__getstate__',\n",
       " '__gt__',\n",
       " '__hash__',\n",
       " '__init__',\n",
       " '__init_subclass__',\n",
       " '__iter__',\n",
       " '__le__',\n",
       " '__len__',\n",
       " '__lt__',\n",
       " '__mod__',\n",
       " '__mul__',\n",
       " '__ne__',\n",
       " '__new__',\n",
       " '__reduce__',\n",
       " '__reduce_ex__',\n",
       " '__repr__',\n",
       " '__rmod__',\n",
       " '__rmul__',\n",
       " '__setattr__',\n",
       " '__sizeof__',\n",
       " '__str__',\n",
       " '__subclasshook__',\n",
       " 'capitalize',\n",
       " 'casefold',\n",
       " 'center',\n",
       " 'count',\n",
       " 'encode',\n",
       " 'endswith',\n",
       " 'expandtabs',\n",
       " 'find',\n",
       " 'format',\n",
       " 'format_map',\n",
       " 'index',\n",
       " 'isalnum',\n",
       " 'isalpha',\n",
       " 'isascii',\n",
       " 'isdecimal',\n",
       " 'isdigit',\n",
       " 'isidentifier',\n",
       " 'islower',\n",
       " 'isnumeric',\n",
       " 'isprintable',\n",
       " 'isspace',\n",
       " 'istitle',\n",
       " 'isupper',\n",
       " 'join',\n",
       " 'ljust',\n",
       " 'lower',\n",
       " 'lstrip',\n",
       " 'maketrans',\n",
       " 'partition',\n",
       " 'removeprefix',\n",
       " 'removesuffix',\n",
       " 'replace',\n",
       " 'rfind',\n",
       " 'rindex',\n",
       " 'rjust',\n",
       " 'rpartition',\n",
       " 'rsplit',\n",
       " 'rstrip',\n",
       " 'split',\n",
       " 'splitlines',\n",
       " 'startswith',\n",
       " 'strip',\n",
       " 'swapcase',\n",
       " 'title',\n",
       " 'translate',\n",
       " 'upper',\n",
       " 'zfill']"
      ]
     },
     "execution_count": 1,
     "metadata": {},
     "output_type": "execute_result"
    }
   ],
   "source": [
    "dir('')"
   ]
  },
  {
   "cell_type": "code",
   "execution_count": 10,
   "id": "0aead626-d83a-4ec7-9663-34889cb797df",
   "metadata": {},
   "outputs": [
    {
     "data": {
      "text/plain": [
       "'this is string'"
      ]
     },
     "execution_count": 10,
     "metadata": {},
     "output_type": "execute_result"
    }
   ],
   "source": [
    "str1 = 'this is string'\n",
    "str1"
   ]
  },
  {
   "cell_type": "code",
   "execution_count": 11,
   "id": "a163a8e3-4d44-4463-8405-7cf4bc6ca723",
   "metadata": {},
   "outputs": [
    {
     "name": "stdout",
     "output_type": "stream",
     "text": [
      "this is string\n"
     ]
    }
   ],
   "source": [
    "print(str1)"
   ]
  },
  {
   "cell_type": "code",
   "execution_count": 12,
   "id": "4a76af76-25d3-45e2-93b1-3c68de862528",
   "metadata": {},
   "outputs": [
    {
     "data": {
      "text/plain": [
       "str"
      ]
     },
     "execution_count": 12,
     "metadata": {},
     "output_type": "execute_result"
    }
   ],
   "source": [
    "type(str1)"
   ]
  },
  {
   "cell_type": "code",
   "execution_count": 13,
   "id": "11ae8f77-8c42-41a9-a31a-0b3f3bee5454",
   "metadata": {},
   "outputs": [
    {
     "data": {
      "text/plain": [
       "14"
      ]
     },
     "execution_count": 13,
     "metadata": {},
     "output_type": "execute_result"
    }
   ],
   "source": [
    "len(str1)"
   ]
  },
  {
   "cell_type": "code",
   "execution_count": 14,
   "id": "a1773ce8-09d5-4229-bc23-fde2596afb34",
   "metadata": {},
   "outputs": [
    {
     "data": {
      "text/plain": [
       "' '"
      ]
     },
     "execution_count": 14,
     "metadata": {},
     "output_type": "execute_result"
    }
   ],
   "source": [
    "min(str1)"
   ]
  },
  {
   "cell_type": "code",
   "execution_count": 15,
   "id": "0b869e5b-9bfc-4ad7-a167-8b8f08f25cc0",
   "metadata": {},
   "outputs": [
    {
     "data": {
      "text/plain": [
       "'t'"
      ]
     },
     "execution_count": 15,
     "metadata": {},
     "output_type": "execute_result"
    }
   ],
   "source": [
    "max(str1)"
   ]
  },
  {
   "cell_type": "code",
   "execution_count": 20,
   "id": "91024999-8bbe-4f91-b6d2-ed1a53d654ec",
   "metadata": {},
   "outputs": [
    {
     "name": "stdout",
     "output_type": "stream",
     "text": [
      "[' ', ' ', 'g', 'h', 'i', 'i', 'i', 'n', 'r', 's', 's', 's', 't', 't']\n"
     ]
    }
   ],
   "source": [
    "print(sorted(str1))"
   ]
  },
  {
   "cell_type": "code",
   "execution_count": 38,
   "id": "f45f2346-dfb6-42a2-90bf-62f6024240ab",
   "metadata": {},
   "outputs": [
    {
     "data": {
      "text/plain": [
       "['t', 't', 's', 's', 's', 'r', 'n', 'i', 'i', 'i', 'h', 'g', ' ', ' ']"
      ]
     },
     "execution_count": 38,
     "metadata": {},
     "output_type": "execute_result"
    }
   ],
   "source": [
    "sorted(str1,reverse=True)"
   ]
  },
  {
   "cell_type": "code",
   "execution_count": 31,
   "id": "2c56b4a4-e83d-43e1-9bf9-a35c45f581ac",
   "metadata": {},
   "outputs": [
    {
     "data": {
      "text/plain": [
       "<reversed at 0x2909ae741f0>"
      ]
     },
     "execution_count": 31,
     "metadata": {},
     "output_type": "execute_result"
    }
   ],
   "source": [
    "reversed(str1)"
   ]
  },
  {
   "cell_type": "code",
   "execution_count": 39,
   "id": "be748e5e-8829-45d1-b7a2-bb14b0a846af",
   "metadata": {},
   "outputs": [
    {
     "name": "stdout",
     "output_type": "stream",
     "text": [
      "gnirts si siht"
     ]
    }
   ],
   "source": [
    "for i in reversed(str1):\n",
    "    print(i,end='')"
   ]
  },
  {
   "cell_type": "code",
   "execution_count": 51,
   "id": "7f60ed97-1bab-4eb6-9f5c-9f1ac98648e1",
   "metadata": {},
   "outputs": [
    {
     "data": {
      "text/plain": [
       "'gnirts si siht'"
      ]
     },
     "execution_count": 51,
     "metadata": {},
     "output_type": "execute_result"
    }
   ],
   "source": [
    "str1 = 'this is string'\n",
    "str1[0:15:1]\n",
    "str1[-1:-15:-1] # reverse logic "
   ]
  },
  {
   "cell_type": "code",
   "execution_count": 61,
   "id": "bbf32d69-e468-426e-bb83-3d8c7fcf5fac",
   "metadata": {},
   "outputs": [
    {
     "data": {
      "text/plain": [
       "'---------------------this is string--------------------'"
      ]
     },
     "execution_count": 61,
     "metadata": {},
     "output_type": "execute_result"
    }
   ],
   "source": [
    "str1.center(55,'-')"
   ]
  },
  {
   "cell_type": "code",
   "execution_count": 62,
   "id": "fc1ad663-edf7-402a-95a6-fbb2d8a68a08",
   "metadata": {},
   "outputs": [
    {
     "data": {
      "text/plain": [
       "'      this is string     '"
      ]
     },
     "execution_count": 62,
     "metadata": {},
     "output_type": "execute_result"
    }
   ],
   "source": [
    "str1.center(25)"
   ]
  },
  {
   "cell_type": "code",
   "execution_count": 74,
   "id": "7e6cedfb-9cea-4175-a48a-b9edb0710662",
   "metadata": {},
   "outputs": [
    {
     "data": {
      "text/plain": [
       "['this', 'is', 'string']"
      ]
     },
     "execution_count": 74,
     "metadata": {},
     "output_type": "execute_result"
    }
   ],
   "source": [
    "str1.split()"
   ]
  },
  {
   "cell_type": "code",
   "execution_count": 81,
   "id": "92eebf67-b944-4c43-849a-71574bf765a7",
   "metadata": {},
   "outputs": [
    {
     "name": "stdout",
     "output_type": "stream",
     "text": [
      "this is string\n"
     ]
    },
    {
     "data": {
      "text/plain": [
       "['this', 'is', 'string']"
      ]
     },
     "execution_count": 81,
     "metadata": {},
     "output_type": "execute_result"
    }
   ],
   "source": [
    "str1.join('')\n",
    "print(str1)\n",
    "str1.split()"
   ]
  },
  {
   "cell_type": "code",
   "execution_count": 83,
   "id": "f811feeb-f758-41b9-8d60-4cb577e0a1b7",
   "metadata": {},
   "outputs": [
    {
     "data": {
      "text/plain": [
       "['hello ', ' this is python']"
      ]
     },
     "execution_count": 83,
     "metadata": {},
     "output_type": "execute_result"
    }
   ],
   "source": [
    "str1='hello , this is python'\n",
    "str1.split(',')"
   ]
  },
  {
   "cell_type": "code",
   "execution_count": 84,
   "id": "9501999c-4b3d-42e4-b977-e66dbd6be8c0",
   "metadata": {},
   "outputs": [
    {
     "data": {
      "text/plain": [
       "','"
      ]
     },
     "execution_count": 84,
     "metadata": {},
     "output_type": "execute_result"
    }
   ],
   "source": [
    "str1.join(',')"
   ]
  },
  {
   "cell_type": "code",
   "execution_count": 88,
   "id": "3d80e275-3a89-4041-8df9-52e67945a431",
   "metadata": {},
   "outputs": [
    {
     "data": {
      "text/plain": [
       "'l'"
      ]
     },
     "execution_count": 88,
     "metadata": {},
     "output_type": "execute_result"
    }
   ],
   "source": [
    "' '.join('l')"
   ]
  },
  {
   "cell_type": "code",
   "execution_count": 91,
   "id": "c58d2d55-2b0c-4d4c-a4d9-05f08f08f0fc",
   "metadata": {},
   "outputs": [
    {
     "data": {
      "text/plain": [
       "['hello', ',', 'this', 'is', 'python']"
      ]
     },
     "execution_count": 91,
     "metadata": {},
     "output_type": "execute_result"
    }
   ],
   "source": [
    "str1.split()"
   ]
  },
  {
   "cell_type": "code",
   "execution_count": 99,
   "id": "96c110f1-f7a5-4d4b-8c91-b9708cab5e78",
   "metadata": {},
   "outputs": [
    {
     "data": {
      "text/plain": [
       "10"
      ]
     },
     "execution_count": 99,
     "metadata": {},
     "output_type": "execute_result"
    }
   ],
   "source": [
    "str1.index('this')\n",
    "str1.index('is')"
   ]
  },
  {
   "cell_type": "code",
   "execution_count": 95,
   "id": "dce524e9-5180-4643-9b13-d19751da11c5",
   "metadata": {},
   "outputs": [
    {
     "data": {
      "text/plain": [
       "2"
      ]
     },
     "execution_count": 95,
     "metadata": {},
     "output_type": "execute_result"
    }
   ],
   "source": [
    "str1.index('l')"
   ]
  },
  {
   "cell_type": "code",
   "execution_count": 104,
   "id": "28fc60f3-ff73-4d20-9d4b-c7f993e7268f",
   "metadata": {},
   "outputs": [
    {
     "data": {
      "text/plain": [
       "'python'"
      ]
     },
     "execution_count": 104,
     "metadata": {},
     "output_type": "execute_result"
    }
   ],
   "source": [
    "str1='    python  ## '\n",
    "str1.strip()"
   ]
  },
  {
   "cell_type": "code",
   "execution_count": 109,
   "id": "89da0070-3895-4b9a-8e00-d0b6d2b48b0e",
   "metadata": {},
   "outputs": [
    {
     "data": {
      "text/plain": [
       "'python'"
      ]
     },
     "execution_count": 109,
     "metadata": {},
     "output_type": "execute_result"
    }
   ],
   "source": [
    "str1.rstrip('#').rstrip().lstrip()"
   ]
  },
  {
   "cell_type": "code",
   "execution_count": 110,
   "id": "600bcae1-1523-412d-93e9-fe661b7d7941",
   "metadata": {},
   "outputs": [
    {
     "data": {
      "text/plain": [
       "'    python   '"
      ]
     },
     "execution_count": 110,
     "metadata": {},
     "output_type": "execute_result"
    }
   ],
   "source": [
    "str1.replace('#','')"
   ]
  },
  {
   "cell_type": "code",
   "execution_count": 112,
   "id": "bf2f28ae-54b5-4000-b178-fd66f3be0a82",
   "metadata": {},
   "outputs": [
    {
     "data": {
      "text/plain": [
       "'    Python   '"
      ]
     },
     "execution_count": 112,
     "metadata": {},
     "output_type": "execute_result"
    }
   ],
   "source": [
    "str1.replace('p','P')"
   ]
  },
  {
   "cell_type": "code",
   "execution_count": 113,
   "id": "e233afba-9e7e-4230-8470-083fed72225c",
   "metadata": {},
   "outputs": [
    {
     "data": {
      "text/plain": [
       "'    python   '"
      ]
     },
     "execution_count": 113,
     "metadata": {},
     "output_type": "execute_result"
    }
   ],
   "source": [
    "str1[::]"
   ]
  },
  {
   "cell_type": "code",
   "execution_count": 115,
   "id": "d7708e4e-b16c-4e0c-931d-0eacdf6dcf2e",
   "metadata": {},
   "outputs": [
    {
     "data": {
      "text/plain": [
       "'    p'"
      ]
     },
     "execution_count": 115,
     "metadata": {},
     "output_type": "execute_result"
    }
   ],
   "source": [
    "str1[:5]"
   ]
  },
  {
   "cell_type": "code",
   "execution_count": 119,
   "id": "1a91c090-4dd4-48df-9dc8-b5063ecbf0f6",
   "metadata": {},
   "outputs": [],
   "source": [
    "str1='123456'"
   ]
  },
  {
   "cell_type": "code",
   "execution_count": 117,
   "id": "420a1857-bbce-4f09-ac0c-2e4f39ae2d5e",
   "metadata": {},
   "outputs": [
    {
     "data": {
      "text/plain": [
       "'pytho'"
      ]
     },
     "execution_count": 117,
     "metadata": {},
     "output_type": "execute_result"
    }
   ],
   "source": [
    "str1[:5]"
   ]
  },
  {
   "cell_type": "code",
   "execution_count": 120,
   "id": "6932b1ff-dd8d-4c44-879f-40c94feef322",
   "metadata": {},
   "outputs": [
    {
     "data": {
      "text/plain": [
       "'6543'"
      ]
     },
     "execution_count": 120,
     "metadata": {},
     "output_type": "execute_result"
    }
   ],
   "source": [
    "str1[-1:-5:-1]"
   ]
  },
  {
   "cell_type": "code",
   "execution_count": 122,
   "id": "7c183cc8-70c7-424a-86fd-601379a69475",
   "metadata": {},
   "outputs": [
    {
     "data": {
      "text/plain": [
       "'123'"
      ]
     },
     "execution_count": 122,
     "metadata": {},
     "output_type": "execute_result"
    }
   ],
   "source": [
    "str1[:3]"
   ]
  },
  {
   "cell_type": "code",
   "execution_count": 124,
   "id": "d0af11ec-bbd3-4d67-9c4b-acb0d9d2975a",
   "metadata": {},
   "outputs": [
    {
     "data": {
      "text/plain": [
       "5"
      ]
     },
     "execution_count": 124,
     "metadata": {},
     "output_type": "execute_result"
    }
   ],
   "source": [
    "str1.index('6')"
   ]
  },
  {
   "cell_type": "code",
   "execution_count": 127,
   "id": "dc7a553f-e920-4fcc-b67c-5410be30253b",
   "metadata": {},
   "outputs": [
    {
     "data": {
      "text/plain": [
       "'python python '"
      ]
     },
     "execution_count": 127,
     "metadata": {},
     "output_type": "execute_result"
    }
   ],
   "source": [
    "'python '*2"
   ]
  },
  {
   "cell_type": "code",
   "execution_count": 128,
   "id": "24cc8541-4072-4796-b583-20208a3d47cd",
   "metadata": {},
   "outputs": [
    {
     "data": {
      "text/plain": [
       "'                      123456                      '"
      ]
     },
     "execution_count": 128,
     "metadata": {},
     "output_type": "execute_result"
    }
   ],
   "source": [
    "str1.center(50)"
   ]
  },
  {
   "cell_type": "code",
   "execution_count": null,
   "id": "af0b3452-b645-48b7-91da-f6e67b0541f9",
   "metadata": {},
   "outputs": [],
   "source": []
  }
 ],
 "metadata": {
  "kernelspec": {
   "display_name": "Python 3 (ipykernel)",
   "language": "python",
   "name": "python3"
  },
  "language_info": {
   "codemirror_mode": {
    "name": "ipython",
    "version": 3
   },
   "file_extension": ".py",
   "mimetype": "text/x-python",
   "name": "python",
   "nbconvert_exporter": "python",
   "pygments_lexer": "ipython3",
   "version": "3.12.7"
  }
 },
 "nbformat": 4,
 "nbformat_minor": 5
}
