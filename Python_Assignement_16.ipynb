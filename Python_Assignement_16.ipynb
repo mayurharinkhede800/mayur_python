{
 "cells": [
  {
   "cell_type": "code",
   "execution_count": null,
   "id": "90ca54e9-7a16-4737-ac08-9a9750b57c38",
   "metadata": {},
   "outputs": [],
   "source": [
    "# In the interview\n",
    "# list1=[10,20,2,5,75]\n",
    "# Q1) sort the list with out sorted function\n",
    "# Q2) Find the max value with out max function\n",
    "# Q3) Find the min value with out min function\n",
    "# Q4) Reverse the elemnts with out revrsed function\n",
    "# Q5) Sum the elements with out using sum function\n",
    "# Q6) Find the second max and second min"
   ]
  },
  {
   "cell_type": "code",
   "execution_count": 68,
   "id": "22883db1-deb1-4bec-b8e2-4eb72c8b16cd",
   "metadata": {},
   "outputs": [
    {
     "name": "stdout",
     "output_type": "stream",
     "text": [
      "[2, 5, 10, 20, 75]\n"
     ]
    }
   ],
   "source": [
    "# Q1.sort\n",
    "l=[10,20,2,5,75]\n",
    "n = len(list1)\n",
    "for i in range(n):\n",
    "    for j in range(n):\n",
    "        if l[i]<l[j]:\n",
    "            l[i],l[j]=l[j],l[i]\n",
    "print(l)"
   ]
  },
  {
   "cell_type": "code",
   "execution_count": 69,
   "id": "ec62ba6b-b9f5-42fa-8bca-1b02600f79da",
   "metadata": {},
   "outputs": [
    {
     "name": "stdout",
     "output_type": "stream",
     "text": [
      "88\n"
     ]
    }
   ],
   "source": [
    "# Q2.max\n",
    "list1 = [2,5,41,14,52,36,88]\n",
    "maxx =0\n",
    "for i in list1:\n",
    "    if maxx < i:\n",
    "        maxx = i\n",
    "print(maxx)"
   ]
  },
  {
   "cell_type": "code",
   "execution_count": 58,
   "id": "39bbd103-0e3f-4017-a80b-95379278181c",
   "metadata": {},
   "outputs": [
    {
     "name": "stdout",
     "output_type": "stream",
     "text": [
      "2\n"
     ]
    }
   ],
   "source": [
    "# Q3.min\n",
    "list1 = [2,5,41,14,52,36]\n",
    "minn = list1[0]\n",
    "for numm in list1:\n",
    "    if minn > numm:\n",
    "        minn = numm\n",
    "print(minn)"
   ]
  },
  {
   "cell_type": "code",
   "execution_count": 55,
   "id": "7b9385f9-659e-4095-9541-15762cf70608",
   "metadata": {},
   "outputs": [
    {
     "name": "stdout",
     "output_type": "stream",
     "text": [
      "original elements is [2, 5, 41, 14, 52, 36]\n",
      "reversed elements : [36, 52, 14, 41, 5, 2]\n"
     ]
    }
   ],
   "source": [
    "#Q4.reverse\n",
    "list1 = [2,5,41,14,52,36]\n",
    "n = len(list1)\n",
    "print(f'original elements is {list1}')\n",
    "for i in range(len(list1)//2):\n",
    "    list1[i],list1[len(list1)-1-i]=list1[len(list1)-1-i],list1[i]\n",
    "print(f'reversed elements : {list1}')"
   ]
  },
  {
   "cell_type": "code",
   "execution_count": 36,
   "id": "6383ad3d-a4fe-41d1-8205-730c55fa8bcf",
   "metadata": {},
   "outputs": [
    {
     "name": "stdout",
     "output_type": "stream",
     "text": [
      "sum of the elements is : 150\n"
     ]
    }
   ],
   "source": [
    "#Q5.sum\n",
    "list1 = [2,5,41,14,52,36]\n",
    "summ = 0\n",
    "for i in list1:\n",
    "    summ = summ + i\n",
    "print(f'sum of the elements is : {summ}')"
   ]
  },
  {
   "cell_type": "code",
   "execution_count": 72,
   "id": "fa570f52-21f1-47fa-8a1c-3677ca154d73",
   "metadata": {},
   "outputs": [
    {
     "name": "stdout",
     "output_type": "stream",
     "text": [
      "second minimum number is : 5\n",
      "seocnd maximum number is : 20\n"
     ]
    }
   ],
   "source": [
    "# Q6.second min and second maz\n",
    "list1 = [10,20,2,5,75]\n",
    "smin=float('inf')\n",
    "ssmin=float('inf')\n",
    "smax=float('-inf')\n",
    "ssmax=float('-inf')\n",
    "for n in list1:\n",
    "    if n <= smin:\n",
    "        smin,ssmin=n,smin\n",
    "    elif n <= ssmin:\n",
    "        ssmin=n\n",
    "    if n >= smax:\n",
    "        smax,ssmax=n,smax\n",
    "    elif n >= ssmax:\n",
    "        ssmax=n\n",
    "print(f'second minimum number is : {ssmin}')\n",
    "print(f'seocnd maximum number is : {ssmax}')"
   ]
  },
  {
   "cell_type": "code",
   "execution_count": null,
   "id": "2c9b553d-388e-4297-8018-575eef26318a",
   "metadata": {},
   "outputs": [],
   "source": []
  },
  {
   "cell_type": "code",
   "execution_count": null,
   "id": "574b6362-3200-4f57-9cec-845fa7124482",
   "metadata": {},
   "outputs": [],
   "source": []
  },
  {
   "cell_type": "code",
   "execution_count": null,
   "id": "11ad12eb-85c9-49bf-b105-8d04cfeab310",
   "metadata": {},
   "outputs": [],
   "source": []
  }
 ],
 "metadata": {
  "kernelspec": {
   "display_name": "Python 3 (ipykernel)",
   "language": "python",
   "name": "python3"
  },
  "language_info": {
   "codemirror_mode": {
    "name": "ipython",
    "version": 3
   },
   "file_extension": ".py",
   "mimetype": "text/x-python",
   "name": "python",
   "nbconvert_exporter": "python",
   "pygments_lexer": "ipython3",
   "version": "3.12.7"
  }
 },
 "nbformat": 4,
 "nbformat_minor": 5
}
