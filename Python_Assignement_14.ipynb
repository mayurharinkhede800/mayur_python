{
 "cells": [
  {
   "cell_type": "code",
   "execution_count": null,
   "id": "ae3a85d2-63fb-4780-a084-94762482814c",
   "metadata": {},
   "outputs": [],
   "source": [
    "\n",
    "# Q3) input=['hyd','bengaluru','pune','mumbai']\n",
    "#     output=['Hyd','Bengaluru','Pune','Mumbai']\n",
    "\n",
    "# Q4) input=['hyd','bengaluru','pune','mumbai']\n",
    "#     output=['HYD','BENGALURU','PUNE','MUMBAI']\n",
    "\n",
    "# Q5) input=['hyd','ben#galuru','pune','mu#mbai']\n",
    "#     output=[ben#galuru',mu#mbai']\n",
    "\n",
    "# Q6) input=['hyd','ben#galuru','pune','mu#mbai']\n",
    "#     output=[hyd,pune]\n",
    "\n",
    "# Q7) input = 'hai how are you'\n",
    "#     output=['HAI','HOW','ARE','YOU']\n",
    "\n",
    "# Q8) input='virat.kohli@rcb.com;rohit.sharma@mi.com;ms.dhoni@csk.com'\n",
    "#     fname=['virat','rohit'.'ms']\n",
    "#     sname=['kohli','sharma','dhoni']\n",
    "#     cname=['rcb','mi','csk']\n",
    "\n",
    "# Q9) input='can canner can you can not canner with you but you can the canner'\n",
    "#     output=['can'-4,'canner'-3,'you'-3,'not'-1,'with'-1,'but'-1,'the'-1]\n",
    "\n",
    "# Q10) input = 'can canner can you can not canner with you but you can the canner'\n",
    "#      stopwords=['not','you','but','with']\n",
    "#      using stopwords remove those words from input\n",
    "#     output='can canner can can canner can canner'\n",
    "\n",
    "# Q11) take a string find the most repeated word from string\n",
    "\n",
    "# Q12) take a string find the longest length of the word from string\n",
    "\n",
    "# Q13) take a string find the lowest length of the word from string\n",
    "\n",
    "# Q14) you have some qns list is there\n",
    "#      also you have answers list also there\n",
    "#     qns=['who is PM of india',\n",
    "#       'what is the capital of india', who is ICT MENS captain]\n",
    "#    ans=['Modi','Delhi','Rohit']\n",
    "#    whenerver correct answer marks +10\n",
    "#    print you got total"
   ]
  },
  {
   "cell_type": "code",
   "execution_count": 20,
   "id": "abf2d5d8-ee11-480e-ac75-7d51b4bf1aa6",
   "metadata": {},
   "outputs": [
    {
     "name": "stdout",
     "output_type": "stream",
     "text": [
      "['Hyd', 'Bengaluru', 'Pune', 'Mumbai', 'Nagpur']\n"
     ]
    }
   ],
   "source": [
    "# Q3) input=['hyd','bengaluru','pune','mumbai']\n",
    "#     output=['Hyd','Bengaluru','Pune','Mumbai']\n",
    "\n",
    "list1=['hyd','bengaluru','pune','mumbai','nagpur']\n",
    "l1=[]\n",
    "for i in list1:\n",
    "    l1.append(i.capitalize())\n",
    "print(l1)"
   ]
  },
  {
   "cell_type": "code",
   "execution_count": 22,
   "id": "dcd690ae-5284-43c5-b401-72a7ce8a2276",
   "metadata": {},
   "outputs": [
    {
     "name": "stdout",
     "output_type": "stream",
     "text": [
      "['HYD', 'BENGALURU', 'PUNE', 'MUMBAI', 'NAGPUR']\n"
     ]
    }
   ],
   "source": [
    "# Q4) input=['hyd','bengaluru','pune','mumbai']\n",
    "#     output=['HYD','BENGALURU','PUNE','MUMBAI']\n",
    "\n",
    "list1=['hyd','bengaluru','pune','mumbai','nagpur']\n",
    "l1=[]\n",
    "for i in list1:\n",
    "    l1.append(i.upper())\n",
    "print(l1)"
   ]
  },
  {
   "cell_type": "code",
   "execution_count": 43,
   "id": "90fc854b-f4f5-4c4f-8931-6c77c76f5b52",
   "metadata": {},
   "outputs": [
    {
     "name": "stdout",
     "output_type": "stream",
     "text": [
      "['ben#galuru', 'mu#mbai']\n"
     ]
    }
   ],
   "source": [
    "# Q5) input=['hyd','ben#galuru','pune','mu#mbai']\n",
    "#     output=[ben#galuru',mu#mbai']\n",
    "\n",
    "list1=['hyd','ben#galuru','pune','mu#mbai']\n",
    "l1=[]\n",
    "for i in list1:\n",
    "    # print(i)\n",
    "    if '#' in i:\n",
    "        l1.append(i)\n",
    "print(l1)"
   ]
  },
  {
   "cell_type": "code",
   "execution_count": 44,
   "id": "c1c8853a-67af-4a32-b029-570aacf330de",
   "metadata": {},
   "outputs": [
    {
     "name": "stdout",
     "output_type": "stream",
     "text": [
      "['hyd', 'pune']\n"
     ]
    }
   ],
   "source": [
    "# Q6) input=['hyd','ben#galuru','pune','mu#mbai']\n",
    "#     output=[hyd,pune]\n",
    "\n",
    "list1=['hyd','ben#galuru','pune','mu#mbai']\n",
    "l1=[]\n",
    "for i in list1:\n",
    "    # print(i)\n",
    "    if '#' not in i:\n",
    "        l1.append(i)\n",
    "print(l1)"
   ]
  },
  {
   "cell_type": "code",
   "execution_count": 1,
   "id": "2aefae58-5bcd-4e0f-86d8-79f78507ac26",
   "metadata": {},
   "outputs": [
    {
     "data": {
      "text/plain": [
       "['HOW', 'HOW', 'ARE', 'YOU']"
      ]
     },
     "execution_count": 1,
     "metadata": {},
     "output_type": "execute_result"
    }
   ],
   "source": [
    "#Q7) input = 'hai how are you'\n",
    "#     output=['HAI','HOW','ARE','YOU']\n",
    "\n",
    "list1='how how are you'\n",
    "l1=[]\n",
    "l = list1.split()\n",
    "for i in l:\n",
    "    l1.append(i.upper())\n",
    "l1\n"
   ]
  },
  {
   "cell_type": "code",
   "execution_count": null,
   "id": "8d4c0ce1-4294-4c87-ad71-349b8cd6b6cc",
   "metadata": {},
   "outputs": [],
   "source": []
  },
  {
   "cell_type": "code",
   "execution_count": null,
   "id": "5d3fa886-2459-4ab5-a3b0-76108d88d69a",
   "metadata": {},
   "outputs": [],
   "source": []
  },
  {
   "cell_type": "code",
   "execution_count": 243,
   "id": "5455a7f2-8237-4a0c-9550-319bc32ba443",
   "metadata": {},
   "outputs": [
    {
     "name": "stdout",
     "output_type": "stream",
     "text": [
      "virat\n",
      "kohli\n",
      "rcb\n",
      "firstname: ['virat', 'rohit', 'ms']\n",
      "lastname: ['kohli', 'sharma', 'dhoni']\n",
      "company: ['rcb', 'mi', 'csk']\n"
     ]
    }
   ],
   "source": [
    "# Q8) input='virat.kohli@rcb.com;rohit.sharma@mi.com;ms.dhoni@csk.com'\n",
    "#     fname=['virat','rohit'.'ms']\n",
    "#     sname=['kohli','sharma','dhoni']\n",
    "#     cname=['rcb','mi','csk']\n",
    "\n",
    "str3='virat.kohli@rcb.com;rohit.sharma@mi.com;ms.dhoni@csk.com'\n",
    "str4=str3.split(';')\n",
    "# print(str4)\n",
    "print(str4[0].split('.')[0].split('.')[0])\n",
    "print(str4[0].split('@')[0].split('.')[1])\n",
    "print(str4[0].split('@')[1].split('.')[0])\n",
    "    \n",
    "\n",
    "fn=[]\n",
    "ln=[]\n",
    "cn=[]\n",
    "for i in range(0,1):\n",
    "    fn.append(str4[0].split('.')[0].split('.')[0])\n",
    "    ln.append((str4[0].split('@')[0].split('.')[1]))\n",
    "    cn.append(str4[0].split('@')[1].split('.')[0])\n",
    "for i in range(1,2):\n",
    "    fn.append(str4[i].split('.')[0].split('.')[0])\n",
    "    ln.append((str4[i].split('@')[0].split('.')[1]))\n",
    "    cn.append(str4[i].split('@')[1].split('.')[0])\n",
    "for i in range(2,3):\n",
    "    fn.append(str4[i].split('.')[0].split('.')[0])\n",
    "    ln.append((str4[i].split('@')[0].split('.')[1]))\n",
    "    cn.append(str4[i].split('@')[1].split('.')[0])\n",
    "    \n",
    "print('firstname:',fn)\n",
    "print('lastname:',ln)\n",
    "print('company:',cn)"
   ]
  },
  {
   "cell_type": "code",
   "execution_count": 42,
   "id": "d576c13f-4cf5-42bb-8ced-1778a24b792b",
   "metadata": {},
   "outputs": [
    {
     "name": "stdout",
     "output_type": "stream",
     "text": [
      "can 4\n",
      "Canner 3\n",
      "you 4\n",
      "not 3\n",
      "with 1\n",
      "but 1\n",
      "the 1\n"
     ]
    }
   ],
   "source": [
    " #Q9) input='can canner can you can not canner with you but you can the canner'\n",
    "#     output=['can'-4,'canner'-3,'you'-3,'not'-1,'with'-1,'but'-1,'the'-1]\n",
    "\n",
    "str1='can canner can you can not canner with you but you can the canner'\n",
    "str2 =[]\n",
    "st = str1.split()\n",
    "c=0\n",
    "for i in st:\n",
    "    l1 = st.count('can')\n",
    "    l2 = st.count('canner')\n",
    "    l3 = st.count('can')\n",
    "    l4 = st.count('you')\n",
    "    l5 = st.count('not')\n",
    "    l6 = st.count('with')\n",
    "    l7 = st.count('the')\n",
    "    \n",
    "print(f'can',l1)\n",
    "print(F'Canner',l2)\n",
    "print(f'you',l3)\n",
    "print(f'not',l4)\n",
    "print(f'with',l5)\n",
    "print(f'but',l6)\n",
    "print(f'the',l7)\n"
   ]
  },
  {
   "cell_type": "markdown",
   "id": "b0cefb46-d42a-4d09-bdef-e9436c872c64",
   "metadata": {},
   "source": [
    "**word frequency**"
   ]
  },
  {
   "cell_type": "code",
   "execution_count": 18,
   "id": "f8e65156-dc84-4003-bfbb-eace440346b4",
   "metadata": {},
   "outputs": [
    {
     "name": "stdout",
     "output_type": "stream",
     "text": [
      "can : 4\n",
      "canner : 3\n",
      "you : 3\n",
      "not : 1\n",
      "with : 1\n",
      "but : 1\n",
      "the : 1\n"
     ]
    },
    {
     "data": {
      "text/plain": [
       "['can', 'canner', 'you', 'not', 'with', 'but', 'the']"
      ]
     },
     "execution_count": 18,
     "metadata": {},
     "output_type": "execute_result"
    }
   ],
   "source": [
    "text1='can canner can you can not canner with you but you can the canner'\n",
    "str1=text1.split()\n",
    "ch = []\n",
    "\n",
    "for i in str1:\n",
    "    # print(i)\n",
    "    if i not in ch:\n",
    "        count =0\n",
    "        # print(i)\n",
    "        # print('============')\n",
    "        for j in str1:\n",
    "            # print(i)\n",
    "            if j == i:\n",
    "                \n",
    "                count = count + 1\n",
    "        print(f'{i} : {count}')\n",
    "        ch.append(f'{i}')\n",
    "\n",
    "ch"
   ]
  },
  {
   "cell_type": "code",
   "execution_count": 24,
   "id": "334181f0-c72b-4661-b56b-4a0675502599",
   "metadata": {},
   "outputs": [
    {
     "data": {
      "text/plain": [
       "['can:4', 'canner:3', 'you:3', 'not:1', 'with:1', 'but:1', 'the:1']"
      ]
     },
     "execution_count": 24,
     "metadata": {},
     "output_type": "execute_result"
    }
   ],
   "source": [
    "# Q9\n",
    "text1='can canner can you can not canner with you but you can the canner'\n",
    "l=text1.split()\n",
    "l1 = []\n",
    "counter =[]\n",
    "for i in l:\n",
    "    if i not in l1:\n",
    "        counter.append(f'{i}:{l.count(i)}')\n",
    "        l1.append(i)\n",
    "counter"
   ]
  },
  {
   "cell_type": "code",
   "execution_count": 20,
   "id": "d61cb1b5-37c1-46d1-a21f-826c952f4937",
   "metadata": {},
   "outputs": [
    {
     "name": "stdout",
     "output_type": "stream",
     "text": [
      "['can', 'canner', 'can', 'can', 'canner', 'can', 'the', 'canner']\n"
     ]
    },
    {
     "data": {
      "text/plain": [
       "'can canner can can canner can the canner'"
      ]
     },
     "execution_count": 20,
     "metadata": {},
     "output_type": "execute_result"
    }
   ],
   "source": [
    " # Q10) input = 'can canner can you can not canner with you but you can the canner'\n",
    "#      stopwords=['not','you','but','with']\n",
    "#      using stopwords remove those words from input\n",
    "#     output='can canner can can canner can canner'\n",
    "\n",
    "str1 = 'can canner can you can not canner with you but you can the canner'\n",
    "out =['not','you','but','with']\n",
    "l1 = []\n",
    "l = str1.split()\n",
    "for i in l:\n",
    "    if i not in out:\n",
    "        l1.append(i)\n",
    "print(l1)\n",
    "\" \".join(l1)"
   ]
  },
  {
   "cell_type": "code",
   "execution_count": null,
   "id": "51aad626-8649-4bd2-b512-7e86ce71c387",
   "metadata": {},
   "outputs": [],
   "source": []
  },
  {
   "cell_type": "code",
   "execution_count": 350,
   "id": "f01651a2-24e0-484d-809a-4a2fd035138b",
   "metadata": {},
   "outputs": [
    {
     "name": "stdout",
     "output_type": "stream",
     "text": [
      "max repetating char is \"can\":4\n"
     ]
    }
   ],
   "source": [
    "#Q11) take a string find the most repeated word from string\n",
    "\n",
    "text1='can canner can you can not canner with you but you can the canner'\n",
    "str1=text1.split()\n",
    "ch = []\n",
    "max_char=\"\"\n",
    "max_count=0\n",
    "for i in str1:\n",
    "    if i not in ch:\n",
    "        count =0\n",
    "        for j in str1:\n",
    "            if j == i:\n",
    "                count = count + 1\n",
    "        if count>max_count:\n",
    "            max_count = count\n",
    "            max_char = i\n",
    "        ch.append(i)\n",
    "        \n",
    "print(f'max repetating char is '{max_char}:{max_count}')\n"
   ]
  },
  {
   "cell_type": "code",
   "execution_count": 29,
   "id": "f7984385-6d67-45f7-9d00-6f5fdba4c6bf",
   "metadata": {},
   "outputs": [
    {
     "name": "stdout",
     "output_type": "stream",
     "text": [
      "['4', '3', '3', '1', '1', '1', '1']\n",
      "['can', 'canner', 'you', 'not', 'with', 'but', 'the']\n"
     ]
    }
   ],
   "source": [
    "# Q10\n",
    "text1='can canner can you can not canner with you but you can the canner'\n",
    "l=text1.split()\n",
    "l1 = []\n",
    "counter =[]\n",
    "can =[]\n",
    "for i in l:\n",
    "    if i not in l1:\n",
    "        counter.append(f'{l.count(i)}')\n",
    "        can.append(i)\n",
    "        l1.append(i)\n",
    "print(counter)\n",
    "print(can)"
   ]
  },
  {
   "cell_type": "code",
   "execution_count": 71,
   "id": "0ac6f221-5032-425a-9ecc-e8b3a2dfc6b3",
   "metadata": {},
   "outputs": [
    {
     "name": "stdout",
     "output_type": "stream",
     "text": [
      "question\n"
     ]
    }
   ],
   "source": [
    "#  Q12) take a string find the longest length of the word from string\n",
    "str1='this is question number twelve'\n",
    "lword = ''\n",
    "for i in str1.split():\n",
    "    # print(len(i))\n",
    "    if len(i)> len(lword):\n",
    "        lword = i\n",
    "print(f'{lword}')\n",
    "    "
   ]
  },
  {
   "cell_type": "code",
   "execution_count": 36,
   "id": "fd6f2fb9-2979-4c89-92b2-0061355bdc08",
   "metadata": {},
   "outputs": [
    {
     "name": "stdout",
     "output_type": "stream",
     "text": [
      "a\n"
     ]
    }
   ],
   "source": [
    "#Q13) take a string find the lowest length of the word from string\n",
    "str1='with you but you a can the alphamale'\n",
    "lowest = None\n",
    "for i in str1.split():\n",
    "    # print(len(i))\n",
    "    if lowest is None or len(i) < len(lowest):\n",
    "        lowest = i\n",
    "print(f'{lowest}')"
   ]
  },
  {
   "cell_type": "code",
   "execution_count": null,
   "id": "d890912a-1f46-4425-bada-21585cd4b313",
   "metadata": {},
   "outputs": [],
   "source": []
  },
  {
   "cell_type": "code",
   "execution_count": 55,
   "id": "5e9761cb-e92b-465e-845a-43784107cc00",
   "metadata": {},
   "outputs": [
    {
     "name": "stdout",
     "output_type": "stream",
     "text": [
      "Modi\n",
      "Delhi\n",
      "Rohit\n",
      "30\n"
     ]
    }
   ],
   "source": [
    "# Q14) you have some qns list is there\n",
    "#      also you have answers list also there\n",
    "#     qns=['who is PM of india',\n",
    "#       'what is the capital of india', who is ICT MENS captain]\n",
    "#    ans=['Modi','Delhi','Rohit']\n",
    "#    whenerver correct answer marks +10\n",
    "#    print you got total\n",
    "\n",
    "qns=['who is PM of india','what is the capital of india', 'who is ICT MENS captain']\n",
    "ans=['Modi','Delhi','Rohit']\n",
    "marks=0\n",
    "user = ['Modi','Delhi','Rohit']\n",
    "\n",
    "for i in range(len(qns)):\n",
    "    # user = input(f'{qns[i]}')\n",
    "    print(user[i])\n",
    "    if user[i]==ans[i]:\n",
    "        marks = marks+10\n",
    "print(marks)"
   ]
  },
  {
   "cell_type": "code",
   "execution_count": 1,
   "id": "2bf00cd4-f6af-4899-a2b9-f1cc4c1ddc1b",
   "metadata": {},
   "outputs": [
    {
     "name": "stdin",
     "output_type": "stream",
     "text": [
      "who is PM of india modi\n",
      "what is the capital of india delhi\n",
      "who is ICT MENS captain rohit\n"
     ]
    },
    {
     "name": "stdout",
     "output_type": "stream",
     "text": [
      "30\n"
     ]
    }
   ],
   "source": [
    "# Q14) you have some qns list is there\n",
    "#      also you have answers list also there\n",
    "#     qns=['who is PM of india',\n",
    "#       'what is the capital of india', who is ICT MENS captain]\n",
    "#    ans=['Modi','Delhi','Rohit']\n",
    "#    whenerver correct answer marks +10\n",
    "#    print you got total\n",
    "\n",
    "qns=['who is PM of india','what is the capital of india', 'who is ICT MENS captain']\n",
    "ans=['Modi','Delhi','Rohit']\n",
    "marks=0\n",
    "# user = ['Modi','Delhi','rohit']\n",
    "for i in range(len(qns)):\n",
    "    user = input(f'{qns[i]}')\n",
    "    l = user.split()\n",
    "    if user.upper()==ans[i].upper():\n",
    "        marks = marks+10\n",
    "print(marks)\n"
   ]
  },
  {
   "cell_type": "code",
   "execution_count": null,
   "id": "aeaf3606-311b-410e-b48f-dcea76602bf9",
   "metadata": {},
   "outputs": [],
   "source": []
  }
 ],
 "metadata": {
  "kernelspec": {
   "display_name": "Python 3 (ipykernel)",
   "language": "python",
   "name": "python3"
  },
  "language_info": {
   "codemirror_mode": {
    "name": "ipython",
    "version": 3
   },
   "file_extension": ".py",
   "mimetype": "text/x-python",
   "name": "python",
   "nbconvert_exporter": "python",
   "pygments_lexer": "ipython3",
   "version": "3.12.7"
  }
 },
 "nbformat": 4,
 "nbformat_minor": 5
}
