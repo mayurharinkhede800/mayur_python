{
 "cells": [
  {
   "cell_type": "code",
   "execution_count": 58,
   "id": "3193a74f-10a5-43dd-9b45-8eeefaa45efb",
   "metadata": {},
   "outputs": [
    {
     "name": "stdin",
     "output_type": "stream",
     "text": [
      "Enter a number:  11\n"
     ]
    },
    {
     "name": "stdout",
     "output_type": "stream",
     "text": [
      "11 is a Prime Number\n"
     ]
    }
   ],
   "source": [
    "#Q1) Write a Python program to check if a given number is prime or not.\n",
    "num = int(input(\"Enter a number: \"))\n",
    "if num == 1:\n",
    "    print(f\"{num} is not Prime Number\")\n",
    "elif num > 1:\n",
    "    for i in range(2, num):\n",
    "        if (num % i) == 0:\n",
    "            print(f\"{num} is not Prime Number\")\n",
    "            break\n",
    "    else:\n",
    "        print(f\"{num} is a Prime Number\")"
   ]
  },
  {
   "cell_type": "code",
   "execution_count": 69,
   "id": "21527dc5-4183-4a5e-aab3-80a97233fbe7",
   "metadata": {},
   "outputs": [
    {
     "name": "stdin",
     "output_type": "stream",
     "text": [
      "How many terms?  5\n"
     ]
    },
    {
     "name": "stdout",
     "output_type": "stream",
     "text": [
      "0\n",
      "1\n",
      "1\n",
      "2\n",
      "3\n",
      "5\n"
     ]
    }
   ],
   "source": [
    "# Q2)Write a Python program to generate n Fibonacci series values.\n",
    "n = int(input(\"How many terms? \"))\n",
    "# first two terms\n",
    "n1, n2 = 0, 1\n",
    "count = 0\n",
    "while count <= n:\n",
    "    print(n1)\n",
    "    n3 = n1 + n2\n",
    "    # update values\n",
    "    n1 = n2\n",
    "    n2 = n3\n",
    "    count += 1"
   ]
  },
  {
   "cell_type": "code",
   "execution_count": 160,
   "id": "c3077d1c-67f9-46cf-abe6-67c39102a02d",
   "metadata": {},
   "outputs": [
    {
     "name": "stdout",
     "output_type": "stream",
     "text": [
      "Output: pyTHoN\n"
     ]
    }
   ],
   "source": [
    "# Q3)Write a Python program to convert characters at prime index to uppercase. For example, given input: python, output: pyTHoN.\n",
    "input = \"python\"\n",
    "output= \"\"\n",
    "for i in range(len(input)):\n",
    "    if i < 2:\n",
    "        isp = False\n",
    "    else:\n",
    "        isp = True\n",
    "        for j in range(2, int(i ** 0.5) + 1):\n",
    "            if i % j == 0:\n",
    "                isp = False\n",
    "                break\n",
    "    if isp:\n",
    "        output += input[i].upper()\n",
    "    else:\n",
    "        output += input[i]\n",
    "print(\"Output:\", output)"
   ]
  },
  {
   "cell_type": "code",
   "execution_count": 104,
   "id": "c7ad599a-362a-4ace-9529-0f74e7db8849",
   "metadata": {},
   "outputs": [
    {
     "name": "stdin",
     "output_type": "stream",
     "text": [
      " 121\n"
     ]
    },
    {
     "name": "stdout",
     "output_type": "stream",
     "text": [
      "121 number is a palindrome\n"
     ]
    }
   ],
   "source": [
    "# Q4)Write a Python program to check if a number is a palindrome without converting it to a string (without using slicing).\n",
    "n = eval(input())\n",
    "o=n\n",
    "re=0\n",
    "while n > 0:\n",
    "        d = n % 10\n",
    "        re = re * 10 + d\n",
    "        n=n// 10\n",
    "if o == re:\n",
    "    print(f\"{re} number is a palindrome\")\n",
    "else:\n",
    "    print(f\"{re} number is not a palindrome\")"
   ]
  },
  {
   "cell_type": "code",
   "execution_count": null,
   "id": "c3817e80-257d-484a-a888-bab9c05d97da",
   "metadata": {},
   "outputs": [],
   "source": []
  },
  {
   "cell_type": "code",
   "execution_count": 109,
   "id": "e9b4ade4-63c6-45ac-97a1-b426a7b626b9",
   "metadata": {},
   "outputs": [
    {
     "name": "stdout",
     "output_type": "stream",
     "text": [
      "length of string is :5\n"
     ]
    }
   ],
   "source": [
    "# Q5)Write a Python program to find the length of a list or string without using the len() function.\n",
    "str1='this is question number 5'\n",
    "l = str1.split()\n",
    "c=0\n",
    "for i in l:\n",
    "    c = c + 1\n",
    "print(f'length of string is :{c}')"
   ]
  },
  {
   "cell_type": "code",
   "execution_count": 125,
   "id": "a3f7ec4a-4b0a-4547-ace6-235541c2afd1",
   "metadata": {},
   "outputs": [
    {
     "name": "stdin",
     "output_type": "stream",
     "text": [
      "enter the table number which you want: 5\n"
     ]
    },
    {
     "name": "stdout",
     "output_type": "stream",
     "text": [
      "5 X 1 = 5\n",
      "5 X 2 = 10\n",
      "5 X 3 = 15\n",
      "5 X 4 = 20\n",
      "5 X 5 = 25\n",
      "5 X 6 = 30\n",
      "5 X 7 = 35\n",
      "5 X 8 = 40\n",
      "5 X 9 = 45\n",
      "5 X 10 = 50\n"
     ]
    }
   ],
   "source": [
    "# Q6)Write a Python program that asks the user to enter a number and prints its multiplication table using a while loop.\n",
    "n = eval(input('enter the table number which you want:'))\n",
    "i = 1\n",
    "while i <= 10 :\n",
    "    print(f'{n} X {i} = {i*n}')\n",
    "    i = i +1"
   ]
  },
  {
   "cell_type": "code",
   "execution_count": 122,
   "id": "a3248a90-55e7-4042-ab91-555eb6f6983c",
   "metadata": {},
   "outputs": [
    {
     "name": "stdout",
     "output_type": "stream",
     "text": [
      "Sum of the list: 15\n"
     ]
    }
   ],
   "source": [
    "# Q7)Write a Python program to find the sum of a given list using a lambda function.\n",
    "num = [1, 2, 3, 4, 5]\n",
    "summ= lambda lst: sum([x for x in lst])\n",
    "summ2 = summ(num)\n",
    "print(\"Sum of the list:\", summ2)"
   ]
  },
  {
   "cell_type": "code",
   "execution_count": 128,
   "id": "bd04004e-d753-4cae-a97c-17c37c990f1b",
   "metadata": {},
   "outputs": [
    {
     "name": "stdin",
     "output_type": "stream",
     "text": [
      " 2100\n"
     ]
    },
    {
     "name": "stdout",
     "output_type": "stream",
     "text": [
      "2100 is not leap year\n"
     ]
    }
   ],
   "source": [
    "# Q8)Write a Python program that asks the user to enter a year and determines whether it is a leap year or not.\n",
    "year = eval(input())\n",
    "if year % 4 == 0 and year % 100 != 0 :\n",
    "    print(f'{year} is leap year')\n",
    "elif year % 400 ==0 and year % 100 == 0:\n",
    "    print(f'{year} is leap year')\n",
    "else:\n",
    "    print(f'{year} is not leap year')"
   ]
  },
  {
   "cell_type": "code",
   "execution_count": 137,
   "id": "501bbbfe-58c5-484f-9718-79bf5448e7b7",
   "metadata": {},
   "outputs": [
    {
     "name": "stdout",
     "output_type": "stream",
     "text": [
      "['10 comes : 1 times', '20 comes : 1 times', 'apple comes : 2 times', '50 comes : 2 times', '30 comes : 3 times', 'banana comes : 1 times', '60 comes : 1 times', 'rose comes : 1 times']\n"
     ]
    }
   ],
   "source": [
    "# Q9)Write a Python program to count the frequency of each element in a list.\n",
    "l=[10,20,'apple',50,30,'banana',30,'apple',50,60,30,'rose']\n",
    "l1 = []\n",
    "c =[]\n",
    "for i in l:\n",
    "    if i not in l1:\n",
    "        c.append(f'{i} comes : {l.count(i)} times')\n",
    "        l1.append(i)\n",
    "print(c)"
   ]
  },
  {
   "cell_type": "code",
   "execution_count": 151,
   "id": "b9ea984e-da90-412e-ab14-033c79bcea82",
   "metadata": {},
   "outputs": [
    {
     "name": "stdout",
     "output_type": "stream",
     "text": [
      "The second largest number is: 4\n"
     ]
    }
   ],
   "source": [
    "# Q10)Write a Python program to find the second largest number in a list that contains duplicate values, without converting the list to a set. For\n",
    "# example, given the list [1, 2, 3, 4, 2, 3, 4, 1, 4, 5, 5, 4], the output should be 4.\n",
    "list1 = [1, 2, 3, 4, 2, 3, 4, 1, 4, 5, 5, 4]\n",
    "list1.sort(reverse=True)\n",
    "second_largest = None\n",
    "for num in list1:\n",
    "    if num != list1[0]:  \n",
    "        second_largest = num\n",
    "        break\n",
    "print(\"The second largest number is:\", second_largest)"
   ]
  },
  {
   "cell_type": "code",
   "execution_count": null,
   "id": "5cb2d1f2-73df-4514-9889-b44a352f26e5",
   "metadata": {},
   "outputs": [],
   "source": []
  },
  {
   "cell_type": "code",
   "execution_count": null,
   "id": "1d9d8aaa-cd1d-4846-9aeb-dda3a43cc89e",
   "metadata": {},
   "outputs": [],
   "source": []
  }
 ],
 "metadata": {
  "kernelspec": {
   "display_name": "Python 3 (ipykernel)",
   "language": "python",
   "name": "python3"
  },
  "language_info": {
   "codemirror_mode": {
    "name": "ipython",
    "version": 3
   },
   "file_extension": ".py",
   "mimetype": "text/x-python",
   "name": "python",
   "nbconvert_exporter": "python",
   "pygments_lexer": "ipython3",
   "version": "3.12.7"
  }
 },
 "nbformat": 4,
 "nbformat_minor": 5
}
