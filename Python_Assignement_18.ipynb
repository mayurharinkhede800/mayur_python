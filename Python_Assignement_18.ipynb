{
 "cells": [
  {
   "cell_type": "markdown",
   "id": "549471bc-c48a-4f9a-9b2d-24f190973459",
   "metadata": {},
   "source": [
    "### Write a program that asks the user to enter a list of integers. Perform the following tasks"
   ]
  },
  {
   "cell_type": "code",
   "execution_count": 31,
   "id": "5585950f-5096-48e2-bc98-280a2e287e08",
   "metadata": {},
   "outputs": [
    {
     "name": "stdin",
     "output_type": "stream",
     "text": [
      " 5 6 3 4 8 5 6 5 4 9\n"
     ]
    },
    {
     "data": {
      "text/plain": [
       "10"
      ]
     },
     "execution_count": 31,
     "metadata": {},
     "output_type": "execute_result"
    }
   ],
   "source": [
    "# (a) Print the total number of items in the list.\n",
    "list1=input()\n",
    "l=list1.split()\n",
    "len(l)"
   ]
  },
  {
   "cell_type": "code",
   "execution_count": 32,
   "id": "287e2e22-1676-454d-8568-14b920c370a0",
   "metadata": {},
   "outputs": [
    {
     "name": "stdout",
     "output_type": "stream",
     "text": [
      "9\n"
     ]
    }
   ],
   "source": [
    "# (b) Print the last item in the list.\n",
    "print(l[len(l)-1])"
   ]
  },
  {
   "cell_type": "code",
   "execution_count": 33,
   "id": "15437394-d884-4da0-9905-91d632459bd1",
   "metadata": {},
   "outputs": [
    {
     "data": {
      "text/plain": [
       "['9', '4', '5', '6', '5', '8', '4', '3', '6', '5']"
      ]
     },
     "execution_count": 33,
     "metadata": {},
     "output_type": "execute_result"
    }
   ],
   "source": [
    "# (c) Print the list in reverse order.\n",
    "l[::-1]"
   ]
  },
  {
   "cell_type": "code",
   "execution_count": 34,
   "id": "16bed4bb-8439-490d-84d4-c3227cd37de4",
   "metadata": {},
   "outputs": [
    {
     "name": "stdout",
     "output_type": "stream",
     "text": [
      "Yes\n"
     ]
    }
   ],
   "source": [
    "# (d) Print &quot;Yes&quot; if the list contains a 5 and &quot;No&quot; otherwise.\n",
    "if '5' in l:\n",
    "    print('Yes')\n",
    "else:\n",
    "    print('No')\n"
   ]
  },
  {
   "cell_type": "code",
   "execution_count": 35,
   "id": "e52dd2a8-49e4-4c4c-9bff-3499a7501b07",
   "metadata": {},
   "outputs": [
    {
     "name": "stdout",
     "output_type": "stream",
     "text": [
      "3\n"
     ]
    }
   ],
   "source": [
    "# (e) Print the number of fives in the list.\n",
    "count = 0\n",
    "for i in l:\n",
    "    if i == '5':\n",
    "        count += 1 \n",
    "print(count)"
   ]
  },
  {
   "cell_type": "code",
   "execution_count": 36,
   "id": "d1c11b46-366b-4791-8f78-86e01d4ffba8",
   "metadata": {},
   "outputs": [
    {
     "data": {
      "text/plain": [
       "['3', '4', '4', '5', '5', '6', '6', '8']"
      ]
     },
     "execution_count": 36,
     "metadata": {},
     "output_type": "execute_result"
    }
   ],
   "source": [
    "# Remove the first and last items from the list, sort the remaining items, and print the result.\n",
    "l.pop()\n",
    "l.pop(0)\n",
    "l.sort()\n",
    "l"
   ]
  },
  {
   "cell_type": "code",
   "execution_count": null,
   "id": "0050fcc1-e3f3-4708-9f66-6c33dd56f278",
   "metadata": {},
   "outputs": [],
   "source": []
  },
  {
   "cell_type": "code",
   "execution_count": 37,
   "id": "119025cc-6a9f-4ebf-a4d0-6156aede4c23",
   "metadata": {},
   "outputs": [
    {
     "name": "stdout",
     "output_type": "stream",
     "text": [
      "3\n",
      "4\n",
      "4\n"
     ]
    }
   ],
   "source": [
    "# (g) Print how many integers in the list are less than 5.\n",
    "for i in l:\n",
    "    if i < '5' :\n",
    "        print(i)"
   ]
  },
  {
   "cell_type": "markdown",
   "id": "c16c7bc1-e929-419c-a9a5-ac8481f3c8f3",
   "metadata": {},
   "source": [
    "### 2. Random Number List Analysis"
   ]
  },
  {
   "cell_type": "code",
   "execution_count": 22,
   "id": "6e2494c4-e304-4ad3-9b4e-84c7cb735ada",
   "metadata": {},
   "outputs": [
    {
     "name": "stdout",
     "output_type": "stream",
     "text": [
      "[42, 65, 43, 54, 17, 1, 98, 69, 19, 27, 55, 15, 13, 34, 63, 82, 46, 79, 49, 20]\n"
     ]
    }
   ],
   "source": [
    "# generates a list of 20 random numbers between 1 and 100.\n",
    "# (a) Print the list.\n",
    "import random\n",
    "list1=[random.randint(1,100) for i in range(20)]\n",
    "print(list1)"
   ]
  },
  {
   "cell_type": "code",
   "execution_count": 23,
   "id": "84911ebd-3d8b-43fe-bb0f-da6ec6dd7787",
   "metadata": {},
   "outputs": [
    {
     "name": "stdout",
     "output_type": "stream",
     "text": [
      "891 20\n",
      "44.55\n",
      "44.55\n"
     ]
    }
   ],
   "source": [
    "# (b) Print the average of the elements in the list.\n",
    "summ=0\n",
    "count=0\n",
    "########method 1############\n",
    "for i in list1:\n",
    "    summ=summ+i\n",
    "    count=count+1\n",
    "print(summ,count)\n",
    "avg=summ/count\n",
    "print(avg)\n",
    "########method2#########\n",
    "print(sum(list1)/20)"
   ]
  },
  {
   "cell_type": "code",
   "execution_count": 25,
   "id": "921916e7-5095-49fd-9b59-d5e9b9998d6d",
   "metadata": {},
   "outputs": [
    {
     "name": "stdout",
     "output_type": "stream",
     "text": [
      "Maxx Number : 98 \n",
      "Minn Number : 1\n"
     ]
    }
   ],
   "source": [
    "# (c) Print the largest and smallest values in the list.\n",
    "maxx=list1[0]\n",
    "minn=list1[0]\n",
    "for i in list1:\n",
    "    if i > maxx:\n",
    "        maxx=i\n",
    "    if i < minn:\n",
    "        minn=i\n",
    "print(f'Maxx Number : {maxx} \\nMinn Number : {minn}')"
   ]
  },
  {
   "cell_type": "code",
   "execution_count": 26,
   "id": "226e6bbc-c643-47fb-86a6-19bd9f26a12f",
   "metadata": {},
   "outputs": [
    {
     "name": "stdout",
     "output_type": "stream",
     "text": [
      "Second maxx : 98 \n",
      "Second minn : 13\n"
     ]
    }
   ],
   "source": [
    "# (d) Print the second largest and second smallest entries in the list.\n",
    "minn=float('inf')\n",
    "sminn=float('inf')\n",
    "maxx=float('-inf')\n",
    "smaxx=float('-inf')\n",
    "for i in list1:\n",
    "    if i > maxx:\n",
    "        smaxx=maxx\n",
    "        maxx=i\n",
    "    elif i > smaxx:\n",
    "        smaxx=maxx\n",
    "    if i < minn:\n",
    "        sminn=minn\n",
    "        minn=i\n",
    "    elif i < sminn and i != minn:\n",
    "        sminn=i\n",
    "print(f'Second maxx : {smaxx} \\nSecond minn : {sminn}')"
   ]
  },
  {
   "cell_type": "code",
   "execution_count": 28,
   "id": "60a33bff-ba49-4258-8ae4-e7c93af66504",
   "metadata": {},
   "outputs": [
    {
     "name": "stdout",
     "output_type": "stream",
     "text": [
      "Even Numbers : 42\n",
      "Even Numbers : 54\n",
      "Even Numbers : 98\n",
      "Even Numbers : 34\n",
      "Even Numbers : 82\n",
      "Even Numbers : 46\n",
      "Even Numbers : 20\n"
     ]
    }
   ],
   "source": [
    "# (e) Print how many even numbers are in the list.\n",
    "for i in list1:\n",
    "    if i % 2 ==0:\n",
    "        print(f'Even Numbers : {i}')"
   ]
  },
  {
   "cell_type": "markdown",
   "id": "a55fac98-5b35-4e18-92ae-ccc700be1943",
   "metadata": {},
   "source": [
    "### 3. Modify and Transform a Predefined List"
   ]
  },
  {
   "cell_type": "code",
   "execution_count": 60,
   "id": "7edd8c66-3fe3-470b-9758-cbbe6a2bcdc7",
   "metadata": {},
   "outputs": [
    {
     "data": {
      "text/plain": [
       "[8, 9, 10]"
      ]
     },
     "execution_count": 60,
     "metadata": {},
     "output_type": "execute_result"
    }
   ],
   "source": [
    "# Start with the list [8, 9, 10]. Perform the following tasks:\n",
    "list1=[8,9,10]\n",
    "list1"
   ]
  },
  {
   "cell_type": "code",
   "execution_count": 61,
   "id": "86cccf85-fd2d-4e1c-9124-99a258f29698",
   "metadata": {},
   "outputs": [
    {
     "data": {
      "text/plain": [
       "[8, 17, 9, 10]"
      ]
     },
     "execution_count": 61,
     "metadata": {},
     "output_type": "execute_result"
    }
   ],
   "source": [
    "# (a) Set the second entry (index 1) to 17.\n",
    "list1.insert(1,17)\n",
    "list1"
   ]
  },
  {
   "cell_type": "code",
   "execution_count": 62,
   "id": "a9492ffb-9b5d-414f-9490-11efa3b7341b",
   "metadata": {},
   "outputs": [
    {
     "data": {
      "text/plain": [
       "[8, 17, 9, 10, 4, 5, 6]"
      ]
     },
     "execution_count": 62,
     "metadata": {},
     "output_type": "execute_result"
    }
   ],
   "source": [
    "# (b) Add 4, 5, and 6 to the end of the list.\n",
    "list2=[4,5,6]\n",
    "\n",
    "list1.extend(list2)\n",
    "list1"
   ]
  },
  {
   "cell_type": "code",
   "execution_count": 63,
   "id": "8f7d9e51-80b1-486a-9f1c-7fd8aa506beb",
   "metadata": {},
   "outputs": [
    {
     "data": {
      "text/plain": [
       "[17, 9, 10, 4, 5, 6]"
      ]
     },
     "execution_count": 63,
     "metadata": {},
     "output_type": "execute_result"
    }
   ],
   "source": [
    "# # (c) Remove the first entry from the list.\n",
    "list1.remove(8)\n",
    "list1"
   ]
  },
  {
   "cell_type": "code",
   "execution_count": 64,
   "id": "9bd470cc-1960-4f0e-8248-5f3d04200317",
   "metadata": {},
   "outputs": [
    {
     "data": {
      "text/plain": [
       "[17, 9, 10, 4, 5, 6]"
      ]
     },
     "execution_count": 64,
     "metadata": {},
     "output_type": "execute_result"
    }
   ],
   "source": [
    "list1"
   ]
  },
  {
   "cell_type": "code",
   "execution_count": 65,
   "id": "2b4079ed-153f-43da-af23-045ef8568df3",
   "metadata": {},
   "outputs": [
    {
     "data": {
      "text/plain": [
       "[4, 5, 6, 9, 10, 17]"
      ]
     },
     "execution_count": 65,
     "metadata": {},
     "output_type": "execute_result"
    }
   ],
   "source": [
    "# (d) Sort the list.\n",
    "for i in range(len(list1)):\n",
    "    for j in range(len(list1)-i-1):\n",
    "        if list1[j]>list1[j+1]:\n",
    "            list1[j+1],list1[j]=list1[j],list1[j+1]\n",
    "list1"
   ]
  },
  {
   "cell_type": "code",
   "execution_count": 66,
   "id": "05cab292-19a9-4223-9ae7-5d2c7583e3a0",
   "metadata": {},
   "outputs": [
    {
     "data": {
      "text/plain": [
       "[4, 5, 6, 9, 10, 17, 4, 5, 6, 9, 10, 17]"
      ]
     },
     "execution_count": 66,
     "metadata": {},
     "output_type": "execute_result"
    }
   ],
   "source": [
    "# (e) Double the list.\n",
    "list2=list1*2\n",
    "list2"
   ]
  },
  {
   "cell_type": "code",
   "execution_count": 67,
   "id": "2e636a04-63d0-4f44-9ddb-1419a808c744",
   "metadata": {},
   "outputs": [
    {
     "data": {
      "text/plain": [
       "[4, 5, 6, 25, 9, 10, 17, 4, 5, 6, 9, 10, 17]"
      ]
     },
     "execution_count": 67,
     "metadata": {},
     "output_type": "execute_result"
    }
   ],
   "source": [
    "# (f) Insert 25 at index 3.\n",
    "list2.insert(3,25)\n",
    "list2"
   ]
  },
  {
   "cell_type": "code",
   "execution_count": null,
   "id": "f1de417d-00ce-4495-aa6a-15fce6386ead",
   "metadata": {},
   "outputs": [],
   "source": []
  }
 ],
 "metadata": {
  "kernelspec": {
   "display_name": "Python 3 (ipykernel)",
   "language": "python",
   "name": "python3"
  },
  "language_info": {
   "codemirror_mode": {
    "name": "ipython",
    "version": 3
   },
   "file_extension": ".py",
   "mimetype": "text/x-python",
   "name": "python",
   "nbconvert_exporter": "python",
   "pygments_lexer": "ipython3",
   "version": "3.12.7"
  }
 },
 "nbformat": 4,
 "nbformat_minor": 5
}
