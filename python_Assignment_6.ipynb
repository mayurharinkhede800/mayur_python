{
 "cells": [
  {
   "cell_type": "code",
   "execution_count": 5,
   "id": "659cc305-86d7-4e3b-9a9c-30e92ef61258",
   "metadata": {},
   "outputs": [
    {
     "name": "stdin",
     "output_type": "stream",
     "text": [
      "enter the length in centimeters 100\n"
     ]
    },
    {
     "name": "stdout",
     "output_type": "stream",
     "text": [
      "length into inches 39.37\n"
     ]
    }
   ],
   "source": [
    "'''Write a program that asks the user to enter a length in centimetres. If the user enters\n",
    "a negative length, the program should tell the user that the entry is invalid. Otherwise,\n",
    "the program should convert the length to inches and print out the result. There are\n",
    "2.54 centimetres in an inch.'''\n",
    "\n",
    "centimeters = eval(input(\"enter the length in centimeters\"))\n",
    "\n",
    "if centimeters < 0 :\n",
    "    print(\"invalid entry\")\n",
    "else:\n",
    "    inches = centimeters / 2.54\n",
    "    print(f\"length into inches {inches:.2f}\")"
   ]
  },
  {
   "cell_type": "code",
   "execution_count": 8,
   "id": "3f044eb8-f1d6-4d23-8359-c62c5b86f15d",
   "metadata": {},
   "outputs": [
    {
     "name": "stdin",
     "output_type": "stream",
     "text": [
      "enter the temperature: 96.4\n",
      "enter the unit c for celsius and f for ferheniet: c\n"
     ]
    },
    {
     "name": "stdout",
     "output_type": "stream",
     "text": [
      "celsius to fehrenheit is 231.12\n"
     ]
    }
   ],
   "source": [
    "'''Ask the user for a temperature. Then ask them what units, Celsius or Fahrenheit, the\n",
    "temperature is in. Your program should convert the temperature to the other unit. The\n",
    "conversions are F = 9 5 C +32 and C = 5 9 (F − 32).'''\n",
    "\n",
    "temperature = eval(input(\"enter the temperature:\"))\n",
    "unit = input(\"enter the unit c for celsius and f for ferheniet:\")\n",
    "\n",
    "if unit == 'c':\n",
    "    con_temp = (9/5) * (temperature + 32)\n",
    "    print(f\"celsius to fehrenheit is {con_temp}\")\n",
    "elif unit == 'f':\n",
    "    con_temp = (5/9) * (temperature -32)\n",
    "    print(f\"fehrenheit to celsius is {con_temp}\")\n",
    "else:\n",
    "    print(\"please enter valid unit\")"
   ]
  },
  {
   "cell_type": "code",
   "execution_count": 7,
   "id": "04a73d0d-0d00-4bf0-8a32-5c3c834bde35",
   "metadata": {},
   "outputs": [
    {
     "name": "stdin",
     "output_type": "stream",
     "text": [
      "enter the temperarure: 101\n"
     ]
    },
    {
     "name": "stdout",
     "output_type": "stream",
     "text": [
      "temperature is above the boiling point\n"
     ]
    }
   ],
   "source": [
    "'''Ask the user to enter a temperature in Celsius. The program should print a\n",
    "message based on the temperature:\n",
    "• If the temperature is less than -273.15, print that the temperature is invalid because it is\n",
    "below absolute zero.\n",
    "• If it is exactly -273.15, print that the temperature is absolute 0.\n",
    "• If the temperature is between -273.15 and 0, print that the temperature is below\n",
    "freezing. • If it is 0, print that the temperature is at the freezing point.\n",
    "• If it is between 0 and 100, print that the temperature is in the normal\n",
    "range. • If it is 100, print that the temperature is at the boiling point.\n",
    "• If it is above 100, print that the temperature is above the boiling point.'''\n",
    "\n",
    "\n",
    "temperature = eval(input(\"enter the temperarure:\"))\n",
    "\n",
    "if temperature < -273.15:\n",
    "    print('Temperature in invalid because it is below absolute zero')\n",
    "elif temperature == -273.15:\n",
    "    print('temperature is absolute 0')\n",
    "elif temperature > -273.15 and temperature < 0:\n",
    "    print('temperature is below freezing')\n",
    "elif temperature == 0:\n",
    "    print('temperature is at the freezing point')\n",
    "elif temperature > 0 and temperature < 100:\n",
    "    print('temperature is in the normal')\n",
    "elif temperature == 100:\n",
    "    print('temperature is at the boiling point')\n",
    "elif temperature > 100:\n",
    "    print('temperature is above the boiling point')\n",
    "else:\n",
    "    print('invalid')"
   ]
  },
  {
   "cell_type": "code",
   "execution_count": 23,
   "id": "d06bb893-d94c-4cdc-bad4-1366ed4c6913",
   "metadata": {},
   "outputs": [
    {
     "name": "stdin",
     "output_type": "stream",
     "text": [
      "how many credit you taken: 84\n"
     ]
    },
    {
     "name": "stdout",
     "output_type": "stream",
     "text": [
      "You are a Senior.\n"
     ]
    }
   ],
   "source": [
    "'''Write a program that asks the user how many credits they have taken. If they have taken 23 or\n",
    "less, print that the student is a freshman. If they have taken between 24 and 53, print that they\n",
    "are asophomore. The range for juniors is 54 to 83, and for seniors it is 84 and over.'''\n",
    "\n",
    "credits = eval(input(\"how many credit you taken:\"))\n",
    "if credits <= 23:\n",
    "    print(\"You are a Freshman.\")\n",
    "elif 24 <= credits <= 53:\n",
    "    print(\"You are asophomore.\")\n",
    "elif 54 <= credits <= 83:\n",
    "    print(\"You are a Junior.\")\n",
    "else:\n",
    "    print(\"You are a Senior.\")"
   ]
  },
  {
   "cell_type": "code",
   "execution_count": 37,
   "id": "1e709bb1-13ee-4747-8db8-9b5d4784fcfe",
   "metadata": {},
   "outputs": [
    {
     "name": "stdin",
     "output_type": "stream",
     "text": [
      "enter your choise number 8\n"
     ]
    },
    {
     "name": "stdout",
     "output_type": "stream",
     "text": [
      "3\n",
      "8\n",
      "you select wrong number\n"
     ]
    }
   ],
   "source": [
    "'''Generate a random number between 1 and 10. Ask the user to guess the number and print a\n",
    "message based on whether they get it right or not.'''\n",
    "\n",
    "import random \n",
    "random_num=random.randint(1,10)\n",
    "my_choice = eval(input(\"enter your choise number\"))\n",
    "print(random_num)\n",
    "print(my_choice)\n",
    "if random_num == my_choice:\n",
    "    print(\"you select right number\")\n",
    "else:\n",
    "    print(\"you select wrong number\")"
   ]
  },
  {
   "cell_type": "code",
   "execution_count": 48,
   "id": "eee4851a-c4bc-44c9-ae39-ba0de537c80d",
   "metadata": {},
   "outputs": [
    {
     "name": "stdin",
     "output_type": "stream",
     "text": [
      "how many items you buy 12\n"
     ]
    },
    {
     "name": "stdout",
     "output_type": "stream",
     "text": [
      "The total cost for 12 items is: $120\n"
     ]
    }
   ],
   "source": [
    "'''A store charges $12 per item if you buy less than 10 items. If you buy between 10\n",
    "and 99 items, the cost is $10 per item. If you buy 100 or more items, the cost is $7\n",
    "per item. Write a program that asks the user how many items they are buying and\n",
    "prints the total cost.'''\n",
    "\n",
    "items = eval(input(\"how many items you buy\"))\n",
    "\n",
    "if items < 10:\n",
    "    charges = 12\n",
    "elif items > 10 and items <100:\n",
    "    charges = 10\n",
    "else:\n",
    "    charges = 7\n",
    "\n",
    "total_cost = items * charges\n",
    "print(f\"The total cost for {items} items is: ${total_cost}\")"
   ]
  },
  {
   "cell_type": "code",
   "execution_count": 55,
   "id": "2e98ef0c-88ea-4ff3-82de-6ba3d2f6c5bb",
   "metadata": {},
   "outputs": [
    {
     "name": "stdin",
     "output_type": "stream",
     "text": [
      "Enter the first number:  45\n",
      "Enter the second number:  98\n"
     ]
    },
    {
     "name": "stdout",
     "output_type": "stream",
     "text": [
      "Close\n"
     ]
    }
   ],
   "source": [
    "'''\n",
    "Write a program that asks the user for two numbers and prints Close if the\n",
    "numbers are within .001of each other and Not close otherwise.\n",
    "'''\n",
    "num1 = float(input(\"Enter the first number: \"))\n",
    "num2 = float(input(\"Enter the second number: \"))\n",
    "\n",
    "# Check if the numbers are within 0.001 of each other\n",
    "if (num1 - num2) <= 0.001:\n",
    "    print(\"Close\")\n",
    "else:\n",
    "    print(\"Not close\")"
   ]
  },
  {
   "cell_type": "code",
   "execution_count": 57,
   "id": "3af60a6d-381b-4342-8b2b-464f76249be7",
   "metadata": {},
   "outputs": [
    {
     "name": "stdin",
     "output_type": "stream",
     "text": [
      "Enter the year  2023\n"
     ]
    },
    {
     "name": "stdout",
     "output_type": "stream",
     "text": [
      "2023 is not leap year\n"
     ]
    }
   ],
   "source": [
    "'''A year is a leap year if it is divisible by 4, except that years divisible by 100 are not leap years unless\n",
    "they are also divisible by 400. Write a program that asks the user for a year and prints out whether\n",
    "it is a leap year or not.'''\n",
    "\n",
    "year = eval(input(\"Enter the year \"))\n",
    "\n",
    "if (year % 4 ==0 and year % 100 !=0) or (year % 400 ==0):\n",
    "    print(f\"{year} is leap year\")\n",
    "else:\n",
    "    print(f\"{year} is not leap year\")"
   ]
  },
  {
   "cell_type": "code",
   "execution_count": 58,
   "id": "625fc62a-d064-4d94-b0bf-77ad9b09e743",
   "metadata": {},
   "outputs": [
    {
     "name": "stdin",
     "output_type": "stream",
     "text": [
      "Enter hour (1-12):  1\n",
      "am or pm? (Enter 'am' or 'pm'):  am\n",
      "How many hours ahead?  5\n"
     ]
    },
    {
     "name": "stdout",
     "output_type": "stream",
     "text": [
      "New hour: 6 am\n"
     ]
    }
   ],
   "source": [
    "'''\n",
    "Write a program that asks the user for an hour between 1 and 12, asks them to\n",
    "enter am or pm, and asks them how many hours into the future they want to go.\n",
    "Print out what the hour will be that many hours into the future, printing am or pm as\n",
    "appropriate. An example is shown below.\n",
    "Enter hour: 8\n",
    "am (1) or pm (2)? 1\n",
    "How many hours ahead? 5\n",
    "New hour: 1 pm\n",
    "'''\n",
    "hour = int(input(\"Enter hour (1-12): \"))\n",
    "period = input(\"am or pm? (Enter 'am' or 'pm'): \").strip().lower()\n",
    "hours_ahead = int(input(\"How many hours ahead? \"))\n",
    "if period == 'pm' and hour != 12:\n",
    "    hour += 12\n",
    "elif period == 'am' and hour == 12:\n",
    "    hour = 0 \n",
    "new_hour = (hour + hours_ahead) % 24\n",
    "if new_hour == 0:\n",
    "    new_hour_12 = 12\n",
    "    new_period = 'am'\n",
    "elif 1 <= new_hour and new_hour <= 11:\n",
    "    new_hour_12 = new_hour\n",
    "    new_period = 'am'\n",
    "elif new_hour == 12:\n",
    "    new_hour_12 = 12\n",
    "    new_period = 'pm'\n",
    "else:\n",
    "    new_hour_12 = new_hour - 12\n",
    "    new_period = 'pm'\n",
    "print(f\"New hour: {new_hour_12} {new_period}\")\n",
    "\n"
   ]
  },
  {
   "cell_type": "code",
   "execution_count": null,
   "id": "5a5d3a20-60b4-4abd-81fc-197d1d1171f5",
   "metadata": {},
   "outputs": [],
   "source": []
  }
 ],
 "metadata": {
  "kernelspec": {
   "display_name": "Python 3 (ipykernel)",
   "language": "python",
   "name": "python3"
  },
  "language_info": {
   "codemirror_mode": {
    "name": "ipython",
    "version": 3
   },
   "file_extension": ".py",
   "mimetype": "text/x-python",
   "name": "python",
   "nbconvert_exporter": "python",
   "pygments_lexer": "ipython3",
   "version": "3.12.7"
  }
 },
 "nbformat": 4,
 "nbformat_minor": 5
}
