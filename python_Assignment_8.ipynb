{
 "cells": [
  {
   "cell_type": "code",
   "execution_count": null,
   "id": "86c6b00e-4de7-4c62-bd60-2a7e42c839f6",
   "metadata": {},
   "outputs": [],
   "source": []
  },
  {
   "cell_type": "code",
   "execution_count": 15,
   "id": "4aad9adb-cc41-48c8-b604-7d745cf2a53d",
   "metadata": {},
   "outputs": [
    {
     "name": "stdout",
     "output_type": "stream",
     "text": [
      "average of three numbers 4.0\n"
     ]
    }
   ],
   "source": [
    "def average(n1,n2,n3):\n",
    "    return(n1 + n2 + n3)/3\n",
    "    \n",
    "average1 =average(5,2,5)\n",
    "print(f\"average of three numbers {average1}\")"
   ]
  },
  {
   "cell_type": "code",
   "execution_count": 4,
   "id": "574c3c95-1369-4c5f-b0ee-cfc040b133d9",
   "metadata": {},
   "outputs": [
    {
     "name": "stdout",
     "output_type": "stream",
     "text": [
      "my name is Pyhton im 10 years old and came from hyd\n"
     ]
    }
   ],
   "source": [
    "def python_name(name,age,city):\n",
    "    print(f'my name is {name} im {age} years old and came from {city}')\n",
    "python_name('Pyhton',10,'hyd')"
   ]
  },
  {
   "cell_type": "code",
   "execution_count": 5,
   "id": "5c45c909-602e-4b03-860e-36fb61a3ba4f",
   "metadata": {},
   "outputs": [
    {
     "name": "stdout",
     "output_type": "stream",
     "text": [
      "area of circle is 78.5\n"
     ]
    }
   ],
   "source": [
    "def area_circle(radius):\n",
    "    area = 3.14 * radius * radius\n",
    "    print(f\"area of circle is {area}\")\n",
    "area_circle(5)"
   ]
  },
  {
   "cell_type": "code",
   "execution_count": 6,
   "id": "33f2fb5e-1d49-4474-ac0f-15075dab8f0d",
   "metadata": {},
   "outputs": [
    {
     "name": "stdout",
     "output_type": "stream",
     "text": [
      "area of right angle triangle is 100.0\n"
     ]
    }
   ],
   "source": [
    "def area_right_angle(length,breadth):\n",
    "    area_rat = 0.5 * length * breadth \n",
    "    print(f\"area of right angle triangle is {area_rat}\")\n",
    "area_right_angle(10,20)"
   ]
  },
  {
   "cell_type": "code",
   "execution_count": 7,
   "id": "94fb2dd1-3c4a-4517-a58f-6804fb256d0d",
   "metadata": {},
   "outputs": [
    {
     "name": "stdout",
     "output_type": "stream",
     "text": [
      "total bill is 1100\n"
     ]
    }
   ],
   "source": [
    "def btamount(bill_amount,tip_amount):\n",
    "    total_bill = bill_amount + tip_amount\n",
    "    print(f\"total bill is {total_bill}\")\n",
    "btamount(1000,100)"
   ]
  },
  {
   "cell_type": "code",
   "execution_count": 8,
   "id": "f6b9cccd-37ee-4b8d-a4a6-b01f66875c2e",
   "metadata": {},
   "outputs": [
    {
     "name": "stdout",
     "output_type": "stream",
     "text": [
      "total bill is 1100.0\n"
     ]
    }
   ],
   "source": [
    "def btamount1(bill_amount,tip_per):\n",
    "    total_bill = bill_amount + bill_amount * tip_per / 100\n",
    "    print(f\"total bill is {total_bill}\")\n",
    "btamount1(1000,10)"
   ]
  },
  {
   "cell_type": "code",
   "execution_count": 9,
   "id": "95108ec4-02c1-457e-a5f4-d716422d8e20",
   "metadata": {},
   "outputs": [
    {
     "name": "stdout",
     "output_type": "stream",
     "text": [
      "area of rectangle is 375\n"
     ]
    }
   ],
   "source": [
    "def area_of_rect(length,breadth):\n",
    "    area_rect = length * breadth\n",
    "    print(f\"area of rectangle is {area_rect}\")\n",
    "area_of_rect(15,25)"
   ]
  },
  {
   "cell_type": "code",
   "execution_count": 11,
   "id": "1c2402c2-e11a-44fc-927b-d2150e76a17a",
   "metadata": {},
   "outputs": [
    {
     "name": "stdout",
     "output_type": "stream",
     "text": [
      "the volume of sphere is 200.96\n"
     ]
    }
   ],
   "source": [
    "def volume_sphere(radius):\n",
    "    volume_sphere = 3.14 * radius * radius * radius\n",
    "    print(f\"the volume of sphere is {volume_sphere}\")\n",
    "volume_sphere(4)"
   ]
  },
  {
   "cell_type": "code",
   "execution_count": 12,
   "id": "f49c3e00-b9a1-461a-8773-2a7458dfa815",
   "metadata": {},
   "outputs": [
    {
     "name": "stdout",
     "output_type": "stream",
     "text": [
      "10 in rupees is 865.40\n"
     ]
    }
   ],
   "source": [
    "def dollarToRupees(dollar):\n",
    "    indRupees = dollar * 86.54\n",
    "    print(f\"{dollar} in rupees is {indRupees:.2f}\")\n",
    "dollarToRupees(10)"
   ]
  },
  {
   "cell_type": "code",
   "execution_count": 14,
   "id": "fda4c0a9-b4d6-474c-8ec7-e66a83810d05",
   "metadata": {},
   "outputs": [
    {
     "name": "stdout",
     "output_type": "stream",
     "text": [
      "weight in posunds is:22.0\n"
     ]
    }
   ],
   "source": [
    "def weightToPound(weight):\n",
    "    pounds = weight * 2.2\n",
    "    print(f\"weight in posunds is:{pounds}\")\n",
    "weightToPound(10)"
   ]
  },
  {
   "cell_type": "code",
   "execution_count": null,
   "id": "b0ff1797-a0ad-4585-844e-a95de9ac9a2e",
   "metadata": {},
   "outputs": [],
   "source": []
  }
 ],
 "metadata": {
  "kernelspec": {
   "display_name": "Python 3 (ipykernel)",
   "language": "python",
   "name": "python3"
  },
  "language_info": {
   "codemirror_mode": {
    "name": "ipython",
    "version": 3
   },
   "file_extension": ".py",
   "mimetype": "text/x-python",
   "name": "python",
   "nbconvert_exporter": "python",
   "pygments_lexer": "ipython3",
   "version": "3.12.7"
  }
 },
 "nbformat": 4,
 "nbformat_minor": 5
}
