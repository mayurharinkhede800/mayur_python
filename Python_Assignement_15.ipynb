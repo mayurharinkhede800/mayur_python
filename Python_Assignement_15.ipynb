{
 "cells": [
  {
   "cell_type": "code",
   "execution_count": null,
   "id": "43a06698-3d30-4488-8ae3-d990db543c5e",
   "metadata": {},
   "outputs": [],
   "source": []
  },
  {
   "cell_type": "code",
   "execution_count": null,
   "id": "ac629e2e-70fa-401d-b557-edab8246bba3",
   "metadata": {},
   "outputs": [],
   "source": [
    "#dir('')"
   ]
  },
  {
   "cell_type": "code",
   "execution_count": null,
   "id": "6614505f-1eab-4f28-ba92-d7d914ed3811",
   "metadata": {},
   "outputs": [],
   "source": [
    "'isalnum',\n",
    "'isalpha',\n",
    "'isascii',\n",
    "'isdecimal',\n",
    "'isdigit',\n",
    "'isidentifier',\n",
    "'islower',\n",
    "'isnumeric',  \n",
    "'isprintable',\n",
    "'isspace',\n",
    "'istitle',\n",
    "'isupper',\n"
   ]
  },
  {
   "cell_type": "code",
   "execution_count": 11,
   "id": "fb01f4ba-d4dc-47f2-a3b5-74e397361bc4",
   "metadata": {},
   "outputs": [
    {
     "name": "stdout",
     "output_type": "stream",
     "text": [
      "True False\n"
     ]
    }
   ],
   "source": [
    "string1 = 'tring123isalphanumeric'\n",
    "string2 = 'is not alphanumeric' # contains space thats why false\n",
    "s1=string1.isalnum()\n",
    "s2=string2.isalnum()\n",
    "print(s1,s2)"
   ]
  },
  {
   "cell_type": "code",
   "execution_count": 13,
   "id": "ee6c07ea-30fa-4f48-a609-04a2743976a4",
   "metadata": {},
   "outputs": [
    {
     "data": {
      "text/plain": [
       "False"
      ]
     },
     "execution_count": 13,
     "metadata": {},
     "output_type": "execute_result"
    }
   ],
   "source": [
    "str1='thisisalpha'\n",
    "str2='thisis not aloha' #contain space thats why this is false\n",
    "str2.isalpha()"
   ]
  },
  {
   "cell_type": "code",
   "execution_count": 22,
   "id": "66190226-5644-4a3d-93fa-8c691d5d88d4",
   "metadata": {},
   "outputs": [
    {
     "name": "stdout",
     "output_type": "stream",
     "text": [
      "True\n",
      "False\n"
     ]
    }
   ],
   "source": [
    "str1='pythonis'\n",
    "str2='goodñ'      # non ascii character thats why false\n",
    "print(str1.isascii())\n",
    "print(str2.isascii())"
   ]
  },
  {
   "cell_type": "code",
   "execution_count": 33,
   "id": "7855228b-8631-4677-8b32-3063f34a5526",
   "metadata": {},
   "outputs": [
    {
     "name": "stdout",
     "output_type": "stream",
     "text": [
      "True\n",
      "False\n"
     ]
    }
   ],
   "source": [
    "str1='20'\n",
    "str2='25.2'  # non decimal value\n",
    "print(str1.isdecimal())\n",
    "print(str2.isdecimal())"
   ]
  },
  {
   "cell_type": "code",
   "execution_count": 32,
   "id": "e3c3247c-f638-4123-ab9c-b2601967017e",
   "metadata": {},
   "outputs": [
    {
     "name": "stdout",
     "output_type": "stream",
     "text": [
      "True\n",
      "False\n"
     ]
    }
   ],
   "source": [
    "str1='123'\n",
    "str2='mayur1234'     # contains character thats why false\n",
    "print(str1.isdigit())\n",
    "print(str2.isdigit())"
   ]
  },
  {
   "cell_type": "code",
   "execution_count": 44,
   "id": "f7ecdeee-3ffd-40bb-bd7b-79015797cfd7",
   "metadata": {},
   "outputs": [
    {
     "name": "stdout",
     "output_type": "stream",
     "text": [
      "False\n",
      "True\n"
     ]
    }
   ],
   "source": [
    "str1='#d'   # n0t valid  means not follo the naming convension\n",
    "str2='my_name'\n",
    "print(str1.isidentifier())\n",
    "print(str2.isidentifier())"
   ]
  },
  {
   "cell_type": "code",
   "execution_count": 50,
   "id": "f8e607a3-c8bb-4b50-9332-2c963399b006",
   "metadata": {},
   "outputs": [
    {
     "name": "stdout",
     "output_type": "stream",
     "text": [
      "True\n",
      "False\n"
     ]
    }
   ],
   "source": [
    "str1='s this lower'\n",
    "str2='This is not lower'   # not in lower case thats why false\n",
    "print(str1.islower())\n",
    "print(str2.islower())"
   ]
  },
  {
   "cell_type": "code",
   "execution_count": 53,
   "id": "98a73279-1a5d-4a59-9706-7c228a80e166",
   "metadata": {},
   "outputs": [
    {
     "name": "stdout",
     "output_type": "stream",
     "text": [
      "False\n",
      "True\n"
     ]
    }
   ],
   "source": [
    "s = 'mayur113'   # not only numeric values\n",
    "s1='123'\n",
    "print(s.isnumeric())\n",
    "print(s1.isnumeric())"
   ]
  },
  {
   "cell_type": "code",
   "execution_count": 55,
   "id": "ae33593b-00e0-4af1-90dc-bdaf609c085e",
   "metadata": {},
   "outputs": [
    {
     "name": "stdout",
     "output_type": "stream",
     "text": [
      "True\n",
      "False\n"
     ]
    }
   ],
   "source": [
    "str1='printable is this'  \n",
    "str2='Hello\\x00World!'     # byte null thats why fails\n",
    "print(str1.isprintable())\n",
    "print(str2.isprintable())"
   ]
  },
  {
   "cell_type": "code",
   "execution_count": 58,
   "id": "781ca41c-ad0e-44ca-890e-60fe0e0afb5c",
   "metadata": {},
   "outputs": [
    {
     "name": "stdout",
     "output_type": "stream",
     "text": [
      "False\n",
      "True\n"
     ]
    }
   ],
   "source": [
    "str1='this is space'   # contain space but also whilespace thats why false\n",
    "str2='   '\n",
    "\n",
    "print(str1.isspace())\n",
    "print(str2.isspace())"
   ]
  },
  {
   "cell_type": "code",
   "execution_count": 62,
   "id": "cff6b334-a4c7-45cb-9ed5-790da808e08a",
   "metadata": {},
   "outputs": [
    {
     "name": "stdout",
     "output_type": "stream",
     "text": [
      "False\n",
      "True\n"
     ]
    }
   ],
   "source": [
    "str1='this is title'   # not title case \n",
    "str2='This Is Title'\n",
    "print(str1.istitle())\n",
    "print(str2.istitle())"
   ]
  },
  {
   "cell_type": "code",
   "execution_count": 65,
   "id": "80b705e5-9b9c-4371-a426-11d08eb31096",
   "metadata": {},
   "outputs": [
    {
     "name": "stdout",
     "output_type": "stream",
     "text": [
      "False\n",
      "True\n"
     ]
    }
   ],
   "source": [
    "str1='this is upper'   # this is not uppercase\n",
    "str2='THIS IS UPPER'\n",
    "print(str1.isupper())\n",
    "print(str2.isupper())"
   ]
  },
  {
   "cell_type": "code",
   "execution_count": null,
   "id": "9d5cdb17-6067-4c91-a23d-7ce863d04f55",
   "metadata": {},
   "outputs": [],
   "source": []
  }
 ],
 "metadata": {
  "kernelspec": {
   "display_name": "Python 3 (ipykernel)",
   "language": "python",
   "name": "python3"
  },
  "language_info": {
   "codemirror_mode": {
    "name": "ipython",
    "version": 3
   },
   "file_extension": ".py",
   "mimetype": "text/x-python",
   "name": "python",
   "nbconvert_exporter": "python",
   "pygments_lexer": "ipython3",
   "version": "3.12.7"
  }
 },
 "nbformat": 4,
 "nbformat_minor": 5
}
