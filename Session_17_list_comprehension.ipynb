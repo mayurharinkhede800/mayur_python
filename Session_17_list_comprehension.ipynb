{
 "cells": [
  {
   "cell_type": "markdown",
   "id": "72608ef6-4088-422b-a700-3ed6479f91b9",
   "metadata": {},
   "source": [
    "# **List comprehension**\n",
    "- list comprehension is way to write list operation in a single operation\n",
    "\n",
    "- when we apply for loop and if-else conditional statement then the code compilation become slow.\n",
    "\n",
    "- which means it take much time\n",
    "\n",
    "-  in order to avoid time complexity we will use used list comprehension\n",
    "\n",
    "-  list comprehesion is a single line code\n",
    "\n"
   ]
  },
  {
   "cell_type": "markdown",
   "id": "19fbb9b1-52ff-48be-9296-d65d81599df6",
   "metadata": {},
   "source": [
    "**case:1-only for loop**"
   ]
  },
  {
   "cell_type": "code",
   "execution_count": 24,
   "id": "bd700e01-72ff-43cd-8dbd-a4fef1a77a55",
   "metadata": {},
   "outputs": [
    {
     "data": {
      "text/plain": [
       "[0, 1, 2, 3, 4, 5, 6, 7, 8, 9]"
      ]
     },
     "execution_count": 24,
     "metadata": {},
     "output_type": "execute_result"
    }
   ],
   "source": [
    "list1=[]\n",
    "for i in range(10):\n",
    "    list1.append(i)\n",
    "list1"
   ]
  },
  {
   "cell_type": "markdown",
   "id": "13a5141c-66e5-4b79-af32-34d039435be1",
   "metadata": {},
   "source": [
    "**syntax**\n",
    "**list1=[<outputvariable> <for loop>]**"
   ]
  },
  {
   "cell_type": "code",
   "execution_count": 30,
   "id": "74a3d2df-53b5-48fe-9c7a-871c21e8580d",
   "metadata": {},
   "outputs": [
    {
     "data": {
      "text/plain": [
       "[0, 1, 2, 3, 4, 5, 6, 7, 8, 9]"
      ]
     },
     "execution_count": 30,
     "metadata": {},
     "output_type": "execute_result"
    }
   ],
   "source": [
    "list1=[i for i in range(10)]  # no need of append in this code\n",
    "list1"
   ]
  },
  {
   "cell_type": "code",
   "execution_count": null,
   "id": "d094753d-95a7-42ce-8002-3c99ce725885",
   "metadata": {},
   "outputs": [],
   "source": [
    "# Q1) input=['hyd','bengaluru','pune','mumbai']\n",
    "#     output=['Hyd','Bengaluru','Pune','Mumbai']\n",
    "\n",
    "# Q2) input=['hyd','bengaluru','pune','mumbai']\n",
    "#     output=['HYD','BENGALURU','PUNE','MUMBAI']\n",
    "\n"
   ]
  },
  {
   "cell_type": "code",
   "execution_count": 33,
   "id": "c8fbb0f3-9e6c-45b2-94d5-1a4bf06515e3",
   "metadata": {},
   "outputs": [
    {
     "data": {
      "text/plain": [
       "['Hyd', 'Bengaluru', 'Pune', 'Mumbai']"
      ]
     },
     "execution_count": 33,
     "metadata": {},
     "output_type": "execute_result"
    }
   ],
   "source": [
    "input=['hyd','bengaluru','pune','mumbai']\n",
    "output=[i.capitalize() for i in input]\n",
    "output"
   ]
  },
  {
   "cell_type": "code",
   "execution_count": 34,
   "id": "cc4c25c4-c1af-4804-99f1-16896ced52ed",
   "metadata": {},
   "outputs": [
    {
     "data": {
      "text/plain": [
       "['HYD', 'BENGALURU', 'PUNE', 'MUMBAI']"
      ]
     },
     "execution_count": 34,
     "metadata": {},
     "output_type": "execute_result"
    }
   ],
   "source": [
    "input=['hyd','bengaluru','pune','mumbai']\n",
    "output=[i.upper() for i in output]\n",
    "output"
   ]
  },
  {
   "cell_type": "code",
   "execution_count": 54,
   "id": "ecad6f90-a937-4fca-9647-6228e4f7860a",
   "metadata": {},
   "outputs": [
    {
     "data": {
      "text/plain": [
       "[0, 10, 20, 30]"
      ]
     },
     "execution_count": 54,
     "metadata": {},
     "output_type": "execute_result"
    }
   ],
   "source": [
    "input=['hyd','bengaluru','pune','mumbai']\n",
    "output=[input.index(i)*10 for i in input]\n",
    "output"
   ]
  },
  {
   "cell_type": "code",
   "execution_count": 60,
   "id": "a424d2c9-71cd-42ef-ba2a-d8e37bb0cc2f",
   "metadata": {},
   "outputs": [
    {
     "data": {
      "text/plain": [
       "60"
      ]
     },
     "execution_count": 60,
     "metadata": {},
     "output_type": "execute_result"
    }
   ],
   "source": [
    "input=['hyd','bengaluru','pune','mumbai']\n",
    "output=[input.index(i)*10 for i in input]\n",
    "sum(output)"
   ]
  },
  {
   "cell_type": "code",
   "execution_count": 62,
   "id": "df1fb412-e0f2-4239-a4cf-1eed9404e6da",
   "metadata": {},
   "outputs": [
    {
     "name": "stdout",
     "output_type": "stream",
     "text": [
      "55\n"
     ]
    }
   ],
   "source": [
    "summ =0\n",
    "for i in range(1,11):\n",
    "    summ += i\n",
    "print(summ)"
   ]
  },
  {
   "cell_type": "markdown",
   "id": "f1faf418-fd2e-4709-ba50-92b3b3de2570",
   "metadata": {},
   "source": [
    "# **valrus operator**"
   ]
  },
  {
   "cell_type": "code",
   "execution_count": 67,
   "id": "5e14766e-19c2-4bdb-94c6-7505ffdfebe3",
   "metadata": {},
   "outputs": [
    {
     "data": {
      "text/plain": [
       "[166, 168, 171, 175, 180, 186, 193, 201, 210, 220]"
      ]
     },
     "execution_count": 67,
     "metadata": {},
     "output_type": "execute_result"
    }
   ],
   "source": [
    "[summ:=summ+i for i in range(1,11)]\n"
   ]
  },
  {
   "cell_type": "code",
   "execution_count": 72,
   "id": "173c9bb6-380e-436b-afd7-d5bbc08fe0de",
   "metadata": {},
   "outputs": [
    {
     "ename": "SyntaxError",
     "evalue": "invalid syntax. Maybe you meant '==' or ':=' instead of '='? (376996835.py, line 1)",
     "output_type": "error",
     "traceback": [
      "\u001b[1;36m  Cell \u001b[1;32mIn[72], line 1\u001b[1;36m\u001b[0m\n\u001b[1;33m    [summ=summ+i for i in range(1,11)]\u001b[0m\n\u001b[1;37m     ^\u001b[0m\n\u001b[1;31mSyntaxError\u001b[0m\u001b[1;31m:\u001b[0m invalid syntax. Maybe you meant '==' or ':=' instead of '='?\n"
     ]
    }
   ],
   "source": [
    "[summ=summ+i for i in range(1,11)]\n",
    "summ =0"
   ]
  },
  {
   "cell_type": "code",
   "execution_count": 76,
   "id": "36d74366-ef07-4f2c-be2b-9667ad141b15",
   "metadata": {},
   "outputs": [
    {
     "data": {
      "text/plain": [
       "55"
      ]
     },
     "execution_count": 76,
     "metadata": {},
     "output_type": "execute_result"
    }
   ],
   "source": [
    "summ = 0\n",
    "[summ:=summ+i for i in range(1,11)]\n",
    "summ"
   ]
  },
  {
   "cell_type": "markdown",
   "id": "3b85dda5-8d58-44ff-a3c2-a9924d79bb4f",
   "metadata": {},
   "source": [
    "# Case:2 **for loop and if condition**"
   ]
  },
  {
   "cell_type": "code",
   "execution_count": 78,
   "id": "8adbfa79-75e3-4a54-a8f7-3c86e5a8240f",
   "metadata": {},
   "outputs": [
    {
     "data": {
      "text/plain": [
       "[0, 2, 4, 6, 8]"
      ]
     },
     "execution_count": 78,
     "metadata": {},
     "output_type": "execute_result"
    }
   ],
   "source": [
    "# only even number \n",
    "numm = 10\n",
    "even_list = []\n",
    "for i in range(10):\n",
    "    if i%2==0:\n",
    "        even_list.append(i)\n",
    "even_list"
   ]
  },
  {
   "cell_type": "code",
   "execution_count": 83,
   "id": "78782071-7a2b-478e-8cfd-dc8d9d52c806",
   "metadata": {},
   "outputs": [],
   "source": [
    "# [i if i%2==0 for i in range(10)]\n"
   ]
  },
  {
   "cell_type": "code",
   "execution_count": 85,
   "id": "054e6e06-080b-4261-8e53-f7cab1eeb942",
   "metadata": {},
   "outputs": [
    {
     "data": {
      "text/plain": [
       "['even 2', 'even 4', 'even 6', 'even 8']"
      ]
     },
     "execution_count": 85,
     "metadata": {},
     "output_type": "execute_result"
    }
   ],
   "source": [
    "[f'even {i}' for i in range(1,10) if i %2 ==0]"
   ]
  },
  {
   "cell_type": "code",
   "execution_count": null,
   "id": "74cae104-1c20-400f-b812-77d1a9166d38",
   "metadata": {},
   "outputs": [],
   "source": [
    "# Q5) input=['hyd','ben#galuru','pune','mu#mbai']\n",
    "#     output=[ben#galuru',mu#mbai']\n",
    "\n",
    "# Q6) input=['hyd','ben#galuru','pune','mu#mbai']\n",
    "#     output=[hyd,pune]\n",
    "\n"
   ]
  },
  {
   "cell_type": "code",
   "execution_count": 92,
   "id": "142712a2-cd17-439b-bddc-56e635cac641",
   "metadata": {},
   "outputs": [
    {
     "data": {
      "text/plain": [
       "['ben#galuru', 'mu#mbai']"
      ]
     },
     "execution_count": 92,
     "metadata": {},
     "output_type": "execute_result"
    }
   ],
   "source": [
    "list1=['hyd','ben#galuru','pune','mu#mbai']\n",
    "out=[ i for i in list1 if '#' in i]\n",
    "out"
   ]
  },
  {
   "cell_type": "code",
   "execution_count": 93,
   "id": "5f9bbc05-5442-45e4-b750-c1cb0a007c3f",
   "metadata": {},
   "outputs": [
    {
     "data": {
      "text/plain": [
       "['hyd', 'pune']"
      ]
     },
     "execution_count": 93,
     "metadata": {},
     "output_type": "execute_result"
    }
   ],
   "source": [
    "list1=['hyd','ben#galuru','pune','mu#mbai']\n",
    "out=[ i for i in list1 if '#' not in i]\n",
    "out"
   ]
  },
  {
   "cell_type": "code",
   "execution_count": 94,
   "id": "868c570a-36ce-4a63-92ff-d7fbf13ec7ae",
   "metadata": {},
   "outputs": [
    {
     "data": {
      "text/plain": [
       "['ben#galuru', 'mu#mbai']"
      ]
     },
     "execution_count": 94,
     "metadata": {},
     "output_type": "execute_result"
    }
   ],
   "source": [
    "input=['hyd','ben#galuru','pune','mu#mbai']\n",
    "output=[i for i in input if '#' in i]\n",
    "output"
   ]
  },
  {
   "cell_type": "code",
   "execution_count": 95,
   "id": "215dd230-23f3-44d6-9381-e81a18f0b8b2",
   "metadata": {},
   "outputs": [
    {
     "data": {
      "text/plain": [
       "['hyd', 'pune']"
      ]
     },
     "execution_count": 95,
     "metadata": {},
     "output_type": "execute_result"
    }
   ],
   "source": [
    "input=['hyd','ben#galuru','pune','mu#mbai']\n",
    "[i for i in input if '#' not in i]"
   ]
  },
  {
   "cell_type": "markdown",
   "id": "4c9a148f-06d8-438e-a8a1-ca59a675f72a",
   "metadata": {},
   "source": [
    "**case:3 for loop if-else**"
   ]
  },
  {
   "cell_type": "code",
   "execution_count": null,
   "id": "dab06e88-6be3-43c0-be06-df11c567762a",
   "metadata": {},
   "outputs": [],
   "source": [
    "case-1:for loop  < output><for loop>\n",
    "\n",
    "case-2:for loop and if : [<output> <for loop> <if condition> ]\n",
    "\n",
    "case:3: for loop and if else :[<if out> <if condition> else <else out> <for loop>]"
   ]
  },
  {
   "cell_type": "code",
   "execution_count": 3,
   "id": "7e8f66fd-9f14-4a0d-a299-d03093bf556e",
   "metadata": {},
   "outputs": [
    {
     "data": {
      "text/plain": [
       "['odd 1',\n",
       " 'even 2',\n",
       " 'odd 3',\n",
       " 'even 4',\n",
       " 'odd 5',\n",
       " 'even 6',\n",
       " 'odd 7',\n",
       " 'even 8',\n",
       " 'odd 9']"
      ]
     },
     "execution_count": 3,
     "metadata": {},
     "output_type": "execute_result"
    }
   ],
   "source": [
    "list3=[]\n",
    "for i in range(1,10):\n",
    "    if i%2==0:\n",
    "        list3.append(f'even {i}')\n",
    "    else:\n",
    "        list3.append(f'odd {i}')\n",
    "list3"
   ]
  },
  {
   "cell_type": "code",
   "execution_count": 5,
   "id": "a010cfc7-c4f8-46be-b5dd-8c475214e9a2",
   "metadata": {},
   "outputs": [
    {
     "data": {
      "text/plain": [
       "['even : 0',\n",
       " 'odd 1',\n",
       " 'even : 2',\n",
       " 'odd 3',\n",
       " 'even : 4',\n",
       " 'odd 5',\n",
       " 'even : 6',\n",
       " 'odd 7',\n",
       " 'even : 8',\n",
       " 'odd 9']"
      ]
     },
     "execution_count": 5,
     "metadata": {},
     "output_type": "execute_result"
    }
   ],
   "source": [
    "[f'even : {i}' if i%2==0 else f'odd {i}' for i in range(10)]"
   ]
  },
  {
   "cell_type": "markdown",
   "id": "f7d93bdd-4d04-43a6-99ca-b0d95c361b82",
   "metadata": {},
   "source": [
    "**case:4:for loop , if elif else**\n",
    "\n",
    "- in list comprehension we dont have **elif** representaion\n",
    "\n",
    "- elif also represent as else+if\n",
    "\n",
    "- in elif we have elif condition and elif output\n",
    "\n",
    "- else elif output and then elif condition"
   ]
  },
  {
   "cell_type": "code",
   "execution_count": null,
   "id": "0dd445c9-1198-41ff-8550-d66f4c1e24b3",
   "metadata": {},
   "outputs": [],
   "source": [
    "case-1:for loop  < output><for loop>\n",
    "\n",
    "case-2:for loop and if : [<output> <for loop> <if condition> ]\n",
    "\n",
    "case:3: for loop and if else :[<if out> **<if condition> else <else out>** <for loop>]\n",
    "\n",
    "case:4:for if elif else :[<if out> <if condn> **else <if out> <if condn>** else <else out> <for loop> ]\n",
    "\n",
    "**mote** instead of elif term write if "
   ]
  },
  {
   "cell_type": "code",
   "execution_count": 9,
   "id": "40a4db7e-5379-4f73-87e6-e838c7354f2a",
   "metadata": {},
   "outputs": [
    {
     "name": "stdout",
     "output_type": "stream",
     "text": [
      "45 B Grade\n",
      "55 B Grade\n",
      "75 B Grade\n",
      "85 B Grade\n",
      "95 A Grade\n"
     ]
    }
   ],
   "source": [
    "# 85 A grade \n",
    "# 60-85 B grade\n",
    "# less than 60 C grade\n",
    "list1=[45,55,75,85,95]\n",
    "for i in list1:\n",
    "    if i > 85:\n",
    "        print(f'{i} A Grade')\n",
    "    elif i>60:\n",
    "        print(f'{i} B Grade')\n",
    "    else:\n",
    "        print(f'{i} B Grade')"
   ]
  },
  {
   "cell_type": "code",
   "execution_count": 11,
   "id": "eef88e93-e59c-468c-898f-510f5c5c8071",
   "metadata": {},
   "outputs": [
    {
     "data": {
      "text/plain": [
       "['45 B Grade', '55 B Grade', '75 B Grade', '85 B Grade', '95 A Grade']"
      ]
     },
     "execution_count": 11,
     "metadata": {},
     "output_type": "execute_result"
    }
   ],
   "source": [
    "[f'{i} A Grade' if i > 85 else f'{i} B Grade' if i>60 else f'{i} c Grade' for i in list1]"
   ]
  },
  {
   "cell_type": "code",
   "execution_count": 16,
   "id": "43403171-454c-43a2-ab60-b306921af23f",
   "metadata": {},
   "outputs": [
    {
     "data": {
      "text/plain": [
       "55"
      ]
     },
     "execution_count": 16,
     "metadata": {},
     "output_type": "execute_result"
    }
   ],
   "source": [
    "summ = 0\n",
    "[summ := summ +i for i in range(1,11)]\n",
    "summ"
   ]
  },
  {
   "cell_type": "code",
   "execution_count": null,
   "id": "87a17242-dd46-4195-b473-077a34652d6f",
   "metadata": {},
   "outputs": [],
   "source": []
  }
 ],
 "metadata": {
  "kernelspec": {
   "display_name": "Python 3 (ipykernel)",
   "language": "python",
   "name": "python3"
  },
  "language_info": {
   "codemirror_mode": {
    "name": "ipython",
    "version": 3
   },
   "file_extension": ".py",
   "mimetype": "text/x-python",
   "name": "python",
   "nbconvert_exporter": "python",
   "pygments_lexer": "ipython3",
   "version": "3.12.7"
  }
 },
 "nbformat": 4,
 "nbformat_minor": 5
}
