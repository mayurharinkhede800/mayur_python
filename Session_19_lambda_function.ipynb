{
 "cells": [
  {
   "cell_type": "code",
   "execution_count": null,
   "id": "6f12a8cb-7a3b-4158-ac11-ec9c41677831",
   "metadata": {},
   "outputs": [],
   "source": [
    "# what are the new changes are going on ai everyone in the class should pick one domaim\n",
    "# 1.education\n",
    "# 2.pharma\n",
    "# 3.healthcare\n",
    "# 4.defence\n",
    "# 5.realstate\n",
    "# 6.banking\n",
    "# 7.automobile\n",
    "# 8.aero industry\n",
    "# 9.electronics\n",
    "# 10.movies and arts\n",
    "# 11.gaming/sport\n",
    "# 12.finance/banking\n",
    "# 13.supply chain \n",
    "# 14.retail\n",
    "# 15.ecomerce\n",
    "# 16.iot + ai\n",
    "# 17.block chain\n",
    "# 18.egriculture\n",
    "# gartner refer the article\n",
    "# write some one blog ===== 1 week"
   ]
  },
  {
   "cell_type": "code",
   "execution_count": null,
   "id": "14756fb7-fce3-4fae-bbfb-aa29ef44d72b",
   "metadata": {},
   "outputs": [],
   "source": [
    "# saturday after 1st march SQL 5.30-8.30"
   ]
  },
  {
   "cell_type": "markdown",
   "id": "294750ee-7b42-4815-9b73-3c2105f8fb44",
   "metadata": {},
   "source": [
    "**list comprehension**"
   ]
  },
  {
   "cell_type": "code",
   "execution_count": null,
   "id": "af557a2f-f002-473c-aaea-16a861129af0",
   "metadata": {},
   "outputs": [],
   "source": [
    "\n"
   ]
  },
  {
   "cell_type": "code",
   "execution_count": null,
   "id": "502bdad7-8fe3-4d8a-b8da-fd1724d94ba6",
   "metadata": {},
   "outputs": [],
   "source": []
  },
  {
   "cell_type": "markdown",
   "id": "9f101588-986e-4acf-bb71-3e4974091525",
   "metadata": {},
   "source": [
    "**lambda functions**\n",
    "\n",
    "- lambda function represents functions in single line \n",
    "\n",
    "- it is similar analogy to list comprehesion \n",
    "\n",
    "- to reduce the time complexity will go for kambda function"
   ]
  },
  {
   "cell_type": "markdown",
   "id": "dda2046e-3195-405f-920a-c3c373e0f13d",
   "metadata": {},
   "source": [
    "$pattern-1$:**function with one argument**"
   ]
  },
  {
   "cell_type": "code",
   "execution_count": 3,
   "id": "81b4d3d3-760b-4a46-8d56-b75fab3f53de",
   "metadata": {},
   "outputs": [
    {
     "data": {
      "text/plain": [
       "100"
      ]
     },
     "execution_count": 3,
     "metadata": {},
     "output_type": "execute_result"
    }
   ],
   "source": [
    "def mul(a):\n",
    "    return(a*a)\n",
    "ans=mul(10)\n",
    "ans"
   ]
  },
  {
   "cell_type": "code",
   "execution_count": 7,
   "id": "ef117ee6-a7b9-4cfe-929c-5a3632965cbb",
   "metadata": {},
   "outputs": [],
   "source": [
    "# syntax = \n",
    "# function_name=lambda<argument_name>:<return_output>\n",
    "# in the aboive\n",
    "# function_name=mul\n",
    "# argumentName=a\n",
    "# return output=a*a"
   ]
  },
  {
   "cell_type": "code",
   "execution_count": 6,
   "id": "8f3a1c59-6edf-4f26-ae68-b549a647d637",
   "metadata": {},
   "outputs": [
    {
     "data": {
      "text/plain": [
       "100"
      ]
     },
     "execution_count": 6,
     "metadata": {},
     "output_type": "execute_result"
    }
   ],
   "source": [
    "mul = lambda a : a*a\n",
    "mul(10)"
   ]
  },
  {
   "cell_type": "code",
   "execution_count": 8,
   "id": "9a6d5b65-71f9-4a04-b81b-d881f07deb94",
   "metadata": {},
   "outputs": [
    {
     "data": {
      "text/plain": [
       "8"
      ]
     },
     "execution_count": 8,
     "metadata": {},
     "output_type": "execute_result"
    }
   ],
   "source": [
    "def cube(a):\n",
    "    return(a*a*a)\n",
    "cube(2)"
   ]
  },
  {
   "cell_type": "code",
   "execution_count": 11,
   "id": "c873c1eb-9448-4600-9942-4a1bae8a70a6",
   "metadata": {},
   "outputs": [
    {
     "data": {
      "text/plain": [
       "1000000"
      ]
     },
     "execution_count": 11,
     "metadata": {},
     "output_type": "execute_result"
    }
   ],
   "source": [
    "cube=lambda a:a*a*a\n",
    "cube(100)"
   ]
  },
  {
   "cell_type": "markdown",
   "id": "c0dc6561-1a85-40fe-a6fa-e75ede633355",
   "metadata": {},
   "source": [
    "$pattern-2$ : **function with two argument**"
   ]
  },
  {
   "cell_type": "code",
   "execution_count": 12,
   "id": "3f11795e-be0a-4f7a-bf92-0b682b0cd98f",
   "metadata": {},
   "outputs": [
    {
     "data": {
      "text/plain": [
       "30"
      ]
     },
     "execution_count": 12,
     "metadata": {},
     "output_type": "execute_result"
    }
   ],
   "source": [
    "def add(a,b):\n",
    "    return(a+b)\n",
    "add(10,20)"
   ]
  },
  {
   "cell_type": "code",
   "execution_count": 13,
   "id": "5fa838a2-893f-4748-a97b-b7d534f17cae",
   "metadata": {},
   "outputs": [
    {
     "data": {
      "text/plain": [
       "30"
      ]
     },
     "execution_count": 13,
     "metadata": {},
     "output_type": "execute_result"
    }
   ],
   "source": [
    "add=lambda a,b:a+b\n",
    "add(10,20)"
   ]
  },
  {
   "cell_type": "code",
   "execution_count": 14,
   "id": "c4d92506-7b35-4357-90cb-5ebfc2e947d2",
   "metadata": {},
   "outputs": [
    {
     "data": {
      "text/plain": [
       "20.0"
      ]
     },
     "execution_count": 14,
     "metadata": {},
     "output_type": "execute_result"
    }
   ],
   "source": [
    "def avg(a,b,c):\n",
    "    return (a+b+c)/3\n",
    "avg(10,20,30)"
   ]
  },
  {
   "cell_type": "code",
   "execution_count": null,
   "id": "2239d96a-5043-4b85-aa00-2d54a51f2549",
   "metadata": {},
   "outputs": [],
   "source": []
  },
  {
   "cell_type": "code",
   "execution_count": 22,
   "id": "8f8ce01f-5930-4e7c-9211-112633959521",
   "metadata": {},
   "outputs": [
    {
     "data": {
      "text/plain": [
       "150.67"
      ]
     },
     "execution_count": 22,
     "metadata": {},
     "output_type": "execute_result"
    }
   ],
   "source": [
    "avg=lambda a,b,c :round((a+b+c)/3,2)\n",
    "avg(199,232,21)"
   ]
  },
  {
   "cell_type": "markdown",
   "id": "693e1f94-ef28-4bd2-90cf-d5b26c207b9e",
   "metadata": {},
   "source": [
    "$pattern-4 : **default argument**"
   ]
  },
  {
   "cell_type": "code",
   "execution_count": 24,
   "id": "ab6aba66-22a1-43fc-a078-f44d78c1ac68",
   "metadata": {},
   "outputs": [
    {
     "data": {
      "text/plain": [
       "150.67"
      ]
     },
     "execution_count": 24,
     "metadata": {},
     "output_type": "execute_result"
    }
   ],
   "source": [
    "avg=lambda a,b,c=21 :round((a+b+c)/3,2)\n",
    "avg(199,232)"
   ]
  },
  {
   "cell_type": "code",
   "execution_count": null,
   "id": "af211155-264d-44a7-8122-e6fbc3ba7ca6",
   "metadata": {},
   "outputs": [],
   "source": []
  },
  {
   "cell_type": "code",
   "execution_count": 25,
   "id": "b8da2871-765e-4936-8e77-c084161ba044",
   "metadata": {},
   "outputs": [
    {
     "data": {
      "text/plain": [
       "25"
      ]
     },
     "execution_count": 25,
     "metadata": {},
     "output_type": "execute_result"
    }
   ],
   "source": [
    "def mul(m):\n",
    "    return m*m \n",
    "mul(5)"
   ]
  },
  {
   "cell_type": "code",
   "execution_count": 26,
   "id": "6beb7e3d-eeb4-4300-a35b-ca61e442c309",
   "metadata": {},
   "outputs": [
    {
     "data": {
      "text/plain": [
       "25"
      ]
     },
     "execution_count": 26,
     "metadata": {},
     "output_type": "execute_result"
    }
   ],
   "source": [
    "mul=lambda m : m*m\n",
    "mul(5)"
   ]
  },
  {
   "cell_type": "code",
   "execution_count": 27,
   "id": "e6ba2d81-5c14-4323-bacb-d5c2fec6a770",
   "metadata": {},
   "outputs": [
    {
     "data": {
      "text/plain": [
       "30"
      ]
     },
     "execution_count": 27,
     "metadata": {},
     "output_type": "execute_result"
    }
   ],
   "source": [
    "def add(a,b):\n",
    "    return a+b\n",
    "add(10,20)"
   ]
  },
  {
   "cell_type": "code",
   "execution_count": 28,
   "id": "417e98a9-e3a9-4581-906f-8d3d5c260e14",
   "metadata": {},
   "outputs": [
    {
     "data": {
      "text/plain": [
       "30"
      ]
     },
     "execution_count": 28,
     "metadata": {},
     "output_type": "execute_result"
    }
   ],
   "source": [
    "add=lambda a,b : a+b \n",
    "add(10,20)"
   ]
  },
  {
   "cell_type": "code",
   "execution_count": 29,
   "id": "dae9a12a-aefc-4aed-a1aa-40e794622d1e",
   "metadata": {},
   "outputs": [
    {
     "ename": "TypeError",
     "evalue": "unsupported operand type(s) for /: 'tuple' and 'int'",
     "output_type": "error",
     "traceback": [
      "\u001b[1;31m---------------------------------------------------------------------------\u001b[0m",
      "\u001b[1;31mTypeError\u001b[0m                                 Traceback (most recent call last)",
      "Cell \u001b[1;32mIn[29], line 3\u001b[0m\n\u001b[0;32m      1\u001b[0m \u001b[38;5;28;01mdef\u001b[39;00m \u001b[38;5;21mavg1\u001b[39m(a,b,c):\n\u001b[0;32m      2\u001b[0m     \u001b[38;5;28;01mreturn\u001b[39;00m (a,b,c)\u001b[38;5;241m/\u001b[39m\u001b[38;5;241m3\u001b[39m\n\u001b[1;32m----> 3\u001b[0m avg1(\u001b[38;5;241m10\u001b[39m,\u001b[38;5;241m30\u001b[39m,\u001b[38;5;241m20\u001b[39m)\n",
      "Cell \u001b[1;32mIn[29], line 2\u001b[0m, in \u001b[0;36mavg1\u001b[1;34m(a, b, c)\u001b[0m\n\u001b[0;32m      1\u001b[0m \u001b[38;5;28;01mdef\u001b[39;00m \u001b[38;5;21mavg1\u001b[39m(a,b,c):\n\u001b[1;32m----> 2\u001b[0m     \u001b[38;5;28;01mreturn\u001b[39;00m (a,b,c)\u001b[38;5;241m/\u001b[39m\u001b[38;5;241m3\u001b[39m\n",
      "\u001b[1;31mTypeError\u001b[0m: unsupported operand type(s) for /: 'tuple' and 'int'"
     ]
    }
   ],
   "source": [
    "def avg1(a,b,c):\n",
    "    return (a,b,c)/3\n",
    "avg1(10,30,20)"
   ]
  },
  {
   "cell_type": "code",
   "execution_count": null,
   "id": "b3563a1a-3af0-4062-83ad-fea42c716293",
   "metadata": {},
   "outputs": [],
   "source": []
  },
  {
   "cell_type": "code",
   "execution_count": null,
   "id": "90e7ec81-a334-48ca-b9a0-6e97f5ec0da5",
   "metadata": {},
   "outputs": [],
   "source": [
    "input=['hyd','bengluru','mumbai','pune']\n",
    "output=[]\n",
    "for i in input:\n",
    "    output.append(i.capitalize())\n",
    "output\n",
    "=======================================\n",
    "output=[i.capitalize() for i in input]\n",
    "output\n",
    "\n",
    "====================================\n"
   ]
  },
  {
   "cell_type": "code",
   "execution_count": 36,
   "id": "6d668a68-b4c6-4a0b-b04e-a1ca42982a4b",
   "metadata": {},
   "outputs": [
    {
     "data": {
      "text/plain": [
       "<function __main__.<lambda>(i)>"
      ]
     },
     "execution_count": 36,
     "metadata": {},
     "output_type": "execute_result"
    }
   ],
   "source": [
    "# step-1:lambda variable : output                               (normal condition)\n",
    "lambda i : i.capitalize()"
   ]
  },
  {
   "cell_type": "code",
   "execution_count": 37,
   "id": "6495b068-9732-4db2-a15e-3f103621f802",
   "metadata": {},
   "outputs": [
    {
     "data": {
      "text/plain": [
       "(<function __main__.<lambda>(i)>, ['hyd', 'bengluru', 'mumbai', 'pune'])"
      ]
     },
     "execution_count": 37,
     "metadata": {},
     "output_type": "execute_result"
    }
   ],
   "source": [
    "# step-2:lambda variable : output , iterator                     (add iterator)\n",
    "lambda i : i.capitalize(),input\n"
   ]
  },
  {
   "cell_type": "code",
   "execution_count": 39,
   "id": "9bd3c067-f023-4241-9757-91dd758ecea8",
   "metadata": {},
   "outputs": [
    {
     "data": {
      "text/plain": [
       "<map at 0x222b0f679a0>"
      ]
     },
     "execution_count": 39,
     "metadata": {},
     "output_type": "execute_result"
    }
   ],
   "source": [
    "# step-3: map(lambda variable : output , iterator)                  add(map)\n",
    "map(lambda i : i.capitalize(),input) "
   ]
  },
  {
   "cell_type": "code",
   "execution_count": 40,
   "id": "544d22c3-b5cc-4129-9cdc-9eeb3109ad47",
   "metadata": {},
   "outputs": [
    {
     "data": {
      "text/plain": [
       "['Hyd', 'Bengluru', 'Mumbai', 'Pune']"
      ]
     },
     "execution_count": 40,
     "metadata": {},
     "output_type": "execute_result"
    }
   ],
   "source": [
    "# step-4: list(map(lambda variable : output , iterator))            add(list)\n",
    "list(map(lambda i : i.capitalize() , input))"
   ]
  },
  {
   "cell_type": "code",
   "execution_count": 41,
   "id": "afdda2e2-aeb1-462c-bbda-62d88b4b8cfd",
   "metadata": {},
   "outputs": [
    {
     "data": {
      "text/plain": [
       "['HYD', 'BENGLURU', 'MUMBAI', 'PUNE']"
      ]
     },
     "execution_count": 41,
     "metadata": {},
     "output_type": "execute_result"
    }
   ],
   "source": [
    "# q.2 input=['hyd','bengluru','mumbai','pune']\n",
    "# output=['HYD', 'BENGLURU', 'MUMBAI', 'PUNE']\n",
    "\n",
    "input=['hyd','bengluru','mumbai','pune']\n",
    "list(map(lambda i :i.upper(),input))"
   ]
  },
  {
   "cell_type": "code",
   "execution_count": 50,
   "id": "6ca5a183-e712-47c0-9607-cde82bd03a67",
   "metadata": {},
   "outputs": [
    {
     "data": {
      "text/plain": [
       "[0, 1, 2, 3]"
      ]
     },
     "execution_count": 50,
     "metadata": {},
     "output_type": "execute_result"
    }
   ],
   "source": [
    "input=['hyd','bengluru','mumbai','pune']\n",
    "output=[0,1,2,3]\n",
    "list(map(lambda i:input.index(i),input))"
   ]
  },
  {
   "cell_type": "code",
   "execution_count": 48,
   "id": "06d23c92-ae58-4e4c-bcdb-6b6784fa3fa0",
   "metadata": {},
   "outputs": [
    {
     "data": {
      "text/plain": [
       "['HELLO', 'HOW', 'ARE', 'YOU']"
      ]
     },
     "execution_count": 48,
     "metadata": {},
     "output_type": "execute_result"
    }
   ],
   "source": [
    "input='hello how are you'\n",
    "list1=input.split()\n",
    "list(map(lambda i : i.upper(),list1))"
   ]
  },
  {
   "cell_type": "code",
   "execution_count": 65,
   "id": "2211509c-dae7-46ec-ae7a-bf5d7b95a95e",
   "metadata": {},
   "outputs": [
    {
     "data": {
      "text/plain": [
       "[False, True, False, True]"
      ]
     },
     "execution_count": 65,
     "metadata": {},
     "output_type": "execute_result"
    }
   ],
   "source": [
    "input=['hyd','beng#luru','mumbai','pu#ne']\n",
    "output=[]\n",
    "list(map(lambda i :'#' in i ,input))"
   ]
  },
  {
   "cell_type": "code",
   "execution_count": 70,
   "id": "29936711-4584-4fda-90d8-9c2f0088abb5",
   "metadata": {},
   "outputs": [
    {
     "data": {
      "text/plain": [
       "[True, False, True, False]"
      ]
     },
     "execution_count": 70,
     "metadata": {},
     "output_type": "execute_result"
    }
   ],
   "source": [
    "input=['hyd','beng#luru','mumbai','pu#ne']\n",
    "list(map(lambda i : '#' not in i ,input))"
   ]
  },
  {
   "cell_type": "markdown",
   "id": "db732d8f-ebea-4715-be05-a88744b1bc89",
   "metadata": {},
   "source": [
    "**lambda argument : condn , interator**"
   ]
  },
  {
   "cell_type": "markdown",
   "id": "eb911bda-a4fb-461e-9b88-422b43ad3638",
   "metadata": {},
   "source": [
    "**filter**\n",
    "\n",
    "- filter is apply on lambda function to retrive the true output\n",
    "\n",
    "- map will just map the function and iterator\n",
    "\n",
    "- when we apply condition map will gives true and false\n",
    "\n",
    "- filter will use instead of map"
   ]
  },
  {
   "cell_type": "code",
   "execution_count": 93,
   "id": "76630191-27f0-4f85-9be1-73fde68bde27",
   "metadata": {},
   "outputs": [
    {
     "data": {
      "text/plain": [
       "['beng#luru', 'pu#ne']"
      ]
     },
     "execution_count": 93,
     "metadata": {},
     "output_type": "execute_result"
    }
   ],
   "source": [
    "input=['hyd','beng#luru','mumbai','pu#ne']\n",
    "list(filter(lambda i :'#' in i ,input))"
   ]
  },
  {
   "cell_type": "code",
   "execution_count": 75,
   "id": "fca6a86f-366e-46d2-b92b-7f64a301ae18",
   "metadata": {},
   "outputs": [
    {
     "data": {
      "text/plain": [
       "['hyd', 'mumbai']"
      ]
     },
     "execution_count": 75,
     "metadata": {},
     "output_type": "execute_result"
    }
   ],
   "source": [
    "input=['hyd','beng#luru','mumbai','pu#ne']\n",
    "list(filter(lambda i : '#' not in i ,input))"
   ]
  },
  {
   "cell_type": "markdown",
   "id": "5ec224d9-2973-42dc-ada0-6f16315af6cd",
   "metadata": {},
   "source": [
    "**reduce**\n",
    "\n",
    "- reduce will helpful to perform math operation using lambda function\n",
    "\n",
    "- it is a method under a package called : **functools**\n",
    "\n"
   ]
  },
  {
   "cell_type": "code",
   "execution_count": 76,
   "id": "f5d7c338-7728-49d1-a36e-395126c6066f",
   "metadata": {},
   "outputs": [
    {
     "data": {
      "text/plain": [
       "15"
      ]
     },
     "execution_count": 76,
     "metadata": {},
     "output_type": "execute_result"
    }
   ],
   "source": [
    "list1=[1,2,3,4,5]\n",
    "sum(list1)"
   ]
  },
  {
   "cell_type": "code",
   "execution_count": null,
   "id": "cbd35022-b762-431d-8424-258c006721e3",
   "metadata": {},
   "outputs": [],
   "source": [
    "# lambda argu:output,iterator"
   ]
  },
  {
   "cell_type": "code",
   "execution_count": 78,
   "id": "614e2fcb-142c-435e-b8b3-a2a0b9f4efd0",
   "metadata": {},
   "outputs": [],
   "source": [
    "import functools"
   ]
  },
  {
   "cell_type": "code",
   "execution_count": null,
   "id": "995c6e41-5c10-45ca-a5fd-908d0d00dc24",
   "metadata": {},
   "outputs": [],
   "source": []
  },
  {
   "cell_type": "code",
   "execution_count": null,
   "id": "51944349-7b1e-45e7-84d9-bd675f133431",
   "metadata": {},
   "outputs": [],
   "source": [
    "import functools \n",
    "functools.reduce()\n",
    "=======================\n",
    "from functools import reduce()\n",
    "=======================\n"
   ]
  },
  {
   "cell_type": "code",
   "execution_count": 82,
   "id": "0662fc35-2073-4905-8bd4-a3153289f17a",
   "metadata": {},
   "outputs": [
    {
     "data": {
      "text/plain": [
       "15"
      ]
     },
     "execution_count": 82,
     "metadata": {},
     "output_type": "execute_result"
    }
   ],
   "source": [
    "functools.reduce(lambda summ , i : summ+i , list1)"
   ]
  },
  {
   "cell_type": "code",
   "execution_count": 87,
   "id": "f2892fa3-ffdd-4522-8ff9-f3d4c405fbec",
   "metadata": {},
   "outputs": [
    {
     "data": {
      "text/plain": [
       "15"
      ]
     },
     "execution_count": 87,
     "metadata": {},
     "output_type": "execute_result"
    }
   ],
   "source": [
    "from functools import reduce\n",
    "\n",
    "lambda summ,i : summ+i\n",
    "\n",
    "lambda summ,i:summ+i,list1\n",
    "\n",
    "reduce(lambda summ,i:summ+i,list1)"
   ]
  },
  {
   "cell_type": "code",
   "execution_count": 90,
   "id": "ae28acd0-2683-473f-9829-7deee74eee23",
   "metadata": {},
   "outputs": [
    {
     "data": {
      "text/plain": [
       "215"
      ]
     },
     "execution_count": 90,
     "metadata": {},
     "output_type": "execute_result"
    }
   ],
   "source": [
    "from functools import reduce   #1 import\n",
    "\n",
    "lambda summ,i : summ+i    #2 initialize\n",
    "\n",
    "lambda summ,i:summ+i,list1,200     #3 add iterator\n",
    "\n",
    "reduce(lambda summ,i:summ+i,list1,200)    #4 add reduce "
   ]
  },
  {
   "cell_type": "code",
   "execution_count": 99,
   "id": "9effe3b8-e41d-4f76-8c38-82304cc0e76c",
   "metadata": {},
   "outputs": [],
   "source": [
    "list1=[20,30,60,50,40,10]\n",
    "summ=0\n",
    "add=reduce(lambda summ,i : summ+i ,list1)"
   ]
  },
  {
   "cell_type": "code",
   "execution_count": 100,
   "id": "19cc4e17-1eeb-404f-901c-0697ada3618a",
   "metadata": {},
   "outputs": [
    {
     "data": {
      "text/plain": [
       "210"
      ]
     },
     "execution_count": 100,
     "metadata": {},
     "output_type": "execute_result"
    }
   ],
   "source": [
    "add"
   ]
  },
  {
   "cell_type": "code",
   "execution_count": 101,
   "id": "f8cc30e3-b357-4649-b83b-acc5c5bec834",
   "metadata": {},
   "outputs": [
    {
     "data": {
      "text/plain": [
       "25"
      ]
     },
     "execution_count": 101,
     "metadata": {},
     "output_type": "execute_result"
    }
   ],
   "source": [
    "square = lambda a:a*a\n",
    "square(5)"
   ]
  },
  {
   "cell_type": "code",
   "execution_count": 104,
   "id": "9728d8b3-9e1d-49e9-8652-8417b4634a54",
   "metadata": {},
   "outputs": [
    {
     "data": {
      "text/plain": [
       "30"
      ]
     },
     "execution_count": 104,
     "metadata": {},
     "output_type": "execute_result"
    }
   ],
   "source": [
    "add=lambda a,b :a+b\n",
    "add(10,20)"
   ]
  },
  {
   "cell_type": "code",
   "execution_count": 105,
   "id": "3acc2dc1-60c8-45fd-852a-8a1cd7924401",
   "metadata": {},
   "outputs": [
    {
     "data": {
      "text/plain": [
       "30.0"
      ]
     },
     "execution_count": 105,
     "metadata": {},
     "output_type": "execute_result"
    }
   ],
   "source": [
    "avg=lambda a,b,c : (a+b+c)/3\n",
    "avg(10,50,30)"
   ]
  },
  {
   "cell_type": "code",
   "execution_count": 113,
   "id": "00898157-e72b-4cfb-a7f7-6cfeb584157a",
   "metadata": {},
   "outputs": [
    {
     "data": {
      "text/plain": [
       "23.333333333333332"
      ]
     },
     "execution_count": 113,
     "metadata": {},
     "output_type": "execute_result"
    }
   ],
   "source": [
    "avg=lambda a,b,c=40:(a+b+c)/3\n",
    "avg(10,20)"
   ]
  },
  {
   "cell_type": "code",
   "execution_count": null,
   "id": "15c47e70-66f0-4537-b225-32d53efa3ca6",
   "metadata": {},
   "outputs": [],
   "source": []
  },
  {
   "cell_type": "code",
   "execution_count": 118,
   "id": "f5b8d4d6-5d2a-4e7e-b86a-8ca76796d504",
   "metadata": {},
   "outputs": [
    {
     "data": {
      "text/plain": [
       "['Hyd', 'Bengluru', 'Mumbai', 'Pune']"
      ]
     },
     "execution_count": 118,
     "metadata": {},
     "output_type": "execute_result"
    }
   ],
   "source": [
    "input=['hyd','bengluru','mumbai','pune']\n",
    "list(map(lambda i : i.capitalize(),input))"
   ]
  },
  {
   "cell_type": "code",
   "execution_count": 125,
   "id": "15c06120-6508-4bfa-afba-eff24eb99334",
   "metadata": {},
   "outputs": [
    {
     "data": {
      "text/plain": [
       "10"
      ]
     },
     "execution_count": 125,
     "metadata": {},
     "output_type": "execute_result"
    }
   ],
   "source": [
    "list1=[1,2,3,4,5,6,7,8,9,10] \n",
    "reduce(lambda i,j : i if i>j else j , list1) "
   ]
  },
  {
   "cell_type": "code",
   "execution_count": 137,
   "id": "795f6875-9089-48ac-b4ea-40f7639fb3b4",
   "metadata": {},
   "outputs": [
    {
     "data": {
      "text/plain": [
       "[2, 4, 6, 8, 10]"
      ]
     },
     "execution_count": 137,
     "metadata": {},
     "output_type": "execute_result"
    }
   ],
   "source": [
    "list1=[1,2,3,4,5,6,7,8,9,10] \n",
    "list(filter(lambda i:i%2==0 ,list1)) "
   ]
  },
  {
   "cell_type": "code",
   "execution_count": 140,
   "id": "047eaf17-3b54-4a7b-94c0-b60d9fcafd3e",
   "metadata": {},
   "outputs": [
    {
     "data": {
      "text/plain": [
       "55"
      ]
     },
     "execution_count": 140,
     "metadata": {},
     "output_type": "execute_result"
    }
   ],
   "source": [
    "reduce(lambda summ,i:summ+i,list1)"
   ]
  },
  {
   "cell_type": "code",
   "execution_count": null,
   "id": "996d2c66-7660-42a1-8bb9-14c38f81d1d8",
   "metadata": {},
   "outputs": [],
   "source": []
  }
 ],
 "metadata": {
  "kernelspec": {
   "display_name": "Python 3 (ipykernel)",
   "language": "python",
   "name": "python3"
  },
  "language_info": {
   "codemirror_mode": {
    "name": "ipython",
    "version": 3
   },
   "file_extension": ".py",
   "mimetype": "text/x-python",
   "name": "python",
   "nbconvert_exporter": "python",
   "pygments_lexer": "ipython3",
   "version": "3.12.7"
  }
 },
 "nbformat": 4,
 "nbformat_minor": 5
}
