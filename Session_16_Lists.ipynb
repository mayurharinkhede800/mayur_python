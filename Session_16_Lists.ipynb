{
 "cells": [
  {
   "cell_type": "markdown",
   "id": "8586ae39-af54-44d5-a654-b5e1363546b1",
   "metadata": {},
   "source": [
    "- **basic representaion**\n",
    "- string elements is in quotes \n",
    "- list elements is in square bracket"
   ]
  },
  {
   "cell_type": "markdown",
   "id": "e29263ad-bc33-4119-86ee-21629c48f936",
   "metadata": {},
   "source": []
  },
  {
   "cell_type": "code",
   "execution_count": 1,
   "id": "d7007675-8cc3-4d33-8971-167ccf0874e2",
   "metadata": {},
   "outputs": [
    {
     "data": {
      "text/plain": [
       "[1, 2, 3, 4]"
      ]
     },
     "execution_count": 1,
     "metadata": {},
     "output_type": "execute_result"
    }
   ],
   "source": [
    "list1 = [1,2,3,4]\n",
    "list1"
   ]
  },
  {
   "cell_type": "code",
   "execution_count": 2,
   "id": "412d281d-b4a6-4e6c-8fe5-3b4d61ce8f59",
   "metadata": {},
   "outputs": [
    {
     "name": "stdout",
     "output_type": "stream",
     "text": [
      "[1, 2, 3, 4]\n"
     ]
    }
   ],
   "source": [
    "print(list1)"
   ]
  },
  {
   "cell_type": "code",
   "execution_count": 3,
   "id": "9cc8efd7-ce84-4802-a461-8a1f56f2e556",
   "metadata": {},
   "outputs": [
    {
     "data": {
      "text/plain": [
       "list"
      ]
     },
     "execution_count": 3,
     "metadata": {},
     "output_type": "execute_result"
    }
   ],
   "source": [
    "type(list1)"
   ]
  },
  {
   "cell_type": "code",
   "execution_count": null,
   "id": "fefe75bd-80ac-424b-967f-507b1d823bf8",
   "metadata": {},
   "outputs": [],
   "source": [
    "# for strings ========== str\n"
   ]
  },
  {
   "cell_type": "code",
   "execution_count": 6,
   "id": "69c11a6b-9523-4c35-bd5d-a4f2434d60d9",
   "metadata": {},
   "outputs": [
    {
     "data": {
      "text/plain": [
       "['A', 'B', 'C']"
      ]
     },
     "execution_count": 6,
     "metadata": {},
     "output_type": "execute_result"
    }
   ],
   "source": [
    "list2 = ['A','B','C']\n",
    "list2"
   ]
  },
  {
   "cell_type": "code",
   "execution_count": 5,
   "id": "942dae98-72f9-4b5f-a384-793ed954d7c8",
   "metadata": {},
   "outputs": [
    {
     "data": {
      "text/plain": [
       "['a', 'b', 'c', 1, 2, 3]"
      ]
     },
     "execution_count": 5,
     "metadata": {},
     "output_type": "execute_result"
    }
   ],
   "source": [
    "list3= ['a','b','c',1,2,3]\n",
    "list3"
   ]
  },
  {
   "cell_type": "code",
   "execution_count": 7,
   "id": "102cc79f-07ed-40f7-9810-46fd721b4dc0",
   "metadata": {},
   "outputs": [
    {
     "data": {
      "text/plain": [
       "['python', 'java', 1, 2, 3, 4]"
      ]
     },
     "execution_count": 7,
     "metadata": {},
     "output_type": "execute_result"
    }
   ],
   "source": [
    "list4 = ['python','java',1,2,3,4]\n",
    "list4"
   ]
  },
  {
   "cell_type": "code",
   "execution_count": 9,
   "id": "722988cf-69eb-4696-84e1-25289f457828",
   "metadata": {},
   "outputs": [
    {
     "data": {
      "text/plain": [
       "[True, 'a', 1]"
      ]
     },
     "execution_count": 9,
     "metadata": {},
     "output_type": "execute_result"
    }
   ],
   "source": [
    "list5 = [True,'a',1]\n",
    "list5"
   ]
  },
  {
   "cell_type": "code",
   "execution_count": 19,
   "id": "4280f0b9-e5fe-45aa-828a-3bb4a47e9dd8",
   "metadata": {},
   "outputs": [
    {
     "name": "stdin",
     "output_type": "stream",
     "text": [
      " 8\n",
      " 5\n"
     ]
    },
    {
     "data": {
      "text/plain": [
       "[8, 1.0, 4.5, 5, True, 'a', 'A', 5.0, 5, 30j]"
      ]
     },
     "execution_count": 19,
     "metadata": {},
     "output_type": "execute_result"
    }
   ],
   "source": [
    "list6 = [eval(input()),1.0,4.5,5,True,'a','A',5.00000,eval(input()),30j]\n",
    "list6"
   ]
  },
  {
   "cell_type": "code",
   "execution_count": 21,
   "id": "4c2f944e-612b-409b-b3b6-923034f71b64",
   "metadata": {},
   "outputs": [
    {
     "data": {
      "text/plain": [
       "[10, 10, 10]"
      ]
     },
     "execution_count": 21,
     "metadata": {},
     "output_type": "execute_result"
    }
   ],
   "source": [
    "list7=[10,10,10]\n",
    "list7"
   ]
  },
  {
   "cell_type": "code",
   "execution_count": 27,
   "id": "40830f2f-f818-4ae5-9b7c-3bdacd8c6cd7",
   "metadata": {},
   "outputs": [
    {
     "data": {
      "text/plain": [
       "[[[[[[10, 10, 10]]]]]]"
      ]
     },
     "execution_count": 27,
     "metadata": {},
     "output_type": "execute_result"
    }
   ],
   "source": [
    "l8=[_]\n",
    "l8"
   ]
  },
  {
   "cell_type": "code",
   "execution_count": 38,
   "id": "1c0ffd25-bf9d-408f-9b86-3ced1e3b6252",
   "metadata": {},
   "outputs": [],
   "source": [
    "list1 = [10,20,2,5,75]\n",
    "list2=['apple','Apple','Cherry','Banana']\n",
    "list3 = [10,20,2,5,75,'Apple','apple','cherry','banana']"
   ]
  },
  {
   "cell_type": "code",
   "execution_count": 31,
   "id": "608ef314-b23a-4889-9e05-7fb2ce780332",
   "metadata": {},
   "outputs": [
    {
     "name": "stdout",
     "output_type": "stream",
     "text": [
      "4\n",
      "3\n",
      "6\n"
     ]
    }
   ],
   "source": [
    "print(len(list1))\n",
    "print(len(list2))\n",
    "print(len(list3))"
   ]
  },
  {
   "cell_type": "code",
   "execution_count": 39,
   "id": "eb255bd7-fb6b-4bdf-a659-a400f5166872",
   "metadata": {},
   "outputs": [
    {
     "name": "stdout",
     "output_type": "stream",
     "text": [
      "75\n",
      "apple\n"
     ]
    }
   ],
   "source": [
    "print(max(list1))\n",
    "print(max(list2))\n",
    "# print(max(list3))  #'>' not supported between instances of 'int' and 'str'"
   ]
  },
  {
   "cell_type": "code",
   "execution_count": 41,
   "id": "1fb96cf5-42eb-4989-bae7-903c6eef7f93",
   "metadata": {},
   "outputs": [
    {
     "name": "stdout",
     "output_type": "stream",
     "text": [
      "2\n",
      "Apple\n"
     ]
    }
   ],
   "source": [
    "print(min(list1))\n",
    "print(min(list2))\n",
    "# print(min(list3))  '<' not supported between instances of 'str' and 'int'"
   ]
  },
  {
   "cell_type": "code",
   "execution_count": 55,
   "id": "473044a6-4b92-409f-abd1-5e7df08a0a31",
   "metadata": {},
   "outputs": [
    {
     "data": {
      "text/plain": [
       "112"
      ]
     },
     "execution_count": 55,
     "metadata": {},
     "output_type": "execute_result"
    }
   ],
   "source": [
    "sum(list1)\n",
    "# sum(list2)\n",
    "# sum(list3)"
   ]
  },
  {
   "cell_type": "code",
   "execution_count": 45,
   "id": "52c457ee-ed92-45e2-9021-e11f9645144f",
   "metadata": {},
   "outputs": [
    {
     "name": "stdout",
     "output_type": "stream",
     "text": [
      "[2, 5, 10, 20, 75]\n",
      "['Apple', 'Banana', 'Cherry', 'apple']\n"
     ]
    }
   ],
   "source": [
    "print(sorted(list1))\n",
    "print(sorted(list2))\n",
    "# print(sorted(list3)) '<' not supported between instances of 'str' and 'int'"
   ]
  },
  {
   "cell_type": "code",
   "execution_count": 58,
   "id": "7374f0fa-8242-41c0-a17a-66488689c6cd",
   "metadata": {},
   "outputs": [
    {
     "name": "stdout",
     "output_type": "stream",
     "text": [
      "75 5 2 20 10 Banana\n",
      "Cherry\n",
      "Apple\n",
      "apple\n",
      "banana cherry apple Apple 75 5 2 20 10 "
     ]
    }
   ],
   "source": [
    "reversed(list1)\n",
    "reversed(list2)\n",
    "reversed(list3)\n",
    "for i in reversed(list1):\n",
    "    print(i,end=' ')\n",
    "for i in reversed(list2):\n",
    "    print(i,sep=' ')\n",
    "for i in reversed(list3):\n",
    "    print(i,end=' ')"
   ]
  },
  {
   "cell_type": "code",
   "execution_count": 56,
   "id": "eff113d7-0f7b-4739-b43a-78acbfa93d76",
   "metadata": {},
   "outputs": [
    {
     "data": {
      "text/plain": [
       "[75, 5, 2, 20, 10]"
      ]
     },
     "execution_count": 56,
     "metadata": {},
     "output_type": "execute_result"
    }
   ],
   "source": [
    "list(reversed(list1))"
   ]
  },
  {
   "cell_type": "code",
   "execution_count": null,
   "id": "ef6273bf-c5d3-4d04-a166-0336ff862d21",
   "metadata": {},
   "outputs": [],
   "source": [
    "# 1)# in the interview sort the list without sorted function\n",
    "\n",
    "# 2) find the maximum value without max function\n",
    "\n",
    "# 3) find the minimum value without min function\n",
    "\n",
    "# 4)reverse the element without reversed function\n",
    "\n",
    "# 5)sum the elements with out using function\n",
    "\n",
    "# 6) find second max and second min"
   ]
  },
  {
   "cell_type": "markdown",
   "id": "89e9c083-1e07-4e16-b5a5-2c0ec8b71293",
   "metadata": {},
   "source": [
    "**concatination**"
   ]
  },
  {
   "cell_type": "code",
   "execution_count": 60,
   "id": "8ad06200-5a99-4c20-b9aa-a34542d8d8b2",
   "metadata": {},
   "outputs": [
    {
     "data": {
      "text/plain": [
       "[1, 2, 3, 4, 'A', 'B', 'C', 'D']"
      ]
     },
     "execution_count": 60,
     "metadata": {},
     "output_type": "execute_result"
    }
   ],
   "source": [
    "list1=[1,2,3,4]\n",
    "list2=['A','B','C','D']\n",
    "\n",
    "list1 + list2"
   ]
  },
  {
   "cell_type": "code",
   "execution_count": 67,
   "id": "470e755d-d92b-4c66-a3fc-ec914c38da7b",
   "metadata": {},
   "outputs": [
    {
     "ename": "TypeError",
     "evalue": "can't multiply sequence by non-int of type 'list'",
     "output_type": "error",
     "traceback": [
      "\u001b[1;31m---------------------------------------------------------------------------\u001b[0m",
      "\u001b[1;31mTypeError\u001b[0m                                 Traceback (most recent call last)",
      "Cell \u001b[1;32mIn[67], line 1\u001b[0m\n\u001b[1;32m----> 1\u001b[0m list1\u001b[38;5;241m*\u001b[39mlist2\n",
      "\u001b[1;31mTypeError\u001b[0m: can't multiply sequence by non-int of type 'list'"
     ]
    }
   ],
   "source": [
    "list1*list2"
   ]
  },
  {
   "cell_type": "code",
   "execution_count": 66,
   "id": "0276961b-1461-4275-ac85-ff0ac3275a37",
   "metadata": {},
   "outputs": [
    {
     "ename": "TypeError",
     "evalue": "unsupported operand type(s) for /: 'list' and 'list'",
     "output_type": "error",
     "traceback": [
      "\u001b[1;31m---------------------------------------------------------------------------\u001b[0m",
      "\u001b[1;31mTypeError\u001b[0m                                 Traceback (most recent call last)",
      "Cell \u001b[1;32mIn[66], line 1\u001b[0m\n\u001b[1;32m----> 1\u001b[0m list1\u001b[38;5;241m/\u001b[39mlist2\n",
      "\u001b[1;31mTypeError\u001b[0m: unsupported operand type(s) for /: 'list' and 'list'"
     ]
    }
   ],
   "source": [
    "list1/list2"
   ]
  },
  {
   "cell_type": "code",
   "execution_count": 69,
   "id": "de82cb28-7d48-4e6f-aa00-dfff51f414c8",
   "metadata": {},
   "outputs": [
    {
     "data": {
      "text/plain": [
       "[1, 2, 3, 4, 1, 2, 3, 4, 1, 2, 3, 4]"
      ]
     },
     "execution_count": 69,
     "metadata": {},
     "output_type": "execute_result"
    }
   ],
   "source": [
    "list1*3"
   ]
  },
  {
   "cell_type": "code",
   "execution_count": 71,
   "id": "11283988-68e1-4026-90a9-da2034f46126",
   "metadata": {},
   "outputs": [
    {
     "ename": "TypeError",
     "evalue": "can't multiply sequence by non-int of type 'list'",
     "output_type": "error",
     "traceback": [
      "\u001b[1;31m---------------------------------------------------------------------------\u001b[0m",
      "\u001b[1;31mTypeError\u001b[0m                                 Traceback (most recent call last)",
      "Cell \u001b[1;32mIn[71], line 1\u001b[0m\n\u001b[1;32m----> 1\u001b[0m list1\u001b[38;5;241m*\u001b[39mlist1\n",
      "\u001b[1;31mTypeError\u001b[0m: can't multiply sequence by non-int of type 'list'"
     ]
    }
   ],
   "source": [
    "list1*list1"
   ]
  },
  {
   "cell_type": "code",
   "execution_count": 73,
   "id": "73747b63-41a3-46bc-90c9-80a43b27f132",
   "metadata": {},
   "outputs": [
    {
     "ename": "TypeError",
     "evalue": "unsupported operand type(s) for -: 'list' and 'list'",
     "output_type": "error",
     "traceback": [
      "\u001b[1;31m---------------------------------------------------------------------------\u001b[0m",
      "\u001b[1;31mTypeError\u001b[0m                                 Traceback (most recent call last)",
      "Cell \u001b[1;32mIn[73], line 1\u001b[0m\n\u001b[1;32m----> 1\u001b[0m list1\u001b[38;5;241m-\u001b[39mlist1\n",
      "\u001b[1;31mTypeError\u001b[0m: unsupported operand type(s) for -: 'list' and 'list'"
     ]
    }
   ],
   "source": [
    "list1-list1"
   ]
  },
  {
   "cell_type": "code",
   "execution_count": 74,
   "id": "1dd37a03-045d-411e-927c-70ce7401e0de",
   "metadata": {},
   "outputs": [
    {
     "ename": "TypeError",
     "evalue": "unsupported operand type(s) for /: 'list' and 'list'",
     "output_type": "error",
     "traceback": [
      "\u001b[1;31m---------------------------------------------------------------------------\u001b[0m",
      "\u001b[1;31mTypeError\u001b[0m                                 Traceback (most recent call last)",
      "Cell \u001b[1;32mIn[74], line 1\u001b[0m\n\u001b[1;32m----> 1\u001b[0m list1\u001b[38;5;241m/\u001b[39mlist1\n",
      "\u001b[1;31mTypeError\u001b[0m: unsupported operand type(s) for /: 'list' and 'list'"
     ]
    }
   ],
   "source": [
    "list1/list1"
   ]
  },
  {
   "cell_type": "markdown",
   "id": "5c2aff8f-bad6-428e-af81-917c42ebb1cd",
   "metadata": {},
   "source": [
    "# **index**"
   ]
  },
  {
   "cell_type": "code",
   "execution_count": 281,
   "id": "0d5709f5-1e3a-48df-b669-eb85fad642cf",
   "metadata": {},
   "outputs": [],
   "source": [
    "list1=[10,20,30,'A','B','C']\n",
    "\n",
    "# -6  -5  -4     -3   -2   -1\n",
    "# 0   1    2     3    4     5   \n",
    "# 10  20   30    40   50    60 "
   ]
  },
  {
   "cell_type": "code",
   "execution_count": 221,
   "id": "925863f9-de41-4901-8194-e49e41838574",
   "metadata": {},
   "outputs": [
    {
     "data": {
      "text/plain": [
       "10"
      ]
     },
     "execution_count": 221,
     "metadata": {},
     "output_type": "execute_result"
    }
   ],
   "source": [
    "list1[-0]"
   ]
  },
  {
   "cell_type": "code",
   "execution_count": 222,
   "id": "26e055f7-f9ff-47db-bbfc-902bd1fb0464",
   "metadata": {},
   "outputs": [
    {
     "name": "stdout",
     "output_type": "stream",
     "text": [
      "positive of index  0 and negative -6 of 10\n",
      "positive of index  1 and negative -5 of 20\n",
      "positive of index  2 and negative -4 of 30\n",
      "positive of index  3 and negative -3 of A\n",
      "positive of index  4 and negative -2 of B\n",
      "positive of index  5 and negative -1 of C\n"
     ]
    }
   ],
   "source": [
    "length = len(list1)\n",
    "for i in range(length):  # use len and caluate the length of list\n",
    "    print(f'positive of index  {i} and negative {i-length} of {list1[i]}')"
   ]
  },
  {
   "cell_type": "code",
   "execution_count": null,
   "id": "b37ce67f-4dc4-4713-a502-3898f99ed516",
   "metadata": {},
   "outputs": [],
   "source": []
  },
  {
   "cell_type": "code",
   "execution_count": 218,
   "id": "48c03546-4c0b-43dc-950b-50d029a270c7",
   "metadata": {},
   "outputs": [
    {
     "name": "stdout",
     "output_type": "stream",
     "text": [
      "0 -6\n",
      "1 -5\n",
      "2 -4\n",
      "3 -3\n",
      "4 -2\n",
      "5 -1\n"
     ]
    }
   ],
   "source": [
    "for i in range(0,6):\n",
    "    print(i,i-6)  # second way to print output "
   ]
  },
  {
   "cell_type": "code",
   "execution_count": 100,
   "id": "6acd0f98-0984-4172-b2f6-1814dce25d56",
   "metadata": {},
   "outputs": [
    {
     "data": {
      "text/plain": [
       "[10, 20]"
      ]
     },
     "execution_count": 100,
     "metadata": {},
     "output_type": "execute_result"
    }
   ],
   "source": [
    "list1=[10,20]\n",
    "list2 = [[10,20]]\n",
    "list1"
   ]
  },
  {
   "cell_type": "code",
   "execution_count": 106,
   "id": "08e77128-1e4f-48b3-9e19-6b03284f6c6a",
   "metadata": {},
   "outputs": [
    {
     "name": "stdout",
     "output_type": "stream",
     "text": [
      "[[10, 20]]\n"
     ]
    },
    {
     "data": {
      "text/plain": [
       "20"
      ]
     },
     "execution_count": 106,
     "metadata": {},
     "output_type": "execute_result"
    }
   ],
   "source": [
    "print(list2)\n",
    "list2[0][1]"
   ]
  },
  {
   "cell_type": "code",
   "execution_count": 112,
   "id": "f8c8a972-4638-4626-9081-5da0743f1ea6",
   "metadata": {},
   "outputs": [
    {
     "data": {
      "text/plain": [
       "[20]"
      ]
     },
     "execution_count": 112,
     "metadata": {},
     "output_type": "execute_result"
    }
   ],
   "source": [
    "list1=[10,[20]]  # accesss the 20\n",
    "list1[1]"
   ]
  },
  {
   "cell_type": "code",
   "execution_count": 113,
   "id": "42ec9102-0237-4122-8f5b-f6ea89d6d7bc",
   "metadata": {},
   "outputs": [
    {
     "data": {
      "text/plain": [
       "20"
      ]
     },
     "execution_count": 113,
     "metadata": {},
     "output_type": "execute_result"
    }
   ],
   "source": [
    "list1[1][0]"
   ]
  },
  {
   "cell_type": "code",
   "execution_count": 116,
   "id": "c4058c34-6773-43f4-8977-207759d6fcd2",
   "metadata": {},
   "outputs": [
    {
     "data": {
      "text/plain": [
       "'cherry'"
      ]
     },
     "execution_count": 116,
     "metadata": {},
     "output_type": "execute_result"
    }
   ],
   "source": [
    "list1 =[10,20,30,'a',['banana','cherry']] # access cherry\n",
    "\n",
    "list1[4][1]"
   ]
  },
  {
   "cell_type": "code",
   "execution_count": 136,
   "id": "62600b84-b67a-4f2d-8214-e30fa1d97f70",
   "metadata": {},
   "outputs": [
    {
     "data": {
      "text/plain": [
       "'dragon fruuit'"
      ]
     },
     "execution_count": 136,
     "metadata": {},
     "output_type": "execute_result"
    }
   ],
   "source": [
    "list1 = ['A',['APPLE','B',['BANANA','C',['CHERRY','D',['dragon fruuit']]]]]\n",
    "list1[1][2][2][2][0]"
   ]
  },
  {
   "cell_type": "code",
   "execution_count": 141,
   "id": "883d9598-05ef-4740-b94f-330a53a67b6d",
   "metadata": {},
   "outputs": [
    {
     "data": {
      "text/plain": [
       "2"
      ]
     },
     "execution_count": 141,
     "metadata": {},
     "output_type": "execute_result"
    }
   ],
   "source": [
    "list1=['Apple',['kasmir',['India',['Cricket',['bat']]]]]\n",
    "len(list1[1])"
   ]
  },
  {
   "cell_type": "code",
   "execution_count": 146,
   "id": "3e220a9e-52b7-4cb9-93a0-4bf5a9df3b40",
   "metadata": {},
   "outputs": [
    {
     "data": {
      "text/plain": [
       "'bat'"
      ]
     },
     "execution_count": 146,
     "metadata": {},
     "output_type": "execute_result"
    }
   ],
   "source": [
    "list1[1][1][1][1][0]"
   ]
  },
  {
   "cell_type": "code",
   "execution_count": 159,
   "id": "3ffc67b9-91ed-4dca-bdba-577f8fc20d8e",
   "metadata": {},
   "outputs": [
    {
     "data": {
      "text/plain": [
       "['vicky']"
      ]
     },
     "execution_count": 159,
     "metadata": {},
     "output_type": "execute_result"
    }
   ],
   "source": [
    "list1 = ['orange',['nagpur',['maharstra','shivajiraje',['sambhajiraje',['vicky']]]]]\n",
    "list1[1][1][2][1]"
   ]
  },
  {
   "cell_type": "code",
   "execution_count": 160,
   "id": "543d0f04-1efb-49e4-9fd6-c34700ef0aa9",
   "metadata": {},
   "outputs": [],
   "source": [
    "list1=[[[[[[['apple']]]]]]]"
   ]
  },
  {
   "cell_type": "code",
   "execution_count": 162,
   "id": "e098f987-9479-4185-854b-b40adfc4fe62",
   "metadata": {},
   "outputs": [
    {
     "data": {
      "text/plain": [
       "'apple'"
      ]
     },
     "execution_count": 162,
     "metadata": {},
     "output_type": "execute_result"
    }
   ],
   "source": [
    "list1[0][0][0][0][0][0][0]"
   ]
  },
  {
   "cell_type": "code",
   "execution_count": 205,
   "id": "b1c0428c-5e00-4c50-bada-99d778bbaf61",
   "metadata": {},
   "outputs": [
    {
     "data": {
      "text/plain": [
       "'d'"
      ]
     },
     "execution_count": 205,
     "metadata": {},
     "output_type": "execute_result"
    }
   ],
   "source": [
    "list1 = ['A',['APPLE','B',['BANANA','C',['CHERRY','D',['dragon fruuit']]]]]\n",
    "list1[1][2][2][2][0][0]"
   ]
  },
  {
   "cell_type": "code",
   "execution_count": 219,
   "id": "90d2c243-d2c2-458c-80d9-b1b4d2283813",
   "metadata": {},
   "outputs": [
    {
     "data": {
      "text/plain": [
       "'orange'"
      ]
     },
     "execution_count": 219,
     "metadata": {},
     "output_type": "execute_result"
    }
   ],
   "source": [
    "li = [['apple',['mango'],'orange']]\n",
    "len(li)\n",
    "li[0][2]"
   ]
  },
  {
   "cell_type": "code",
   "execution_count": null,
   "id": "e8163566-100e-4a07-b705-305d6863c104",
   "metadata": {},
   "outputs": [],
   "source": [
    "# 1)in the interview sort the list without sorted function\n",
    "\n",
    "# 2) find the maximum value without max function\n",
    "\n",
    "# 3) find the minimum value without min function\n",
    "\n",
    "# 4)reverse the element without reversed function\n",
    "\n",
    "# 5)sum the elements with out using function\n",
    "\n",
    "# 6) find second max and second min"
   ]
  },
  {
   "cell_type": "code",
   "execution_count": null,
   "id": "3d2c2ae3-4f70-4183-b936-b67a8485ae4d",
   "metadata": {},
   "outputs": [],
   "source": []
  },
  {
   "cell_type": "code",
   "execution_count": 20,
   "id": "af0cbc42-7b84-4b6c-906e-7372be0f253f",
   "metadata": {},
   "outputs": [
    {
     "name": "stdout",
     "output_type": "stream",
     "text": [
      "[5, 14, 36, 41, 52, 100]\n"
     ]
    }
   ],
   "source": [
    "# 1)in the interview sort the list without sorted function\n",
    "list1 = [100,5,41,14,52,36]\n",
    "n = len(list1)\n",
    "for i in range(n):\n",
    "    for j in range(n):\n",
    "        if list1[i]<list1[j]:\n",
    "            list1[i],list1[j]=list1[j],list1[i]\n",
    "print(list1)"
   ]
  },
  {
   "cell_type": "code",
   "execution_count": 65,
   "id": "719bfa62-c560-4e7e-a4a6-5ed330ae80ec",
   "metadata": {},
   "outputs": [
    {
     "name": "stdout",
     "output_type": "stream",
     "text": [
      "52\n",
      "2\n"
     ]
    }
   ],
   "source": [
    "# 2) find the maximum value without max function\n",
    "list1 = [2,5,41,14,52,36]\n",
    "n = len(list1)\n",
    "maxx = list1[0]\n",
    "minn = list1[0]\n",
    "for i in range(n):\n",
    "    if list1[i] > maxx:\n",
    "        maxx = list1[i]\n",
    "    elif list1[i] < minn:\n",
    "        minn=list1[i]\n",
    "print(maxx)\n",
    "print(minn)"
   ]
  },
  {
   "cell_type": "code",
   "execution_count": 69,
   "id": "485b5fd9-0386-4352-8363-96c01724a1c6",
   "metadata": {},
   "outputs": [
    {
     "name": "stdout",
     "output_type": "stream",
     "text": [
      "52\n"
     ]
    }
   ],
   "source": [
    "list1 = [2,5,41,14,52,36]\n",
    "n = len(list1)\n",
    "maxx = list1[0]\n",
    "minn = list1[0]\n",
    "for i in range(n):\n",
    "    if list1[i] > maxx:\n",
    "        maxx = list1[i]\n",
    "print(maxx)"
   ]
  },
  {
   "cell_type": "code",
   "execution_count": 72,
   "id": "58221892-6891-4215-a612-6d9bb894f03d",
   "metadata": {},
   "outputs": [
    {
     "name": "stdout",
     "output_type": "stream",
     "text": [
      "2\n"
     ]
    }
   ],
   "source": [
    "list1 = [2,5,41,14,52,36]\n",
    "n = len(list1)\n",
    "maxx = list1[0]\n",
    "minn = list1[0]\n",
    "for i in range(n):\n",
    "    if list1[i] < minn:\n",
    "        minn = list1[i]\n",
    "print(minn)"
   ]
  },
  {
   "cell_type": "code",
   "execution_count": 100,
   "id": "323464ba-30d3-49f6-9c5c-63fb4ed8e791",
   "metadata": {},
   "outputs": [
    {
     "name": "stdout",
     "output_type": "stream",
     "text": [
      "[36, 52, 14, 41, 5, 2]\n"
     ]
    }
   ],
   "source": [
    "# 4)reverse the element without reversed function\n",
    "list1 = [2,5,41,14,52,36]\n",
    "n = len(list1)\n",
    "for i in range(len(list1)//2):\n",
    "    list1[i],list1[len(list1)-1-i]=list1[len(list1)-1-i],list1[i]\n",
    "print(list1)"
   ]
  },
  {
   "cell_type": "code",
   "execution_count": 167,
   "id": "d9f87edc-5278-4a7d-a23f-2ad8875ab5e0",
   "metadata": {},
   "outputs": [
    {
     "name": "stdout",
     "output_type": "stream",
     "text": [
      "[9, 36, 52, 14, 41, 5, 2]\n"
     ]
    }
   ],
   "source": [
    "list1 = [2,5,41,14,52,36,9]\n",
    "for i in list1:\n",
    "    new = list1[-1:-8:-1]\n",
    "print(new)"
   ]
  },
  {
   "cell_type": "code",
   "execution_count": 123,
   "id": "a4e3a695-7755-4d55-8864-afb1167be05e",
   "metadata": {},
   "outputs": [
    {
     "name": "stdout",
     "output_type": "stream",
     "text": [
      "150\n"
     ]
    }
   ],
   "source": [
    "# 5)sum the elements with out using function\n",
    "list1 = [2,5,41,14,52,36]\n",
    "summ = 0\n",
    "for i in list1:\n",
    "    summ = summ + i\n",
    "print(summ)\n",
    "        "
   ]
  },
  {
   "cell_type": "code",
   "execution_count": 3,
   "id": "eb5c9284-b72f-41f5-9e04-cbbffb716df6",
   "metadata": {},
   "outputs": [
    {
     "name": "stdout",
     "output_type": "stream",
     "text": [
      "2\n",
      "2\n"
     ]
    },
    {
     "ename": "NameError",
     "evalue": "name 'second_maxx' is not defined",
     "output_type": "error",
     "traceback": [
      "\u001b[1;31m---------------------------------------------------------------------------\u001b[0m",
      "\u001b[1;31mNameError\u001b[0m                                 Traceback (most recent call last)",
      "Cell \u001b[1;32mIn[3], line 15\u001b[0m\n\u001b[0;32m     13\u001b[0m             second_min \u001b[38;5;241m=\u001b[39m a[i]\n\u001b[0;32m     14\u001b[0m \u001b[38;5;28mprint\u001b[39m(second_min)\n\u001b[1;32m---> 15\u001b[0m \u001b[38;5;28mprint\u001b[39m(second_maxx)\n",
      "\u001b[1;31mNameError\u001b[0m: name 'second_maxx' is not defined"
     ]
    }
   ],
   "source": [
    "a=[10,20,30,40,5,2]\n",
    "n = len(a)\n",
    "for i in range(n):\n",
    "    for j in range(n):\n",
    "        maxx = a[i]\n",
    "        if a[i]<a[j]:\n",
    "            maxx=a[j]\n",
    "second_min=maxx\n",
    "print(second_min)\n",
    "for i in range(n):\n",
    "    for j in range(n):\n",
    "        if a[i]>a[j] and a[i] <second_min:\n",
    "            second_min = a[i]\n",
    "print(second_min)\n",
    "print(second_maxx)"
   ]
  },
  {
   "cell_type": "code",
   "execution_count": 2,
   "id": "b8be60b1-5a32-4dc5-b9ef-7dc06ca9367a",
   "metadata": {},
   "outputs": [
    {
     "ename": "IndexError",
     "evalue": "list index out of range",
     "output_type": "error",
     "traceback": [
      "\u001b[1;31m---------------------------------------------------------------------------\u001b[0m",
      "\u001b[1;31mIndexError\u001b[0m                                Traceback (most recent call last)",
      "Cell \u001b[1;32mIn[2], line 3\u001b[0m\n\u001b[0;32m      1\u001b[0m a\u001b[38;5;241m=\u001b[39m[\u001b[38;5;241m10\u001b[39m,\u001b[38;5;241m20\u001b[39m,\u001b[38;5;241m30\u001b[39m,\u001b[38;5;241m40\u001b[39m]\n\u001b[0;32m      2\u001b[0m n \u001b[38;5;241m=\u001b[39m \u001b[38;5;28mlen\u001b[39m(a)\n\u001b[1;32m----> 3\u001b[0m minn \u001b[38;5;241m=\u001b[39m a[i]\n\u001b[0;32m      4\u001b[0m \u001b[38;5;28;01mfor\u001b[39;00m i \u001b[38;5;129;01min\u001b[39;00m \u001b[38;5;28mrange\u001b[39m(n):\n\u001b[0;32m      5\u001b[0m     \u001b[38;5;28;01mif\u001b[39;00m a[i] \u001b[38;5;241m<\u001b[39mminn:\n",
      "\u001b[1;31mIndexError\u001b[0m: list index out of range"
     ]
    }
   ],
   "source": [
    "a=[10,20,30,40]\n",
    "n = len(a)\n",
    "minn = a[i]\n",
    "for i in range(n):\n",
    "    if a[i] <minn:\n",
    "        minn= a[i]\n",
    "second_maxx=minn\n",
    "for i in range(n):\n",
    "    for i in range(n):\n",
    "        if a[i]<a[j] and a[i] >second_maxx:\n",
    "            second_maxx = a[i]\n",
    "print(second_maxx)"
   ]
  },
  {
   "cell_type": "code",
   "execution_count": 187,
   "id": "b4027789-5cc9-4ea1-817e-00233a5c5508",
   "metadata": {},
   "outputs": [
    {
     "data": {
      "text/plain": [
       "[10, 20, 30, 40, 50]"
      ]
     },
     "execution_count": 187,
     "metadata": {},
     "output_type": "execute_result"
    }
   ],
   "source": [
    "list1 = [10,20,30,40,50]\n",
    "list1"
   ]
  },
  {
   "cell_type": "code",
   "execution_count": 188,
   "id": "6b30bda1-12e4-47b0-a5c3-06179107e5cc",
   "metadata": {},
   "outputs": [
    {
     "name": "stdout",
     "output_type": "stream",
     "text": [
      "[10, 20, 30, 40, 50]\n"
     ]
    }
   ],
   "source": [
    "print(list1)"
   ]
  },
  {
   "cell_type": "code",
   "execution_count": 189,
   "id": "00d79d8e-ee50-4265-b5e1-3940f6bb53c1",
   "metadata": {},
   "outputs": [
    {
     "data": {
      "text/plain": [
       "list"
      ]
     },
     "execution_count": 189,
     "metadata": {},
     "output_type": "execute_result"
    }
   ],
   "source": [
    "type(list1)"
   ]
  },
  {
   "cell_type": "code",
   "execution_count": 190,
   "id": "bf18f14c-8f91-4045-a9ee-30dd1a4ad974",
   "metadata": {},
   "outputs": [
    {
     "data": {
      "text/plain": [
       "10"
      ]
     },
     "execution_count": 190,
     "metadata": {},
     "output_type": "execute_result"
    }
   ],
   "source": [
    "min(list1)"
   ]
  },
  {
   "cell_type": "code",
   "execution_count": 191,
   "id": "c15ac399-5f14-4c63-88b3-a1a66b15bb9f",
   "metadata": {},
   "outputs": [
    {
     "data": {
      "text/plain": [
       "50"
      ]
     },
     "execution_count": 191,
     "metadata": {},
     "output_type": "execute_result"
    }
   ],
   "source": [
    "max(list1)"
   ]
  },
  {
   "cell_type": "code",
   "execution_count": 192,
   "id": "5f6c3bd7-934e-42ba-aee1-1394ad86ff2a",
   "metadata": {},
   "outputs": [
    {
     "data": {
      "text/plain": [
       "150"
      ]
     },
     "execution_count": 192,
     "metadata": {},
     "output_type": "execute_result"
    }
   ],
   "source": [
    "sum(list1)"
   ]
  },
  {
   "cell_type": "code",
   "execution_count": 193,
   "id": "9f696c77-7348-40e0-bd76-f5406360523f",
   "metadata": {},
   "outputs": [],
   "source": [
    "list1=['apple','mango','banana']"
   ]
  },
  {
   "cell_type": "code",
   "execution_count": 194,
   "id": "00df0291-a74d-4051-8b66-2b4b6ef96572",
   "metadata": {},
   "outputs": [
    {
     "data": {
      "text/plain": [
       "['apple', 'mango', 'banana']"
      ]
     },
     "execution_count": 194,
     "metadata": {},
     "output_type": "execute_result"
    }
   ],
   "source": [
    "list1"
   ]
  },
  {
   "cell_type": "code",
   "execution_count": 198,
   "id": "5eb91483-342f-4893-98e8-a2f4ea4c0365",
   "metadata": {},
   "outputs": [
    {
     "ename": "NameError",
     "evalue": "name 'str1' is not defined",
     "output_type": "error",
     "traceback": [
      "\u001b[1;31m---------------------------------------------------------------------------\u001b[0m",
      "\u001b[1;31mNameError\u001b[0m                                 Traceback (most recent call last)",
      "Cell \u001b[1;32mIn[198], line 15\u001b[0m\n\u001b[0;32m      1\u001b[0m \u001b[38;5;28mdir\u001b[39m(\u001b[38;5;28mlist\u001b[39m)\n\u001b[0;32m      2\u001b[0m \u001b[38;5;124;03m'''\u001b[39;00m\n\u001b[0;32m      3\u001b[0m \u001b[38;5;124;03mappend',\u001b[39;00m\n\u001b[0;32m      4\u001b[0m \u001b[38;5;124;03m 'clear',\u001b[39;00m\n\u001b[1;32m   (...)\u001b[0m\n\u001b[0;32m     13\u001b[0m \u001b[38;5;124;03m 'sort']\u001b[39;00m\n\u001b[0;32m     14\u001b[0m \u001b[38;5;124;03m '''\u001b[39;00m\n\u001b[1;32m---> 15\u001b[0m str1\u001b[38;5;241m.\u001b[39mapppend(\u001b[38;5;124m'\u001b[39m\u001b[38;5;124mdragonFruit\u001b[39m\u001b[38;5;124m'\u001b[39m)\n",
      "\u001b[1;31mNameError\u001b[0m: name 'str1' is not defined"
     ]
    }
   ],
   "source": [
    "dir(list)\n",
    "'''\n",
    "append',\n",
    " 'clear',\n",
    " 'copy',\n",
    " 'count',\n",
    " 'extend',\n",
    " 'index',\n",
    " 'insert',\n",
    " 'pop',\n",
    " 'remove',\n",
    " 'reverse',\n",
    " 'sort']\n",
    " '''\n"
   ]
  },
  {
   "cell_type": "code",
   "execution_count": 204,
   "id": "12321112-da96-4d0b-9feb-91d37ec8b0fe",
   "metadata": {},
   "outputs": [],
   "source": [
    "str1=['banana']\n",
    "str1.append('dragonFruit')"
   ]
  },
  {
   "cell_type": "code",
   "execution_count": 205,
   "id": "71a308d7-1334-458f-9b77-829ebce918b1",
   "metadata": {},
   "outputs": [
    {
     "data": {
      "text/plain": [
       "['banana', 'dragonFruit']"
      ]
     },
     "execution_count": 205,
     "metadata": {},
     "output_type": "execute_result"
    }
   ],
   "source": [
    "str1"
   ]
  },
  {
   "cell_type": "code",
   "execution_count": 206,
   "id": "a2a1fb44-5136-4c28-8351-5d8a1a794b64",
   "metadata": {},
   "outputs": [],
   "source": [
    "str1.clear()"
   ]
  },
  {
   "cell_type": "code",
   "execution_count": 211,
   "id": "d54f4955-9457-4521-83f2-a1ec74e8b6ec",
   "metadata": {},
   "outputs": [],
   "source": [
    "str1.append('banana')"
   ]
  },
  {
   "cell_type": "code",
   "execution_count": 212,
   "id": "5a732889-fc0c-4ecb-b1c7-dd73c868f034",
   "metadata": {},
   "outputs": [
    {
     "data": {
      "text/plain": [
       "['banana', 'banana', 'banana']"
      ]
     },
     "execution_count": 212,
     "metadata": {},
     "output_type": "execute_result"
    }
   ],
   "source": [
    "str1"
   ]
  },
  {
   "cell_type": "code",
   "execution_count": 215,
   "id": "c25fec2a-209a-47f8-8912-2c276b42ef7e",
   "metadata": {},
   "outputs": [
    {
     "data": {
      "text/plain": [
       "['banana', 'banana', 'banana']"
      ]
     },
     "execution_count": 215,
     "metadata": {},
     "output_type": "execute_result"
    }
   ],
   "source": [
    "str2 =str1.copy()\n",
    "str2"
   ]
  },
  {
   "cell_type": "code",
   "execution_count": 216,
   "id": "a791a312-824d-4b03-8f1c-1ba2df02683c",
   "metadata": {},
   "outputs": [],
   "source": [
    "str2.append('dragon')"
   ]
  },
  {
   "cell_type": "code",
   "execution_count": 217,
   "id": "2eba7916-128b-47bd-89db-9941b08d126f",
   "metadata": {},
   "outputs": [
    {
     "data": {
      "text/plain": [
       "['banana', 'banana', 'banana', 'dragon']"
      ]
     },
     "execution_count": 217,
     "metadata": {},
     "output_type": "execute_result"
    }
   ],
   "source": [
    "str2"
   ]
  },
  {
   "cell_type": "code",
   "execution_count": 225,
   "id": "ad1aab65-30b8-416d-a742-8dd3e6b13186",
   "metadata": {},
   "outputs": [],
   "source": [
    "str2.extend('dragon')"
   ]
  },
  {
   "cell_type": "code",
   "execution_count": 227,
   "id": "65552dd8-3389-4107-aa85-42bf94e3f088",
   "metadata": {},
   "outputs": [
    {
     "name": "stdout",
     "output_type": "stream",
     "text": [
      "['banana', 'banana', 'banana', 'dragon', 'b', 'a', 'n', 'a', 'n', 'a', 'd', 'r', 'a', 'g', 'o', 'n']"
     ]
    }
   ],
   "source": [
    "print(str2,end='')"
   ]
  },
  {
   "cell_type": "code",
   "execution_count": 228,
   "id": "7d12a7fd-aae0-4e17-9452-0ed9696880f5",
   "metadata": {},
   "outputs": [
    {
     "data": {
      "text/plain": [
       "3"
      ]
     },
     "execution_count": 228,
     "metadata": {},
     "output_type": "execute_result"
    }
   ],
   "source": [
    "str2.index('dragon')"
   ]
  },
  {
   "cell_type": "code",
   "execution_count": 230,
   "id": "1e1a2b53-f511-4a93-996f-f6d6e2b879dd",
   "metadata": {},
   "outputs": [],
   "source": [
    "str2.insert(2,'pineApple')"
   ]
  },
  {
   "cell_type": "code",
   "execution_count": 231,
   "id": "a56b3f44-c3a6-4bc9-8ab7-498bfafc7364",
   "metadata": {},
   "outputs": [
    {
     "data": {
      "text/plain": [
       "['banana',\n",
       " 'banana',\n",
       " 'pineApple',\n",
       " 'banana',\n",
       " 'dragon',\n",
       " 'b',\n",
       " 'a',\n",
       " 'n',\n",
       " 'a',\n",
       " 'n',\n",
       " 'a',\n",
       " 'd',\n",
       " 'r',\n",
       " 'a',\n",
       " 'g',\n",
       " 'o',\n",
       " 'n']"
      ]
     },
     "execution_count": 231,
     "metadata": {},
     "output_type": "execute_result"
    }
   ],
   "source": [
    "str2"
   ]
  },
  {
   "cell_type": "code",
   "execution_count": 249,
   "id": "49f73b1c-d516-424c-9fa1-cf612ffc3245",
   "metadata": {},
   "outputs": [
    {
     "data": {
      "text/plain": [
       "'dragon'"
      ]
     },
     "execution_count": 249,
     "metadata": {},
     "output_type": "execute_result"
    }
   ],
   "source": [
    "str2.pop()\n"
   ]
  },
  {
   "cell_type": "code",
   "execution_count": 250,
   "id": "22edd7e4-95bf-46ba-a803-9777f90ef68e",
   "metadata": {},
   "outputs": [
    {
     "data": {
      "text/plain": [
       "['banana', 'banana', 'pineApple', 'banana']"
      ]
     },
     "execution_count": 250,
     "metadata": {},
     "output_type": "execute_result"
    }
   ],
   "source": [
    "str2"
   ]
  },
  {
   "cell_type": "code",
   "execution_count": 251,
   "id": "6b75226d-02c9-46db-93a8-f589b8a647aa",
   "metadata": {},
   "outputs": [
    {
     "data": {
      "text/plain": [
       "'banana'"
      ]
     },
     "execution_count": 251,
     "metadata": {},
     "output_type": "execute_result"
    }
   ],
   "source": [
    "str1.pop()"
   ]
  },
  {
   "cell_type": "code",
   "execution_count": 253,
   "id": "dcb48caf-0e17-4c0a-9e93-173a25e1016c",
   "metadata": {},
   "outputs": [],
   "source": [
    "str1.remove('banana')"
   ]
  },
  {
   "cell_type": "code",
   "execution_count": 254,
   "id": "c9b5a96f-bbe8-44d4-b99e-2213dca8f0ff",
   "metadata": {},
   "outputs": [
    {
     "data": {
      "text/plain": [
       "['banana']"
      ]
     },
     "execution_count": 254,
     "metadata": {},
     "output_type": "execute_result"
    }
   ],
   "source": [
    "str1"
   ]
  },
  {
   "cell_type": "code",
   "execution_count": 255,
   "id": "eeaf0c7a-4405-4f3b-bd05-5bc4e44a31b0",
   "metadata": {},
   "outputs": [],
   "source": [
    "str1.append('dragon')"
   ]
  },
  {
   "cell_type": "code",
   "execution_count": 256,
   "id": "236019e3-123c-4496-836c-a2b758bea254",
   "metadata": {},
   "outputs": [
    {
     "name": "stdout",
     "output_type": "stream",
     "text": [
      "['banana', 'dragon']\n"
     ]
    }
   ],
   "source": [
    "print(str1)"
   ]
  },
  {
   "cell_type": "code",
   "execution_count": 259,
   "id": "5172a240-1939-42fb-8b73-2edaeaae9ae1",
   "metadata": {},
   "outputs": [
    {
     "data": {
      "text/plain": [
       "['banana', 'dragon']"
      ]
     },
     "execution_count": 259,
     "metadata": {},
     "output_type": "execute_result"
    }
   ],
   "source": [
    "str1.sort()\n",
    "str1"
   ]
  },
  {
   "cell_type": "code",
   "execution_count": 263,
   "id": "70a60d81-9d7d-4a4e-b471-b2427e9ee276",
   "metadata": {},
   "outputs": [],
   "source": [
    "str1.append(55)"
   ]
  },
  {
   "cell_type": "code",
   "execution_count": 264,
   "id": "d9d76dd8-ad88-417b-96d5-91f45b5c4ee9",
   "metadata": {},
   "outputs": [
    {
     "data": {
      "text/plain": [
       "['banana', 'dragon', 11, 55]"
      ]
     },
     "execution_count": 264,
     "metadata": {},
     "output_type": "execute_result"
    }
   ],
   "source": [
    "str1"
   ]
  },
  {
   "cell_type": "code",
   "execution_count": 265,
   "id": "3f86561e-37f7-4237-a0a6-bf6771a41edf",
   "metadata": {},
   "outputs": [
    {
     "ename": "TypeError",
     "evalue": "'<' not supported between instances of 'int' and 'str'",
     "output_type": "error",
     "traceback": [
      "\u001b[1;31m---------------------------------------------------------------------------\u001b[0m",
      "\u001b[1;31mTypeError\u001b[0m                                 Traceback (most recent call last)",
      "Cell \u001b[1;32mIn[265], line 1\u001b[0m\n\u001b[1;32m----> 1\u001b[0m str1\u001b[38;5;241m.\u001b[39msort()\n",
      "\u001b[1;31mTypeError\u001b[0m: '<' not supported between instances of 'int' and 'str'"
     ]
    }
   ],
   "source": [
    "str1.sort()"
   ]
  },
  {
   "cell_type": "code",
   "execution_count": 271,
   "id": "10644ea5-c884-451e-8f56-83f9190ee1f1",
   "metadata": {},
   "outputs": [
    {
     "data": {
      "text/plain": [
       "[55, 11, 'dragon', 'banana']"
      ]
     },
     "execution_count": 271,
     "metadata": {},
     "output_type": "execute_result"
    }
   ],
   "source": [
    "reversed(str1)\n",
    "list(str1)"
   ]
  },
  {
   "cell_type": "code",
   "execution_count": 272,
   "id": "756e0b99-386c-4a7e-9bce-56c33bc48f9b",
   "metadata": {},
   "outputs": [
    {
     "data": {
      "text/plain": [
       "55"
      ]
     },
     "execution_count": 272,
     "metadata": {},
     "output_type": "execute_result"
    }
   ],
   "source": [
    "str1[0]"
   ]
  },
  {
   "cell_type": "code",
   "execution_count": 273,
   "id": "0d0cdc86-b71a-40f1-b2d7-408595368bea",
   "metadata": {},
   "outputs": [
    {
     "data": {
      "text/plain": [
       "'dragon'"
      ]
     },
     "execution_count": 273,
     "metadata": {},
     "output_type": "execute_result"
    }
   ],
   "source": [
    "str1[2]"
   ]
  },
  {
   "cell_type": "code",
   "execution_count": 274,
   "id": "e8e595a6-417d-449b-943f-db8ffb7d464c",
   "metadata": {},
   "outputs": [
    {
     "data": {
      "text/plain": [
       "[55, 11, 'dragon', 'banana']"
      ]
     },
     "execution_count": 274,
     "metadata": {},
     "output_type": "execute_result"
    }
   ],
   "source": [
    "str1[::]"
   ]
  },
  {
   "cell_type": "code",
   "execution_count": 275,
   "id": "45176248-b866-4481-910f-e7767b6bfa04",
   "metadata": {},
   "outputs": [
    {
     "data": {
      "text/plain": [
       "[55, 11]"
      ]
     },
     "execution_count": 275,
     "metadata": {},
     "output_type": "execute_result"
    }
   ],
   "source": [
    "str1[:2]"
   ]
  },
  {
   "cell_type": "code",
   "execution_count": 276,
   "id": "f851c5a4-6956-4012-8515-08cfd04f7385",
   "metadata": {},
   "outputs": [
    {
     "data": {
      "text/plain": [
       "[55, 11, 'dragon', 'banana']"
      ]
     },
     "execution_count": 276,
     "metadata": {},
     "output_type": "execute_result"
    }
   ],
   "source": [
    "str1"
   ]
  },
  {
   "cell_type": "code",
   "execution_count": 278,
   "id": "80932933-946c-4ae7-b62b-37ebeb6feed8",
   "metadata": {},
   "outputs": [],
   "source": [
    "str1.append('orange')"
   ]
  },
  {
   "cell_type": "code",
   "execution_count": 279,
   "id": "a97fc4b4-5d89-47a4-ad4f-8d818f83afb1",
   "metadata": {},
   "outputs": [
    {
     "data": {
      "text/plain": [
       "[55, 11, 'dragon', 'banana', 'orange']"
      ]
     },
     "execution_count": 279,
     "metadata": {},
     "output_type": "execute_result"
    }
   ],
   "source": [
    "str1"
   ]
  },
  {
   "cell_type": "code",
   "execution_count": null,
   "id": "e4a61d95-2f36-4ba7-bdf7-1def80cafc30",
   "metadata": {},
   "outputs": [],
   "source": [
    "list1 "
   ]
  },
  {
   "cell_type": "code",
   "execution_count": 5,
   "id": "b115e678-50c3-4a1b-aeac-5bf12d60dbcd",
   "metadata": {},
   "outputs": [
    {
     "data": {
      "text/plain": [
       "'python'"
      ]
     },
     "execution_count": 5,
     "metadata": {},
     "output_type": "execute_result"
    }
   ],
   "source": [
    "str1='python'\n",
    "list1=['p','y','t','h','o','n']\n",
    "\n",
    "list1='python'\n",
    "list1"
   ]
  },
  {
   "cell_type": "code",
   "execution_count": 6,
   "id": "c1a9ed1f-5c0c-47eb-b8dd-eb59ed4efb6a",
   "metadata": {},
   "outputs": [
    {
     "data": {
      "text/plain": [
       "True"
      ]
     },
     "execution_count": 6,
     "metadata": {},
     "output_type": "execute_result"
    }
   ],
   "source": [
    "'p' in list1"
   ]
  },
  {
   "cell_type": "code",
   "execution_count": 8,
   "id": "1b4f4178-cbe7-4316-a2fc-7c3ffb7828f1",
   "metadata": {},
   "outputs": [
    {
     "name": "stdout",
     "output_type": "stream",
     "text": [
      "python"
     ]
    }
   ],
   "source": [
    "for i in list1:\n",
    "    print(i,end='')"
   ]
  },
  {
   "cell_type": "markdown",
   "id": "22868ad7-7ac9-4a87-b806-4e03d25e30ae",
   "metadata": {},
   "source": [
    "## **range VS in\n",
    "- when we have use with index then go for **range**\n",
    "                                     \n",
    "- when we have use with only elements go for **in**"
   ]
  },
  {
   "cell_type": "markdown",
   "id": "4e7a2d28-7f17-4246-be73-e7b04e8eeb7f",
   "metadata": {},
   "source": [
    "## **mutable vs immutable**\n",
    "- list are mutable"
   ]
  },
  {
   "cell_type": "code",
   "execution_count": 11,
   "id": "16c6f228-e38d-4339-a17d-5c1868789a5a",
   "metadata": {},
   "outputs": [],
   "source": [
    "list1=[1,2,3,4]\n",
    "list1[2]=5"
   ]
  },
  {
   "cell_type": "code",
   "execution_count": 13,
   "id": "9196a187-7c58-4a43-92e5-f8906bf61f8b",
   "metadata": {},
   "outputs": [
    {
     "data": {
      "text/plain": [
       "[1, 2, 5, 4]"
      ]
     },
     "execution_count": 13,
     "metadata": {},
     "output_type": "execute_result"
    }
   ],
   "source": [
    "list1"
   ]
  },
  {
   "cell_type": "code",
   "execution_count": 15,
   "id": "01e05eb3-4196-4838-b5cc-26ba756e1ddc",
   "metadata": {},
   "outputs": [
    {
     "data": {
      "text/plain": [
       "[55, 2, 5, 4]"
      ]
     },
     "execution_count": 15,
     "metadata": {},
     "output_type": "execute_result"
    }
   ],
   "source": [
    "list1[0]=55\n",
    "list1"
   ]
  },
  {
   "cell_type": "markdown",
   "id": "b1d9e951-8a2c-4abe-811a-37d5ac35ee1a",
   "metadata": {},
   "source": [
    "**slicing**"
   ]
  },
  {
   "cell_type": "code",
   "execution_count": 19,
   "id": "d836c9dd-8847-45ff-b5fb-d4f9c5e192f4",
   "metadata": {},
   "outputs": [
    {
     "data": {
      "text/plain": [
       "[]"
      ]
     },
     "execution_count": 19,
     "metadata": {},
     "output_type": "execute_result"
    }
   ],
   "source": [
    "l1=[1,20,30,40,50,'A','B','C','D','E','apple','banana']\n",
    "l1[:] \n",
    "l1[::]\n",
    "l1[::-1]\n",
    "l1[2:10:2]\n",
    "l1[2:10-2]\n",
    "l1[2:-10:2]\n",
    "l1[-2:10:2]\n",
    "l1[2:-10:-2]\n",
    "l1[2:-10:-2]\n",
    "l1[2:-10:-2]\n",
    "l1[-2:-10:2]\n",
    "l1[-2:-10:-2]\n",
    "l1[10:2:2]\n",
    "l1[10:2:-2]\n",
    "l1[10:-2:2]\n",
    "l1[-10:2:-2]\n",
    "l1[-10:-2:-2]"
   ]
  },
  {
   "cell_type": "markdown",
   "id": "62390d19-b076-4312-88fa-3a125a9c9dac",
   "metadata": {},
   "source": [
    "## **methods**\n",
    "- if you want to see the methods of list **dir([]))**"
   ]
  },
  {
   "cell_type": "code",
   "execution_count": 20,
   "id": "63084e93-9e2b-48cb-a6fc-d0684784dc70",
   "metadata": {},
   "outputs": [
    {
     "data": {
      "text/plain": [
       "['__add__',\n",
       " '__class__',\n",
       " '__class_getitem__',\n",
       " '__contains__',\n",
       " '__delattr__',\n",
       " '__delitem__',\n",
       " '__dir__',\n",
       " '__doc__',\n",
       " '__eq__',\n",
       " '__format__',\n",
       " '__ge__',\n",
       " '__getattribute__',\n",
       " '__getitem__',\n",
       " '__getstate__',\n",
       " '__gt__',\n",
       " '__hash__',\n",
       " '__iadd__',\n",
       " '__imul__',\n",
       " '__init__',\n",
       " '__init_subclass__',\n",
       " '__iter__',\n",
       " '__le__',\n",
       " '__len__',\n",
       " '__lt__',\n",
       " '__mul__',\n",
       " '__ne__',\n",
       " '__new__',\n",
       " '__reduce__',\n",
       " '__reduce_ex__',\n",
       " '__repr__',\n",
       " '__reversed__',\n",
       " '__rmul__',\n",
       " '__setattr__',\n",
       " '__setitem__',\n",
       " '__sizeof__',\n",
       " '__str__',\n",
       " '__subclasshook__',\n",
       " 'append',\n",
       " 'clear',\n",
       " 'copy',\n",
       " 'count',\n",
       " 'extend',\n",
       " 'index',\n",
       " 'insert',\n",
       " 'pop',\n",
       " 'remove',\n",
       " 'reverse',\n",
       " 'sort']"
      ]
     },
     "execution_count": 20,
     "metadata": {},
     "output_type": "execute_result"
    }
   ],
   "source": [
    "dir(list)"
   ]
  },
  {
   "cell_type": "code",
   "execution_count": 21,
   "id": "0efac340-1b19-4aaf-a86a-573aa20f32ce",
   "metadata": {},
   "outputs": [
    {
     "data": {
      "text/plain": [
       "['__add__',\n",
       " '__class__',\n",
       " '__class_getitem__',\n",
       " '__contains__',\n",
       " '__delattr__',\n",
       " '__delitem__',\n",
       " '__dir__',\n",
       " '__doc__',\n",
       " '__eq__',\n",
       " '__format__',\n",
       " '__ge__',\n",
       " '__getattribute__',\n",
       " '__getitem__',\n",
       " '__getstate__',\n",
       " '__gt__',\n",
       " '__hash__',\n",
       " '__iadd__',\n",
       " '__imul__',\n",
       " '__init__',\n",
       " '__init_subclass__',\n",
       " '__iter__',\n",
       " '__le__',\n",
       " '__len__',\n",
       " '__lt__',\n",
       " '__mul__',\n",
       " '__ne__',\n",
       " '__new__',\n",
       " '__reduce__',\n",
       " '__reduce_ex__',\n",
       " '__repr__',\n",
       " '__reversed__',\n",
       " '__rmul__',\n",
       " '__setattr__',\n",
       " '__setitem__',\n",
       " '__sizeof__',\n",
       " '__str__',\n",
       " '__subclasshook__',\n",
       " 'append',\n",
       " 'clear',\n",
       " 'copy',\n",
       " 'count',\n",
       " 'extend',\n",
       " 'index',\n",
       " 'insert',\n",
       " 'pop',\n",
       " 'remove',\n",
       " 'reverse',\n",
       " 'sort']"
      ]
     },
     "execution_count": 21,
     "metadata": {},
     "output_type": "execute_result"
    }
   ],
   "source": [
    "dir([])"
   ]
  },
  {
   "cell_type": "code",
   "execution_count": 24,
   "id": "8aae3939-6ef3-49aa-9fd9-36be8e8895c3",
   "metadata": {},
   "outputs": [
    {
     "data": {
      "text/plain": [
       "2"
      ]
     },
     "execution_count": 24,
     "metadata": {},
     "output_type": "execute_result"
    }
   ],
   "source": [
    "list1=[1,2,3,4,5,6,2]\n",
    "list1.count(2)"
   ]
  },
  {
   "cell_type": "code",
   "execution_count": 29,
   "id": "966bc388-8e2f-41b9-903c-e34b8df14a74",
   "metadata": {},
   "outputs": [
    {
     "data": {
      "text/plain": [
       "['clear', 'copy', 'count']"
      ]
     },
     "execution_count": 29,
     "metadata": {},
     "output_type": "execute_result"
    }
   ],
   "source": [
    "list1=['clear','copy','count']\n",
    "list1.copy()"
   ]
  },
  {
   "cell_type": "code",
   "execution_count": 25,
   "id": "adfcb62e-8ca3-49e0-abe4-880477ea71fb",
   "metadata": {},
   "outputs": [
    {
     "data": {
      "text/plain": [
       "[1, 2, 3, 4, 5, 6, 2]"
      ]
     },
     "execution_count": 25,
     "metadata": {},
     "output_type": "execute_result"
    }
   ],
   "source": [
    "li1=list1.copy()\n",
    "li1"
   ]
  },
  {
   "cell_type": "code",
   "execution_count": 27,
   "id": "32e03a0c-d0a3-4483-9747-730f1d2ae231",
   "metadata": {},
   "outputs": [
    {
     "data": {
      "text/plain": [
       "[]"
      ]
     },
     "execution_count": 27,
     "metadata": {},
     "output_type": "execute_result"
    }
   ],
   "source": [
    "list1.clear()\n",
    "list1"
   ]
  },
  {
   "cell_type": "code",
   "execution_count": 34,
   "id": "0c62a38e-59f8-4858-a784-3d2dfafb1534",
   "metadata": {},
   "outputs": [
    {
     "name": "stdout",
     "output_type": "stream",
     "text": [
      "[]\n",
      "[1, 2, 3, 4, 'A', 'B', 'C', 10]\n"
     ]
    }
   ],
   "source": [
    "l1=[1,2,3,4,'A','B','C',10]\n",
    "l2=l1.copy()\n",
    "l1.clear()\n",
    "print(l1)\n",
    "print(l2)"
   ]
  },
  {
   "cell_type": "code",
   "execution_count": 38,
   "id": "dabfcb7d-38a7-4618-9f53-6fc11cd80a0f",
   "metadata": {},
   "outputs": [
    {
     "data": {
      "text/plain": [
       "2"
      ]
     },
     "execution_count": 38,
     "metadata": {},
     "output_type": "execute_result"
    }
   ],
   "source": [
    "l2=[10,2,3,4,'A','B','C',10]\n",
    "l2.count(10)"
   ]
  },
  {
   "cell_type": "markdown",
   "id": "4dea47e7-177f-4412-a93d-3b5ea42600cf",
   "metadata": {},
   "source": [
    "## **append**\n",
    "- append is very important method in the entire list\n",
    "- in our life will use method very frequently\n",
    "- append means adding element at last\n"
   ]
  },
  {
   "cell_type": "code",
   "execution_count": 40,
   "id": "f4293939-3665-4ac6-88b4-293b74a6f0d1",
   "metadata": {},
   "outputs": [
    {
     "data": {
      "text/plain": [
       "[10, 20, 30, 'apple']"
      ]
     },
     "execution_count": 40,
     "metadata": {},
     "output_type": "execute_result"
    }
   ],
   "source": [
    "l1=[10,20,30]\n",
    "l1.append('apple')\n",
    "l1"
   ]
  },
  {
   "cell_type": "code",
   "execution_count": 41,
   "id": "8c5fc8c7-af4d-41d6-b4dc-3f7cf4e55af1",
   "metadata": {},
   "outputs": [
    {
     "data": {
      "text/plain": [
       "[10, 20, 30, 'apple', 'banana']"
      ]
     },
     "execution_count": 41,
     "metadata": {},
     "output_type": "execute_result"
    }
   ],
   "source": [
    "l1=[10,20,30]\n",
    "l1.append('apple')\n",
    "l1.append('banana')\n",
    "l1"
   ]
  },
  {
   "cell_type": "code",
   "execution_count": 42,
   "id": "b9d5fbf2-4a2c-434f-aee7-828f5e0859fc",
   "metadata": {},
   "outputs": [
    {
     "data": {
      "text/plain": [
       "[10, 20, 30, 'apple', 'banana', ['append', 'count', 50]]"
      ]
     },
     "execution_count": 42,
     "metadata": {},
     "output_type": "execute_result"
    }
   ],
   "source": [
    "l1=[10, 20, 30, 'apple', 'banana']\n",
    "l1.append(['append','count',50])\n",
    "l1"
   ]
  },
  {
   "cell_type": "code",
   "execution_count": null,
   "id": "d3c29f94-a365-4da0-8e59-ec7ecb20a6a9",
   "metadata": {},
   "outputs": [],
   "source": [
    "- always recall if you see anywhere "
   ]
  },
  {
   "cell_type": "code",
   "execution_count": null,
   "id": "44fb58f4-dc56-4dc7-9aa4-521db6e850e1",
   "metadata": {},
   "outputs": [],
   "source": [
    "l1=[10,20,30]\n",
    "l1.append('apple')\n",
    "l1\n",
    "\n",
    "l1=[10,20,30]\n",
    "l1.append('apple')\n",
    "l1.append('banana')\n",
    "l1\n",
    "\n",
    "l1=[10,20,30]\n",
    "l1.append('apple','banana')\n",
    "l1\n",
    "\n",
    "l1=[10, 20, 30, 'apple', 'banana']\n",
    "l1.append(['append','count',50])\n",
    "l1"
   ]
  },
  {
   "cell_type": "code",
   "execution_count": 43,
   "id": "92985c9f-d809-4621-8f4f-8a9a12fa2b2f",
   "metadata": {},
   "outputs": [
    {
     "data": {
      "text/plain": [
       "[10, 20, 30, 'apple']"
      ]
     },
     "execution_count": 43,
     "metadata": {},
     "output_type": "execute_result"
    }
   ],
   "source": [
    "l1=[10,20,30]\n",
    "l1.append('apple')\n",
    "l1"
   ]
  },
  {
   "cell_type": "code",
   "execution_count": 45,
   "id": "e21638b3-f361-466a-9fdf-160e3e8d5886",
   "metadata": {},
   "outputs": [
    {
     "data": {
      "text/plain": [
       "[10, 20, 30, 'apple', 'banana']"
      ]
     },
     "execution_count": 45,
     "metadata": {},
     "output_type": "execute_result"
    }
   ],
   "source": [
    "l1 =[10,20,30]\n",
    "l1.append('apple')\n",
    "l1.append('banana')\n",
    "l1"
   ]
  },
  {
   "cell_type": "code",
   "execution_count": 46,
   "id": "636f6b2e-b184-46db-8ab2-60405ff6823e",
   "metadata": {},
   "outputs": [
    {
     "ename": "TypeError",
     "evalue": "list.append() takes exactly one argument (2 given)",
     "output_type": "error",
     "traceback": [
      "\u001b[1;31m---------------------------------------------------------------------------\u001b[0m",
      "\u001b[1;31mTypeError\u001b[0m                                 Traceback (most recent call last)",
      "Cell \u001b[1;32mIn[46], line 2\u001b[0m\n\u001b[0;32m      1\u001b[0m l1\u001b[38;5;241m=\u001b[39m[\u001b[38;5;241m20\u001b[39m,\u001b[38;5;241m20\u001b[39m,\u001b[38;5;241m30\u001b[39m]\n\u001b[1;32m----> 2\u001b[0m l1\u001b[38;5;241m.\u001b[39mappend(\u001b[38;5;124m'\u001b[39m\u001b[38;5;124mapple\u001b[39m\u001b[38;5;124m'\u001b[39m,\u001b[38;5;124m'\u001b[39m\u001b[38;5;124mbanana\u001b[39m\u001b[38;5;124m'\u001b[39m)\n\u001b[0;32m      3\u001b[0m l1\n",
      "\u001b[1;31mTypeError\u001b[0m: list.append() takes exactly one argument (2 given)"
     ]
    }
   ],
   "source": [
    "l1=[20,20,30]\n",
    "l1.append('apple','banana')\n",
    "l1"
   ]
  },
  {
   "cell_type": "code",
   "execution_count": 49,
   "id": "fc08e0af-4cb3-4522-9496-e85b725f2e82",
   "metadata": {},
   "outputs": [
    {
     "data": {
      "text/plain": [
       "[10, 20, 30, 'apple', 'banana', \"'append','count',50\"]"
      ]
     },
     "execution_count": 49,
     "metadata": {},
     "output_type": "execute_result"
    }
   ],
   "source": [
    "l1=[10, 20, 30, 'apple', 'banana']\n",
    "l1.append(\"'append','count',50\")\n",
    "l1"
   ]
  },
  {
   "cell_type": "markdown",
   "id": "faa37165-d986-419b-8b4f-68144be2ff0c",
   "metadata": {},
   "source": [
    "**append method use to store the output**"
   ]
  },
  {
   "cell_type": "code",
   "execution_count": 51,
   "id": "bad99bcc-bef2-413e-a8e3-15a0d51b0885",
   "metadata": {},
   "outputs": [
    {
     "data": {
      "text/plain": [
       "[1, 2, 3, 4, 5]"
      ]
     },
     "execution_count": 51,
     "metadata": {},
     "output_type": "execute_result"
    }
   ],
   "source": [
    "# i want to append a numbers from 1 to 5\n",
    "l1 = []\n",
    "l1.append(1)\n",
    "l1.append(2)\n",
    "l1.append(3)\n",
    "l1.append(4)\n",
    "l1.append(5)\n",
    "l1"
   ]
  },
  {
   "cell_type": "code",
   "execution_count": 58,
   "id": "b21015d3-afe7-46bf-9f0c-99a72d92275e",
   "metadata": {},
   "outputs": [
    {
     "name": "stdout",
     "output_type": "stream",
     "text": [
      "[1, 2, 3, 4, 5]\n"
     ]
    }
   ],
   "source": [
    "l1=[]\n",
    "for i in range(1,6):\n",
    "    l1.append(i)\n",
    "print(l1)"
   ]
  },
  {
   "cell_type": "code",
   "execution_count": 65,
   "id": "f954b805-9704-40f2-90e0-2671748d08f9",
   "metadata": {},
   "outputs": [
    {
     "name": "stdout",
     "output_type": "stream",
     "text": [
      "4\n",
      "1\n",
      "30\n"
     ]
    },
    {
     "data": {
      "text/plain": [
       "[[16], [1], [900]]"
      ]
     },
     "execution_count": 65,
     "metadata": {},
     "output_type": "execute_result"
    }
   ],
   "source": [
    "#wap ask the user enter 3 random number perform square of the number ,save those square in a list\n",
    "\n",
    "import random\n",
    "l1 = []\n",
    "for i in range(3):\n",
    "    num = random.randint(1,100)\n",
    "    print(num)\n",
    "    temp = num * num\n",
    "    l1.append([temp])\n",
    "l1"
   ]
  },
  {
   "cell_type": "code",
   "execution_count": null,
   "id": "caabf7d5-4068-4fff-b4f9-d6508d5ed524",
   "metadata": {},
   "outputs": [],
   "source": [
    "#Q2) i already list of numbers\n",
    "# l=[10,47,53,12,27]\n",
    "\n",
    "# get even list and odd list seperately\n"
   ]
  },
  {
   "cell_type": "code",
   "execution_count": 70,
   "id": "1c1a7422-5858-4222-878d-cc3c326961d7",
   "metadata": {},
   "outputs": [
    {
     "name": "stdout",
     "output_type": "stream",
     "text": [
      "[10, 12]\n",
      "[47, 53, 27]\n"
     ]
    }
   ],
   "source": [
    "l=[10,47,53,12,27]\n",
    "l1=[]\n",
    "l2=[]\n",
    "for i in l:\n",
    "    if i%2==0:\n",
    "        l1.append(i)\n",
    "    else:\n",
    "        l2.append(i)\n",
    "print(l1)\n",
    "print(l2)"
   ]
  },
  {
   "cell_type": "code",
   "execution_count": null,
   "id": "aa40bd4c-50ae-40b9-b328-4485dd0545a6",
   "metadata": {},
   "outputs": [],
   "source": []
  },
  {
   "cell_type": "code",
   "execution_count": 4,
   "id": "01e4ac79-1d2c-4959-86b3-598fa53080af",
   "metadata": {},
   "outputs": [
    {
     "name": "stdout",
     "output_type": "stream",
     "text": [
      "['HYD', 'BANGLORE', 'PUNE', 'MUMBAI']\n"
     ]
    }
   ],
   "source": [
    "input1=['hyd','banglore','pune','mumbai']\n",
    "l1=[]\n",
    "for i in input1:\n",
    "    l1.append(i.upper())\n",
    "print(l1)"
   ]
  },
  {
   "cell_type": "code",
   "execution_count": 5,
   "id": "b232b43e-c4f7-4b74-90dc-711dff2cf1b3",
   "metadata": {},
   "outputs": [
    {
     "data": {
      "text/plain": [
       "['__add__',\n",
       " '__class__',\n",
       " '__class_getitem__',\n",
       " '__contains__',\n",
       " '__delattr__',\n",
       " '__delitem__',\n",
       " '__dir__',\n",
       " '__doc__',\n",
       " '__eq__',\n",
       " '__format__',\n",
       " '__ge__',\n",
       " '__getattribute__',\n",
       " '__getitem__',\n",
       " '__getstate__',\n",
       " '__gt__',\n",
       " '__hash__',\n",
       " '__iadd__',\n",
       " '__imul__',\n",
       " '__init__',\n",
       " '__init_subclass__',\n",
       " '__iter__',\n",
       " '__le__',\n",
       " '__len__',\n",
       " '__lt__',\n",
       " '__mul__',\n",
       " '__ne__',\n",
       " '__new__',\n",
       " '__reduce__',\n",
       " '__reduce_ex__',\n",
       " '__repr__',\n",
       " '__reversed__',\n",
       " '__rmul__',\n",
       " '__setattr__',\n",
       " '__setitem__',\n",
       " '__sizeof__',\n",
       " '__str__',\n",
       " '__subclasshook__',\n",
       " 'append',\n",
       " 'clear',\n",
       " 'copy',\n",
       " 'count',\n",
       " 'extend',\n",
       " 'index',\n",
       " 'insert',\n",
       " 'pop',\n",
       " 'remove',\n",
       " 'reverse',\n",
       " 'sort']"
      ]
     },
     "execution_count": 5,
     "metadata": {},
     "output_type": "execute_result"
    }
   ],
   "source": [
    "dir([])"
   ]
  },
  {
   "cell_type": "markdown",
   "id": "a9cc04a3-f088-4c9b-81be-344bc3cfb627",
   "metadata": {},
   "source": [
    "**extend**"
   ]
  },
  {
   "cell_type": "code",
   "execution_count": 21,
   "id": "827fb80e-5ae3-4d4d-9124-8663e6582fea",
   "metadata": {},
   "outputs": [
    {
     "data": {
      "text/plain": [
       "[1, 2, 3, 4, 5, 'A', 'B', 'C', 'D', 'E']"
      ]
     },
     "execution_count": 21,
     "metadata": {},
     "output_type": "execute_result"
    }
   ],
   "source": [
    "l1 = [1,2,3,4,5]\n",
    "l2= ['A','B','C','D','E']\n",
    "l1.extend(l2)\n",
    "l1"
   ]
  },
  {
   "cell_type": "code",
   "execution_count": 20,
   "id": "3b85555f-469f-4d93-8537-a242fbaf9e2a",
   "metadata": {},
   "outputs": [
    {
     "name": "stdout",
     "output_type": "stream",
     "text": [
      "['A', 'B', 'C', 'D', 'E', 1, 2, 3, 4, 5]"
     ]
    }
   ],
   "source": [
    "l1 = [1,2,3,4,5]\n",
    "l2= ['A','B','C','D','E']\n",
    "l2.extend(l1)\n",
    "print(l2,end='')"
   ]
  },
  {
   "cell_type": "code",
   "execution_count": 19,
   "id": "228a71a4-472e-40c1-94a6-4b23e2e69ff0",
   "metadata": {},
   "outputs": [
    {
     "name": "stdout",
     "output_type": "stream",
     "text": [
      "[1, 2, 3, 4, 5, ['A', 'B', 'C', 'D', 'E']]"
     ]
    }
   ],
   "source": [
    "l1 = [1,2,3,4,5]\n",
    "l2= ['A','B','C','D','E']\n",
    "\n",
    "l1.append(l2)\n",
    "print(l1,end='')"
   ]
  },
  {
   "cell_type": "code",
   "execution_count": 22,
   "id": "a6619e70-57e4-42f6-b8d8-1bdf72df61ca",
   "metadata": {},
   "outputs": [
    {
     "name": "stdout",
     "output_type": "stream",
     "text": [
      "['A', 'B', 'C', 'D', 'E', [1, 2, 3, 4, 5]]\n"
     ]
    }
   ],
   "source": [
    "l1 = [1,2,3,4,5]\n",
    "l2= ['A','B','C','D','E']\n",
    "l2.append(l1)\n",
    "print(l2)"
   ]
  },
  {
   "cell_type": "code",
   "execution_count": 27,
   "id": "8d7cf672-d48e-4259-a2bc-3653c4994d43",
   "metadata": {},
   "outputs": [
    {
     "name": "stdout",
     "output_type": "stream",
     "text": [
      "[1, 2, 3, 4, 5, 'A', 'B', 'C', 'D', 'E']\n",
      "[1, 2, 3, 4, 5]\n",
      "['A', 'B', 'C', 'D', 'E']\n",
      "L1 will be overwrite if we use extend \n",
      "[1, 2, 3, 4, 5, 'A', 'B', 'C', 'D', 'E']\n",
      "['A', 'B', 'C', 'D', 'E', 1, 2, 3, 4, 5, 'A', 'B', 'C', 'D', 'E']\n"
     ]
    }
   ],
   "source": [
    "l1 = [1,2,3,4,5]\n",
    "l2= ['A','B','C','D','E']\n",
    "print(l1+l2) # concatination \n",
    "print(l1)\n",
    "print(l2)\n",
    "print('L1 will be overwrite if we use extend ')\n",
    "l1.extend(l2)\n",
    "print(l1)\n",
    "l2.extend(l1)\n",
    "print(l2)"
   ]
  },
  {
   "cell_type": "markdown",
   "id": "c942f52f-7e14-49d8-a65b-f26a7620cc49",
   "metadata": {},
   "source": [
    "**index**\n",
    "- in string we have 2 method index and find\n",
    "- in list only one index"
   ]
  },
  {
   "cell_type": "code",
   "execution_count": 34,
   "id": "7efee09e-ea71-4039-8267-391a18d41960",
   "metadata": {},
   "outputs": [
    {
     "name": "stdout",
     "output_type": "stream",
     "text": [
      "4\n",
      "13\n"
     ]
    }
   ],
   "source": [
    "l1 = [1,2,3,4,5,'A','B','C','D','E',2,3,4,5]\n",
    "l2= ['A','B','C','D','E']\n",
    "\n",
    "p1=l1.index(5)\n",
    "print(p1)\n",
    "p2=l1.index(5,p1+1)\n",
    "print(p2)"
   ]
  },
  {
   "cell_type": "markdown",
   "id": "88091dee-4088-4f8f-9e07-dc1fa298a10e",
   "metadata": {},
   "source": [
    "**insert**"
   ]
  },
  {
   "cell_type": "code",
   "execution_count": 43,
   "id": "5578940a-ec58-429c-a5b7-c3216ca27bb5",
   "metadata": {},
   "outputs": [
    {
     "name": "stdout",
     "output_type": "stream",
     "text": [
      "['Apple', 'A', 'B', 'Z', 'C', 'D', 'E']\n"
     ]
    },
    {
     "data": {
      "text/plain": [
       "['Apple', 'A', 'B', 'Z', 'C', 'D', 'E', 'banana']"
      ]
     },
     "execution_count": 43,
     "metadata": {},
     "output_type": "execute_result"
    }
   ],
   "source": [
    "l2= ['A','B','C','D','E']\n",
    "l2.insert(2,'Z')\n",
    "l2.insert(0,'Apple')\n",
    "print(l2)\n",
    "l2.append('banana')\n",
    "\n",
    "l2"
   ]
  },
  {
   "cell_type": "code",
   "execution_count": 51,
   "id": "1e1b6eeb-dbc3-46f5-a6d4-2060d316e8e3",
   "metadata": {},
   "outputs": [
    {
     "data": {
      "text/plain": [
       "[10, 20, 30, 40, 50, 'Apple', 100, 'banana', 'CHerry', 50]"
      ]
     },
     "execution_count": 51,
     "metadata": {},
     "output_type": "execute_result"
    }
   ],
   "source": [
    "l1=[10,20,30,40,50,'Apple','banana','CHerry',50]\n",
    "id=l1.index('Apple')\n",
    "l1.insert(id+1,100)  # insert in specific index\n",
    "l1"
   ]
  },
  {
   "cell_type": "code",
   "execution_count": 53,
   "id": "087f87fe-a6ab-48ff-ab9f-350ff73937f6",
   "metadata": {},
   "outputs": [
    {
     "data": {
      "text/plain": [
       "[10, 20, 30, 40, 50, 'Apple', 100, 'banana', 'CHerry', 50, 100]"
      ]
     },
     "execution_count": 53,
     "metadata": {},
     "output_type": "execute_result"
    }
   ],
   "source": [
    "l1.append(100) # by default last\n",
    "l1"
   ]
  },
  {
   "cell_type": "markdown",
   "id": "80ec5686-60cf-4dd9-8447-40ae5d53f124",
   "metadata": {},
   "source": [
    "**pop VS remove**"
   ]
  },
  {
   "cell_type": "code",
   "execution_count": 68,
   "id": "3fd656e3-9d83-421f-b354-482ad90488e3",
   "metadata": {},
   "outputs": [
    {
     "data": {
      "text/plain": [
       "20"
      ]
     },
     "execution_count": 68,
     "metadata": {},
     "output_type": "execute_result"
    }
   ],
   "source": [
    "l1=[10,20,30,40,50,'Apple','banana','CHerry',50]\n",
    "l1.pop(1)   # remove last value "
   ]
  },
  {
   "cell_type": "code",
   "execution_count": 73,
   "id": "d667c48a-e6f4-460c-a39e-622344fe5d47",
   "metadata": {},
   "outputs": [
    {
     "ename": "ValueError",
     "evalue": "list.remove(x): x not in list",
     "output_type": "error",
     "traceback": [
      "\u001b[1;31m---------------------------------------------------------------------------\u001b[0m",
      "\u001b[1;31mValueError\u001b[0m                                Traceback (most recent call last)",
      "Cell \u001b[1;32mIn[73], line 1\u001b[0m\n\u001b[1;32m----> 1\u001b[0m l1\u001b[38;5;241m.\u001b[39mremove(\u001b[38;5;241m10\u001b[39m)\n\u001b[0;32m      2\u001b[0m l1\n",
      "\u001b[1;31mValueError\u001b[0m: list.remove(x): x not in list"
     ]
    }
   ],
   "source": [
    "l1.remove(10)\n",
    "l1  # remove specific word that you want"
   ]
  },
  {
   "cell_type": "code",
   "execution_count": 74,
   "id": "39b891d7-82fe-4a71-bd68-1f86c690c372",
   "metadata": {},
   "outputs": [
    {
     "data": {
      "text/plain": [
       "[30, 40, 50, 'Apple', 'banana']"
      ]
     },
     "execution_count": 74,
     "metadata": {},
     "output_type": "execute_result"
    }
   ],
   "source": [
    "l1"
   ]
  },
  {
   "cell_type": "code",
   "execution_count": 72,
   "id": "658db3de-83cf-489f-9cea-e1bfb07d1ce4",
   "metadata": {},
   "outputs": [
    {
     "data": {
      "text/plain": [
       "[30, 40, 50, 'Apple', 'banana']"
      ]
     },
     "execution_count": 72,
     "metadata": {},
     "output_type": "execute_result"
    }
   ],
   "source": [
    "del(l1[5])\n",
    "l1"
   ]
  },
  {
   "cell_type": "markdown",
   "id": "632953a7-2ca0-4046-a915-03c52b66e645",
   "metadata": {},
   "source": [
    "- if we want to delete any alement\n",
    "\n",
    "- pop : based on index\n",
    "\n",
    "- remove: based on vlaue\n",
    "\n",
    "- del : bases on index only"
   ]
  },
  {
   "cell_type": "code",
   "execution_count": 82,
   "id": "55050083-debe-4691-88e5-fb1fe0e1c4e4",
   "metadata": {},
   "outputs": [
    {
     "name": "stdout",
     "output_type": "stream",
     "text": [
      "[10, 20, 30, 40, 50, 'Apple', 'banana', 'CHerry', 50]\n"
     ]
    }
   ],
   "source": [
    "l1=[10,20,30,40,50,'Apple','banana','CHerry',50]\n",
    "print(l1)\n",
    "# del(l1) # delete entire list thats why error occues"
   ]
  },
  {
   "cell_type": "code",
   "execution_count": 84,
   "id": "99877a0a-1441-4339-84eb-e84c41aecfba",
   "metadata": {},
   "outputs": [
    {
     "data": {
      "text/plain": [
       "[10, 20, 30, 40, 'banana', 'CHerry', 50]"
      ]
     },
     "execution_count": 84,
     "metadata": {},
     "output_type": "execute_result"
    }
   ],
   "source": [
    "del l1[4]\n",
    "l1"
   ]
  },
  {
   "cell_type": "markdown",
   "id": "daafba30-d46e-40d3-9b28-99c28b680c7d",
   "metadata": {},
   "source": [
    "**recerse - reversed**"
   ]
  },
  {
   "cell_type": "markdown",
   "id": "2ed7ff2b-e464-4642-a4ae-107ffb960923",
   "metadata": {},
   "source": [
    "- reverse is method\n",
    "- reversed is inbuilt function\n"
   ]
  },
  {
   "cell_type": "code",
   "execution_count": 90,
   "id": "5ca3f2b1-1f6a-44cf-af85-c9b1d8827725",
   "metadata": {},
   "outputs": [
    {
     "name": "stdout",
     "output_type": "stream",
     "text": [
      "[10, 20, 30, 40, 50, 100]\n",
      "[100, 50, 40, 30, 20, 10]\n"
     ]
    }
   ],
   "source": [
    "l1=[10,100,20,30,40,50]\n",
    "l1.sort()\n",
    "print(l1)\n",
    "l1.sort(reverse=True)\n",
    "print(l1)"
   ]
  },
  {
   "cell_type": "code",
   "execution_count": 94,
   "id": "610c5253-4892-4317-b053-c2a7d4a28f84",
   "metadata": {},
   "outputs": [
    {
     "data": {
      "text/plain": [
       "[50, 40, 30, 20, 100, 10]"
      ]
     },
     "execution_count": 94,
     "metadata": {},
     "output_type": "execute_result"
    }
   ],
   "source": [
    "l1=[10,100,20,30,40,50]\n",
    "l1.reverse()\n",
    "l1"
   ]
  },
  {
   "cell_type": "code",
   "execution_count": 95,
   "id": "3ff3a019-3f82-488e-b492-1df463b56f10",
   "metadata": {},
   "outputs": [
    {
     "data": {
      "text/plain": [
       "<list_reverseiterator at 0x2557ea98df0>"
      ]
     },
     "execution_count": 95,
     "metadata": {},
     "output_type": "execute_result"
    }
   ],
   "source": [
    "l1=[10,100,20,30,40,50]\n",
    "reversed(l1)"
   ]
  },
  {
   "cell_type": "markdown",
   "id": "8b55b24c-3ab0-4493-8b91-51a8a4ac751d",
   "metadata": {},
   "source": [
    "**IN PLACE**\n",
    "- when we perform the operation sometime values not overwrite\n",
    "\n",
    "- if we see **inplace** word or **inplace=True**\n",
    "\n",
    "- this indicates the output will be overwrite in corresponding variable"
   ]
  },
  {
   "cell_type": "code",
   "execution_count": 97,
   "id": "7982559d-131a-4512-ab23-4f25cb88c556",
   "metadata": {},
   "outputs": [
    {
     "data": {
      "text/plain": [
       "[10, 20, 30, 40, 50, 100]"
      ]
     },
     "execution_count": 97,
     "metadata": {},
     "output_type": "execute_result"
    }
   ],
   "source": [
    "l1=[10,100,20,30,40,50]\n",
    "l1.sort()  # list method\n",
    "l1"
   ]
  },
  {
   "cell_type": "code",
   "execution_count": 100,
   "id": "04d46e73-1710-4c8e-b4ee-cb6095e51c99",
   "metadata": {},
   "outputs": [
    {
     "data": {
      "text/plain": [
       "[100, 50, 40, 30, 20, 10]"
      ]
     },
     "execution_count": 100,
     "metadata": {},
     "output_type": "execute_result"
    }
   ],
   "source": [
    "sorted(l1,reverse=True) # inbuilt function"
   ]
  },
  {
   "cell_type": "markdown",
   "id": "6fb5aeab-d210-4b75-884c-578e4552b839",
   "metadata": {},
   "source": [
    "- inbuilt function applicable for any data type \n",
    "\n",
    "- with method are works with respect to(wrt) data type"
   ]
  },
  {
   "cell_type": "code",
   "execution_count": 101,
   "id": "b17d89c7-7038-463f-9859-919492e805d7",
   "metadata": {},
   "outputs": [
    {
     "data": {
      "text/plain": [
       "['__add__',\n",
       " '__class__',\n",
       " '__class_getitem__',\n",
       " '__contains__',\n",
       " '__delattr__',\n",
       " '__delitem__',\n",
       " '__dir__',\n",
       " '__doc__',\n",
       " '__eq__',\n",
       " '__format__',\n",
       " '__ge__',\n",
       " '__getattribute__',\n",
       " '__getitem__',\n",
       " '__getstate__',\n",
       " '__gt__',\n",
       " '__hash__',\n",
       " '__iadd__',\n",
       " '__imul__',\n",
       " '__init__',\n",
       " '__init_subclass__',\n",
       " '__iter__',\n",
       " '__le__',\n",
       " '__len__',\n",
       " '__lt__',\n",
       " '__mul__',\n",
       " '__ne__',\n",
       " '__new__',\n",
       " '__reduce__',\n",
       " '__reduce_ex__',\n",
       " '__repr__',\n",
       " '__reversed__',\n",
       " '__rmul__',\n",
       " '__setattr__',\n",
       " '__setitem__',\n",
       " '__sizeof__',\n",
       " '__str__',\n",
       " '__subclasshook__',\n",
       " 'append',\n",
       " 'clear',\n",
       " 'copy',\n",
       " 'count',\n",
       " 'extend',\n",
       " 'index',\n",
       " 'insert',\n",
       " 'pop',\n",
       " 'remove',\n",
       " 'reverse',\n",
       " 'sort']"
      ]
     },
     "execution_count": 101,
     "metadata": {},
     "output_type": "execute_result"
    }
   ],
   "source": [
    "dir([])"
   ]
  },
  {
   "cell_type": "code",
   "execution_count": null,
   "id": "326cc9f7-5e70-48b7-baee-63c19ae9bfdf",
   "metadata": {},
   "outputs": [],
   "source": []
  }
 ],
 "metadata": {
  "kernelspec": {
   "display_name": "Python 3 (ipykernel)",
   "language": "python",
   "name": "python3"
  },
  "language_info": {
   "codemirror_mode": {
    "name": "ipython",
    "version": 3
   },
   "file_extension": ".py",
   "mimetype": "text/x-python",
   "name": "python",
   "nbconvert_exporter": "python",
   "pygments_lexer": "ipython3",
   "version": "3.12.7"
  }
 },
 "nbformat": 4,
 "nbformat_minor": 5
}
