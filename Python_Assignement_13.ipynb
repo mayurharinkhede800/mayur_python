{
 "cells": [
  {
   "cell_type": "code",
   "execution_count": null,
   "id": "998894b4-28ba-463f-871b-30b36a5feb38",
   "metadata": {},
   "outputs": [],
   "source": [
    "- count\n",
    "\n",
    "- replace\n",
    "\n",
    "- find\n",
    "\n",
    "- index\n"
   ]
  },
  {
   "cell_type": "markdown",
   "id": "71dd1f8e-ff4e-49fb-a5d8-2638e05222a3",
   "metadata": {},
   "source": [
    "**count**"
   ]
  },
  {
   "cell_type": "code",
   "execution_count": 1,
   "id": "25f95b52-9282-4588-93da-8152cbccd38d",
   "metadata": {},
   "outputs": [
    {
     "data": {
      "text/plain": [
       "2"
      ]
     },
     "execution_count": 1,
     "metadata": {},
     "output_type": "execute_result"
    }
   ],
   "source": [
    "str1='this is count method'\n",
    "str1.count('i')\n"
   ]
  },
  {
   "cell_type": "code",
   "execution_count": 2,
   "id": "abb2dbfb-400c-4a59-923a-2830a758267f",
   "metadata": {},
   "outputs": [
    {
     "data": {
      "text/plain": [
       "2"
      ]
     },
     "execution_count": 2,
     "metadata": {},
     "output_type": "execute_result"
    }
   ],
   "source": [
    "str1.count('o')"
   ]
  },
  {
   "cell_type": "code",
   "execution_count": 6,
   "id": "88b51fd9-2a97-4ca7-a3f5-037c36847305",
   "metadata": {},
   "outputs": [
    {
     "data": {
      "text/plain": [
       "1"
      ]
     },
     "execution_count": 6,
     "metadata": {},
     "output_type": "execute_result"
    }
   ],
   "source": [
    "str1.count('o',5,15)"
   ]
  },
  {
   "cell_type": "code",
   "execution_count": 8,
   "id": "1bdc28f3-36bd-4922-b010-e2fed7ab5835",
   "metadata": {},
   "outputs": [
    {
     "data": {
      "text/plain": [
       "1"
      ]
     },
     "execution_count": 8,
     "metadata": {},
     "output_type": "execute_result"
    }
   ],
   "source": [
    "str1.count('o',15)"
   ]
  },
  {
   "cell_type": "code",
   "execution_count": 9,
   "id": "de5d4b46-8869-490a-a36b-6d2750a0346e",
   "metadata": {},
   "outputs": [
    {
     "data": {
      "text/plain": [
       "0"
      ]
     },
     "execution_count": 9,
     "metadata": {},
     "output_type": "execute_result"
    }
   ],
   "source": [
    "str1.count('x')"
   ]
  },
  {
   "cell_type": "markdown",
   "id": "2c35adea-defc-464b-8638-0578be350a59",
   "metadata": {},
   "source": [
    "**replace**"
   ]
  },
  {
   "cell_type": "code",
   "execution_count": 12,
   "id": "886562ec-5449-4ff0-a4f7-e34e2dd1cb27",
   "metadata": {},
   "outputs": [
    {
     "data": {
      "text/plain": [
       "'hii bacchhon'"
      ]
     },
     "execution_count": 12,
     "metadata": {},
     "output_type": "execute_result"
    }
   ],
   "source": [
    "str1=('hello bacchhon')\n",
    "str1.replace('hello','hii')"
   ]
  },
  {
   "cell_type": "code",
   "execution_count": 18,
   "id": "425b3836-fccb-4815-8e37-ed912d236ba2",
   "metadata": {},
   "outputs": [
    {
     "data": {
      "text/plain": [
       "'hello bacchhon'"
      ]
     },
     "execution_count": 18,
     "metadata": {},
     "output_type": "execute_result"
    }
   ],
   "source": [
    "str1.replace('hi','hello')"
   ]
  },
  {
   "cell_type": "code",
   "execution_count": 29,
   "id": "49517c94-06be-4155-b189-40b8e77a28d5",
   "metadata": {},
   "outputs": [
    {
     "data": {
      "text/plain": [
       "'hello baCChhon'"
      ]
     },
     "execution_count": 29,
     "metadata": {},
     "output_type": "execute_result"
    }
   ],
   "source": [
    "str1=('hello bacchhon')\n",
    "str1.replace('c','C',11)"
   ]
  },
  {
   "cell_type": "markdown",
   "id": "3c0b1a49-05a9-49ea-9dfa-cec4d6cd6a54",
   "metadata": {},
   "source": [
    "**index**"
   ]
  },
  {
   "cell_type": "code",
   "execution_count": 32,
   "id": "550428f6-633f-44d5-8b4c-a5e9053c0316",
   "metadata": {},
   "outputs": [
    {
     "data": {
      "text/plain": [
       "4"
      ]
     },
     "execution_count": 32,
     "metadata": {},
     "output_type": "execute_result"
    }
   ],
   "source": [
    "str1='hii python'\n",
    "str1.index('p')"
   ]
  },
  {
   "cell_type": "code",
   "execution_count": 6,
   "id": "99c84e27-4866-43ee-8a68-4cf0f60b2062",
   "metadata": {},
   "outputs": [
    {
     "data": {
      "text/plain": [
       "2"
      ]
     },
     "execution_count": 6,
     "metadata": {},
     "output_type": "execute_result"
    }
   ],
   "source": [
    "str1='hii python'\n",
    "str1.index('i',2)"
   ]
  },
  {
   "cell_type": "code",
   "execution_count": 4,
   "id": "1d62845e-2856-44f3-b641-74e2e78f5410",
   "metadata": {},
   "outputs": [
    {
     "ename": "ValueError",
     "evalue": "substring not found",
     "output_type": "error",
     "traceback": [
      "\u001b[1;31m---------------------------------------------------------------------------\u001b[0m",
      "\u001b[1;31mValueError\u001b[0m                                Traceback (most recent call last)",
      "Cell \u001b[1;32mIn[4], line 1\u001b[0m\n\u001b[1;32m----> 1\u001b[0m str1\u001b[38;5;241m.\u001b[39mindex(\u001b[38;5;124m'\u001b[39m\u001b[38;5;124ml\u001b[39m\u001b[38;5;124m'\u001b[39m)\n",
      "\u001b[1;31mValueError\u001b[0m: substring not found"
     ]
    }
   ],
   "source": [
    "str1.index('l')"
   ]
  },
  {
   "cell_type": "markdown",
   "id": "9d88554e-2ebc-47ba-9f48-c9a66c7683d5",
   "metadata": {},
   "source": [
    "**find**"
   ]
  },
  {
   "cell_type": "code",
   "execution_count": 9,
   "id": "0a555660-b6d0-47d5-baf8-b9a2c2454b48",
   "metadata": {},
   "outputs": [
    {
     "data": {
      "text/plain": [
       "2"
      ]
     },
     "execution_count": 9,
     "metadata": {},
     "output_type": "execute_result"
    }
   ],
   "source": [
    "str1=('hello python')\n",
    "str1.find('l')"
   ]
  },
  {
   "cell_type": "code",
   "execution_count": 11,
   "id": "3d5274f6-1a58-4bfd-9a4e-e2b9e09dcd25",
   "metadata": {},
   "outputs": [
    {
     "data": {
      "text/plain": [
       "-1"
      ]
     },
     "execution_count": 11,
     "metadata": {},
     "output_type": "execute_result"
    }
   ],
   "source": [
    "str1.find('x')"
   ]
  },
  {
   "cell_type": "code",
   "execution_count": null,
   "id": "3f36bddd-0dd0-4e4e-a57e-c688b5f97a24",
   "metadata": {},
   "outputs": [],
   "source": []
  }
 ],
 "metadata": {
  "kernelspec": {
   "display_name": "Python 3 (ipykernel)",
   "language": "python",
   "name": "python3"
  },
  "language_info": {
   "codemirror_mode": {
    "name": "ipython",
    "version": 3
   },
   "file_extension": ".py",
   "mimetype": "text/x-python",
   "name": "python",
   "nbconvert_exporter": "python",
   "pygments_lexer": "ipython3",
   "version": "3.12.7"
  }
 },
 "nbformat": 4,
 "nbformat_minor": 5
}
