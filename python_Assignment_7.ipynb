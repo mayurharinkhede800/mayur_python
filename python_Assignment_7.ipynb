{
 "cells": [
  {
   "cell_type": "code",
   "execution_count": null,
   "id": "af53fad7-9eb0-4624-ad59-40e9dac8fc1a",
   "metadata": {},
   "outputs": [],
   "source": []
  },
  {
   "cell_type": "code",
   "execution_count": 7,
   "id": "8d87bcf7-66c5-44cf-879c-c7f672c300d1",
   "metadata": {},
   "outputs": [
    {
     "name": "stdin",
     "output_type": "stream",
     "text": [
      "enter the number: 10\n",
      "enter second number 20\n",
      "enter third number 30\n"
     ]
    },
    {
     "name": "stdout",
     "output_type": "stream",
     "text": [
      "average of three numbers 20.0\n"
     ]
    }
   ],
   "source": [
    "# 1)wap ask the user enter 3 numbers n1,n2,n3 from ketboard\n",
    "# calculate average\n",
    "\n",
    "def average():\n",
    "    n1 = eval(input(\"enter the number:\"))\n",
    "    n2 = eval(input(\"enter second number\"))\n",
    "    n3 = eval(input(\"enter third number\"))\n",
    "    return(n1 + n2 + n3)/3\n",
    "    \n",
    "average1 =average()\n",
    "print(f\"average of three numbers {average1}\")"
   ]
  },
  {
   "cell_type": "code",
   "execution_count": 11,
   "id": "b0c86ba3-8f0d-4b42-bb28-17f5794dbf74",
   "metadata": {},
   "outputs": [
    {
     "name": "stdin",
     "output_type": "stream",
     "text": [
      "enter name  pytjon\n",
      "enter age 10\n",
      "city hyd\n"
     ]
    },
    {
     "name": "stdout",
     "output_type": "stream",
     "text": [
      "my name is pytjon im 10 years old and came from hyd\n"
     ]
    }
   ],
   "source": [
    "# 2)wap ask the user enter name age city\n",
    "# print my name is python im 10 years old and came from hyd\n",
    "\n",
    "def python_name():\n",
    "    name = input(\"enter name \")\n",
    "    age = eval(input(\"enter age\"))\n",
    "    city = input(\"city\")\n",
    "    print(f'my name is {name} im {age} years old and came from {city}')\n",
    "python_name()\n"
   ]
  },
  {
   "cell_type": "code",
   "execution_count": 14,
   "id": "bb429467-9fed-4a18-9323-8e79c1a65043",
   "metadata": {},
   "outputs": [
    {
     "name": "stdin",
     "output_type": "stream",
     "text": [
      "enter the radius  5\n"
     ]
    },
    {
     "name": "stdout",
     "output_type": "stream",
     "text": [
      "area of circle is 78.5\n"
     ]
    }
   ],
   "source": [
    "# 3)wap ask the user to enter radidus of a circle calculate area of the circle\n",
    "# var: radidus  var: pi=3.14\n",
    "# formuale: pi*radius*radius\n",
    "# print the answers using f string and format\n",
    "def area_circle():\n",
    "    radius = eval(input(\"enter the radius \"))\n",
    "    area = 3.14 * radius * radius\n",
    "    print(f\"area of circle is {area}\")\n",
    "area_circle()"
   ]
  },
  {
   "cell_type": "code",
   "execution_count": 16,
   "id": "4dd3b5ba-b8d8-4a0b-a538-176996b836b8",
   "metadata": {},
   "outputs": [
    {
     "name": "stdin",
     "output_type": "stream",
     "text": [
      "enter the length  10\n",
      "enter the breadth  20\n"
     ]
    },
    {
     "name": "stdout",
     "output_type": "stream",
     "text": [
      "area of right angle triangle is 100.0\n"
     ]
    }
   ],
   "source": [
    "# 4)wap ask the user enter breadth and height of a right angle triangle\n",
    "# calculate the area\n",
    "# var1: bredath  var2: height\n",
    "# formuale : 0.5*breadth*heigh\n",
    "\n",
    "def area_right_angle():\n",
    "    length = eval(input(\"enter the length \"))\n",
    "    breadth = eval(input(\"enter the breadth \"))\n",
    "    area_rat = 0.5 * length * breadth \n",
    "    print(f\"area of right angle triangle is {area_rat}\")\n",
    "area_right_angle()"
   ]
  },
  {
   "cell_type": "code",
   "execution_count": 18,
   "id": "dc1d1152-f35a-4187-996f-e7071c95a620",
   "metadata": {},
   "outputs": [
    {
     "name": "stdin",
     "output_type": "stream",
     "text": [
      "enter bill amount 1000\n",
      "enter tip amount 100\n"
     ]
    },
    {
     "name": "stdout",
     "output_type": "stream",
     "text": [
      "total bill is 1100\n"
     ]
    }
   ],
   "source": [
    "# 5)wap ask the user the bill amount and tip amount\n",
    "#   calculate total bill\n",
    "#   var1: bill amount var2: tip amount\n",
    "#   formuale\n",
    "\n",
    "def btamount():\n",
    "    bill_amount = eval(input(\"enter bill amount\"))\n",
    "    tip_amount = eval(input(\"enter tip amount\"))\n",
    "    total_bill = bill_amount + tip_amount\n",
    "    print(f\"total bill is {total_bill}\")\n",
    "btamount()\n",
    "    "
   ]
  },
  {
   "cell_type": "code",
   "execution_count": 20,
   "id": "e1a85895-62a4-4058-bea6-f3731c5c9f4f",
   "metadata": {},
   "outputs": [
    {
     "name": "stdin",
     "output_type": "stream",
     "text": [
      "enter bill amount: 1000\n",
      "enter tip percentage: 10\n"
     ]
    },
    {
     "name": "stdout",
     "output_type": "stream",
     "text": [
      "total bill is 1100.0\n"
     ]
    }
   ],
   "source": [
    "# 6)wap ask the user the bill amount and tip percentage\n",
    "#    take tip percentage as 10\n",
    "#   calculate total bill= bill amount+ bill amount*tip per/100\n",
    "#   var1: bill amount var2: tip amount\n",
    "#    formuale\n",
    "def btamount1():\n",
    "    bill_amount = eval(input(\"enter bill amount:\"))\n",
    "    tip_per = eval(input(\"enter tip percentage:\"))\n",
    "    total_bill = bill_amount + bill_amount * tip_per / 100\n",
    "    print(f\"total bill is {total_bill}\")\n",
    "btamount1()\n"
   ]
  },
  {
   "cell_type": "code",
   "execution_count": 22,
   "id": "9d2164d3-2035-438d-b76c-b1358b148d1f",
   "metadata": {},
   "outputs": [
    {
     "name": "stdin",
     "output_type": "stream",
     "text": [
      "enter length 10\n",
      "enter breadth 20\n"
     ]
    },
    {
     "name": "stdout",
     "output_type": "stream",
     "text": [
      "area of rectangle is 200\n"
     ]
    }
   ],
   "source": [
    "# 7)wap ask the length and breadth of a rectangle calculate area\n",
    "#   var1: length  var2: breadth\n",
    "#   formulae: length * breadth\n",
    "\n",
    "def area_of_rect():\n",
    "    length = eval(input(\"enter length\"))\n",
    "    breadth = eval(input(\"enter breadth\"))\n",
    "    area_rect = length * breadth\n",
    "    print(f\"area of rectangle is {area_rect}\")\n",
    "area_of_rect()\n",
    "    "
   ]
  },
  {
   "cell_type": "code",
   "execution_count": 23,
   "id": "7f531d93-131a-4b93-bdcc-e567e5906fcc",
   "metadata": {},
   "outputs": [
    {
     "name": "stdin",
     "output_type": "stream",
     "text": [
      "enter the radius of sphere 5\n"
     ]
    },
    {
     "name": "stdout",
     "output_type": "stream",
     "text": [
      "the volume of sphere is 392.5\n"
     ]
    }
   ],
   "source": [
    "# 8) wap ask the user take the radius and calculate volume of sphere\n",
    "#   formulae: pi*r**3(pi*r*r*r)\n",
    "\n",
    "def volume_sphere():\n",
    "    radius = eval(input(\"enter the radius of sphere\"))\n",
    "    volume_sphere = 3.14 * radius * radius * radius\n",
    "    print(f\"the volume of sphere is {volume_sphere}\")\n",
    "volume_sphere()"
   ]
  },
  {
   "cell_type": "code",
   "execution_count": 27,
   "id": "9ecc29af-3b85-4585-93b6-01fb86b64bb3",
   "metadata": {},
   "outputs": [
    {
     "name": "stdin",
     "output_type": "stream",
     "text": [
      "enter the dollar 10\n"
     ]
    },
    {
     "name": "stdout",
     "output_type": "stream",
     "text": [
      "10 in rupees is 865.40\n"
     ]
    }
   ],
   "source": [
    "# 9) wap ask the user enter amount in dollars convert into rupees\n",
    "#     1$=85rs\n",
    "def dollarToRupees():\n",
    "    dollar = eval(input(\"enter the dollar\"))\n",
    "    indRupees = dollar * 86.54\n",
    "    print(f\"{dollar} in rupees is {indRupees:.2f}\")\n",
    "dollarToRupees()\n",
    "    "
   ]
  },
  {
   "cell_type": "code",
   "execution_count": 30,
   "id": "3491d351-0bbc-4cf5-afb5-86a62dd63a72",
   "metadata": {},
   "outputs": [
    {
     "name": "stdin",
     "output_type": "stream",
     "text": [
      "enter the weight in kgs  10\n"
     ]
    },
    {
     "name": "stdout",
     "output_type": "stream",
     "text": [
      "weight in pounds is:22.0\n"
     ]
    }
   ],
   "source": [
    "# 10)wap ask the user enter weight in kgs convert into pounds\n",
    "#    1kg= 2.2pounds\n",
    "\n",
    "def weightToPound():\n",
    "    weight = eval(input(\"enter the weight in kgs \"))\n",
    "    pounds = weight * 2.2\n",
    "    print(f\"weight in posunds is:{pounds}\")\n",
    "weightToPound()"
   ]
  },
  {
   "cell_type": "code",
   "execution_count": null,
   "id": "6b59b070-0d20-424d-8da3-fc9752cffaac",
   "metadata": {},
   "outputs": [],
   "source": []
  }
 ],
 "metadata": {
  "kernelspec": {
   "display_name": "Python 3 (ipykernel)",
   "language": "python",
   "name": "python3"
  },
  "language_info": {
   "codemirror_mode": {
    "name": "ipython",
    "version": 3
   },
   "file_extension": ".py",
   "mimetype": "text/x-python",
   "name": "python",
   "nbconvert_exporter": "python",
   "pygments_lexer": "ipython3",
   "version": "3.12.7"
  }
 },
 "nbformat": 4,
 "nbformat_minor": 5
}
